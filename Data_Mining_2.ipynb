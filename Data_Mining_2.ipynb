{
  "nbformat": 4,
  "nbformat_minor": 0,
  "metadata": {
    "colab": {
      "provenance": [],
      "authorship_tag": "ABX9TyMlTntaQUhaFjtEWMSohKFr",
      "include_colab_link": true
    },
    "kernelspec": {
      "name": "python3",
      "display_name": "Python 3"
    },
    "language_info": {
      "name": "python"
    }
  },
  "cells": [
    {
      "cell_type": "markdown",
      "metadata": {
        "id": "view-in-github",
        "colab_type": "text"
      },
      "source": [
        "<a href=\"https://colab.research.google.com/github/GeorgeSakketos/Data_Mining_Exercice_02/blob/main/Data_Mining_2.ipynb\" target=\"_parent\"><img src=\"https://colab.research.google.com/assets/colab-badge.svg\" alt=\"Open In Colab\"/></a>"
      ]
    },
    {
      "cell_type": "markdown",
      "source": [
        "# Connect Google Drive"
      ],
      "metadata": {
        "id": "MZdDfwfDvOM7"
      }
    },
    {
      "cell_type": "code",
      "execution_count": null,
      "metadata": {
        "colab": {
          "base_uri": "https://localhost:8080/"
        },
        "id": "4dQ4s_a3um25",
        "outputId": "43480459-286c-45de-f29c-1d9386525645"
      },
      "outputs": [
        {
          "output_type": "stream",
          "name": "stdout",
          "text": [
            "Mounted at /content/gdrive\n"
          ]
        }
      ],
      "source": [
        "from google.colab import drive\n",
        "drive.mount('/content/gdrive')"
      ]
    },
    {
      "cell_type": "markdown",
      "source": [
        "# **Μέρος 1**"
      ],
      "metadata": {
        "id": "nXBBv32iv6ju"
      }
    },
    {
      "cell_type": "code",
      "source": [
        "# Dependences\n",
        "!pip install transformers emoji langdetect langid"
      ],
      "metadata": {
        "colab": {
          "base_uri": "https://localhost:8080/"
        },
        "id": "n-07vLa03J--",
        "outputId": "f3d34cfa-dae2-4b93-fa31-be24414eb0a6"
      },
      "execution_count": null,
      "outputs": [
        {
          "output_type": "stream",
          "name": "stdout",
          "text": [
            "Requirement already satisfied: transformers in /usr/local/lib/python3.10/dist-packages (4.41.0)\n",
            "Collecting emoji\n",
            "  Downloading emoji-2.12.1-py3-none-any.whl (431 kB)\n",
            "\u001b[2K     \u001b[90m━━━━━━━━━━━━━━━━━━━━━━━━━━━━━━━━━━━━━━━━\u001b[0m \u001b[32m431.4/431.4 kB\u001b[0m \u001b[31m3.1 MB/s\u001b[0m eta \u001b[36m0:00:00\u001b[0m\n",
            "\u001b[?25hCollecting langdetect\n",
            "  Downloading langdetect-1.0.9.tar.gz (981 kB)\n",
            "\u001b[2K     \u001b[90m━━━━━━━━━━━━━━━━━━━━━━━━━━━━━━━━━━━━━━━━\u001b[0m \u001b[32m981.5/981.5 kB\u001b[0m \u001b[31m17.7 MB/s\u001b[0m eta \u001b[36m0:00:00\u001b[0m\n",
            "\u001b[?25h  Preparing metadata (setup.py) ... \u001b[?25l\u001b[?25hdone\n",
            "Collecting langid\n",
            "  Downloading langid-1.1.6.tar.gz (1.9 MB)\n",
            "\u001b[2K     \u001b[90m━━━━━━━━━━━━━━━━━━━━━━━━━━━━━━━━━━━━━━━━\u001b[0m \u001b[32m1.9/1.9 MB\u001b[0m \u001b[31m38.4 MB/s\u001b[0m eta \u001b[36m0:00:00\u001b[0m\n",
            "\u001b[?25h  Preparing metadata (setup.py) ... \u001b[?25l\u001b[?25hdone\n",
            "Requirement already satisfied: filelock in /usr/local/lib/python3.10/dist-packages (from transformers) (3.14.0)\n",
            "Requirement already satisfied: huggingface-hub<1.0,>=0.23.0 in /usr/local/lib/python3.10/dist-packages (from transformers) (0.23.1)\n",
            "Requirement already satisfied: numpy>=1.17 in /usr/local/lib/python3.10/dist-packages (from transformers) (1.25.2)\n",
            "Requirement already satisfied: packaging>=20.0 in /usr/local/lib/python3.10/dist-packages (from transformers) (24.0)\n",
            "Requirement already satisfied: pyyaml>=5.1 in /usr/local/lib/python3.10/dist-packages (from transformers) (6.0.1)\n",
            "Requirement already satisfied: regex!=2019.12.17 in /usr/local/lib/python3.10/dist-packages (from transformers) (2023.12.25)\n",
            "Requirement already satisfied: requests in /usr/local/lib/python3.10/dist-packages (from transformers) (2.31.0)\n",
            "Requirement already satisfied: tokenizers<0.20,>=0.19 in /usr/local/lib/python3.10/dist-packages (from transformers) (0.19.1)\n",
            "Requirement already satisfied: safetensors>=0.4.1 in /usr/local/lib/python3.10/dist-packages (from transformers) (0.4.3)\n",
            "Requirement already satisfied: tqdm>=4.27 in /usr/local/lib/python3.10/dist-packages (from transformers) (4.66.4)\n",
            "Requirement already satisfied: typing-extensions>=4.7.0 in /usr/local/lib/python3.10/dist-packages (from emoji) (4.11.0)\n",
            "Requirement already satisfied: six in /usr/local/lib/python3.10/dist-packages (from langdetect) (1.16.0)\n",
            "Requirement already satisfied: fsspec>=2023.5.0 in /usr/local/lib/python3.10/dist-packages (from huggingface-hub<1.0,>=0.23.0->transformers) (2023.6.0)\n",
            "Requirement already satisfied: charset-normalizer<4,>=2 in /usr/local/lib/python3.10/dist-packages (from requests->transformers) (3.3.2)\n",
            "Requirement already satisfied: idna<4,>=2.5 in /usr/local/lib/python3.10/dist-packages (from requests->transformers) (3.7)\n",
            "Requirement already satisfied: urllib3<3,>=1.21.1 in /usr/local/lib/python3.10/dist-packages (from requests->transformers) (2.0.7)\n",
            "Requirement already satisfied: certifi>=2017.4.17 in /usr/local/lib/python3.10/dist-packages (from requests->transformers) (2024.2.2)\n",
            "Building wheels for collected packages: langdetect, langid\n",
            "  Building wheel for langdetect (setup.py) ... \u001b[?25l\u001b[?25hdone\n",
            "  Created wheel for langdetect: filename=langdetect-1.0.9-py3-none-any.whl size=993227 sha256=810cf7c0f539952ed4c1adf6f71c199bec989564a238374aabbab6cce351ba54\n",
            "  Stored in directory: /root/.cache/pip/wheels/95/03/7d/59ea870c70ce4e5a370638b5462a7711ab78fba2f655d05106\n",
            "  Building wheel for langid (setup.py) ... \u001b[?25l\u001b[?25hdone\n",
            "  Created wheel for langid: filename=langid-1.1.6-py3-none-any.whl size=1941172 sha256=6b4252725dc5d88880bb463de76d7cb196f4844b9f828491ace6aff1d2c54ca6\n",
            "  Stored in directory: /root/.cache/pip/wheels/23/c8/c6/eed80894918490a175677414d40bd7c851413bbe03d4856c3c\n",
            "Successfully built langdetect langid\n",
            "Installing collected packages: langid, langdetect, emoji\n",
            "Successfully installed emoji-2.12.1 langdetect-1.0.9 langid-1.1.6\n"
          ]
        }
      ]
    },
    {
      "cell_type": "code",
      "source": [
        "import pandas as pd\n",
        "import numpy as np\n",
        "from transformers import pipeline\n",
        "from nltk.corpus import stopwords\n",
        "from nltk.tokenize import word_tokenize\n",
        "from langdetect import detect\n",
        "import string\n",
        "import re\n",
        "import nltk\n",
        "import sys\n",
        "\n",
        "nltk.download('stopwords')\n",
        "nltk.download('punkt')\n",
        "\n",
        "print('Python version ' + sys.version)\n",
        "\n",
        "filePath = '/content/gdrive/My Drive/Data_Mining_CSV/2023/'"
      ],
      "metadata": {
        "colab": {
          "base_uri": "https://localhost:8080/"
        },
        "id": "bdZa0I-Av91k",
        "outputId": "febc3f05-a963-4d49-f5ba-95a7d3722cdb"
      },
      "execution_count": null,
      "outputs": [
        {
          "output_type": "stream",
          "name": "stdout",
          "text": [
            "Python version 3.10.12 (main, Nov 20 2023, 15:14:05) [GCC 11.4.0]\n"
          ]
        },
        {
          "output_type": "stream",
          "name": "stderr",
          "text": [
            "[nltk_data] Downloading package stopwords to /root/nltk_data...\n",
            "[nltk_data]   Package stopwords is already up-to-date!\n",
            "[nltk_data] Downloading package punkt to /root/nltk_data...\n",
            "[nltk_data]   Package punkt is already up-to-date!\n"
          ]
        }
      ]
    },
    {
      "cell_type": "markdown",
      "source": [
        "June"
      ],
      "metadata": {
        "id": "RH241NuNwR-_"
      }
    },
    {
      "cell_type": "code",
      "source": [
        "#Read June CSV\n",
        "filePath_june = filePath + 'june/'\n",
        "june_listings_2023 = pd.read_csv(filePath_june + 'reviews.csv', thousands = ',')\n",
        "\n",
        "# Keep the Columns we want\n",
        "june_listings_2023 = june_listings_2023[['id', 'comments']]"
      ],
      "metadata": {
        "id": "u3tj4rwCwcRq"
      },
      "execution_count": null,
      "outputs": []
    },
    {
      "cell_type": "markdown",
      "source": [
        "March"
      ],
      "metadata": {
        "id": "5TzNcxdqxNMv"
      }
    },
    {
      "cell_type": "code",
      "source": [
        "#Read March CSV\n",
        "filePath_march = filePath + 'march/'\n",
        "march_listings_2023 = pd.read_csv(filePath_march + 'reviews.csv', thousands = ',')\n",
        "\n",
        "# Keep the Columns we want\n",
        "march_listings_2023 = march_listings_2023[['id', 'comments']]"
      ],
      "metadata": {
        "id": "fIvfoEyexO0c"
      },
      "execution_count": null,
      "outputs": []
    },
    {
      "cell_type": "markdown",
      "source": [
        "September"
      ],
      "metadata": {
        "id": "ym515YjTxXlH"
      }
    },
    {
      "cell_type": "code",
      "source": [
        "#Read September CSV\n",
        "filePath_september = filePath + 'september/'\n",
        "september_listings_2023 = pd.read_csv(filePath_september + 'reviews.csv', thousands = ',')\n",
        "\n",
        "# Keep the Columns we want\n",
        "september_listings_2023 = september_listings_2023[['id', 'comments']]"
      ],
      "metadata": {
        "id": "hvbF98d0xZAZ"
      },
      "execution_count": null,
      "outputs": []
    },
    {
      "cell_type": "markdown",
      "source": [
        "Combine Dataframes"
      ],
      "metadata": {
        "id": "m0jmWxt6xora"
      }
    },
    {
      "cell_type": "code",
      "source": [
        "dfs = [june_listings_2023, march_listings_2023, september_listings_2023]\n",
        "\n",
        "# Combine June, March and September into one Dataframe\n",
        "final_reviews_2023 = pd.concat(dfs, ignore_index = True)\n",
        "\n",
        "# Reset Index\n",
        "final_reviews_2023 = final_reviews_2023.reset_index(drop=True)"
      ],
      "metadata": {
        "id": "i6CxZwwSxqc6"
      },
      "execution_count": null,
      "outputs": []
    },
    {
      "cell_type": "markdown",
      "source": [
        "Clean the Data"
      ],
      "metadata": {
        "id": "kqN5zbxWywqC"
      }
    },
    {
      "cell_type": "code",
      "source": [
        "# Rename 'comments' column to 'review'\n",
        "final_reviews_2023 = final_reviews_2023.rename(columns={\"comments\": \"review\"})\n",
        "\n",
        "# Remove NaN lines\n",
        "final_reviews_2023 = final_reviews_2023.dropna()\n",
        "\n",
        "# Remove Duplicate IDs\n",
        "final_reviews_2023 = final_reviews_2023.drop_duplicates(subset='id', keep='first')\n",
        "\n",
        "# Convert 'review' to lowercase\n",
        "final_reviews_2023['review'] = final_reviews_2023['review'].str.lower()\n",
        "\n",
        "# Remove emojis\n",
        "final_reviews_2023['review'] = final_reviews_2023['review'].str.replace(r'[\\U0001F600-\\U0001F64F]', '', regex=True)  # emoticons\n",
        "final_reviews_2023['review'] = final_reviews_2023['review'].str.replace(r'[\\U0001F300-\\U0001F5FF]', '', regex=True)  # symbols & pictographs\n",
        "final_reviews_2023['review'] = final_reviews_2023['review'].str.replace(r'[\\U0001F680-\\U0001F6FF]', '', regex=True)  # transport & map symbols\n",
        "final_reviews_2023['review'] = final_reviews_2023['review'].str.replace(r'[\\U0001F1E0-\\U0001F1FF]', '', regex=True)  # flags (iOS)\n",
        "\n",
        "# Remove URLs\n",
        "final_reviews_2023['review'] = final_reviews_2023['review'].str.replace(r'http\\S+|www.\\S+', '', regex=True)\n",
        "\n",
        "# Remove hashtags\n",
        "final_reviews_2023['review'] = final_reviews_2023['review'].str.replace(r'#\\w+', '', regex=True)\n",
        "\n",
        "# Remove special characters (keeping only alphanumeric and spaces)\n",
        "final_reviews_2023['review'] = final_reviews_2023['review'].str.replace(r'[^A-Za-z0-9 ]+', '', regex=True)\n",
        "\n",
        "# Remove stopwords\n",
        "stop_words = set(stopwords.words('english'))\n",
        "final_reviews_2023['review'] = final_reviews_2023['review'].apply(lambda x: ' '.join(word for word in x.split() if word not in stop_words))\n",
        "\n",
        "final_reviews_2023 = final_reviews_2023.reset_index(drop = True)\n",
        "pd.set_option('display.max_colwidth', None)\n",
        "print(final_reviews_2023['review'])"
      ],
      "metadata": {
        "collapsed": true,
        "id": "e4OC_0BcyyZC",
        "colab": {
          "base_uri": "https://localhost:8080/"
        },
        "outputId": "f59efc42-272b-444d-dcad-f98725cf5388"
      },
      "execution_count": null,
      "outputs": [
        {
          "output_type": "stream",
          "name": "stdout",
          "text": [
            "0                                                                                                                                                                                                                                                                              apartment wonderful fully equiped beautiful decor comfortable verry clean would stay possibly another host properties close metro markets grocery store conveniences\n",
            "1         emmanouil excellent host provided us everything need make feel right home gave us tips directions destinations even prior trip kept close contact gave us specific easy instructions get place place spacious comfortable everything neat organized always great place come back adventurous day athens transportation easily accessible place located quiet neighborhood stay amazing experience wouldnt hesitate stay recommend friends\n",
            "2                                                                                                                                                                                        wife daughter spent five days beauty light colors athens also thanks home soula apartment enjoyed space indoor outdoor furniture paintings mosaics know soula person known loved taste generous hospitality therefore highly recommend apartment hope back\n",
            "3                                                                                                           great stay soulas apartment loved decoration furniture paintings mosaics amd relaxing terrace apartment good energy makes relax clean also close metro station taxi stop soula accessible ever needed anything responded immediately although dont know soula person like generous hospitalityi highly recommend staying hope visit day\n",
            "4                                                                                                                                                                          beautiful clean apartment plenty space stayed partner lovely time even though booked last minute like 8pm day arrived midnight soula incredibly kind arranged driver waiting pick us fully stocked cookware incredibly comfy sofa nice quiet evening perfect thank soula\n",
            "                                                                                                                                                                                                                            ...                                                                                                                                                                                                                    \n",
            "598926                                                                                                                                                                                                                                                                                                                                                                                                                                             \n",
            "598927                                                                                                                                                                                                                                                                                                                                                                                                                                           br\n",
            "598928                                                                                                                                                                                                                                                                                                                                                                                                                                             \n",
            "598929                                                                                                                                                                                                                                                                                                                                                                                                                                 br cozy brbr\n",
            "598930                                                                                                                                                                                                                                                                                                                                                                                                                                             \n",
            "Name: review, Length: 598931, dtype: object\n"
          ]
        }
      ]
    },
    {
      "cell_type": "markdown",
      "source": [
        "Export Dataframe to CSV"
      ],
      "metadata": {
        "id": "lMtScmkV0Qy9"
      }
    },
    {
      "cell_type": "code",
      "source": [
        "final_reviews_2023.to_csv('/content/gdrive/My Drive/Data_Mining_CSV/2023/comments_2023.csv', index = False)"
      ],
      "metadata": {
        "id": "JT1woIRP0S_N"
      },
      "execution_count": null,
      "outputs": []
    },
    {
      "cell_type": "markdown",
      "source": [
        "Open comments_2023 CSV"
      ],
      "metadata": {
        "id": "g3TcmoRt0asw"
      }
    },
    {
      "cell_type": "code",
      "source": [
        "comments_2023 = pd.read_csv(filePath + 'comments_2023.csv')"
      ],
      "metadata": {
        "id": "4itHxfYSr8Iy"
      },
      "execution_count": null,
      "outputs": []
    },
    {
      "cell_type": "markdown",
      "source": [
        "Keep Only English Reviews"
      ],
      "metadata": {
        "id": "3KKAojV1In0s"
      }
    },
    {
      "cell_type": "code",
      "source": [
        "import langid\n",
        "\n",
        "def is_english(text):\n",
        "    lang, _ = langid.classify(text)\n",
        "    return lang == 'en'\n",
        "\n",
        "# Copy the first 50000 reviews and drop rows with NaN values in the 'review' column\n",
        "english_reviews_2023 = comments_2023.head(10000).copy().dropna(subset=['review'])\n",
        "\n",
        "# Apply the is_english function\n",
        "english_reviews_2023.loc[:, 'is_english'] = english_reviews_2023['review'].apply(is_english)\n",
        "\n",
        "# Filter reviews that are in English\n",
        "english_reviews_2023 = english_reviews_2023[english_reviews_2023['is_english']]\n",
        "\n",
        "print(len(english_reviews_2023))"
      ],
      "metadata": {
        "colab": {
          "base_uri": "https://localhost:8080/"
        },
        "id": "uEk4rIchIpoc",
        "outputId": "18dfb1e4-9690-436f-8f37-d93e3a635db1"
      },
      "execution_count": null,
      "outputs": [
        {
          "output_type": "stream",
          "name": "stdout",
          "text": [
            "8126\n"
          ]
        }
      ]
    },
    {
      "cell_type": "markdown",
      "source": [
        "Use HuggingFace Model"
      ],
      "metadata": {
        "id": "ryfKMyyAL4IN"
      }
    },
    {
      "cell_type": "code",
      "source": [
        "from transformers import AutoModelForSequenceClassification, AutoTokenizer\n",
        "import torch\n",
        "\n",
        "english_reviews_2023 = english_reviews_2023.head(1000)\n",
        "\n",
        "# Create a copy\n",
        "english_reviews_2023 = english_reviews_2023.copy()\n",
        "\n",
        "# Model\n",
        "model = AutoModelForSequenceClassification.from_pretrained(\"j-hartmann/sentiment-roberta-large-english-3-classes\")\n",
        "tokenizer = AutoTokenizer.from_pretrained(\"j-hartmann/sentiment-roberta-large-english-3-classes\")\n",
        "nlp = pipeline(\"text-classification\",model = model,tokenizer = tokenizer)\n",
        "\n",
        "# Batch Size (ex. 100)\n",
        "batch_size = 100\n",
        "\n",
        "# Function to split reviews into chunks and process them\n",
        "def batch_process_reviews(reviews, batch_size):\n",
        "  sentiments = []\n",
        "  for i in range(0, len(reviews), batch_size):\n",
        "    print(i)\n",
        "    batch = reviews[i:i + batch_size]\n",
        "    results = nlp(batch.tolist())\n",
        "    sentiments.extend([result['label'] for result in results])\n",
        "  return sentiments\n",
        "\n",
        "# Process reviews and get sentiments\n",
        "reviews = english_reviews_2023['review']\n",
        "english_reviews_2023['sentiment'] = batch_process_reviews(reviews, batch_size)\n",
        "\n",
        "print(english_reviews_2023.tail(30))"
      ],
      "metadata": {
        "colab": {
          "base_uri": "https://localhost:8080/"
        },
        "id": "bDCJez0TL6QN",
        "outputId": "d1cfe6a8-965c-4eb1-c9c6-49480ac28cff"
      },
      "execution_count": null,
      "outputs": [
        {
          "output_type": "stream",
          "name": "stderr",
          "text": [
            "Some weights of the model checkpoint at j-hartmann/sentiment-roberta-large-english-3-classes were not used when initializing RobertaForSequenceClassification: ['roberta.pooler.dense.bias', 'roberta.pooler.dense.weight']\n",
            "- This IS expected if you are initializing RobertaForSequenceClassification from the checkpoint of a model trained on another task or with another architecture (e.g. initializing a BertForSequenceClassification model from a BertForPreTraining model).\n",
            "- This IS NOT expected if you are initializing RobertaForSequenceClassification from the checkpoint of a model that you expect to be exactly identical (initializing a BertForSequenceClassification model from a BertForSequenceClassification model).\n"
          ]
        },
        {
          "output_type": "stream",
          "name": "stdout",
          "text": [
            "0\n",
            "100\n",
            "200\n",
            "300\n",
            "400\n",
            "500\n",
            "600\n",
            "700\n",
            "800\n",
            "900\n",
            "             id  \\\n",
            "1209   42132595   \n",
            "1210   42880906   \n",
            "1212   46293806   \n",
            "1213   46898313   \n",
            "1214   47372696   \n",
            "1215   48403285   \n",
            "1216   49349061   \n",
            "1218   50110504   \n",
            "1220   51076992   \n",
            "1221   52156958   \n",
            "1222  506142716   \n",
            "1223  507120567   \n",
            "1224  508563746   \n",
            "1225  510635774   \n",
            "1226   15862307   \n",
            "1227   15903565   \n",
            "1228   15960120   \n",
            "1229   16015311   \n",
            "1230   16200492   \n",
            "1231   16372257   \n",
            "1232   16452740   \n",
            "1233   16618774   \n",
            "1235   16976482   \n",
            "1236   17059710   \n",
            "1237   17246247   \n",
            "1238   17266918   \n",
            "1239  519780429   \n",
            "1241  524486588   \n",
            "1242  525166229   \n",
            "1245   52999674   \n",
            "\n",
            "                                                                                                                                                                                                                                                                                                                                                                                                                                                                                                                                                                                                                                                                   review  \\\n",
            "1209                                                                                                                                                                                                                                                                     first greek home immediately felt home comfortable stella nice explain functions house right start pygmalion responsive helpful inquiries even helped us book taxi airport house exactly looks like photos vey homey comfortable bit away city center makes great oh mention love local gyro restaurant turn right first left think ate everyday food great location flat near metro supermarket   \n",
            "1210                                                                                                                                                                                                                                                                                                                                                                                                                                               best host stay greece pygmalion attentive helpful visited went beyond help stay enjoyable apartment cozy clean definitely recommend anyone wishes good time greece apartment close train station neighborhood peaceful   \n",
            "1212                                                                                                                                                                                                                                                                                                                                                                                                                                                                                     pygmalion around amazing host apartment impeccable great location offered number suggestions food tours even recommendations legs trip gracious start finish would probably stay   \n",
            "1213                                                                                                                                                                                                                                                                                                                                                                                        sister stayed three nights pygmalionstellas apartment neighborhood little far away center city takes 1015 min metro metro station 5 min walking distance apartment neighborhood quite safe close supermarkets apartment clean cozy exactly see pictures would definitely stay   \n",
            "1214                                                                                                                                                                                                                                                                                                                                                                                                                               girlfriend stayed 3 nights location good takes 10 minutes metro really close apartment modern clean quiet brbras flight 11 pm didnt know put luggage new guest already arrived stella kindly allowed us let apartment great experience   \n",
            "1215                                                  apartment good location well communicated city centre neighbourhood safe bakery grocery stores located 10 minutes walk flat brapartment looks exactly pictures placed advert bri havent met pygmalion personally helpful responsive questions sent email bron first day stella showed us whole flat use amenities even washing machine everything written greek sunday late evening everything nearby closed stella kind helped us ordering pizza us brwe arrived pygmalions apartment group three flat suitable max 4 persons brwe dont negative comments satisfied stay pygmalions apartment brhighly recommended   \n",
            "1216                                                                                                                                                                                                                                                                                                                                  pygmalion helpful provided needed info weeks arrival stella explained us best places go gave us map important places highlightedbrtheir places beautiful clean well located described breven though couldnt get meey pygmalion person always question even booked taxi us leavingbrwe loved place much wonderful highly recommended   \n",
            "1218                                                                                                                                                                                                                                                                                             pygmalion stella wonderful host place looks well taken care neat definitely worth staying access transportation close local restaurants amazing food good people humble grateful amazing experience kafe tis gitonias ladies completely went way even though cafe restaurant gyros nostimoulis wallet friendly delicious breakfast friends great experience locally city   \n",
            "1220                                                                                                                                                                                                                                                                                                                                                                                                                                                                                                                                                                                host went beyond asked extremely accommodating helpful would 100 recommend appreciate   \n",
            "1221                                                                                                                                                                                                                                                                                                                                                                                         pygmalion wonderful host helpful beginning throughout trip stella shown us apartment spotless exactly shown pictures location also really great good connection metro city center important sights city two thumps five stars without hesitation looking forward coming back   \n",
            "1222                                                                                                                                                                                                                                                                                                                                                                                                                                                                                                                                                                                                                   ice spacy place nice jacuzzi overlooking acropolis   \n",
            "1223                                                                                                                                                                                                                                                                                                                                                                                                                                                                                                                                                                                                                                                           great view   \n",
            "1224                                                                                                                                                                   location penthouse pretty good close many attractions area seems pretty safe stay apartment nice lift great since 6th floor place aircon absolutely perfect slightly loud cleanliness apartment wasntvery satisfying suppose isnt host fault cleaner couldve done better job overall view top floor astonishing basically didnt need go mount lycabettus since view basically jacuzzi cool first got dirty ask host something since wanted go host responded quickly asked cleaner come clean nice   \n",
            "1225                                                                                                                                                                                                                                                                                                                                                                                                                                                                  nice modern place supermarket corner bakery pub couple blocks away city tour bus stop eight blocks toward acropolis cabs plentiful street might want walk around surrounding area alone dark though   \n",
            "1226                                                                                                                                                                                                                                                                                                                                                                                                                                                                        fantastic location couldnt better situated enjoy athens offer sightseeing nightlife shopping brthe loft apartment modern specious really enjoyed stay thank fortis team memorable time athens   \n",
            "1227                                                                                                                                                                                                                                                                                                                                                                                                                                                                                                                       lovely studio room heart athens facilities needed lovely clean christina fish spa extremely helpful went way us well back week looking forward   \n",
            "1228  taxi driver problem knowing drop us call fotis talk others basically taxi driver dropped us romvis square behind ermou opposite ktena rear entrance anywaybrbrfotis came within minutes helped us settle werent spending much time athens didnt need know much quick explanation place travel services fotis left us itbrbrthe place per pictures open roomy little noise main street things need provided fotis even left us bottle water orange juice brbrbeing central easy get shops street easy walk main attraction athens acropolisbrbrvery nice place would easily recommended others probably even better others stay longer 1 night cleaning fee bit dear   \n",
            "1229                                                                                                                                                                                                                                                      great location great loft everything clean fotis us meet host fish spa looked pretty incredible though didnt time get treatments walked us loft ermou location stellar close everything great evening exploring area checked next day result poor planning stuck hauling bags fotis let us store bags spa headed acropolis sight seeing overall great expereince would highly recommend anyone athens days brbr   \n",
            "1230                                                                                                                                                                                                                                                                                                                                                                                                                                                                                       second time staying fotis apartment athens beautiful space great convenient location fotis also attentive host made sure everything perfect stay plan stay athens thanks fotis   \n",
            "1231                                                                                                                                                                                                                                                                                                                             location cant beat right center important points interest close house room located little shabby run room great sufficient space family 3 4 great luxury though comfortable enough complaint inconvenient arrangement obtaining key rather impersonal way shown amenities host nowhere seen apparently available yet overall thumbs upbr   \n",
            "1232                                                                                                                                                                                                                                                                                                                                                                                                                                                                                                                                                             great place stay downtown athens perfect location exploring city room clean well equipped suited us well   \n",
            "1233                                                                                                                                                                                                                                                                                                                                                                                                                                                                                        perfect location airport port well main attractions christine met us nice providing recommendations around appartment 36 celsius outside cool inside ac would go back anytime   \n",
            "1235                                                                                                                                                                                                                                                                                                                                            loft spacious nice quiet clean well located walking distance attractions central athens fotis answered fast quetions met us apartment late checkin1030 pm explain everything us took advice used athens transfers transfer airport apartment back pleased also tried fotis fish spa blast thank fotis nice staybrnicoleta   \n",
            "1236                                                                                                                                                                                                                                                                                                                                                                                                                                                                                           apartment best location fotis kind meet us street close apartment apartment clean nice high ceilings close shops restaurants starbucks would recommend apartment anyone br   \n",
            "1237                                                                                                                                                                                                                                              fotis excellent host 1night stay athens apartment exactly described impeccably clean unit everything needed fotis even stocked fridge breakfast food coffee supplies location ideal first time visitor athens able explore city foot hopon hopoff bus fotis personally showed around unit stowed bags spa suggested activities restaurants nearby would absolutely recommend unit plan stay passing athens thanks fotis   \n",
            "1238                                                                                                                                                  tha place centrally located athens near acropolis old town shops restaurants host responsive arrived apartment looks like cosy loft clean welcomed fresh linen towels also provided breakfast next morning place wifi ac important summer aware surcharge 20 cash upon check cleaning mention listing house rules appeared email confirmation read fine print also aware blinds curtains opaque sunlight could wake quite early overall good experience would recommend place would certainly book next time athens   \n",
            "1239                                                                                                                                                                                                                                                                                                                                                                                                                                                                                                                                                                                              elevator scenic views 3 levels plenty space incredible hospitality book   \n",
            "1241                                                                                                                                                                                                                                                            absolutely stunning place stay close everything including acropolis hosts fantastic got back us almost immediately inquiries sleeps 10 rather comfortably views amazing clean hot tub nice touch could need towels plates cooking spices coffee well ya get im happy experience left one 4 star directions athens confusing chaotic place think might way make exact place findable atleast emphasis 9910   \n",
            "1242                                                                                                                                                                                                                                                                                                                                                                                      haris reasonable host communicated well accommodated issue upon stay great location plan staying city athens previous guests left quiet mess unfair haris cleaning crew hindered checkin issue hot water haris rectified giving small refund overall bad stay would work future   \n",
            "1245                                                                                                                                                                                                                                                                                                                                                                                       stella pygmalion fantastic hosts stella arrived greeted us apartment even gave us map suggested best places go pygmalion always quick answer queries helpful place clean could asked also good location minutes walk metro station would recommend place everyone going athens   \n",
            "\n",
            "      is_english sentiment  \n",
            "1209        True  positive  \n",
            "1210        True  positive  \n",
            "1212        True  positive  \n",
            "1213        True   neutral  \n",
            "1214        True  positive  \n",
            "1215        True  positive  \n",
            "1216        True  positive  \n",
            "1218        True  positive  \n",
            "1220        True  positive  \n",
            "1221        True  positive  \n",
            "1222        True  positive  \n",
            "1223        True  positive  \n",
            "1224        True  positive  \n",
            "1225        True   neutral  \n",
            "1226        True  positive  \n",
            "1227        True  positive  \n",
            "1228        True  positive  \n",
            "1229        True  positive  \n",
            "1230        True  positive  \n",
            "1231        True  positive  \n",
            "1232        True  positive  \n",
            "1233        True  positive  \n",
            "1235        True  positive  \n",
            "1236        True  positive  \n",
            "1237        True  positive  \n",
            "1238        True  positive  \n",
            "1239        True  positive  \n",
            "1241        True  positive  \n",
            "1242        True  negative  \n",
            "1245        True  positive  \n"
          ]
        }
      ]
    },
    {
      "cell_type": "markdown",
      "source": [
        "Chart Results"
      ],
      "metadata": {
        "id": "rjyqMocHWAbN"
      }
    },
    {
      "cell_type": "code",
      "source": [
        "import matplotlib.pyplot as plt\n",
        "\n",
        "reviews_2023 = english_reviews_2023.copy()\n",
        "\n",
        "# Drop 'is_english' column\n",
        "reviews_2023 = reviews_2023.drop(['is_english'], axis = 1)\n",
        "reviews_2023 = reviews_2023.reset_index(drop = True)\n",
        "\n",
        "# Plot the Histogram\n",
        "sentiment_count = reviews_2023['sentiment'].value_counts()\n",
        "print(sentiment_count)\n",
        "sentiment_count.plot(kind='bar')\n",
        "\n",
        "# Title and Label\n",
        "plt.title('Sentiment Distribution')\n",
        "plt.xlabel('Sentiment')\n",
        "plt.ylabel('Number of Reviews')\n",
        "\n",
        "# Show Plot\n",
        "plt.show()"
      ],
      "metadata": {
        "colab": {
          "base_uri": "https://localhost:8080/",
          "height": 606
        },
        "id": "yHoqE_vKWCKC",
        "outputId": "f5e05990-dcb1-48f8-df10-647ac4f9e5c4"
      },
      "execution_count": null,
      "outputs": [
        {
          "output_type": "stream",
          "name": "stdout",
          "text": [
            "sentiment\n",
            "positive    885\n",
            "neutral      96\n",
            "negative     19\n",
            "Name: count, dtype: int64\n"
          ]
        },
        {
          "output_type": "display_data",
          "data": {
            "text/plain": [
              "<Figure size 640x480 with 1 Axes>"
            ],
            "image/png": "[encoded data removed]"
          },
          "metadata": {}
        }
      ]
    },
    {
      "cell_type": "markdown",
      "source": [
        "Export Resulting Dataframe"
      ],
      "metadata": {
        "id": "yOV4-D0cWyqb"
      }
    },
    {
      "cell_type": "code",
      "source": [
        "reviews_2023 = reviews_2023.reset_index(drop = True)\n",
        "reviews_2023.to_csv('/content/gdrive/My Drive/Data_Mining_CSV/2023/reviews_2023.csv', index = False)"
      ],
      "metadata": {
        "id": "Gx5H9TxmW1xM"
      },
      "execution_count": null,
      "outputs": []
    },
    {
      "cell_type": "markdown",
      "source": [
        "# **Μέρος 2**"
      ],
      "metadata": {
        "id": "_6YyPxFFE9lX"
      }
    },
    {
      "cell_type": "markdown",
      "source": [
        "Open File"
      ],
      "metadata": {
        "id": "c_NeT6WrFMoz"
      }
    },
    {
      "cell_type": "code",
      "source": [
        "reviews_2023 = pd.read_csv(filePath + 'reviews_2023.csv')"
      ],
      "metadata": {
        "id": "dNeqeYtNFTwS"
      },
      "execution_count": null,
      "outputs": []
    },
    {
      "cell_type": "markdown",
      "source": [
        "Match Sentiments with numbers (positive = 1, neutral = 0, negative = 2)"
      ],
      "metadata": {
        "id": "NNeuYPorFCh-"
      }
    },
    {
      "cell_type": "code",
      "source": [
        "sentiment_mapping = {'positive': 1, 'neutral': 0, 'negative': 2}\n",
        "reviews_2023['sentiment'] = reviews_2023['sentiment'].map(sentiment_mapping)\n",
        "\n",
        "print(reviews_2023.head())"
      ],
      "metadata": {
        "colab": {
          "base_uri": "https://localhost:8080/"
        },
        "id": "cBpAoqRwFKQb",
        "outputId": "51ca16e5-f3b1-4d9f-f4d9-a3abf5b9a2d9"
      },
      "execution_count": null,
      "outputs": [
        {
          "output_type": "stream",
          "name": "stdout",
          "text": [
            "         id                                             review  sentiment\n",
            "0    271535  apartment wonderful fully equiped beautiful de...          1\n",
            "1   1994237  emmanouil excellent host provided us everythin...          1\n",
            "2  12184199  wife daughter spent five days beauty light col...          1\n",
            "3  13197921  great stay soulas apartment loved decoration f...          1\n",
            "4  13393565  beautiful clean apartment plenty space stayed ...          1\n"
          ]
        }
      ]
    },
    {
      "cell_type": "markdown",
      "source": [
        "Prepare Data Points"
      ],
      "metadata": {
        "id": "PIgqnapSF5uW"
      }
    },
    {
      "cell_type": "code",
      "source": [
        "from sklearn.model_selection import train_test_split\n",
        "\n",
        "train_reviews, test_reviews = train_test_split(reviews_2023, test_size = 0.2, random_state = 42)\n",
        "\n",
        "# Save to .tsv format\n",
        "train_reviews.to_csv(filePath + 'train.tsv', sep='\\t', index = False)\n",
        "test_reviews.to_csv(filePath + 'test.tsv', sep='\\t', index = False)"
      ],
      "metadata": {
        "id": "yZDvwaTbF-f-"
      },
      "execution_count": null,
      "outputs": []
    },
    {
      "cell_type": "markdown",
      "source": [
        "Characteristics Preparation with TF-IDF"
      ],
      "metadata": {
        "id": "31nHB0tXGd7z"
      }
    },
    {
      "cell_type": "code",
      "source": [
        "from sklearn.feature_extraction.text import TfidfVectorizer\n",
        "\n",
        "train_reviews['review'] = train_reviews['review'].fillna('')\n",
        "test_reviews['review'] = test_reviews['review'].fillna('')\n",
        "\n",
        "# Vectorizer Creation\n",
        "tfidf_Vectorizer = TfidfVectorizer(max_df=0.1, min_df=1, max_features=200)\n",
        "\n",
        "# Convert to TF-IDF train data reviews\n",
        "X_train_tfidf = tfidf_Vectorizer.fit_transform(train_reviews['review'])\n",
        "\n",
        "# Convert to TF-IDF test data reviews\n",
        "X_test_tfidf = tfidf_Vectorizer.fit_transform(test_reviews['review'])\n",
        "\n",
        "# Shape Check\n",
        "print(X_train_tfidf.shape)\n",
        "print(X_test_tfidf.shape)"
      ],
      "metadata": {
        "colab": {
          "base_uri": "https://localhost:8080/"
        },
        "id": "wky5ridIGqn8",
        "outputId": "9a958675-4696-4d1f-a1ef-e347c7f17378"
      },
      "execution_count": null,
      "outputs": [
        {
          "output_type": "stream",
          "name": "stdout",
          "text": [
            "(800, 200)\n",
            "(200, 200)\n"
          ]
        }
      ]
    },
    {
      "cell_type": "markdown",
      "source": [
        "Characteristics Preparation with Word Embeddings using Word2Vec model"
      ],
      "metadata": {
        "id": "uZ8g8hHjHz7W"
      }
    },
    {
      "cell_type": "code",
      "source": [
        "from gensim.models import Word2Vec\n",
        "\n",
        "# Seperate reviews to words\n",
        "train_sentence = [review.split() for review in train_reviews['review']]\n",
        "test_sentence = [review.split() for review in test_reviews['review']]\n",
        "\n",
        "# Train Word2Vec model\n",
        "word2vecModel = Word2Vec(sentences=train_sentence, vector_size=200, window=5, min_count=1, workers=4, seed=42)\n",
        "\n",
        "# Function for calculating the mean of words to get the embedding for the review\n",
        "def embedding_review(review, model):\n",
        "  words = review.split()\n",
        "  word_vectors = [model.wv[word] for word in words if word in model.wv]\n",
        "  if len(word_vectors) == 0:\n",
        "    return np.zeros(model.vector_size)\n",
        "  else:\n",
        "    return np.mean(word_vectors, axis=0)\n",
        "\n",
        "# Train dataset using Word Embeddings\n",
        "X_train_embeddings = np.vstack([embedding_review(review, word2vecModel) for review in train_reviews['review']])\n",
        "\n",
        "# Test dataset using Word Embeddings\n",
        "X_test_embeddings = np.vstack([embedding_review(review, word2vecModel) for review in test_reviews['review']])\n",
        "\n",
        "# Shape Check\n",
        "print(X_train_embeddings.shape)\n",
        "print(X_test_embeddings.shape)"
      ],
      "metadata": {
        "colab": {
          "base_uri": "https://localhost:8080/"
        },
        "id": "rk_X4WwEH5QN",
        "outputId": "57413fed-33b9-479b-f69d-7bb89e17681c"
      },
      "execution_count": null,
      "outputs": [
        {
          "output_type": "stream",
          "name": "stdout",
          "text": [
            "(800, 200)\n",
            "(200, 200)\n"
          ]
        }
      ]
    },
    {
      "cell_type": "markdown",
      "source": [
        "Save to pickle file"
      ],
      "metadata": {
        "id": "lmX-KSByKL1P"
      }
    },
    {
      "cell_type": "code",
      "source": [
        "import pickle\n",
        "\n",
        "# Save TF-IDF Files\n",
        "with open(filePath + 'X_train_tfidf.pkl', 'wb') as file:\n",
        "  pickle.dump(X_train_tfidf, file)\n",
        "\n",
        "with open(filePath + 'X_test_tfidf.pkl', 'wb') as file:\n",
        "  pickle.dump(X_test_tfidf, file)\n",
        "\n",
        "# Save Word2Vec Files\n",
        "with open(filePath + 'X_train_embeddings.pkl', 'wb') as file:\n",
        "  pickle.dump(X_train_embeddings, file)\n",
        "\n",
        "with open(filePath + 'X_test_embeddings.pkl', 'wb') as file:\n",
        "  pickle.dump(X_test_embeddings, file)\n",
        "\n",
        "# Save TF-IDF Vectorizer\n",
        "with open(filePath + 'tfidf_vectorizer.pkl', 'wb') as file:\n",
        "  pickle.dump(tfidf_Vectorizer, file)\n",
        "\n",
        "# Save Sentiments\n",
        "with open(filePath + 'Y_train_reviews.pkl', 'wb') as file:\n",
        "  pickle.dump(train_reviews['sentiment'].values, file)\n",
        "\n",
        "with open(filePath + 'Y_test_reviews.pkl', 'wb') as file:\n",
        "  pickle.dump(test_reviews['sentiment'].values, file)"
      ],
      "metadata": {
        "id": "-ucpfCHPKPlF"
      },
      "execution_count": null,
      "outputs": []
    },
    {
      "cell_type": "markdown",
      "source": [
        "Load from pickle file"
      ],
      "metadata": {
        "id": "uKfoszpYLkuu"
      }
    },
    {
      "cell_type": "code",
      "source": [
        "import pickle\n",
        "\n",
        "import pickle\n",
        "\n",
        "# Load TF-IDF Files\n",
        "with open(filePath + 'X_train_tfidf.pkl', 'rb') as file:\n",
        "  X_train_tfidf = pickle.load(file)\n",
        "\n",
        "with open(filePath + 'X_test_tfidf.pkl', 'rb') as file:\n",
        "  X_test_tfidf = pickle.load(file)\n",
        "\n",
        "# Load Word2Vec Files\n",
        "with open(filePath + 'X_train_embeddings.pkl', 'rb') as file:\n",
        "  X_train_embeddings = pickle.load(file)\n",
        "\n",
        "with open(filePath + 'X_test_embeddings.pkl', 'rb') as file:\n",
        "  X_test_embeddings = pickle.load(file)\n",
        "\n",
        "# Load TF-IDF Vectorizer\n",
        "with open(filePath + 'tfidf_vectorizer.pkl', 'rb') as file:\n",
        "  tfidf_Vectorizer = pickle.load(file)\n",
        "\n",
        "# Load Sentiments\n",
        "with open(filePath + 'Y_train_reviews.pkl', 'rb') as file:\n",
        "  Y_train_reviews = pickle.load(file)\n",
        "\n",
        "with open(filePath + 'Y_test_reviews.pkl', 'rb') as file:\n",
        "  Y_test_reviews = pickle.load(file)"
      ],
      "metadata": {
        "id": "bHJKKDqcLm3h"
      },
      "execution_count": null,
      "outputs": []
    },
    {
      "cell_type": "markdown",
      "source": [
        "For TF-IDF Characteristics we use SVM sorting"
      ],
      "metadata": {
        "id": "cDsYHlNaMtUD"
      }
    },
    {
      "cell_type": "code",
      "source": [
        "from sklearn import svm\n",
        "from sklearn.metrics import precision_recall_fscore_support, accuracy_score, make_scorer\n",
        "from sklearn.model_selection import cross_val_score, cross_validate, StratifiedKFold\n",
        "\n",
        "# Custom scorer functions to handle zero_division\n",
        "def precision_macro(y_true, y_pred):\n",
        "    return precision_recall_fscore_support(y_true, y_pred, average='macro', zero_division=0)[0]\n",
        "\n",
        "def recall_macro(y_true, y_pred):\n",
        "    return precision_recall_fscore_support(y_true, y_pred, average='macro', zero_division=0)[1]\n",
        "\n",
        "def f1_macro(y_true, y_pred):\n",
        "    return precision_recall_fscore_support(y_true, y_pred, average='macro', zero_division=0)[2]\n",
        "\n",
        "# Define custom scorers\n",
        "scoring = {\n",
        "    'precision_macro': make_scorer(precision_macro),\n",
        "    'recall_macro': make_scorer(recall_macro),\n",
        "    'f1_macro': make_scorer(f1_macro),\n",
        "    'accuracy': 'accuracy'\n",
        "}\n",
        "\n",
        "# Load Classifer\n",
        "classifier_svm = svm.SVC()\n",
        "\n",
        "# Train SVM\n",
        "classifier_svm.fit(X_train_tfidf, Y_train_reviews)\n",
        "\n",
        "# Predict at test data\n",
        "Y_pred_svm = classifier_svm.predict(X_test_tfidf)\n",
        "\n",
        "# Evaluate Classifier using Cross-Validation\n",
        "scores = cross_validate(classifier_svm, X_train_tfidf, Y_train_reviews, cv=10, scoring=scoring)\n",
        "\n",
        "# Print Cross-Validation Results\n",
        "print(f\"Cross-Validation Results:\")\n",
        "print(f\"Precision: {np.mean(scores['test_precision_macro']):.4f}\")\n",
        "print(f\"Recall: {np.mean(scores['test_recall_macro']):.4f}\")\n",
        "print(f\"F1 Score: {np.mean(scores['test_f1_macro']):.4f}\")\n",
        "print(f\"Accuracy: {np.mean(scores['test_accuracy']):.4f}\")\n",
        "print(\"\\n\")\n",
        "\n",
        "# Evaluate Test Data\n",
        "test_accuracy = accuracy_score(Y_test_reviews, Y_pred_svm)\n",
        "test_precision, test_recall, test_f1, _ = precision_recall_fscore_support(Y_test_reviews, Y_pred_svm, average='macro', zero_division=0)\n",
        "\n",
        "# Print Results\n",
        "print(\"Test Data Results:\")\n",
        "print(f\"Test Accuracy: {test_accuracy:.4f}\")\n",
        "print(f\"Test Precision: {test_precision:.4f}\")\n",
        "print(f\"Test Recall: {test_recall:.4f}\")\n",
        "print(f\"Test F1 Score: {test_f1:.4f}\")\n"
      ],
      "metadata": {
        "id": "sBcF9sPmM1T0",
        "colab": {
          "base_uri": "https://localhost:8080/"
        },
        "outputId": "077f6b4e-bc3a-4e2b-8828-0c77c4fff39b"
      },
      "execution_count": null,
      "outputs": [
        {
          "output_type": "stream",
          "name": "stdout",
          "text": [
            "Cross-Validation Results:\n",
            "Precision: 0.4996\n",
            "Recall: 0.3815\n",
            "F1 Score: 0.3876\n",
            "Accuracy: 0.9000\n",
            "\n",
            "\n",
            "Test Data Results:\n",
            "Test Accuracy: 0.8850\n",
            "Test Precision: 0.6281\n",
            "Test Recall: 0.3500\n",
            "Test F1 Score: 0.3446\n"
          ]
        }
      ]
    },
    {
      "cell_type": "markdown",
      "source": [
        "For TF-IDF Characteristics we use Random Forests sorting"
      ],
      "metadata": {
        "id": "htIJpeI8T7My"
      }
    },
    {
      "cell_type": "code",
      "source": [
        "from sklearn.ensemble import RandomForestClassifier\n",
        "from sklearn.metrics import precision_recall_fscore_support, accuracy_score, make_scorer\n",
        "from sklearn.model_selection import cross_val_score, cross_validate, StratifiedKFold\n",
        "\n",
        "# Custom scorer functions to handle zero_division\n",
        "def precision_macro(y_true, y_pred):\n",
        "    return precision_recall_fscore_support(y_true, y_pred, average='macro', zero_division=0)[0]\n",
        "\n",
        "def recall_macro(y_true, y_pred):\n",
        "    return precision_recall_fscore_support(y_true, y_pred, average='macro', zero_division=0)[1]\n",
        "\n",
        "def f1_macro(y_true, y_pred):\n",
        "    return precision_recall_fscore_support(y_true, y_pred, average='macro', zero_division=0)[2]\n",
        "\n",
        "# Define custom scorers\n",
        "scoring = {\n",
        "    'precision_macro': make_scorer(precision_macro),\n",
        "    'recall_macro': make_scorer(recall_macro),\n",
        "    'f1_macro': make_scorer(f1_macro),\n",
        "    'accuracy': 'accuracy'\n",
        "}\n",
        "\n",
        "# Load Classifier\n",
        "classifier_rf = RandomForestClassifier()\n",
        "\n",
        "# Train Random Forest\n",
        "classifier_rf.fit(X_train_tfidf, Y_train_reviews)\n",
        "\n",
        "# Predict at test data\n",
        "Y_pred_rf = classifier_rf.predict(X_test_tfidf)\n",
        "\n",
        "# Evaluate Classifier using Cross-Validation\n",
        "scores = cross_validate(classifier_rf, X_train_tfidf, Y_train_reviews, cv=10, scoring=scoring)\n",
        "\n",
        "# Print Cross-Validation Results\n",
        "print(f\"Cross-Validation Results:\")\n",
        "print(f\"Precision: {np.mean(scores['test_precision_macro']):.4f}\")\n",
        "print(f\"Recall: {np.mean(scores['test_recall_macro']):.4f}\")\n",
        "print(f\"F1 Score: {np.mean(scores['test_f1_macro']):.4f}\")\n",
        "print(f\"Accuracy: {np.mean(scores['test_accuracy']):.4f}\")\n",
        "print(\"\\n\")\n",
        "\n",
        "# Evaluate Test Data\n",
        "test_accuracy = accuracy_score(Y_test_reviews, Y_pred_rf)\n",
        "test_precision, test_recall, test_f1, _ = precision_recall_fscore_support(Y_test_reviews, Y_pred_rf, average='macro', zero_division=0)\n",
        "\n",
        "# Print Results\n",
        "print(\"Test Data Results:\")\n",
        "print(f\"Test Accuracy: {test_accuracy:.4f}\")\n",
        "print(f\"Test Precision: {test_precision:.4f}\")\n",
        "print(f\"Test Recall: {test_recall:.4f}\")\n",
        "print(f\"Test F1 Score: {test_f1:.4f}\")\n"
      ],
      "metadata": {
        "colab": {
          "base_uri": "https://localhost:8080/"
        },
        "id": "jmyyNF8IUB1o",
        "outputId": "f5ed4aef-bf04-4787-b0c2-17cad169ed04"
      },
      "execution_count": null,
      "outputs": [
        {
          "output_type": "stream",
          "name": "stdout",
          "text": [
            "Cross-Validation Results:\n",
            "Precision: 0.5436\n",
            "Recall: 0.4297\n",
            "F1 Score: 0.4399\n",
            "Accuracy: 0.8975\n",
            "\n",
            "\n",
            "Test Data Results:\n",
            "Test Accuracy: 0.8800\n",
            "Test Precision: 0.6279\n",
            "Test Recall: 0.3481\n",
            "Test F1 Score: 0.3437\n"
          ]
        }
      ]
    },
    {
      "cell_type": "markdown",
      "source": [
        "For TF-IDF Characteristics we use KNN sorting"
      ],
      "metadata": {
        "id": "4-VpVBdnUbYB"
      }
    },
    {
      "cell_type": "code",
      "source": [
        "from sklearn.neighbors import KNeighborsClassifier\n",
        "from sklearn.metrics import precision_recall_fscore_support, accuracy_score, make_scorer\n",
        "from sklearn.model_selection import cross_val_score, cross_validate, StratifiedKFold\n",
        "\n",
        "# Custom scorer functions to handle zero_division\n",
        "def precision_macro(y_true, y_pred):\n",
        "    return precision_recall_fscore_support(y_true, y_pred, average='macro', zero_division=0)[0]\n",
        "\n",
        "def recall_macro(y_true, y_pred):\n",
        "    return precision_recall_fscore_support(y_true, y_pred, average='macro', zero_division=0)[1]\n",
        "\n",
        "def f1_macro(y_true, y_pred):\n",
        "    return precision_recall_fscore_support(y_true, y_pred, average='macro', zero_division=0)[2]\n",
        "\n",
        "# Define custom scorers\n",
        "scoring = {\n",
        "    'precision_macro': make_scorer(precision_macro),\n",
        "    'recall_macro': make_scorer(recall_macro),\n",
        "    'f1_macro': make_scorer(f1_macro),\n",
        "    'accuracy': 'accuracy'\n",
        "}\n",
        "\n",
        "# Load Classifier\n",
        "classifier_knn = KNeighborsClassifier()\n",
        "\n",
        "# Train KNN\n",
        "classifier_knn.fit(X_train_tfidf, Y_train_reviews)\n",
        "\n",
        "# Predict at test data\n",
        "Y_pred_knn = classifier_knn.predict(X_test_tfidf)\n",
        "\n",
        "# Evaluate Classifier using Cross-Validation\n",
        "scores = cross_validate(classifier_knn, X_train_tfidf, Y_train_reviews, cv=10, scoring=scoring)\n",
        "\n",
        "# Print Cross-Validation Results\n",
        "print(f\"Cross-Validation Results:\")\n",
        "print(f\"Precision: {np.mean(scores['test_precision_macro']):.4f}\")\n",
        "print(f\"Recall: {np.mean(scores['test_recall_macro']):.4f}\")\n",
        "print(f\"F1 Score: {np.mean(scores['test_f1_macro']):.4f}\")\n",
        "print(f\"Accuracy: {np.mean(scores['test_accuracy']):.4f}\")\n",
        "print(\"\\n\")\n",
        "\n",
        "# Evaluate Test Data\n",
        "test_accuracy = accuracy_score(Y_test_reviews, Y_pred_knn)\n",
        "test_precision, test_recall, test_f1, _ = precision_recall_fscore_support(Y_test_reviews, Y_pred_knn, average='macro', zero_division=0)\n",
        "\n",
        "# Print Results\n",
        "print(\"Test Data Results:\")\n",
        "print(f\"Test Accuracy: {test_accuracy:.4f}\")\n",
        "print(f\"Test Precision: {test_precision:.4f}\")\n",
        "print(f\"Test Recall: {test_recall:.4f}\")\n",
        "print(f\"Test F1 Score: {test_f1:.4f}\")\n"
      ],
      "metadata": {
        "colab": {
          "base_uri": "https://localhost:8080/"
        },
        "id": "5Kw0bbmIUWHx",
        "outputId": "c1089892-ef88-4080-97ca-bfc16ee7c274"
      },
      "execution_count": null,
      "outputs": [
        {
          "output_type": "stream",
          "name": "stdout",
          "text": [
            "Cross-Validation Results:\n",
            "Precision: 0.4537\n",
            "Recall: 0.3839\n",
            "F1 Score: 0.3914\n",
            "Accuracy: 0.8850\n",
            "\n",
            "\n",
            "Test Data Results:\n",
            "Test Accuracy: 0.8750\n",
            "Test Precision: 0.4055\n",
            "Test Recall: 0.3462\n",
            "Test F1 Score: 0.3400\n"
          ]
        }
      ]
    }
  ]
}