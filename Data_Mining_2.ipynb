{
  "nbformat": 4,
  "nbformat_minor": 0,
  "metadata": {
    "colab": {
      "provenance": [],
      "authorship_tag": "ABX9TyMq9O0Hi3J6t4zjNayZ1U3E",
      "include_colab_link": true
    },
    "kernelspec": {
      "name": "python3",
      "display_name": "Python 3"
    },
    "language_info": {
      "name": "python"
    }
  },
  "cells": [
    {
      "cell_type": "markdown",
      "metadata": {
        "id": "view-in-github",
        "colab_type": "text"
      },
      "source": [
        "<a href=\"https://colab.research.google.com/github/GeorgeSakketos/Data_Mining_Exercice_02/blob/main/Data_Mining_2.ipynb\" target=\"_parent\"><img src=\"https://colab.research.google.com/assets/colab-badge.svg\" alt=\"Open In Colab\"/></a>"
      ]
    },
    {
      "cell_type": "markdown",
      "source": [
        "# Connect Google Drive"
      ],
      "metadata": {
        "id": "MZdDfwfDvOM7"
      }
    },
    {
      "cell_type": "code",
      "execution_count": 2,
      "metadata": {
        "colab": {
          "base_uri": "https://localhost:8080/"
        },
        "id": "4dQ4s_a3um25",
        "outputId": "450b8bfc-8c3a-4935-c7af-1262b8859c5d"
      },
      "outputs": [
        {
          "output_type": "stream",
          "name": "stdout",
          "text": [
            "Mounted at /content/gdrive\n"
          ]
        }
      ],
      "source": [
        "from google.colab import drive\n",
        "drive.mount('/content/gdrive')"
      ]
    },
    {
      "cell_type": "markdown",
      "source": [
        "# **Μέρος 1**"
      ],
      "metadata": {
        "id": "nXBBv32iv6ju"
      }
    },
    {
      "cell_type": "code",
      "source": [
        "# Dependences\n",
        "!pip install transformers langdetect langid"
      ],
      "metadata": {
        "colab": {
          "base_uri": "https://localhost:8080/"
        },
        "id": "n-07vLa03J--",
        "outputId": "1cbadbd2-1973-4284-e3f8-2a04a021313d"
      },
      "execution_count": 4,
      "outputs": [
        {
          "output_type": "stream",
          "name": "stdout",
          "text": [
            "Requirement already satisfied: transformers in /usr/local/lib/python3.10/dist-packages (4.41.1)\n",
            "Collecting langdetect\n",
            "  Using cached langdetect-1.0.9.tar.gz (981 kB)\n",
            "  Preparing metadata (setup.py) ... \u001b[?25l\u001b[?25hdone\n",
            "Collecting langid\n",
            "  Using cached langid-1.1.6.tar.gz (1.9 MB)\n",
            "  Preparing metadata (setup.py) ... \u001b[?25l\u001b[?25hdone\n",
            "Requirement already satisfied: filelock in /usr/local/lib/python3.10/dist-packages (from transformers) (3.14.0)\n",
            "Requirement already satisfied: huggingface-hub<1.0,>=0.23.0 in /usr/local/lib/python3.10/dist-packages (from transformers) (0.23.1)\n",
            "Requirement already satisfied: numpy>=1.17 in /usr/local/lib/python3.10/dist-packages (from transformers) (1.25.2)\n",
            "Requirement already satisfied: packaging>=20.0 in /usr/local/lib/python3.10/dist-packages (from transformers) (24.0)\n",
            "Requirement already satisfied: pyyaml>=5.1 in /usr/local/lib/python3.10/dist-packages (from transformers) (6.0.1)\n",
            "Requirement already satisfied: regex!=2019.12.17 in /usr/local/lib/python3.10/dist-packages (from transformers) (2024.5.15)\n",
            "Requirement already satisfied: requests in /usr/local/lib/python3.10/dist-packages (from transformers) (2.31.0)\n",
            "Requirement already satisfied: tokenizers<0.20,>=0.19 in /usr/local/lib/python3.10/dist-packages (from transformers) (0.19.1)\n",
            "Requirement already satisfied: safetensors>=0.4.1 in /usr/local/lib/python3.10/dist-packages (from transformers) (0.4.3)\n",
            "Requirement already satisfied: tqdm>=4.27 in /usr/local/lib/python3.10/dist-packages (from transformers) (4.66.4)\n",
            "Requirement already satisfied: six in /usr/local/lib/python3.10/dist-packages (from langdetect) (1.16.0)\n",
            "Requirement already satisfied: fsspec>=2023.5.0 in /usr/local/lib/python3.10/dist-packages (from huggingface-hub<1.0,>=0.23.0->transformers) (2023.6.0)\n",
            "Requirement already satisfied: typing-extensions>=3.7.4.3 in /usr/local/lib/python3.10/dist-packages (from huggingface-hub<1.0,>=0.23.0->transformers) (4.11.0)\n",
            "Requirement already satisfied: charset-normalizer<4,>=2 in /usr/local/lib/python3.10/dist-packages (from requests->transformers) (3.3.2)\n",
            "Requirement already satisfied: idna<4,>=2.5 in /usr/local/lib/python3.10/dist-packages (from requests->transformers) (3.7)\n",
            "Requirement already satisfied: urllib3<3,>=1.21.1 in /usr/local/lib/python3.10/dist-packages (from requests->transformers) (2.0.7)\n",
            "Requirement already satisfied: certifi>=2017.4.17 in /usr/local/lib/python3.10/dist-packages (from requests->transformers) (2024.2.2)\n",
            "Building wheels for collected packages: langdetect, langid\n",
            "  Building wheel for langdetect (setup.py) ... \u001b[?25l\u001b[?25hdone\n",
            "  Created wheel for langdetect: filename=langdetect-1.0.9-py3-none-any.whl size=993227 sha256=9e080bdac7b66ac84df2dcf8ca7822ace1fb6eba9b05438a3ef60349216925fd\n",
            "  Stored in directory: /root/.cache/pip/wheels/95/03/7d/59ea870c70ce4e5a370638b5462a7711ab78fba2f655d05106\n",
            "  Building wheel for langid (setup.py) ... \u001b[?25l\u001b[?25hdone\n",
            "  Created wheel for langid: filename=langid-1.1.6-py3-none-any.whl size=1941172 sha256=7f32ac4c1f8b626ecef80823ff4edd4ce93f2b835bd8a7b70404d1c41f3ec216\n",
            "  Stored in directory: /root/.cache/pip/wheels/23/c8/c6/eed80894918490a175677414d40bd7c851413bbe03d4856c3c\n",
            "Successfully built langdetect langid\n",
            "Installing collected packages: langid, langdetect\n",
            "Successfully installed langdetect-1.0.9 langid-1.1.6\n"
          ]
        }
      ]
    },
    {
      "cell_type": "code",
      "source": [
        "import pandas as pd\n",
        "import numpy as np\n",
        "from transformers import pipeline\n",
        "from nltk.corpus import stopwords\n",
        "from nltk.tokenize import word_tokenize\n",
        "from collections import Counter\n",
        "from gensim.models import Word2Vec\n",
        "from langdetect import detect\n",
        "import string\n",
        "import re\n",
        "import nltk\n",
        "import sys\n",
        "\n",
        "nltk.download('stopwords')\n",
        "nltk.download('punkt')\n",
        "\n",
        "print('Python version ' + sys.version)\n",
        "\n",
        "filePath = '/content/gdrive/My Drive/Data_Mining_CSV/2023/'"
      ],
      "metadata": {
        "colab": {
          "base_uri": "https://localhost:8080/"
        },
        "id": "bdZa0I-Av91k",
        "outputId": "c74a9ebf-8b84-4b7f-8eb2-9c4252226c1a"
      },
      "execution_count": 5,
      "outputs": [
        {
          "output_type": "stream",
          "name": "stderr",
          "text": [
            "[nltk_data] Downloading package stopwords to /root/nltk_data...\n",
            "[nltk_data]   Unzipping corpora/stopwords.zip.\n",
            "[nltk_data] Downloading package punkt to /root/nltk_data...\n",
            "[nltk_data]   Unzipping tokenizers/punkt.zip.\n"
          ]
        },
        {
          "output_type": "stream",
          "name": "stdout",
          "text": [
            "Python version 3.10.12 (main, Nov 20 2023, 15:14:05) [GCC 11.4.0]\n"
          ]
        }
      ]
    },
    {
      "cell_type": "markdown",
      "source": [
        "June"
      ],
      "metadata": {
        "id": "RH241NuNwR-_"
      }
    },
    {
      "cell_type": "code",
      "source": [
        "#Read June CSV\n",
        "filePath_june = filePath + 'june/'\n",
        "june_listings_2023 = pd.read_csv(filePath_june + 'reviews.csv', thousands = ',')\n",
        "\n",
        "# Keep the Columns we want\n",
        "june_listings_2023 = june_listings_2023[['id', 'comments']]"
      ],
      "metadata": {
        "id": "u3tj4rwCwcRq"
      },
      "execution_count": null,
      "outputs": []
    },
    {
      "cell_type": "markdown",
      "source": [
        "March"
      ],
      "metadata": {
        "id": "5TzNcxdqxNMv"
      }
    },
    {
      "cell_type": "code",
      "source": [
        "#Read March CSV\n",
        "filePath_march = filePath + 'march/'\n",
        "march_listings_2023 = pd.read_csv(filePath_march + 'reviews.csv', thousands = ',')\n",
        "\n",
        "# Keep the Columns we want\n",
        "march_listings_2023 = march_listings_2023[['id', 'comments']]"
      ],
      "metadata": {
        "id": "fIvfoEyexO0c"
      },
      "execution_count": null,
      "outputs": []
    },
    {
      "cell_type": "markdown",
      "source": [
        "September"
      ],
      "metadata": {
        "id": "ym515YjTxXlH"
      }
    },
    {
      "cell_type": "code",
      "source": [
        "#Read September CSV\n",
        "filePath_september = filePath + 'september/'\n",
        "september_listings_2023 = pd.read_csv(filePath_september + 'reviews.csv', thousands = ',')\n",
        "\n",
        "# Keep the Columns we want\n",
        "september_listings_2023 = september_listings_2023[['id', 'comments']]"
      ],
      "metadata": {
        "id": "hvbF98d0xZAZ"
      },
      "execution_count": null,
      "outputs": []
    },
    {
      "cell_type": "markdown",
      "source": [
        "Combine Dataframes"
      ],
      "metadata": {
        "id": "m0jmWxt6xora"
      }
    },
    {
      "cell_type": "code",
      "source": [
        "dfs = [june_listings_2023, march_listings_2023, september_listings_2023]\n",
        "\n",
        "# Combine June, March and September into one Dataframe\n",
        "final_reviews_2023 = pd.concat(dfs, ignore_index = True)\n",
        "\n",
        "# Reset Index\n",
        "final_reviews_2023 = final_reviews_2023.reset_index(drop=True)"
      ],
      "metadata": {
        "id": "i6CxZwwSxqc6"
      },
      "execution_count": null,
      "outputs": []
    },
    {
      "cell_type": "markdown",
      "source": [
        "Clean the Data"
      ],
      "metadata": {
        "id": "kqN5zbxWywqC"
      }
    },
    {
      "cell_type": "code",
      "source": [
        "# Rename 'comments' column to 'review'\n",
        "final_reviews_2023 = final_reviews_2023.rename(columns={\"comments\": \"review\"})\n",
        "\n",
        "# Remove NaN lines\n",
        "final_reviews_2023 = final_reviews_2023.dropna()\n",
        "\n",
        "# Remove Duplicate IDs\n",
        "final_reviews_2023 = final_reviews_2023.drop_duplicates(subset='id', keep='first')\n",
        "\n",
        "# Convert 'review' to lowercase\n",
        "final_reviews_2023['review'] = final_reviews_2023['review'].str.lower()\n",
        "\n",
        "# Remove emojis\n",
        "final_reviews_2023['review'] = final_reviews_2023['review'].str.replace(r'[\\U0001F600-\\U0001F64F]', '', regex=True)  # emoticons\n",
        "final_reviews_2023['review'] = final_reviews_2023['review'].str.replace(r'[\\U0001F300-\\U0001F5FF]', '', regex=True)  # symbols & pictographs\n",
        "final_reviews_2023['review'] = final_reviews_2023['review'].str.replace(r'[\\U0001F680-\\U0001F6FF]', '', regex=True)  # transport & map symbols\n",
        "final_reviews_2023['review'] = final_reviews_2023['review'].str.replace(r'[\\U0001F1E0-\\U0001F1FF]', '', regex=True)  # flags (iOS)\n",
        "\n",
        "# Remove URLs\n",
        "final_reviews_2023['review'] = final_reviews_2023['review'].str.replace(r'http\\S+|www.\\S+', '', regex=True)\n",
        "\n",
        "# Remove hashtags\n",
        "final_reviews_2023['review'] = final_reviews_2023['review'].str.replace(r'#\\w+', '', regex=True)\n",
        "\n",
        "# Remove special characters (keeping only alphanumeric and spaces)\n",
        "final_reviews_2023['review'] = final_reviews_2023['review'].str.replace(r'[^A-Za-z0-9 ]+', '', regex=True)\n",
        "\n",
        "# Remove stopwords\n",
        "stop_words = set(stopwords.words('english'))\n",
        "final_reviews_2023['review'] = final_reviews_2023['review'].apply(lambda x: ' '.join(word for word in x.split() if word not in stop_words))\n",
        "\n",
        "final_reviews_2023 = final_reviews_2023.reset_index(drop = True)\n",
        "pd.set_option('display.max_colwidth', None)\n",
        "print(final_reviews_2023['review'])"
      ],
      "metadata": {
        "collapsed": true,
        "id": "e4OC_0BcyyZC",
        "colab": {
          "base_uri": "https://localhost:8080/"
        },
        "outputId": "f59efc42-272b-444d-dcad-f98725cf5388"
      },
      "execution_count": null,
      "outputs": [
        {
          "output_type": "stream",
          "name": "stdout",
          "text": [
            "0                                                                                                                                                                                                                                                                              apartment wonderful fully equiped beautiful decor comfortable verry clean would stay possibly another host properties close metro markets grocery store conveniences\n",
            "1         emmanouil excellent host provided us everything need make feel right home gave us tips directions destinations even prior trip kept close contact gave us specific easy instructions get place place spacious comfortable everything neat organized always great place come back adventurous day athens transportation easily accessible place located quiet neighborhood stay amazing experience wouldnt hesitate stay recommend friends\n",
            "2                                                                                                                                                                                        wife daughter spent five days beauty light colors athens also thanks home soula apartment enjoyed space indoor outdoor furniture paintings mosaics know soula person known loved taste generous hospitality therefore highly recommend apartment hope back\n",
            "3                                                                                                           great stay soulas apartment loved decoration furniture paintings mosaics amd relaxing terrace apartment good energy makes relax clean also close metro station taxi stop soula accessible ever needed anything responded immediately although dont know soula person like generous hospitalityi highly recommend staying hope visit day\n",
            "4                                                                                                                                                                          beautiful clean apartment plenty space stayed partner lovely time even though booked last minute like 8pm day arrived midnight soula incredibly kind arranged driver waiting pick us fully stocked cookware incredibly comfy sofa nice quiet evening perfect thank soula\n",
            "                                                                                                                                                                                                                            ...                                                                                                                                                                                                                    \n",
            "598926                                                                                                                                                                                                                                                                                                                                                                                                                                             \n",
            "598927                                                                                                                                                                                                                                                                                                                                                                                                                                           br\n",
            "598928                                                                                                                                                                                                                                                                                                                                                                                                                                             \n",
            "598929                                                                                                                                                                                                                                                                                                                                                                                                                                 br cozy brbr\n",
            "598930                                                                                                                                                                                                                                                                                                                                                                                                                                             \n",
            "Name: review, Length: 598931, dtype: object\n"
          ]
        }
      ]
    },
    {
      "cell_type": "markdown",
      "source": [
        "Export Dataframe to CSV"
      ],
      "metadata": {
        "id": "lMtScmkV0Qy9"
      }
    },
    {
      "cell_type": "code",
      "source": [
        "final_reviews_2023.to_csv('/content/gdrive/My Drive/Data_Mining_CSV/2023/comments_2023.csv', index = False)"
      ],
      "metadata": {
        "id": "JT1woIRP0S_N"
      },
      "execution_count": null,
      "outputs": []
    },
    {
      "cell_type": "markdown",
      "source": [
        "Open comments_2023 CSV"
      ],
      "metadata": {
        "id": "g3TcmoRt0asw"
      }
    },
    {
      "cell_type": "code",
      "source": [
        "comments_2023 = pd.read_csv(filePath + 'comments_2023.csv')"
      ],
      "metadata": {
        "id": "4itHxfYSr8Iy"
      },
      "execution_count": null,
      "outputs": []
    },
    {
      "cell_type": "markdown",
      "source": [
        "Keep Only English Reviews"
      ],
      "metadata": {
        "id": "3KKAojV1In0s"
      }
    },
    {
      "cell_type": "code",
      "source": [
        "import langid\n",
        "\n",
        "def is_english(text):\n",
        "    lang, _ = langid.classify(text)\n",
        "    return lang == 'en'\n",
        "\n",
        "# Copy the first 50000 reviews and drop rows with NaN values in the 'review' column\n",
        "english_reviews_2023 = comments_2023.head(10000).copy().dropna(subset=['review'])\n",
        "\n",
        "# Apply the is_english function\n",
        "english_reviews_2023.loc[:, 'is_english'] = english_reviews_2023['review'].apply(is_english)\n",
        "\n",
        "# Filter reviews that are in English\n",
        "english_reviews_2023 = english_reviews_2023[english_reviews_2023['is_english']]\n",
        "\n",
        "print(len(english_reviews_2023))"
      ],
      "metadata": {
        "colab": {
          "base_uri": "https://localhost:8080/"
        },
        "id": "uEk4rIchIpoc",
        "outputId": "18dfb1e4-9690-436f-8f37-d93e3a635db1"
      },
      "execution_count": null,
      "outputs": [
        {
          "output_type": "stream",
          "name": "stdout",
          "text": [
            "8126\n"
          ]
        }
      ]
    },
    {
      "cell_type": "markdown",
      "source": [
        "Use HuggingFace Model"
      ],
      "metadata": {
        "id": "ryfKMyyAL4IN"
      }
    },
    {
      "cell_type": "code",
      "source": [
        "from transformers import AutoModelForSequenceClassification, AutoTokenizer\n",
        "import torch\n",
        "\n",
        "english_reviews_2023 = english_reviews_2023.head(1000)\n",
        "\n",
        "# Create a copy\n",
        "english_reviews_2023 = english_reviews_2023.copy()\n",
        "\n",
        "# Model\n",
        "model = AutoModelForSequenceClassification.from_pretrained(\"j-hartmann/sentiment-roberta-large-english-3-classes\")\n",
        "tokenizer = AutoTokenizer.from_pretrained(\"j-hartmann/sentiment-roberta-large-english-3-classes\")\n",
        "nlp = pipeline(\"text-classification\",model = model,tokenizer = tokenizer)\n",
        "\n",
        "# Batch Size (ex. 100)\n",
        "batch_size = 100\n",
        "\n",
        "# Function to split reviews into chunks and process them\n",
        "def batch_process_reviews(reviews, batch_size):\n",
        "  sentiments = []\n",
        "  for i in range(0, len(reviews), batch_size):\n",
        "    print(i)\n",
        "    batch = reviews[i:i + batch_size]\n",
        "    results = nlp(batch.tolist())\n",
        "    sentiments.extend([result['label'] for result in results])\n",
        "  return sentiments\n",
        "\n",
        "# Process reviews and get sentiments\n",
        "reviews = english_reviews_2023['review']\n",
        "english_reviews_2023['sentiment'] = batch_process_reviews(reviews, batch_size)\n",
        "\n",
        "print(english_reviews_2023.tail(30))"
      ],
      "metadata": {
        "colab": {
          "base_uri": "https://localhost:8080/"
        },
        "id": "bDCJez0TL6QN",
        "outputId": "d1cfe6a8-965c-4eb1-c9c6-49480ac28cff"
      },
      "execution_count": null,
      "outputs": [
        {
          "output_type": "stream",
          "name": "stderr",
          "text": [
            "Some weights of the model checkpoint at j-hartmann/sentiment-roberta-large-english-3-classes were not used when initializing RobertaForSequenceClassification: ['roberta.pooler.dense.bias', 'roberta.pooler.dense.weight']\n",
            "- This IS expected if you are initializing RobertaForSequenceClassification from the checkpoint of a model trained on another task or with another architecture (e.g. initializing a BertForSequenceClassification model from a BertForPreTraining model).\n",
            "- This IS NOT expected if you are initializing RobertaForSequenceClassification from the checkpoint of a model that you expect to be exactly identical (initializing a BertForSequenceClassification model from a BertForSequenceClassification model).\n"
          ]
        },
        {
          "output_type": "stream",
          "name": "stdout",
          "text": [
            "0\n",
            "100\n",
            "200\n",
            "300\n",
            "400\n",
            "500\n",
            "600\n",
            "700\n",
            "800\n",
            "900\n",
            "             id  \\\n",
            "1209   42132595   \n",
            "1210   42880906   \n",
            "1212   46293806   \n",
            "1213   46898313   \n",
            "1214   47372696   \n",
            "1215   48403285   \n",
            "1216   49349061   \n",
            "1218   50110504   \n",
            "1220   51076992   \n",
            "1221   52156958   \n",
            "1222  506142716   \n",
            "1223  507120567   \n",
            "1224  508563746   \n",
            "1225  510635774   \n",
            "1226   15862307   \n",
            "1227   15903565   \n",
            "1228   15960120   \n",
            "1229   16015311   \n",
            "1230   16200492   \n",
            "1231   16372257   \n",
            "1232   16452740   \n",
            "1233   16618774   \n",
            "1235   16976482   \n",
            "1236   17059710   \n",
            "1237   17246247   \n",
            "1238   17266918   \n",
            "1239  519780429   \n",
            "1241  524486588   \n",
            "1242  525166229   \n",
            "1245   52999674   \n",
            "\n",
            "                                                                                                                                                                                                                                                                                                                                                                                                                                                                                                                                                                                                                                                                   review  \\\n",
            "1209                                                                                                                                                                                                                                                                     first greek home immediately felt home comfortable stella nice explain functions house right start pygmalion responsive helpful inquiries even helped us book taxi airport house exactly looks like photos vey homey comfortable bit away city center makes great oh mention love local gyro restaurant turn right first left think ate everyday food great location flat near metro supermarket   \n",
            "1210                                                                                                                                                                                                                                                                                                                                                                                                                                               best host stay greece pygmalion attentive helpful visited went beyond help stay enjoyable apartment cozy clean definitely recommend anyone wishes good time greece apartment close train station neighborhood peaceful   \n",
            "1212                                                                                                                                                                                                                                                                                                                                                                                                                                                                                     pygmalion around amazing host apartment impeccable great location offered number suggestions food tours even recommendations legs trip gracious start finish would probably stay   \n",
            "1213                                                                                                                                                                                                                                                                                                                                                                                        sister stayed three nights pygmalionstellas apartment neighborhood little far away center city takes 1015 min metro metro station 5 min walking distance apartment neighborhood quite safe close supermarkets apartment clean cozy exactly see pictures would definitely stay   \n",
            "1214                                                                                                                                                                                                                                                                                                                                                                                                                               girlfriend stayed 3 nights location good takes 10 minutes metro really close apartment modern clean quiet brbras flight 11 pm didnt know put luggage new guest already arrived stella kindly allowed us let apartment great experience   \n",
            "1215                                                  apartment good location well communicated city centre neighbourhood safe bakery grocery stores located 10 minutes walk flat brapartment looks exactly pictures placed advert bri havent met pygmalion personally helpful responsive questions sent email bron first day stella showed us whole flat use amenities even washing machine everything written greek sunday late evening everything nearby closed stella kind helped us ordering pizza us brwe arrived pygmalions apartment group three flat suitable max 4 persons brwe dont negative comments satisfied stay pygmalions apartment brhighly recommended   \n",
            "1216                                                                                                                                                                                                                                                                                                                                  pygmalion helpful provided needed info weeks arrival stella explained us best places go gave us map important places highlightedbrtheir places beautiful clean well located described breven though couldnt get meey pygmalion person always question even booked taxi us leavingbrwe loved place much wonderful highly recommended   \n",
            "1218                                                                                                                                                                                                                                                                                             pygmalion stella wonderful host place looks well taken care neat definitely worth staying access transportation close local restaurants amazing food good people humble grateful amazing experience kafe tis gitonias ladies completely went way even though cafe restaurant gyros nostimoulis wallet friendly delicious breakfast friends great experience locally city   \n",
            "1220                                                                                                                                                                                                                                                                                                                                                                                                                                                                                                                                                                                host went beyond asked extremely accommodating helpful would 100 recommend appreciate   \n",
            "1221                                                                                                                                                                                                                                                                                                                                                                                         pygmalion wonderful host helpful beginning throughout trip stella shown us apartment spotless exactly shown pictures location also really great good connection metro city center important sights city two thumps five stars without hesitation looking forward coming back   \n",
            "1222                                                                                                                                                                                                                                                                                                                                                                                                                                                                                                                                                                                                                   ice spacy place nice jacuzzi overlooking acropolis   \n",
            "1223                                                                                                                                                                                                                                                                                                                                                                                                                                                                                                                                                                                                                                                           great view   \n",
            "1224                                                                                                                                                                   location penthouse pretty good close many attractions area seems pretty safe stay apartment nice lift great since 6th floor place aircon absolutely perfect slightly loud cleanliness apartment wasntvery satisfying suppose isnt host fault cleaner couldve done better job overall view top floor astonishing basically didnt need go mount lycabettus since view basically jacuzzi cool first got dirty ask host something since wanted go host responded quickly asked cleaner come clean nice   \n",
            "1225                                                                                                                                                                                                                                                                                                                                                                                                                                                                  nice modern place supermarket corner bakery pub couple blocks away city tour bus stop eight blocks toward acropolis cabs plentiful street might want walk around surrounding area alone dark though   \n",
            "1226                                                                                                                                                                                                                                                                                                                                                                                                                                                                        fantastic location couldnt better situated enjoy athens offer sightseeing nightlife shopping brthe loft apartment modern specious really enjoyed stay thank fortis team memorable time athens   \n",
            "1227                                                                                                                                                                                                                                                                                                                                                                                                                                                                                                                       lovely studio room heart athens facilities needed lovely clean christina fish spa extremely helpful went way us well back week looking forward   \n",
            "1228  taxi driver problem knowing drop us call fotis talk others basically taxi driver dropped us romvis square behind ermou opposite ktena rear entrance anywaybrbrfotis came within minutes helped us settle werent spending much time athens didnt need know much quick explanation place travel services fotis left us itbrbrthe place per pictures open roomy little noise main street things need provided fotis even left us bottle water orange juice brbrbeing central easy get shops street easy walk main attraction athens acropolisbrbrvery nice place would easily recommended others probably even better others stay longer 1 night cleaning fee bit dear   \n",
            "1229                                                                                                                                                                                                                                                      great location great loft everything clean fotis us meet host fish spa looked pretty incredible though didnt time get treatments walked us loft ermou location stellar close everything great evening exploring area checked next day result poor planning stuck hauling bags fotis let us store bags spa headed acropolis sight seeing overall great expereince would highly recommend anyone athens days brbr   \n",
            "1230                                                                                                                                                                                                                                                                                                                                                                                                                                                                                       second time staying fotis apartment athens beautiful space great convenient location fotis also attentive host made sure everything perfect stay plan stay athens thanks fotis   \n",
            "1231                                                                                                                                                                                                                                                                                                                             location cant beat right center important points interest close house room located little shabby run room great sufficient space family 3 4 great luxury though comfortable enough complaint inconvenient arrangement obtaining key rather impersonal way shown amenities host nowhere seen apparently available yet overall thumbs upbr   \n",
            "1232                                                                                                                                                                                                                                                                                                                                                                                                                                                                                                                                                             great place stay downtown athens perfect location exploring city room clean well equipped suited us well   \n",
            "1233                                                                                                                                                                                                                                                                                                                                                                                                                                                                                        perfect location airport port well main attractions christine met us nice providing recommendations around appartment 36 celsius outside cool inside ac would go back anytime   \n",
            "1235                                                                                                                                                                                                                                                                                                                                            loft spacious nice quiet clean well located walking distance attractions central athens fotis answered fast quetions met us apartment late checkin1030 pm explain everything us took advice used athens transfers transfer airport apartment back pleased also tried fotis fish spa blast thank fotis nice staybrnicoleta   \n",
            "1236                                                                                                                                                                                                                                                                                                                                                                                                                                                                                           apartment best location fotis kind meet us street close apartment apartment clean nice high ceilings close shops restaurants starbucks would recommend apartment anyone br   \n",
            "1237                                                                                                                                                                                                                                              fotis excellent host 1night stay athens apartment exactly described impeccably clean unit everything needed fotis even stocked fridge breakfast food coffee supplies location ideal first time visitor athens able explore city foot hopon hopoff bus fotis personally showed around unit stowed bags spa suggested activities restaurants nearby would absolutely recommend unit plan stay passing athens thanks fotis   \n",
            "1238                                                                                                                                                  tha place centrally located athens near acropolis old town shops restaurants host responsive arrived apartment looks like cosy loft clean welcomed fresh linen towels also provided breakfast next morning place wifi ac important summer aware surcharge 20 cash upon check cleaning mention listing house rules appeared email confirmation read fine print also aware blinds curtains opaque sunlight could wake quite early overall good experience would recommend place would certainly book next time athens   \n",
            "1239                                                                                                                                                                                                                                                                                                                                                                                                                                                                                                                                                                                              elevator scenic views 3 levels plenty space incredible hospitality book   \n",
            "1241                                                                                                                                                                                                                                                            absolutely stunning place stay close everything including acropolis hosts fantastic got back us almost immediately inquiries sleeps 10 rather comfortably views amazing clean hot tub nice touch could need towels plates cooking spices coffee well ya get im happy experience left one 4 star directions athens confusing chaotic place think might way make exact place findable atleast emphasis 9910   \n",
            "1242                                                                                                                                                                                                                                                                                                                                                                                      haris reasonable host communicated well accommodated issue upon stay great location plan staying city athens previous guests left quiet mess unfair haris cleaning crew hindered checkin issue hot water haris rectified giving small refund overall bad stay would work future   \n",
            "1245                                                                                                                                                                                                                                                                                                                                                                                       stella pygmalion fantastic hosts stella arrived greeted us apartment even gave us map suggested best places go pygmalion always quick answer queries helpful place clean could asked also good location minutes walk metro station would recommend place everyone going athens   \n",
            "\n",
            "      is_english sentiment  \n",
            "1209        True  positive  \n",
            "1210        True  positive  \n",
            "1212        True  positive  \n",
            "1213        True   neutral  \n",
            "1214        True  positive  \n",
            "1215        True  positive  \n",
            "1216        True  positive  \n",
            "1218        True  positive  \n",
            "1220        True  positive  \n",
            "1221        True  positive  \n",
            "1222        True  positive  \n",
            "1223        True  positive  \n",
            "1224        True  positive  \n",
            "1225        True   neutral  \n",
            "1226        True  positive  \n",
            "1227        True  positive  \n",
            "1228        True  positive  \n",
            "1229        True  positive  \n",
            "1230        True  positive  \n",
            "1231        True  positive  \n",
            "1232        True  positive  \n",
            "1233        True  positive  \n",
            "1235        True  positive  \n",
            "1236        True  positive  \n",
            "1237        True  positive  \n",
            "1238        True  positive  \n",
            "1239        True  positive  \n",
            "1241        True  positive  \n",
            "1242        True  negative  \n",
            "1245        True  positive  \n"
          ]
        }
      ]
    },
    {
      "cell_type": "markdown",
      "source": [
        "Chart Results"
      ],
      "metadata": {
        "id": "rjyqMocHWAbN"
      }
    },
    {
      "cell_type": "code",
      "source": [
        "import matplotlib.pyplot as plt\n",
        "\n",
        "reviews_2023 = english_reviews_2023.copy()\n",
        "\n",
        "# Drop 'is_english' column\n",
        "reviews_2023 = reviews_2023.drop(['is_english'], axis = 1)\n",
        "reviews_2023 = reviews_2023.reset_index(drop = True)\n",
        "\n",
        "# Plot the Histogram\n",
        "sentiment_count = reviews_2023['sentiment'].value_counts()\n",
        "print(sentiment_count)\n",
        "sentiment_count.plot(kind='bar')\n",
        "\n",
        "# Title and Label\n",
        "plt.title('Sentiment Distribution')\n",
        "plt.xlabel('Sentiment')\n",
        "plt.ylabel('Number of Reviews')\n",
        "\n",
        "# Show Plot\n",
        "plt.show()"
      ],
      "metadata": {
        "colab": {
          "base_uri": "https://localhost:8080/",
          "height": 606
        },
        "id": "yHoqE_vKWCKC",
        "outputId": "f5e05990-dcb1-48f8-df10-647ac4f9e5c4"
      },
      "execution_count": null,
      "outputs": [
        {
          "output_type": "stream",
          "name": "stdout",
          "text": [
            "sentiment\n",
            "positive    885\n",
            "neutral      96\n",
            "negative     19\n",
            "Name: count, dtype: int64\n"
          ]
        },
        {
          "output_type": "display_data",
          "data": {
            "text/plain": [
              "<Figure size 640x480 with 1 Axes>"
            ],
            "image/png": "[encoded data removed]"
          },
          "metadata": {}
        }
      ]
    },
    {
      "cell_type": "markdown",
      "source": [
        "Export Resulting Dataframe"
      ],
      "metadata": {
        "id": "yOV4-D0cWyqb"
      }
    },
    {
      "cell_type": "code",
      "source": [
        "reviews_2023 = reviews_2023.reset_index(drop = True)\n",
        "reviews_2023.to_csv('/content/gdrive/My Drive/Data_Mining_CSV/2023/reviews_2023.csv', index = False)"
      ],
      "metadata": {
        "id": "Gx5H9TxmW1xM"
      },
      "execution_count": null,
      "outputs": []
    },
    {
      "cell_type": "markdown",
      "source": [
        "# **Μέρος 2**"
      ],
      "metadata": {
        "id": "_6YyPxFFE9lX"
      }
    },
    {
      "cell_type": "markdown",
      "source": [
        "Open File"
      ],
      "metadata": {
        "id": "c_NeT6WrFMoz"
      }
    },
    {
      "cell_type": "code",
      "source": [
        "reviews_2023 = pd.read_csv(filePath + 'reviews_2023.csv')"
      ],
      "metadata": {
        "id": "dNeqeYtNFTwS"
      },
      "execution_count": null,
      "outputs": []
    },
    {
      "cell_type": "markdown",
      "source": [
        "Match Sentiments with numbers (positive = 1, neutral = 0, negative = 2)"
      ],
      "metadata": {
        "id": "NNeuYPorFCh-"
      }
    },
    {
      "cell_type": "code",
      "source": [
        "sentiment_mapping = {'positive': 1, 'neutral': 0, 'negative': 2}\n",
        "reviews_2023['sentiment'] = reviews_2023['sentiment'].map(sentiment_mapping)\n",
        "\n",
        "print(reviews_2023.head())"
      ],
      "metadata": {
        "colab": {
          "base_uri": "https://localhost:8080/"
        },
        "id": "cBpAoqRwFKQb",
        "outputId": "51ca16e5-f3b1-4d9f-f4d9-a3abf5b9a2d9"
      },
      "execution_count": null,
      "outputs": [
        {
          "output_type": "stream",
          "name": "stdout",
          "text": [
            "         id                                             review  sentiment\n",
            "0    271535  apartment wonderful fully equiped beautiful de...          1\n",
            "1   1994237  emmanouil excellent host provided us everythin...          1\n",
            "2  12184199  wife daughter spent five days beauty light col...          1\n",
            "3  13197921  great stay soulas apartment loved decoration f...          1\n",
            "4  13393565  beautiful clean apartment plenty space stayed ...          1\n"
          ]
        }
      ]
    },
    {
      "cell_type": "markdown",
      "source": [
        "Prepare Data Points"
      ],
      "metadata": {
        "id": "PIgqnapSF5uW"
      }
    },
    {
      "cell_type": "code",
      "source": [
        "from sklearn.model_selection import train_test_split\n",
        "\n",
        "train_reviews, test_reviews = train_test_split(reviews_2023, test_size = 0.2, random_state = 42)\n",
        "\n",
        "# Save to .tsv format\n",
        "train_reviews.to_csv(filePath + 'train.tsv', sep='\\t', index = False)\n",
        "test_reviews.to_csv(filePath + 'test.tsv', sep='\\t', index = False)"
      ],
      "metadata": {
        "id": "yZDvwaTbF-f-"
      },
      "execution_count": null,
      "outputs": []
    },
    {
      "cell_type": "markdown",
      "source": [
        "Characteristics Preparation with TF-IDF"
      ],
      "metadata": {
        "id": "31nHB0tXGd7z"
      }
    },
    {
      "cell_type": "code",
      "source": [
        "from sklearn.feature_extraction.text import TfidfVectorizer\n",
        "\n",
        "train_reviews['review'] = train_reviews['review'].fillna('')\n",
        "test_reviews['review'] = test_reviews['review'].fillna('')\n",
        "\n",
        "# Vectorizer Creation\n",
        "tfidf_Vectorizer = TfidfVectorizer(max_df=0.1, min_df=1, max_features=200)\n",
        "\n",
        "# Convert to TF-IDF train data reviews\n",
        "X_train_tfidf = tfidf_Vectorizer.fit_transform(train_reviews['review'])\n",
        "\n",
        "# Convert to TF-IDF test data reviews\n",
        "X_test_tfidf = tfidf_Vectorizer.fit_transform(test_reviews['review'])\n",
        "\n",
        "# Shape Check\n",
        "print(X_train_tfidf.shape)\n",
        "print(X_test_tfidf.shape)"
      ],
      "metadata": {
        "colab": {
          "base_uri": "https://localhost:8080/"
        },
        "id": "wky5ridIGqn8",
        "outputId": "9a958675-4696-4d1f-a1ef-e347c7f17378"
      },
      "execution_count": null,
      "outputs": [
        {
          "output_type": "stream",
          "name": "stdout",
          "text": [
            "(800, 200)\n",
            "(200, 200)\n"
          ]
        }
      ]
    },
    {
      "cell_type": "markdown",
      "source": [
        "Characteristics Preparation with Word Embeddings using Word2Vec model"
      ],
      "metadata": {
        "id": "uZ8g8hHjHz7W"
      }
    },
    {
      "cell_type": "code",
      "source": [
        "# Seperate reviews to words\n",
        "train_sentence = [review.split() for review in train_reviews['review']]\n",
        "test_sentence = [review.split() for review in test_reviews['review']]\n",
        "\n",
        "# Train Word2Vec model\n",
        "word2vecModel = Word2Vec(sentences=train_sentence, vector_size=200, window=5, min_count=1, workers=4, seed=42)\n",
        "\n",
        "# Function for calculating the mean of words to get the embedding for the review\n",
        "def embedding_review(review, model):\n",
        "  words = review.split()\n",
        "  word_vectors = [model.wv[word] for word in words if word in model.wv]\n",
        "  if len(word_vectors) == 0:\n",
        "    return np.zeros(model.vector_size)\n",
        "  else:\n",
        "    return np.mean(word_vectors, axis=0)\n",
        "\n",
        "# Train dataset using Word Embeddings\n",
        "X_train_embeddings = np.vstack([embedding_review(review, word2vecModel) for review in train_reviews['review']])\n",
        "\n",
        "# Test dataset using Word Embeddings\n",
        "X_test_embeddings = np.vstack([embedding_review(review, word2vecModel) for review in test_reviews['review']])\n",
        "\n",
        "# Shape Check\n",
        "print(X_train_embeddings.shape)\n",
        "print(X_test_embeddings.shape)"
      ],
      "metadata": {
        "colab": {
          "base_uri": "https://localhost:8080/"
        },
        "id": "rk_X4WwEH5QN",
        "outputId": "57413fed-33b9-479b-f69d-7bb89e17681c"
      },
      "execution_count": null,
      "outputs": [
        {
          "output_type": "stream",
          "name": "stdout",
          "text": [
            "(800, 200)\n",
            "(200, 200)\n"
          ]
        }
      ]
    },
    {
      "cell_type": "markdown",
      "source": [
        "Save to pickle file"
      ],
      "metadata": {
        "id": "lmX-KSByKL1P"
      }
    },
    {
      "cell_type": "code",
      "source": [
        "import pickle\n",
        "\n",
        "# Save TF-IDF Files\n",
        "with open(filePath + 'X_train_tfidf.pkl', 'wb') as file:\n",
        "  pickle.dump(X_train_tfidf, file)\n",
        "\n",
        "with open(filePath + 'X_test_tfidf.pkl', 'wb') as file:\n",
        "  pickle.dump(X_test_tfidf, file)\n",
        "\n",
        "# Save Word2Vec Files\n",
        "with open(filePath + 'X_train_embeddings.pkl', 'wb') as file:\n",
        "  pickle.dump(X_train_embeddings, file)\n",
        "\n",
        "with open(filePath + 'X_test_embeddings.pkl', 'wb') as file:\n",
        "  pickle.dump(X_test_embeddings, file)\n",
        "\n",
        "# Save TF-IDF Vectorizer\n",
        "with open(filePath + 'tfidf_vectorizer.pkl', 'wb') as file:\n",
        "  pickle.dump(tfidf_Vectorizer, file)\n",
        "\n",
        "# Save Sentiments\n",
        "with open(filePath + 'Y_train_reviews.pkl', 'wb') as file:\n",
        "  pickle.dump(train_reviews['sentiment'].values, file)\n",
        "\n",
        "with open(filePath + 'Y_test_reviews.pkl', 'wb') as file:\n",
        "  pickle.dump(test_reviews['sentiment'].values, file)"
      ],
      "metadata": {
        "id": "-ucpfCHPKPlF"
      },
      "execution_count": null,
      "outputs": []
    },
    {
      "cell_type": "markdown",
      "source": [
        "Load from pickle file"
      ],
      "metadata": {
        "id": "uKfoszpYLkuu"
      }
    },
    {
      "cell_type": "code",
      "source": [
        "import pickle\n",
        "\n",
        "# Load TF-IDF Files\n",
        "with open(filePath + 'X_train_tfidf.pkl', 'rb') as file:\n",
        "  X_train_tfidf = pickle.load(file)\n",
        "\n",
        "with open(filePath + 'X_test_tfidf.pkl', 'rb') as file:\n",
        "  X_test_tfidf = pickle.load(file)\n",
        "\n",
        "# Load Word2Vec Files\n",
        "with open(filePath + 'X_train_embeddings.pkl', 'rb') as file:\n",
        "  X_train_embeddings = pickle.load(file)\n",
        "\n",
        "with open(filePath + 'X_test_embeddings.pkl', 'rb') as file:\n",
        "  X_test_embeddings = pickle.load(file)\n",
        "\n",
        "# Load TF-IDF Vectorizer\n",
        "with open(filePath + 'tfidf_vectorizer.pkl', 'rb') as file:\n",
        "  tfidf_Vectorizer = pickle.load(file)\n",
        "\n",
        "# Load Sentiments\n",
        "with open(filePath + 'Y_train_reviews.pkl', 'rb') as file:\n",
        "  Y_train_reviews = pickle.load(file)\n",
        "\n",
        "with open(filePath + 'Y_test_reviews.pkl', 'rb') as file:\n",
        "  Y_test_reviews = pickle.load(file)"
      ],
      "metadata": {
        "id": "bHJKKDqcLm3h"
      },
      "execution_count": null,
      "outputs": []
    },
    {
      "cell_type": "markdown",
      "source": [
        "For TF-IDF Characteristics we use SVM sorting"
      ],
      "metadata": {
        "id": "cDsYHlNaMtUD"
      }
    },
    {
      "cell_type": "code",
      "source": [
        "from sklearn import svm\n",
        "from sklearn.metrics import precision_recall_fscore_support, accuracy_score, make_scorer\n",
        "from sklearn.model_selection import cross_val_score, cross_validate, StratifiedKFold\n",
        "\n",
        "# Custom scorer functions to handle zero_division\n",
        "def precision_macro(y_true, y_pred):\n",
        "    return precision_recall_fscore_support(y_true, y_pred, average='macro', zero_division=0)[0]\n",
        "\n",
        "def recall_macro(y_true, y_pred):\n",
        "    return precision_recall_fscore_support(y_true, y_pred, average='macro', zero_division=0)[1]\n",
        "\n",
        "def f1_macro(y_true, y_pred):\n",
        "    return precision_recall_fscore_support(y_true, y_pred, average='macro', zero_division=0)[2]\n",
        "\n",
        "# Define custom scorers\n",
        "scoring = {\n",
        "    'precision_macro': make_scorer(precision_macro),\n",
        "    'recall_macro': make_scorer(recall_macro),\n",
        "    'f1_macro': make_scorer(f1_macro),\n",
        "    'accuracy': 'accuracy'\n",
        "}\n",
        "\n",
        "# Load Classifer\n",
        "classifier_svm = svm.SVC()\n",
        "\n",
        "# Train SVM\n",
        "classifier_svm.fit(X_train_tfidf, Y_train_reviews)\n",
        "\n",
        "# Predict at test data\n",
        "Y_pred_svm = classifier_svm.predict(X_test_tfidf)\n",
        "\n",
        "# Evaluate Classifier using Cross-Validation\n",
        "scores = cross_validate(classifier_svm, X_train_tfidf, Y_train_reviews, cv=10, scoring=scoring)\n",
        "\n",
        "# Print Cross-Validation Results\n",
        "print(f\"Cross-Validation Results:\")\n",
        "print(f\"Precision: {np.mean(scores['test_precision_macro']):.4f}\")\n",
        "print(f\"Recall: {np.mean(scores['test_recall_macro']):.4f}\")\n",
        "print(f\"F1 Score: {np.mean(scores['test_f1_macro']):.4f}\")\n",
        "print(f\"Accuracy: {np.mean(scores['test_accuracy']):.4f}\")\n",
        "print(\"\\n\")\n",
        "\n",
        "# Evaluate Test Data\n",
        "test_accuracy = accuracy_score(Y_test_reviews, Y_pred_svm)\n",
        "test_precision, test_recall, test_f1, _ = precision_recall_fscore_support(Y_test_reviews, Y_pred_svm, average='macro', zero_division=0)\n",
        "\n",
        "# Print Results\n",
        "print(\"Test Data Results:\")\n",
        "print(f\"Test Accuracy: {test_accuracy:.4f}\")\n",
        "print(f\"Test Precision: {test_precision:.4f}\")\n",
        "print(f\"Test Recall: {test_recall:.4f}\")\n",
        "print(f\"Test F1 Score: {test_f1:.4f}\")\n"
      ],
      "metadata": {
        "id": "sBcF9sPmM1T0",
        "colab": {
          "base_uri": "https://localhost:8080/"
        },
        "outputId": "077f6b4e-bc3a-4e2b-8828-0c77c4fff39b"
      },
      "execution_count": null,
      "outputs": [
        {
          "output_type": "stream",
          "name": "stdout",
          "text": [
            "Cross-Validation Results:\n",
            "Precision: 0.4996\n",
            "Recall: 0.3815\n",
            "F1 Score: 0.3876\n",
            "Accuracy: 0.9000\n",
            "\n",
            "\n",
            "Test Data Results:\n",
            "Test Accuracy: 0.8850\n",
            "Test Precision: 0.6281\n",
            "Test Recall: 0.3500\n",
            "Test F1 Score: 0.3446\n"
          ]
        }
      ]
    },
    {
      "cell_type": "markdown",
      "source": [
        "For TF-IDF Characteristics we use Random Forests sorting"
      ],
      "metadata": {
        "id": "htIJpeI8T7My"
      }
    },
    {
      "cell_type": "code",
      "source": [
        "from sklearn.ensemble import RandomForestClassifier\n",
        "from sklearn.metrics import precision_recall_fscore_support, accuracy_score, make_scorer\n",
        "from sklearn.model_selection import cross_val_score, cross_validate, StratifiedKFold\n",
        "\n",
        "# Custom scorer functions to handle zero_division\n",
        "def precision_macro(y_true, y_pred):\n",
        "    return precision_recall_fscore_support(y_true, y_pred, average='macro', zero_division=0)[0]\n",
        "\n",
        "def recall_macro(y_true, y_pred):\n",
        "    return precision_recall_fscore_support(y_true, y_pred, average='macro', zero_division=0)[1]\n",
        "\n",
        "def f1_macro(y_true, y_pred):\n",
        "    return precision_recall_fscore_support(y_true, y_pred, average='macro', zero_division=0)[2]\n",
        "\n",
        "# Define custom scorers\n",
        "scoring = {\n",
        "    'precision_macro': make_scorer(precision_macro),\n",
        "    'recall_macro': make_scorer(recall_macro),\n",
        "    'f1_macro': make_scorer(f1_macro),\n",
        "    'accuracy': 'accuracy'\n",
        "}\n",
        "\n",
        "# Load Classifier\n",
        "classifier_rf = RandomForestClassifier()\n",
        "\n",
        "# Train Random Forest\n",
        "classifier_rf.fit(X_train_tfidf, Y_train_reviews)\n",
        "\n",
        "# Predict at test data\n",
        "Y_pred_rf = classifier_rf.predict(X_test_tfidf)\n",
        "\n",
        "# Evaluate Classifier using Cross-Validation\n",
        "scores = cross_validate(classifier_rf, X_train_tfidf, Y_train_reviews, cv=10, scoring=scoring)\n",
        "\n",
        "# Print Cross-Validation Results\n",
        "print(f\"Cross-Validation Results:\")\n",
        "print(f\"Precision: {np.mean(scores['test_precision_macro']):.4f}\")\n",
        "print(f\"Recall: {np.mean(scores['test_recall_macro']):.4f}\")\n",
        "print(f\"F1 Score: {np.mean(scores['test_f1_macro']):.4f}\")\n",
        "print(f\"Accuracy: {np.mean(scores['test_accuracy']):.4f}\")\n",
        "print(\"\\n\")\n",
        "\n",
        "# Evaluate Test Data\n",
        "test_accuracy = accuracy_score(Y_test_reviews, Y_pred_rf)\n",
        "test_precision, test_recall, test_f1, _ = precision_recall_fscore_support(Y_test_reviews, Y_pred_rf, average='macro', zero_division=0)\n",
        "\n",
        "# Print Results\n",
        "print(\"Test Data Results:\")\n",
        "print(f\"Test Accuracy: {test_accuracy:.4f}\")\n",
        "print(f\"Test Precision: {test_precision:.4f}\")\n",
        "print(f\"Test Recall: {test_recall:.4f}\")\n",
        "print(f\"Test F1 Score: {test_f1:.4f}\")\n"
      ],
      "metadata": {
        "colab": {
          "base_uri": "https://localhost:8080/"
        },
        "id": "jmyyNF8IUB1o",
        "outputId": "f5ed4aef-bf04-4787-b0c2-17cad169ed04"
      },
      "execution_count": null,
      "outputs": [
        {
          "output_type": "stream",
          "name": "stdout",
          "text": [
            "Cross-Validation Results:\n",
            "Precision: 0.5436\n",
            "Recall: 0.4297\n",
            "F1 Score: 0.4399\n",
            "Accuracy: 0.8975\n",
            "\n",
            "\n",
            "Test Data Results:\n",
            "Test Accuracy: 0.8800\n",
            "Test Precision: 0.6279\n",
            "Test Recall: 0.3481\n",
            "Test F1 Score: 0.3437\n"
          ]
        }
      ]
    },
    {
      "cell_type": "markdown",
      "source": [
        "For TF-IDF Characteristics we use KNN sorting"
      ],
      "metadata": {
        "id": "4-VpVBdnUbYB"
      }
    },
    {
      "cell_type": "code",
      "source": [
        "from sklearn.neighbors import KNeighborsClassifier\n",
        "from sklearn.metrics import precision_recall_fscore_support, accuracy_score, make_scorer\n",
        "from sklearn.model_selection import cross_val_score, cross_validate, StratifiedKFold\n",
        "\n",
        "# Custom scorer functions to handle zero_division\n",
        "def precision_macro(y_true, y_pred):\n",
        "    return precision_recall_fscore_support(y_true, y_pred, average='macro', zero_division=0)[0]\n",
        "\n",
        "def recall_macro(y_true, y_pred):\n",
        "    return precision_recall_fscore_support(y_true, y_pred, average='macro', zero_division=0)[1]\n",
        "\n",
        "def f1_macro(y_true, y_pred):\n",
        "    return precision_recall_fscore_support(y_true, y_pred, average='macro', zero_division=0)[2]\n",
        "\n",
        "# Define custom scorers\n",
        "scoring = {\n",
        "    'precision_macro': make_scorer(precision_macro),\n",
        "    'recall_macro': make_scorer(recall_macro),\n",
        "    'f1_macro': make_scorer(f1_macro),\n",
        "    'accuracy': 'accuracy'\n",
        "}\n",
        "\n",
        "# Load Classifier\n",
        "classifier_knn = KNeighborsClassifier()\n",
        "\n",
        "# Train KNN\n",
        "classifier_knn.fit(X_train_tfidf, Y_train_reviews)\n",
        "\n",
        "# Predict at test data\n",
        "Y_pred_knn = classifier_knn.predict(X_test_tfidf)\n",
        "\n",
        "# Evaluate Classifier using Cross-Validation\n",
        "scores = cross_validate(classifier_knn, X_train_tfidf, Y_train_reviews, cv=10, scoring=scoring)\n",
        "\n",
        "# Print Cross-Validation Results\n",
        "print(f\"Cross-Validation Results:\")\n",
        "print(f\"Precision: {np.mean(scores['test_precision_macro']):.4f}\")\n",
        "print(f\"Recall: {np.mean(scores['test_recall_macro']):.4f}\")\n",
        "print(f\"F1 Score: {np.mean(scores['test_f1_macro']):.4f}\")\n",
        "print(f\"Accuracy: {np.mean(scores['test_accuracy']):.4f}\")\n",
        "print(\"\\n\")\n",
        "\n",
        "# Evaluate Test Data\n",
        "test_accuracy = accuracy_score(Y_test_reviews, Y_pred_knn)\n",
        "test_precision, test_recall, test_f1, _ = precision_recall_fscore_support(Y_test_reviews, Y_pred_knn, average='macro', zero_division=0)\n",
        "\n",
        "# Print Results\n",
        "print(\"Test Data Results:\")\n",
        "print(f\"Test Accuracy: {test_accuracy:.4f}\")\n",
        "print(f\"Test Precision: {test_precision:.4f}\")\n",
        "print(f\"Test Recall: {test_recall:.4f}\")\n",
        "print(f\"Test F1 Score: {test_f1:.4f}\")\n"
      ],
      "metadata": {
        "colab": {
          "base_uri": "https://localhost:8080/"
        },
        "id": "5Kw0bbmIUWHx",
        "outputId": "c1089892-ef88-4080-97ca-bfc16ee7c274"
      },
      "execution_count": null,
      "outputs": [
        {
          "output_type": "stream",
          "name": "stdout",
          "text": [
            "Cross-Validation Results:\n",
            "Precision: 0.4537\n",
            "Recall: 0.3839\n",
            "F1 Score: 0.3914\n",
            "Accuracy: 0.8850\n",
            "\n",
            "\n",
            "Test Data Results:\n",
            "Test Accuracy: 0.8750\n",
            "Test Precision: 0.4055\n",
            "Test Recall: 0.3462\n",
            "Test F1 Score: 0.3400\n"
          ]
        }
      ]
    },
    {
      "cell_type": "markdown",
      "source": [
        "# **Μερος 3**"
      ],
      "metadata": {
        "id": "pvrZD0IgIXCv"
      }
    },
    {
      "cell_type": "markdown",
      "source": [
        "Open File"
      ],
      "metadata": {
        "id": "zgeV4XDaixPV"
      }
    },
    {
      "cell_type": "code",
      "source": [
        "reviews_2023 = pd.read_csv(filePath + 'reviews_2023.csv')"
      ],
      "metadata": {
        "id": "O8GKUB5riwjt"
      },
      "execution_count": 6,
      "outputs": []
    },
    {
      "cell_type": "markdown",
      "source": [
        "Train model from reviews"
      ],
      "metadata": {
        "id": "tep5fDyhmzMs"
      }
    },
    {
      "cell_type": "code",
      "source": [
        "# Word Sample (ex. 500 reviews)\n",
        "review_sample = reviews_2023.head(500)\n",
        "review_sample = reviews_2023.copy()\n",
        "\n",
        "sentences = [review.split() for review in review_sample['review']]\n",
        "\n",
        "# Find the 100 most commonly used words\n",
        "words = [word for tokens in sentences for word in tokens]\n",
        "counter = Counter(words)\n",
        "most_commonly_used_words = [word for word, count in counter.most_common(100)]\n",
        "\n",
        "# Initialize and Train Word2Vec Model\n",
        "model = Word2Vec(sentences, vector_size=200, window=5, min_count=1, workers=4)\n",
        "\n",
        "# Word Embeddings for Most Commonly Used Words\n",
        "word_embeddings = {word: model.wv[word] for word in most_commonly_used_words if word in model.wv}\n",
        "\n",
        "# Display Word Embeddings\n",
        "for word, embedding in word_embeddings.items():\n",
        "  print(f\"{word}: {embedding[:5]}...\")"
      ],
      "metadata": {
        "colab": {
          "base_uri": "https://localhost:8080/"
        },
        "id": "z1tTD4Eoieda",
        "outputId": "dd23f894-9cc1-42fd-c1c2-d97702476af3"
      },
      "execution_count": 7,
      "outputs": [
        {
          "output_type": "stream",
          "name": "stdout",
          "text": [
            "apartment: [ 0.14731483 -0.08670684  0.11896034  0.3487581   0.49568224]...\n",
            "great: [ 0.1223793  -0.06987142  0.09193122  0.28574738  0.4205816 ]...\n",
            "stay: [ 0.11360095 -0.06725922  0.08756376  0.26999533  0.39246413]...\n",
            "athens: [ 0.13612325 -0.08083509  0.10377719  0.30924815  0.4472769 ]...\n",
            "us: [ 0.1519649  -0.08917078  0.12598392  0.3733685   0.5394086 ]...\n",
            "place: [ 0.12562305 -0.07152744  0.10095465  0.2791322   0.40806   ]...\n",
            "location: [ 0.10368448 -0.06537457  0.0880537   0.24441236  0.36528105]...\n",
            "clean: [ 0.11544959 -0.05970326  0.08764849  0.2529594   0.382034  ]...\n",
            "everything: [ 0.11671033 -0.07471499  0.09325141  0.27113938  0.39998892]...\n",
            "host: [ 0.12319399 -0.07501281  0.08900959  0.2753546   0.40290987]...\n",
            "nice: [ 0.11670126 -0.06732122  0.08913941  0.27546728  0.39616454]...\n",
            "would: [ 0.12199166 -0.06742618  0.09793217  0.2868001   0.40133762]...\n",
            "recommend: [ 0.10291445 -0.06078755  0.08578029  0.24258421  0.34497073]...\n",
            "flat: [ 0.11619802 -0.07073625  0.08993975  0.28210786  0.4070149 ]...\n",
            "good: [ 0.12116689 -0.06983066  0.0864699   0.27886564  0.39844346]...\n",
            "metro: [ 0.12097089 -0.07513179  0.09598733  0.2938124   0.41717577]...\n",
            "well: [ 0.13666175 -0.08473004  0.09888657  0.31041673  0.45490903]...\n",
            "comfortable: [ 0.10540022 -0.06524836  0.08080082  0.2442836   0.35777086]...\n",
            "really: [ 0.11418653 -0.06056231  0.08363582  0.25967595  0.3754871 ]...\n",
            "perfect: [ 0.08837697 -0.05702103  0.06894621  0.21707529  0.31183466]...\n",
            "also: [ 0.1521748  -0.09611561  0.11958096  0.3611074   0.529904  ]...\n",
            "close: [ 0.11657261 -0.07197078  0.08305033  0.26708817  0.39699078]...\n",
            "acropolis: [ 0.11778454 -0.07640423  0.10355657  0.30401236  0.43019506]...\n",
            "time: [ 0.1126877  -0.06521627  0.08535632  0.27306625  0.39485517]...\n",
            "helpful: [ 0.11962502 -0.06686357  0.09664993  0.2767408   0.4042916 ]...\n",
            "walk: [ 0.11997724 -0.0794623   0.08634958  0.28322595  0.40064514]...\n",
            "fotis: [ 0.12615475 -0.07169864  0.09257053  0.29091918  0.41035664]...\n",
            "easy: [ 0.11431452 -0.07717778  0.09532382  0.28153336  0.402373  ]...\n",
            "restaurants: [ 0.12622868 -0.07374042  0.09140628  0.28752056  0.4197249 ]...\n",
            "even: [ 0.14124973 -0.08147527  0.10803868  0.33363205  0.4846636 ]...\n",
            "highly: [ 0.0930493  -0.05889118  0.07716496  0.21274625  0.2989908 ]...\n",
            "city: [ 0.11724523 -0.06997853  0.09073225  0.27203873  0.39861023]...\n",
            "amazing: [ 0.07235333 -0.04191581  0.05929841  0.18181656  0.26785174]...\n",
            "area: [ 0.1216723  -0.07893901  0.0921797   0.29482445  0.4221058 ]...\n",
            "view: [ 0.10182358 -0.06111505  0.08981337  0.24358669  0.36122456]...\n",
            "haris: [ 0.0876576  -0.04920573  0.06956307  0.2081244   0.3001808 ]...\n",
            "needed: [ 0.09914041 -0.0571809   0.07964493  0.24031244  0.3531234 ]...\n",
            "one: [ 0.13405567 -0.08455063  0.10581491  0.3088858   0.45509058]...\n",
            "quiet: [ 0.10194732 -0.05832462  0.08700101  0.24865209  0.3625982 ]...\n",
            "spacious: [ 0.09329587 -0.04908478  0.07438299  0.20587423  0.3136898 ]...\n",
            "walking: [ 0.09682164 -0.05518351  0.07409998  0.22460659  0.3332411 ]...\n",
            "need: [ 0.11635046 -0.0680078   0.09130993  0.2666285   0.38682225]...\n",
            "home: [ 0.09786128 -0.05858365  0.07601837  0.22245625  0.32796088]...\n",
            "definitely: [ 0.07916015 -0.04430509  0.06354171  0.16738854  0.24685624]...\n",
            "get: [ 0.12276375 -0.07584549  0.10097492  0.2890925   0.42748925]...\n",
            "located: [ 0.09858838 -0.05731228  0.07275082  0.22269563  0.32364318]...\n",
            "around: [ 0.10522383 -0.06797538  0.08030533  0.24777181  0.36941427]...\n",
            "excellent: [ 0.09140675 -0.05133464  0.07147563  0.21073698  0.31569657]...\n",
            "lovely: [ 0.09628553 -0.05851166  0.07987592  0.23452958  0.33938786]...\n",
            "beautiful: [ 0.0927536  -0.05760623  0.0734424   0.21547805  0.30602667]...\n",
            "pygmalion: [ 0.08562027 -0.05244403  0.06577518  0.2109351   0.2979235 ]...\n",
            "soula: [ 0.11048936 -0.06344049  0.0885587   0.2630691   0.3813373 ]...\n",
            "wonderful: [ 0.08848449 -0.04701816  0.06808624  0.19904812  0.29586458]...\n",
            "best: [ 0.11685614 -0.0690475   0.09574486  0.27612528  0.40059978]...\n",
            "day: [ 0.13369867 -0.08090623  0.10218059  0.3055727   0.4394732 ]...\n",
            "minutes: [ 0.10415376 -0.0699631   0.07872181  0.2517111   0.35504764]...\n",
            "back: [ 0.1164459  -0.06124057  0.0817767   0.25336853  0.36657888]...\n",
            "like: [ 0.121962   -0.07428809  0.09659316  0.27562684  0.40583286]...\n",
            "neighborhood: [ 0.11362593 -0.06882112  0.09004045  0.27050224  0.40197027]...\n",
            "soulas: [ 0.08262925 -0.04285602  0.05593351  0.18011764  0.25907803]...\n",
            "stayed: [ 0.09808069 -0.05717788  0.07979816  0.22944011  0.33787024]...\n",
            "night: [ 0.12762372 -0.07488433  0.09962216  0.2894726   0.42209497]...\n",
            "station: [ 0.09309268 -0.05761746  0.07184958  0.23257719  0.32372907]...\n",
            "experience: [ 0.09839844 -0.06453989  0.07636785  0.24098645  0.34913817]...\n",
            "made: [ 0.09817421 -0.0646934   0.07878763  0.23140286  0.3375097 ]...\n",
            "go: [ 0.11270874 -0.06177149  0.08388833  0.260166    0.37241295]...\n",
            "george: [ 0.10439012 -0.0674281   0.08284789  0.2462137   0.36181498]...\n",
            "many: [ 0.10307653 -0.0664738   0.08902286  0.25408518  0.37924162]...\n",
            "distance: [ 0.06734947 -0.05099338  0.06431243  0.1898423   0.26331484]...\n",
            "away: [ 0.11473939 -0.07066094  0.09432545  0.2730253   0.3912767 ]...\n",
            "staying: [ 0.08205979 -0.04770724  0.06798649  0.1905607   0.26364836]...\n",
            "enjoyed: [ 0.08578873 -0.05212871  0.0704179   0.20189182  0.29677635]...\n",
            "much: [ 0.10385286 -0.05949244  0.07614504  0.24412102  0.3494011 ]...\n",
            "thank: [ 0.0700528  -0.04687561  0.05972041  0.17655937  0.24436668]...\n",
            "could: [ 0.1066094  -0.06468199  0.08589594  0.2599466   0.3718342 ]...\n",
            "street: [ 0.11902227 -0.0669303   0.09566989  0.28196862  0.406287  ]...\n",
            "gave: [ 0.07383152 -0.05271954  0.05951937  0.18725182  0.26579228]...\n",
            "kitchen: [ 0.10640752 -0.05916695  0.08034983  0.2424078   0.35175297]...\n",
            "fantastic: [ 0.06366405 -0.03695785  0.04459928  0.14302555  0.20865753]...\n",
            "friendly: [ 0.0783882  -0.04461164  0.06431801  0.17843564  0.2677579 ]...\n",
            "coffee: [ 0.11805497 -0.07810813  0.09114382  0.28887233  0.41543645]...\n",
            "visit: [ 0.08202393 -0.04549527  0.06213788  0.1979281   0.2804389 ]...\n",
            "met: [ 0.08302525 -0.04953788  0.07192593  0.20232877  0.2974643 ]...\n",
            "space: [ 0.0950277  -0.05460116  0.07341272  0.22361358  0.32013708]...\n",
            "two: [ 0.09799282 -0.06219092  0.07515257  0.23017436  0.3280439 ]...\n",
            "thanks: [ 0.06097794 -0.03844018  0.04526236  0.14723921  0.20403428]...\n",
            "room: [ 0.10092481 -0.06155493  0.08391447  0.24360117  0.3460253 ]...\n",
            "rooftop: [ 0.07461559 -0.04244354  0.06945585  0.18486872  0.27898815]...\n",
            "central: [ 0.07077929 -0.04477242  0.05983952  0.17859234  0.25651246]...\n",
            "safe: [ 0.07150809 -0.0465875   0.06176363  0.18499805  0.26482508]...\n",
            "first: [ 0.08964204 -0.05358962  0.06924324  0.20536366  0.29902762]...\n",
            "terrace: [ 0.08058939 -0.04418602  0.06774229  0.19618584  0.27667183]...\n",
            "balcony: [ 0.11240417 -0.07013338  0.08782901  0.2661268   0.3810595 ]...\n",
            "convenient: [ 0.06866052 -0.04323938  0.05170802  0.17366578  0.2418654 ]...\n",
            "equipped: [ 0.07864978 -0.04637602  0.06601406  0.1901389   0.27701533]...\n",
            "5: [ 0.09454482 -0.05654211  0.06605126  0.21314824  0.3128944 ]...\n",
            "house: [ 0.08686625 -0.05939114  0.0705313   0.21636473  0.31297594]...\n",
            "felt: [ 0.08771585 -0.0487307   0.06359673  0.19293128  0.2854609 ]...\n",
            "always: [ 0.08428772 -0.05036214  0.07217387  0.20073394  0.29699913]...\n",
            "feel: [ 0.07637148 -0.04390226  0.05217559  0.17222755  0.25188887]...\n"
          ]
        }
      ]
    },
    {
      "cell_type": "markdown",
      "source": [
        "Calculate Cosine Similarity"
      ],
      "metadata": {
        "id": "zsxtk5bYmuoD"
      }
    },
    {
      "cell_type": "code",
      "source": [
        "from sklearn.metrics.pairwise import cosine_similarity\n",
        "\n",
        "# Word Embeddings for All Most Common Used Words\n",
        "word_embeddings_matric = np.array([word_embeddings[word] for word in most_commonly_used_words])\n",
        "\n",
        "# Calculate Cosine Similarity for all word pairs\n",
        "cosine_similarities = cosine_similarity(word_embeddings_matric)\n",
        "\n",
        "# Similarities Dictionary\n",
        "similarities_dict = {}\n",
        "\n",
        "# Fill Similarities Dictionary with words as keys and a list of similarities as values\n",
        "for x, x_word in enumerate(most_commonly_used_words):\n",
        "  temp_lst = []\n",
        "  for y, y_word in enumerate(most_commonly_used_words):\n",
        "    similarity = cosine_similarities[x][y]\n",
        "    temp_lst.append((y_word, similarity))\n",
        "  similarities_dict[x_word] = temp_lst\n",
        "\n",
        "# Sort Key Values (word) based on Similarity Scores\n",
        "for key, value in similarities_dict.items():\n",
        "  similarities_dict[key] = sorted(value, key=lambda x: x[1], reverse=True)\n",
        "\n",
        "# Results\n",
        "for x,y in similarities_dict.items():\n",
        "  print(x,y)"
      ],
      "metadata": {
        "colab": {
          "base_uri": "https://localhost:8080/"
        },
        "id": "ZQH36cWcm3Bw",
        "outputId": "f2290db1-0a6f-48ec-84f5-1c505ebda152"
      },
      "execution_count": 8,
      "outputs": [
        {
          "output_type": "stream",
          "name": "stdout",
          "text": [
            "apartment [('apartment', 1.0000001), ('place', 0.99991715), ('flat', 0.99991685), ('athens', 0.9999146), ('one', 0.9999132), ('nice', 0.99991244), ('well', 0.99991155), ('day', 0.9999083), ('also', 0.99990606), ('best', 0.9999052), ('fotis', 0.9999022), ('comfortable', 0.9999008), ('area', 0.9999004), ('great', 0.9998993), ('lovely', 0.9998964), ('night', 0.9998957), ('even', 0.9998952), ('really', 0.9998947), ('good', 0.99989426), ('everything', 0.99989253), ('city', 0.99989015), ('quiet', 0.9998887), ('much', 0.9998873), ('stay', 0.9998862), ('location', 0.999886), ('room', 0.99988544), ('clean', 0.99988526), ('kitchen', 0.99988425), ('neighborhood', 0.9998839), ('needed', 0.99988353), ('helpful', 0.9998822), ('street', 0.999882), ('host', 0.9998812), ('coffee', 0.9998809), ('us', 0.99987817), ('balcony', 0.9998778), ('get', 0.9998775), ('soula', 0.99987745), ('time', 0.9998772), ('stayed', 0.99987596), ('george', 0.9998754), ('could', 0.9998754), ('many', 0.9998746), ('beautiful', 0.9998745), ('experience', 0.9998738), ('easy', 0.9998734), ('like', 0.999872), ('space', 0.9998701), ('two', 0.99986714), ('enjoyed', 0.999867), ('house', 0.9998665), ('go', 0.9998662), ('close', 0.99986607), ('excellent', 0.99986607), ('need', 0.99986374), ('perfect', 0.99986285), ('made', 0.9998612), ('located', 0.9998593), ('around', 0.9998589), ('away', 0.9998552), ('haris', 0.9998549), ('wonderful', 0.99985266), ('first', 0.9998515), ('visit', 0.9998514), ('acropolis', 0.99985003), ('back', 0.9998498), ('5', 0.99984616), ('spacious', 0.9998442), ('pygmalion', 0.9998434), ('home', 0.9998356), ('view', 0.99983555), ('metro', 0.9998335), ('felt', 0.99983084), ('always', 0.9998308), ('would', 0.99983054), ('staying', 0.99982536), ('restaurants', 0.99982524), ('safe', 0.9998249), ('thank', 0.9998244), ('met', 0.99981993), ('convenient', 0.99981964), ('amazing', 0.99981546), ('friendly', 0.99981487), ('terrace', 0.9998101), ('minutes', 0.9998083), ('walk', 0.9998059), ('equipped', 0.9998047), ('rooftop', 0.99979895), ('central', 0.99979156), ('soulas', 0.9997868), ('station', 0.9997776), ('feel', 0.9997721), ('gave', 0.99977136), ('recommend', 0.9997647), ('fantastic', 0.9997544), ('thanks', 0.999734), ('definitely', 0.9997038), ('highly', 0.9996403), ('walking', 0.9995748), ('distance', 0.99933964)]\n",
            "great [('great', 0.9999999), ('athens', 0.9999016), ('apartment', 0.9998993), ('nice', 0.9998984), ('also', 0.9998953), ('best', 0.9998932), ('area', 0.999891), ('host', 0.9998898), ('day', 0.9998878), ('even', 0.9998873), ('well', 0.9998857), ('good', 0.9998855), ('helpful', 0.9998854), ('flat', 0.99988484), ('really', 0.9998834), ('fotis', 0.99988323), ('place', 0.999881), ('stay', 0.99988085), ('one', 0.9998807), ('street', 0.9998792), ('time', 0.9998788), ('get', 0.99987787), ('soula', 0.99987644), ('neighborhood', 0.99987453), ('night', 0.9998745), ('coffee', 0.999873), ('lovely', 0.9998716), ('wonderful', 0.999871), ('balcony', 0.99986994), ('much', 0.9998694), ('could', 0.9998667), ('us', 0.9998661), ('space', 0.99986565), ('city', 0.99986464), ('kitchen', 0.9998642), ('two', 0.9998627), ('comfortable', 0.99986064), ('perfect', 0.9998605), ('excellent', 0.99985856), ('quiet', 0.99985796), ('needed', 0.99985766), ('like', 0.99985766), ('experience', 0.9998561), ('location', 0.99985594), ('many', 0.9998546), ('need', 0.9998543), ('acropolis', 0.99985325), ('view', 0.999853), ('everything', 0.99985224), ('easy', 0.99985164), ('haris', 0.9998499), ('back', 0.9998498), ('around', 0.9998495), ('go', 0.9998495), ('george', 0.9998467), ('beautiful', 0.99984545), ('made', 0.99984473), ('house', 0.9998441), ('close', 0.99984384), ('stayed', 0.99984354), ('first', 0.99984103), ('away', 0.9998371), ('5', 0.9998368), ('enjoyed', 0.99983466), ('room', 0.9998332), ('pygmalion', 0.999832), ('always', 0.9998298), ('clean', 0.9998265), ('located', 0.99981874), ('visit', 0.9998187), ('friendly', 0.9998183), ('spacious', 0.99981815), ('terrace', 0.99981683), ('met', 0.9998163), ('felt', 0.9998142), ('minutes', 0.99981254), ('home', 0.99981135), ('convenient', 0.99980795), ('restaurants', 0.9998077), ('metro', 0.9998066), ('amazing', 0.9997998), ('rooftop', 0.99978817), ('staying', 0.99978626), ('would', 0.9997823), ('safe', 0.99978036), ('soulas', 0.9997792), ('walk', 0.99977714), ('station', 0.9997752), ('central', 0.99977326), ('fantastic', 0.99977213), ('equipped', 0.9997715), ('thank', 0.9997705), ('gave', 0.9997642), ('feel', 0.9997609), ('recommend', 0.9997266), ('thanks', 0.99971455), ('definitely', 0.99967337), ('highly', 0.9996204), ('walking', 0.99958736), ('distance', 0.99932164)]\n",
            "stay [('stay', 1.0), ('flat', 0.9998866), ('apartment', 0.9998862), ('athens', 0.99988246), ('great', 0.99988085), ('place', 0.9998796), ('day', 0.9998713), ('really', 0.9998666), ('also', 0.9998666), ('perfect', 0.99986625), ('nice', 0.99986273), ('well', 0.99985975), ('best', 0.99985975), ('much', 0.9998577), ('time', 0.99985766), ('balcony', 0.99985665), ('host', 0.9998538), ('back', 0.9998525), ('lovely', 0.9998511), ('experience', 0.9998505), ('area', 0.9998497), ('helpful', 0.9998481), ('everything', 0.9998462), ('street', 0.9998462), ('needed', 0.9998454), ('quiet', 0.9998448), ('night', 0.99984413), ('one', 0.9998436), ('city', 0.9998426), ('could', 0.9998416), ('get', 0.99984145), ('fotis', 0.99984086), ('kitchen', 0.99984074), ('stayed', 0.99983954), ('need', 0.99983925), ('soula', 0.99983895), ('neighborhood', 0.9998388), ('go', 0.99983865), ('space', 0.9998379), ('would', 0.9998378), ('easy', 0.99983686), ('good', 0.99983585), ('two', 0.99983513), ('excellent', 0.9998347), ('george', 0.9998332), ('beautiful', 0.99983287), ('house', 0.9998315), ('even', 0.9998289), ('enjoyed', 0.9998284), ('many', 0.9998275), ('coffee', 0.99982613), ('location', 0.9998261), ('wonderful', 0.9998245), ('comfortable', 0.99982387), ('like', 0.9998217), ('visit', 0.9998212), ('made', 0.9998164), ('us', 0.99981636), ('around', 0.9998154), ('clean', 0.999815), ('spacious', 0.9998134), ('always', 0.99981195), ('thank', 0.99980974), ('5', 0.99980897), ('haris', 0.99980766), ('close', 0.9998061), ('located', 0.999805), ('home', 0.9998035), ('staying', 0.9998011), ('view', 0.99979466), ('first', 0.99979275), ('room', 0.99979174), ('pygmalion', 0.9997908), ('convenient', 0.9997904), ('away', 0.9997868), ('recommend', 0.9997844), ('felt', 0.9997827), ('restaurants', 0.9997781), ('met', 0.9997773), ('friendly', 0.9997753), ('safe', 0.9997748), ('amazing', 0.99977416), ('soulas', 0.999772), ('metro', 0.9997688), ('acropolis', 0.9997623), ('central', 0.9997606), ('equipped', 0.99976003), ('minutes', 0.99974996), ('terrace', 0.99974114), ('rooftop', 0.99973226), ('walk', 0.99973214), ('definitely', 0.99972683), ('thanks', 0.99972486), ('station', 0.9997216), ('fantastic', 0.99971646), ('feel', 0.99970657), ('gave', 0.9997065), ('highly', 0.9996885), ('walking', 0.9995326), ('distance', 0.99925625)]\n",
            "athens [('athens', 1.0000001), ('apartment', 0.9999146), ('place', 0.9999094), ('good', 0.9999075), ('day', 0.9999063), ('best', 0.99990475), ('also', 0.9999045), ('flat', 0.99990165), ('great', 0.9999016), ('even', 0.9999013), ('one', 0.9998989), ('area', 0.9998983), ('neighborhood', 0.9998977), ('street', 0.9998951), ('get', 0.99989337), ('nice', 0.99989283), ('city', 0.9998927), ('night', 0.99989253), ('host', 0.999891), ('fotis', 0.9998907), ('really', 0.99989015), ('much', 0.99988735), ('lovely', 0.99988663), ('could', 0.999886), ('easy', 0.9998858), ('comfortable', 0.99988514), ('everything', 0.9998838), ('well', 0.99988335), ('stay', 0.99988246), ('time', 0.9998823), ('balcony', 0.999879), ('many', 0.99987733), ('space', 0.99987715), ('house', 0.9998768), ('go', 0.99987644), ('like', 0.9998764), ('back', 0.9998748), ('experience', 0.9998746), ('5', 0.9998738), ('two', 0.99987316), ('beautiful', 0.9998727), ('close', 0.9998722), ('helpful', 0.9998717), ('coffee', 0.9998715), ('kitchen', 0.9998671), ('us', 0.9998659), ('perfect', 0.9998658), ('soula', 0.99986553), ('george', 0.99986273), ('location', 0.9998606), ('room', 0.99986005), ('quiet', 0.9998599), ('clean', 0.99985987), ('needed', 0.99985945), ('need', 0.99985886), ('acropolis', 0.9998587), ('away', 0.9998579), ('enjoyed', 0.9998575), ('excellent', 0.9998573), ('located', 0.9998549), ('first', 0.99985284), ('around', 0.99985224), ('stayed', 0.999852), ('made', 0.99984974), ('wonderful', 0.99984556), ('metro', 0.99984366), ('view', 0.9998427), ('restaurants', 0.9998426), ('pygmalion', 0.9998408), ('would', 0.9998401), ('convenient', 0.9998365), ('visit', 0.99983126), ('met', 0.9998289), ('home', 0.99982786), ('minutes', 0.999826), ('felt', 0.99982214), ('haris', 0.9998212), ('spacious', 0.99982), ('staying', 0.9998158), ('always', 0.9998142), ('terrace', 0.9998093), ('walk', 0.9998052), ('safe', 0.99980336), ('thank', 0.9998021), ('friendly', 0.99979806), ('soulas', 0.99979603), ('rooftop', 0.9997909), ('amazing', 0.9997902), ('central', 0.9997875), ('equipped', 0.9997873), ('station', 0.99978584), ('recommend', 0.999764), ('feel', 0.99976385), ('gave', 0.99975073), ('fantastic', 0.99974716), ('thanks', 0.9997461), ('definitely', 0.99974406), ('highly', 0.9996874), ('walking', 0.9995831), ('distance', 0.99937963)]\n",
            "us [('us', 0.99999994), ('fotis', 0.99991566), ('even', 0.9999038), ('also', 0.99989915), ('coffee', 0.99989384), ('street', 0.999887), ('around', 0.9998854), ('best', 0.99988353), ('one', 0.99988186), ('day', 0.9998818), ('night', 0.99988174), ('helpful', 0.99988145), ('get', 0.99988097), ('well', 0.9998797), ('time', 0.9998794), ('apartment', 0.99987817), ('george', 0.9998751), ('like', 0.9998725), ('room', 0.99987245), ('go', 0.9998721), ('met', 0.9998718), ('stayed', 0.9998697), ('nice', 0.9998685), ('city', 0.99986684), ('area', 0.9998664), ('great', 0.9998661), ('really', 0.9998661), ('athens', 0.9998659), ('host', 0.9998637), ('pygmalion', 0.99986356), ('could', 0.9998635), ('soula', 0.9998601), ('good', 0.99985677), ('back', 0.99985576), ('kitchen', 0.9998547), ('experience', 0.99985385), ('much', 0.9998532), ('made', 0.9998529), ('neighborhood', 0.99985206), ('flat', 0.9998518), ('first', 0.99985176), ('easy', 0.9998491), ('away', 0.99984705), ('haris', 0.99984676), ('quiet', 0.9998465), ('needed', 0.99984574), ('place', 0.99984473), ('5', 0.99984413), ('comfortable', 0.9998396), ('house', 0.9998381), ('excellent', 0.9998348), ('close', 0.9998329), ('everything', 0.9998308), ('balcony', 0.99983066), ('two', 0.9998291), ('need', 0.9998261), ('lovely', 0.99982584), ('many', 0.9998258), ('friendly', 0.99982417), ('perfect', 0.99982315), ('visit', 0.99982226), ('acropolis', 0.99982107), ('always', 0.9998204), ('stay', 0.99981636), ('gave', 0.99981433), ('space', 0.9998141), ('home', 0.9998115), ('located', 0.9998108), ('wonderful', 0.99981004), ('beautiful', 0.99980485), ('location', 0.9998019), ('enjoyed', 0.9998012), ('safe', 0.9997996), ('clean', 0.99979955), ('convenient', 0.99978936), ('view', 0.9997884), ('metro', 0.9997861), ('felt', 0.999784), ('minutes', 0.99978), ('spacious', 0.99977964), ('thank', 0.999777), ('feel', 0.99977446), ('restaurants', 0.99977255), ('staying', 0.9997694), ('would', 0.9997687), ('rooftop', 0.999764), ('equipped', 0.9997629), ('terrace', 0.9997618), ('station', 0.9997609), ('walk', 0.999758), ('central', 0.9997512), ('soulas', 0.9997338), ('amazing', 0.9997301), ('thanks', 0.9997179), ('fantastic', 0.99970835), ('recommend', 0.999684), ('definitely', 0.9996246), ('highly', 0.9995811), ('walking', 0.999533), ('distance', 0.9992735)]\n",
            "place [('place', 1.0000002), ('apartment', 0.99991715), ('athens', 0.9999094), ('flat', 0.99989533), ('nice', 0.9998914), ('best', 0.9998891), ('one', 0.9998837), ('great', 0.999881), ('stay', 0.9998796), ('really', 0.999875), ('also', 0.9998745), ('helpful', 0.9998742), ('night', 0.99987394), ('comfortable', 0.99987286), ('well', 0.99987113), ('day', 0.9998705), ('host', 0.99986935), ('get', 0.999869), ('area', 0.9998679), ('street', 0.99986523), ('space', 0.9998635), ('time', 0.999862), ('many', 0.9998604), ('kitchen', 0.99986017), ('experience', 0.99986005), ('lovely', 0.9998598), ('like', 0.9998596), ('coffee', 0.9998593), ('even', 0.9998588), ('much', 0.9998578), ('city', 0.9998575), ('beautiful', 0.99985725), ('house', 0.99985653), ('fotis', 0.9998565), ('balcony', 0.9998555), ('good', 0.999855), ('go', 0.99985427), ('two', 0.9998537), ('quiet', 0.99985325), ('excellent', 0.99985296), ('back', 0.9998529), ('soula', 0.9998524), ('location', 0.9998518), ('everything', 0.9998502), ('enjoyed', 0.9998488), ('wonderful', 0.99984866), ('stayed', 0.99984556), ('clean', 0.9998453), ('easy', 0.99984527), ('us', 0.99984473), ('perfect', 0.99984425), ('george', 0.9998436), ('could', 0.9998418), ('neighborhood', 0.9998413), ('would', 0.99984044), ('located', 0.9998402), ('needed', 0.9998397), ('away', 0.9998379), ('made', 0.99983656), ('need', 0.99983555), ('visit', 0.999835), ('5', 0.99983245), ('room', 0.9998317), ('view', 0.99982816), ('close', 0.9998277), ('acropolis', 0.99982345), ('haris', 0.9998223), ('staying', 0.9998212), ('first', 0.99981487), ('spacious', 0.9998137), ('around', 0.9998135), ('terrace', 0.9998119), ('restaurants', 0.99981016), ('felt', 0.999809), ('pygmalion', 0.99980855), ('thank', 0.99980634), ('home', 0.99980205), ('amazing', 0.9998001), ('rooftop', 0.9997967), ('met', 0.99979603), ('soulas', 0.99979585), ('convenient', 0.99979484), ('recommend', 0.99979216), ('always', 0.9997914), ('metro', 0.99978757), ('friendly', 0.9997842), ('safe', 0.99978155), ('walk', 0.9997761), ('minutes', 0.9997746), ('equipped', 0.99976987), ('fantastic', 0.99976325), ('central', 0.99975634), ('station', 0.99975556), ('feel', 0.99974096), ('gave', 0.9997313), ('thanks', 0.99972826), ('definitely', 0.9997215), ('highly', 0.9996852), ('walking', 0.9995567), ('distance', 0.9992939)]\n",
            "location [('location', 0.99999976), ('apartment', 0.999886), ('well', 0.9998673), ('area', 0.99986607), ('also', 0.99986064), ('athens', 0.9998606), ('great', 0.99985594), ('place', 0.9998518), ('many', 0.9998489), ('nice', 0.9998478), ('easy', 0.999847), ('day', 0.99984664), ('city', 0.9998457), ('neighborhood', 0.9998438), ('flat', 0.9998435), ('one', 0.99984044), ('best', 0.9998365), ('fotis', 0.9998357), ('street', 0.9998356), ('even', 0.99983364), ('quiet', 0.99983364), ('good', 0.9998335), ('could', 0.9998327), ('get', 0.9998321), ('space', 0.99983186), ('really', 0.999831), ('around', 0.999831), ('house', 0.9998289), ('lovely', 0.9998281), ('host', 0.9998266), ('night', 0.99982613), ('stay', 0.9998261), ('experience', 0.9998261), ('view', 0.999826), ('clean', 0.9998258), ('everything', 0.99982464), ('excellent', 0.9998243), ('much', 0.99982345), ('comfortable', 0.99982244), ('close', 0.9998223), ('acropolis', 0.9998223), ('beautiful', 0.9998178), ('away', 0.9998155), ('needed', 0.99981546), ('room', 0.99981505), ('balcony', 0.99981487), ('perfect', 0.999813), ('metro', 0.99981165), ('coffee', 0.9998112), ('two', 0.99981105), ('soula', 0.99981064), ('wonderful', 0.99981016), ('5', 0.99980927), ('located', 0.99980843), ('restaurants', 0.99980736), ('go', 0.9998069), ('spacious', 0.9998049), ('time', 0.9998045), ('kitchen', 0.9998043), ('helpful', 0.99980396), ('george', 0.999803), ('us', 0.9998019), ('need', 0.9998011), ('terrace', 0.9998011), ('like', 0.99979866), ('pygmalion', 0.9997964), ('safe', 0.9997959), ('convenient', 0.99979293), ('first', 0.9997886), ('always', 0.99978685), ('amazing', 0.9997858), ('made', 0.9997848), ('enjoyed', 0.9997843), ('stayed', 0.99978226), ('haris', 0.9997792), ('walk', 0.9997747), ('felt', 0.9997689), ('minutes', 0.9997664), ('friendly', 0.9997651), ('staying', 0.99976134), ('met', 0.999759), ('home', 0.9997561), ('rooftop', 0.9997539), ('back', 0.99975294), ('station', 0.99975145), ('central', 0.99974716), ('would', 0.99974626), ('visit', 0.99973965), ('thank', 0.9997344), ('equipped', 0.99970865), ('feel', 0.9997036), ('soulas', 0.9996967), ('gave', 0.99969107), ('fantastic', 0.99967664), ('recommend', 0.9996667), ('thanks', 0.9996542), ('definitely', 0.99962807), ('walking', 0.9995866), ('highly', 0.9995784), ('distance', 0.9994148)]\n",
            "clean [('clean', 1.0000004), ('apartment', 0.99988526), ('athens', 0.99985987), ('area', 0.9998497), ('located', 0.9998496), ('comfortable', 0.99984914), ('city', 0.99984807), ('well', 0.999846), ('nice', 0.99984574), ('really', 0.9998455), ('place', 0.9998453), ('even', 0.9998438), ('everything', 0.9998431), ('one', 0.99984264), ('day', 0.99984115), ('flat', 0.99983996), ('neighborhood', 0.99983954), ('also', 0.99983835), ('fotis', 0.9998372), ('spacious', 0.9998322), ('lovely', 0.9998308), ('night', 0.9998302), ('street', 0.9998295), ('quiet', 0.99982816), ('room', 0.99982727), ('get', 0.9998271), ('good', 0.9998267), ('great', 0.9998265), ('location', 0.9998258), ('close', 0.99982363), ('perfect', 0.9998236), ('needed', 0.9998231), ('beautiful', 0.99982303), ('could', 0.99982285), ('kitchen', 0.9998223), ('much', 0.9998219), ('like', 0.9998209), ('balcony', 0.99981844), ('host', 0.9998182), ('space', 0.9998178), ('need', 0.99981725), ('best', 0.99981683), ('excellent', 0.9998151), ('stay', 0.999815), ('stayed', 0.9998147), ('george', 0.99981207), ('many', 0.99981207), ('easy', 0.999811), ('house', 0.9998108), ('time', 0.99980783), ('two', 0.9998065), ('enjoyed', 0.9998062), ('coffee', 0.9998055), ('us', 0.99979955), ('back', 0.9997994), ('restaurants', 0.9997969), ('5', 0.99979675), ('metro', 0.9997961), ('experience', 0.99979585), ('soula', 0.9997897), ('away', 0.9997891), ('around', 0.99978876), ('go', 0.9997884), ('helpful', 0.9997865), ('convenient', 0.9997816), ('equipped', 0.99977744), ('made', 0.9997769), ('acropolis', 0.9997766), ('wonderful', 0.9997756), ('terrace', 0.9997742), ('safe', 0.9997713), ('felt', 0.9997713), ('always', 0.9997666), ('haris', 0.9997651), ('view', 0.9997641), ('pygmalion', 0.99975675), ('home', 0.99975556), ('first', 0.9997541), ('amazing', 0.9997532), ('central', 0.99975294), ('visit', 0.99974847), ('rooftop', 0.99974483), ('would', 0.99974334), ('met', 0.99973977), ('station', 0.9997336), ('minutes', 0.99973124), ('friendly', 0.99972916), ('fantastic', 0.99971604), ('staying', 0.9997139), ('walk', 0.9997128), ('soulas', 0.9997055), ('feel', 0.99970496), ('thank', 0.99969894), ('gave', 0.999673), ('recommend', 0.9996602), ('thanks', 0.9996559), ('definitely', 0.9996287), ('highly', 0.9995639), ('walking', 0.999508), ('distance', 0.99933916)]\n",
            "everything [('everything', 1.0000002), ('also', 0.9998934), ('apartment', 0.99989253), ('athens', 0.9998838), ('one', 0.99988157), ('could', 0.9998742), ('easy', 0.99987304), ('well', 0.99987274), ('even', 0.9998717), ('day', 0.99986434), ('nice', 0.9998642), ('coffee', 0.99986255), ('area', 0.99986136), ('need', 0.9998601), ('time', 0.99985635), ('street', 0.9998563), ('comfortable', 0.99985605), ('neighborhood', 0.99985564), ('good', 0.99985516), ('get', 0.99985516), ('fotis', 0.9998551), ('house', 0.9998547), ('great', 0.99985224), ('place', 0.9998502), ('city', 0.9998488), ('perfect', 0.99984753), ('stayed', 0.99984735), ('stay', 0.9998462), ('soula', 0.99984604), ('lovely', 0.9998456), ('made', 0.99984545), ('host', 0.99984354), ('clean', 0.9998431), ('night', 0.99984235), ('helpful', 0.99984), ('much', 0.99983954), ('like', 0.9998388), ('space', 0.99983835), ('flat', 0.99983776), ('go', 0.99983776), ('really', 0.9998376), ('kitchen', 0.9998374), ('george', 0.9998363), ('best', 0.99983597), ('quiet', 0.9998351), ('excellent', 0.99983245), ('us', 0.9998308), ('two', 0.9998305), ('located', 0.99982977), ('close', 0.9998291), ('room', 0.99982893), ('needed', 0.9998285), ('experience', 0.99982834), ('around', 0.99982756), ('spacious', 0.9998265), ('back', 0.99982524), ('location', 0.99982464), ('many', 0.99982417), ('balcony', 0.99982333), ('enjoyed', 0.9998208), ('beautiful', 0.99981934), ('metro', 0.99981916), ('home', 0.9998094), ('first', 0.9998061), ('acropolis', 0.999805), ('always', 0.9998049), ('pygmalion', 0.99980015), ('away', 0.99979734), ('restaurants', 0.9997971), ('5', 0.99979436), ('convenient', 0.99979246), ('met', 0.9997919), ('view', 0.9997912), ('visit', 0.99979013), ('wonderful', 0.99978995), ('haris', 0.9997853), ('felt', 0.99978435), ('feel', 0.99977034), ('minutes', 0.999767), ('friendly', 0.9997658), ('central', 0.99976444), ('thank', 0.9997634), ('safe', 0.9997629), ('would', 0.9997603), ('walk', 0.99976027), ('equipped', 0.9997592), ('station', 0.9997496), ('soulas', 0.99974304), ('terrace', 0.9997409), ('gave', 0.9997379), ('staying', 0.99973154), ('amazing', 0.9997248), ('fantastic', 0.9997212), ('rooftop', 0.9997193), ('thanks', 0.9996883), ('recommend', 0.99967146), ('definitely', 0.99964803), ('highly', 0.9996038), ('walking', 0.9995803), ('distance', 0.99933934)]\n",
            "host [('host', 1.0000001), ('athens', 0.999891), ('great', 0.9998898), ('helpful', 0.99988425), ('apartment', 0.9998812), ('nice', 0.9998767), ('even', 0.9998754), ('well', 0.999874), ('also', 0.999871), ('fotis', 0.9998697), ('place', 0.99986935), ('day', 0.99986935), ('get', 0.99986756), ('best', 0.99986696), ('us', 0.9998637), ('really', 0.99986255), ('soula', 0.9998625), ('time', 0.99986196), ('flat', 0.9998609), ('experience', 0.99985933), ('area', 0.99985844), ('made', 0.99985707), ('comfortable', 0.9998553), ('one', 0.9998553), ('city', 0.99985486), ('excellent', 0.99985486), ('stay', 0.9998538), ('much', 0.9998533), ('pygmalion', 0.9998507), ('night', 0.99984986), ('like', 0.9998485), ('george', 0.9998467), ('coffee', 0.99984586), ('street', 0.9998449), ('go', 0.9998446), ('good', 0.9998445), ('need', 0.99984413), ('everything', 0.99984354), ('perfect', 0.99984217), ('neighborhood', 0.9998407), ('easy', 0.99983954), ('balcony', 0.999838), ('stayed', 0.99983746), ('lovely', 0.99983656), ('beautiful', 0.9998358), ('quiet', 0.9998352), ('kitchen', 0.99983513), ('haris', 0.9998339), ('needed', 0.99983346), ('could', 0.99983335), ('space', 0.9998324), ('always', 0.99983144), ('house', 0.99982804), ('location', 0.9998266), ('wonderful', 0.99982464), ('back', 0.99982446), ('room', 0.9998217), ('two', 0.99982125), ('5', 0.99981904), ('around', 0.9998186), ('clean', 0.9998182), ('first', 0.9998146), ('many', 0.9998136), ('home', 0.999812), ('met', 0.9998112), ('close', 0.99980885), ('enjoyed', 0.999806), ('visit', 0.9998015), ('view', 0.99980026), ('away', 0.9997982), ('acropolis', 0.9997964), ('would', 0.99979275), ('friendly', 0.99979246), ('thank', 0.9997905), ('located', 0.99978995), ('felt', 0.9997852), ('spacious', 0.999783), ('gave', 0.9997781), ('staying', 0.9997775), ('minutes', 0.9997706), ('central', 0.999769), ('feel', 0.99976873), ('restaurants', 0.99976784), ('convenient', 0.9997675), ('safe', 0.9997668), ('terrace', 0.9997598), ('metro', 0.99975926), ('equipped', 0.99975896), ('soulas', 0.9997505), ('amazing', 0.99974674), ('recommend', 0.99974644), ('station', 0.9997388), ('fantastic', 0.999736), ('walk', 0.9997343), ('thanks', 0.9997217), ('rooftop', 0.9997203), ('definitely', 0.9996976), ('highly', 0.99965227), ('walking', 0.9995364), ('distance', 0.99922657)]\n",
            "nice [('nice', 1.0000002), ('apartment', 0.99991244), ('area', 0.99990654), ('one', 0.999905), ('also', 0.9999032), ('day', 0.999899), ('great', 0.9998984), ('really', 0.9998977), ('even', 0.9998974), ('athens', 0.99989283), ('well', 0.9998923), ('place', 0.9998914), ('comfortable', 0.99989045), ('night', 0.999889), ('much', 0.99988836), ('good', 0.99988794), ('best', 0.99988747), ('quiet', 0.9998843), ('city', 0.9998831), ('soula', 0.9998816), ('time', 0.99988043), ('street', 0.99987954), ('flat', 0.9998784), ('helpful', 0.9998776), ('get', 0.9998773), ('host', 0.9998767), ('fotis', 0.9998753), ('george', 0.9998747), ('excellent', 0.9998736), ('perfect', 0.9998734), ('neighborhood', 0.9998722), ('beautiful', 0.99987066), ('could', 0.9998704), ('kitchen', 0.9998703), ('two', 0.9998696), ('us', 0.9998685), ('coffee', 0.9998683), ('lovely', 0.9998679), ('stayed', 0.9998677), ('balcony', 0.99986744), ('space', 0.9998662), ('like', 0.9998653), ('everything', 0.9998642), ('stay', 0.99986273), ('room', 0.9998609), ('experience', 0.9998594), ('acropolis', 0.999859), ('go', 0.9998574), ('easy', 0.9998559), ('many', 0.9998556), ('pygmalion', 0.999855), ('house', 0.99985486), ('back', 0.9998546), ('away', 0.99985456), ('needed', 0.99985427), ('wonderful', 0.9998522), ('view', 0.9998505), ('first', 0.99984956), ('enjoyed', 0.99984884), ('location', 0.9998478), ('5', 0.9998471), ('clean', 0.99984574), ('close', 0.99984497), ('spacious', 0.99984246), ('need', 0.99984187), ('made', 0.9998414), ('haris', 0.9998386), ('metro', 0.9998367), ('around', 0.9998349), ('visit', 0.9998324), ('friendly', 0.99983215), ('met', 0.9998264), ('located', 0.9998191), ('home', 0.9998166), ('restaurants', 0.9998165), ('convenient', 0.9998157), ('would', 0.9998101), ('equipped', 0.9998076), ('minutes', 0.9998067), ('felt', 0.99980646), ('always', 0.99980503), ('terrace', 0.99980485), ('safe', 0.99980426), ('walk', 0.9997999), ('thank', 0.9997947), ('central', 0.9997909), ('staying', 0.9997824), ('station', 0.99978095), ('amazing', 0.9997763), ('rooftop', 0.99977434), ('soulas', 0.99976265), ('fantastic', 0.9997597), ('feel', 0.9997593), ('gave', 0.9997587), ('recommend', 0.9997517), ('thanks', 0.9997322), ('definitely', 0.99966353), ('highly', 0.99963933), ('walking', 0.9995568), ('distance', 0.99929035)]\n",
            "would [('would', 0.99999994), ('place', 0.99984044), ('athens', 0.9998401), ('stay', 0.9998378), ('apartment', 0.99983054), ('back', 0.99982417), ('best', 0.9998204), ('nice', 0.9998101), ('stayed', 0.9998041), ('day', 0.99980336), ('helpful', 0.9998027), ('experience', 0.99980253), ('go', 0.9998015), ('visit', 0.9998015), ('time', 0.9998011), ('recommend', 0.99980104), ('george', 0.9997999), ('two', 0.999798), ('one', 0.9997945), ('host', 0.99979275), ('flat', 0.9997908), ('staying', 0.99978775), ('also', 0.99978685), ('much', 0.99978644), ('really', 0.99978596), ('night', 0.99978584), ('street', 0.99978405), ('lovely', 0.99978375), ('space', 0.99978334), ('great', 0.9997823), ('area', 0.99978125), ('neighborhood', 0.9997802), ('soula', 0.9997786), ('fotis', 0.9997777), ('comfortable', 0.9997776), ('good', 0.9997769), ('quiet', 0.9997768), ('could', 0.99977654), ('beautiful', 0.9997732), ('enjoyed', 0.9997729), ('need', 0.99977136), ('us', 0.9997687), ('made', 0.9997678), ('perfect', 0.99976724), ('easy', 0.9997665), ('definitely', 0.99976575), ('excellent', 0.99976563), ('needed', 0.9997642), ('get', 0.99976367), ('like', 0.9997624), ('everything', 0.9997603), ('balcony', 0.99976003), ('wonderful', 0.9997599), ('coffee', 0.99975973), ('even', 0.99975955), ('house', 0.99975884), ('many', 0.9997587), ('city', 0.9997576), ('well', 0.99975425), ('kitchen', 0.9997523), ('haris', 0.999749), ('pygmalion', 0.99974877), ('location', 0.99974626), ('first', 0.99974597), ('home', 0.99974513), ('clean', 0.99974334), ('highly', 0.99974203), ('soulas', 0.99974126), ('5', 0.99974024), ('room', 0.9997379), ('thank', 0.9997362), ('away', 0.9997276), ('view', 0.99972683), ('spacious', 0.9997266), ('located', 0.9997243), ('restaurants', 0.9997237), ('friendly', 0.999723), ('around', 0.9997229), ('always', 0.99971783), ('safe', 0.9997126), ('met', 0.9997122), ('close', 0.9997101), ('acropolis', 0.99970967), ('felt', 0.99970853), ('thanks', 0.99970686), ('convenient', 0.99969757), ('amazing', 0.9996974), ('metro', 0.999695), ('minutes', 0.9996891), ('terrace', 0.99967444), ('rooftop', 0.99966383), ('station', 0.9996623), ('fantastic', 0.9996497), ('feel', 0.9996491), ('central', 0.999647), ('walk', 0.9996378), ('gave', 0.99963397), ('equipped', 0.9996214), ('walking', 0.999441), ('distance', 0.9991463)]\n",
            "recommend [('recommend', 0.9999999), ('would', 0.99980104), ('place', 0.99979216), ('stay', 0.9997844), ('apartment', 0.9997647), ('athens', 0.999764), ('nice', 0.9997517), ('experience', 0.9997505), ('host', 0.99974644), ('best', 0.9997445), ('much', 0.9997411), ('staying', 0.99973994), ('day', 0.99973464), ('really', 0.99973446), ('flat', 0.9997339), ('soula', 0.9997314), ('lovely', 0.99973065), ('go', 0.9997299), ('excellent', 0.9997297), ('one', 0.9997293), ('george', 0.99972844), ('great', 0.9997266), ('time', 0.99972624), ('helpful', 0.99972516), ('visit', 0.99972326), ('quiet', 0.9997202), ('back', 0.99971855), ('stayed', 0.99971604), ('needed', 0.9997155), ('comfortable', 0.9997153), ('definitely', 0.9997142), ('well', 0.99971133), ('also', 0.9997083), ('need', 0.999708), ('wonderful', 0.99970657), ('area', 0.99970126), ('made', 0.9997004), ('street', 0.9996984), ('good', 0.99969554), ('beautiful', 0.99969536), ('soulas', 0.99969536), ('city', 0.9996942), ('get', 0.99969417), ('even', 0.99969363), ('kitchen', 0.99969107), ('easy', 0.9996907), ('pygmalion', 0.9996906), ('perfect', 0.99969035), ('friendly', 0.99968815), ('fotis', 0.9996873), ('night', 0.9996861), ('coffee', 0.9996861), ('spacious', 0.999686), ('haris', 0.9996845), ('us', 0.999684), ('neighborhood', 0.9996835), ('balcony', 0.9996812), ('two', 0.99968106), ('like', 0.9996778), ('enjoyed', 0.9996717), ('everything', 0.99967146), ('could', 0.9996703), ('always', 0.9996679), ('5', 0.99966764), ('location', 0.9996667), ('house', 0.9996664), ('felt', 0.9996653), ('first', 0.9996636), ('space', 0.9996634), ('many', 0.99966335), ('clean', 0.9996602), ('thank', 0.9996585), ('around', 0.99965805), ('central', 0.99965584), ('view', 0.99965286), ('met', 0.9996509), ('home', 0.99965084), ('close', 0.99964756), ('located', 0.9996371), ('away', 0.9996334), ('equipped', 0.9996306), ('room', 0.9996305), ('amazing', 0.9996201), ('safe', 0.9996196), ('convenient', 0.99961543), ('acropolis', 0.9996116), ('terrace', 0.99960965), ('thanks', 0.99960923), ('highly', 0.99960905), ('fantastic', 0.9996077), ('minutes', 0.9996076), ('walk', 0.99960434), ('feel', 0.999603), ('restaurants', 0.99959713), ('metro', 0.9995935), ('gave', 0.9995865), ('rooftop', 0.9995804), ('station', 0.9995702), ('walking', 0.9993143), ('distance', 0.99907535)]\n",
            "flat [('flat', 0.9999997), ('apartment', 0.99991685), ('athens', 0.99990165), ('place', 0.99989533), ('day', 0.99989134), ('also', 0.9998905), ('best', 0.99988836), ('stay', 0.9998866), ('one', 0.99988604), ('night', 0.9998854), ('great', 0.99988484), ('well', 0.99988437), ('balcony', 0.99988204), ('good', 0.9998814), ('fotis', 0.9998797), ('nice', 0.9998784), ('area', 0.99987155), ('many', 0.99987155), ('street', 0.9998709), ('even', 0.9998705), ('time', 0.9998698), ('much', 0.9998694), ('kitchen', 0.99986845), ('neighborhood', 0.999868), ('coffee', 0.9998664), ('perfect', 0.9998656), ('get', 0.99986553), ('lovely', 0.9998653), ('beautiful', 0.9998631), ('comfortable', 0.9998623), ('host', 0.9998609), ('city', 0.9998601), ('quiet', 0.9998598), ('soula', 0.9998579), ('experience', 0.99985635), ('space', 0.9998557), ('excellent', 0.9998529), ('like', 0.99985284), ('us', 0.9998518), ('room', 0.99985176), ('really', 0.99985164), ('easy', 0.9998508), ('helpful', 0.99985003), ('go', 0.9998499), ('away', 0.9998491), ('could', 0.99984753), ('two', 0.99984753), ('close', 0.9998445), ('visit', 0.9998436), ('house', 0.99984354), ('location', 0.9998435), ('around', 0.99984336), ('5', 0.99984103), ('stayed', 0.9998406), ('clean', 0.99983996), ('wonderful', 0.9998383), ('everything', 0.99983776), ('back', 0.999835), ('george', 0.9998322), ('home', 0.9998316), ('acropolis', 0.9998285), ('enjoyed', 0.9998258), ('pygmalion', 0.9998255), ('made', 0.9998226), ('first', 0.9998225), ('needed', 0.9998215), ('haris', 0.99982053), ('located', 0.99982053), ('restaurants', 0.99981475), ('staying', 0.99981284), ('view', 0.99981225), ('need', 0.999811), ('convenient', 0.99980986), ('felt', 0.9998094), ('always', 0.99980617), ('met', 0.999806), ('spacious', 0.9998022), ('minutes', 0.9997986), ('metro', 0.9997924), ('would', 0.9997908), ('terrace', 0.9997907), ('thank', 0.999787), ('central', 0.9997845), ('equipped', 0.99978405), ('safe', 0.9997828), ('amazing', 0.9997791), ('friendly', 0.9997759), ('soulas', 0.99977285), ('walk', 0.9997713), ('station', 0.99976623), ('rooftop', 0.9997659), ('fantastic', 0.99975723), ('gave', 0.99975026), ('feel', 0.99973685), ('recommend', 0.9997339), ('thanks', 0.99971807), ('definitely', 0.9996895), ('highly', 0.99963635), ('walking', 0.99957496), ('distance', 0.9993177)]\n",
            "good [('good', 1.0000001), ('also', 0.9999124), ('athens', 0.9999075), ('best', 0.9999061), ('day', 0.99990517), ('neighborhood', 0.9999006), ('area', 0.9998983), ('apartment', 0.99989426), ('one', 0.99989337), ('street', 0.9998925), ('get', 0.9998912), ('nice', 0.99988794), ('great', 0.9998855), ('even', 0.9998838), ('time', 0.9998836), ('night', 0.9998836), ('flat', 0.9998814), ('could', 0.99988055), ('fotis', 0.9998798), ('lovely', 0.9998793), ('much', 0.9998771), ('many', 0.99987704), ('close', 0.9998761), ('quiet', 0.9998756), ('coffee', 0.99987525), ('away', 0.9998748), ('really', 0.9998741), ('well', 0.9998727), ('5', 0.99987173), ('city', 0.9998712), ('excellent', 0.999867), ('acropolis', 0.9998644), ('perfect', 0.9998643), ('house', 0.99986356), ('go', 0.9998634), ('helpful', 0.99986285), ('balcony', 0.999861), ('metro', 0.9998605), ('enjoyed', 0.9998601), ('us', 0.99985677), ('room', 0.9998566), ('everything', 0.99985516), ('place', 0.999855), ('easy', 0.99985373), ('around', 0.9998529), ('back', 0.9998516), ('kitchen', 0.99985147), ('comfortable', 0.9998509), ('stayed', 0.99985015), ('experience', 0.9998488), ('george', 0.99984753), ('minutes', 0.9998465), ('two', 0.9998464), ('need', 0.9998456), ('like', 0.9998456), ('restaurants', 0.9998447), ('host', 0.9998445), ('soula', 0.99984026), ('first', 0.99983835), ('walk', 0.9998375), ('made', 0.99983746), ('stay', 0.99983585), ('space', 0.9998355), ('beautiful', 0.99983513), ('needed', 0.999835), ('location', 0.9998335), ('located', 0.99982834), ('clean', 0.9998267), ('convenient', 0.99982625), ('felt', 0.99982154), ('visit', 0.99982107), ('wonderful', 0.9998207), ('pygmalion', 0.99981946), ('always', 0.99981916), ('met', 0.9998112), ('station', 0.9998054), ('safe', 0.9998046), ('view', 0.9998033), ('home', 0.9997998), ('haris', 0.9997971), ('central', 0.9997935), ('friendly', 0.9997851), ('equipped', 0.9997802), ('would', 0.9997769), ('spacious', 0.9997767), ('terrace', 0.99977654), ('staying', 0.9997673), ('amazing', 0.9997662), ('fantastic', 0.9997597), ('rooftop', 0.99975157), ('soulas', 0.9997455), ('thank', 0.999745), ('feel', 0.9997372), ('gave', 0.9997256), ('thanks', 0.9997255), ('recommend', 0.99969554), ('definitely', 0.99966735), ('walking', 0.99963313), ('highly', 0.999608), ('distance', 0.999357)]\n",
            "metro [('metro', 0.9999999), ('also', 0.9998808), ('acropolis', 0.9998705), ('area', 0.9998611), ('away', 0.99986106), ('good', 0.9998605), ('neighborhood', 0.9998546), ('minutes', 0.999854), ('close', 0.9998527), ('easy', 0.9998523), ('walk', 0.99984956), ('day', 0.99984837), ('restaurants', 0.9998459), ('station', 0.9998457), ('many', 0.9998447), ('athens', 0.99984366), ('one', 0.99984294), ('even', 0.99984205), ('city', 0.99984014), ('street', 0.9998392), ('5', 0.9998384), ('could', 0.99983823), ('get', 0.99983704), ('nice', 0.9998367), ('apartment', 0.9998335), ('night', 0.9998266), ('balcony', 0.9998259), ('coffee', 0.9998245), ('located', 0.9998204), ('fotis', 0.9998197), ('best', 0.99981946), ('everything', 0.99981916), ('really', 0.9998191), ('well', 0.99981904), ('much', 0.9998175), ('convenient', 0.9998142), ('quiet', 0.99981254), ('location', 0.99981165), ('house', 0.9998105), ('around', 0.9998075), ('great', 0.9998066), ('space', 0.99980545), ('enjoyed', 0.99980533), ('soula', 0.9998048), ('room', 0.9998048), ('excellent', 0.9998015), ('clean', 0.9997961), ('needed', 0.99979603), ('go', 0.9997931), ('kitchen', 0.99979275), ('flat', 0.9997924), ('need', 0.9997912), ('two', 0.9997902), ('time', 0.99978983), ('lovely', 0.999789), ('place', 0.99978757), ('us', 0.9997861), ('perfect', 0.99978536), ('helpful', 0.9997818), ('experience', 0.999781), ('view', 0.9997808), ('comfortable', 0.9997798), ('george', 0.9997792), ('beautiful', 0.9997766), ('made', 0.99977356), ('pygmalion', 0.9997716), ('like', 0.9997707), ('stayed', 0.99977034), ('stay', 0.9997688), ('safe', 0.9997599), ('host', 0.99975926), ('first', 0.9997538), ('terrace', 0.9997534), ('met', 0.99975306), ('back', 0.9997527), ('wonderful', 0.9997499), ('always', 0.99973965), ('felt', 0.9997388), ('central', 0.9997377), ('home', 0.9997273), ('spacious', 0.999726), ('haris', 0.9997244), ('visit', 0.9997239), ('equipped', 0.99971384), ('rooftop', 0.99970627), ('friendly', 0.99970484), ('amazing', 0.9997046), ('would', 0.999695), ('staying', 0.9996921), ('feel', 0.9996815), ('thank', 0.9996773), ('thanks', 0.9996668), ('fantastic', 0.9996648), ('walking', 0.9996622), ('soulas', 0.9996605), ('gave', 0.99963677), ('definitely', 0.999604), ('recommend', 0.9995935), ('highly', 0.9995481), ('distance', 0.99951446)]\n",
            "well [('well', 1.0), ('apartment', 0.99991155), ('also', 0.9999047), ('one', 0.99989665), ('nice', 0.9998923), ('day', 0.99989027), ('even', 0.9998878), ('area', 0.9998866), ('great', 0.9998857), ('flat', 0.99988437), ('comfortable', 0.99988365), ('athens', 0.99988335), ('kitchen', 0.99988097), ('us', 0.9998797), ('fotis', 0.9998788), ('lovely', 0.99987704), ('street', 0.999877), ('get', 0.9998766), ('neighborhood', 0.99987453), ('host', 0.999874), ('coffee', 0.999874), ('night', 0.99987376), ('excellent', 0.9998732), ('everything', 0.99987274), ('good', 0.9998727), ('place', 0.99987113), ('soula', 0.9998705), ('space', 0.99986804), ('location', 0.9998673), ('really', 0.999867), ('city', 0.99986607), ('could', 0.99986607), ('like', 0.99986535), ('go', 0.99986434), ('stayed', 0.99986124), ('pygmalion', 0.99986106), ('helpful', 0.9998605), ('stay', 0.99985975), ('quiet', 0.9998596), ('room', 0.9998588), ('balcony', 0.9998577), ('george', 0.99985766), ('much', 0.9998576), ('best', 0.9998571), ('close', 0.99985707), ('around', 0.9998568), ('time', 0.9998556), ('needed', 0.9998553), ('many', 0.99985486), ('perfect', 0.9998542), ('house', 0.9998534), ('need', 0.99985224), ('two', 0.9998508), ('clean', 0.999846), ('easy', 0.99984515), ('spacious', 0.99984354), ('experience', 0.999843), ('haris', 0.9998417), ('away', 0.9998412), ('5', 0.99983895), ('beautiful', 0.9998362), ('wonderful', 0.9998355), ('convenient', 0.999835), ('acropolis', 0.9998337), ('always', 0.99983245), ('made', 0.99983233), ('central', 0.99982977), ('friendly', 0.99982923), ('located', 0.99982816), ('enjoyed', 0.9998267), ('metro', 0.99981904), ('back', 0.9998179), ('first', 0.99981534), ('view', 0.9998137), ('restaurants', 0.9998109), ('safe', 0.9998066), ('felt', 0.99980605), ('met', 0.9998054), ('visit', 0.99980056), ('minutes', 0.99979985), ('amazing', 0.9997992), ('home', 0.9997978), ('terrace', 0.99979466), ('thank', 0.9997895), ('equipped', 0.9997862), ('walk', 0.9997856), ('station', 0.9997812), ('feel', 0.9997751), ('staying', 0.99976736), ('gave', 0.9997653), ('would', 0.99975425), ('soulas', 0.9997493), ('fantastic', 0.99974597), ('rooftop', 0.99974364), ('thanks', 0.9997162), ('recommend', 0.99971133), ('definitely', 0.9996532), ('highly', 0.99962085), ('walking', 0.99954915), ('distance', 0.99933374)]\n",
            "comfortable [('comfortable', 1.0), ('apartment', 0.9999008), ('nice', 0.99989045), ('athens', 0.99988514), ('well', 0.99988365), ('day', 0.999877), ('place', 0.99987286), ('one', 0.9998726), ('really', 0.99986833), ('also', 0.999867), ('area', 0.9998635), ('flat', 0.9998623), ('great', 0.99986064), ('kitchen', 0.9998586), ('everything', 0.99985605), ('host', 0.9998553), ('stayed', 0.9998519), ('beautiful', 0.99985117), ('good', 0.9998509), ('much', 0.99985087), ('coffee', 0.99985063), ('needed', 0.99985033), ('clean', 0.99984914), ('even', 0.99984896), ('helpful', 0.9998489), ('best', 0.9998471), ('get', 0.9998468), ('perfect', 0.9998463), ('space', 0.9998449), ('fotis', 0.9998445), ('lovely', 0.99984336), ('like', 0.99984324), ('city', 0.9998422), ('could', 0.9998415), ('time', 0.99984145), ('night', 0.99984115), ('neighborhood', 0.9998406), ('need', 0.99984056), ('us', 0.9998396), ('excellent', 0.9998395), ('easy', 0.9998382), ('back', 0.9998374), ('located', 0.9998371), ('soula', 0.9998357), ('room', 0.9998352), ('street', 0.999834), ('experience', 0.9998304), ('george', 0.99983025), ('house', 0.99982876), ('quiet', 0.999828), ('spacious', 0.9998273), ('many', 0.9998267), ('enjoyed', 0.99982613), ('balcony', 0.9998257), ('stay', 0.99982387), ('location', 0.99982244), ('first', 0.9998217), ('two', 0.9998202), ('close', 0.99981713), ('acropolis', 0.9998168), ('5', 0.9998158), ('made', 0.9998153), ('always', 0.9998152), ('wonderful', 0.99981153), ('pygmalion', 0.99980843), ('haris', 0.9998066), ('met', 0.9998063), ('go', 0.99980545), ('around', 0.9998047), ('away', 0.9998025), ('felt', 0.99980134), ('visit', 0.9998005), ('convenient', 0.99980044), ('home', 0.999791), ('view', 0.9997875), ('restaurants', 0.99978167), ('metro', 0.9997798), ('would', 0.9997776), ('terrace', 0.9997745), ('staying', 0.9997735), ('equipped', 0.99977213), ('friendly', 0.99977064), ('amazing', 0.9997654), ('soulas', 0.99976313), ('central', 0.99975884), ('rooftop', 0.99975634), ('feel', 0.99975324), ('fantastic', 0.9997517), ('safe', 0.9997487), ('walk', 0.9997463), ('thank', 0.9997419), ('minutes', 0.9997365), ('gave', 0.9997348), ('thanks', 0.99972284), ('recommend', 0.9997153), ('station', 0.99971527), ('definitely', 0.99964184), ('highly', 0.9996337), ('walking', 0.9995165), ('distance', 0.99924415)]\n",
            "really [('really', 1.0000001), ('nice', 0.9998977), ('apartment', 0.9998947), ('day', 0.9998908), ('athens', 0.99989015), ('get', 0.99988395), ('great', 0.9998834), ('time', 0.99987984), ('one', 0.9998798), ('also', 0.99987936), ('even', 0.9998777), ('area', 0.99987656), ('place', 0.999875), ('good', 0.9998741), ('street', 0.99987394), ('fotis', 0.99987185), ('best', 0.9998716), ('george', 0.99987006), ('much', 0.9998687), ('comfortable', 0.99986833), ('well', 0.999867), ('stay', 0.9998666), ('helpful', 0.9998663), ('us', 0.9998661), ('like', 0.9998635), ('night', 0.9998626), ('host', 0.99986255), ('quiet', 0.99986255), ('neighborhood', 0.9998619), ('kitchen', 0.99986106), ('could', 0.99985945), ('soula', 0.99985886), ('city', 0.99985874), ('back', 0.9998573), ('experience', 0.9998568), ('lovely', 0.9998554), ('stayed', 0.99985534), ('easy', 0.9998552), ('coffee', 0.99985516), ('perfect', 0.9998532), ('go', 0.9998525), ('wonderful', 0.9998518), ('flat', 0.99985164), ('around', 0.9998504), ('balcony', 0.9998503), ('room', 0.99984896), ('needed', 0.9998473), ('clean', 0.9998455), ('two', 0.9998432), ('haris', 0.9998429), ('excellent', 0.9998391), ('away', 0.9998382), ('everything', 0.9998376), ('need', 0.9998352), ('beautiful', 0.99983436), ('made', 0.99983376), ('many', 0.9998321), ('house', 0.99983203), ('location', 0.999831), ('enjoyed', 0.9998273), ('pygmalion', 0.99982697), ('space', 0.999826), ('close', 0.99982566), ('5', 0.9998256), ('first', 0.9998254), ('acropolis', 0.9998228), ('home', 0.99982154), ('located', 0.99982065), ('metro', 0.9998191), ('convenient', 0.9998185), ('visit', 0.9998163), ('met', 0.99981546), ('always', 0.999811), ('view', 0.9998108), ('spacious', 0.99980897), ('felt', 0.99980515), ('equipped', 0.9998048), ('friendly', 0.9998018), ('restaurants', 0.9997945), ('safe', 0.9997941), ('minutes', 0.9997908), ('terrace', 0.99978757), ('would', 0.99978596), ('walk', 0.99978286), ('central', 0.9997796), ('thank', 0.9997786), ('staying', 0.99977756), ('rooftop', 0.999767), ('feel', 0.9997588), ('soulas', 0.9997557), ('gave', 0.9997506), ('station', 0.999745), ('amazing', 0.99974394), ('recommend', 0.99973446), ('thanks', 0.9997246), ('fantastic', 0.9997223), ('definitely', 0.9996589), ('highly', 0.9996182), ('walking', 0.9995464), ('distance', 0.99928087)]\n",
            "perfect [('perfect', 0.99999976), ('nice', 0.9998734), ('also', 0.9998666), ('stay', 0.99986625), ('athens', 0.9998658), ('flat', 0.9998656), ('good', 0.9998643), ('area', 0.99986404), ('day', 0.99986404), ('apartment', 0.99986285), ('great', 0.9998605), ('could', 0.99985486), ('well', 0.9998542), ('really', 0.9998532), ('night', 0.9998522), ('best', 0.99985194), ('city', 0.99985135), ('one', 0.99984926), ('get', 0.99984854), ('time', 0.99984807), ('even', 0.9998477), ('everything', 0.99984753), ('two', 0.99984753), ('comfortable', 0.9998463), ('much', 0.9998461), ('place', 0.99984425), ('kitchen', 0.9998437), ('host', 0.99984217), ('stayed', 0.99984175), ('house', 0.99984074), ('quiet', 0.9998404), ('neighborhood', 0.9998399), ('easy', 0.9998398), ('fotis', 0.9998381), ('helpful', 0.9998378), ('lovely', 0.999837), ('coffee', 0.9998355), ('soula', 0.9998351), ('street', 0.9998341), ('like', 0.9998324), ('excellent', 0.99983144), ('room', 0.99983084), ('balcony', 0.99982905), ('needed', 0.9998244), ('clean', 0.9998236), ('us', 0.99982315), ('george', 0.9998222), ('close', 0.9998207), ('experience', 0.9998195), ('many', 0.9998186), ('space', 0.9998175), ('need', 0.9998158), ('back', 0.9998156), ('5', 0.9998149), ('beautiful', 0.99981487), ('always', 0.99981475), ('made', 0.9998143), ('location', 0.999813), ('first', 0.9998125), ('visit', 0.9998119), ('away', 0.99980956), ('located', 0.99980944), ('go', 0.999808), ('home', 0.999806), ('wonderful', 0.9998004), ('around', 0.99980026), ('haris', 0.9997976), ('convenient', 0.9997971), ('acropolis', 0.99979585), ('felt', 0.99979484), ('enjoyed', 0.9997936), ('met', 0.99978966), ('pygmalion', 0.9997877), ('metro', 0.99978536), ('spacious', 0.9997826), ('central', 0.9997808), ('safe', 0.9997761), ('restaurants', 0.9997717), ('thank', 0.99976826), ('would', 0.99976724), ('walk', 0.99976474), ('minutes', 0.9997641), ('friendly', 0.9997602), ('view', 0.9997586), ('station', 0.9997574), ('equipped', 0.9997564), ('soulas', 0.99974495), ('terrace', 0.9997431), ('feel', 0.9997378), ('staying', 0.99973726), ('amazing', 0.9997302), ('rooftop', 0.9997275), ('gave', 0.9997225), ('thanks', 0.99971735), ('fantastic', 0.9997172), ('recommend', 0.99969035), ('definitely', 0.9996371), ('highly', 0.9995941), ('walking', 0.9995728), ('distance', 0.99924916)]\n",
            "also [('also', 1.0000002), ('one', 0.9999339), ('even', 0.99992645), ('day', 0.99992555), ('area', 0.9999206), ('coffee', 0.9999158), ('get', 0.9999133), ('good', 0.9999124), ('night', 0.99991226), ('around', 0.9999117), ('street', 0.9999102), ('neighborhood', 0.99990845), ('could', 0.9999081), ('best', 0.9999077), ('fotis', 0.99990743), ('city', 0.9999061), ('apartment', 0.99990606), ('easy', 0.9999049), ('well', 0.9999047), ('athens', 0.9999045), ('nice', 0.9999032), ('away', 0.9999032), ('time', 0.9999026), ('balcony', 0.9999014), ('quiet', 0.9999011), ('us', 0.99989915), ('close', 0.99989766), ('great', 0.9998953), ('everything', 0.9998934), ('flat', 0.9998905), ('go', 0.9998896), ('helpful', 0.99988884), ('like', 0.9998881), ('kitchen', 0.9998881), ('much', 0.999888), ('acropolis', 0.99988616), ('soula', 0.9998855), ('two', 0.9998855), ('many', 0.9998838), ('metro', 0.9998808), ('george', 0.9998803), ('excellent', 0.9998796), ('really', 0.99987936), ('lovely', 0.99987733), ('made', 0.9998773), ('space', 0.999877), ('room', 0.9998758), ('place', 0.9998745), ('experience', 0.99987257), ('host', 0.999871), ('stayed', 0.9998708), ('5', 0.9998708), ('needed', 0.99986976), ('comfortable', 0.999867), ('stay', 0.9998666), ('perfect', 0.9998666), ('restaurants', 0.99986583), ('first', 0.9998646), ('house', 0.9998646), ('pygmalion', 0.9998632), ('need', 0.99986136), ('location', 0.99986064), ('enjoyed', 0.99986017), ('located', 0.9998574), ('wonderful', 0.9998573), ('back', 0.99985564), ('convenient', 0.9998556), ('minutes', 0.9998525), ('beautiful', 0.99984926), ('always', 0.99984473), ('met', 0.99984074), ('station', 0.99984044), ('view', 0.9998399), ('visit', 0.9998388), ('clean', 0.99983835), ('haris', 0.99983656), ('home', 0.99983484), ('walk', 0.99983335), ('felt', 0.9998265), ('feel', 0.9998258), ('central', 0.9998174), ('safe', 0.9998162), ('spacious', 0.99980915), ('equipped', 0.999807), ('friendly', 0.9998069), ('terrace', 0.9998059), ('gave', 0.9997908), ('rooftop', 0.99978983), ('would', 0.99978685), ('thank', 0.99978423), ('staying', 0.9997753), ('amazing', 0.99976945), ('fantastic', 0.99976414), ('thanks', 0.9997341), ('soulas', 0.9997282), ('recommend', 0.9997083), ('definitely', 0.99967015), ('walking', 0.9996471), ('highly', 0.99964094), ('distance', 0.99940795)]\n",
            "close [('close', 0.9999997), ('also', 0.99989766), ('neighborhood', 0.99988675), ('good', 0.9998761), ('area', 0.99987596), ('city', 0.9998752), ('one', 0.9998738), ('away', 0.9998734), ('athens', 0.9998722), ('street', 0.9998692), ('apartment', 0.99986607), ('coffee', 0.9998654), ('get', 0.99986535), ('even', 0.99986356), ('day', 0.9998626), ('many', 0.9998583), ('well', 0.99985707), ('restaurants', 0.9998544), ('5', 0.9998529), ('metro', 0.9998527), ('quiet', 0.99985266), ('night', 0.9998509), ('around', 0.9998504), ('best', 0.9998492), ('fotis', 0.99984914), ('could', 0.9998476), ('easy', 0.99984753), ('walk', 0.9998454), ('nice', 0.99984497), ('flat', 0.9998445), ('great', 0.99984384), ('much', 0.9998398), ('two', 0.9998391), ('enjoyed', 0.999839), ('convenient', 0.99983895), ('minutes', 0.9998359), ('excellent', 0.9998348), ('balcony', 0.9998337), ('us', 0.9998329), ('acropolis', 0.99983126), ('lovely', 0.9998305), ('time', 0.99983), ('room', 0.99982935), ('kitchen', 0.9998292), ('everything', 0.9998291), ('place', 0.9998277), ('really', 0.99982566), ('station', 0.9998239), ('clean', 0.99982363), ('located', 0.9998227), ('location', 0.9998223), ('perfect', 0.9998207), ('soula', 0.9998192), ('house', 0.9998172), ('comfortable', 0.99981713), ('george', 0.9998159), ('made', 0.9998134), ('space', 0.9998117), ('go', 0.9998093), ('helpful', 0.99980897), ('host', 0.99980885), ('like', 0.9998084), ('needed', 0.9998075), ('stayed', 0.9998065), ('stay', 0.9998061), ('need', 0.9998049), ('wonderful', 0.9998028), ('experience', 0.9997988), ('back', 0.99979806), ('beautiful', 0.99979115), ('haris', 0.9997835), ('met', 0.9997822), ('pygmalion', 0.9997817), ('first', 0.9997808), ('view', 0.9997752), ('always', 0.999769), ('felt', 0.9997682), ('central', 0.99976254), ('terrace', 0.99975467), ('safe', 0.99975383), ('spacious', 0.9997506), ('rooftop', 0.99974465), ('visit', 0.9997441), ('amazing', 0.9997417), ('home', 0.9997413), ('friendly', 0.99974066), ('equipped', 0.999735), ('feel', 0.99972916), ('gave', 0.99972695), ('staying', 0.99971133), ('would', 0.9997101), ('soulas', 0.99969876), ('thank', 0.9996934), ('fantastic', 0.9996881), ('thanks', 0.9996827), ('recommend', 0.99964756), ('walking', 0.9996418), ('definitely', 0.9996215), ('highly', 0.9995438), ('distance', 0.99936444)]\n",
            "acropolis [('acropolis', 0.99999994), ('also', 0.99988616), ('metro', 0.9998705), ('one', 0.99986845), ('away', 0.99986637), ('good', 0.9998644), ('area', 0.9998644), ('minutes', 0.99986327), ('city', 0.99986297), ('best', 0.9998604), ('night', 0.99985987), ('even', 0.9998597), ('nice', 0.999859), ('athens', 0.9998587), ('easy', 0.999857), ('day', 0.9998555), ('street', 0.9998555), ('great', 0.99985325), ('coffee', 0.9998526), ('space', 0.9998504), ('apartment', 0.99985003), ('could', 0.99984837), ('get', 0.9998476), ('balcony', 0.9998448), ('neighborhood', 0.99984294), ('room', 0.99983984), ('restaurants', 0.99983495), ('well', 0.9998337), ('close', 0.99983126), ('walk', 0.99983114), ('5', 0.9998311), ('station', 0.9998299), ('flat', 0.9998285), ('quiet', 0.9998275), ('fotis', 0.9998273), ('place', 0.99982345), ('really', 0.9998228), ('many', 0.99982274), ('location', 0.9998223), ('us', 0.99982107), ('two', 0.9998189), ('first', 0.9998184), ('comfortable', 0.9998168), ('convenient', 0.9998168), ('around', 0.9998161), ('time', 0.99981594), ('lovely', 0.99981475), ('house', 0.9998133), ('go', 0.999813), ('helpful', 0.99981296), ('needed', 0.99981105), ('view', 0.9998109), ('george', 0.9998105), ('excellent', 0.99981016), ('enjoyed', 0.9998075), ('much', 0.999807), ('everything', 0.999805), ('kitchen', 0.99980336), ('pygmalion', 0.9998009), ('host', 0.9997964), ('soula', 0.9997963), ('always', 0.9997963), ('back', 0.99979603), ('perfect', 0.99979585), ('beautiful', 0.9997952), ('located', 0.99979514), ('experience', 0.9997947), ('rooftop', 0.999794), ('like', 0.99979335), ('need', 0.9997897), ('wonderful', 0.99978834), ('terrace', 0.99978673), ('stayed', 0.9997865), ('amazing', 0.99977714), ('clean', 0.9997766), ('made', 0.9997726), ('visit', 0.99977005), ('haris', 0.9997689), ('central', 0.9997666), ('stay', 0.9997623), ('met', 0.9997587), ('spacious', 0.99975497), ('safe', 0.9997515), ('home', 0.99974877), ('felt', 0.99974835), ('friendly', 0.9997305), ('equipped', 0.99972653), ('staying', 0.9997178), ('would', 0.99970967), ('fantastic', 0.99970716), ('thank', 0.99970585), ('gave', 0.9996891), ('thanks', 0.9996779), ('feel', 0.9996719), ('soulas', 0.9996696), ('walking', 0.9996332), ('recommend', 0.9996116), ('definitely', 0.99959093), ('highly', 0.99957895), ('distance', 0.9994558)]\n",
            "time [('time', 1.0000001), ('also', 0.9999026), ('day', 0.9999008), ('even', 0.99989885), ('best', 0.99989504), ('night', 0.9998923), ('coffee', 0.99988866), ('good', 0.9998836), ('helpful', 0.99988323), ('go', 0.9998829), ('one', 0.99988246), ('athens', 0.9998823), ('fotis', 0.9998813), ('get', 0.9998813), ('nice', 0.99988043), ('really', 0.99987984), ('us', 0.9998794), ('great', 0.9998788), ('soula', 0.9998776), ('apartment', 0.9998772), ('could', 0.9998739), ('much', 0.9998732), ('area', 0.99987143), ('flat', 0.9998698), ('neighborhood', 0.99986947), ('back', 0.99986804), ('street', 0.9998674), ('stayed', 0.99986655), ('first', 0.9998658), ('easy', 0.99986404), ('place', 0.999862), ('host', 0.99986196), ('balcony', 0.9998597), ('lovely', 0.9998579), ('stay', 0.99985766), ('house', 0.9998569), ('everything', 0.99985635), ('well', 0.9998556), ('excellent', 0.99985546), ('kitchen', 0.9998554), ('haris', 0.9998549), ('experience', 0.99985397), ('like', 0.9998528), ('enjoyed', 0.9998508), ('need', 0.999849), ('city', 0.9998484), ('george', 0.99984837), ('perfect', 0.99984807), ('needed', 0.9998479), ('room', 0.9998476), ('two', 0.99984753), ('around', 0.99984634), ('made', 0.99984604), ('visit', 0.9998433), ('beautiful', 0.99984217), ('space', 0.9998418), ('quiet', 0.9998415), ('comfortable', 0.99984145), ('away', 0.99983877), ('many', 0.99983764), ('met', 0.99983346), ('close', 0.99983), ('wonderful', 0.99982756), ('home', 0.999825), ('pygmalion', 0.99982166), ('felt', 0.9998161), ('acropolis', 0.99981594), ('5', 0.99981344), ('view', 0.9998107), ('always', 0.9998083), ('clean', 0.99980783), ('friendly', 0.9998067), ('location', 0.9998045), ('thank', 0.9998036), ('would', 0.9998011), ('located', 0.99979955), ('spacious', 0.9997981), ('convenient', 0.9997916), ('metro', 0.99978983), ('minutes', 0.9997803), ('restaurants', 0.99977976), ('terrace', 0.99977934), ('amazing', 0.9997785), ('rooftop', 0.9997769), ('staying', 0.9997732), ('equipped', 0.9997725), ('station', 0.9997696), ('feel', 0.9997692), ('fantastic', 0.9997672), ('gave', 0.99976575), ('central', 0.99976337), ('soulas', 0.9997615), ('walk', 0.9997565), ('safe', 0.9997466), ('thanks', 0.99974483), ('recommend', 0.99972624), ('definitely', 0.9996821), ('highly', 0.9996309), ('walking', 0.999526), ('distance', 0.99923676)]\n",
            "helpful [('helpful', 1.0000002), ('also', 0.99988884), ('great', 0.9998854), ('host', 0.99988425), ('time', 0.99988323), ('best', 0.9998825), ('apartment', 0.9998822), ('us', 0.99988145), ('nice', 0.9998776), ('even', 0.9998753), ('day', 0.9998744), ('place', 0.9998742), ('fotis', 0.9998727), ('one', 0.99987257), ('athens', 0.9998717), ('soula', 0.99987066), ('made', 0.9998696), ('much', 0.9998672), ('really', 0.9998663), ('george', 0.9998633), ('could', 0.99986315), ('area', 0.999863), ('good', 0.99986285), ('get', 0.9998623), ('go', 0.99986136), ('well', 0.9998605), ('stayed', 0.9998576), ('coffee', 0.9998551), ('night', 0.9998543), ('excellent', 0.9998537), ('city', 0.9998527), ('like', 0.99985236), ('flat', 0.99985003), ('comfortable', 0.9998489), ('street', 0.99984884), ('stay', 0.9998481), ('easy', 0.9998476), ('quiet', 0.99984604), ('lovely', 0.9998439), ('back', 0.9998427), ('around', 0.99984175), ('space', 0.9998417), ('pygmalion', 0.9998414), ('beautiful', 0.9998413), ('everything', 0.99984), ('experience', 0.99983984), ('neighborhood', 0.99983925), ('kitchen', 0.9998386), ('perfect', 0.9998378), ('room', 0.9998376), ('wonderful', 0.99983585), ('visit', 0.9998339), ('first', 0.9998319), ('balcony', 0.99983174), ('needed', 0.9998307), ('met', 0.9998281), ('house', 0.99982756), ('haris', 0.9998274), ('friendly', 0.99982584), ('two', 0.9998239), ('5', 0.9998229), ('need', 0.99982125), ('always', 0.99982005), ('enjoyed', 0.9998197), ('view', 0.9998194), ('many', 0.99981344), ('acropolis', 0.99981296), ('away', 0.99980944), ('close', 0.99980897), ('location', 0.99980396), ('would', 0.9998027), ('gave', 0.9997951), ('home', 0.9997944), ('thank', 0.9997923), ('located', 0.99979186), ('spacious', 0.9997909), ('clean', 0.9997865), ('felt', 0.99978393), ('metro', 0.9997818), ('staying', 0.9997684), ('minutes', 0.9997672), ('feel', 0.99976575), ('terrace', 0.99976563), ('rooftop', 0.9997644), ('restaurants', 0.99976337), ('central', 0.9997633), ('convenient', 0.999761), ('walk', 0.9997597), ('equipped', 0.99975693), ('station', 0.9997472), ('thanks', 0.99974597), ('safe', 0.9997453), ('fantastic', 0.99974084), ('recommend', 0.99972516), ('amazing', 0.9997223), ('soulas', 0.9997201), ('definitely', 0.99968964), ('highly', 0.9996812), ('walking', 0.99954885), ('distance', 0.99919724)]\n",
            "walk [('walk', 1.0), ('city', 0.99985534), ('away', 0.9998546), ('minutes', 0.99984974), ('metro', 0.99984956), ('5', 0.99984723), ('close', 0.9998454), ('street', 0.99983793), ('good', 0.9998375), ('also', 0.99983335), ('acropolis', 0.99983114), ('one', 0.99982274), ('neighborhood', 0.999821), ('even', 0.99981964), ('station', 0.9998187), ('area', 0.99981743), ('get', 0.99981534), ('best', 0.9998113), ('around', 0.9998106), ('night', 0.99980754), ('apartment', 0.9998059), ('athens', 0.9998052), ('could', 0.99980474), ('easy', 0.9998023), ('restaurants', 0.99980044), ('nice', 0.9997999), ('day', 0.9997996), ('many', 0.9997993), ('quiet', 0.99979395), ('coffee', 0.99979126), ('fotis', 0.9997896), ('excellent', 0.99978936), ('well', 0.9997856), ('really', 0.99978286), ('two', 0.99978083), ('great', 0.99977714), ('place', 0.9997761), ('go', 0.9997752), ('location', 0.9997747), ('much', 0.99977285), ('flat', 0.9997713), ('balcony', 0.99977076), ('george', 0.9997667), ('enjoyed', 0.99976534), ('perfect', 0.99976474), ('located', 0.99976474), ('convenient', 0.9997641), ('everything', 0.99976027), ('soula', 0.99976003), ('helpful', 0.9997597), ('us', 0.999758), ('experience', 0.9997579), ('house', 0.99975777), ('time', 0.9997565), ('lovely', 0.999754), ('space', 0.99975264), ('made', 0.9997522), ('view', 0.9997499), ('room', 0.9997499), ('comfortable', 0.9997463), ('first', 0.99974394), ('pygmalion', 0.9997415), ('like', 0.9997414), ('met', 0.99973696), ('needed', 0.9997369), ('host', 0.9997343), ('stayed', 0.9997336), ('kitchen', 0.99973226), ('stay', 0.99973214), ('back', 0.99973136), ('need', 0.99972636), ('beautiful', 0.9997184), ('haris', 0.9997164), ('safe', 0.99971616), ('wonderful', 0.9997137), ('clean', 0.9997128), ('central', 0.99970967), ('terrace', 0.999707), ('visit', 0.99970585), ('felt', 0.9996967), ('home', 0.9996909), ('rooftop', 0.9996877), ('staying', 0.9996798), ('friendly', 0.9996742), ('always', 0.9996724), ('amazing', 0.99966383), ('gave', 0.9996561), ('spacious', 0.9996551), ('equipped', 0.99964845), ('walking', 0.99963963), ('would', 0.9996378), ('thank', 0.9996358), ('feel', 0.9996356), ('fantastic', 0.99963355), ('thanks', 0.9996145), ('soulas', 0.9996105), ('recommend', 0.99960434), ('definitely', 0.99953973), ('highly', 0.99948454), ('distance', 0.9993959)]\n",
            "fotis [('fotis', 1.0000001), ('us', 0.99991566), ('also', 0.99990743), ('even', 0.9999035), ('apartment', 0.9999022), ('area', 0.9998909), ('athens', 0.9998907), ('one', 0.99988997), ('get', 0.9998884), ('around', 0.9998881), ('day', 0.9998854), ('street', 0.99988425), ('great', 0.99988323), ('neighborhood', 0.9998829), ('night', 0.99988216), ('time', 0.9998813), ('coffee', 0.99988085), ('like', 0.99988043), ('best', 0.99988014), ('experience', 0.9998799), ('good', 0.9998798), ('flat', 0.9998797), ('well', 0.9998788), ('much', 0.99987626), ('room', 0.9998762), ('could', 0.999876), ('nice', 0.9998753), ('city', 0.9998745), ('helpful', 0.9998727), ('really', 0.99987185), ('easy', 0.9998707), ('balcony', 0.99986976), ('host', 0.9998697), ('soula', 0.99986696), ('go', 0.9998665), ('kitchen', 0.9998663), ('many', 0.9998628), ('5', 0.99986136), ('george', 0.9998613), ('stayed', 0.9998575), ('quiet', 0.9998568), ('place', 0.9998565), ('pygmalion', 0.99985564), ('everything', 0.9998551), ('away', 0.99985385), ('need', 0.9998533), ('excellent', 0.9998509), ('house', 0.99984956), ('close', 0.99984914), ('needed', 0.9998484), ('haris', 0.9998479), ('comfortable', 0.9998445), ('lovely', 0.99984336), ('made', 0.9998419), ('beautiful', 0.9998417), ('two', 0.99984145), ('stay', 0.99984086), ('wonderful', 0.99984014), ('back', 0.99983877), ('perfect', 0.9998381), ('clean', 0.9998372), ('located', 0.9998369), ('location', 0.9998357), ('space', 0.9998355), ('met', 0.99982876), ('visit', 0.99982864), ('first', 0.9998281), ('acropolis', 0.9998273), ('home', 0.99982363), ('enjoyed', 0.99981993), ('metro', 0.9998197), ('restaurants', 0.9998172), ('always', 0.99981284), ('felt', 0.99981207), ('friendly', 0.9998102), ('minutes', 0.99980974), ('convenient', 0.999806), ('view', 0.99980325), ('safe', 0.9997993), ('station', 0.999799), ('spacious', 0.9997978), ('feel', 0.9997927), ('walk', 0.9997896), ('terrace', 0.99978507), ('would', 0.9997777), ('gave', 0.99977684), ('central', 0.99977374), ('staying', 0.9997713), ('equipped', 0.99976647), ('rooftop', 0.99976397), ('thank', 0.99976337), ('amazing', 0.9997503), ('soulas', 0.99973476), ('fantastic', 0.9997152), ('thanks', 0.9996881), ('recommend', 0.9996873), ('definitely', 0.9996542), ('highly', 0.9996088), ('walking', 0.9995777), ('distance', 0.99934006)]\n",
            "easy [('easy', 1.0), ('also', 0.9999049), ('could', 0.99988824), ('athens', 0.9998858), ('day', 0.9998849), ('get', 0.9998843), ('even', 0.99988115), ('area', 0.9998805), ('night', 0.9998804), ('one', 0.999877), ('coffee', 0.9998752), ('apartment', 0.9998734), ('neighborhood', 0.9998734), ('everything', 0.99987304), ('street', 0.9998714), ('fotis', 0.9998707), ('around', 0.99987066), ('city', 0.9998698), ('much', 0.9998653), ('time', 0.99986404), ('away', 0.9998618), ('soula', 0.9998574), ('acropolis', 0.999857), ('nice', 0.9998559), ('go', 0.9998553), ('really', 0.9998552), ('best', 0.9998542), ('good', 0.99985373), ('excellent', 0.99985313), ('metro', 0.9998523), ('great', 0.99985164), ('back', 0.9998516), ('flat', 0.9998508), ('many', 0.9998506), ('us', 0.9998491), ('need', 0.9998491), ('quiet', 0.99984854), ('george', 0.99984807), ('helpful', 0.9998476), ('close', 0.99984753), ('location', 0.999847), ('balcony', 0.99984694), ('place', 0.99984527), ('well', 0.99984515), ('room', 0.9998429), ('like', 0.9998402), ('perfect', 0.9998398), ('host', 0.99983954), ('house', 0.9998392), ('comfortable', 0.9998382), ('needed', 0.99983793), ('two', 0.999837), ('stay', 0.99983686), ('restaurants', 0.9998339), ('kitchen', 0.99983186), ('space', 0.9998317), ('5', 0.9998287), ('experience', 0.99982786), ('pygmalion', 0.9998257), ('made', 0.999823), ('stayed', 0.9998217), ('lovely', 0.9998215), ('convenient', 0.9998186), ('first', 0.99981564), ('minutes', 0.99981374), ('always', 0.99981296), ('clean', 0.999811), ('haris', 0.9998061), ('located', 0.9998053), ('view', 0.9998041), ('station', 0.99980354), ('walk', 0.9998023), ('enjoyed', 0.99980146), ('met', 0.99979603), ('wonderful', 0.99979585), ('visit', 0.99979186), ('home', 0.99978864), ('beautiful', 0.9997872), ('friendly', 0.9997828), ('spacious', 0.99977547), ('terrace', 0.999771), ('felt', 0.9997709), ('safe', 0.99976736), ('would', 0.9997665), ('central', 0.99976236), ('staying', 0.9997575), ('feel', 0.999752), ('gave', 0.9997475), ('rooftop', 0.9997445), ('thank', 0.9997361), ('fantastic', 0.9997287), ('equipped', 0.9997281), ('amazing', 0.99972576), ('thanks', 0.999706), ('soulas', 0.9996947), ('recommend', 0.9996907), ('definitely', 0.9996328), ('walking', 0.99961704), ('highly', 0.99959433), ('distance', 0.9994754)]\n",
            "restaurants [('restaurants', 0.99999994), ('many', 0.9998862), ('area', 0.999868), ('also', 0.99986583), ('street', 0.9998633), ('neighborhood', 0.9998566), ('close', 0.9998544), ('metro', 0.9998459), ('one', 0.99984485), ('good', 0.9998447), ('city', 0.9998447), ('athens', 0.9998426), ('quiet', 0.9998398), ('minutes', 0.9998398), ('get', 0.99983966), ('away', 0.99983764), ('night', 0.99983555), ('even', 0.99983513), ('acropolis', 0.99983495), ('easy', 0.9998339), ('coffee', 0.9998329), ('could', 0.9998323), ('best', 0.99983096), ('day', 0.9998305), ('balcony', 0.9998299), ('apartment', 0.99982524), ('two', 0.9998212), ('excellent', 0.99981904), ('5', 0.99981856), ('fotis', 0.9998172), ('nice', 0.9998165), ('located', 0.9998159), ('flat', 0.99981475), ('around', 0.9998116), ('well', 0.9998109), ('place', 0.99981016), ('great', 0.9998077), ('location', 0.99980736), ('room', 0.9998071), ('walk', 0.99980044), ('much', 0.999798), ('everything', 0.9997971), ('clean', 0.9997969), ('kitchen', 0.9997961), ('experience', 0.99979573), ('enjoyed', 0.99979556), ('really', 0.9997945), ('go', 0.99979436), ('space', 0.9997934), ('george', 0.9997932), ('need', 0.99979305), ('lovely', 0.9997914), ('station', 0.99979), ('convenient', 0.99978644), ('house', 0.99978304), ('view', 0.9997821), ('soula', 0.9997818), ('comfortable', 0.99978167), ('time', 0.99977976), ('stay', 0.9997781), ('needed', 0.9997764), ('back', 0.99977535), ('us', 0.99977255), ('stayed', 0.9997718), ('perfect', 0.9997717), ('wonderful', 0.9997691), ('safe', 0.99976885), ('host', 0.99976784), ('like', 0.9997673), ('beautiful', 0.9997654), ('helpful', 0.99976337), ('terrace', 0.9997608), ('pygmalion', 0.9997544), ('rooftop', 0.9997512), ('made', 0.99974716), ('visit', 0.99974453), ('always', 0.99974024), ('first', 0.999735), ('central', 0.99973196), ('felt', 0.9997285), ('would', 0.9997237), ('haris', 0.9997233), ('staying', 0.99972), ('spacious', 0.99971557), ('walking', 0.99971306), ('amazing', 0.999711), ('home', 0.99970734), ('met', 0.99970675), ('equipped', 0.9996933), ('fantastic', 0.99968755), ('friendly', 0.99968725), ('feel', 0.999687), ('thanks', 0.9996795), ('thank', 0.99966913), ('gave', 0.99966043), ('soulas', 0.99965894), ('definitely', 0.99960977), ('recommend', 0.99959713), ('highly', 0.9995521), ('distance', 0.9994768)]\n",
            "even [('even', 1.0000002), ('also', 0.99992645), ('night', 0.99990517), ('coffee', 0.9999045), ('us', 0.9999038), ('fotis', 0.9999035), ('get', 0.9999022), ('could', 0.9999022), ('athens', 0.9999013), ('day', 0.99990106), ('one', 0.99990016), ('street', 0.99990016), ('time', 0.99989885), ('area', 0.9998987), ('nice', 0.9998974), ('apartment', 0.9998952), ('city', 0.99989444), ('best', 0.9998915), ('well', 0.9998878), ('great', 0.9998873), ('neighborhood', 0.9998853), ('go', 0.99988425), ('good', 0.9998838), ('around', 0.9998828), ('easy', 0.99988115), ('george', 0.9998799), ('soula', 0.99987864), ('away', 0.999878), ('really', 0.9998777), ('host', 0.9998754), ('helpful', 0.9998753), ('quiet', 0.99987483), ('excellent', 0.99987453), ('everything', 0.9998717), ('room', 0.9998715), ('flat', 0.9998705), ('kitchen', 0.9998697), ('like', 0.999869), ('balcony', 0.9998686), ('much', 0.99986804), ('lovely', 0.99986666), ('two', 0.9998651), ('many', 0.99986416), ('close', 0.99986356), ('needed', 0.9998627), ('made', 0.9998601), ('experience', 0.99985987), ('acropolis', 0.9998597), ('place', 0.9998588), ('met', 0.99985564), ('5', 0.9998541), ('house', 0.99985385), ('back', 0.99985296), ('pygmalion', 0.9998524), ('need', 0.99985224), ('first', 0.9998493), ('comfortable', 0.99984896), ('view', 0.99984854), ('perfect', 0.9998477), ('stayed', 0.9998475), ('clean', 0.9998438), ('located', 0.99984276), ('metro', 0.99984205), ('wonderful', 0.9998419), ('space', 0.9998402), ('haris', 0.99983734), ('restaurants', 0.99983513), ('beautiful', 0.99983454), ('location', 0.99983364), ('enjoyed', 0.999833), ('minutes', 0.9998297), ('central', 0.9998291), ('stay', 0.9998289), ('home', 0.9998217), ('station', 0.99982154), ('visit', 0.9998208), ('walk', 0.99981964), ('felt', 0.9998177), ('convenient', 0.9998157), ('gave', 0.9998134), ('always', 0.9998103), ('spacious', 0.99980414), ('feel', 0.999803), ('safe', 0.99979365), ('friendly', 0.99979305), ('terrace', 0.9997925), ('rooftop', 0.9997924), ('equipped', 0.999781), ('thank', 0.9997718), ('staying', 0.99976796), ('would', 0.99975955), ('amazing', 0.9997524), ('soulas', 0.9997516), ('fantastic', 0.9997428), ('thanks', 0.9997033), ('recommend', 0.99969363), ('definitely', 0.9996366), ('walking', 0.99961495), ('highly', 0.99960184), ('distance', 0.9993525)]\n",
            "highly [('highly', 1.0), ('would', 0.99974203), ('definitely', 0.99969953), ('stay', 0.9996885), ('athens', 0.9996874), ('place', 0.9996852), ('helpful', 0.9996812), ('space', 0.9996657), ('host', 0.99965227), ('staying', 0.99964505), ('best', 0.999645), ('visit', 0.99964106), ('also', 0.99964094), ('apartment', 0.9996403), ('nice', 0.99963933), ('one', 0.9996393), ('beautiful', 0.99963766), ('flat', 0.99963635), ('comfortable', 0.9996337), ('many', 0.9996328), ('day', 0.9996314), ('time', 0.9996309), ('stayed', 0.9996308), ('much', 0.99962986), ('night', 0.99962896), ('lovely', 0.99962807), ('like', 0.99962765), ('area', 0.9996259), ('excellent', 0.99962455), ('two', 0.99962413), ('enjoyed', 0.999624), ('street', 0.999623), ('well', 0.99962085), ('great', 0.9996204), ('get', 0.9996183), ('really', 0.9996182), ('wonderful', 0.9996162), ('could', 0.99961567), ('go', 0.9996148), ('need', 0.9996111), ('coffee', 0.99961), ('recommend', 0.99960905), ('fotis', 0.9996088), ('balcony', 0.99960846), ('good', 0.999608), ('george', 0.9996078), ('quiet', 0.9996062), ('experience', 0.99960566), ('view', 0.99960506), ('everything', 0.9996038), ('back', 0.9996031), ('even', 0.99960184), ('city', 0.99960095), ('made', 0.99960047), ('needed', 0.99960023), ('located', 0.9995973), ('neighborhood', 0.99959695), ('kitchen', 0.9995969), ('easy', 0.99959433), ('perfect', 0.9995941), ('thank', 0.9995909), ('5', 0.9995892), ('pygmalion', 0.9995856), ('soula', 0.99958366), ('house', 0.9995831), ('us', 0.9995811), ('acropolis', 0.99957895), ('location', 0.9995784), ('first', 0.9995767), ('away', 0.9995746), ('haris', 0.99957347), ('clean', 0.9995639), ('around', 0.99956065), ('friendly', 0.9995563), ('central', 0.99955463), ('minutes', 0.99955326), ('restaurants', 0.9995521), ('soulas', 0.9995484), ('convenient', 0.9995483), ('metro', 0.9995481), ('terrace', 0.99954796), ('home', 0.99954665), ('always', 0.9995466), ('room', 0.9995446), ('close', 0.9995438), ('spacious', 0.9995402), ('felt', 0.99953437), ('safe', 0.9995332), ('met', 0.999523), ('rooftop', 0.9995212), ('station', 0.9995208), ('fantastic', 0.99951726), ('amazing', 0.9995134), ('thanks', 0.9995124), ('equipped', 0.9995049), ('walk', 0.99948454), ('gave', 0.9994716), ('feel', 0.99945986), ('walking', 0.99930745), ('distance', 0.99897695)]\n",
            "city [('city', 1.0000001), ('also', 0.9999061), ('one', 0.99989706), ('street', 0.9998958), ('even', 0.99989444), ('best', 0.9998935), ('athens', 0.9998927), ('apartment', 0.99989015), ('quiet', 0.99988467), ('get', 0.9998841), ('nice', 0.9998831), ('day', 0.9998825), ('around', 0.99988157), ('coffee', 0.9998814), ('area', 0.9998781), ('close', 0.9998752), ('fotis', 0.9998745), ('away', 0.9998726), ('could', 0.9998714), ('good', 0.9998712), ('night', 0.99987096), ('easy', 0.9998698), ('neighborhood', 0.9998679), ('us', 0.99986684), ('george', 0.9998665), ('well', 0.99986607), ('excellent', 0.99986595), ('much', 0.9998655), ('great', 0.99986464), ('balcony', 0.9998642), ('acropolis', 0.99986297), ('house', 0.99986094), ('many', 0.99986035), ('flat', 0.9998601), ('really', 0.99985874), ('two', 0.9998582), ('place', 0.9998575), ('back', 0.9998571), ('room', 0.99985576), ('walk', 0.99985534), ('host', 0.99985486), ('soula', 0.9998541), ('go', 0.99985325), ('5', 0.9998528), ('helpful', 0.9998527), ('perfect', 0.99985135), ('everything', 0.9998488), ('time', 0.9998484), ('clean', 0.99984807), ('space', 0.99984795), ('like', 0.9998479), ('experience', 0.99984777), ('first', 0.99984777), ('stayed', 0.99984723), ('lovely', 0.9998463), ('location', 0.9998457), ('minutes', 0.99984497), ('restaurants', 0.9998447), ('stay', 0.9998426), ('comfortable', 0.9998422), ('enjoyed', 0.999841), ('located', 0.99984074), ('metro', 0.99984014), ('needed', 0.9998378), ('made', 0.99983627), ('pygmalion', 0.9998348), ('beautiful', 0.99983084), ('kitchen', 0.99982995), ('station', 0.9998252), ('met', 0.99982476), ('need', 0.9998236), ('view', 0.99982303), ('safe', 0.9998138), ('convenient', 0.9998131), ('wonderful', 0.9998115), ('always', 0.99981), ('haris', 0.9998076), ('visit', 0.99979305), ('terrace', 0.99979293), ('central', 0.9997908), ('spacious', 0.9997881), ('gave', 0.9997857), ('rooftop', 0.9997846), ('home', 0.9997825), ('friendly', 0.99978185), ('felt', 0.9997684), ('amazing', 0.9997602), ('would', 0.9997576), ('thank', 0.99975574), ('staying', 0.99975187), ('equipped', 0.99975145), ('feel', 0.9997484), ('fantastic', 0.99972475), ('recommend', 0.9996942), ('thanks', 0.99969065), ('soulas', 0.9996842), ('definitely', 0.9996704), ('walking', 0.9996134), ('highly', 0.99960095), ('distance', 0.9993738)]\n",
            "amazing [('amazing', 1.0000001), ('apartment', 0.99981546), ('place', 0.9998001), ('great', 0.9997998), ('well', 0.9997992), ('athens', 0.9997902), ('best', 0.9997878), ('location', 0.9997858), ('space', 0.99978536), ('balcony', 0.99978334), ('terrace', 0.9997828), ('spacious', 0.9997816), ('day', 0.9997796), ('flat', 0.9997791), ('time', 0.9997785), ('acropolis', 0.99977714), ('nice', 0.9997763), ('stay', 0.99977416), ('beautiful', 0.9997721), ('view', 0.9997719), ('many', 0.9997713), ('lovely', 0.99977034), ('also', 0.99976945), ('rooftop', 0.99976796), ('good', 0.9997662), ('comfortable', 0.9997654), ('neighborhood', 0.9997652), ('coffee', 0.9997649), ('area', 0.9997642), ('soula', 0.99976367), ('get', 0.9997616), ('city', 0.9997602), ('enjoyed', 0.99975955), ('night', 0.9997588), ('needed', 0.99975556), ('could', 0.99975455), ('clean', 0.9997532), ('excellent', 0.99975294), ('even', 0.9997524), ('street', 0.99975115), ('fotis', 0.9997503), ('one', 0.9997471), ('host', 0.99974674), ('kitchen', 0.9997467), ('really', 0.99974394), ('quiet', 0.99974215), ('close', 0.9997417), ('need', 0.9997416), ('house', 0.9997409), ('much', 0.99973744), ('located', 0.99973667), ('stayed', 0.99973667), ('convenient', 0.999734), ('perfect', 0.9997302), ('us', 0.9997301), ('george', 0.99973005), ('back', 0.99972963), ('always', 0.99972755), ('room', 0.99972737), ('away', 0.9997266), ('easy', 0.99972576), ('everything', 0.9997248), ('helpful', 0.9997223), ('two', 0.999722), ('around', 0.9997176), ('haris', 0.99971735), ('go', 0.99971735), ('restaurants', 0.999711), ('pygmalion', 0.9997093), ('5', 0.9997091), ('minutes', 0.9997083), ('visit', 0.99970555), ('wonderful', 0.9997051), ('metro', 0.9997046), ('experience', 0.9997012), ('first', 0.99969876), ('would', 0.9996974), ('station', 0.99969715), ('like', 0.9996965), ('home', 0.99968725), ('made', 0.999683), ('safe', 0.99967957), ('felt', 0.99967873), ('staying', 0.9996775), ('friendly', 0.99966586), ('central', 0.99966484), ('met', 0.9996642), ('walk', 0.99966383), ('soulas', 0.9996631), ('fantastic', 0.99965376), ('thank', 0.99965227), ('equipped', 0.9996425), ('recommend', 0.9996201), ('gave', 0.9995965), ('thanks', 0.9995878), ('feel', 0.9995742), ('definitely', 0.9995591), ('highly', 0.9995134), ('walking', 0.99940354), ('distance', 0.99929976)]\n",
            "area [('area', 0.99999976), ('also', 0.9999206), ('day', 0.9999109), ('nice', 0.99990654), ('street', 0.99990493), ('neighborhood', 0.99990416), ('apartment', 0.9999004), ('even', 0.9998987), ('athens', 0.9998983), ('good', 0.9998983), ('one', 0.9998968), ('get', 0.9998941), ('great', 0.999891), ('fotis', 0.9998909), ('night', 0.99988693), ('well', 0.9998866), ('kitchen', 0.99988616), ('could', 0.99988604), ('coffee', 0.99988484), ('best', 0.99988323), ('much', 0.9998824), ('easy', 0.9998805), ('balcony', 0.99988025), ('city', 0.9998781), ('quiet', 0.999878), ('really', 0.99987656), ('close', 0.99987596), ('many', 0.9998731), ('flat', 0.99987155), ('time', 0.99987143), ('go', 0.9998713), ('away', 0.99987113), ('space', 0.9998707), ('room', 0.999869), ('restaurants', 0.999868), ('place', 0.9998679), ('soula', 0.99986684), ('excellent', 0.9998667), ('us', 0.9998664), ('location', 0.99986607), ('around', 0.99986535), ('acropolis', 0.9998644), ('perfect', 0.99986404), ('comfortable', 0.9998635), ('helpful', 0.999863), ('two', 0.9998614), ('everything', 0.99986136), ('metro', 0.9998611), ('experience', 0.9998603), ('lovely', 0.9998597), ('host', 0.99985844), ('5', 0.99985796), ('stayed', 0.99985653), ('house', 0.9998549), ('george', 0.99985456), ('need', 0.9998525), ('like', 0.99985206), ('stay', 0.9998497), ('clean', 0.9998497), ('beautiful', 0.99984807), ('needed', 0.9998469), ('located', 0.99984574), ('convenient', 0.99984354), ('back', 0.9998407), ('pygmalion', 0.9998397), ('made', 0.99983746), ('enjoyed', 0.9998319), ('view', 0.99983186), ('wonderful', 0.99982893), ('first', 0.99982834), ('station', 0.99982744), ('minutes', 0.99982667), ('haris', 0.9998252), ('always', 0.99982065), ('visit', 0.99981934), ('terrace', 0.9998184), ('friendly', 0.99981755), ('walk', 0.99981743), ('felt', 0.99981403), ('met', 0.99980825), ('safe', 0.99980366), ('home', 0.9998023), ('spacious', 0.9997996), ('central', 0.9997965), ('equipped', 0.9997882), ('thank', 0.99978656), ('would', 0.99978125), ('feel', 0.9997789), ('rooftop', 0.9997783), ('gave', 0.9997671), ('amazing', 0.9997642), ('staying', 0.9997603), ('fantastic', 0.99975526), ('thanks', 0.9997461), ('soulas', 0.9997336), ('recommend', 0.99970126), ('definitely', 0.99964267), ('highly', 0.9996259), ('walking', 0.99962205), ('distance', 0.99938476)]\n",
            "view [('view', 0.9999999), ('great', 0.999853), ('nice', 0.9998505), ('even', 0.99984854), ('athens', 0.9998427), ('also', 0.9998399), ('best', 0.99983585), ('apartment', 0.99983555), ('area', 0.99983186), ('space', 0.99983084), ('street', 0.9998296), ('place', 0.99982816), ('get', 0.9998264), ('location', 0.999826), ('balcony', 0.99982584), ('city', 0.99982303), ('one', 0.99982166), ('day', 0.99982125), ('night', 0.9998199), ('helpful', 0.9998194), ('could', 0.99981713), ('terrace', 0.9998155), ('rooftop', 0.9998153), ('well', 0.9998137), ('flat', 0.99981225), ('acropolis', 0.9998109), ('really', 0.9998108), ('time', 0.9998107), ('beautiful', 0.9998062), ('coffee', 0.9998061), ('easy', 0.9998041), ('many', 0.9998038), ('good', 0.9998033), ('fotis', 0.99980325), ('george', 0.99980325), ('go', 0.99980253), ('much', 0.9998005), ('soula', 0.9998004), ('host', 0.99980026), ('two', 0.99979836), ('excellent', 0.99979734), ('kitchen', 0.9997972), ('stay', 0.99979466), ('experience', 0.9997917), ('everything', 0.9997912), ('house', 0.9997907), ('neighborhood', 0.9997902), ('pygmalion', 0.9997899), ('quiet', 0.99978864), ('us', 0.9997884), ('comfortable', 0.9997875), ('enjoyed', 0.99978685), ('lovely', 0.9997858), ('away', 0.9997847), ('room', 0.99978274), ('restaurants', 0.9997821), ('around', 0.99978095), ('metro', 0.9997808), ('made', 0.99978), ('first', 0.99977845), ('minutes', 0.99977785), ('stayed', 0.99977714), ('5', 0.9997765), ('close', 0.9997752), ('wonderful', 0.9997747), ('spacious', 0.9997744), ('needed', 0.9997741), ('need', 0.9997729), ('amazing', 0.9997719), ('located', 0.99977005), ('clean', 0.9997641), ('haris', 0.99975973), ('perfect', 0.9997586), ('like', 0.9997558), ('back', 0.9997549), ('walk', 0.9997499), ('staying', 0.99974877), ('home', 0.9997422), ('convenient', 0.99974155), ('visit', 0.9997413), ('friendly', 0.9997357), ('met', 0.99973226), ('would', 0.99972683), ('always', 0.9997247), ('thank', 0.9997229), ('station', 0.9997191), ('felt', 0.9997109), ('gave', 0.9997081), ('central', 0.99970406), ('equipped', 0.9996996), ('safe', 0.9996964), ('feel', 0.9996829), ('soulas', 0.9996765), ('fantastic', 0.9996677), ('recommend', 0.99965286), ('thanks', 0.9996361), ('definitely', 0.9996163), ('highly', 0.99960506), ('walking', 0.99954283), ('distance', 0.99929005)]\n",
            "haris [('haris', 1.0), ('apartment', 0.9998549), ('time', 0.9998549), ('get', 0.9998549), ('great', 0.9998499), ('fotis', 0.9998479), ('us', 0.99984676), ('really', 0.9998429), ('well', 0.9998417), ('night', 0.9998401), ('day', 0.9998395), ('nice', 0.9998386), ('even', 0.99983734), ('one', 0.9998371), ('go', 0.9998366), ('also', 0.99983656), ('soula', 0.99983656), ('coffee', 0.9998349), ('host', 0.9998339), ('street', 0.9998288), ('kitchen', 0.9998283), ('helpful', 0.9998274), ('stayed', 0.9998268), ('excellent', 0.9998261), ('area', 0.9998252), ('place', 0.9998223), ('george', 0.99982214), ('much', 0.9998213), ('athens', 0.9998212), ('flat', 0.99982053), ('needed', 0.9998204), ('best', 0.99981445), ('back', 0.9998106), ('neighborhood', 0.99981016), ('like', 0.99980867), ('balcony', 0.9998082), ('first', 0.99980795), ('stay', 0.99980766), ('city', 0.9998076), ('could', 0.99980706), ('comfortable', 0.9998066), ('easy', 0.9998061), ('quiet', 0.99980575), ('room', 0.99980485), ('experience', 0.9998044), ('made', 0.9998024), ('two', 0.99980205), ('lovely', 0.9997978), ('perfect', 0.9997976), ('good', 0.9997971), ('around', 0.9997962), ('space', 0.99979514), ('friendly', 0.99979204), ('enjoyed', 0.99979085), ('always', 0.9997886), ('away', 0.9997885), ('visit', 0.999787), ('everything', 0.9997853), ('need', 0.9997849), ('pygmalion', 0.999784), ('close', 0.9997835), ('location', 0.9997792), ('home', 0.9997776), ('met', 0.99977714), ('gave', 0.999775), ('beautiful', 0.9997726), ('house', 0.9997718), ('thank', 0.9997712), ('wonderful', 0.9997692), ('acropolis', 0.9997689), ('many', 0.99976754), ('clean', 0.9997651), ('5', 0.99976504), ('felt', 0.99976194), ('view', 0.99975973), ('located', 0.9997525), ('spacious', 0.9997519), ('convenient', 0.9997492), ('would', 0.999749), ('staying', 0.9997412), ('terrace', 0.99974036), ('feel', 0.9997339), ('equipped', 0.9997302), ('soulas', 0.9997281), ('metro', 0.9997244), ('restaurants', 0.9997233), ('minutes', 0.99972105), ('amazing', 0.99971735), ('walk', 0.9997164), ('central', 0.99971277), ('rooftop', 0.99970865), ('safe', 0.99970686), ('station', 0.99969697), ('recommend', 0.9996845), ('fantastic', 0.99967974), ('thanks', 0.9996649), ('definitely', 0.99963814), ('highly', 0.99957347), ('walking', 0.99948543), ('distance', 0.9991842)]\n",
            "needed [('needed', 0.9999999), ('apartment', 0.99988353), ('need', 0.999874), ('also', 0.99986976), ('kitchen', 0.9998684), ('day', 0.9998648), ('coffee', 0.9998629), ('even', 0.9998627), ('athens', 0.99985945), ('could', 0.99985814), ('great', 0.99985766), ('well', 0.9998553), ('nice', 0.99985427), ('one', 0.99985415), ('get', 0.999854), ('comfortable', 0.99985033), ('night', 0.9998492), ('best', 0.999849), ('george', 0.99984896), ('fotis', 0.9998484), ('time', 0.9998479), ('really', 0.9998473), ('area', 0.9998469), ('us', 0.99984574), ('house', 0.9998456), ('stay', 0.9998454), ('lovely', 0.999844), ('place', 0.9998397), ('much', 0.9998387), ('excellent', 0.99983853), ('street', 0.99983853), ('easy', 0.99983793), ('city', 0.9998378), ('good', 0.999835), ('made', 0.9998336), ('host', 0.99983346), ('like', 0.9998317), ('neighborhood', 0.99983114), ('helpful', 0.9998307), ('many', 0.9998305), ('away', 0.9998296), ('balcony', 0.99982923), ('everything', 0.9998285), ('go', 0.9998269), ('perfect', 0.9998244), ('stayed', 0.9998244), ('back', 0.9998236), ('experience', 0.9998233), ('clean', 0.9998231), ('always', 0.9998227), ('flat', 0.9998215), ('soula', 0.999821), ('around', 0.9998207), ('haris', 0.9998204), ('quiet', 0.99981964), ('room', 0.9998194), ('home', 0.9998181), ('location', 0.99981546), ('acropolis', 0.99981105), ('5', 0.99981016), ('close', 0.9998075), ('felt', 0.999805), ('space', 0.9998029), ('located', 0.9998002), ('spacious', 0.9997974), ('first', 0.9997964), ('metro', 0.99979603), ('met', 0.99979484), ('enjoyed', 0.9997925), ('visit', 0.9997907), ('two', 0.9997888), ('wonderful', 0.99978745), ('beautiful', 0.99978685), ('pygmalion', 0.9997782), ('restaurants', 0.9997764), ('convenient', 0.9997748), ('view', 0.9997741), ('minutes', 0.9997722), ('friendly', 0.9997707), ('thank', 0.9997685), ('would', 0.9997642), ('central', 0.99976206), ('amazing', 0.99975556), ('safe', 0.9997542), ('equipped', 0.99975204), ('terrace', 0.9997486), ('station', 0.99974656), ('rooftop', 0.9997438), ('feel', 0.99974245), ('walk', 0.9997369), ('staying', 0.99973536), ('gave', 0.9997272), ('soulas', 0.9997197), ('recommend', 0.9997155), ('fantastic', 0.99969244), ('thanks', 0.99969095), ('definitely', 0.99964446), ('highly', 0.99960023), ('walking', 0.9995386), ('distance', 0.99929464)]\n",
            "one [('one', 1.0000001), ('also', 0.9999339), ('apartment', 0.9999132), ('night', 0.9999126), ('day', 0.9999116), ('coffee', 0.99990535), ('nice', 0.999905), ('best', 0.9999047), ('even', 0.99990016), ('street', 0.9999), ('athens', 0.9998989), ('city', 0.99989706), ('area', 0.9998968), ('like', 0.99989676), ('well', 0.99989665), ('get', 0.99989426), ('good', 0.99989337), ('balcony', 0.9998915), ('fotis', 0.99988997), ('quiet', 0.9998886), ('flat', 0.99988604), ('lovely', 0.9998855), ('place', 0.9998837), ('could', 0.99988323), ('time', 0.99988246), ('experience', 0.9998822), ('us', 0.99988186), ('room', 0.99988186), ('everything', 0.99988157), ('stayed', 0.9998815), ('great', 0.9998807), ('two', 0.99988055), ('really', 0.9998798), ('away', 0.9998781), ('excellent', 0.9998777), ('easy', 0.999877), ('much', 0.9998765), ('around', 0.99987483), ('neighborhood', 0.99987483), ('close', 0.9998738), ('space', 0.9998735), ('george', 0.99987286), ('comfortable', 0.9998726), ('helpful', 0.99987257), ('go', 0.999872), ('many', 0.999872), ('acropolis', 0.99986845), ('kitchen', 0.99986553), ('soula', 0.9998654), ('wonderful', 0.99986154), ('need', 0.99985963), ('first', 0.99985886), ('5', 0.99985695), ('host', 0.9998553), ('beautiful', 0.99985516), ('needed', 0.99985415), ('house', 0.999854), ('enjoyed', 0.99985254), ('perfect', 0.99984926), ('back', 0.9998483), ('pygmalion', 0.99984676), ('made', 0.99984574), ('restaurants', 0.99984485), ('stay', 0.9998436), ('metro', 0.99984294), ('clean', 0.99984264), ('location', 0.99984044), ('visit', 0.9998401), ('haris', 0.9998371), ('located', 0.99982977), ('met', 0.9998285), ('minutes', 0.9998232), ('walk', 0.99982274), ('view', 0.99982166), ('home', 0.99981487), ('felt', 0.9998146), ('always', 0.9998145), ('convenient', 0.9998131), ('friendly', 0.99981236), ('spacious', 0.9998094), ('station', 0.9998079), ('safe', 0.99979997), ('thank', 0.9997992), ('staying', 0.99979806), ('terrace', 0.9997978), ('would', 0.9997945), ('central', 0.9997915), ('rooftop', 0.999791), ('equipped', 0.9997834), ('feel', 0.9997732), ('gave', 0.9997707), ('fantastic', 0.9997562), ('amazing', 0.9997471), ('thanks', 0.99974525), ('soulas', 0.99974465), ('recommend', 0.9997293), ('definitely', 0.9996863), ('highly', 0.9996393), ('walking', 0.9995991), ('distance', 0.9993469)]\n",
            "quiet [('quiet', 1.0), ('also', 0.9999011), ('apartment', 0.9998887), ('one', 0.9998886), ('city', 0.99988467), ('nice', 0.9998843), ('area', 0.999878), ('day', 0.9998772), ('good', 0.9998756), ('even', 0.99987483), ('night', 0.9998724), ('street', 0.9998713), ('neighborhood', 0.99987066), ('excellent', 0.9998704), ('best', 0.999864), ('really', 0.99986255), ('stayed', 0.99986243), ('could', 0.99986035), ('athens', 0.9998599), ('flat', 0.9998598), ('well', 0.9998596), ('coffee', 0.99985933), ('great', 0.99985796), ('get', 0.99985754), ('lovely', 0.99985707), ('fotis', 0.9998568), ('balcony', 0.9998555), ('many', 0.99985474), ('much', 0.99985397), ('place', 0.99985325), ('close', 0.99985266), ('away', 0.9998494), ('easy', 0.99984854), ('us', 0.9998465), ('helpful', 0.99984604), ('stay', 0.9998448), ('room', 0.9998447), ('go', 0.99984425), ('around', 0.99984384), ('time', 0.9998415), ('perfect', 0.9998404), ('like', 0.99984014), ('restaurants', 0.9998398), ('two', 0.99983895), ('george', 0.99983627), ('kitchen', 0.9998362), ('host', 0.9998352), ('everything', 0.9998351), ('beautiful', 0.99983466), ('soula', 0.9998339), ('need', 0.9998337), ('location', 0.99983364), ('house', 0.9998335), ('enjoyed', 0.99983233), ('experience', 0.9998307), ('5', 0.9998288), ('clean', 0.99982816), ('comfortable', 0.999828), ('acropolis', 0.9998275), ('wonderful', 0.9998265), ('pygmalion', 0.9998264), ('made', 0.9998229), ('space', 0.99982274), ('always', 0.99982166), ('needed', 0.99981964), ('first', 0.9998181), ('safe', 0.9998174), ('back', 0.99981457), ('located', 0.99981403), ('met', 0.9998134), ('convenient', 0.9998126), ('metro', 0.99981254), ('visit', 0.99981177), ('central', 0.9998064), ('haris', 0.99980575), ('minutes', 0.99980503), ('equipped', 0.9997951), ('friendly', 0.9997945), ('walk', 0.99979395), ('view', 0.99978864), ('felt', 0.9997852), ('station', 0.99978435), ('would', 0.9997768), ('spacious', 0.9997761), ('home', 0.9997704), ('terrace', 0.9997523), ('staying', 0.9997522), ('thank', 0.99974895), ('rooftop', 0.99974835), ('feel', 0.999744), ('amazing', 0.99974215), ('gave', 0.9997332), ('recommend', 0.9997202), ('thanks', 0.9997131), ('soulas', 0.99969554), ('fantastic', 0.9996897), ('definitely', 0.99966353), ('walking', 0.9996223), ('highly', 0.9996062), ('distance', 0.99933356)]\n",
            "spacious [('spacious', 0.9999998), ('apartment', 0.9998442), ('well', 0.99984354), ('nice', 0.99984246), ('clean', 0.9998322), ('comfortable', 0.9998273), ('everything', 0.9998265), ('athens', 0.99982), ('great', 0.99981815), ('space', 0.9998157), ('lovely', 0.9998146), ('place', 0.9998137), ('stay', 0.9998134), ('one', 0.9998094), ('also', 0.99980915), ('really', 0.99980897), ('kitchen', 0.999805), ('location', 0.9998049), ('even', 0.99980414), ('flat', 0.9998022), ('day', 0.99980116), ('best', 0.9998003), ('soula', 0.9997998), ('area', 0.9997996), ('time', 0.9997981), ('get', 0.999798), ('fotis', 0.9997978), ('house', 0.99979746), ('needed', 0.9997974), ('located', 0.9997962), ('excellent', 0.9997955), ('night', 0.9997942), ('need', 0.9997921), ('beautiful', 0.99979156), ('helpful', 0.9997909), ('city', 0.9997881), ('back', 0.99978685), ('room', 0.9997865), ('could', 0.9997848), ('neighborhood', 0.99978435), ('two', 0.9997843), ('street', 0.9997842), ('host', 0.999783), ('perfect', 0.9997826), ('balcony', 0.9997823), ('amazing', 0.9997816), ('much', 0.9997798), ('us', 0.99977964), ('george', 0.999779), ('good', 0.9997767), ('quiet', 0.9997761), ('easy', 0.99977547), ('always', 0.9997751), ('go', 0.999775), ('view', 0.9997744), ('stayed', 0.9997729), ('coffee', 0.99977), ('like', 0.9997698), ('wonderful', 0.9997672), ('enjoyed', 0.9997656), ('many', 0.99975985), ('pygmalion', 0.9997578), ('experience', 0.9997576), ('acropolis', 0.99975497), ('haris', 0.9997519), ('5', 0.99975187), ('close', 0.9997506), ('around', 0.99974906), ('equipped', 0.9997406), ('friendly', 0.99974036), ('home', 0.99973845), ('central', 0.99973434), ('terrace', 0.99973214), ('first', 0.9997301), ('convenient', 0.999729), ('felt', 0.9997279), ('would', 0.9997266), ('metro', 0.999726), ('visit', 0.99972576), ('safe', 0.9997202), ('made', 0.9997185), ('restaurants', 0.99971557), ('rooftop', 0.9997144), ('met', 0.9997137), ('staying', 0.9997047), ('away', 0.99969995), ('fantastic', 0.99969757), ('thank', 0.99968666), ('soulas', 0.99968654), ('recommend', 0.999686), ('gave', 0.9996842), ('station', 0.9996838), ('minutes', 0.9996796), ('feel', 0.99966526), ('walk', 0.9996551), ('thanks', 0.99961185), ('definitely', 0.9996113), ('highly', 0.9995402), ('walking', 0.9994171), ('distance', 0.9992618)]\n",
            "walking [('walking', 1.0000001), ('restaurants', 0.99971306), ('metro', 0.9996622), ('minutes', 0.99965495), ('away', 0.9996541), ('also', 0.9996471), ('many', 0.9996466), ('close', 0.9996418), ('walk', 0.99963963), ('neighborhood', 0.99963754), ('acropolis', 0.9996332), ('good', 0.99963313), ('street', 0.9996277), ('5', 0.9996257), ('quiet', 0.9996223), ('area', 0.99962205), ('around', 0.9996191), ('get', 0.99961793), ('coffee', 0.9996177), ('easy', 0.99961704), ('even', 0.99961495), ('city', 0.9996134), ('convenient', 0.99960744), ('one', 0.9995991), ('station', 0.9995956), ('great', 0.99958736), ('location', 0.9995866), ('day', 0.9995866), ('located', 0.9995862), ('could', 0.9995851), ('athens', 0.9995831), ('everything', 0.9995803), ('fotis', 0.9995777), ('best', 0.99957764), ('flat', 0.99957496), ('apartment', 0.9995748), ('perfect', 0.9995728), ('balcony', 0.99957156), ('night', 0.9995712), ('room', 0.9995691), ('much', 0.99956787), ('house', 0.9995677), ('central', 0.9995632), ('excellent', 0.99955803), ('nice', 0.9995568), ('place', 0.9995567), ('kitchen', 0.99955565), ('go', 0.9995528), ('two', 0.9995528), ('enjoyed', 0.9995497), ('well', 0.99954915), ('helpful', 0.99954885), ('really', 0.9995464), ('george', 0.99954313), ('view', 0.99954283), ('made', 0.99954236), ('need', 0.99954224), ('met', 0.99953926), ('needed', 0.9995386), ('host', 0.9995364), ('lovely', 0.99953485), ('us', 0.999533), ('soula', 0.99953294), ('stay', 0.9995326), ('time', 0.999526), ('like', 0.9995227), ('experience', 0.9995213), ('safe', 0.9995172), ('comfortable', 0.9995165), ('wonderful', 0.9995163), ('back', 0.9995129), ('stayed', 0.9995119), ('first', 0.9995099), ('clean', 0.999508), ('pygmalion', 0.9995058), ('always', 0.99950516), ('space', 0.9994968), ('visit', 0.999496), ('beautiful', 0.9994958), ('haris', 0.99948543), ('terrace', 0.99947387), ('rooftop', 0.99947006), ('equipped', 0.99946797), ('felt', 0.999465), ('home', 0.99945974), ('friendly', 0.9994563), ('staying', 0.99945223), ('feel', 0.99944985), ('would', 0.999441), ('fantastic', 0.9994214), ('spacious', 0.9994171), ('gave', 0.99941385), ('amazing', 0.99940354), ('thank', 0.99939984), ('thanks', 0.9993883), ('soulas', 0.9993852), ('definitely', 0.9993296), ('recommend', 0.9993143), ('highly', 0.99930745), ('distance', 0.99923795)]\n",
            "need [('need', 0.9999997), ('needed', 0.999874), ('excellent', 0.9998647), ('apartment', 0.99986374), ('also', 0.99986136), ('everything', 0.9998601), ('one', 0.99985963), ('street', 0.99985904), ('athens', 0.99985886), ('great', 0.9998543), ('could', 0.99985373), ('fotis', 0.9998533), ('area', 0.9998525), ('well', 0.99985224), ('even', 0.99985224), ('day', 0.9998492), ('easy', 0.9998491), ('time', 0.999849), ('george', 0.99984753), ('good', 0.9998456), ('host', 0.99984413), ('coffee', 0.9998441), ('lovely', 0.9998439), ('nice', 0.99984187), ('balcony', 0.9998415), ('get', 0.9998411), ('soula', 0.9998411), ('much', 0.9998408), ('comfortable', 0.99984056), ('stay', 0.99983925), ('stayed', 0.99983865), ('night', 0.9998372), ('place', 0.99983555), ('really', 0.9998352), ('best', 0.999834), ('kitchen', 0.9998339), ('quiet', 0.9998337), ('house', 0.9998323), ('neighborhood', 0.999829), ('always', 0.9998288), ('us', 0.9998261), ('many', 0.99982536), ('go', 0.99982405), ('city', 0.9998236), ('experience', 0.99982256), ('around', 0.99982136), ('enjoyed', 0.99982136), ('helpful', 0.99982125), ('like', 0.99981844), ('room', 0.9998177), ('clean', 0.99981725), ('perfect', 0.9998158), ('back', 0.9998145), ('flat', 0.999811), ('5', 0.9998106), ('two', 0.99980545), ('close', 0.9998049), ('made', 0.9998036), ('space', 0.999802), ('location', 0.9998011), ('pygmalion', 0.9998007), ('wonderful', 0.99979734), ('away', 0.9997957), ('restaurants', 0.99979305), ('beautiful', 0.99979305), ('spacious', 0.9997921), ('metro', 0.9997912), ('acropolis', 0.9997897), ('located', 0.99978554), ('haris', 0.9997849), ('met', 0.99978185), ('visit', 0.9997766), ('convenient', 0.99977475), ('view', 0.9997729), ('felt', 0.99977154), ('would', 0.99977136), ('home', 0.9997705), ('first', 0.99977046), ('friendly', 0.99977034), ('safe', 0.9997673), ('equipped', 0.99976295), ('feel', 0.9997628), ('minutes', 0.9997627), ('amazing', 0.9997416), ('rooftop', 0.99973917), ('central', 0.9997384), ('thank', 0.9997347), ('station', 0.9997344), ('staying', 0.99973387), ('walk', 0.99972636), ('recommend', 0.999708), ('gave', 0.9997056), ('soulas', 0.99969935), ('terrace', 0.99969923), ('fantastic', 0.99969745), ('thanks', 0.99968374), ('definitely', 0.9996278), ('highly', 0.9996111), ('walking', 0.99954224), ('distance', 0.99933535)]\n",
            "home [('home', 1.0), ('like', 0.9998565), ('made', 0.9998372), ('day', 0.9998359), ('night', 0.9998358), ('apartment', 0.9998356), ('also', 0.99983484), ('flat', 0.9998316), ('athens', 0.99982786), ('time', 0.999825), ('get', 0.9998237), ('fotis', 0.99982363), ('even', 0.9998217), ('really', 0.99982154), ('needed', 0.9998181), ('nice', 0.9998166), ('neighborhood', 0.9998157), ('one', 0.99981487), ('soula', 0.99981433), ('go', 0.99981403), ('best', 0.99981236), ('could', 0.99981225), ('host', 0.999812), ('us', 0.9998115), ('great', 0.99981135), ('everything', 0.9998094), ('kitchen', 0.999809), ('street', 0.99980724), ('perfect', 0.999806), ('stay', 0.9998035), ('away', 0.99980253), ('area', 0.9998023), ('place', 0.99980205), ('coffee', 0.9997999), ('house', 0.9997999), ('good', 0.9997998), ('back', 0.9997986), ('well', 0.9997978), ('helpful', 0.9997944), ('balcony', 0.99979335), ('comfortable', 0.999791), ('lovely', 0.9997902), ('stayed', 0.9997892), ('easy', 0.99978864), ('much', 0.9997853), ('george', 0.9997848), ('first', 0.99978447), ('visit', 0.9997832), ('city', 0.9997825), ('room', 0.9997825), ('5', 0.9997808), ('experience', 0.999778), ('haris', 0.9997776), ('excellent', 0.9997757), ('many', 0.9997731), ('around', 0.999773), ('felt', 0.9997711), ('need', 0.9997705), ('quiet', 0.9997704), ('met', 0.99976814), ('two', 0.9997638), ('space', 0.99975806), ('pygmalion', 0.99975723), ('location', 0.9997561), ('clean', 0.99975556), ('wonderful', 0.99975437), ('beautiful', 0.99975395), ('always', 0.9997533), ('enjoyed', 0.9997517), ('minutes', 0.99974936), ('acropolis', 0.99974877), ('friendly', 0.99974597), ('would', 0.99974513), ('view', 0.9997422), ('close', 0.9997413), ('staying', 0.9997409), ('spacious', 0.99973845), ('located', 0.9997369), ('metro', 0.9997273), ('terrace', 0.99972254), ('gave', 0.9997216), ('soulas', 0.999719), ('feel', 0.999718), ('convenient', 0.9997153), ('thank', 0.9997138), ('restaurants', 0.99970734), ('rooftop', 0.9996945), ('equipped', 0.99969435), ('safe', 0.9996933), ('walk', 0.9996909), ('amazing', 0.99968725), ('central', 0.9996862), ('station', 0.99968296), ('fantastic', 0.999666), ('recommend', 0.99965084), ('thanks', 0.9996404), ('definitely', 0.9996145), ('highly', 0.99954665), ('walking', 0.99945974), ('distance', 0.99926156)]\n",
            "definitely [('definitely', 1.0000001), ('would', 0.99976575), ('athens', 0.99974406), ('stay', 0.99972683), ('best', 0.999724), ('place', 0.9997215), ('recommend', 0.9997142), ('apartment', 0.9997038), ('highly', 0.99969953), ('host', 0.9996976), ('helpful', 0.99968964), ('flat', 0.9996895), ('one', 0.9996863), ('day', 0.9996824), ('time', 0.9996821), ('excellent', 0.9996809), ('much', 0.99968046), ('lovely', 0.99967766), ('stayed', 0.99967647), ('staying', 0.99967414), ('great', 0.99967337), ('back', 0.999673), ('city', 0.9996704), ('also', 0.99967015), ('enjoyed', 0.9996689), ('good', 0.99966735), ('get', 0.9996667), ('experience', 0.9996658), ('nice', 0.99966353), ('quiet', 0.99966353), ('made', 0.999663), ('beautiful', 0.9996612), ('really', 0.9996589), ('street', 0.9996588), ('george', 0.99965787), ('fotis', 0.9996542), ('well', 0.9996532), ('night', 0.99964947), ('go', 0.99964935), ('many', 0.99964833), ('everything', 0.99964803), ('wonderful', 0.9996479), ('two', 0.9996479), ('needed', 0.99964446), ('area', 0.99964267), ('comfortable', 0.99964184), ('thank', 0.99964136), ('could', 0.99963915), ('house', 0.9996384), ('haris', 0.99963814), ('visit', 0.99963725), ('perfect', 0.9996371), ('space', 0.9996368), ('even', 0.9996366), ('neighborhood', 0.99963397), ('easy', 0.9996328), ('coffee', 0.9996315), ('clean', 0.9996287), ('location', 0.99962807), ('need', 0.9996278), ('5', 0.9996269), ('located', 0.99962544), ('us', 0.9996246), ('first', 0.9996245), ('balcony', 0.9996244), ('room', 0.99962234), ('pygmalion', 0.9996223), ('close', 0.9996215), ('soula', 0.9996194), ('like', 0.99961764), ('view', 0.9996163), ('friendly', 0.9996163), ('around', 0.9996149), ('home', 0.9996145), ('spacious', 0.9996113), ('restaurants', 0.99960977), ('thanks', 0.99960685), ('metro', 0.999604), ('kitchen', 0.9996024), ('soulas', 0.9996016), ('always', 0.9996009), ('felt', 0.99959373), ('minutes', 0.9995927), ('acropolis', 0.99959093), ('convenient', 0.9995905), ('safe', 0.99958634), ('met', 0.9995853), ('away', 0.99958026), ('equipped', 0.9995761), ('terrace', 0.9995662), ('amazing', 0.9995591), ('rooftop', 0.99955237), ('walk', 0.99953973), ('fantastic', 0.9995353), ('central', 0.99953413), ('feel', 0.99952805), ('station', 0.99952364), ('gave', 0.9995154), ('walking', 0.9993296), ('distance', 0.9990495)]\n",
            "get [('get', 0.99999976), ('also', 0.9999133), ('street', 0.9999038), ('day', 0.9999035), ('even', 0.9999022), ('coffee', 0.9998976), ('one', 0.99989426), ('area', 0.9998941), ('athens', 0.99989337), ('night', 0.99989235), ('good', 0.9998912), ('fotis', 0.9998884), ('go', 0.9998869), ('easy', 0.9998843), ('city', 0.9998841), ('really', 0.99988395), ('could', 0.99988306), ('best', 0.9998822), ('time', 0.9998813), ('us', 0.99988097), ('great', 0.99987787), ('apartment', 0.9998775), ('nice', 0.9998773), ('well', 0.9998766), ('neighborhood', 0.9998759), ('away', 0.9998724), ('soula', 0.9998707), ('around', 0.99987024), ('george', 0.99987024), ('place', 0.999869), ('host', 0.99986756), ('excellent', 0.9998669), ('room', 0.99986565), ('flat', 0.99986553), ('close', 0.99986535), ('stayed', 0.9998635), ('much', 0.9998629), ('helpful', 0.9998623), ('kitchen', 0.99986184), ('like', 0.99986076), ('experience', 0.99985933), ('quiet', 0.99985754), ('many', 0.999857), ('made', 0.99985665), ('everything', 0.99985516), ('haris', 0.9998549), ('back', 0.99985415), ('needed', 0.999854), ('balcony', 0.99985254), ('5', 0.9998517), ('first', 0.99985147), ('perfect', 0.99984854), ('acropolis', 0.9998476), ('comfortable', 0.9998468), ('house', 0.9998432), ('stay', 0.99984145), ('need', 0.9998411), ('enjoyed', 0.99984), ('restaurants', 0.99983966), ('two', 0.9998395), ('metro', 0.99983704), ('space', 0.9998364), ('always', 0.9998356), ('lovely', 0.99983555), ('met', 0.99983466), ('location', 0.9998321), ('pygmalion', 0.99983203), ('located', 0.9998281), ('clean', 0.9998271), ('view', 0.9998264), ('convenient', 0.9998259), ('beautiful', 0.9998242), ('home', 0.9998237), ('minutes', 0.99982363), ('wonderful', 0.9998182), ('friendly', 0.9998179), ('walk', 0.99981534), ('visit', 0.9998122), ('station', 0.99981), ('gave', 0.9998016), ('terrace', 0.9997995), ('spacious', 0.999798), ('felt', 0.9997955), ('safe', 0.9997855), ('central', 0.9997768), ('rooftop', 0.9997746), ('staying', 0.9997739), ('would', 0.99976367), ('equipped', 0.99976164), ('amazing', 0.9997616), ('feel', 0.9997519), ('thank', 0.9997507), ('thanks', 0.9997364), ('soulas', 0.999727), ('fantastic', 0.99972284), ('recommend', 0.99969417), ('definitely', 0.9996667), ('highly', 0.9996183), ('walking', 0.99961793), ('distance', 0.99933916)]\n",
            "located [('located', 0.9999997), ('apartment', 0.9998593), ('also', 0.9998574), ('athens', 0.9998549), ('clean', 0.9998496), ('best', 0.999847), ('area', 0.99984574), ('street', 0.99984515), ('even', 0.99984276), ('city', 0.99984074), ('place', 0.9998402), ('day', 0.9998378), ('comfortable', 0.9998371), ('fotis', 0.9998369), ('many', 0.99983186), ('everything', 0.99982977), ('one', 0.99982977), ('good', 0.99982834), ('well', 0.99982816), ('get', 0.9998281), ('neighborhood', 0.999824), ('night', 0.9998236), ('close', 0.9998227), ('really', 0.99982065), ('flat', 0.99982053), ('metro', 0.9998204), ('nice', 0.9998191), ('great', 0.99981874), ('restaurants', 0.9998159), ('much', 0.9998158), ('quiet', 0.99981403), ('house', 0.9998131), ('beautiful', 0.999813), ('away', 0.99981135), ('us', 0.9998108), ('coffee', 0.99981064), ('5', 0.99981064), ('balcony', 0.9998103), ('perfect', 0.99980944), ('two', 0.99980915), ('location', 0.99980843), ('soula', 0.99980813), ('easy', 0.9998053), ('kitchen', 0.99980515), ('stay', 0.999805), ('excellent', 0.999804), ('lovely', 0.9998036), ('stayed', 0.9998035), ('could', 0.99980235), ('needed', 0.9998002), ('time', 0.99979955), ('back', 0.9997993), ('around', 0.99979913), ('station', 0.99979806), ('spacious', 0.9997962), ('enjoyed', 0.9997962), ('space', 0.9997962), ('minutes', 0.99979603), ('acropolis', 0.99979514), ('george', 0.9997945), ('helpful', 0.99979186), ('host', 0.99978995), ('convenient', 0.99978834), ('like', 0.99978757), ('need', 0.99978554), ('room', 0.9997838), ('safe', 0.9997804), ('go', 0.99977577), ('terrace', 0.9997712), ('view', 0.99977005), ('experience', 0.99976796), ('wonderful', 0.99976677), ('always', 0.9997655), ('walk', 0.99976474), ('first', 0.99976355), ('pygmalion', 0.9997633), ('equipped', 0.9997602), ('visit', 0.99975723), ('met', 0.99975437), ('haris', 0.9997525), ('made', 0.9997519), ('felt', 0.9997457), ('central', 0.99974185), ('home', 0.9997369), ('amazing', 0.99973667), ('soulas', 0.9997251), ('would', 0.9997243), ('friendly', 0.9997151), ('rooftop', 0.9997135), ('thank', 0.9997065), ('staying', 0.99970216), ('fantastic', 0.9996996), ('feel', 0.99969345), ('gave', 0.99966544), ('thanks', 0.9996601), ('recommend', 0.9996371), ('definitely', 0.99962544), ('highly', 0.9995973), ('walking', 0.9995862), ('distance', 0.99937826)]\n",
            "around [('around', 1.0000002), ('also', 0.9999117), ('fotis', 0.9998881), ('us', 0.9998854), ('street', 0.9998847), ('even', 0.9998828), ('city', 0.99988157), ('one', 0.99987483), ('easy', 0.99987066), ('get', 0.99987024), ('day', 0.999869), ('coffee', 0.99986875), ('george', 0.9998687), ('best', 0.9998671), ('go', 0.99986684), ('area', 0.99986535), ('night', 0.9998604), ('apartment', 0.9998589), ('neighborhood', 0.99985784), ('well', 0.9998568), ('could', 0.9998533), ('good', 0.9998529), ('athens', 0.99985224), ('much', 0.999852), ('really', 0.9998504), ('close', 0.9998504), ('great', 0.9998495), ('away', 0.9998486), ('time', 0.99984634), ('many', 0.9998463), ('5', 0.99984497), ('quiet', 0.99984384), ('balcony', 0.99984384), ('flat', 0.99984336), ('helpful', 0.99984175), ('soula', 0.9998412), ('excellent', 0.99983877), ('like', 0.9998355), ('made', 0.9998354), ('nice', 0.9998349), ('room', 0.9998315), ('location', 0.999831), ('kitchen', 0.99982905), ('everything', 0.99982756), ('experience', 0.9998268), ('stayed', 0.9998258), ('lovely', 0.9998245), ('met', 0.99982214), ('two', 0.99982214), ('back', 0.9998219), ('need', 0.99982136), ('needed', 0.9998207), ('host', 0.9998186), ('wonderful', 0.99981785), ('acropolis', 0.9998161), ('stay', 0.9998154), ('place', 0.9998135), ('restaurants', 0.9998116), ('space', 0.99981064), ('walk', 0.9998106), ('house', 0.9998092), ('convenient', 0.99980825), ('metro', 0.9998075), ('first', 0.99980646), ('minutes', 0.9998059), ('comfortable', 0.9998047), ('pygmalion', 0.9998025), ('perfect', 0.99980026), ('located', 0.99979913), ('haris', 0.9997962), ('safe', 0.9997934), ('clean', 0.99978876), ('friendly', 0.99978536), ('visit', 0.99978346), ('always', 0.99978215), ('view', 0.99978095), ('enjoyed', 0.9997797), ('beautiful', 0.99977696), ('home', 0.999773), ('station', 0.999771), ('gave', 0.9997696), ('rooftop', 0.99976283), ('central', 0.9997615), ('felt', 0.9997612), ('terrace', 0.9997577), ('feel', 0.99975705), ('equipped', 0.9997494), ('spacious', 0.99974906), ('would', 0.9997229), ('amazing', 0.9997176), ('staying', 0.9997112), ('thank', 0.99971086), ('fantastic', 0.9996997), ('thanks', 0.99968743), ('soulas', 0.9996724), ('recommend', 0.99965805), ('walking', 0.9996191), ('definitely', 0.9996149), ('highly', 0.99956065), ('distance', 0.9993595)]\n",
            "excellent [('excellent', 1.0000002), ('also', 0.9998796), ('one', 0.9998777), ('even', 0.99987453), ('nice', 0.9998736), ('well', 0.9998732), ('quiet', 0.9998704), ('good', 0.999867), ('get', 0.9998669), ('area', 0.9998667), ('apartment', 0.99986607), ('city', 0.99986595), ('need', 0.9998647), ('day', 0.9998645), ('best', 0.99986386), ('street', 0.99986327), ('great', 0.99985856), ('coffee', 0.99985856), ('night', 0.9998582), ('athens', 0.9998573), ('stayed', 0.9998565), ('time', 0.99985546), ('many', 0.9998551), ('host', 0.99985486), ('helpful', 0.9998537), ('could', 0.9998534), ('easy', 0.99985313), ('place', 0.99985296), ('flat', 0.9998529), ('lovely', 0.999851), ('fotis', 0.9998509), ('soula', 0.9998488), ('much', 0.99984217), ('george', 0.9998408), ('5', 0.99984), ('comfortable', 0.9998395), ('really', 0.9998391), ('around', 0.99983877), ('needed', 0.99983853), ('away', 0.99983853), ('neighborhood', 0.99983793), ('kitchen', 0.9998378), ('balcony', 0.9998374), ('go', 0.9998363), ('us', 0.9998348), ('close', 0.9998348), ('stay', 0.9998347), ('back', 0.99983335), ('everything', 0.99983245), ('perfect', 0.99983144), ('enjoyed', 0.99982655), ('haris', 0.9998261), ('location', 0.9998243), ('house', 0.99982405), ('like', 0.9998229), ('two', 0.99981946), ('restaurants', 0.99981904), ('room', 0.9998176), ('experience', 0.99981755), ('clean', 0.9998151), ('beautiful', 0.99981356), ('pygmalion', 0.999812), ('acropolis', 0.99981016), ('made', 0.9998075), ('always', 0.99980694), ('wonderful', 0.9998065), ('located', 0.999804), ('metro', 0.9998015), ('space', 0.99980146), ('first', 0.9998008), ('minutes', 0.9997999), ('felt', 0.9997987), ('met', 0.99979794), ('view', 0.99979734), ('friendly', 0.99979556), ('spacious', 0.9997955), ('walk', 0.99978936), ('convenient', 0.99978787), ('safe', 0.9997783), ('equipped', 0.9997759), ('home', 0.9997757), ('station', 0.999775), ('visit', 0.9997744), ('would', 0.99976563), ('central', 0.99976385), ('amazing', 0.99975294), ('feel', 0.99975), ('thank', 0.9997462), ('fantastic', 0.99974376), ('terrace', 0.9997377), ('rooftop', 0.9997332), ('gave', 0.999731), ('recommend', 0.9997297), ('staying', 0.99971896), ('soulas', 0.999707), ('thanks', 0.9996835), ('definitely', 0.9996809), ('highly', 0.99962455), ('walking', 0.99955803), ('distance', 0.99931484)]\n",
            "lovely [('lovely', 1.0000001), ('apartment', 0.9998964), ('athens', 0.99988663), ('one', 0.9998855), ('good', 0.9998793), ('also', 0.99987733), ('well', 0.99987704), ('great', 0.9998716), ('best', 0.99987113), ('nice', 0.9998679), ('even', 0.99986666), ('like', 0.99986565), ('flat', 0.9998653), ('day', 0.99986523), ('could', 0.99986213), ('neighborhood', 0.99986124), ('place', 0.9998598), ('area', 0.9998597), ('time', 0.9998579), ('quiet', 0.99985707), ('really', 0.9998554), ('george', 0.9998536), ('many', 0.99985355), ('kitchen', 0.99985284), ('stay', 0.9998511), ('excellent', 0.999851), ('night', 0.99985087), ('city', 0.9998463), ('street', 0.9998459), ('everything', 0.9998456), ('coffee', 0.9998451), ('balcony', 0.9998442), ('needed', 0.999844), ('helpful', 0.9998439), ('need', 0.9998439), ('comfortable', 0.99984336), ('fotis', 0.99984336), ('wonderful', 0.9998395), ('experience', 0.99983793), ('beautiful', 0.99983716), ('perfect', 0.999837), ('host', 0.99983656), ('soula', 0.999836), ('house', 0.99983585), ('get', 0.99983555), ('go', 0.9998354), ('space', 0.999834), ('clean', 0.9998308), ('close', 0.9998305), ('much', 0.9998305), ('location', 0.9998281), ('stayed', 0.99982756), ('two', 0.9998272), ('room', 0.99982667), ('us', 0.99982584), ('around', 0.9998245), ('enjoyed', 0.9998242), ('easy', 0.9998215), ('made', 0.9998213), ('away', 0.99982095), ('5', 0.9998176), ('acropolis', 0.99981475), ('spacious', 0.9998146), ('back', 0.99981445), ('visit', 0.9998115), ('always', 0.9998106), ('located', 0.9998036), ('pygmalion', 0.99980134), ('haris', 0.9997978), ('felt', 0.99979776), ('staying', 0.99979573), ('convenient', 0.9997941), ('restaurants', 0.9997914), ('home', 0.9997902), ('central', 0.9997891), ('metro', 0.999789), ('view', 0.9997858), ('met', 0.9997856), ('safe', 0.9997854), ('first', 0.9997843), ('would', 0.99978375), ('minutes', 0.9997823), ('thank', 0.99977887), ('friendly', 0.9997736), ('rooftop', 0.99977094), ('amazing', 0.99977034), ('soulas', 0.9997599), ('station', 0.9997553), ('walk', 0.999754), ('equipped', 0.99975157), ('feel', 0.999751), ('terrace', 0.9997493), ('fantastic', 0.999732), ('recommend', 0.99973065), ('gave', 0.99969965), ('thanks', 0.99969274), ('definitely', 0.99967766), ('highly', 0.99962807), ('walking', 0.99953485), ('distance', 0.9993124)]\n",
            "beautiful [('beautiful', 1.0), ('apartment', 0.9998745), ('athens', 0.9998727), ('nice', 0.99987066), ('best', 0.99986833), ('flat', 0.9998631), ('place', 0.99985725), ('one', 0.99985516), ('comfortable', 0.99985117), ('also', 0.99984926), ('area', 0.99984807), ('day', 0.9998475), ('great', 0.99984545), ('night', 0.9998443), ('time', 0.99984217), ('fotis', 0.9998417), ('helpful', 0.9998413), ('space', 0.99984074), ('coffee', 0.9998377), ('lovely', 0.99983716), ('well', 0.9998362), ('host', 0.9998358), ('balcony', 0.99983555), ('good', 0.99983513), ('stayed', 0.99983513), ('quiet', 0.99983466), ('even', 0.99983454), ('really', 0.99983436), ('stay', 0.99983287), ('two', 0.99983126), ('city', 0.99983084), ('could', 0.99982965), ('much', 0.99982923), ('experience', 0.99982685), ('neighborhood', 0.999825), ('house', 0.9998249), ('get', 0.9998242), ('clean', 0.99982303), ('room', 0.9998215), ('many', 0.99982023), ('enjoyed', 0.99982023), ('everything', 0.99981934), ('street', 0.9998185), ('location', 0.9998178), ('perfect', 0.99981487), ('excellent', 0.99981356), ('located', 0.999813), ('kitchen', 0.9998128), ('soula', 0.9998121), ('wonderful', 0.99981093), ('view', 0.9998062), ('like', 0.9998057), ('go', 0.9998053), ('us', 0.99980485), ('george', 0.999803), ('pygmalion', 0.9998017), ('first', 0.9998007), ('back', 0.9997973), ('acropolis', 0.9997952), ('need', 0.99979305), ('made', 0.9997925), ('spacious', 0.99979156), ('close', 0.99979115), ('easy', 0.9997872), ('needed', 0.99978685), ('away', 0.99978614), ('visit', 0.9997841), ('around', 0.99977696), ('metro', 0.9997766), ('5', 0.9997736), ('would', 0.9997732), ('haris', 0.9997726), ('amazing', 0.9997721), ('felt', 0.9997716), ('always', 0.99977076), ('equipped', 0.99977016), ('terrace', 0.99976873), ('restaurants', 0.9997654), ('thank', 0.9997603), ('convenient', 0.99976015), ('central', 0.9997599), ('staying', 0.9997567), ('met', 0.9997562), ('home', 0.99975395), ('rooftop', 0.9997538), ('minutes', 0.99974155), ('fantastic', 0.999739), ('soulas', 0.99973774), ('safe', 0.99973154), ('friendly', 0.9997267), ('station', 0.9997221), ('thanks', 0.9997195), ('walk', 0.9997184), ('gave', 0.9997061), ('recommend', 0.99969536), ('feel', 0.9996893), ('definitely', 0.9996612), ('highly', 0.99963766), ('walking', 0.9994958), ('distance', 0.99923575)]\n",
            "pygmalion [('pygmalion', 0.9999999), ('us', 0.99986356), ('also', 0.9998632), ('well', 0.99986106), ('fotis', 0.99985564), ('nice', 0.999855), ('even', 0.9998524), ('coffee', 0.9998523), ('host', 0.9998507), ('one', 0.99984676), ('apartment', 0.9998434), ('experience', 0.9998428), ('helpful', 0.9998414), ('athens', 0.9998408), ('day', 0.99984014), ('area', 0.9998397), ('could', 0.9998393), ('best', 0.99983543), ('city', 0.9998348), ('get', 0.99983203), ('great', 0.999832), ('night', 0.9998319), ('really', 0.99982697), ('soula', 0.9998267), ('quiet', 0.9998264), ('easy', 0.9998257), ('flat', 0.9998255), ('go', 0.99982506), ('george', 0.99982244), ('friendly', 0.9998218), ('much', 0.9998217), ('time', 0.99982166), ('good', 0.99981946), ('two', 0.9998174), ('balcony', 0.9998163), ('stayed', 0.99981487), ('room', 0.9998144), ('street', 0.99981296), ('first', 0.99981225), ('excellent', 0.999812), ('5', 0.9998102), ('away', 0.99980956), ('neighborhood', 0.999809), ('place', 0.99980855), ('comfortable', 0.99980843), ('space', 0.99980724), ('like', 0.99980587), ('kitchen', 0.9998049), ('around', 0.9998025), ('beautiful', 0.9998017), ('lovely', 0.99980134), ('acropolis', 0.9998009), ('need', 0.9998007), ('everything', 0.99980015), ('met', 0.99980015), ('house', 0.9997974), ('location', 0.9997964), ('stay', 0.9997908), ('view', 0.9997899), ('perfect', 0.9997877), ('many', 0.99978703), ('made', 0.9997854), ('haris', 0.999784), ('wonderful', 0.99978244), ('close', 0.9997817), ('needed', 0.9997782), ('enjoyed', 0.9997757), ('back', 0.9997746), ('metro', 0.9997716), ('visit', 0.99976605), ('located', 0.9997633), ('station', 0.9997631), ('always', 0.99976134), ('minutes', 0.99975944), ('spacious', 0.9997578), ('home', 0.99975723), ('convenient', 0.9997572), ('clean', 0.99975675), ('thank', 0.99975514), ('restaurants', 0.9997544), ('terrace', 0.9997523), ('would', 0.99974877), ('safe', 0.99974495), ('felt', 0.99974173), ('feel', 0.9997417), ('walk', 0.9997415), ('gave', 0.9997371), ('equipped', 0.99972963), ('central', 0.9997289), ('staying', 0.9997197), ('amazing', 0.9997093), ('rooftop', 0.9997073), ('thanks', 0.99970424), ('fantastic', 0.999703), ('recommend', 0.9996906), ('soulas', 0.9996751), ('definitely', 0.9996223), ('highly', 0.9995856), ('walking', 0.9995058), ('distance', 0.9992917)]\n",
            "soula [('soula', 1.0), ('also', 0.9998855), ('nice', 0.9998816), ('street', 0.99988055), ('even', 0.99987864), ('time', 0.9998776), ('apartment', 0.99987745), ('great', 0.99987644), ('day', 0.9998758), ('get', 0.9998707), ('helpful', 0.99987066), ('well', 0.9998705), ('neighborhood', 0.9998698), ('fotis', 0.99986696), ('area', 0.99986684), ('athens', 0.99986553), ('one', 0.9998654), ('coffee', 0.99986494), ('host', 0.9998625), ('go', 0.9998608), ('us', 0.9998601), ('really', 0.99985886), ('night', 0.99985856), ('flat', 0.9998579), ('easy', 0.9998574), ('stayed', 0.99985707), ('best', 0.99985677), ('city', 0.9998541), ('place', 0.9998524), ('kitchen', 0.9998514), ('excellent', 0.9998488), ('like', 0.99984795), ('could', 0.99984694), ('everything', 0.99984604), ('back', 0.99984515), ('around', 0.9998412), ('need', 0.9998411), ('george', 0.9998405), ('good', 0.99984026), ('much', 0.99983925), ('stay', 0.99983895), ('balcony', 0.99983877), ('always', 0.99983865), ('haris', 0.99983656), ('lovely', 0.999836), ('comfortable', 0.9998357), ('perfect', 0.9998351), ('many', 0.9998351), ('quiet', 0.9998339), ('made', 0.99983215), ('experience', 0.9998315), ('pygmalion', 0.9998267), ('room', 0.9998253), ('first', 0.99982274), ('two', 0.9998227), ('needed', 0.999821), ('house', 0.9998202), ('close', 0.9998192), ('away', 0.9998183), ('space', 0.9998179), ('home', 0.99981433), ('beautiful', 0.9998121), ('enjoyed', 0.9998117), ('location', 0.99981064), ('wonderful', 0.9998092), ('located', 0.99980813), ('met', 0.99980676), ('metro', 0.9998048), ('5', 0.9998045), ('view', 0.9998004), ('spacious', 0.9997998), ('acropolis', 0.9997963), ('minutes', 0.9997912), ('visit', 0.99979), ('clean', 0.9997897), ('friendly', 0.99978876), ('convenient', 0.9997827), ('restaurants', 0.9997818), ('felt', 0.9997812), ('terrace', 0.99977946), ('would', 0.9997786), ('gave', 0.9997691), ('staying', 0.99976695), ('amazing', 0.99976367), ('station', 0.99976206), ('walk', 0.99976003), ('safe', 0.99975514), ('feel', 0.9997543), ('thank', 0.9997493), ('rooftop', 0.99974644), ('equipped', 0.9997457), ('central', 0.9997413), ('recommend', 0.9997314), ('fantastic', 0.9997313), ('soulas', 0.9997304), ('thanks', 0.9996961), ('definitely', 0.9996194), ('highly', 0.99958366), ('walking', 0.99953294), ('distance', 0.999312)]\n",
            "wonderful [('wonderful', 1.0000001), ('great', 0.999871), ('one', 0.99986154), ('also', 0.9998573), ('best', 0.9998563), ('apartment', 0.99985266), ('nice', 0.9998522), ('really', 0.9998518), ('place', 0.99984866), ('athens', 0.99984556), ('even', 0.9998419), ('fotis', 0.99984014), ('lovely', 0.9998395), ('flat', 0.9998383), ('helpful', 0.99983585), ('well', 0.9998355), ('day', 0.99983233), ('area', 0.99982893), ('time', 0.99982756), ('go', 0.99982756), ('experience', 0.99982697), ('night', 0.99982685), ('quiet', 0.9998265), ('street', 0.99982584), ('host', 0.99982464), ('stay', 0.9998245), ('two', 0.9998212), ('neighborhood', 0.99982095), ('good', 0.9998207), ('like', 0.9998207), ('get', 0.9998182), ('around', 0.99981785), ('space', 0.9998173), ('kitchen', 0.9998164), ('could', 0.9998157), ('much', 0.9998156), ('balcony', 0.9998135), ('many', 0.99981195), ('comfortable', 0.99981153), ('city', 0.9998115), ('beautiful', 0.99981093), ('location', 0.99981016), ('us', 0.99981004), ('soula', 0.9998092), ('coffee', 0.9998091), ('excellent', 0.9998065), ('george', 0.99980545), ('back', 0.99980396), ('visit', 0.99980336), ('close', 0.9998028), ('room', 0.999801), ('perfect', 0.9998004), ('stayed', 0.9998001), ('5', 0.99979824), ('need', 0.99979734), ('easy', 0.99979585), ('away', 0.99979293), ('everything', 0.99978995), ('acropolis', 0.99978834), ('needed', 0.99978745), ('pygmalion', 0.99978244), ('made', 0.9997801), ('enjoyed', 0.99977934), ('clean', 0.9997756), ('view', 0.9997747), ('convenient', 0.99976975), ('haris', 0.9997692), ('restaurants', 0.9997691), ('spacious', 0.9997672), ('located', 0.99976677), ('first', 0.9997664), ('safe', 0.99976623), ('always', 0.99976456), ('house', 0.9997605), ('would', 0.9997599), ('met', 0.99975854), ('felt', 0.9997566), ('thank', 0.99975604), ('minutes', 0.9997551), ('home', 0.99975437), ('rooftop', 0.9997503), ('metro', 0.9997499), ('feel', 0.99974215), ('fantastic', 0.9997388), ('friendly', 0.999735), ('terrace', 0.9997333), ('soulas', 0.99973005), ('staying', 0.9997286), ('central', 0.99972504), ('walk', 0.9997137), ('station', 0.9997077), ('recommend', 0.99970657), ('amazing', 0.9997051), ('equipped', 0.99970347), ('gave', 0.99970007), ('definitely', 0.9996479), ('thanks', 0.99964595), ('highly', 0.9996162), ('walking', 0.9995163), ('distance', 0.99925053)]\n",
            "best [('best', 1.0000001), ('also', 0.9999077), ('good', 0.9999061), ('night', 0.99990577), ('apartment', 0.9999052), ('athens', 0.99990475), ('one', 0.9999047), ('day', 0.99990463), ('time', 0.99989504), ('city', 0.9998935), ('great', 0.9998932), ('even', 0.9998915), ('place', 0.9998891), ('flat', 0.99988836), ('nice', 0.99988747), ('coffee', 0.99988455), ('street', 0.99988425), ('us', 0.99988353), ('area', 0.99988323), ('helpful', 0.9998825), ('get', 0.9998822), ('fotis', 0.99988014), ('balcony', 0.9998794), ('much', 0.99987614), ('go', 0.99987596), ('really', 0.9998716), ('away', 0.9998715), ('lovely', 0.99987113), ('neighborhood', 0.9998709), ('beautiful', 0.99986833), ('experience', 0.9998676), ('two', 0.9998673), ('around', 0.9998671), ('like', 0.9998671), ('first', 0.9998671), ('host', 0.99986696), ('back', 0.9998659), ('many', 0.9998658), ('could', 0.9998655), ('quiet', 0.999864), ('excellent', 0.99986386), ('5', 0.9998625), ('acropolis', 0.9998604), ('stay', 0.99985975), ('stayed', 0.9998582), ('george', 0.9998572), ('well', 0.9998571), ('soula', 0.99985677), ('kitchen', 0.9998566), ('wonderful', 0.9998563), ('house', 0.9998554), ('easy', 0.9998542), ('space', 0.9998525), ('room', 0.99985224), ('perfect', 0.99985194), ('enjoyed', 0.99985105), ('made', 0.9998493), ('close', 0.9998492), ('needed', 0.999849), ('visit', 0.9998473), ('comfortable', 0.9998471), ('located', 0.999847), ('minutes', 0.99984163), ('location', 0.9998365), ('everything', 0.99983597), ('view', 0.99983585), ('pygmalion', 0.99983543), ('need', 0.999834), ('restaurants', 0.99983096), ('met', 0.99983066), ('always', 0.9998212), ('would', 0.9998204), ('metro', 0.99981946), ('clean', 0.99981683), ('haris', 0.99981445), ('felt', 0.9998131), ('rooftop', 0.9998126), ('station', 0.9998125), ('home', 0.99981236), ('walk', 0.9998113), ('safe', 0.9998092), ('terrace', 0.99980056), ('spacious', 0.9998003), ('thank', 0.9997995), ('convenient', 0.9997965), ('staying', 0.9997935), ('amazing', 0.9997878), ('friendly', 0.99978715), ('fantastic', 0.99977636), ('equipped', 0.9997761), ('central', 0.99977106), ('gave', 0.9997531), ('soulas', 0.999753), ('recommend', 0.9997445), ('thanks', 0.9997414), ('feel', 0.9997368), ('definitely', 0.999724), ('highly', 0.999645), ('walking', 0.99957764), ('distance', 0.9993072)]\n",
            "day [('day', 1.0), ('also', 0.99992555), ('one', 0.9999116), ('area', 0.9999109), ('apartment', 0.9999083), ('night', 0.999907), ('athens', 0.9999063), ('good', 0.99990517), ('best', 0.99990463), ('get', 0.9999035), ('balcony', 0.99990124), ('even', 0.99990106), ('time', 0.9999008), ('coffee', 0.9998998), ('nice', 0.999899), ('street', 0.999897), ('flat', 0.99989134), ('really', 0.9998908), ('well', 0.99989027), ('great', 0.9998878), ('kitchen', 0.99988663), ('fotis', 0.9998854), ('easy', 0.9998849), ('away', 0.9998835), ('city', 0.9998825), ('much', 0.99988234), ('neighborhood', 0.9998823), ('us', 0.9998818), ('quiet', 0.9998772), ('comfortable', 0.999877), ('soula', 0.9998758), ('stayed', 0.9998757), ('could', 0.9998756), ('helpful', 0.9998744), ('go', 0.9998738), ('like', 0.99987346), ('stay', 0.9998713), ('place', 0.9998705), ('host', 0.99986935), ('experience', 0.99986917), ('around', 0.999869), ('back', 0.99986684), ('george', 0.9998667), ('lovely', 0.99986523), ('needed', 0.9998648), ('excellent', 0.9998645), ('everything', 0.99986434), ('perfect', 0.99986404), ('close', 0.9998626), ('room', 0.9998626), ('space', 0.99986243), ('two', 0.9998606), ('made', 0.99985987), ('house', 0.9998586), ('many', 0.9998557), ('acropolis', 0.9998555), ('first', 0.9998528), ('5', 0.9998505), ('need', 0.9998492), ('metro', 0.99984837), ('beautiful', 0.9998475), ('location', 0.99984664), ('always', 0.9998458), ('enjoyed', 0.99984384), ('clean', 0.99984115), ('pygmalion', 0.99984014), ('met', 0.99983984), ('haris', 0.9998395), ('located', 0.9998378), ('home', 0.9998359), ('wonderful', 0.99983233), ('visit', 0.99983186), ('restaurants', 0.9998305), ('minutes', 0.9998266), ('convenient', 0.99982345), ('view', 0.99982125), ('friendly', 0.9998201), ('felt', 0.9998122), ('staying', 0.99980956), ('would', 0.99980336), ('station', 0.9998023), ('spacious', 0.99980116), ('walk', 0.9997996), ('safe', 0.9997994), ('terrace', 0.99979746), ('central', 0.99979687), ('feel', 0.99979025), ('equipped', 0.9997814), ('amazing', 0.9997796), ('thank', 0.99977946), ('rooftop', 0.9997738), ('thanks', 0.99976104), ('soulas', 0.9997599), ('gave', 0.9997599), ('fantastic', 0.99974066), ('recommend', 0.99973464), ('definitely', 0.9996824), ('highly', 0.9996314), ('walking', 0.9995866), ('distance', 0.9993577)]\n",
            "minutes [('minutes', 1.0000002), ('away', 0.9998822), ('acropolis', 0.99986327), ('metro', 0.999854), ('also', 0.9998525), ('walk', 0.99984974), ('5', 0.99984944), ('good', 0.9998465), ('city', 0.99984497), ('street', 0.99984205), ('best', 0.99984163), ('restaurants', 0.9998398), ('close', 0.9998359), ('neighborhood', 0.99983543), ('even', 0.9998297), ('station', 0.9998273), ('night', 0.9998269), ('area', 0.99982667), ('day', 0.9998266), ('athens', 0.999826), ('get', 0.99982363), ('one', 0.9998232), ('many', 0.9998216), ('coffee', 0.9998194), ('balcony', 0.99981546), ('could', 0.9998151), ('easy', 0.99981374), ('great', 0.99981254), ('fotis', 0.99980974), ('apartment', 0.9998083), ('nice', 0.9998067), ('around', 0.9998059), ('house', 0.9998054), ('quiet', 0.99980503), ('two', 0.99980265), ('excellent', 0.9997999), ('well', 0.99979985), ('flat', 0.9997986), ('convenient', 0.99979675), ('located', 0.99979603), ('go', 0.9997931), ('soula', 0.9997912), ('really', 0.9997908), ('kitchen', 0.99978507), ('lovely', 0.9997823), ('much', 0.9997822), ('time', 0.9997803), ('us', 0.99978), ('george', 0.9997796), ('enjoyed', 0.9997792), ('view', 0.99977785), ('place', 0.9997746), ('needed', 0.9997722), ('stayed', 0.99977136), ('space', 0.9997713), ('host', 0.9997706), ('helpful', 0.9997672), ('everything', 0.999767), ('location', 0.9997664), ('back', 0.99976563), ('like', 0.99976546), ('perfect', 0.9997641), ('need', 0.9997627), ('pygmalion', 0.99975944), ('room', 0.99975693), ('experience', 0.99975663), ('first', 0.9997564), ('made', 0.99975634), ('wonderful', 0.9997551), ('met', 0.9997512), ('stay', 0.99974996), ('home', 0.99974936), ('beautiful', 0.99974155), ('visit', 0.9997402), ('comfortable', 0.9997365), ('terrace', 0.9997342), ('felt', 0.9997324), ('always', 0.99973214), ('clean', 0.99973124), ('safe', 0.99972874), ('central', 0.9997266), ('haris', 0.99972105), ('rooftop', 0.99971575), ('amazing', 0.9997083), ('fantastic', 0.99969757), ('friendly', 0.9996929), ('would', 0.9996891), ('staying', 0.99968576), ('spacious', 0.9996796), ('equipped', 0.9996795), ('thank', 0.9996722), ('gave', 0.99966186), ('walking', 0.99965495), ('feel', 0.99963903), ('soulas', 0.9996342), ('thanks', 0.99961007), ('recommend', 0.9996076), ('definitely', 0.9995927), ('highly', 0.99955326), ('distance', 0.9994414)]\n",
            "back [('back', 1.0), ('athens', 0.9998748), ('time', 0.99986804), ('day', 0.99986684), ('best', 0.9998659), ('coffee', 0.9998607), ('night', 0.9998599), ('street', 0.9998589), ('really', 0.9998573), ('city', 0.9998571), ('go', 0.9998567), ('us', 0.99985576), ('also', 0.99985564), ('nice', 0.9998546), ('get', 0.99985415), ('even', 0.99985296), ('place', 0.9998529), ('stay', 0.9998525), ('good', 0.9998516), ('easy', 0.9998516), ('apartment', 0.9998498), ('great', 0.9998498), ('one', 0.9998483), ('soula', 0.99984515), ('helpful', 0.9998427), ('area', 0.9998407), ('fotis', 0.99983877), ('stayed', 0.9998386), ('neighborhood', 0.9998382), ('george', 0.9998379), ('could', 0.9998379), ('comfortable', 0.9998374), ('flat', 0.999835), ('much', 0.9998336), ('excellent', 0.99983335), ('like', 0.99983263), ('first', 0.99982744), ('kitchen', 0.99982727), ('everything', 0.99982524), ('host', 0.99982446), ('would', 0.99982417), ('needed', 0.9998236), ('house', 0.9998235), ('made', 0.99982226), ('around', 0.9998219), ('experience', 0.99982065), ('visit', 0.9998183), ('balcony', 0.99981815), ('well', 0.9998179), ('perfect', 0.9998156), ('quiet', 0.99981457), ('need', 0.9998145), ('lovely', 0.99981445), ('two', 0.99981374), ('haris', 0.9998106), ('away', 0.9998072), ('wonderful', 0.99980396), ('enjoyed', 0.9998037), ('5', 0.99980336), ('clean', 0.9997994), ('located', 0.9997993), ('home', 0.9997986), ('room', 0.99979854), ('close', 0.99979806), ('beautiful', 0.9997973), ('space', 0.9997971), ('acropolis', 0.99979603), ('always', 0.9997904), ('many', 0.99979013), ('spacious', 0.99978685), ('met', 0.9997858), ('restaurants', 0.99977535), ('pygmalion', 0.9997746), ('convenient', 0.99977374), ('friendly', 0.9997736), ('thank', 0.999768), ('minutes', 0.99976563), ('staying', 0.99976397), ('view', 0.9997549), ('felt', 0.99975413), ('location', 0.99975294), ('metro', 0.9997527), ('station', 0.9997455), ('fantastic', 0.9997368), ('soulas', 0.99973637), ('gave', 0.99973214), ('terrace', 0.9997315), ('walk', 0.99973136), ('amazing', 0.99972963), ('thanks', 0.99972624), ('safe', 0.99972206), ('central', 0.9997193), ('recommend', 0.99971855), ('feel', 0.999718), ('equipped', 0.9997179), ('rooftop', 0.9997154), ('definitely', 0.999673), ('highly', 0.9996031), ('walking', 0.9995129), ('distance', 0.9992633)]\n",
            "like [('like', 1.0000001), ('one', 0.99989676), ('also', 0.9998881), ('fotis', 0.99988043), ('athens', 0.9998764), ('day', 0.99987346), ('night', 0.9998732), ('us', 0.9998725), ('apartment', 0.999872), ('even', 0.999869), ('best', 0.9998671), ('lovely', 0.99986565), ('well', 0.99986535), ('nice', 0.9998653), ('really', 0.9998635), ('get', 0.99986076), ('made', 0.9998597), ('place', 0.9998596), ('great', 0.99985766), ('home', 0.9998565), ('street', 0.9998559), ('flat', 0.99985284), ('time', 0.9998528), ('helpful', 0.99985236), ('area', 0.99985206), ('could', 0.99985194), ('kitchen', 0.99985194), ('away', 0.9998514), ('balcony', 0.9998514), ('host', 0.9998485), ('soula', 0.99984795), ('city', 0.9998479), ('coffee', 0.9998465), ('neighborhood', 0.9998462), ('good', 0.9998456), ('go', 0.9998448), ('comfortable', 0.99984324), ('house', 0.9998418), ('george', 0.99984044), ('easy', 0.9998402), ('quiet', 0.99984014), ('everything', 0.9998388), ('around', 0.9998355), ('much', 0.99983454), ('stayed', 0.9998337), ('experience', 0.9998328), ('back', 0.99983263), ('perfect', 0.9998324), ('needed', 0.9998317), ('first', 0.9998309), ('two', 0.99983), ('met', 0.9998282), ('room', 0.99982685), ('excellent', 0.9998229), ('space', 0.99982184), ('stay', 0.9998217), ('clean', 0.9998209), ('wonderful', 0.9998207), ('many', 0.9998205), ('felt', 0.9998188), ('need', 0.99981844), ('always', 0.9998146), ('5', 0.9998126), ('visit', 0.9998098), ('haris', 0.99980867), ('close', 0.9998084), ('pygmalion', 0.99980587), ('beautiful', 0.9998057), ('friendly', 0.99980366), ('location', 0.99979866), ('enjoyed', 0.99979603), ('acropolis', 0.99979335), ('staying', 0.9997901), ('located', 0.99978757), ('safe', 0.9997825), ('feel', 0.99977326), ('metro', 0.9997707), ('spacious', 0.9997698), ('restaurants', 0.9997673), ('thank', 0.99976593), ('minutes', 0.99976546), ('would', 0.9997624), ('station', 0.99975795), ('convenient', 0.99975663), ('central', 0.99975604), ('view', 0.9997558), ('equipped', 0.999749), ('soulas', 0.99974895), ('gave', 0.99974895), ('walk', 0.9997414), ('rooftop', 0.99973714), ('fantastic', 0.9997345), ('terrace', 0.9997329), ('thanks', 0.9996967), ('amazing', 0.9996965), ('recommend', 0.9996778), ('highly', 0.99962765), ('definitely', 0.99961764), ('walking', 0.9995227), ('distance', 0.99931526)]\n",
            "neighborhood [('neighborhood', 0.9999998), ('also', 0.99990845), ('area', 0.99990416), ('street', 0.99990076), ('good', 0.9999006), ('athens', 0.9998977), ('coffee', 0.99988705), ('many', 0.99988693), ('close', 0.99988675), ('even', 0.9998853), ('apartment', 0.9998839), ('fotis', 0.9998829), ('day', 0.9998823), ('night', 0.999879), ('get', 0.9998759), ('one', 0.99987483), ('great', 0.99987453), ('well', 0.99987453), ('easy', 0.9998734), ('could', 0.99987257), ('nice', 0.9998722), ('best', 0.9998709), ('quiet', 0.99987066), ('go', 0.9998704), ('soula', 0.9998698), ('time', 0.99986947), ('much', 0.99986947), ('flat', 0.999868), ('city', 0.9998679), ('away', 0.99986583), ('really', 0.9998619), ('stayed', 0.9998617), ('lovely', 0.99986124), ('balcony', 0.9998609), ('around', 0.99985784), ('restaurants', 0.9998566), ('everything', 0.99985564), ('metro', 0.9998546), ('house', 0.99985325), ('us', 0.99985206), ('kitchen', 0.9998518), ('space', 0.9998508), ('like', 0.9998462), ('two', 0.9998444), ('location', 0.9998438), ('acropolis', 0.99984294), ('room', 0.99984175), ('5', 0.99984145), ('made', 0.9998414), ('place', 0.9998413), ('host', 0.9998407), ('comfortable', 0.9998406), ('perfect', 0.9998399), ('clean', 0.99983954), ('helpful', 0.99983925), ('stay', 0.9998388), ('back', 0.9998382), ('excellent', 0.99983793), ('experience', 0.99983734), ('minutes', 0.99983543), ('enjoyed', 0.9998353), ('george', 0.9998313), ('needed', 0.99983114), ('convenient', 0.9998292), ('need', 0.999829), ('beautiful', 0.999825), ('located', 0.999824), ('walk', 0.999821), ('wonderful', 0.99982095), ('home', 0.9998157), ('station', 0.99981165), ('haris', 0.99981016), ('pygmalion', 0.999809), ('felt', 0.9998084), ('visit', 0.9998079), ('first', 0.9997998), ('always', 0.9997987), ('safe', 0.9997978), ('terrace', 0.9997946), ('met', 0.99979264), ('view', 0.9997902), ('central', 0.9997902), ('equipped', 0.9997858), ('spacious', 0.99978435), ('friendly', 0.9997817), ('would', 0.9997802), ('rooftop', 0.9997664), ('amazing', 0.9997652), ('staying', 0.9997484), ('feel', 0.9997449), ('soulas', 0.9997348), ('thank', 0.9997347), ('fantastic', 0.99973303), ('thanks', 0.9997277), ('gave', 0.9997233), ('recommend', 0.9996835), ('walking', 0.99963754), ('definitely', 0.99963397), ('highly', 0.99959695), ('distance', 0.9994141)]\n",
            "soulas [('soulas', 1.0000001), ('athens', 0.99979603), ('place', 0.99979585), ('apartment', 0.9997868), ('great', 0.9997792), ('flat', 0.99977285), ('stay', 0.999772), ('staying', 0.9997678), ('comfortable', 0.99976313), ('nice', 0.99976265), ('time', 0.9997615), ('lovely', 0.9997599), ('day', 0.9997599), ('really', 0.9997557), ('best', 0.999753), ('night', 0.9997521), ('even', 0.9997516), ('host', 0.9997505), ('well', 0.9997493), ('like', 0.99974895), ('much', 0.99974805), ('good', 0.9997455), ('perfect', 0.99974495), ('one', 0.99974465), ('everything', 0.99974304), ('would', 0.99974126), ('experience', 0.99974114), ('beautiful', 0.99973774), ('back', 0.99973637), ('coffee', 0.9997362), ('neighborhood', 0.9997348), ('fotis', 0.99973476), ('us', 0.9997338), ('area', 0.9997336), ('go', 0.99973196), ('soula', 0.9997304), ('george', 0.99973017), ('wonderful', 0.99973005), ('space', 0.9997298), ('two', 0.99972945), ('street', 0.9997293), ('also', 0.9997282), ('haris', 0.9997281), ('get', 0.999727), ('visit', 0.999726), ('located', 0.9997251), ('kitchen', 0.999725), ('helpful', 0.9997201), ('stayed', 0.99972), ('needed', 0.9997197), ('home', 0.999719), ('balcony', 0.9997184), ('felt', 0.9997174), ('enjoyed', 0.99971694), ('could', 0.9997156), ('first', 0.9997123), ('made', 0.9997098), ('excellent', 0.999707), ('clean', 0.9997055), ('need', 0.99969935), ('many', 0.9996988), ('close', 0.99969876), ('location', 0.9996967), ('house', 0.99969596), ('quiet', 0.99969554), ('recommend', 0.99969536), ('easy', 0.9996947), ('spacious', 0.99968654), ('met', 0.9996853), ('city', 0.9996842), ('room', 0.9996789), ('away', 0.9996779), ('view', 0.9996765), ('pygmalion', 0.9996751), ('thank', 0.99967426), ('around', 0.9996724), ('always', 0.99967206), ('5', 0.9996698), ('acropolis', 0.9996696), ('terrace', 0.99966466), ('amazing', 0.9996631), ('metro', 0.9996605), ('restaurants', 0.99965894), ('safe', 0.99965847), ('convenient', 0.99965817), ('equipped', 0.99963725), ('friendly', 0.999637), ('minutes', 0.9996342), ('fantastic', 0.9996304), ('feel', 0.9996209), ('thanks', 0.99961174), ('walk', 0.9996105), ('central', 0.9996022), ('definitely', 0.9996016), ('gave', 0.9996003), ('rooftop', 0.9995987), ('station', 0.9995743), ('highly', 0.9995484), ('walking', 0.9993852), ('distance', 0.9990708)]\n",
            "stayed [('stayed', 1.0000001), ('one', 0.9998815), ('apartment', 0.99987596), ('day', 0.9998757), ('street', 0.9998709), ('also', 0.9998708), ('us', 0.9998697), ('much', 0.99986905), ('nice', 0.9998677), ('time', 0.99986655), ('coffee', 0.99986356), ('get', 0.9998635), ('quiet', 0.99986243), ('neighborhood', 0.9998617), ('well', 0.99986124), ('best', 0.9998582), ('helpful', 0.9998576), ('fotis', 0.9998575), ('soula', 0.99985707), ('night', 0.9998568), ('area', 0.99985653), ('excellent', 0.9998565), ('really', 0.99985534), ('athens', 0.999852), ('comfortable', 0.9998519), ('could', 0.9998517), ('good', 0.99985015), ('george', 0.9998496), ('even', 0.9998475), ('everything', 0.99984735), ('city', 0.99984723), ('go', 0.99984723), ('place', 0.99984556), ('great', 0.99984354), ('room', 0.99984336), ('balcony', 0.9998431), ('experience', 0.99984205), ('perfect', 0.99984175), ('flat', 0.9998406), ('stay', 0.99983954), ('kitchen', 0.999839), ('need', 0.99983865), ('back', 0.9998386), ('host', 0.99983746), ('beautiful', 0.99983513), ('like', 0.9998337), ('made', 0.9998321), ('first', 0.99982834), ('enjoyed', 0.9998278), ('lovely', 0.99982756), ('haris', 0.9998268), ('around', 0.9998258), ('needed', 0.9998244), ('space', 0.9998243), ('always', 0.99982417), ('two', 0.9998238), ('easy', 0.9998217), ('met', 0.9998155), ('pygmalion', 0.99981487), ('many', 0.99981487), ('clean', 0.9998147), ('visit', 0.99981433), ('house', 0.99981374), ('friendly', 0.9998131), ('away', 0.9998091), ('close', 0.9998065), ('would', 0.9998041), ('5', 0.9998036), ('located', 0.9998035), ('wonderful', 0.9998001), ('felt', 0.99979424), ('thank', 0.9997894), ('home', 0.9997892), ('acropolis', 0.9997865), ('location', 0.99978226), ('view', 0.99977714), ('equipped', 0.9997752), ('spacious', 0.9997729), ('restaurants', 0.9997718), ('minutes', 0.99977136), ('convenient', 0.9997705), ('metro', 0.99977034), ('safe', 0.99976534), ('thanks', 0.99975485), ('terrace', 0.9997543), ('station', 0.99974203), ('gave', 0.9997407), ('central', 0.9997385), ('amazing', 0.99973667), ('rooftop', 0.9997352), ('feel', 0.9997342), ('walk', 0.9997336), ('staying', 0.99972266), ('soulas', 0.99972), ('recommend', 0.99971604), ('fantastic', 0.9996953), ('definitely', 0.99967647), ('highly', 0.9996308), ('walking', 0.9995119), ('distance', 0.9992336)]\n",
            "night [('night', 1.0000001), ('one', 0.9999126), ('also', 0.99991226), ('day', 0.999907), ('best', 0.99990577), ('even', 0.99990517), ('street', 0.9998989), ('coffee', 0.999896), ('apartment', 0.9998957), ('athens', 0.99989253), ('get', 0.99989235), ('time', 0.9998923), ('go', 0.9998909), ('nice', 0.999889), ('balcony', 0.999887), ('area', 0.99988693), ('away', 0.999886), ('flat', 0.9998854), ('good', 0.9998836), ('fotis', 0.99988216), ('could', 0.999882), ('us', 0.99988174), ('easy', 0.9998804), ('neighborhood', 0.999879), ('kitchen', 0.9998769), ('great', 0.9998745), ('place', 0.99987394), ('well', 0.99987376), ('like', 0.9998732), ('quiet', 0.9998724), ('first', 0.9998721), ('city', 0.99987096), ('5', 0.9998701), ('two', 0.9998675), ('space', 0.99986637), ('many', 0.99986345), ('really', 0.9998626), ('much', 0.99986255), ('around', 0.9998604), ('back', 0.9998599), ('acropolis', 0.99985987), ('experience', 0.99985904), ('soula', 0.99985856), ('excellent', 0.9998582), ('george', 0.9998569), ('stayed', 0.9998568), ('room', 0.9998555), ('helpful', 0.9998543), ('visit', 0.9998532), ('perfect', 0.9998522), ('close', 0.9998509), ('lovely', 0.99985087), ('host', 0.99984986), ('needed', 0.9998492), ('house', 0.9998476), ('beautiful', 0.9998443), ('stay', 0.99984413), ('everything', 0.99984235), ('comfortable', 0.99984115), ('haris', 0.9998401), ('need', 0.9998372), ('home', 0.9998358), ('made', 0.9998357), ('restaurants', 0.99983555), ('pygmalion', 0.9998319), ('clean', 0.9998302), ('met', 0.99982804), ('minutes', 0.9998269), ('wonderful', 0.99982685), ('metro', 0.9998266), ('location', 0.99982613), ('located', 0.9998236), ('view', 0.9998199), ('enjoyed', 0.9998165), ('always', 0.99981034), ('walk', 0.99980754), ('station', 0.9998059), ('convenient', 0.99980074), ('terrace', 0.99979895), ('friendly', 0.9997974), ('felt', 0.99979496), ('spacious', 0.9997942), ('rooftop', 0.9997938), ('safe', 0.9997878), ('would', 0.99978584), ('equipped', 0.9997846), ('staying', 0.99978435), ('thank', 0.9997634), ('central', 0.99975985), ('amazing', 0.9997588), ('gave', 0.9997576), ('soulas', 0.9997521), ('feel', 0.99974597), ('thanks', 0.99973977), ('fantastic', 0.9997333), ('recommend', 0.9996861), ('definitely', 0.99964947), ('highly', 0.99962896), ('walking', 0.9995712), ('distance', 0.9993226)]\n",
            "station [('station', 1.0000001), ('away', 0.9998486), ('metro', 0.9998457), ('also', 0.99984044), ('acropolis', 0.9998299), ('5', 0.9998287), ('area', 0.99982744), ('minutes', 0.9998273), ('city', 0.9998252), ('close', 0.9998239), ('even', 0.99982154), ('walk', 0.9998187), ('best', 0.9998125), ('neighborhood', 0.99981165), ('get', 0.99981), ('street', 0.9998095), ('one', 0.9998079), ('night', 0.9998059), ('good', 0.9998054), ('easy', 0.99980354), ('day', 0.9998023), ('many', 0.9998003), ('fotis', 0.999799), ('located', 0.99979806), ('could', 0.99979496), ('coffee', 0.9997921), ('restaurants', 0.99979), ('balcony', 0.99978995), ('house', 0.9997891), ('athens', 0.99978584), ('quiet', 0.99978435), ('well', 0.9997812), ('nice', 0.99978095), ('apartment', 0.9997776), ('great', 0.9997752), ('excellent', 0.999775), ('around', 0.999771), ('convenient', 0.99977046), ('time', 0.9997696), ('space', 0.99976695), ('flat', 0.99976623), ('two', 0.9997635), ('pygmalion', 0.9997631), ('soula', 0.99976206), ('us', 0.9997609), ('like', 0.99975795), ('perfect', 0.9997574), ('go', 0.99975705), ('much', 0.9997563), ('kitchen', 0.999756), ('place', 0.99975556), ('lovely', 0.9997553), ('room', 0.9997526), ('location', 0.99975145), ('everything', 0.9997496), ('helpful', 0.9997472), ('needed', 0.99974656), ('back', 0.9997455), ('really', 0.999745), ('made', 0.9997446), ('stayed', 0.99974203), ('host', 0.9997388), ('central', 0.99973565), ('need', 0.9997344), ('clean', 0.9997336), ('enjoyed', 0.99973327), ('george', 0.9997322), ('always', 0.9997248), ('beautiful', 0.9997221), ('stay', 0.9997216), ('experience', 0.99971986), ('view', 0.9997191), ('terrace', 0.99971783), ('comfortable', 0.99971527), ('first', 0.9997133), ('friendly', 0.99971306), ('wonderful', 0.9997077), ('met', 0.99970657), ('visit', 0.9997011), ('amazing', 0.99969715), ('haris', 0.99969697), ('safe', 0.9996933), ('spacious', 0.9996838), ('home', 0.99968296), ('felt', 0.99968183), ('rooftop', 0.9996707), ('would', 0.9996623), ('feel', 0.9996471), ('equipped', 0.99964523), ('thank', 0.999633), ('fantastic', 0.99963236), ('gave', 0.9996319), ('staying', 0.9996273), ('thanks', 0.9996228), ('walking', 0.9995956), ('soulas', 0.9995743), ('recommend', 0.9995702), ('definitely', 0.99952364), ('highly', 0.9995208), ('distance', 0.999432)]\n",
            "experience [('experience', 0.9999995), ('one', 0.9998822), ('fotis', 0.9998799), ('athens', 0.9998746), ('apartment', 0.9998738), ('also', 0.99987257), ('day', 0.99986917), ('best', 0.9998676), ('balcony', 0.9998615), ('area', 0.9998603), ('place', 0.99986005), ('even', 0.99985987), ('nice', 0.9998594), ('host', 0.99985933), ('get', 0.99985933), ('night', 0.99985904), ('really', 0.9998568), ('could', 0.99985653), ('flat', 0.99985635), ('much', 0.99985635), ('great', 0.9998561), ('coffee', 0.9998549), ('time', 0.99985397), ('go', 0.9998539), ('us', 0.99985385), ('stay', 0.9998505), ('good', 0.9998488), ('city', 0.99984777), ('street', 0.9998453), ('george', 0.9998436), ('well', 0.999843), ('pygmalion', 0.9998428), ('stayed', 0.99984205), ('helpful', 0.99983984), ('lovely', 0.99983793), ('neighborhood', 0.99983734), ('like', 0.9998328), ('space', 0.9998328), ('soula', 0.9998315), ('two', 0.9998312), ('first', 0.999831), ('quiet', 0.9998307), ('made', 0.99983066), ('comfortable', 0.9998304), ('everything', 0.99982834), ('easy', 0.99982786), ('wonderful', 0.99982697), ('beautiful', 0.99982685), ('around', 0.9998268), ('location', 0.9998261), ('kitchen', 0.9998237), ('needed', 0.9998233), ('need', 0.99982256), ('house', 0.9998223), ('back', 0.99982065), ('perfect', 0.9998195), ('many', 0.99981767), ('excellent', 0.99981755), ('visit', 0.9998126), ('room', 0.9998114), ('enjoyed', 0.9998068), ('away', 0.9998066), ('5', 0.99980617), ('haris', 0.9998044), ('felt', 0.99980414), ('would', 0.99980253), ('met', 0.99980205), ('close', 0.9997988), ('clean', 0.99979585), ('restaurants', 0.99979573), ('acropolis', 0.9997947), ('view', 0.9997917), ('staying', 0.9997902), ('thank', 0.99978423), ('friendly', 0.9997838), ('metro', 0.999781), ('safe', 0.9997808), ('home', 0.999778), ('feel', 0.9997698), ('located', 0.99976796), ('always', 0.99976736), ('convenient', 0.99976647), ('walk', 0.9997579), ('spacious', 0.9997576), ('gave', 0.99975735), ('minutes', 0.99975663), ('central', 0.9997548), ('recommend', 0.9997505), ('terrace', 0.9997487), ('rooftop', 0.9997414), ('soulas', 0.99974114), ('station', 0.99971986), ('thanks', 0.99971795), ('amazing', 0.9997012), ('fantastic', 0.9996974), ('equipped', 0.99969715), ('definitely', 0.9996658), ('highly', 0.99960566), ('walking', 0.9995213), ('distance', 0.99927783)]\n",
            "made [('made', 0.99999994), ('also', 0.9998773), ('helpful', 0.9998696), ('apartment', 0.9998612), ('even', 0.9998601), ('day', 0.99985987), ('like', 0.9998597), ('host', 0.99985707), ('get', 0.99985665), ('us', 0.9998529), ('athens', 0.99984974), ('best', 0.9998493), ('time', 0.99984604), ('one', 0.99984574), ('everything', 0.99984545), ('coffee', 0.9998451), ('great', 0.99984473), ('house', 0.99984235), ('fotis', 0.9998419), ('nice', 0.9998414), ('neighborhood', 0.9998414), ('good', 0.99983746), ('area', 0.99983746), ('home', 0.9998372), ('go', 0.9998367), ('place', 0.99983656), ('city', 0.99983627), ('night', 0.9998357), ('street', 0.99983543), ('around', 0.9998354), ('much', 0.99983406), ('really', 0.99983376), ('needed', 0.9998336), ('well', 0.99983233), ('soula', 0.99983215), ('stayed', 0.9998321), ('experience', 0.99983066), ('could', 0.99983), ('kitchen', 0.9998275), ('george', 0.9998247), ('easy', 0.999823), ('quiet', 0.9998229), ('flat', 0.9998226), ('back', 0.99982226), ('first', 0.9998219), ('lovely', 0.9998213), ('room', 0.99981713), ('stay', 0.9998164), ('comfortable', 0.9998153), ('away', 0.99981445), ('perfect', 0.9998143), ('close', 0.9998134), ('balcony', 0.99981165), ('many', 0.99980867), ('two', 0.99980754), ('excellent', 0.9998075), ('5', 0.9998054), ('need', 0.9998036), ('haris', 0.9998024), ('met', 0.99980193), ('always', 0.999794), ('beautiful', 0.9997925), ('enjoyed', 0.9997923), ('felt', 0.9997872), ('pygmalion', 0.9997854), ('location', 0.9997848), ('space', 0.99978054), ('wonderful', 0.9997801), ('view', 0.99978), ('friendly', 0.99977964), ('visit', 0.9997779), ('clean', 0.9997769), ('gave', 0.9997755), ('metro', 0.99977356), ('acropolis', 0.9997726), ('feel', 0.9997723), ('would', 0.9997678), ('staying', 0.9997601), ('minutes', 0.99975634), ('walk', 0.9997522), ('located', 0.9997519), ('thanks', 0.9997517), ('rooftop', 0.99975073), ('restaurants', 0.99974716), ('thank', 0.99974513), ('station', 0.9997446), ('convenient', 0.99973655), ('safe', 0.99973285), ('terrace', 0.99971896), ('spacious', 0.9997185), ('equipped', 0.9997177), ('soulas', 0.9997098), ('central', 0.9997098), ('recommend', 0.9997004), ('fantastic', 0.9996884), ('amazing', 0.999683), ('definitely', 0.999663), ('highly', 0.99960047), ('walking', 0.99954236), ('distance', 0.9992345)]\n",
            "go [('go', 1.0000001), ('night', 0.9998909), ('also', 0.9998896), ('get', 0.9998869), ('even', 0.99988425), ('time', 0.9998829), ('street', 0.9998819), ('athens', 0.99987644), ('best', 0.99987596), ('day', 0.9998738), ('us', 0.9998721), ('one', 0.999872), ('coffee', 0.9998715), ('area', 0.9998713), ('neighborhood', 0.9998704), ('around', 0.99986684), ('fotis', 0.9998665), ('apartment', 0.9998662), ('well', 0.99986434), ('good', 0.9998634), ('helpful', 0.99986136), ('soula', 0.9998608), ('nice', 0.9998574), ('back', 0.9998567), ('easy', 0.9998553), ('could', 0.9998551), ('place', 0.99985427), ('george', 0.99985397), ('experience', 0.9998539), ('city', 0.99985325), ('really', 0.9998525), ('flat', 0.9998499), ('great', 0.9998495), ('stayed', 0.99984723), ('like', 0.9998448), ('host', 0.9998446), ('quiet', 0.99984425), ('first', 0.99984396), ('kitchen', 0.9998419), ('much', 0.9998405), ('stay', 0.99983865), ('everything', 0.99983776), ('made', 0.9998367), ('haris', 0.9998366), ('excellent', 0.9998363), ('lovely', 0.9998354), ('balcony', 0.99983406), ('room', 0.9998309), ('away', 0.99982935), ('space', 0.9998288), ('wonderful', 0.99982756), ('needed', 0.9998269), ('house', 0.99982536), ('pygmalion', 0.99982506), ('need', 0.99982405), ('many', 0.9998192), ('visit', 0.99981683), ('two', 0.99981576), ('home', 0.99981403), ('acropolis', 0.999813), ('5', 0.99980944), ('close', 0.9998093), ('friendly', 0.99980885), ('perfect', 0.999808), ('location', 0.9998069), ('always', 0.9998065), ('comfortable', 0.99980545), ('beautiful', 0.9998053), ('view', 0.99980253), ('met', 0.9998019), ('would', 0.9998015), ('enjoyed', 0.99979573), ('restaurants', 0.99979436), ('metro', 0.9997931), ('minutes', 0.9997931), ('clean', 0.9997884), ('thank', 0.99977803), ('convenient', 0.99977607), ('located', 0.99977577), ('walk', 0.9997752), ('spacious', 0.999775), ('felt', 0.99977326), ('gave', 0.9997672), ('central', 0.999763), ('safe', 0.9997606), ('feel', 0.9997578), ('station', 0.99975705), ('staying', 0.9997565), ('terrace', 0.99974644), ('equipped', 0.9997324), ('soulas', 0.99973196), ('recommend', 0.9997299), ('rooftop', 0.9997225), ('amazing', 0.99971735), ('fantastic', 0.9997136), ('thanks', 0.9996947), ('definitely', 0.99964935), ('highly', 0.9996148), ('walking', 0.9995528), ('distance', 0.9992628)]\n",
            "george [('george', 1.0000001), ('also', 0.9998803), ('even', 0.9998799), ('street', 0.9998759), ('apartment', 0.9998754), ('us', 0.9998751), ('nice', 0.9998747), ('one', 0.99987286), ('get', 0.99987024), ('really', 0.99987006), ('around', 0.9998687), ('day', 0.9998667), ('city', 0.9998665), ('helpful', 0.9998633), ('athens', 0.99986273), ('fotis', 0.9998613), ('well', 0.99985766), ('best', 0.9998572), ('night', 0.9998569), ('area', 0.99985456), ('go', 0.99985397), ('lovely', 0.9998536), ('coffee', 0.99985355), ('stayed', 0.9998496), ('much', 0.9998492), ('needed', 0.99984896), ('time', 0.99984837), ('easy', 0.99984807), ('good', 0.99984753), ('need', 0.99984753), ('great', 0.9998467), ('host', 0.9998467), ('could', 0.9998456), ('place', 0.9998436), ('experience', 0.9998436), ('excellent', 0.9998408), ('soula', 0.9998405), ('like', 0.99984044), ('back', 0.9998379), ('two', 0.99983776), ('balcony', 0.99983764), ('everything', 0.9998363), ('quiet', 0.99983627), ('stay', 0.9998332), ('flat', 0.9998322), ('neighborhood', 0.9998313), ('comfortable', 0.99983025), ('first', 0.99982935), ('many', 0.999828), ('kitchen', 0.9998264), ('made', 0.9998247), ('5', 0.9998226), ('pygmalion', 0.99982244), ('perfect', 0.9998222), ('haris', 0.99982214), ('room', 0.9998207), ('house', 0.999816), ('close', 0.9998159), ('away', 0.99981236), ('clean', 0.99981207), ('acropolis', 0.9998105), ('visit', 0.9998099), ('space', 0.99980986), ('wonderful', 0.99980545), ('view', 0.99980325), ('location', 0.999803), ('beautiful', 0.999803), ('met', 0.99980193), ('friendly', 0.9998017), ('enjoyed', 0.9998013), ('would', 0.9997999), ('always', 0.99979854), ('located', 0.9997945), ('restaurants', 0.9997932), ('convenient', 0.9997913), ('safe', 0.9997892), ('felt', 0.9997871), ('gave', 0.9997863), ('home', 0.9997848), ('minutes', 0.9997796), ('metro', 0.9997792), ('spacious', 0.999779), ('thank', 0.9997698), ('walk', 0.9997667), ('staying', 0.99975604), ('central', 0.9997547), ('rooftop', 0.99975467), ('terrace', 0.9997534), ('feel', 0.99973834), ('equipped', 0.9997345), ('station', 0.9997322), ('soulas', 0.99973017), ('amazing', 0.99973005), ('recommend', 0.99972844), ('thanks', 0.9997007), ('fantastic', 0.99969727), ('definitely', 0.99965787), ('highly', 0.9996078), ('walking', 0.99954313), ('distance', 0.99929625)]\n",
            "many [('many', 0.9999997), ('neighborhood', 0.99988693), ('restaurants', 0.9998862), ('also', 0.9998838), ('street', 0.99987936), ('athens', 0.99987733), ('good', 0.99987704), ('apartment', 0.9998746), ('area', 0.9998731), ('one', 0.999872), ('flat', 0.99987155), ('could', 0.99986714), ('best', 0.9998658), ('coffee', 0.9998649), ('even', 0.99986416), ('night', 0.99986345), ('fotis', 0.9998628), ('place', 0.9998604), ('city', 0.99986035), ('close', 0.9998583), ('get', 0.999857), ('day', 0.9998557), ('nice', 0.9998556), ('excellent', 0.9998551), ('well', 0.99985486), ('quiet', 0.99985474), ('great', 0.9998546), ('away', 0.9998539), ('lovely', 0.99985355), ('easy', 0.9998506), ('location', 0.9998489), ('kitchen', 0.9998469), ('around', 0.9998463), ('metro', 0.9998447), ('5', 0.99984235), ('much', 0.9998419), ('two', 0.9998398), ('time', 0.99983764), ('balcony', 0.9998354), ('soula', 0.9998351), ('house', 0.9998335), ('really', 0.9998321), ('located', 0.99983186), ('needed', 0.9998305), ('space', 0.9998294), ('george', 0.999828), ('stay', 0.9998275), ('comfortable', 0.9998267), ('us', 0.9998258), ('need', 0.99982536), ('everything', 0.99982417), ('enjoyed', 0.9998241), ('acropolis', 0.99982274), ('minutes', 0.9998216), ('like', 0.9998205), ('beautiful', 0.99982023), ('go', 0.9998192), ('perfect', 0.9998186), ('room', 0.9998184), ('experience', 0.99981767), ('stayed', 0.99981487), ('host', 0.9998136), ('helpful', 0.99981344), ('clean', 0.99981207), ('wonderful', 0.99981195), ('made', 0.99980867), ('safe', 0.9998051), ('view', 0.9998038), ('convenient', 0.99980366), ('station', 0.9998003), ('walk', 0.9997993), ('terrace', 0.9997954), ('back', 0.99979013), ('pygmalion', 0.99978703), ('felt', 0.99978644), ('rooftop', 0.999786), ('visit', 0.99978316), ('first', 0.9997803), ('always', 0.999777), ('home', 0.9997731), ('met', 0.99977165), ('amazing', 0.9997713), ('haris', 0.99976754), ('central', 0.9997612), ('spacious', 0.99975985), ('would', 0.9997587), ('friendly', 0.99974847), ('staying', 0.9997464), ('equipped', 0.9997441), ('thank', 0.9997228), ('feel', 0.9997148), ('fantastic', 0.99971396), ('gave', 0.9996992), ('soulas', 0.9996988), ('thanks', 0.99969083), ('recommend', 0.99966335), ('definitely', 0.99964833), ('walking', 0.9996466), ('highly', 0.9996328), ('distance', 0.9994296)]\n",
            "distance [('distance', 1.0), ('metro', 0.99951446), ('restaurants', 0.9994768), ('easy', 0.9994754), ('acropolis', 0.9994558), ('minutes', 0.9994414), ('station', 0.999432), ('many', 0.9994296), ('location', 0.9994148), ('neighborhood', 0.9994141), ('also', 0.99940795), ('away', 0.99939877), ('walk', 0.9993959), ('street', 0.99938494), ('area', 0.99938476), ('convenient', 0.999383), ('athens', 0.99937963), ('located', 0.99937826), ('safe', 0.99937695), ('city', 0.9993738), ('5', 0.9993703), ('house', 0.99936604), ('could', 0.99936503), ('close', 0.99936444), ('balcony', 0.99936086), ('around', 0.9993595), ('day', 0.9993577), ('good', 0.999357), ('even', 0.9993525), ('enjoyed', 0.99934936), ('one', 0.9993469), ('fotis', 0.99934006), ('apartment', 0.99933964), ('everything', 0.99933934), ('clean', 0.99933916), ('get', 0.99933916), ('much', 0.99933726), ('need', 0.99933535), ('coffee', 0.99933404), ('well', 0.99933374), ('quiet', 0.99933356), ('space', 0.9993249), ('night', 0.9993226), ('great', 0.99932164), ('flat', 0.9993177), ('like', 0.99931526), ('excellent', 0.99931484), ('central', 0.9993135), ('terrace', 0.9993133), ('two', 0.9993131), ('lovely', 0.9993124), ('room', 0.9993124), ('soula', 0.999312), ('best', 0.9993072), ('amazing', 0.99929976), ('george', 0.99929625), ('needed', 0.99929464), ('place', 0.9992939), ('pygmalion', 0.9992917), ('nice', 0.99929035), ('view', 0.99929005), ('always', 0.99928284), ('really', 0.99928087), ('experience', 0.99927783), ('us', 0.9992735), ('back', 0.9992633), ('go', 0.9992628), ('spacious', 0.9992618), ('home', 0.99926156), ('kitchen', 0.99925745), ('stay', 0.99925625), ('wonderful', 0.99925053), ('perfect', 0.99924916), ('comfortable', 0.99924415), ('rooftop', 0.9992382), ('walking', 0.99923795), ('time', 0.99923676), ('beautiful', 0.99923575), ('made', 0.9992345), ('stayed', 0.9992336), ('felt', 0.99923027), ('host', 0.99922657), ('friendly', 0.9992232), ('visit', 0.99919754), ('helpful', 0.99919724), ('staying', 0.999191), ('haris', 0.9991842), ('equipped', 0.9991806), ('feel', 0.9991804), ('fantastic', 0.9991711), ('first', 0.99916387), ('met', 0.99916273), ('thanks', 0.99915856), ('would', 0.9991463), ('thank', 0.99910516), ('recommend', 0.99907535), ('soulas', 0.9990708), ('definitely', 0.9990495), ('gave', 0.9990475), ('highly', 0.99897695)]\n",
            "away [('away', 0.9999999), ('also', 0.9999032), ('night', 0.999886), ('day', 0.9998835), ('minutes', 0.9998822), ('one', 0.9998781), ('even', 0.999878), ('good', 0.9998748), ('street', 0.9998741), ('close', 0.9998734), ('city', 0.9998726), ('get', 0.9998724), ('coffee', 0.9998717), ('best', 0.9998715), ('area', 0.99987113), ('acropolis', 0.99986637), ('neighborhood', 0.99986583), ('easy', 0.9998618), ('metro', 0.99986106), ('balcony', 0.9998601), ('athens', 0.9998579), ('5', 0.99985707), ('could', 0.9998554), ('apartment', 0.9998552), ('walk', 0.9998546), ('nice', 0.99985456), ('many', 0.9998539), ('fotis', 0.99985385), ('like', 0.9998514), ('quiet', 0.9998494), ('flat', 0.9998491), ('around', 0.9998486), ('station', 0.9998486), ('us', 0.99984705), ('kitchen', 0.99984634), ('much', 0.9998414), ('well', 0.9998412), ('time', 0.99983877), ('excellent', 0.99983853), ('really', 0.9998382), ('place', 0.9998379), ('restaurants', 0.99983764), ('great', 0.9998371), ('two', 0.99983287), ('room', 0.9998311), ('needed', 0.9998296), ('go', 0.99982935), ('convenient', 0.99982655), ('house', 0.9998254), ('enjoyed', 0.9998239), ('lovely', 0.99982095), ('first', 0.999819), ('soula', 0.9998183), ('location', 0.9998155), ('made', 0.99981445), ('space', 0.99981254), ('george', 0.99981236), ('located', 0.99981135), ('perfect', 0.99980956), ('pygmalion', 0.99980956), ('helpful', 0.99980944), ('stayed', 0.9998091), ('back', 0.9998072), ('experience', 0.9998066), ('met', 0.99980485), ('home', 0.99980253), ('comfortable', 0.9998025), ('host', 0.9997982), ('everything', 0.99979734), ('need', 0.9997957), ('wonderful', 0.99979293), ('felt', 0.9997929), ('clean', 0.9997891), ('terrace', 0.999789), ('haris', 0.9997885), ('stay', 0.9997868), ('beautiful', 0.99978614), ('view', 0.9997847), ('visit', 0.9997767), ('central', 0.9997672), ('always', 0.9997646), ('rooftop', 0.99975693), ('safe', 0.9997542), ('friendly', 0.9997508), ('equipped', 0.99974334), ('staying', 0.99974257), ('fantastic', 0.9997282), ('would', 0.9997276), ('amazing', 0.9997266), ('thank', 0.9997066), ('gave', 0.9997065), ('feel', 0.9997049), ('spacious', 0.99969995), ('thanks', 0.9996798), ('soulas', 0.9996779), ('walking', 0.9996541), ('recommend', 0.9996334), ('definitely', 0.99958026), ('highly', 0.9995746), ('distance', 0.99939877)]\n",
            "staying [('staying', 1.0000001), ('apartment', 0.99982536), ('place', 0.9998212), ('athens', 0.9998158), ('flat', 0.99981284), ('day', 0.99980956), ('stay', 0.9998011), ('one', 0.99979806), ('lovely', 0.99979573), ('best', 0.9997935), ('experience', 0.9997902), ('like', 0.9997901), ('would', 0.99978775), ('great', 0.99978626), ('night', 0.99978435), ('much', 0.99978364), ('nice', 0.9997824), ('really', 0.99977756), ('host', 0.9997775), ('two', 0.9997768), ('also', 0.9997753), ('space', 0.99977493), ('get', 0.9997739), ('comfortable', 0.9997735), ('time', 0.9997732), ('street', 0.99977314), ('fotis', 0.9997713), ('us', 0.9997694), ('helpful', 0.9997684), ('even', 0.99976796), ('soulas', 0.9997678), ('well', 0.99976736), ('good', 0.9997673), ('soula', 0.99976695), ('coffee', 0.9997665), ('back', 0.99976397), ('balcony', 0.99976397), ('kitchen', 0.99976295), ('location', 0.99976134), ('area', 0.9997603), ('made', 0.9997601), ('easy', 0.9997575), ('beautiful', 0.9997567), ('go', 0.9997565), ('george', 0.99975604), ('quiet', 0.9997522), ('city', 0.99975187), ('house', 0.99975), ('view', 0.99974877), ('neighborhood', 0.9997484), ('could', 0.9997476), ('many', 0.9997464), ('visit', 0.9997463), ('away', 0.99974257), ('haris', 0.9997412), ('home', 0.9997409), ('recommend', 0.99973994), ('room', 0.99973917), ('enjoyed', 0.9997374), ('perfect', 0.99973726), ('5', 0.99973565), ('needed', 0.99973536), ('first', 0.9997351), ('need', 0.99973387), ('everything', 0.99973154), ('wonderful', 0.9997286), ('met', 0.9997234), ('stayed', 0.99972266), ('restaurants', 0.99972), ('pygmalion', 0.9997197), ('excellent', 0.99971896), ('always', 0.9997184), ('acropolis', 0.9997178), ('clean', 0.9997139), ('close', 0.99971133), ('around', 0.9997112), ('spacious', 0.9997047), ('located', 0.99970216), ('terrace', 0.9996992), ('thank', 0.99969536), ('friendly', 0.99969274), ('metro', 0.9996921), ('felt', 0.9996858), ('minutes', 0.99968576), ('safe', 0.99968266), ('walk', 0.9996798), ('amazing', 0.9996775), ('definitely', 0.99967414), ('fantastic', 0.99966687), ('central', 0.9996658), ('convenient', 0.9996656), ('rooftop', 0.99966127), ('highly', 0.99964505), ('gave', 0.99964315), ('thanks', 0.99963355), ('station', 0.9996273), ('feel', 0.99961895), ('equipped', 0.99961776), ('walking', 0.99945223), ('distance', 0.999191)]\n",
            "enjoyed [('enjoyed', 0.99999994), ('apartment', 0.999867), ('also', 0.99986017), ('good', 0.9998601), ('athens', 0.9998575), ('one', 0.99985254), ('best', 0.99985105), ('time', 0.9998508), ('nice', 0.99984884), ('place', 0.9998488), ('day', 0.99984384), ('street', 0.99984366), ('balcony', 0.99984264), ('city', 0.999841), ('get', 0.99984), ('close', 0.999839), ('neighborhood', 0.9998353), ('great', 0.99983466), ('even', 0.999833), ('quiet', 0.99983233), ('area', 0.9998319), ('coffee', 0.9998289), ('stay', 0.9998284), ('stayed', 0.9998278), ('really', 0.9998273), ('well', 0.9998267), ('excellent', 0.99982655), ('comfortable', 0.99982613), ('flat', 0.9998258), ('lovely', 0.9998242), ('many', 0.9998241), ('house', 0.9998241), ('away', 0.9998239), ('need', 0.99982136), ('everything', 0.9998208), ('could', 0.99982053), ('beautiful', 0.99982023), ('fotis', 0.99981993), ('helpful', 0.9998197), ('much', 0.9998193), ('space', 0.99981827), ('night', 0.9998165), ('soula', 0.9998117), ('acropolis', 0.9998075), ('experience', 0.9998068), ('clean', 0.9998062), ('host', 0.999806), ('metro', 0.99980533), ('back', 0.9998037), ('easy', 0.99980146), ('george', 0.9998013), ('us', 0.9998012), ('located', 0.9997962), ('like', 0.99979603), ('go', 0.99979573), ('restaurants', 0.99979556), ('first', 0.99979436), ('perfect', 0.9997936), ('kitchen', 0.99979293), ('needed', 0.9997925), ('made', 0.9997923), ('room', 0.99979204), ('two', 0.9997918), ('haris', 0.99979085), ('view', 0.99978685), ('5', 0.9997845), ('location', 0.9997843), ('convenient', 0.9997815), ('around', 0.9997797), ('felt', 0.9997797), ('wonderful', 0.99977934), ('minutes', 0.9997792), ('pygmalion', 0.9997757), ('would', 0.9997729), ('visit', 0.99976945), ('always', 0.999767), ('rooftop', 0.9997666), ('met', 0.9997665), ('spacious', 0.9997656), ('walk', 0.99976534), ('equipped', 0.99976015), ('amazing', 0.99975955), ('home', 0.9997517), ('terrace', 0.9997515), ('safe', 0.9997467), ('thank', 0.9997452), ('staying', 0.9997374), ('station', 0.99973327), ('central', 0.99971807), ('soulas', 0.99971694), ('feel', 0.9997101), ('fantastic', 0.99970883), ('friendly', 0.99970645), ('thanks', 0.9997052), ('gave', 0.99968296), ('recommend', 0.9996717), ('definitely', 0.9996689), ('highly', 0.999624), ('walking', 0.9995497), ('distance', 0.99934936)]\n",
            "much [('much', 1.0000002), ('nice', 0.99988836), ('also', 0.999888), ('athens', 0.99988735), ('apartment', 0.9998873), ('area', 0.9998824), ('day', 0.99988234), ('good', 0.9998771), ('one', 0.9998765), ('fotis', 0.99987626), ('best', 0.99987614), ('time', 0.9998732), ('street', 0.9998708), ('neighborhood', 0.99986947), ('great', 0.9998694), ('flat', 0.9998694), ('stayed', 0.99986905), ('really', 0.9998687), ('even', 0.99986804), ('helpful', 0.9998672), ('coffee', 0.9998672), ('city', 0.9998655), ('easy', 0.9998653), ('balcony', 0.9998651), ('get', 0.9998629), ('night', 0.99986255), ('could', 0.9998607), ('house', 0.999858), ('place', 0.9998578), ('stay', 0.9998577), ('well', 0.9998576), ('experience', 0.99985635), ('kitchen', 0.99985474), ('quiet', 0.99985397), ('host', 0.9998533), ('us', 0.9998532), ('around', 0.999852), ('comfortable', 0.99985087), ('5', 0.9998505), ('visit', 0.9998503), ('george', 0.9998492), ('room', 0.9998485), ('perfect', 0.9998461), ('space', 0.99984515), ('two', 0.9998451), ('excellent', 0.99984217), ('many', 0.9998419), ('away', 0.9998414), ('need', 0.9998408), ('go', 0.9998405), ('close', 0.9998398), ('everything', 0.99983954), ('soula', 0.99983925), ('needed', 0.9998387), ('like', 0.99983454), ('made', 0.99983406), ('back', 0.9998336), ('lovely', 0.9998305), ('beautiful', 0.99982923), ('location', 0.99982345), ('clean', 0.9998219), ('pygmalion', 0.9998217), ('haris', 0.9998213), ('enjoyed', 0.9998193), ('metro', 0.9998175), ('first', 0.9998172), ('friendly', 0.99981695), ('located', 0.9998158), ('wonderful', 0.9998156), ('met', 0.99980855), ('felt', 0.99980754), ('acropolis', 0.999807), ('view', 0.9998005), ('restaurants', 0.999798), ('convenient', 0.9997868), ('would', 0.99978644), ('always', 0.99978596), ('home', 0.9997853), ('staying', 0.99978364), ('minutes', 0.9997822), ('equipped', 0.99978137), ('spacious', 0.9997798), ('thank', 0.99977756), ('gave', 0.99977386), ('terrace', 0.99977314), ('walk', 0.99977285), ('safe', 0.9997722), ('central', 0.9997721), ('station', 0.9997563), ('soulas', 0.99974805), ('rooftop', 0.9997427), ('feel', 0.9997416), ('recommend', 0.9997411), ('fantastic', 0.99973965), ('amazing', 0.99973744), ('thanks', 0.9997326), ('definitely', 0.99968046), ('highly', 0.99962986), ('walking', 0.99956787), ('distance', 0.99933726)]\n",
            "thank [('thank', 1.0), ('apartment', 0.9998244), ('stay', 0.99980974), ('place', 0.99980634), ('time', 0.9998036), ('athens', 0.9998021), ('best', 0.9997995), ('one', 0.9997992), ('nice', 0.9997947), ('helpful', 0.9997923), ('host', 0.9997905), ('well', 0.9997895), ('stayed', 0.9997894), ('flat', 0.999787), ('area', 0.99978656), ('also', 0.99978423), ('experience', 0.99978423), ('day', 0.99977946), ('lovely', 0.99977887), ('really', 0.9997786), ('go', 0.99977803), ('much', 0.99977756), ('us', 0.999777), ('coffee', 0.99977607), ('kitchen', 0.99977505), ('could', 0.9997731), ('street', 0.9997729), ('even', 0.9997718), ('haris', 0.9997712), ('great', 0.9997705), ('george', 0.9997698), ('needed', 0.9997685), ('perfect', 0.99976826), ('back', 0.999768), ('balcony', 0.99976784), ('like', 0.99976593), ('everything', 0.9997634), ('night', 0.9997634), ('fotis', 0.99976337), ('met', 0.9997607), ('two', 0.9997607), ('beautiful', 0.9997603), ('house', 0.99975944), ('visit', 0.99975884), ('wonderful', 0.99975604), ('city', 0.99975574), ('pygmalion', 0.99975514), ('get', 0.9997507), ('soula', 0.9997493), ('quiet', 0.99974895), ('space', 0.9997469), ('excellent', 0.9997462), ('enjoyed', 0.9997452), ('made', 0.99974513), ('good', 0.999745), ('comfortable', 0.9997419), ('room', 0.9997417), ('would', 0.9997362), ('easy', 0.9997361), ('first', 0.9997358), ('need', 0.9997347), ('neighborhood', 0.9997347), ('location', 0.9997344), ('5', 0.99972373), ('view', 0.9997229), ('many', 0.9997228), ('always', 0.9997173), ('home', 0.9997138), ('around', 0.99971086), ('friendly', 0.9997107), ('gave', 0.99970853), ('felt', 0.9997071), ('away', 0.9997066), ('located', 0.9997065), ('acropolis', 0.99970585), ('clean', 0.99969894), ('staying', 0.99969536), ('thanks', 0.9996939), ('close', 0.9996934), ('safe', 0.99968714), ('spacious', 0.99968666), ('equipped', 0.99968404), ('convenient', 0.999684), ('metro', 0.9996773), ('terrace', 0.99967533), ('soulas', 0.99967426), ('minutes', 0.9996722), ('restaurants', 0.99966913), ('rooftop', 0.99966365), ('central', 0.9996599), ('recommend', 0.9996585), ('amazing', 0.99965227), ('definitely', 0.99964136), ('feel', 0.9996407), ('walk', 0.9996358), ('station', 0.999633), ('fantastic', 0.99963), ('highly', 0.9995909), ('walking', 0.99939984), ('distance', 0.99910516)]\n",
            "could [('could', 1.0), ('also', 0.9999081), ('even', 0.9999022), ('easy', 0.99988824), ('area', 0.99988604), ('athens', 0.999886), ('one', 0.99988323), ('get', 0.99988306), ('night', 0.999882), ('street', 0.99988157), ('good', 0.99988055), ('fotis', 0.999876), ('day', 0.9998756), ('apartment', 0.9998754), ('everything', 0.9998742), ('time', 0.9998739), ('neighborhood', 0.99987257), ('coffee', 0.99987257), ('city', 0.9998714), ('nice', 0.9998704), ('many', 0.99986714), ('great', 0.9998667), ('well', 0.99986607), ('best', 0.9998655), ('us', 0.9998635), ('helpful', 0.99986315), ('lovely', 0.99986213), ('much', 0.9998607), ('quiet', 0.99986035), ('really', 0.99985945), ('needed', 0.99985814), ('experience', 0.99985653), ('away', 0.9998554), ('go', 0.9998551), ('perfect', 0.99985486), ('need', 0.99985373), ('excellent', 0.9998534), ('around', 0.9998533), ('balcony', 0.99985266), ('space', 0.9998526), ('house', 0.99985236), ('like', 0.99985194), ('stayed', 0.9998517), ('two', 0.9998516), ('kitchen', 0.99985087), ('acropolis', 0.99984837), ('close', 0.9998476), ('flat', 0.99984753), ('soula', 0.99984694), ('george', 0.9998456), ('room', 0.9998451), ('5', 0.9998433), ('place', 0.9998418), ('stay', 0.9998416), ('comfortable', 0.9998415), ('pygmalion', 0.9998393), ('metro', 0.99983823), ('back', 0.9998379), ('host', 0.99983335), ('location', 0.9998327), ('restaurants', 0.9998323), ('made', 0.99983), ('beautiful', 0.99982965), ('first', 0.99982715), ('convenient', 0.9998271), ('clean', 0.99982285), ('visit', 0.99982125), ('enjoyed', 0.99982053), ('view', 0.99981713), ('wonderful', 0.9998157), ('minutes', 0.9998151), ('home', 0.99981225), ('met', 0.9998091), ('haris', 0.99980706), ('walk', 0.99980474), ('located', 0.99980235), ('always', 0.9997992), ('station', 0.99979496), ('felt', 0.99979025), ('spacious', 0.9997848), ('rooftop', 0.99978405), ('friendly', 0.9997792), ('safe', 0.99977773), ('would', 0.99977654), ('terrace', 0.99977577), ('thank', 0.9997731), ('gave', 0.99977), ('central', 0.9997629), ('feel', 0.9997602), ('amazing', 0.99975455), ('staying', 0.9997476), ('thanks', 0.9997291), ('fantastic', 0.9997233), ('equipped', 0.99972004), ('soulas', 0.9997156), ('recommend', 0.9996703), ('definitely', 0.99963915), ('highly', 0.99961567), ('walking', 0.9995851), ('distance', 0.99936503)]\n",
            "street [('street', 1.0000004), ('also', 0.9999102), ('area', 0.99990493), ('get', 0.9999038), ('neighborhood', 0.99990076), ('even', 0.99990016), ('one', 0.9999), ('night', 0.9998989), ('day', 0.999897), ('city', 0.9998958), ('athens', 0.9998951), ('good', 0.9998925), ('coffee', 0.99989057), ('us', 0.999887), ('around', 0.9998847), ('fotis', 0.99988425), ('best', 0.99988425), ('apartment', 0.999882), ('go', 0.9998819), ('could', 0.99988157), ('soula', 0.99988055), ('nice', 0.99987954), ('many', 0.99987936), ('great', 0.9998792), ('well', 0.999877), ('george', 0.9998759), ('away', 0.9998741), ('really', 0.99987394), ('easy', 0.9998714), ('quiet', 0.9998713), ('balcony', 0.99987125), ('flat', 0.9998709), ('stayed', 0.9998709), ('much', 0.9998708), ('kitchen', 0.9998706), ('close', 0.9998692), ('5', 0.9998681), ('time', 0.9998674), ('place', 0.99986523), ('restaurants', 0.9998633), ('excellent', 0.99986327), ('room', 0.99985933), ('need', 0.99985904), ('back', 0.9998589), ('everything', 0.9998563), ('like', 0.9998559), ('acropolis', 0.9998555), ('house', 0.99985445), ('two', 0.9998508), ('helpful', 0.99984884), ('space', 0.99984723), ('stay', 0.9998462), ('lovely', 0.9998459), ('experience', 0.9998453), ('located', 0.99984515), ('host', 0.9998449), ('enjoyed', 0.99984366), ('minutes', 0.99984205), ('metro', 0.9998392), ('needed', 0.99983853), ('walk', 0.99983793), ('location', 0.9998356), ('made', 0.99983543), ('perfect', 0.9998341), ('comfortable', 0.999834), ('first', 0.99983186), ('visit', 0.9998315), ('view', 0.9998296), ('clean', 0.9998295), ('haris', 0.9998288), ('convenient', 0.99982697), ('safe', 0.9998262), ('wonderful', 0.99982584), ('always', 0.99982035), ('beautiful', 0.9998185), ('met', 0.9998157), ('pygmalion', 0.99981296), ('station', 0.9998095), ('home', 0.99980724), ('terrace', 0.9998012), ('felt', 0.99979293), ('friendly', 0.999788), ('spacious', 0.9997842), ('would', 0.99978405), ('rooftop', 0.99978364), ('gave', 0.9997803), ('central', 0.99977875), ('staying', 0.99977314), ('thank', 0.9997729), ('equipped', 0.99977255), ('feel', 0.9997596), ('amazing', 0.99975115), ('fantastic', 0.9997452), ('soulas', 0.9997293), ('thanks', 0.99972266), ('recommend', 0.9996984), ('definitely', 0.9996588), ('walking', 0.9996277), ('highly', 0.999623), ('distance', 0.99938494)]\n",
            "gave [('gave', 0.9999999), ('us', 0.99981433), ('even', 0.9998134), ('get', 0.9998016), ('helpful', 0.9997951), ('also', 0.9997908), ('george', 0.9997863), ('city', 0.9997857), ('street', 0.9997803), ('host', 0.9997781), ('fotis', 0.99977684), ('coffee', 0.99977684), ('made', 0.9997755), ('haris', 0.999775), ('much', 0.99977386), ('apartment', 0.99977136), ('one', 0.9997707), ('could', 0.99977), ('around', 0.9997696), ('soula', 0.9997691), ('go', 0.9997672), ('area', 0.9997671), ('met', 0.9997669), ('time', 0.99976575), ('well', 0.9997653), ('great', 0.9997642), ('day', 0.9997599), ('nice', 0.9997587), ('night', 0.9997576), ('experience', 0.99975735), ('first', 0.999757), ('best', 0.9997531), ('athens', 0.99975073), ('really', 0.9997506), ('flat', 0.99975026), ('like', 0.99974895), ('easy', 0.9997475), ('stayed', 0.9997407), ('two', 0.9997396), ('everything', 0.9997379), ('pygmalion', 0.9997371), ('room', 0.99973565), ('balcony', 0.9997351), ('comfortable', 0.9997348), ('quiet', 0.9997332), ('kitchen', 0.9997323), ('back', 0.99973214), ('place', 0.9997313), ('excellent', 0.999731), ('house', 0.9997274), ('needed', 0.9997272), ('close', 0.99972695), ('good', 0.9997256), ('neighborhood', 0.9997233), ('perfect', 0.9997225), ('visit', 0.9997217), ('home', 0.9997216), ('space', 0.9997089), ('always', 0.99970883), ('thank', 0.99970853), ('5', 0.9997084), ('view', 0.9997081), ('stay', 0.9997065), ('away', 0.9997065), ('beautiful', 0.9997061), ('need', 0.9997056), ('friendly', 0.9997018), ('wonderful', 0.99970007), ('lovely', 0.99969965), ('many', 0.9996992), ('felt', 0.9996978), ('feel', 0.99969643), ('location', 0.99969107), ('acropolis', 0.9996891), ('spacious', 0.9996842), ('enjoyed', 0.99968296), ('terrace', 0.9996765), ('clean', 0.999673), ('located', 0.99966544), ('minutes', 0.99966186), ('central', 0.9996615), ('restaurants', 0.99966043), ('convenient', 0.99965876), ('walk', 0.9996561), ('rooftop', 0.9996515), ('staying', 0.99964315), ('equipped', 0.9996409), ('fantastic', 0.99963963), ('metro', 0.99963677), ('safe', 0.9996363), ('would', 0.99963397), ('station', 0.9996319), ('soulas', 0.9996003), ('amazing', 0.9995965), ('thanks', 0.9995898), ('recommend', 0.9995865), ('definitely', 0.9995154), ('highly', 0.9994716), ('walking', 0.99941385), ('distance', 0.9990475)]\n",
            "kitchen [('kitchen', 1.0000001), ('coffee', 0.99989015), ('also', 0.9998881), ('day', 0.99988663), ('area', 0.99988616), ('apartment', 0.99988425), ('well', 0.99988097), ('night', 0.9998769), ('street', 0.9998706), ('nice', 0.9998703), ('even', 0.9998697), ('flat', 0.99986845), ('needed', 0.9998684), ('athens', 0.9998671), ('fotis', 0.9998663), ('one', 0.99986553), ('great', 0.9998642), ('get', 0.99986184), ('really', 0.99986106), ('place', 0.99986017), ('balcony', 0.99986), ('comfortable', 0.9998586), ('best', 0.9998566), ('time', 0.9998554), ('much', 0.99985474), ('us', 0.9998547), ('lovely', 0.99985284), ('like', 0.99985194), ('neighborhood', 0.9998518), ('good', 0.99985147), ('soula', 0.9998514), ('could', 0.99985087), ('many', 0.9998469), ('away', 0.99984634), ('perfect', 0.9998437), ('house', 0.99984294), ('go', 0.9998419), ('stay', 0.99984074), ('stayed', 0.999839), ('space', 0.99983877), ('helpful', 0.9998386), ('excellent', 0.9998378), ('everything', 0.9998374), ('quiet', 0.9998362), ('host', 0.99983513), ('room', 0.99983394), ('need', 0.9998339), ('easy', 0.99983186), ('city', 0.99982995), ('close', 0.9998292), ('around', 0.99982905), ('haris', 0.9998283), ('made', 0.9998275), ('back', 0.99982727), ('two', 0.99982715), ('george', 0.9998264), ('experience', 0.9998237), ('clean', 0.9998223), ('visit', 0.9998167), ('wonderful', 0.9998164), ('beautiful', 0.9998128), ('home', 0.999809), ('equipped', 0.99980795), ('first', 0.9998077), ('located', 0.99980515), ('spacious', 0.999805), ('pygmalion', 0.9998049), ('location', 0.9998043), ('always', 0.9998038), ('acropolis', 0.99980336), ('5', 0.99980193), ('view', 0.9997972), ('restaurants', 0.9997961), ('enjoyed', 0.99979293), ('metro', 0.99979275), ('met', 0.99979025), ('minutes', 0.99978507), ('terrace', 0.99978095), ('thank', 0.99977505), ('convenient', 0.9997737), ('central', 0.9997702), ('friendly', 0.9997678), ('felt', 0.99976707), ('staying', 0.99976295), ('rooftop', 0.9997561), ('station', 0.999756), ('feel', 0.9997531), ('would', 0.9997523), ('amazing', 0.9997467), ('gave', 0.9997323), ('walk', 0.99973226), ('safe', 0.99973047), ('fantastic', 0.9997273), ('soulas', 0.999725), ('thanks', 0.99970794), ('recommend', 0.99969107), ('definitely', 0.9996024), ('highly', 0.9995969), ('walking', 0.99955565), ('distance', 0.99925745)]\n",
            "fantastic [('fantastic', 1.0000001), ('best', 0.99977636), ('great', 0.99977213), ('time', 0.9997672), ('also', 0.99976414), ('place', 0.99976325), ('nice', 0.9997597), ('good', 0.9997597), ('flat', 0.99975723), ('one', 0.9997562), ('area', 0.99975526), ('apartment', 0.9997544), ('comfortable', 0.9997517), ('athens', 0.99974716), ('well', 0.99974597), ('street', 0.9997452), ('excellent', 0.99974376), ('even', 0.9997428), ('helpful', 0.99974084), ('day', 0.99974066), ('much', 0.99973965), ('beautiful', 0.999739), ('wonderful', 0.9997388), ('back', 0.9997368), ('coffee', 0.9997364), ('host', 0.999736), ('like', 0.9997345), ('night', 0.9997333), ('neighborhood', 0.99973303), ('two', 0.99973243), ('lovely', 0.999732), ('soula', 0.9997313), ('easy', 0.9997287), ('away', 0.9997282), ('balcony', 0.99972767), ('kitchen', 0.9997273), ('city', 0.99972475), ('house', 0.99972475), ('could', 0.9997233), ('get', 0.99972284), ('really', 0.9997223), ('everything', 0.9997212), ('perfect', 0.9997172), ('stay', 0.99971646), ('clean', 0.99971604), ('fotis', 0.9997152), ('many', 0.99971396), ('space', 0.9997139), ('go', 0.9997136), ('5', 0.9997111), ('enjoyed', 0.99970883), ('us', 0.99970835), ('acropolis', 0.99970716), ('pygmalion', 0.999703), ('felt', 0.99970156), ('around', 0.9996997), ('located', 0.9996996), ('spacious', 0.99969757), ('minutes', 0.99969757), ('need', 0.99969745), ('experience', 0.9996974), ('george', 0.99969727), ('stayed', 0.9996953), ('needed', 0.99969244), ('visit', 0.999691), ('quiet', 0.9996897), ('made', 0.9996884), ('close', 0.9996881), ('restaurants', 0.99968755), ('room', 0.999687), ('equipped', 0.99968624), ('first', 0.99968195), ('haris', 0.99967974), ('location', 0.99967664), ('always', 0.9996687), ('view', 0.9996677), ('staying', 0.99966687), ('terrace', 0.9996661), ('home', 0.999666), ('metro', 0.9996648), ('convenient', 0.99966455), ('amazing', 0.99965376), ('would', 0.9996497), ('friendly', 0.9996459), ('rooftop', 0.99964565), ('gave', 0.99963963), ('met', 0.9996377), ('walk', 0.99963355), ('central', 0.99963325), ('station', 0.99963236), ('soulas', 0.9996304), ('thank', 0.99963), ('safe', 0.99960864), ('recommend', 0.9996077), ('feel', 0.9995814), ('thanks', 0.9995759), ('definitely', 0.9995353), ('highly', 0.99951726), ('walking', 0.9994214), ('distance', 0.9991711)]\n",
            "friendly [('friendly', 1.0000001), ('nice', 0.99983215), ('well', 0.99982923), ('helpful', 0.99982584), ('us', 0.99982417), ('pygmalion', 0.9998218), ('day', 0.9998201), ('great', 0.9998183), ('get', 0.9998179), ('area', 0.99981755), ('much', 0.99981695), ('apartment', 0.99981487), ('stayed', 0.9998131), ('one', 0.99981236), ('fotis', 0.9998102), ('go', 0.99980885), ('also', 0.9998069), ('time', 0.9998067), ('coffee', 0.9998045), ('like', 0.99980366), ('really', 0.9998018), ('george', 0.9998017), ('athens', 0.99979806), ('night', 0.9997974), ('excellent', 0.99979556), ('quiet', 0.9997945), ('even', 0.99979305), ('host', 0.99979246), ('first', 0.99979246), ('haris', 0.99979204), ('soula', 0.99978876), ('street', 0.999788), ('best', 0.99978715), ('house', 0.99978554), ('around', 0.99978536), ('good', 0.9997851), ('place', 0.9997842), ('experience', 0.9997838), ('easy', 0.9997828), ('city', 0.99978185), ('neighborhood', 0.9997817), ('made', 0.99977964), ('could', 0.9997792), ('room', 0.9997779), ('flat', 0.9997759), ('stay', 0.9997753), ('balcony', 0.9997748), ('lovely', 0.9997736), ('back', 0.9997736), ('needed', 0.9997707), ('comfortable', 0.99977064), ('need', 0.99977034), ('kitchen', 0.9997678), ('met', 0.9997663), ('everything', 0.9997658), ('location', 0.9997651), ('always', 0.9997647), ('space', 0.9997612), ('perfect', 0.9997602), ('two', 0.9997574), ('5', 0.9997563), ('away', 0.9997508), ('many', 0.99974847), ('home', 0.99974597), ('close', 0.99974066), ('spacious', 0.99974036), ('view', 0.9997357), ('wonderful', 0.999735), ('visit', 0.9997319), ('acropolis', 0.9997305), ('clean', 0.99972916), ('beautiful', 0.9997267), ('would', 0.999723), ('safe', 0.9997158), ('located', 0.9997151), ('station', 0.99971306), ('thank', 0.9997107), ('felt', 0.99971026), ('feel', 0.9997072), ('enjoyed', 0.99970645), ('metro', 0.99970484), ('convenient', 0.99970365), ('gave', 0.9997018), ('central', 0.99969846), ('equipped', 0.9996984), ('minutes', 0.9996929), ('staying', 0.99969274), ('recommend', 0.99968815), ('restaurants', 0.99968725), ('walk', 0.9996742), ('terrace', 0.9996706), ('amazing', 0.99966586), ('thanks', 0.9996486), ('rooftop', 0.9996469), ('fantastic', 0.9996459), ('soulas', 0.999637), ('definitely', 0.9996163), ('highly', 0.9995563), ('walking', 0.9994563), ('distance', 0.9992232)]\n",
            "coffee [('coffee', 0.99999976), ('also', 0.9999158), ('one', 0.99990535), ('even', 0.9999045), ('day', 0.9998998), ('get', 0.9998976), ('night', 0.999896), ('us', 0.99989384), ('street', 0.99989057), ('kitchen', 0.99989015), ('time', 0.99988866), ('neighborhood', 0.99988705), ('area', 0.99988484), ('best', 0.99988455), ('city', 0.9998814), ('apartment', 0.9998809), ('fotis', 0.99988085), ('good', 0.99987525), ('easy', 0.9998752), ('well', 0.999874), ('great', 0.999873), ('could', 0.99987257), ('away', 0.9998717), ('athens', 0.9998715), ('go', 0.9998715), ('around', 0.99986875), ('nice', 0.9998683), ('much', 0.9998672), ('flat', 0.9998664), ('balcony', 0.9998658), ('close', 0.9998654), ('soula', 0.99986494), ('many', 0.9998649), ('stayed', 0.99986356), ('needed', 0.9998629), ('room', 0.9998628), ('everything', 0.99986255), ('back', 0.9998607), ('quiet', 0.99985933), ('place', 0.9998593), ('excellent', 0.99985856), ('really', 0.99985516), ('helpful', 0.9998551), ('experience', 0.9998549), ('george', 0.99985355), ('acropolis', 0.9998526), ('pygmalion', 0.9998523), ('comfortable', 0.99985063), ('like', 0.9998465), ('host', 0.99984586), ('lovely', 0.9998451), ('made', 0.9998451), ('two', 0.99984443), ('need', 0.9998441), ('first', 0.9998423), ('space', 0.99984074), ('house', 0.9998398), ('beautiful', 0.9998377), ('perfect', 0.9998355), ('haris', 0.9998349), ('restaurants', 0.9998329), ('enjoyed', 0.9998289), ('stay', 0.99982613), ('metro', 0.9998245), ('visit', 0.9998221), ('met', 0.9998197), ('minutes', 0.9998194), ('5', 0.9998158), ('always', 0.99981135), ('location', 0.9998112), ('located', 0.99981064), ('wonderful', 0.9998091), ('view', 0.9998061), ('clean', 0.9998055), ('friendly', 0.9998045), ('terrace', 0.9998018), ('home', 0.9997999), ('convenient', 0.99979687), ('felt', 0.9997962), ('station', 0.9997921), ('equipped', 0.9997919), ('walk', 0.99979126), ('central', 0.99978334), ('gave', 0.99977684), ('thank', 0.99977607), ('spacious', 0.99977), ('rooftop', 0.99976856), ('safe', 0.9997671), ('staying', 0.9997665), ('amazing', 0.9997649), ('feel', 0.99976254), ('would', 0.99975973), ('thanks', 0.9997425), ('fantastic', 0.9997364), ('soulas', 0.9997362), ('recommend', 0.9996861), ('definitely', 0.9996315), ('walking', 0.9996177), ('highly', 0.99961), ('distance', 0.99933404)]\n",
            "visit [('visit', 1.0), ('night', 0.9998532), ('apartment', 0.9998514), ('much', 0.9998503), ('best', 0.9998473), ('flat', 0.9998436), ('time', 0.9998433), ('one', 0.9998401), ('also', 0.9998388), ('place', 0.999835), ('helpful', 0.9998339), ('nice', 0.9998324), ('day', 0.99983186), ('street', 0.9998315), ('athens', 0.99983126), ('fotis', 0.99982864), ('us', 0.99982226), ('coffee', 0.9998221), ('could', 0.99982125), ('stay', 0.9998212), ('good', 0.99982107), ('even', 0.9998208), ('area', 0.99981934), ('great', 0.9998187), ('back', 0.9998183), ('go', 0.99981683), ('kitchen', 0.9998167), ('really', 0.9998163), ('stayed', 0.99981433), ('experience', 0.9998126), ('get', 0.9998122), ('perfect', 0.9998119), ('quiet', 0.99981177), ('lovely', 0.9998115), ('george', 0.9998099), ('like', 0.9998098), ('neighborhood', 0.9998079), ('space', 0.99980766), ('balcony', 0.99980444), ('wonderful', 0.99980336), ('host', 0.9998015), ('would', 0.9998015), ('first', 0.99980146), ('two', 0.9998012), ('well', 0.99980056), ('comfortable', 0.9998005), ('house', 0.99979806), ('city', 0.99979305), ('easy', 0.99979186), ('needed', 0.9997907), ('everything', 0.99979013), ('soula', 0.99979), ('haris', 0.999787), ('beautiful', 0.9997841), ('around', 0.99978346), ('home', 0.9997832), ('many', 0.99978316), ('made', 0.9997779), ('room', 0.99977785), ('away', 0.9997767), ('need', 0.9997766), ('5', 0.9997759), ('excellent', 0.9997744), ('acropolis', 0.99977005), ('felt', 0.9997697), ('enjoyed', 0.99976945), ('pygmalion', 0.99976605), ('thank', 0.99975884), ('located', 0.99975723), ('terrace', 0.9997549), ('always', 0.9997531), ('safe', 0.99975234), ('met', 0.9997518), ('clean', 0.99974847), ('staying', 0.9997463), ('restaurants', 0.99974453), ('close', 0.9997441), ('central', 0.99974406), ('view', 0.9997413), ('minutes', 0.9997402), ('location', 0.99973965), ('convenient', 0.9997339), ('friendly', 0.9997319), ('soulas', 0.999726), ('spacious', 0.99972576), ('metro', 0.9997239), ('recommend', 0.99972326), ('equipped', 0.9997221), ('gave', 0.9997217), ('walk', 0.99970585), ('amazing', 0.99970555), ('rooftop', 0.9997031), ('station', 0.9997011), ('thanks', 0.99969715), ('feel', 0.999693), ('fantastic', 0.999691), ('highly', 0.99964106), ('definitely', 0.99963725), ('walking', 0.999496), ('distance', 0.99919754)]\n",
            "met [('met', 0.99999964), ('us', 0.9998718), ('even', 0.99985564), ('also', 0.99984074), ('day', 0.99983984), ('get', 0.99983466), ('time', 0.99983346), ('best', 0.99983066), ('athens', 0.9998289), ('fotis', 0.99982876), ('one', 0.9998285), ('like', 0.9998282), ('helpful', 0.9998281), ('night', 0.99982804), ('nice', 0.9998264), ('city', 0.99982476), ('around', 0.99982214), ('apartment', 0.99981993), ('coffee', 0.9998197), ('great', 0.9998163), ('street', 0.9998157), ('stayed', 0.9998155), ('really', 0.99981546), ('quiet', 0.9998134), ('host', 0.9998112), ('good', 0.9998112), ('could', 0.9998091), ('much', 0.99980855), ('area', 0.99980825), ('soula', 0.99980676), ('first', 0.99980676), ('comfortable', 0.9998063), ('flat', 0.999806), ('well', 0.9998054), ('away', 0.99980485), ('experience', 0.99980205), ('made', 0.99980193), ('george', 0.99980193), ('go', 0.9998019), ('5', 0.99980086), ('pygmalion', 0.99980015), ('excellent', 0.99979794), ('balcony', 0.99979705), ('place', 0.99979603), ('easy', 0.99979603), ('needed', 0.99979484), ('neighborhood', 0.99979264), ('everything', 0.9997919), ('kitchen', 0.99979025), ('perfect', 0.99978966), ('room', 0.99978733), ('back', 0.9997858), ('lovely', 0.9997856), ('house', 0.99978465), ('close', 0.9997822), ('need', 0.99978185), ('two', 0.99977916), ('stay', 0.9997773), ('haris', 0.99977714), ('many', 0.99977165), ('convenient', 0.99976856), ('home', 0.99976814), ('gave', 0.9997669), ('enjoyed', 0.9997665), ('friendly', 0.9997663), ('space', 0.9997619), ('always', 0.9997619), ('thank', 0.9997607), ('location', 0.999759), ('acropolis', 0.9997587), ('wonderful', 0.99975854), ('beautiful', 0.9997562), ('located', 0.99975437), ('metro', 0.99975306), ('felt', 0.99975216), ('visit', 0.9997518), ('minutes', 0.9997512), ('clean', 0.99973977), ('walk', 0.99973696), ('view', 0.99973226), ('feel', 0.9997318), ('safe', 0.99972594), ('staying', 0.9997234), ('spacious', 0.9997137), ('would', 0.9997122), ('restaurants', 0.99970675), ('station', 0.99970657), ('equipped', 0.9997056), ('rooftop', 0.9996987), ('central', 0.99969697), ('terrace', 0.9996888), ('thanks', 0.99968624), ('soulas', 0.9996853), ('amazing', 0.9996642), ('recommend', 0.9996509), ('fantastic', 0.9996377), ('definitely', 0.9995853), ('walking', 0.99953926), ('highly', 0.999523), ('distance', 0.99916273)]\n",
            "space [('space', 1.0000001), ('athens', 0.99987715), ('also', 0.999877), ('one', 0.9998735), ('area', 0.9998707), ('apartment', 0.9998701), ('well', 0.99986804), ('night', 0.99986637), ('nice', 0.9998662), ('great', 0.99986565), ('place', 0.9998635), ('day', 0.99986243), ('flat', 0.9998557), ('could', 0.9998526), ('best', 0.9998525), ('neighborhood', 0.9998508), ('acropolis', 0.9998504), ('balcony', 0.99984914), ('city', 0.99984795), ('street', 0.99984723), ('much', 0.99984515), ('comfortable', 0.9998449), ('time', 0.9998418), ('helpful', 0.9998417), ('beautiful', 0.99984074), ('coffee', 0.99984074), ('two', 0.99984026), ('even', 0.9998402), ('kitchen', 0.99983877), ('everything', 0.99983835), ('stay', 0.9998379), ('get', 0.9998364), ('good', 0.9998355), ('fotis', 0.9998355), ('lovely', 0.999834), ('experience', 0.9998328), ('host', 0.9998324), ('location', 0.99983186), ('easy', 0.9998317), ('view', 0.99983084), ('many', 0.9998294), ('go', 0.9998288), ('really', 0.999826), ('house', 0.9998244), ('stayed', 0.9998243), ('quiet', 0.99982274), ('like', 0.99982184), ('room', 0.99981916), ('enjoyed', 0.99981827), ('soula', 0.9998179), ('clean', 0.9998178), ('perfect', 0.9998175), ('wonderful', 0.9998173), ('spacious', 0.9998157), ('us', 0.9998141), ('convenient', 0.9998139), ('terrace', 0.99981314), ('away', 0.99981254), ('close', 0.9998117), ('around', 0.99981064), ('george', 0.99980986), ('visit', 0.99980766), ('pygmalion', 0.99980724), ('metro', 0.99980545), ('needed', 0.9998029), ('need', 0.999802), ('excellent', 0.99980146), ('5', 0.99979967), ('back', 0.9997971), ('located', 0.9997962), ('haris', 0.99979514), ('restaurants', 0.9997934), ('always', 0.99978685), ('first', 0.9997868), ('amazing', 0.99978536), ('would', 0.99978334), ('made', 0.99978054), ('staying', 0.99977493), ('rooftop', 0.99977374), ('minutes', 0.9997713), ('central', 0.99976826), ('station', 0.99976695), ('felt', 0.99976337), ('met', 0.9997619), ('friendly', 0.9997612), ('home', 0.99975806), ('walk', 0.99975264), ('safe', 0.9997526), ('thank', 0.9997469), ('equipped', 0.9997351), ('soulas', 0.9997298), ('fantastic', 0.9997139), ('gave', 0.9997089), ('feel', 0.99970573), ('thanks', 0.99970317), ('highly', 0.9996657), ('recommend', 0.9996634), ('definitely', 0.9996368), ('walking', 0.9994968), ('distance', 0.9993249)]\n",
            "two [('two', 1.0), ('also', 0.9998855), ('one', 0.99988055), ('athens', 0.99987316), ('nice', 0.9998696), ('night', 0.9998675), ('best', 0.9998673), ('apartment', 0.99986714), ('even', 0.9998651), ('great', 0.9998627), ('area', 0.9998614), ('day', 0.9998606), ('city', 0.9998582), ('balcony', 0.9998568), ('place', 0.9998537), ('could', 0.9998516), ('well', 0.9998508), ('street', 0.9998508), ('flat', 0.99984753), ('perfect', 0.99984753), ('time', 0.99984753), ('good', 0.9998464), ('much', 0.9998451), ('coffee', 0.99984443), ('neighborhood', 0.9998444), ('really', 0.9998432), ('fotis', 0.99984145), ('space', 0.99984026), ('many', 0.9998398), ('get', 0.9998395), ('close', 0.9998391), ('quiet', 0.99983895), ('george', 0.99983776), ('easy', 0.999837), ('stay', 0.99983513), ('5', 0.99983466), ('away', 0.99983287), ('beautiful', 0.99983126), ('experience', 0.9998312), ('everything', 0.9998305), ('like', 0.99983), ('us', 0.9998291), ('lovely', 0.9998272), ('kitchen', 0.99982715), ('house', 0.9998244), ('room', 0.9998241), ('helpful', 0.9998239), ('stayed', 0.9998238), ('soula', 0.9998227), ('around', 0.99982214), ('host', 0.99982125), ('restaurants', 0.9998212), ('wonderful', 0.9998212), ('comfortable', 0.9998202), ('excellent', 0.99981946), ('acropolis', 0.9998189), ('pygmalion', 0.9998174), ('first', 0.9998159), ('go', 0.99981576), ('back', 0.99981374), ('location', 0.99981105), ('located', 0.99980915), ('made', 0.99980754), ('clean', 0.9998065), ('need', 0.99980545), ('minutes', 0.99980265), ('haris', 0.99980205), ('visit', 0.9998012), ('view', 0.99979836), ('would', 0.999798), ('convenient', 0.9997944), ('enjoyed', 0.9997918), ('metro', 0.9997902), ('needed', 0.9997888), ('spacious', 0.9997843), ('safe', 0.99978346), ('walk', 0.99978083), ('met', 0.99977916), ('always', 0.9997779), ('staying', 0.9997768), ('terrace', 0.9997727), ('central', 0.99976873), ('felt', 0.9997651), ('home', 0.9997638), ('station', 0.9997635), ('thank', 0.9997607), ('rooftop', 0.999758), ('friendly', 0.9997574), ('equipped', 0.9997419), ('gave', 0.9997396), ('fantastic', 0.99973243), ('soulas', 0.99972945), ('thanks', 0.99972683), ('amazing', 0.999722), ('feel', 0.9997153), ('recommend', 0.99968106), ('definitely', 0.9996479), ('highly', 0.99962413), ('walking', 0.9995528), ('distance', 0.9993131)]\n",
            "thanks [('thanks', 0.9999998), ('day', 0.99976104), ('stayed', 0.99975485), ('made', 0.9997517), ('athens', 0.9997461), ('area', 0.9997461), ('helpful', 0.99974597), ('one', 0.99974525), ('time', 0.99974483), ('coffee', 0.9997425), ('best', 0.9997414), ('night', 0.99973977), ('get', 0.9997364), ('also', 0.9997341), ('apartment', 0.999734), ('much', 0.9997326), ('nice', 0.9997322), ('could', 0.9997291), ('place', 0.99972826), ('neighborhood', 0.9997277), ('two', 0.99972683), ('back', 0.99972624), ('good', 0.9997255), ('stay', 0.99972486), ('really', 0.9997246), ('comfortable', 0.99972284), ('street', 0.99972266), ('host', 0.9997217), ('beautiful', 0.9997195), ('flat', 0.99971807), ('experience', 0.99971795), ('us', 0.9997179), ('perfect', 0.99971735), ('well', 0.9997162), ('great', 0.99971455), ('quiet', 0.9997131), ('room', 0.9997118), ('kitchen', 0.99970794), ('would', 0.99970686), ('easy', 0.999706), ('enjoyed', 0.9997052), ('pygmalion', 0.99970424), ('first', 0.99970376), ('even', 0.9997033), ('space', 0.99970317), ('george', 0.9997007), ('balcony', 0.9996999), ('visit', 0.99969715), ('like', 0.9996967), ('soula', 0.9996961), ('go', 0.9996947), ('thank', 0.9996939), ('felt', 0.9996931), ('lovely', 0.99969274), ('needed', 0.99969095), ('many', 0.99969083), ('city', 0.99969065), ('5', 0.9996891), ('everything', 0.9996883), ('fotis', 0.9996881), ('around', 0.99968743), ('met', 0.99968624), ('need', 0.99968374), ('excellent', 0.9996835), ('close', 0.9996827), ('away', 0.9996798), ('restaurants', 0.9996795), ('acropolis', 0.9996779), ('metro', 0.9996668), ('house', 0.9996667), ('haris', 0.9996649), ('always', 0.9996642), ('located', 0.9996601), ('clean', 0.9996559), ('location', 0.9996542), ('friendly', 0.9996486), ('wonderful', 0.99964595), ('home', 0.9996404), ('terrace', 0.99963945), ('view', 0.9996361), ('staying', 0.99963355), ('rooftop', 0.99962854), ('convenient', 0.9996282), ('equipped', 0.999626), ('station', 0.9996228), ('feel', 0.9996178), ('walk', 0.9996145), ('spacious', 0.99961185), ('soulas', 0.99961174), ('minutes', 0.99961007), ('recommend', 0.99960923), ('definitely', 0.99960685), ('safe', 0.9995899), ('gave', 0.9995898), ('amazing', 0.9995878), ('central', 0.9995877), ('fantastic', 0.9995759), ('highly', 0.9995124), ('walking', 0.9993883), ('distance', 0.99915856)]\n",
            "room [('room', 0.99999994), ('apartment', 0.99988544), ('one', 0.99988186), ('fotis', 0.9998762), ('also', 0.9998758), ('us', 0.99987245), ('even', 0.9998715), ('area', 0.999869), ('get', 0.99986565), ('coffee', 0.9998628), ('day', 0.9998626), ('nice', 0.9998609), ('athens', 0.99986005), ('street', 0.99985933), ('well', 0.9998588), ('good', 0.9998566), ('city', 0.99985576), ('night', 0.9998555), ('best', 0.99985224), ('flat', 0.99985176), ('really', 0.99984896), ('much', 0.9998485), ('time', 0.9998476), ('could', 0.9998451), ('quiet', 0.9998447), ('house', 0.9998444), ('stayed', 0.99984336), ('easy', 0.9998429), ('neighborhood', 0.99984175), ('acropolis', 0.99983984), ('helpful', 0.9998376), ('comfortable', 0.9998352), ('balcony', 0.9998343), ('kitchen', 0.99983394), ('great', 0.9998332), ('place', 0.9998317), ('around', 0.9998315), ('away', 0.9998311), ('go', 0.9998309), ('perfect', 0.99983084), ('close', 0.99982935), ('everything', 0.99982893), ('clean', 0.99982727), ('like', 0.99982685), ('lovely', 0.99982667), ('soula', 0.9998253), ('two', 0.9998241), ('host', 0.9998217), ('beautiful', 0.9998215), ('5', 0.9998212), ('george', 0.9998207), ('needed', 0.9998194), ('space', 0.99981916), ('many', 0.9998184), ('need', 0.9998177), ('excellent', 0.9998176), ('made', 0.99981713), ('location', 0.99981505), ('pygmalion', 0.9998144), ('experience', 0.9998114), ('restaurants', 0.9998071), ('haris', 0.99980485), ('metro', 0.9998048), ('always', 0.9998034), ('wonderful', 0.999801), ('first', 0.9997992), ('back', 0.99979854), ('enjoyed', 0.99979204), ('stay', 0.99979174), ('met', 0.99978733), ('spacious', 0.9997865), ('located', 0.9997838), ('view', 0.99978274), ('home', 0.9997825), ('friendly', 0.9997779), ('visit', 0.99977785), ('safe', 0.99977183), ('convenient', 0.99976987), ('rooftop', 0.9997653), ('minutes', 0.99975693), ('central', 0.9997562), ('felt', 0.9997555), ('terrace', 0.9997552), ('station', 0.9997526), ('walk', 0.9997499), ('thank', 0.9997417), ('staying', 0.99973917), ('would', 0.9997379), ('feel', 0.99973667), ('gave', 0.99973565), ('equipped', 0.99973446), ('amazing', 0.99972737), ('thanks', 0.9997118), ('fantastic', 0.999687), ('soulas', 0.9996789), ('recommend', 0.9996305), ('definitely', 0.99962234), ('walking', 0.9995691), ('highly', 0.9995446), ('distance', 0.9993124)]\n",
            "rooftop [('rooftop', 0.9999999), ('view', 0.9998153), ('best', 0.9998126), ('apartment', 0.99979895), ('place', 0.9997967), ('acropolis', 0.999794), ('night', 0.9997938), ('even', 0.9997924), ('one', 0.999791), ('athens', 0.9997909), ('also', 0.99978983), ('great', 0.99978817), ('many', 0.999786), ('city', 0.9997846), ('could', 0.99978405), ('street', 0.99978364), ('area', 0.9997783), ('balcony', 0.9997781), ('time', 0.9997769), ('get', 0.9997746), ('nice', 0.99977434), ('day', 0.9997738), ('space', 0.99977374), ('lovely', 0.99977094), ('coffee', 0.99976856), ('amazing', 0.99976796), ('really', 0.999767), ('enjoyed', 0.9997666), ('neighborhood', 0.9997664), ('flat', 0.9997659), ('room', 0.9997653), ('helpful', 0.9997644), ('us', 0.999764), ('fotis', 0.99976397), ('around', 0.99976283), ('two', 0.999758), ('away', 0.99975693), ('comfortable', 0.99975634), ('kitchen', 0.9997561), ('george', 0.99975467), ('location', 0.9997539), ('beautiful', 0.9997538), ('good', 0.99975157), ('restaurants', 0.9997512), ('5', 0.99975115), ('made', 0.99975073), ('house', 0.99975055), ('wonderful', 0.9997503), ('quiet', 0.99974835), ('soula', 0.99974644), ('clean', 0.99974483), ('close', 0.99974465), ('easy', 0.9997445), ('needed', 0.9997438), ('well', 0.99974364), ('much', 0.9997427), ('experience', 0.9997414), ('terrace', 0.99974006), ('need', 0.99973917), ('like', 0.99973714), ('stayed', 0.9997352), ('excellent', 0.9997332), ('stay', 0.99973226), ('first', 0.999731), ('perfect', 0.9997275), ('go', 0.9997225), ('host', 0.9997203), ('everything', 0.9997193), ('minutes', 0.99971575), ('back', 0.9997154), ('spacious', 0.9997144), ('located', 0.9997135), ('haris', 0.99970865), ('convenient', 0.99970776), ('pygmalion', 0.9997073), ('always', 0.9997063), ('metro', 0.99970627), ('visit', 0.9997031), ('met', 0.9996987), ('home', 0.9996945), ('felt', 0.9996899), ('safe', 0.99968916), ('walk', 0.9996877), ('equipped', 0.99967194), ('station', 0.9996707), ('would', 0.99966383), ('thank', 0.99966365), ('staying', 0.99966127), ('gave', 0.9996515), ('friendly', 0.9996469), ('fantastic', 0.99964565), ('feel', 0.99963254), ('thanks', 0.99962854), ('central', 0.9996105), ('soulas', 0.9995987), ('recommend', 0.9995804), ('definitely', 0.99955237), ('highly', 0.9995212), ('walking', 0.99947006), ('distance', 0.9992382)]\n",
            "central [('central', 0.9999998), ('well', 0.99982977), ('even', 0.9998291), ('also', 0.9998174), ('quiet', 0.9998064), ('day', 0.99979687), ('area', 0.9997965), ('good', 0.9997935), ('apartment', 0.99979156), ('one', 0.9997915), ('nice', 0.9997909), ('city', 0.9997908), ('neighborhood', 0.9997902), ('lovely', 0.9997891), ('athens', 0.9997875), ('flat', 0.9997845), ('coffee', 0.99978334), ('perfect', 0.9997808), ('really', 0.9997796), ('street', 0.99977875), ('balcony', 0.99977696), ('get', 0.9997768), ('fotis', 0.99977374), ('great', 0.99977326), ('much', 0.9997721), ('best', 0.99977106), ('kitchen', 0.9997702), ('host', 0.999769), ('two', 0.99976873), ('space', 0.99976826), ('away', 0.9997672), ('acropolis', 0.9997666), ('house', 0.9997655), ('everything', 0.99976444), ('excellent', 0.99976385), ('time', 0.99976337), ('helpful', 0.9997633), ('go', 0.999763), ('could', 0.9997629), ('close', 0.99976254), ('easy', 0.99976236), ('needed', 0.99976206), ('around', 0.9997615), ('many', 0.9997612), ('stay', 0.9997606), ('beautiful', 0.9997599), ('night', 0.99975985), ('always', 0.99975896), ('comfortable', 0.99975884), ('place', 0.99975634), ('room', 0.9997562), ('like', 0.99975604), ('experience', 0.9997548), ('george', 0.9997547), ('clean', 0.99975294), ('us', 0.9997512), ('location', 0.99974716), ('visit', 0.99974406), ('located', 0.99974185), ('soula', 0.9997413), ('5', 0.9997402), ('stayed', 0.9997385), ('need', 0.9997384), ('metro', 0.9997377), ('station', 0.99973565), ('spacious', 0.99973434), ('restaurants', 0.99973196), ('pygmalion', 0.9997289), ('minutes', 0.9997266), ('wonderful', 0.99972504), ('convenient', 0.99972427), ('equipped', 0.9997202), ('back', 0.9997193), ('enjoyed', 0.99971807), ('haris', 0.99971277), ('made', 0.9997098), ('walk', 0.99970967), ('first', 0.999706), ('view', 0.99970406), ('safe', 0.99970096), ('friendly', 0.99969846), ('met', 0.99969697), ('felt', 0.9996887), ('home', 0.9996862), ('terrace', 0.9996847), ('feel', 0.9996762), ('staying', 0.9996658), ('amazing', 0.99966484), ('gave', 0.9996615), ('thank', 0.9996599), ('recommend', 0.99965584), ('would', 0.999647), ('fantastic', 0.99963325), ('rooftop', 0.9996105), ('soulas', 0.9996022), ('thanks', 0.9995877), ('walking', 0.9995632), ('highly', 0.99955463), ('definitely', 0.99953413), ('distance', 0.9993135)]\n",
            "safe [('safe', 1.0), ('street', 0.9998262), ('apartment', 0.9998249), ('quiet', 0.9998174), ('also', 0.9998162), ('city', 0.9998138), ('best', 0.9998092), ('well', 0.9998066), ('many', 0.9998051), ('good', 0.9998046), ('nice', 0.99980426), ('area', 0.99980366), ('athens', 0.99980336), ('one', 0.99979997), ('us', 0.9997996), ('day', 0.9997994), ('fotis', 0.9997993), ('neighborhood', 0.9997978), ('location', 0.9997959), ('really', 0.9997941), ('even', 0.99979365), ('around', 0.9997934), ('george', 0.9997892), ('night', 0.9997878), ('get', 0.9997855), ('lovely', 0.9997854), ('two', 0.99978346), ('flat', 0.9997828), ('like', 0.9997825), ('place', 0.99978155), ('experience', 0.9997808), ('located', 0.9997804), ('great', 0.99978036), ('excellent', 0.9997783), ('could', 0.99977773), ('perfect', 0.9997761), ('stay', 0.9997748), ('much', 0.9997722), ('room', 0.99977183), ('clean', 0.9997713), ('house', 0.99977), ('balcony', 0.9997697), ('restaurants', 0.99976885), ('5', 0.99976754), ('easy', 0.99976736), ('need', 0.9997673), ('coffee', 0.9997671), ('convenient', 0.9997669), ('host', 0.9997668), ('wonderful', 0.99976623), ('stayed', 0.99976534), ('everything', 0.9997629), ('go', 0.9997606), ('metro', 0.9997599), ('soula', 0.99975514), ('needed', 0.9997542), ('away', 0.9997542), ('close', 0.99975383), ('space', 0.9997526), ('visit', 0.99975234), ('acropolis', 0.9997515), ('comfortable', 0.9997487), ('enjoyed', 0.9997467), ('time', 0.9997466), ('helpful', 0.9997453), ('pygmalion', 0.99974495), ('made', 0.99973285), ('beautiful', 0.99973154), ('kitchen', 0.99973047), ('minutes', 0.99972874), ('met', 0.99972594), ('back', 0.99972206), ('spacious', 0.9997202), ('walk', 0.99971616), ('friendly', 0.9997158), ('first', 0.99971473), ('would', 0.9997126), ('felt', 0.9997111), ('always', 0.99971086), ('haris', 0.99970686), ('central', 0.99970096), ('view', 0.9996964), ('home', 0.9996933), ('station', 0.9996933), ('rooftop', 0.99968916), ('thank', 0.99968714), ('equipped', 0.9996858), ('staying', 0.99968266), ('amazing', 0.99967957), ('terrace', 0.9996741), ('soulas', 0.99965847), ('feel', 0.9996474), ('gave', 0.9996363), ('recommend', 0.9996196), ('fantastic', 0.99960864), ('thanks', 0.9995899), ('definitely', 0.99958634), ('highly', 0.9995332), ('walking', 0.9995172), ('distance', 0.99937695)]\n",
            "first [('first', 1.0000002), ('night', 0.9998721), ('best', 0.9998671), ('time', 0.9998658), ('also', 0.9998646), ('one', 0.99985886), ('athens', 0.99985284), ('day', 0.9998528), ('us', 0.99985176), ('apartment', 0.9998515), ('get', 0.99985147), ('nice', 0.99984956), ('even', 0.9998493), ('city', 0.99984777), ('go', 0.99984396), ('coffee', 0.9998423), ('great', 0.99984103), ('good', 0.99983835), ('helpful', 0.9998319), ('street', 0.99983186), ('experience', 0.999831), ('like', 0.9998309), ('george', 0.99982935), ('area', 0.99982834), ('stayed', 0.99982834), ('fotis', 0.9998281), ('back', 0.99982744), ('could', 0.99982715), ('really', 0.9998254), ('soula', 0.99982274), ('flat', 0.9998225), ('made', 0.9998219), ('comfortable', 0.9998217), ('away', 0.999819), ('acropolis', 0.9998184), ('quiet', 0.9998181), ('much', 0.9998172), ('two', 0.9998159), ('easy', 0.99981564), ('well', 0.99981534), ('place', 0.99981487), ('host', 0.9998146), ('balcony', 0.9998131), ('perfect', 0.9998125), ('pygmalion', 0.99981225), ('haris', 0.99980795), ('kitchen', 0.9998077), ('met', 0.99980676), ('around', 0.99980646), ('everything', 0.9998061), ('house', 0.99980557), ('visit', 0.99980146), ('excellent', 0.9998008), ('beautiful', 0.9998007), ('neighborhood', 0.9997998), ('room', 0.9997992), ('needed', 0.9997964), ('enjoyed', 0.99979436), ('stay', 0.99979275), ('friendly', 0.99979246), ('location', 0.9997886), ('5', 0.99978805), ('space', 0.9997868), ('home', 0.99978447), ('lovely', 0.9997843), ('close', 0.9997808), ('many', 0.9997803), ('view', 0.99977845), ('felt', 0.99977404), ('need', 0.99977046), ('always', 0.9997665), ('wonderful', 0.9997664), ('located', 0.99976355), ('gave', 0.999757), ('minutes', 0.9997564), ('clean', 0.9997541), ('metro', 0.9997538), ('would', 0.99974597), ('walk', 0.99974394), ('convenient', 0.99974173), ('thank', 0.9997358), ('staying', 0.9997351), ('restaurants', 0.999735), ('terrace', 0.9997316), ('rooftop', 0.999731), ('spacious', 0.9997301), ('safe', 0.99971473), ('station', 0.9997133), ('feel', 0.99971324), ('soulas', 0.9997123), ('central', 0.999706), ('thanks', 0.99970376), ('equipped', 0.99970347), ('amazing', 0.99969876), ('fantastic', 0.99968195), ('recommend', 0.9996636), ('definitely', 0.9996245), ('highly', 0.9995767), ('walking', 0.9995099), ('distance', 0.99916387)]\n",
            "terrace [('terrace', 0.99999994), ('area', 0.9998184), ('great', 0.99981683), ('view', 0.9998155), ('space', 0.99981314), ('place', 0.9998119), ('apartment', 0.9998101), ('athens', 0.9998093), ('balcony', 0.9998082), ('also', 0.9998059), ('nice', 0.99980485), ('coffee', 0.9998018), ('street', 0.9998012), ('location', 0.9998011), ('best', 0.99980056), ('get', 0.9997995), ('night', 0.99979895), ('one', 0.9997978), ('day', 0.99979746), ('many', 0.9997954), ('well', 0.99979466), ('neighborhood', 0.9997946), ('city', 0.99979293), ('even', 0.9997925), ('flat', 0.9997907), ('away', 0.999789), ('really', 0.99978757), ('acropolis', 0.99978673), ('fotis', 0.99978507), ('amazing', 0.9997828), ('kitchen', 0.99978095), ('soula', 0.99977946), ('time', 0.99977934), ('good', 0.99977654), ('could', 0.99977577), ('comfortable', 0.9997745), ('clean', 0.9997742), ('much', 0.99977314), ('two', 0.9997727), ('located', 0.9997712), ('easy', 0.999771), ('beautiful', 0.99976873), ('helpful', 0.99976563), ('us', 0.9997618), ('restaurants', 0.9997608), ('host', 0.9997598), ('around', 0.9997577), ('room', 0.9997552), ('visit', 0.9997549), ('close', 0.99975467), ('stayed', 0.9997543), ('metro', 0.9997534), ('george', 0.9997534), ('quiet', 0.9997523), ('pygmalion', 0.9997523), ('enjoyed', 0.9997515), ('lovely', 0.9997493), ('experience', 0.9997487), ('needed', 0.9997486), ('go', 0.99974644), ('convenient', 0.999745), ('perfect', 0.9997431), ('stay', 0.99974114), ('everything', 0.9997409), ('haris', 0.99974036), ('rooftop', 0.99974006), ('excellent', 0.9997377), ('minutes', 0.9997342), ('wonderful', 0.9997333), ('house', 0.99973315), ('like', 0.9997329), ('spacious', 0.99973214), ('first', 0.9997316), ('back', 0.9997315), ('home', 0.99972254), ('5', 0.9997213), ('made', 0.99971896), ('station', 0.99971783), ('walk', 0.999707), ('equipped', 0.9997031), ('need', 0.99969923), ('staying', 0.9996992), ('always', 0.9996946), ('met', 0.9996888), ('central', 0.9996847), ('felt', 0.9996839), ('gave', 0.9996765), ('thank', 0.99967533), ('would', 0.99967444), ('safe', 0.9996741), ('friendly', 0.9996706), ('fantastic', 0.9996661), ('soulas', 0.99966466), ('thanks', 0.99963945), ('feel', 0.9996325), ('recommend', 0.99960965), ('definitely', 0.9995662), ('highly', 0.99954796), ('walking', 0.99947387), ('distance', 0.9993133)]\n",
            "balcony [('balcony', 0.9999997), ('also', 0.9999014), ('day', 0.99990124), ('one', 0.9998915), ('night', 0.999887), ('flat', 0.99988204), ('area', 0.99988025), ('best', 0.9998794), ('athens', 0.999879), ('apartment', 0.9998778), ('street', 0.99987125), ('great', 0.99986994), ('fotis', 0.99986976), ('even', 0.9998686), ('nice', 0.99986744), ('coffee', 0.9998658), ('much', 0.9998651), ('city', 0.9998642), ('experience', 0.9998615), ('good', 0.999861), ('neighborhood', 0.9998609), ('away', 0.9998601), ('kitchen', 0.99986), ('time', 0.9998597), ('well', 0.9998577), ('two', 0.9998568), ('stay', 0.99985665), ('place', 0.9998555), ('quiet', 0.9998555), ('house', 0.999855), ('could', 0.99985266), ('get', 0.99985254), ('like', 0.9998514), ('really', 0.9998503), ('space', 0.99984914), ('easy', 0.99984694), ('acropolis', 0.9998448), ('lovely', 0.9998442), ('around', 0.99984384), ('stayed', 0.9998431), ('enjoyed', 0.99984264), ('need', 0.9998415), ('soula', 0.99983877), ('host', 0.999838), ('george', 0.99983764), ('excellent', 0.9998374), ('beautiful', 0.99983555), ('many', 0.9998354), ('room', 0.9998343), ('go', 0.99983406), ('close', 0.9998337), ('helpful', 0.99983174), ('us', 0.99983066), ('restaurants', 0.9998299), ('5', 0.99982977), ('needed', 0.99982923), ('perfect', 0.99982905), ('metro', 0.9998259), ('view', 0.99982584), ('comfortable', 0.9998257), ('everything', 0.99982333), ('clean', 0.99981844), ('back', 0.99981815), ('pygmalion', 0.9998163), ('minutes', 0.99981546), ('location', 0.99981487), ('always', 0.9998148), ('wonderful', 0.9998135), ('first', 0.9998131), ('made', 0.99981165), ('located', 0.9998103), ('haris', 0.9998082), ('terrace', 0.9998082), ('visit', 0.99980444), ('convenient', 0.9997984), ('met', 0.99979705), ('home', 0.99979335), ('station', 0.99978995), ('amazing', 0.99978334), ('spacious', 0.9997823), ('rooftop', 0.9997781), ('equipped', 0.99977803), ('central', 0.99977696), ('friendly', 0.9997748), ('felt', 0.99977463), ('walk', 0.99977076), ('safe', 0.9997697), ('thank', 0.99976784), ('staying', 0.99976397), ('would', 0.99976003), ('feel', 0.99975723), ('gave', 0.9997351), ('fantastic', 0.99972767), ('soulas', 0.9997184), ('thanks', 0.9996999), ('recommend', 0.9996812), ('definitely', 0.9996244), ('highly', 0.99960846), ('walking', 0.99957156), ('distance', 0.99936086)]\n",
            "convenient [('convenient', 1.0000001), ('also', 0.9998556), ('area', 0.99984354), ('close', 0.99983895), ('athens', 0.9998365), ('well', 0.999835), ('neighborhood', 0.9998292), ('could', 0.9998271), ('street', 0.99982697), ('away', 0.99982655), ('good', 0.99982625), ('get', 0.9998259), ('day', 0.99982345), ('apartment', 0.99981964), ('easy', 0.9998186), ('really', 0.9998185), ('acropolis', 0.9998168), ('nice', 0.9998157), ('even', 0.9998157), ('metro', 0.9998142), ('space', 0.9998139), ('city', 0.9998131), ('one', 0.9998131), ('quiet', 0.9998126), ('flat', 0.99980986), ('5', 0.9998098), ('around', 0.99980825), ('great', 0.99980795), ('fotis', 0.999806), ('many', 0.99980366), ('night', 0.99980074), ('comfortable', 0.99980044), ('balcony', 0.9997984), ('perfect', 0.9997971), ('coffee', 0.99979687), ('minutes', 0.99979675), ('best', 0.9997965), ('place', 0.99979484), ('two', 0.9997944), ('lovely', 0.9997941), ('location', 0.99979293), ('everything', 0.99979246), ('time', 0.9997916), ('george', 0.9997913), ('stay', 0.9997904), ('us', 0.99978936), ('located', 0.99978834), ('excellent', 0.99978787), ('much', 0.9997868), ('restaurants', 0.99978644), ('soula', 0.9997827), ('clean', 0.9997816), ('enjoyed', 0.9997815), ('house', 0.9997803), ('go', 0.99977607), ('needed', 0.9997748), ('need', 0.99977475), ('back', 0.99977374), ('kitchen', 0.9997737), ('stayed', 0.9997705), ('station', 0.99977046), ('room', 0.99976987), ('wonderful', 0.99976975), ('met', 0.99976856), ('host', 0.9997675), ('safe', 0.9997669), ('experience', 0.99976647), ('walk', 0.9997641), ('helpful', 0.999761), ('beautiful', 0.99976015), ('pygmalion', 0.9997572), ('like', 0.99975663), ('haris', 0.9997492), ('felt', 0.9997473), ('terrace', 0.999745), ('first', 0.99974173), ('view', 0.99974155), ('made', 0.99973655), ('always', 0.9997351), ('amazing', 0.999734), ('visit', 0.9997339), ('spacious', 0.999729), ('central', 0.99972427), ('home', 0.9997153), ('equipped', 0.9997144), ('rooftop', 0.99970776), ('friendly', 0.99970365), ('would', 0.99969757), ('thank', 0.999684), ('feel', 0.99968123), ('staying', 0.9996656), ('fantastic', 0.99966455), ('gave', 0.99965876), ('soulas', 0.99965817), ('thanks', 0.9996282), ('recommend', 0.99961543), ('walking', 0.99960744), ('definitely', 0.9995905), ('highly', 0.9995483), ('distance', 0.999383)]\n",
            "equipped [('equipped', 1.0000002), ('kitchen', 0.99980795), ('nice', 0.9998076), ('also', 0.999807), ('really', 0.9998048), ('apartment', 0.9998047), ('quiet', 0.9997951), ('coffee', 0.9997919), ('area', 0.9997882), ('athens', 0.9997873), ('well', 0.9997862), ('neighborhood', 0.9997858), ('night', 0.9997846), ('flat', 0.99978405), ('one', 0.9997834), ('day', 0.9997814), ('much', 0.99978137), ('even', 0.999781), ('good', 0.9997802), ('balcony', 0.99977803), ('clean', 0.99977744), ('best', 0.9997761), ('excellent', 0.9997759), ('stayed', 0.9997752), ('street', 0.99977255), ('time', 0.9997725), ('comfortable', 0.99977213), ('great', 0.9997715), ('beautiful', 0.99977016), ('place', 0.99976987), ('fotis', 0.99976647), ('need', 0.99976295), ('us', 0.9997629), ('get', 0.99976164), ('located', 0.9997602), ('enjoyed', 0.99976015), ('stay', 0.99976003), ('everything', 0.9997592), ('house', 0.99975914), ('host', 0.99975896), ('helpful', 0.99975693), ('perfect', 0.9997564), ('needed', 0.99975204), ('lovely', 0.99975157), ('city', 0.99975145), ('around', 0.9997494), ('like', 0.999749), ('always', 0.9997489), ('soula', 0.9997457), ('many', 0.9997441), ('away', 0.99974334), ('two', 0.9997419), ('spacious', 0.9997406), ('space', 0.9997351), ('close', 0.999735), ('george', 0.9997345), ('room', 0.99973446), ('go', 0.9997324), ('haris', 0.9997302), ('pygmalion', 0.99972963), ('easy', 0.9997281), ('acropolis', 0.99972653), ('visit', 0.9997221), ('felt', 0.99972165), ('central', 0.9997202), ('could', 0.99972004), ('5', 0.9997182), ('back', 0.9997179), ('made', 0.9997177), ('convenient', 0.9997144), ('metro', 0.99971384), ('location', 0.99970865), ('met', 0.9997056), ('wonderful', 0.99970347), ('first', 0.99970347), ('terrace', 0.9997031), ('view', 0.9996996), ('friendly', 0.9996984), ('experience', 0.99969715), ('home', 0.99969435), ('restaurants', 0.9996933), ('fantastic', 0.99968624), ('safe', 0.9996858), ('thank', 0.99968404), ('minutes', 0.9996795), ('rooftop', 0.99967194), ('walk', 0.99964845), ('station', 0.99964523), ('amazing', 0.9996425), ('gave', 0.9996409), ('soulas', 0.99963725), ('recommend', 0.9996306), ('thanks', 0.999626), ('would', 0.9996214), ('feel', 0.9996207), ('staying', 0.99961776), ('definitely', 0.9995761), ('highly', 0.9995049), ('walking', 0.99946797), ('distance', 0.9991806)]\n",
            "5 [('5', 0.99999994), ('athens', 0.9998738), ('good', 0.99987173), ('also', 0.9998708), ('night', 0.9998701), ('street', 0.9998681), ('best', 0.9998625), ('fotis', 0.99986136), ('area', 0.99985796), ('away', 0.99985707), ('one', 0.99985695), ('even', 0.9998541), ('close', 0.9998529), ('city', 0.9998528), ('get', 0.9998517), ('day', 0.9998505), ('much', 0.9998505), ('minutes', 0.99984944), ('walk', 0.99984723), ('nice', 0.9998471), ('apartment', 0.99984616), ('around', 0.99984497), ('us', 0.99984413), ('could', 0.9998433), ('many', 0.99984235), ('neighborhood', 0.99984145), ('flat', 0.99984103), ('excellent', 0.99984), ('well', 0.99983895), ('metro', 0.9998384), ('great', 0.9998368), ('two', 0.99983466), ('place', 0.99983245), ('acropolis', 0.9998311), ('balcony', 0.99982977), ('quiet', 0.9998288), ('easy', 0.9998287), ('station', 0.9998287), ('really', 0.9998256), ('house', 0.9998232), ('helpful', 0.9998229), ('george', 0.9998226), ('room', 0.9998212), ('host', 0.99981904), ('restaurants', 0.99981856), ('lovely', 0.9998176), ('comfortable', 0.9998158), ('coffee', 0.9998158), ('perfect', 0.9998149), ('time', 0.99981344), ('like', 0.9998126), ('located', 0.99981064), ('need', 0.9998106), ('pygmalion', 0.9998102), ('needed', 0.99981016), ('convenient', 0.9998098), ('go', 0.99980944), ('location', 0.99980927), ('stay', 0.99980897), ('experience', 0.99980617), ('made', 0.9998054), ('soula', 0.9998045), ('stayed', 0.9998036), ('back', 0.99980336), ('kitchen', 0.99980193), ('met', 0.99980086), ('space', 0.99979967), ('wonderful', 0.99979824), ('clean', 0.99979675), ('everything', 0.99979436), ('first', 0.99978805), ('enjoyed', 0.9997845), ('home', 0.9997808), ('view', 0.9997765), ('visit', 0.9997759), ('felt', 0.9997748), ('beautiful', 0.9997736), ('safe', 0.99976754), ('haris', 0.99976504), ('always', 0.99976444), ('friendly', 0.9997563), ('spacious', 0.99975187), ('rooftop', 0.99975115), ('would', 0.99974024), ('central', 0.9997402), ('staying', 0.99973565), ('thank', 0.99972373), ('terrace', 0.9997213), ('equipped', 0.9997182), ('fantastic', 0.9997111), ('amazing', 0.9997091), ('gave', 0.9997084), ('thanks', 0.9996891), ('feel', 0.9996769), ('soulas', 0.9996698), ('recommend', 0.99966764), ('definitely', 0.9996269), ('walking', 0.9996257), ('highly', 0.9995892), ('distance', 0.9993703)]\n",
            "house [('house', 1.0000001), ('athens', 0.9998768), ('apartment', 0.9998665), ('also', 0.9998646), ('good', 0.99986356), ('city', 0.99986094), ('day', 0.9998586), ('much', 0.999858), ('time', 0.9998569), ('place', 0.99985653), ('best', 0.9998554), ('balcony', 0.999855), ('area', 0.9998549), ('nice', 0.99985486), ('everything', 0.9998547), ('street', 0.99985445), ('one', 0.999854), ('even', 0.99985385), ('well', 0.9998534), ('neighborhood', 0.99985325), ('could', 0.99985236), ('fotis', 0.99984956), ('night', 0.9998476), ('needed', 0.9998456), ('room', 0.9998444), ('great', 0.9998441), ('flat', 0.99984354), ('get', 0.9998432), ('kitchen', 0.99984294), ('made', 0.99984235), ('like', 0.9998418), ('perfect', 0.99984074), ('coffee', 0.9998398), ('easy', 0.9998392), ('us', 0.9998381), ('lovely', 0.99983585), ('quiet', 0.9998335), ('many', 0.9998335), ('need', 0.9998323), ('really', 0.99983203), ('stay', 0.9998315), ('location', 0.9998289), ('comfortable', 0.99982876), ('host', 0.99982804), ('helpful', 0.99982756), ('away', 0.9998254), ('go', 0.99982536), ('beautiful', 0.9998249), ('space', 0.9998244), ('two', 0.9998244), ('enjoyed', 0.9998241), ('excellent', 0.99982405), ('back', 0.9998235), ('5', 0.9998232), ('experience', 0.9998223), ('soula', 0.9998202), ('close', 0.9998172), ('george', 0.999816), ('stayed', 0.99981374), ('acropolis', 0.9998133), ('located', 0.9998131), ('clean', 0.9998108), ('metro', 0.9998105), ('around', 0.9998092), ('first', 0.99980557), ('minutes', 0.9998054), ('home', 0.9997999), ('always', 0.99979925), ('visit', 0.99979806), ('spacious', 0.99979746), ('pygmalion', 0.9997974), ('view', 0.9997907), ('station', 0.9997891), ('friendly', 0.99978554), ('met', 0.99978465), ('restaurants', 0.99978304), ('convenient', 0.9997803), ('felt', 0.9997791), ('haris', 0.9997718), ('safe', 0.99977), ('central', 0.9997655), ('wonderful', 0.9997605), ('thank', 0.99975944), ('equipped', 0.99975914), ('would', 0.99975884), ('walk', 0.99975777), ('rooftop', 0.99975055), ('staying', 0.99975), ('amazing', 0.9997409), ('terrace', 0.99973315), ('gave', 0.9997274), ('fantastic', 0.99972475), ('feel', 0.9997128), ('soulas', 0.99969596), ('thanks', 0.9996667), ('recommend', 0.9996664), ('definitely', 0.9996384), ('highly', 0.9995831), ('walking', 0.9995677), ('distance', 0.99936604)]\n",
            "felt [('felt', 1.0000001), ('apartment', 0.99983084), ('also', 0.9998265), ('athens', 0.99982214), ('good', 0.99982154), ('like', 0.9998188), ('even', 0.9998177), ('time', 0.9998161), ('one', 0.9998146), ('great', 0.9998142), ('area', 0.99981403), ('best', 0.9998131), ('day', 0.9998122), ('fotis', 0.99981207), ('flat', 0.9998094), ('place', 0.999809), ('neighborhood', 0.9998084), ('much', 0.99980754), ('nice', 0.99980646), ('well', 0.99980605), ('really', 0.99980515), ('needed', 0.999805), ('experience', 0.99980414), ('comfortable', 0.99980134), ('excellent', 0.9997987), ('lovely', 0.99979776), ('coffee', 0.9997962), ('get', 0.9997955), ('night', 0.99979496), ('perfect', 0.99979484), ('stayed', 0.99979424), ('street', 0.99979293), ('away', 0.9997929), ('could', 0.99979025), ('made', 0.9997872), ('george', 0.9997871), ('many', 0.99978644), ('host', 0.9997852), ('quiet', 0.9997852), ('everything', 0.99978435), ('us', 0.999784), ('helpful', 0.99978393), ('stay', 0.9997827), ('soula', 0.9997812), ('enjoyed', 0.9997797), ('house', 0.9997791), ('5', 0.9997748), ('balcony', 0.99977463), ('first', 0.99977404), ('go', 0.99977326), ('beautiful', 0.9997716), ('need', 0.99977154), ('clean', 0.9997713), ('home', 0.9997711), ('easy', 0.9997709), ('visit', 0.9997697), ('location', 0.9997689), ('city', 0.9997684), ('close', 0.9997682), ('kitchen', 0.99976707), ('two', 0.9997651), ('space', 0.99976337), ('haris', 0.99976194), ('around', 0.9997612), ('always', 0.99975663), ('wonderful', 0.9997566), ('room', 0.9997555), ('back', 0.99975413), ('met', 0.99975216), ('acropolis', 0.99974835), ('convenient', 0.9997473), ('located', 0.9997457), ('pygmalion', 0.99974173), ('metro', 0.9997388), ('minutes', 0.9997324), ('restaurants', 0.9997285), ('spacious', 0.9997279), ('equipped', 0.99972165), ('feel', 0.99972093), ('soulas', 0.9997174), ('safe', 0.9997111), ('view', 0.9997109), ('friendly', 0.99971026), ('would', 0.99970853), ('thank', 0.9997071), ('fantastic', 0.99970156), ('gave', 0.9996978), ('walk', 0.9996967), ('thanks', 0.9996931), ('rooftop', 0.9996899), ('central', 0.9996887), ('staying', 0.9996858), ('terrace', 0.9996839), ('station', 0.99968183), ('amazing', 0.99967873), ('recommend', 0.9996653), ('definitely', 0.99959373), ('highly', 0.99953437), ('walking', 0.999465), ('distance', 0.99923027)]\n",
            "always [('always', 0.9999999), ('day', 0.9998458), ('also', 0.99984473), ('soula', 0.99983865), ('get', 0.9998356), ('well', 0.99983245), ('host', 0.99983144), ('apartment', 0.9998308), ('great', 0.9998298), ('need', 0.9998288), ('stayed', 0.99982417), ('needed', 0.9998227), ('quiet', 0.99982166), ('best', 0.9998212), ('area', 0.99982065), ('us', 0.9998204), ('street', 0.99982035), ('helpful', 0.99982005), ('good', 0.99981916), ('comfortable', 0.9998152), ('balcony', 0.9998148), ('perfect', 0.99981475), ('like', 0.9998146), ('one', 0.9998145), ('athens', 0.9998142), ('easy', 0.99981296), ('fotis', 0.99981284), ('stay', 0.99981195), ('coffee', 0.99981135), ('really', 0.999811), ('lovely', 0.9998106), ('night', 0.99981034), ('even', 0.9998103), ('city', 0.99981), ('time', 0.9998083), ('excellent', 0.99980694), ('go', 0.9998065), ('flat', 0.99980617), ('nice', 0.99980503), ('everything', 0.9998049), ('kitchen', 0.9998038), ('room', 0.9998034), ('house', 0.99979925), ('could', 0.9997992), ('neighborhood', 0.9997987), ('george', 0.99979854), ('acropolis', 0.9997963), ('made', 0.999794), ('place', 0.9997914), ('back', 0.9997904), ('haris', 0.9997886), ('location', 0.99978685), ('space', 0.99978685), ('much', 0.99978596), ('around', 0.99978215), ('two', 0.9997779), ('many', 0.999777), ('spacious', 0.9997751), ('beautiful', 0.99977076), ('close', 0.999769), ('experience', 0.99976736), ('enjoyed', 0.999767), ('clean', 0.9997666), ('first', 0.9997665), ('located', 0.9997655), ('friendly', 0.9997647), ('away', 0.9997646), ('wonderful', 0.99976456), ('5', 0.99976444), ('met', 0.9997619), ('pygmalion', 0.99976134), ('central', 0.99975896), ('felt', 0.99975663), ('home', 0.9997533), ('visit', 0.9997531), ('equipped', 0.9997489), ('restaurants', 0.99974024), ('metro', 0.99973965), ('convenient', 0.9997351), ('minutes', 0.99973214), ('amazing', 0.99972755), ('station', 0.9997248), ('view', 0.9997247), ('feel', 0.99972373), ('staying', 0.9997184), ('would', 0.99971783), ('thank', 0.9997173), ('safe', 0.99971086), ('gave', 0.99970883), ('rooftop', 0.9997063), ('terrace', 0.9996946), ('walk', 0.9996724), ('soulas', 0.99967206), ('fantastic', 0.9996687), ('recommend', 0.9996679), ('thanks', 0.9996642), ('definitely', 0.9996009), ('highly', 0.9995466), ('walking', 0.99950516), ('distance', 0.99928284)]\n",
            "feel [('feel', 1.0), ('also', 0.9998258), ('even', 0.999803), ('fotis', 0.9997927), ('day', 0.99979025), ('area', 0.9997789), ('well', 0.9997751), ('us', 0.99977446), ('like', 0.99977326), ('one', 0.9997732), ('made', 0.9997723), ('apartment', 0.9997721), ('everything', 0.99977034), ('experience', 0.9997698), ('time', 0.9997692), ('host', 0.99976873), ('helpful', 0.99976575), ('athens', 0.99976385), ('need', 0.9997628), ('coffee', 0.99976254), ('great', 0.9997609), ('could', 0.9997602), ('street', 0.9997596), ('nice', 0.9997593), ('really', 0.9997588), ('go', 0.9997578), ('balcony', 0.99975723), ('around', 0.99975705), ('soula', 0.9997543), ('comfortable', 0.99975324), ('kitchen', 0.9997531), ('easy', 0.999752), ('get', 0.9997519), ('lovely', 0.999751), ('excellent', 0.99975), ('city', 0.9997484), ('night', 0.99974597), ('neighborhood', 0.9997449), ('quiet', 0.999744), ('needed', 0.99974245), ('wonderful', 0.99974215), ('pygmalion', 0.9997417), ('much', 0.9997416), ('place', 0.99974096), ('george', 0.99973834), ('perfect', 0.9997378), ('good', 0.9997372), ('flat', 0.99973685), ('best', 0.9997368), ('room', 0.99973667), ('stayed', 0.9997342), ('haris', 0.9997339), ('met', 0.9997318), ('close', 0.99972916), ('always', 0.99972373), ('felt', 0.99972093), ('home', 0.999718), ('back', 0.999718), ('two', 0.9997153), ('many', 0.9997148), ('first', 0.99971324), ('house', 0.9997128), ('enjoyed', 0.9997101), ('friendly', 0.9997072), ('stay', 0.99970657), ('space', 0.99970573), ('clean', 0.99970496), ('away', 0.9997049), ('location', 0.9997036), ('gave', 0.99969643), ('located', 0.99969345), ('visit', 0.999693), ('beautiful', 0.9996893), ('restaurants', 0.999687), ('view', 0.9996829), ('metro', 0.9996815), ('convenient', 0.99968123), ('5', 0.9996769), ('central', 0.9996762), ('acropolis', 0.9996719), ('spacious', 0.99966526), ('would', 0.9996491), ('safe', 0.9996474), ('station', 0.9996471), ('thank', 0.9996407), ('minutes', 0.99963903), ('walk', 0.9996356), ('rooftop', 0.99963254), ('terrace', 0.9996325), ('soulas', 0.9996209), ('equipped', 0.9996207), ('staying', 0.99961895), ('thanks', 0.9996178), ('recommend', 0.999603), ('fantastic', 0.9995814), ('amazing', 0.9995742), ('definitely', 0.99952805), ('highly', 0.99945986), ('walking', 0.99944985), ('distance', 0.9991804)]\n"
          ]
        }
      ]
    },
    {
      "cell_type": "markdown",
      "source": [
        "Function to calculate the semantic neighborhood of two words and the 3 divider similarities"
      ],
      "metadata": {
        "id": "fIvDC4mrpXNo"
      }
    },
    {
      "cell_type": "code",
      "source": [
        "from scipy.stats import pearsonr\n",
        "import math\n",
        "\n",
        "def similarity_neighbourhood(x_word, y_word, N):\n",
        "  neighbourhood_x_word = []\n",
        "  neighbourhood_y_word = []\n",
        "  S_w1_N1 = []\n",
        "  S_w2_N2 = []\n",
        "\n",
        "  # Loop through Dictionary\n",
        "  for x,y in similarities_dict.items():\n",
        "    if x_word == x:\n",
        "      print(f\"Similarity Neighbourhood for Word '{x_word}' of {N} items: {y[1:N+1]}\")\n",
        "      neighbourhood_x_word = y[1:N+1]\n",
        "      for items in neighbourhood_x_word:\n",
        "        S_w1_N1.append(items[1])\n",
        "      print(\"\\n\")\n",
        "\n",
        "    if y_word == x:\n",
        "      print(f\"Similarity Neighbourhood for Word '{y_word}' of {N} items: {y[1:N+1]}\")\n",
        "      neighbourhood_y_word = y[1:N+1]\n",
        "      for items in neighbourhood_y_word:\n",
        "        S_w2_N2.append(items[1])\n",
        "      print(\"\\n\")\n",
        "\n",
        "  print(\"Calculating Similarity (a):\")\n",
        "  print(f\"For word '{x_word}': \")\n",
        "  x_max = -100\n",
        "  y_max = -100\n",
        "  max_x_word = ''\n",
        "  max_y_word = ''\n",
        "\n",
        "  # Variables to keep all similarities between neighbourhoods\n",
        "  cor_x = []\n",
        "  cor_y = []\n",
        "  for i, word_i in enumerate(most_commonly_used_words):\n",
        "    if x_word == word_i:\n",
        "      for j, word_j in enumerate(most_commonly_used_words):\n",
        "        if any(word_j == tup[0] for tup in neighbourhood_y_word):\n",
        "          print(f\"Similarity ({word_i}, {word_j}) : {cosine_similarities[i][j]}\")\n",
        "          similarity = cosine_similarities[i][j]\n",
        "          cor_x.append((word_j, similarity))\n",
        "          if cosine_similarities[i][j] > x_max:\n",
        "            x_max = cosine_similarities[i][j]\n",
        "            max_x_word = word_j\n",
        "\n",
        "  print(\"\\n\")\n",
        "  print(f\"For word '{y_word}': \")\n",
        "  for i, word_i in enumerate(most_commonly_used_words):\n",
        "    if y_word == word_i:\n",
        "      for j, word_j in enumerate(most_commonly_used_words):\n",
        "        if any(word_j == tup[0] for tup in neighbourhood_x_word):\n",
        "          print(f\"Similarity ({word_i}, {word_j}) : {cosine_similarities[i][j]}\")\n",
        "          similarity = cosine_similarities[i][j]\n",
        "          cor_y.append((word_j, similarity))\n",
        "          if cosine_similarities[i][j] > y_max:\n",
        "            y_max = cosine_similarities[i][j]\n",
        "            max_y_word = word_j\n",
        "\n",
        "  print(\"\\n\")\n",
        "\n",
        "  if (x_max > y_max):\n",
        "    print(f\"Similarity Max ({x_word}, {max_x_word}) : {x_max}\")\n",
        "  else:\n",
        "    print(f\"Similarity Max ({y_word}, {max_y_word}) : {y_max}\")\n",
        "\n",
        "  print(\"\\n\")\n",
        "  print(\"Calculating similarity (b):\")\n",
        "\n",
        "  S_w1_N2 = []\n",
        "  for x in cor_x:\n",
        "    S_w1_N2.append(x[1])\n",
        "\n",
        "  S_w2_N1 = []\n",
        "  for y in cor_y:\n",
        "    S_w2_N1.append(y[1])\n",
        "\n",
        "  # Calculate Pearson Correlation Coefficient\n",
        "  beta_ij = pearsonr(S_w1_N1, S_w2_N1)\n",
        "  beta_ji = pearsonr(S_w1_N2, S_w2_N2)\n",
        "\n",
        "  # Determine Rn(wi, wj)\n",
        "  Rn_wi_wj = max(beta_ij, beta_ji)\n",
        "\n",
        "  print(f\"Similarity Rn(wi, wj): {Rn_wi_wj}\")\n",
        "  print(\"\\n\")\n",
        "\n",
        "  print(\"Calculating similarity (c):\")\n",
        "\n",
        "  sum_w1 = 0\n",
        "  sum_w2 = 0\n",
        "\n",
        "  for i in S_w1_N2:\n",
        "    sum_w2 += i ** 2\n",
        "\n",
        "  for i in S_w2_N1:\n",
        "    sum_w2 += i ** 2\n",
        "\n",
        "  sum = math.sqrt(sum_w1 + sum_w2)\n",
        "  print(f\"Sum of squared neighbourhood similarities: {sum}\")"
      ],
      "metadata": {
        "id": "uE3ZIgfBpvND"
      },
      "execution_count": 12,
      "outputs": []
    },
    {
      "cell_type": "code",
      "source": [
        "# Test Function\n",
        "\n",
        "words_to_analyze = [\"home\", \"neighborhood\", \"station\"]\n",
        "neighbourhood_sizes = [3, 5, 10]\n",
        "\n",
        "# Function to calculate the changes in similarity for the neighbourhoods\n",
        "def analyze_neighborhood_changes(words, sizes):\n",
        "    for N in sizes:\n",
        "      print(\"--------------------------------\")\n",
        "      print(f\"==== Neighbourhood Size Ν={N} ====\")\n",
        "      print(\"--------------------------------\")\n",
        "      for word in words:\n",
        "        print(\"-------------------------------------------\")\n",
        "        print(f\"Word Neighbourhood '{word}' for Ν={N}:\")\n",
        "        print(\"-------------------------------------------\")\n",
        "        similarity_neighbourhood(word, word, N)\n",
        "        print(\"\\n\")\n",
        "\n",
        "analyze_neighborhood_changes(words_to_analyze, neighbourhood_sizes)"
      ],
      "metadata": {
        "colab": {
          "base_uri": "https://localhost:8080/"
        },
        "id": "k0o7y8vzDjhc",
        "outputId": "5f8ec722-62fa-4e3b-8082-bf0b6df194b8"
      },
      "execution_count": 18,
      "outputs": [
        {
          "output_type": "stream",
          "name": "stdout",
          "text": [
            "--------------------------------\n",
            "==== Neighbourhood Size Ν=3 ====\n",
            "--------------------------------\n",
            "-------------------------------------------\n",
            "Word Neighbourhood 'home' for Ν=3:\n",
            "-------------------------------------------\n",
            "Similarity Neighbourhood for Word 'home' of 3 items: [('like', 0.9998565), ('made', 0.9998372), ('day', 0.9998359)]\n",
            "\n",
            "\n",
            "Similarity Neighbourhood for Word 'home' of 3 items: [('like', 0.9998565), ('made', 0.9998372), ('day', 0.9998359)]\n",
            "\n",
            "\n",
            "Calculating Similarity (a):\n",
            "For word 'home': \n",
            "Similarity (home, day) : 0.9998359084129333\n",
            "Similarity (home, like) : 0.9998564720153809\n",
            "Similarity (home, made) : 0.9998372197151184\n",
            "\n",
            "\n",
            "For word 'home': \n",
            "Similarity (home, day) : 0.9998359084129333\n",
            "Similarity (home, like) : 0.9998564720153809\n",
            "Similarity (home, made) : 0.9998372197151184\n",
            "\n",
            "\n",
            "Similarity Max (home, like) : 0.9998564720153809\n",
            "\n",
            "\n",
            "Calculating similarity (b):\n",
            "Similarity Rn(wi, wj): PearsonRResult(statistic=-0.49999999999999994, pvalue=0.6666666666666667)\n",
            "\n",
            "\n",
            "Calculating similarity (c):\n",
            "Sum of squared neighbourhood similarities: 2.4491056630168564\n",
            "\n",
            "\n",
            "-------------------------------------------\n",
            "Word Neighbourhood 'neighborhood' for Ν=3:\n",
            "-------------------------------------------\n",
            "Similarity Neighbourhood for Word 'neighborhood' of 3 items: [('also', 0.99990845), ('area', 0.99990416), ('street', 0.99990076)]\n",
            "\n",
            "\n",
            "Similarity Neighbourhood for Word 'neighborhood' of 3 items: [('also', 0.99990845), ('area', 0.99990416), ('street', 0.99990076)]\n",
            "\n",
            "\n",
            "Calculating Similarity (a):\n",
            "For word 'neighborhood': \n",
            "Similarity (neighborhood, also) : 0.999908447265625\n",
            "Similarity (neighborhood, area) : 0.9999041557312012\n",
            "Similarity (neighborhood, street) : 0.999900758266449\n",
            "\n",
            "\n",
            "For word 'neighborhood': \n",
            "Similarity (neighborhood, also) : 0.999908447265625\n",
            "Similarity (neighborhood, area) : 0.9999041557312012\n",
            "Similarity (neighborhood, street) : 0.999900758266449\n",
            "\n",
            "\n",
            "Similarity Max (neighborhood, also) : 0.999908447265625\n",
            "\n",
            "\n",
            "Calculating similarity (b):\n",
            "Similarity Rn(wi, wj): PearsonRResult(statistic=1.0, pvalue=0.0)\n",
            "\n",
            "\n",
            "Calculating similarity (c):\n",
            "Sum of squared neighbourhood similarities: 2.4492557032468043\n",
            "\n",
            "\n",
            "-------------------------------------------\n",
            "Word Neighbourhood 'station' for Ν=3:\n",
            "-------------------------------------------\n",
            "Similarity Neighbourhood for Word 'station' of 3 items: [('away', 0.9998486), ('metro', 0.9998457), ('also', 0.99984044)]\n",
            "\n",
            "\n",
            "Similarity Neighbourhood for Word 'station' of 3 items: [('away', 0.9998486), ('metro', 0.9998457), ('also', 0.99984044)]\n",
            "\n",
            "\n",
            "Calculating Similarity (a):\n",
            "For word 'station': \n",
            "Similarity (station, metro) : 0.9998456835746765\n",
            "Similarity (station, also) : 0.9998404383659363\n",
            "Similarity (station, away) : 0.9998486042022705\n",
            "\n",
            "\n",
            "For word 'station': \n",
            "Similarity (station, metro) : 0.9998456835746765\n",
            "Similarity (station, also) : 0.9998404383659363\n",
            "Similarity (station, away) : 0.9998486042022705\n",
            "\n",
            "\n",
            "Similarity Max (station, away) : 0.9998486042022705\n",
            "\n",
            "\n",
            "Calculating similarity (b):\n",
            "Similarity Rn(wi, wj): PearsonRResult(statistic=-0.5, pvalue=0.6666666666666667)\n",
            "\n",
            "\n",
            "Calculating similarity (c):\n",
            "Sum of squared neighbourhood similarities: 2.449109848283628\n",
            "\n",
            "\n",
            "--------------------------------\n",
            "==== Neighbourhood Size Ν=5 ====\n",
            "--------------------------------\n",
            "-------------------------------------------\n",
            "Word Neighbourhood 'home' for Ν=5:\n",
            "-------------------------------------------\n",
            "Similarity Neighbourhood for Word 'home' of 5 items: [('like', 0.9998565), ('made', 0.9998372), ('day', 0.9998359), ('night', 0.9998358), ('apartment', 0.9998356)]\n",
            "\n",
            "\n",
            "Similarity Neighbourhood for Word 'home' of 5 items: [('like', 0.9998565), ('made', 0.9998372), ('day', 0.9998359), ('night', 0.9998358), ('apartment', 0.9998356)]\n",
            "\n",
            "\n",
            "Calculating Similarity (a):\n",
            "For word 'home': \n",
            "Similarity (home, apartment) : 0.9998356103897095\n",
            "Similarity (home, day) : 0.9998359084129333\n",
            "Similarity (home, like) : 0.9998564720153809\n",
            "Similarity (home, night) : 0.9998357892036438\n",
            "Similarity (home, made) : 0.9998372197151184\n",
            "\n",
            "\n",
            "For word 'home': \n",
            "Similarity (home, apartment) : 0.9998356103897095\n",
            "Similarity (home, day) : 0.9998359084129333\n",
            "Similarity (home, like) : 0.9998564720153809\n",
            "Similarity (home, night) : 0.9998357892036438\n",
            "Similarity (home, made) : 0.9998372197151184\n",
            "\n",
            "\n",
            "Similarity Max (home, like) : 0.9998564720153809\n",
            "\n",
            "\n",
            "Calculating similarity (b):\n",
            "Similarity Rn(wi, wj): PearsonRResult(statistic=-0.296428037343246, pvalue=0.6281786893311674)\n",
            "\n",
            "\n",
            "Calculating similarity (c):\n",
            "Sum of squared neighbourhood similarities: 3.161772328137007\n",
            "\n",
            "\n",
            "-------------------------------------------\n",
            "Word Neighbourhood 'neighborhood' for Ν=5:\n",
            "-------------------------------------------\n",
            "Similarity Neighbourhood for Word 'neighborhood' of 5 items: [('also', 0.99990845), ('area', 0.99990416), ('street', 0.99990076), ('good', 0.9999006), ('athens', 0.9998977)]\n",
            "\n",
            "\n",
            "Similarity Neighbourhood for Word 'neighborhood' of 5 items: [('also', 0.99990845), ('area', 0.99990416), ('street', 0.99990076), ('good', 0.9999006), ('athens', 0.9998977)]\n",
            "\n",
            "\n",
            "Calculating Similarity (a):\n",
            "For word 'neighborhood': \n",
            "Similarity (neighborhood, athens) : 0.9998977184295654\n",
            "Similarity (neighborhood, good) : 0.9999005794525146\n",
            "Similarity (neighborhood, also) : 0.999908447265625\n",
            "Similarity (neighborhood, area) : 0.9999041557312012\n",
            "Similarity (neighborhood, street) : 0.999900758266449\n",
            "\n",
            "\n",
            "For word 'neighborhood': \n",
            "Similarity (neighborhood, athens) : 0.9998977184295654\n",
            "Similarity (neighborhood, good) : 0.9999005794525146\n",
            "Similarity (neighborhood, also) : 0.999908447265625\n",
            "Similarity (neighborhood, area) : 0.9999041557312012\n",
            "Similarity (neighborhood, street) : 0.999900758266449\n",
            "\n",
            "\n",
            "Similarity Max (neighborhood, also) : 0.999908447265625\n",
            "\n",
            "\n",
            "Calculating similarity (b):\n",
            "Similarity Rn(wi, wj): PearsonRResult(statistic=-0.5472358954941309, pvalue=0.3397725752957939)\n",
            "\n",
            "\n",
            "Calculating similarity (c):\n",
            "Sum of squared neighbourhood similarities: 3.161968806314706\n",
            "\n",
            "\n",
            "-------------------------------------------\n",
            "Word Neighbourhood 'station' for Ν=5:\n",
            "-------------------------------------------\n",
            "Similarity Neighbourhood for Word 'station' of 5 items: [('away', 0.9998486), ('metro', 0.9998457), ('also', 0.99984044), ('acropolis', 0.9998299), ('5', 0.9998287)]\n",
            "\n",
            "\n",
            "Similarity Neighbourhood for Word 'station' of 5 items: [('away', 0.9998486), ('metro', 0.9998457), ('also', 0.99984044), ('acropolis', 0.9998299), ('5', 0.9998287)]\n",
            "\n",
            "\n",
            "Calculating Similarity (a):\n",
            "For word 'station': \n",
            "Similarity (station, metro) : 0.9998456835746765\n",
            "Similarity (station, also) : 0.9998404383659363\n",
            "Similarity (station, acropolis) : 0.999829888343811\n",
            "Similarity (station, away) : 0.9998486042022705\n",
            "Similarity (station, 5) : 0.9998286962509155\n",
            "\n",
            "\n",
            "For word 'station': \n",
            "Similarity (station, metro) : 0.9998456835746765\n",
            "Similarity (station, also) : 0.9998404383659363\n",
            "Similarity (station, acropolis) : 0.999829888343811\n",
            "Similarity (station, away) : 0.9998486042022705\n",
            "Similarity (station, 5) : 0.9998286962509155\n",
            "\n",
            "\n",
            "Similarity Max (station, away) : 0.9998486042022705\n",
            "\n",
            "\n",
            "Calculating similarity (b):\n",
            "Similarity Rn(wi, wj): PearsonRResult(statistic=0.24049026795125947, pvalue=0.6967759892050923)\n",
            "\n",
            "\n",
            "Calculating similarity (c):\n",
            "Sum of squared neighbourhood similarities: 3.161767465185361\n",
            "\n",
            "\n",
            "--------------------------------\n",
            "==== Neighbourhood Size Ν=10 ====\n",
            "--------------------------------\n",
            "-------------------------------------------\n",
            "Word Neighbourhood 'home' for Ν=10:\n",
            "-------------------------------------------\n",
            "Similarity Neighbourhood for Word 'home' of 10 items: [('like', 0.9998565), ('made', 0.9998372), ('day', 0.9998359), ('night', 0.9998358), ('apartment', 0.9998356), ('also', 0.99983484), ('flat', 0.9998316), ('athens', 0.99982786), ('time', 0.999825), ('get', 0.9998237)]\n",
            "\n",
            "\n",
            "Similarity Neighbourhood for Word 'home' of 10 items: [('like', 0.9998565), ('made', 0.9998372), ('day', 0.9998359), ('night', 0.9998358), ('apartment', 0.9998356), ('also', 0.99983484), ('flat', 0.9998316), ('athens', 0.99982786), ('time', 0.999825), ('get', 0.9998237)]\n",
            "\n",
            "\n",
            "Calculating Similarity (a):\n",
            "For word 'home': \n",
            "Similarity (home, apartment) : 0.9998356103897095\n",
            "Similarity (home, athens) : 0.9998278617858887\n",
            "Similarity (home, flat) : 0.9998316168785095\n",
            "Similarity (home, also) : 0.9998348355293274\n",
            "Similarity (home, time) : 0.9998250007629395\n",
            "Similarity (home, get) : 0.9998236894607544\n",
            "Similarity (home, day) : 0.9998359084129333\n",
            "Similarity (home, like) : 0.9998564720153809\n",
            "Similarity (home, night) : 0.9998357892036438\n",
            "Similarity (home, made) : 0.9998372197151184\n",
            "\n",
            "\n",
            "For word 'home': \n",
            "Similarity (home, apartment) : 0.9998356103897095\n",
            "Similarity (home, athens) : 0.9998278617858887\n",
            "Similarity (home, flat) : 0.9998316168785095\n",
            "Similarity (home, also) : 0.9998348355293274\n",
            "Similarity (home, time) : 0.9998250007629395\n",
            "Similarity (home, get) : 0.9998236894607544\n",
            "Similarity (home, day) : 0.9998359084129333\n",
            "Similarity (home, like) : 0.9998564720153809\n",
            "Similarity (home, night) : 0.9998357892036438\n",
            "Similarity (home, made) : 0.9998372197151184\n",
            "\n",
            "\n",
            "Similarity Max (home, like) : 0.9998564720153809\n",
            "\n",
            "\n",
            "Calculating similarity (b):\n",
            "Similarity Rn(wi, wj): PearsonRResult(statistic=-0.2692004721634058, pvalue=0.4519756045680021)\n",
            "\n",
            "\n",
            "Calculating similarity (c):\n",
            "Sum of squared neighbourhood similarities: 4.4713953713119965\n",
            "\n",
            "\n",
            "-------------------------------------------\n",
            "Word Neighbourhood 'neighborhood' for Ν=10:\n",
            "-------------------------------------------\n",
            "Similarity Neighbourhood for Word 'neighborhood' of 10 items: [('also', 0.99990845), ('area', 0.99990416), ('street', 0.99990076), ('good', 0.9999006), ('athens', 0.9998977), ('coffee', 0.99988705), ('many', 0.99988693), ('close', 0.99988675), ('even', 0.9998853), ('apartment', 0.9998839)]\n",
            "\n",
            "\n",
            "Similarity Neighbourhood for Word 'neighborhood' of 10 items: [('also', 0.99990845), ('area', 0.99990416), ('street', 0.99990076), ('good', 0.9999006), ('athens', 0.9998977), ('coffee', 0.99988705), ('many', 0.99988693), ('close', 0.99988675), ('even', 0.9998853), ('apartment', 0.9998839)]\n",
            "\n",
            "\n",
            "Calculating Similarity (a):\n",
            "For word 'neighborhood': \n",
            "Similarity (neighborhood, apartment) : 0.9998838901519775\n",
            "Similarity (neighborhood, athens) : 0.9998977184295654\n",
            "Similarity (neighborhood, good) : 0.9999005794525146\n",
            "Similarity (neighborhood, also) : 0.999908447265625\n",
            "Similarity (neighborhood, close) : 0.9998867511749268\n",
            "Similarity (neighborhood, even) : 0.9998853206634521\n",
            "Similarity (neighborhood, area) : 0.9999041557312012\n",
            "Similarity (neighborhood, many) : 0.9998869299888611\n",
            "Similarity (neighborhood, street) : 0.999900758266449\n",
            "Similarity (neighborhood, coffee) : 0.9998870491981506\n",
            "\n",
            "\n",
            "For word 'neighborhood': \n",
            "Similarity (neighborhood, apartment) : 0.9998838901519775\n",
            "Similarity (neighborhood, athens) : 0.9998977184295654\n",
            "Similarity (neighborhood, good) : 0.9999005794525146\n",
            "Similarity (neighborhood, also) : 0.999908447265625\n",
            "Similarity (neighborhood, close) : 0.9998867511749268\n",
            "Similarity (neighborhood, even) : 0.9998853206634521\n",
            "Similarity (neighborhood, area) : 0.9999041557312012\n",
            "Similarity (neighborhood, many) : 0.9998869299888611\n",
            "Similarity (neighborhood, street) : 0.999900758266449\n",
            "Similarity (neighborhood, coffee) : 0.9998870491981506\n",
            "\n",
            "\n",
            "Similarity Max (neighborhood, also) : 0.999908447265625\n",
            "\n",
            "\n",
            "Calculating similarity (b):\n",
            "Similarity Rn(wi, wj): PearsonRResult(statistic=0.07459125735803715, pvalue=0.8377364431637233)\n",
            "\n",
            "\n",
            "Calculating similarity (c):\n",
            "Sum of squared neighbourhood similarities: 4.471662624440537\n",
            "\n",
            "\n",
            "-------------------------------------------\n",
            "Word Neighbourhood 'station' for Ν=10:\n",
            "-------------------------------------------\n",
            "Similarity Neighbourhood for Word 'station' of 10 items: [('away', 0.9998486), ('metro', 0.9998457), ('also', 0.99984044), ('acropolis', 0.9998299), ('5', 0.9998287), ('area', 0.99982744), ('minutes', 0.9998273), ('city', 0.9998252), ('close', 0.9998239), ('even', 0.99982154)]\n",
            "\n",
            "\n",
            "Similarity Neighbourhood for Word 'station' of 10 items: [('away', 0.9998486), ('metro', 0.9998457), ('also', 0.99984044), ('acropolis', 0.9998299), ('5', 0.9998287), ('area', 0.99982744), ('minutes', 0.9998273), ('city', 0.9998252), ('close', 0.9998239), ('even', 0.99982154)]\n",
            "\n",
            "\n",
            "Calculating Similarity (a):\n",
            "For word 'station': \n",
            "Similarity (station, metro) : 0.9998456835746765\n",
            "Similarity (station, also) : 0.9998404383659363\n",
            "Similarity (station, close) : 0.9998239278793335\n",
            "Similarity (station, acropolis) : 0.999829888343811\n",
            "Similarity (station, even) : 0.9998215436935425\n",
            "Similarity (station, city) : 0.9998251795768738\n",
            "Similarity (station, area) : 0.9998274445533752\n",
            "Similarity (station, minutes) : 0.9998273253440857\n",
            "Similarity (station, away) : 0.9998486042022705\n",
            "Similarity (station, 5) : 0.9998286962509155\n",
            "\n",
            "\n",
            "For word 'station': \n",
            "Similarity (station, metro) : 0.9998456835746765\n",
            "Similarity (station, also) : 0.9998404383659363\n",
            "Similarity (station, close) : 0.9998239278793335\n",
            "Similarity (station, acropolis) : 0.999829888343811\n",
            "Similarity (station, even) : 0.9998215436935425\n",
            "Similarity (station, city) : 0.9998251795768738\n",
            "Similarity (station, area) : 0.9998274445533752\n",
            "Similarity (station, minutes) : 0.9998273253440857\n",
            "Similarity (station, away) : 0.9998486042022705\n",
            "Similarity (station, 5) : 0.9998286962509155\n",
            "\n",
            "\n",
            "Similarity Max (station, away) : 0.9998486042022705\n",
            "\n",
            "\n",
            "Calculating similarity (b):\n",
            "Similarity Rn(wi, wj): PearsonRResult(statistic=0.3667540524253372, pvalue=0.2972080803841168)\n",
            "\n",
            "\n",
            "Calculating similarity (c):\n",
            "Sum of squared neighbourhood similarities: 4.471384069177886\n",
            "\n",
            "\n"
          ]
        }
      ]
    },
    {
      "cell_type": "markdown",
      "source": [
        "Αξιολόγηση Απόδοσης\n",
        "Όσον αφορά την ακρίβεια, δηλαδή το συνολικό ποσοστό σωστών προβλέψεων, παρατηρούμε ότι τα μοντέλα με χαρακτηριστικά Word Embeddings αποδίδουν καλύτερα, εκτός από το SVM, όπου τα αποτελέσματα είναι παρόμοια. Η χρήση του μοντέλου ΚΝΝ με χαρακτηριστικά TFIDF παρουσιάζει αρκετά χαμηλή συνολική απόδοση. Αναφορικά με τη μετρική F1, η οποία αποτελεί το αρμονικό μέσο των μετρικών Precision και Recall, τα αποτελέσματα του Cross Validation δείχνουν καλύτερη απόδοση στις μετρικές με τη χρήση χαρακτηριστικών TFIDF. Αντιθέτως, στα Test Data, η μετρική F1 παρουσιάζει καλύτερα αποτελέσματα στα μοντέλα που χρησιμοποιούν χαρακτηριστικά Word Embeddings. Σε γενικές γραμμές, τα αποτελέσματα είναι αξιόλογα όσον αφορά τη μετρική F1 σε όλα τα μοντέλα, φθάνοντας περίπου το 31%.\n",
        "\n",
        "Συμπεράσματα\n",
        "Με την αύξηση της παραμέτρου Ν, παρατηρούμε ότι αυξάνεται το similarity (c) του αθροίσματος των τετραγώνων των similarities των λέξεων στις γειτονιές. Αντιθέτως, το similarity (b) μειώνεται. Όσον αφορά το similarity (a), δεν είναι βέβαιο αν θα αυξηθεί ή θα μειωθεί, καθώς αυτό εξαρτάται από το αν με την αύξηση της διάστασης των γειτονιών βρεθεί κάποια λέξη που έχει μεγαλύτερο similarity με τη λέξη της άλλης γειτονιάς. Παρουσιάζουμε παρακάτω κάποιες γειτονιές λέξεων αλλάζοντας την παράμετρο Ν."
      ],
      "metadata": {
        "id": "OP0dMgPPFrqd"
      }
    }
  ]
}