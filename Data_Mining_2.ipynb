{
  "nbformat": 4,
  "nbformat_minor": 0,
  "metadata": {
    "colab": {
      "provenance": [],
      "authorship_tag": "ABX9TyMULrjsqqH2UmjTYAevbyTE",
      "include_colab_link": true
    },
    "kernelspec": {
      "name": "python3",
      "display_name": "Python 3"
    },
    "language_info": {
      "name": "python"
    }
  },
  "cells": [
    {
      "cell_type": "markdown",
      "metadata": {
        "id": "view-in-github",
        "colab_type": "text"
      },
      "source": [
        "<a href=\"https://colab.research.google.com/github/GeorgeSakketos/Data_Mining_Exercice_02/blob/main/Data_Mining_2.ipynb\" target=\"_parent\"><img src=\"https://colab.research.google.com/assets/colab-badge.svg\" alt=\"Open In Colab\"/></a>"
      ]
    },
    {
      "cell_type": "markdown",
      "source": [
        "# Connect Google Drive"
      ],
      "metadata": {
        "id": "MZdDfwfDvOM7"
      }
    },
    {
      "cell_type": "code",
      "execution_count": 5,
      "metadata": {
        "colab": {
          "base_uri": "https://localhost:8080/"
        },
        "id": "4dQ4s_a3um25",
        "outputId": "2e0ff3f1-6055-4456-86a3-6dc5bd043af0"
      },
      "outputs": [
        {
          "output_type": "stream",
          "name": "stdout",
          "text": [
            "Drive already mounted at /content/gdrive; to attempt to forcibly remount, call drive.mount(\"/content/gdrive\", force_remount=True).\n"
          ]
        }
      ],
      "source": [
        "from google.colab import drive\n",
        "drive.mount('/content/gdrive')"
      ]
    },
    {
      "cell_type": "markdown",
      "source": [
        "# **Μέρος 1**"
      ],
      "metadata": {
        "id": "nXBBv32iv6ju"
      }
    },
    {
      "cell_type": "code",
      "source": [
        "# Dependences\n",
        "!pip install transformers emoji langdetect langid"
      ],
      "metadata": {
        "colab": {
          "base_uri": "https://localhost:8080/"
        },
        "id": "n-07vLa03J--",
        "outputId": "0e4ee2b4-3bed-4f7a-c581-64fb6966c80d"
      },
      "execution_count": 7,
      "outputs": [
        {
          "output_type": "stream",
          "name": "stdout",
          "text": [
            "Requirement already satisfied: transformers in /usr/local/lib/python3.10/dist-packages (4.41.1)\n",
            "Collecting emoji\n",
            "  Downloading emoji-2.12.1-py3-none-any.whl (431 kB)\n",
            "\u001b[2K     \u001b[90m━━━━━━━━━━━━━━━━━━━━━━━━━━━━━━━━━━━━━━━━\u001b[0m \u001b[32m431.4/431.4 kB\u001b[0m \u001b[31m11.8 MB/s\u001b[0m eta \u001b[36m0:00:00\u001b[0m\n",
            "\u001b[?25hCollecting langdetect\n",
            "  Downloading langdetect-1.0.9.tar.gz (981 kB)\n",
            "\u001b[2K     \u001b[90m━━━━━━━━━━━━━━━━━━━━━━━━━━━━━━━━━━━━━━━━\u001b[0m \u001b[32m981.5/981.5 kB\u001b[0m \u001b[31m52.1 MB/s\u001b[0m eta \u001b[36m0:00:00\u001b[0m\n",
            "\u001b[?25h  Preparing metadata (setup.py) ... \u001b[?25l\u001b[?25hdone\n",
            "Collecting langid\n",
            "  Downloading langid-1.1.6.tar.gz (1.9 MB)\n",
            "\u001b[2K     \u001b[90m━━━━━━━━━━━━━━━━━━━━━━━━━━━━━━━━━━━━━━━━\u001b[0m \u001b[32m1.9/1.9 MB\u001b[0m \u001b[31m87.3 MB/s\u001b[0m eta \u001b[36m0:00:00\u001b[0m\n",
            "\u001b[?25h  Preparing metadata (setup.py) ... \u001b[?25l\u001b[?25hdone\n",
            "Requirement already satisfied: filelock in /usr/local/lib/python3.10/dist-packages (from transformers) (3.14.0)\n",
            "Requirement already satisfied: huggingface-hub<1.0,>=0.23.0 in /usr/local/lib/python3.10/dist-packages (from transformers) (0.23.1)\n",
            "Requirement already satisfied: numpy>=1.17 in /usr/local/lib/python3.10/dist-packages (from transformers) (1.25.2)\n",
            "Requirement already satisfied: packaging>=20.0 in /usr/local/lib/python3.10/dist-packages (from transformers) (24.0)\n",
            "Requirement already satisfied: pyyaml>=5.1 in /usr/local/lib/python3.10/dist-packages (from transformers) (6.0.1)\n",
            "Requirement already satisfied: regex!=2019.12.17 in /usr/local/lib/python3.10/dist-packages (from transformers) (2024.5.15)\n",
            "Requirement already satisfied: requests in /usr/local/lib/python3.10/dist-packages (from transformers) (2.31.0)\n",
            "Requirement already satisfied: tokenizers<0.20,>=0.19 in /usr/local/lib/python3.10/dist-packages (from transformers) (0.19.1)\n",
            "Requirement already satisfied: safetensors>=0.4.1 in /usr/local/lib/python3.10/dist-packages (from transformers) (0.4.3)\n",
            "Requirement already satisfied: tqdm>=4.27 in /usr/local/lib/python3.10/dist-packages (from transformers) (4.66.4)\n",
            "Requirement already satisfied: typing-extensions>=4.7.0 in /usr/local/lib/python3.10/dist-packages (from emoji) (4.11.0)\n",
            "Requirement already satisfied: six in /usr/local/lib/python3.10/dist-packages (from langdetect) (1.16.0)\n",
            "Requirement already satisfied: fsspec>=2023.5.0 in /usr/local/lib/python3.10/dist-packages (from huggingface-hub<1.0,>=0.23.0->transformers) (2023.6.0)\n",
            "Requirement already satisfied: charset-normalizer<4,>=2 in /usr/local/lib/python3.10/dist-packages (from requests->transformers) (3.3.2)\n",
            "Requirement already satisfied: idna<4,>=2.5 in /usr/local/lib/python3.10/dist-packages (from requests->transformers) (3.7)\n",
            "Requirement already satisfied: urllib3<3,>=1.21.1 in /usr/local/lib/python3.10/dist-packages (from requests->transformers) (2.0.7)\n",
            "Requirement already satisfied: certifi>=2017.4.17 in /usr/local/lib/python3.10/dist-packages (from requests->transformers) (2024.2.2)\n",
            "Building wheels for collected packages: langdetect, langid\n",
            "  Building wheel for langdetect (setup.py) ... \u001b[?25l\u001b[?25hdone\n",
            "  Created wheel for langdetect: filename=langdetect-1.0.9-py3-none-any.whl size=993227 sha256=4c25206c3b7f6d147a4557aff0cd3b76c8a7b16515df7f3bbf97bf6bbc57f214\n",
            "  Stored in directory: /root/.cache/pip/wheels/95/03/7d/59ea870c70ce4e5a370638b5462a7711ab78fba2f655d05106\n",
            "  Building wheel for langid (setup.py) ... \u001b[?25l\u001b[?25hdone\n",
            "  Created wheel for langid: filename=langid-1.1.6-py3-none-any.whl size=1941172 sha256=b79a43210fab77bb13648dda6ef5e156fcfd67f8544198cf78f9140e126c3d10\n",
            "  Stored in directory: /root/.cache/pip/wheels/23/c8/c6/eed80894918490a175677414d40bd7c851413bbe03d4856c3c\n",
            "Successfully built langdetect langid\n",
            "Installing collected packages: langid, langdetect, emoji\n",
            "Successfully installed emoji-2.12.1 langdetect-1.0.9 langid-1.1.6\n"
          ]
        }
      ]
    },
    {
      "cell_type": "code",
      "source": [
        "import pandas as pd\n",
        "import numpy as np\n",
        "from transformers import pipeline\n",
        "from nltk.corpus import stopwords\n",
        "from nltk.tokenize import word_tokenize\n",
        "from collections import Counter\n",
        "from gensim.models import Word2Vec\n",
        "from langdetect import detect\n",
        "import string\n",
        "import re\n",
        "import nltk\n",
        "import sys\n",
        "\n",
        "nltk.download('stopwords')\n",
        "nltk.download('punkt')\n",
        "\n",
        "print('Python version ' + sys.version)\n",
        "\n",
        "filePath = '/content/gdrive/My Drive/Data_Mining_CSV/2023/'"
      ],
      "metadata": {
        "colab": {
          "base_uri": "https://localhost:8080/"
        },
        "id": "bdZa0I-Av91k",
        "outputId": "ba0585cd-1107-4bc3-e857-fe7b445d5ccd"
      },
      "execution_count": 17,
      "outputs": [
        {
          "output_type": "stream",
          "name": "stdout",
          "text": [
            "Python version 3.10.12 (main, Nov 20 2023, 15:14:05) [GCC 11.4.0]\n"
          ]
        },
        {
          "output_type": "stream",
          "name": "stderr",
          "text": [
            "[nltk_data] Downloading package stopwords to /root/nltk_data...\n",
            "[nltk_data]   Package stopwords is already up-to-date!\n",
            "[nltk_data] Downloading package punkt to /root/nltk_data...\n",
            "[nltk_data]   Package punkt is already up-to-date!\n"
          ]
        }
      ]
    },
    {
      "cell_type": "markdown",
      "source": [
        "June"
      ],
      "metadata": {
        "id": "RH241NuNwR-_"
      }
    },
    {
      "cell_type": "code",
      "source": [
        "#Read June CSV\n",
        "filePath_june = filePath + 'june/'\n",
        "june_listings_2023 = pd.read_csv(filePath_june + 'reviews.csv', thousands = ',')\n",
        "\n",
        "# Keep the Columns we want\n",
        "june_listings_2023 = june_listings_2023[['id', 'comments']]"
      ],
      "metadata": {
        "id": "u3tj4rwCwcRq"
      },
      "execution_count": null,
      "outputs": []
    },
    {
      "cell_type": "markdown",
      "source": [
        "March"
      ],
      "metadata": {
        "id": "5TzNcxdqxNMv"
      }
    },
    {
      "cell_type": "code",
      "source": [
        "#Read March CSV\n",
        "filePath_march = filePath + 'march/'\n",
        "march_listings_2023 = pd.read_csv(filePath_march + 'reviews.csv', thousands = ',')\n",
        "\n",
        "# Keep the Columns we want\n",
        "march_listings_2023 = march_listings_2023[['id', 'comments']]"
      ],
      "metadata": {
        "id": "fIvfoEyexO0c"
      },
      "execution_count": null,
      "outputs": []
    },
    {
      "cell_type": "markdown",
      "source": [
        "September"
      ],
      "metadata": {
        "id": "ym515YjTxXlH"
      }
    },
    {
      "cell_type": "code",
      "source": [
        "#Read September CSV\n",
        "filePath_september = filePath + 'september/'\n",
        "september_listings_2023 = pd.read_csv(filePath_september + 'reviews.csv', thousands = ',')\n",
        "\n",
        "# Keep the Columns we want\n",
        "september_listings_2023 = september_listings_2023[['id', 'comments']]"
      ],
      "metadata": {
        "id": "hvbF98d0xZAZ"
      },
      "execution_count": null,
      "outputs": []
    },
    {
      "cell_type": "markdown",
      "source": [
        "Combine Dataframes"
      ],
      "metadata": {
        "id": "m0jmWxt6xora"
      }
    },
    {
      "cell_type": "code",
      "source": [
        "dfs = [june_listings_2023, march_listings_2023, september_listings_2023]\n",
        "\n",
        "# Combine June, March and September into one Dataframe\n",
        "final_reviews_2023 = pd.concat(dfs, ignore_index = True)\n",
        "\n",
        "# Reset Index\n",
        "final_reviews_2023 = final_reviews_2023.reset_index(drop=True)"
      ],
      "metadata": {
        "id": "i6CxZwwSxqc6"
      },
      "execution_count": null,
      "outputs": []
    },
    {
      "cell_type": "markdown",
      "source": [
        "Clean the Data"
      ],
      "metadata": {
        "id": "kqN5zbxWywqC"
      }
    },
    {
      "cell_type": "code",
      "source": [
        "# Rename 'comments' column to 'review'\n",
        "final_reviews_2023 = final_reviews_2023.rename(columns={\"comments\": \"review\"})\n",
        "\n",
        "# Remove NaN lines\n",
        "final_reviews_2023 = final_reviews_2023.dropna()\n",
        "\n",
        "# Remove Duplicate IDs\n",
        "final_reviews_2023 = final_reviews_2023.drop_duplicates(subset='id', keep='first')\n",
        "\n",
        "# Convert 'review' to lowercase\n",
        "final_reviews_2023['review'] = final_reviews_2023['review'].str.lower()\n",
        "\n",
        "# Remove emojis\n",
        "final_reviews_2023['review'] = final_reviews_2023['review'].str.replace(r'[\\U0001F600-\\U0001F64F]', '', regex=True)  # emoticons\n",
        "final_reviews_2023['review'] = final_reviews_2023['review'].str.replace(r'[\\U0001F300-\\U0001F5FF]', '', regex=True)  # symbols & pictographs\n",
        "final_reviews_2023['review'] = final_reviews_2023['review'].str.replace(r'[\\U0001F680-\\U0001F6FF]', '', regex=True)  # transport & map symbols\n",
        "final_reviews_2023['review'] = final_reviews_2023['review'].str.replace(r'[\\U0001F1E0-\\U0001F1FF]', '', regex=True)  # flags (iOS)\n",
        "\n",
        "# Remove URLs\n",
        "final_reviews_2023['review'] = final_reviews_2023['review'].str.replace(r'http\\S+|www.\\S+', '', regex=True)\n",
        "\n",
        "# Remove hashtags\n",
        "final_reviews_2023['review'] = final_reviews_2023['review'].str.replace(r'#\\w+', '', regex=True)\n",
        "\n",
        "# Remove special characters (keeping only alphanumeric and spaces)\n",
        "final_reviews_2023['review'] = final_reviews_2023['review'].str.replace(r'[^A-Za-z0-9 ]+', '', regex=True)\n",
        "\n",
        "# Remove stopwords\n",
        "stop_words = set(stopwords.words('english'))\n",
        "final_reviews_2023['review'] = final_reviews_2023['review'].apply(lambda x: ' '.join(word for word in x.split() if word not in stop_words))\n",
        "\n",
        "final_reviews_2023 = final_reviews_2023.reset_index(drop = True)\n",
        "pd.set_option('display.max_colwidth', None)\n",
        "print(final_reviews_2023['review'])"
      ],
      "metadata": {
        "collapsed": true,
        "id": "e4OC_0BcyyZC",
        "colab": {
          "base_uri": "https://localhost:8080/"
        },
        "outputId": "f59efc42-272b-444d-dcad-f98725cf5388"
      },
      "execution_count": null,
      "outputs": [
        {
          "output_type": "stream",
          "name": "stdout",
          "text": [
            "0                                                                                                                                                                                                                                                                              apartment wonderful fully equiped beautiful decor comfortable verry clean would stay possibly another host properties close metro markets grocery store conveniences\n",
            "1         emmanouil excellent host provided us everything need make feel right home gave us tips directions destinations even prior trip kept close contact gave us specific easy instructions get place place spacious comfortable everything neat organized always great place come back adventurous day athens transportation easily accessible place located quiet neighborhood stay amazing experience wouldnt hesitate stay recommend friends\n",
            "2                                                                                                                                                                                        wife daughter spent five days beauty light colors athens also thanks home soula apartment enjoyed space indoor outdoor furniture paintings mosaics know soula person known loved taste generous hospitality therefore highly recommend apartment hope back\n",
            "3                                                                                                           great stay soulas apartment loved decoration furniture paintings mosaics amd relaxing terrace apartment good energy makes relax clean also close metro station taxi stop soula accessible ever needed anything responded immediately although dont know soula person like generous hospitalityi highly recommend staying hope visit day\n",
            "4                                                                                                                                                                          beautiful clean apartment plenty space stayed partner lovely time even though booked last minute like 8pm day arrived midnight soula incredibly kind arranged driver waiting pick us fully stocked cookware incredibly comfy sofa nice quiet evening perfect thank soula\n",
            "                                                                                                                                                                                                                            ...                                                                                                                                                                                                                    \n",
            "598926                                                                                                                                                                                                                                                                                                                                                                                                                                             \n",
            "598927                                                                                                                                                                                                                                                                                                                                                                                                                                           br\n",
            "598928                                                                                                                                                                                                                                                                                                                                                                                                                                             \n",
            "598929                                                                                                                                                                                                                                                                                                                                                                                                                                 br cozy brbr\n",
            "598930                                                                                                                                                                                                                                                                                                                                                                                                                                             \n",
            "Name: review, Length: 598931, dtype: object\n"
          ]
        }
      ]
    },
    {
      "cell_type": "markdown",
      "source": [
        "Export Dataframe to CSV"
      ],
      "metadata": {
        "id": "lMtScmkV0Qy9"
      }
    },
    {
      "cell_type": "code",
      "source": [
        "final_reviews_2023.to_csv('/content/gdrive/My Drive/Data_Mining_CSV/2023/comments_2023.csv', index = False)"
      ],
      "metadata": {
        "id": "JT1woIRP0S_N"
      },
      "execution_count": null,
      "outputs": []
    },
    {
      "cell_type": "markdown",
      "source": [
        "Open comments_2023 CSV"
      ],
      "metadata": {
        "id": "g3TcmoRt0asw"
      }
    },
    {
      "cell_type": "code",
      "source": [
        "comments_2023 = pd.read_csv(filePath + 'comments_2023.csv')"
      ],
      "metadata": {
        "id": "4itHxfYSr8Iy"
      },
      "execution_count": null,
      "outputs": []
    },
    {
      "cell_type": "markdown",
      "source": [
        "Keep Only English Reviews"
      ],
      "metadata": {
        "id": "3KKAojV1In0s"
      }
    },
    {
      "cell_type": "code",
      "source": [
        "import langid\n",
        "\n",
        "def is_english(text):\n",
        "    lang, _ = langid.classify(text)\n",
        "    return lang == 'en'\n",
        "\n",
        "# Copy the first 50000 reviews and drop rows with NaN values in the 'review' column\n",
        "english_reviews_2023 = comments_2023.head(10000).copy().dropna(subset=['review'])\n",
        "\n",
        "# Apply the is_english function\n",
        "english_reviews_2023.loc[:, 'is_english'] = english_reviews_2023['review'].apply(is_english)\n",
        "\n",
        "# Filter reviews that are in English\n",
        "english_reviews_2023 = english_reviews_2023[english_reviews_2023['is_english']]\n",
        "\n",
        "print(len(english_reviews_2023))"
      ],
      "metadata": {
        "colab": {
          "base_uri": "https://localhost:8080/"
        },
        "id": "uEk4rIchIpoc",
        "outputId": "18dfb1e4-9690-436f-8f37-d93e3a635db1"
      },
      "execution_count": null,
      "outputs": [
        {
          "output_type": "stream",
          "name": "stdout",
          "text": [
            "8126\n"
          ]
        }
      ]
    },
    {
      "cell_type": "markdown",
      "source": [
        "Use HuggingFace Model"
      ],
      "metadata": {
        "id": "ryfKMyyAL4IN"
      }
    },
    {
      "cell_type": "code",
      "source": [
        "from transformers import AutoModelForSequenceClassification, AutoTokenizer\n",
        "import torch\n",
        "\n",
        "english_reviews_2023 = english_reviews_2023.head(1000)\n",
        "\n",
        "# Create a copy\n",
        "english_reviews_2023 = english_reviews_2023.copy()\n",
        "\n",
        "# Model\n",
        "model = AutoModelForSequenceClassification.from_pretrained(\"j-hartmann/sentiment-roberta-large-english-3-classes\")\n",
        "tokenizer = AutoTokenizer.from_pretrained(\"j-hartmann/sentiment-roberta-large-english-3-classes\")\n",
        "nlp = pipeline(\"text-classification\",model = model,tokenizer = tokenizer)\n",
        "\n",
        "# Batch Size (ex. 100)\n",
        "batch_size = 100\n",
        "\n",
        "# Function to split reviews into chunks and process them\n",
        "def batch_process_reviews(reviews, batch_size):\n",
        "  sentiments = []\n",
        "  for i in range(0, len(reviews), batch_size):\n",
        "    print(i)\n",
        "    batch = reviews[i:i + batch_size]\n",
        "    results = nlp(batch.tolist())\n",
        "    sentiments.extend([result['label'] for result in results])\n",
        "  return sentiments\n",
        "\n",
        "# Process reviews and get sentiments\n",
        "reviews = english_reviews_2023['review']\n",
        "english_reviews_2023['sentiment'] = batch_process_reviews(reviews, batch_size)\n",
        "\n",
        "print(english_reviews_2023.tail(30))"
      ],
      "metadata": {
        "colab": {
          "base_uri": "https://localhost:8080/"
        },
        "id": "bDCJez0TL6QN",
        "outputId": "d1cfe6a8-965c-4eb1-c9c6-49480ac28cff"
      },
      "execution_count": null,
      "outputs": [
        {
          "output_type": "stream",
          "name": "stderr",
          "text": [
            "Some weights of the model checkpoint at j-hartmann/sentiment-roberta-large-english-3-classes were not used when initializing RobertaForSequenceClassification: ['roberta.pooler.dense.bias', 'roberta.pooler.dense.weight']\n",
            "- This IS expected if you are initializing RobertaForSequenceClassification from the checkpoint of a model trained on another task or with another architecture (e.g. initializing a BertForSequenceClassification model from a BertForPreTraining model).\n",
            "- This IS NOT expected if you are initializing RobertaForSequenceClassification from the checkpoint of a model that you expect to be exactly identical (initializing a BertForSequenceClassification model from a BertForSequenceClassification model).\n"
          ]
        },
        {
          "output_type": "stream",
          "name": "stdout",
          "text": [
            "0\n",
            "100\n",
            "200\n",
            "300\n",
            "400\n",
            "500\n",
            "600\n",
            "700\n",
            "800\n",
            "900\n",
            "             id  \\\n",
            "1209   42132595   \n",
            "1210   42880906   \n",
            "1212   46293806   \n",
            "1213   46898313   \n",
            "1214   47372696   \n",
            "1215   48403285   \n",
            "1216   49349061   \n",
            "1218   50110504   \n",
            "1220   51076992   \n",
            "1221   52156958   \n",
            "1222  506142716   \n",
            "1223  507120567   \n",
            "1224  508563746   \n",
            "1225  510635774   \n",
            "1226   15862307   \n",
            "1227   15903565   \n",
            "1228   15960120   \n",
            "1229   16015311   \n",
            "1230   16200492   \n",
            "1231   16372257   \n",
            "1232   16452740   \n",
            "1233   16618774   \n",
            "1235   16976482   \n",
            "1236   17059710   \n",
            "1237   17246247   \n",
            "1238   17266918   \n",
            "1239  519780429   \n",
            "1241  524486588   \n",
            "1242  525166229   \n",
            "1245   52999674   \n",
            "\n",
            "                                                                                                                                                                                                                                                                                                                                                                                                                                                                                                                                                                                                                                                                   review  \\\n",
            "1209                                                                                                                                                                                                                                                                     first greek home immediately felt home comfortable stella nice explain functions house right start pygmalion responsive helpful inquiries even helped us book taxi airport house exactly looks like photos vey homey comfortable bit away city center makes great oh mention love local gyro restaurant turn right first left think ate everyday food great location flat near metro supermarket   \n",
            "1210                                                                                                                                                                                                                                                                                                                                                                                                                                               best host stay greece pygmalion attentive helpful visited went beyond help stay enjoyable apartment cozy clean definitely recommend anyone wishes good time greece apartment close train station neighborhood peaceful   \n",
            "1212                                                                                                                                                                                                                                                                                                                                                                                                                                                                                     pygmalion around amazing host apartment impeccable great location offered number suggestions food tours even recommendations legs trip gracious start finish would probably stay   \n",
            "1213                                                                                                                                                                                                                                                                                                                                                                                        sister stayed three nights pygmalionstellas apartment neighborhood little far away center city takes 1015 min metro metro station 5 min walking distance apartment neighborhood quite safe close supermarkets apartment clean cozy exactly see pictures would definitely stay   \n",
            "1214                                                                                                                                                                                                                                                                                                                                                                                                                               girlfriend stayed 3 nights location good takes 10 minutes metro really close apartment modern clean quiet brbras flight 11 pm didnt know put luggage new guest already arrived stella kindly allowed us let apartment great experience   \n",
            "1215                                                  apartment good location well communicated city centre neighbourhood safe bakery grocery stores located 10 minutes walk flat brapartment looks exactly pictures placed advert bri havent met pygmalion personally helpful responsive questions sent email bron first day stella showed us whole flat use amenities even washing machine everything written greek sunday late evening everything nearby closed stella kind helped us ordering pizza us brwe arrived pygmalions apartment group three flat suitable max 4 persons brwe dont negative comments satisfied stay pygmalions apartment brhighly recommended   \n",
            "1216                                                                                                                                                                                                                                                                                                                                  pygmalion helpful provided needed info weeks arrival stella explained us best places go gave us map important places highlightedbrtheir places beautiful clean well located described breven though couldnt get meey pygmalion person always question even booked taxi us leavingbrwe loved place much wonderful highly recommended   \n",
            "1218                                                                                                                                                                                                                                                                                             pygmalion stella wonderful host place looks well taken care neat definitely worth staying access transportation close local restaurants amazing food good people humble grateful amazing experience kafe tis gitonias ladies completely went way even though cafe restaurant gyros nostimoulis wallet friendly delicious breakfast friends great experience locally city   \n",
            "1220                                                                                                                                                                                                                                                                                                                                                                                                                                                                                                                                                                                host went beyond asked extremely accommodating helpful would 100 recommend appreciate   \n",
            "1221                                                                                                                                                                                                                                                                                                                                                                                         pygmalion wonderful host helpful beginning throughout trip stella shown us apartment spotless exactly shown pictures location also really great good connection metro city center important sights city two thumps five stars without hesitation looking forward coming back   \n",
            "1222                                                                                                                                                                                                                                                                                                                                                                                                                                                                                                                                                                                                                   ice spacy place nice jacuzzi overlooking acropolis   \n",
            "1223                                                                                                                                                                                                                                                                                                                                                                                                                                                                                                                                                                                                                                                           great view   \n",
            "1224                                                                                                                                                                   location penthouse pretty good close many attractions area seems pretty safe stay apartment nice lift great since 6th floor place aircon absolutely perfect slightly loud cleanliness apartment wasntvery satisfying suppose isnt host fault cleaner couldve done better job overall view top floor astonishing basically didnt need go mount lycabettus since view basically jacuzzi cool first got dirty ask host something since wanted go host responded quickly asked cleaner come clean nice   \n",
            "1225                                                                                                                                                                                                                                                                                                                                                                                                                                                                  nice modern place supermarket corner bakery pub couple blocks away city tour bus stop eight blocks toward acropolis cabs plentiful street might want walk around surrounding area alone dark though   \n",
            "1226                                                                                                                                                                                                                                                                                                                                                                                                                                                                        fantastic location couldnt better situated enjoy athens offer sightseeing nightlife shopping brthe loft apartment modern specious really enjoyed stay thank fortis team memorable time athens   \n",
            "1227                                                                                                                                                                                                                                                                                                                                                                                                                                                                                                                       lovely studio room heart athens facilities needed lovely clean christina fish spa extremely helpful went way us well back week looking forward   \n",
            "1228  taxi driver problem knowing drop us call fotis talk others basically taxi driver dropped us romvis square behind ermou opposite ktena rear entrance anywaybrbrfotis came within minutes helped us settle werent spending much time athens didnt need know much quick explanation place travel services fotis left us itbrbrthe place per pictures open roomy little noise main street things need provided fotis even left us bottle water orange juice brbrbeing central easy get shops street easy walk main attraction athens acropolisbrbrvery nice place would easily recommended others probably even better others stay longer 1 night cleaning fee bit dear   \n",
            "1229                                                                                                                                                                                                                                                      great location great loft everything clean fotis us meet host fish spa looked pretty incredible though didnt time get treatments walked us loft ermou location stellar close everything great evening exploring area checked next day result poor planning stuck hauling bags fotis let us store bags spa headed acropolis sight seeing overall great expereince would highly recommend anyone athens days brbr   \n",
            "1230                                                                                                                                                                                                                                                                                                                                                                                                                                                                                       second time staying fotis apartment athens beautiful space great convenient location fotis also attentive host made sure everything perfect stay plan stay athens thanks fotis   \n",
            "1231                                                                                                                                                                                                                                                                                                                             location cant beat right center important points interest close house room located little shabby run room great sufficient space family 3 4 great luxury though comfortable enough complaint inconvenient arrangement obtaining key rather impersonal way shown amenities host nowhere seen apparently available yet overall thumbs upbr   \n",
            "1232                                                                                                                                                                                                                                                                                                                                                                                                                                                                                                                                                             great place stay downtown athens perfect location exploring city room clean well equipped suited us well   \n",
            "1233                                                                                                                                                                                                                                                                                                                                                                                                                                                                                        perfect location airport port well main attractions christine met us nice providing recommendations around appartment 36 celsius outside cool inside ac would go back anytime   \n",
            "1235                                                                                                                                                                                                                                                                                                                                            loft spacious nice quiet clean well located walking distance attractions central athens fotis answered fast quetions met us apartment late checkin1030 pm explain everything us took advice used athens transfers transfer airport apartment back pleased also tried fotis fish spa blast thank fotis nice staybrnicoleta   \n",
            "1236                                                                                                                                                                                                                                                                                                                                                                                                                                                                                           apartment best location fotis kind meet us street close apartment apartment clean nice high ceilings close shops restaurants starbucks would recommend apartment anyone br   \n",
            "1237                                                                                                                                                                                                                                              fotis excellent host 1night stay athens apartment exactly described impeccably clean unit everything needed fotis even stocked fridge breakfast food coffee supplies location ideal first time visitor athens able explore city foot hopon hopoff bus fotis personally showed around unit stowed bags spa suggested activities restaurants nearby would absolutely recommend unit plan stay passing athens thanks fotis   \n",
            "1238                                                                                                                                                  tha place centrally located athens near acropolis old town shops restaurants host responsive arrived apartment looks like cosy loft clean welcomed fresh linen towels also provided breakfast next morning place wifi ac important summer aware surcharge 20 cash upon check cleaning mention listing house rules appeared email confirmation read fine print also aware blinds curtains opaque sunlight could wake quite early overall good experience would recommend place would certainly book next time athens   \n",
            "1239                                                                                                                                                                                                                                                                                                                                                                                                                                                                                                                                                                                              elevator scenic views 3 levels plenty space incredible hospitality book   \n",
            "1241                                                                                                                                                                                                                                                            absolutely stunning place stay close everything including acropolis hosts fantastic got back us almost immediately inquiries sleeps 10 rather comfortably views amazing clean hot tub nice touch could need towels plates cooking spices coffee well ya get im happy experience left one 4 star directions athens confusing chaotic place think might way make exact place findable atleast emphasis 9910   \n",
            "1242                                                                                                                                                                                                                                                                                                                                                                                      haris reasonable host communicated well accommodated issue upon stay great location plan staying city athens previous guests left quiet mess unfair haris cleaning crew hindered checkin issue hot water haris rectified giving small refund overall bad stay would work future   \n",
            "1245                                                                                                                                                                                                                                                                                                                                                                                       stella pygmalion fantastic hosts stella arrived greeted us apartment even gave us map suggested best places go pygmalion always quick answer queries helpful place clean could asked also good location minutes walk metro station would recommend place everyone going athens   \n",
            "\n",
            "      is_english sentiment  \n",
            "1209        True  positive  \n",
            "1210        True  positive  \n",
            "1212        True  positive  \n",
            "1213        True   neutral  \n",
            "1214        True  positive  \n",
            "1215        True  positive  \n",
            "1216        True  positive  \n",
            "1218        True  positive  \n",
            "1220        True  positive  \n",
            "1221        True  positive  \n",
            "1222        True  positive  \n",
            "1223        True  positive  \n",
            "1224        True  positive  \n",
            "1225        True   neutral  \n",
            "1226        True  positive  \n",
            "1227        True  positive  \n",
            "1228        True  positive  \n",
            "1229        True  positive  \n",
            "1230        True  positive  \n",
            "1231        True  positive  \n",
            "1232        True  positive  \n",
            "1233        True  positive  \n",
            "1235        True  positive  \n",
            "1236        True  positive  \n",
            "1237        True  positive  \n",
            "1238        True  positive  \n",
            "1239        True  positive  \n",
            "1241        True  positive  \n",
            "1242        True  negative  \n",
            "1245        True  positive  \n"
          ]
        }
      ]
    },
    {
      "cell_type": "markdown",
      "source": [
        "Chart Results"
      ],
      "metadata": {
        "id": "rjyqMocHWAbN"
      }
    },
    {
      "cell_type": "code",
      "source": [
        "import matplotlib.pyplot as plt\n",
        "\n",
        "reviews_2023 = english_reviews_2023.copy()\n",
        "\n",
        "# Drop 'is_english' column\n",
        "reviews_2023 = reviews_2023.drop(['is_english'], axis = 1)\n",
        "reviews_2023 = reviews_2023.reset_index(drop = True)\n",
        "\n",
        "# Plot the Histogram\n",
        "sentiment_count = reviews_2023['sentiment'].value_counts()\n",
        "print(sentiment_count)\n",
        "sentiment_count.plot(kind='bar')\n",
        "\n",
        "# Title and Label\n",
        "plt.title('Sentiment Distribution')\n",
        "plt.xlabel('Sentiment')\n",
        "plt.ylabel('Number of Reviews')\n",
        "\n",
        "# Show Plot\n",
        "plt.show()"
      ],
      "metadata": {
        "colab": {
          "base_uri": "https://localhost:8080/",
          "height": 606
        },
        "id": "yHoqE_vKWCKC",
        "outputId": "f5e05990-dcb1-48f8-df10-647ac4f9e5c4"
      },
      "execution_count": null,
      "outputs": [
        {
          "output_type": "stream",
          "name": "stdout",
          "text": [
            "sentiment\n",
            "positive    885\n",
            "neutral      96\n",
            "negative     19\n",
            "Name: count, dtype: int64\n"
          ]
        },
        {
          "output_type": "display_data",
          "data": {
            "text/plain": [
              "<Figure size 640x480 with 1 Axes>"
            ],
            "image/png": "[encoded data removed]"
          },
          "metadata": {}
        }
      ]
    },
    {
      "cell_type": "markdown",
      "source": [
        "Export Resulting Dataframe"
      ],
      "metadata": {
        "id": "yOV4-D0cWyqb"
      }
    },
    {
      "cell_type": "code",
      "source": [
        "reviews_2023 = reviews_2023.reset_index(drop = True)\n",
        "reviews_2023.to_csv('/content/gdrive/My Drive/Data_Mining_CSV/2023/reviews_2023.csv', index = False)"
      ],
      "metadata": {
        "id": "Gx5H9TxmW1xM"
      },
      "execution_count": null,
      "outputs": []
    },
    {
      "cell_type": "markdown",
      "source": [
        "# **Μέρος 2**"
      ],
      "metadata": {
        "id": "_6YyPxFFE9lX"
      }
    },
    {
      "cell_type": "markdown",
      "source": [
        "Open File"
      ],
      "metadata": {
        "id": "c_NeT6WrFMoz"
      }
    },
    {
      "cell_type": "code",
      "source": [
        "reviews_2023 = pd.read_csv(filePath + 'reviews_2023.csv')"
      ],
      "metadata": {
        "id": "dNeqeYtNFTwS"
      },
      "execution_count": null,
      "outputs": []
    },
    {
      "cell_type": "markdown",
      "source": [
        "Match Sentiments with numbers (positive = 1, neutral = 0, negative = 2)"
      ],
      "metadata": {
        "id": "NNeuYPorFCh-"
      }
    },
    {
      "cell_type": "code",
      "source": [
        "sentiment_mapping = {'positive': 1, 'neutral': 0, 'negative': 2}\n",
        "reviews_2023['sentiment'] = reviews_2023['sentiment'].map(sentiment_mapping)\n",
        "\n",
        "print(reviews_2023.head())"
      ],
      "metadata": {
        "colab": {
          "base_uri": "https://localhost:8080/"
        },
        "id": "cBpAoqRwFKQb",
        "outputId": "51ca16e5-f3b1-4d9f-f4d9-a3abf5b9a2d9"
      },
      "execution_count": null,
      "outputs": [
        {
          "output_type": "stream",
          "name": "stdout",
          "text": [
            "         id                                             review  sentiment\n",
            "0    271535  apartment wonderful fully equiped beautiful de...          1\n",
            "1   1994237  emmanouil excellent host provided us everythin...          1\n",
            "2  12184199  wife daughter spent five days beauty light col...          1\n",
            "3  13197921  great stay soulas apartment loved decoration f...          1\n",
            "4  13393565  beautiful clean apartment plenty space stayed ...          1\n"
          ]
        }
      ]
    },
    {
      "cell_type": "markdown",
      "source": [
        "Prepare Data Points"
      ],
      "metadata": {
        "id": "PIgqnapSF5uW"
      }
    },
    {
      "cell_type": "code",
      "source": [
        "from sklearn.model_selection import train_test_split\n",
        "\n",
        "train_reviews, test_reviews = train_test_split(reviews_2023, test_size = 0.2, random_state = 42)\n",
        "\n",
        "# Save to .tsv format\n",
        "train_reviews.to_csv(filePath + 'train.tsv', sep='\\t', index = False)\n",
        "test_reviews.to_csv(filePath + 'test.tsv', sep='\\t', index = False)"
      ],
      "metadata": {
        "id": "yZDvwaTbF-f-"
      },
      "execution_count": null,
      "outputs": []
    },
    {
      "cell_type": "markdown",
      "source": [
        "Characteristics Preparation with TF-IDF"
      ],
      "metadata": {
        "id": "31nHB0tXGd7z"
      }
    },
    {
      "cell_type": "code",
      "source": [
        "from sklearn.feature_extraction.text import TfidfVectorizer\n",
        "\n",
        "train_reviews['review'] = train_reviews['review'].fillna('')\n",
        "test_reviews['review'] = test_reviews['review'].fillna('')\n",
        "\n",
        "# Vectorizer Creation\n",
        "tfidf_Vectorizer = TfidfVectorizer(max_df=0.1, min_df=1, max_features=200)\n",
        "\n",
        "# Convert to TF-IDF train data reviews\n",
        "X_train_tfidf = tfidf_Vectorizer.fit_transform(train_reviews['review'])\n",
        "\n",
        "# Convert to TF-IDF test data reviews\n",
        "X_test_tfidf = tfidf_Vectorizer.fit_transform(test_reviews['review'])\n",
        "\n",
        "# Shape Check\n",
        "print(X_train_tfidf.shape)\n",
        "print(X_test_tfidf.shape)"
      ],
      "metadata": {
        "colab": {
          "base_uri": "https://localhost:8080/"
        },
        "id": "wky5ridIGqn8",
        "outputId": "9a958675-4696-4d1f-a1ef-e347c7f17378"
      },
      "execution_count": null,
      "outputs": [
        {
          "output_type": "stream",
          "name": "stdout",
          "text": [
            "(800, 200)\n",
            "(200, 200)\n"
          ]
        }
      ]
    },
    {
      "cell_type": "markdown",
      "source": [
        "Characteristics Preparation with Word Embeddings using Word2Vec model"
      ],
      "metadata": {
        "id": "uZ8g8hHjHz7W"
      }
    },
    {
      "cell_type": "code",
      "source": [
        "# Seperate reviews to words\n",
        "train_sentence = [review.split() for review in train_reviews['review']]\n",
        "test_sentence = [review.split() for review in test_reviews['review']]\n",
        "\n",
        "# Train Word2Vec model\n",
        "word2vecModel = Word2Vec(sentences=train_sentence, vector_size=200, window=5, min_count=1, workers=4, seed=42)\n",
        "\n",
        "# Function for calculating the mean of words to get the embedding for the review\n",
        "def embedding_review(review, model):\n",
        "  words = review.split()\n",
        "  word_vectors = [model.wv[word] for word in words if word in model.wv]\n",
        "  if len(word_vectors) == 0:\n",
        "    return np.zeros(model.vector_size)\n",
        "  else:\n",
        "    return np.mean(word_vectors, axis=0)\n",
        "\n",
        "# Train dataset using Word Embeddings\n",
        "X_train_embeddings = np.vstack([embedding_review(review, word2vecModel) for review in train_reviews['review']])\n",
        "\n",
        "# Test dataset using Word Embeddings\n",
        "X_test_embeddings = np.vstack([embedding_review(review, word2vecModel) for review in test_reviews['review']])\n",
        "\n",
        "# Shape Check\n",
        "print(X_train_embeddings.shape)\n",
        "print(X_test_embeddings.shape)"
      ],
      "metadata": {
        "colab": {
          "base_uri": "https://localhost:8080/"
        },
        "id": "rk_X4WwEH5QN",
        "outputId": "57413fed-33b9-479b-f69d-7bb89e17681c"
      },
      "execution_count": null,
      "outputs": [
        {
          "output_type": "stream",
          "name": "stdout",
          "text": [
            "(800, 200)\n",
            "(200, 200)\n"
          ]
        }
      ]
    },
    {
      "cell_type": "markdown",
      "source": [
        "Save to pickle file"
      ],
      "metadata": {
        "id": "lmX-KSByKL1P"
      }
    },
    {
      "cell_type": "code",
      "source": [
        "import pickle\n",
        "\n",
        "# Save TF-IDF Files\n",
        "with open(filePath + 'X_train_tfidf.pkl', 'wb') as file:\n",
        "  pickle.dump(X_train_tfidf, file)\n",
        "\n",
        "with open(filePath + 'X_test_tfidf.pkl', 'wb') as file:\n",
        "  pickle.dump(X_test_tfidf, file)\n",
        "\n",
        "# Save Word2Vec Files\n",
        "with open(filePath + 'X_train_embeddings.pkl', 'wb') as file:\n",
        "  pickle.dump(X_train_embeddings, file)\n",
        "\n",
        "with open(filePath + 'X_test_embeddings.pkl', 'wb') as file:\n",
        "  pickle.dump(X_test_embeddings, file)\n",
        "\n",
        "# Save TF-IDF Vectorizer\n",
        "with open(filePath + 'tfidf_vectorizer.pkl', 'wb') as file:\n",
        "  pickle.dump(tfidf_Vectorizer, file)\n",
        "\n",
        "# Save Sentiments\n",
        "with open(filePath + 'Y_train_reviews.pkl', 'wb') as file:\n",
        "  pickle.dump(train_reviews['sentiment'].values, file)\n",
        "\n",
        "with open(filePath + 'Y_test_reviews.pkl', 'wb') as file:\n",
        "  pickle.dump(test_reviews['sentiment'].values, file)"
      ],
      "metadata": {
        "id": "-ucpfCHPKPlF"
      },
      "execution_count": null,
      "outputs": []
    },
    {
      "cell_type": "markdown",
      "source": [
        "Load from pickle file"
      ],
      "metadata": {
        "id": "uKfoszpYLkuu"
      }
    },
    {
      "cell_type": "code",
      "source": [
        "import pickle\n",
        "\n",
        "# Load TF-IDF Files\n",
        "with open(filePath + 'X_train_tfidf.pkl', 'rb') as file:\n",
        "  X_train_tfidf = pickle.load(file)\n",
        "\n",
        "with open(filePath + 'X_test_tfidf.pkl', 'rb') as file:\n",
        "  X_test_tfidf = pickle.load(file)\n",
        "\n",
        "# Load Word2Vec Files\n",
        "with open(filePath + 'X_train_embeddings.pkl', 'rb') as file:\n",
        "  X_train_embeddings = pickle.load(file)\n",
        "\n",
        "with open(filePath + 'X_test_embeddings.pkl', 'rb') as file:\n",
        "  X_test_embeddings = pickle.load(file)\n",
        "\n",
        "# Load TF-IDF Vectorizer\n",
        "with open(filePath + 'tfidf_vectorizer.pkl', 'rb') as file:\n",
        "  tfidf_Vectorizer = pickle.load(file)\n",
        "\n",
        "# Load Sentiments\n",
        "with open(filePath + 'Y_train_reviews.pkl', 'rb') as file:\n",
        "  Y_train_reviews = pickle.load(file)\n",
        "\n",
        "with open(filePath + 'Y_test_reviews.pkl', 'rb') as file:\n",
        "  Y_test_reviews = pickle.load(file)"
      ],
      "metadata": {
        "id": "bHJKKDqcLm3h"
      },
      "execution_count": null,
      "outputs": []
    },
    {
      "cell_type": "markdown",
      "source": [
        "For TF-IDF Characteristics we use SVM sorting"
      ],
      "metadata": {
        "id": "cDsYHlNaMtUD"
      }
    },
    {
      "cell_type": "code",
      "source": [
        "from sklearn import svm\n",
        "from sklearn.metrics import precision_recall_fscore_support, accuracy_score, make_scorer\n",
        "from sklearn.model_selection import cross_val_score, cross_validate, StratifiedKFold\n",
        "\n",
        "# Custom scorer functions to handle zero_division\n",
        "def precision_macro(y_true, y_pred):\n",
        "    return precision_recall_fscore_support(y_true, y_pred, average='macro', zero_division=0)[0]\n",
        "\n",
        "def recall_macro(y_true, y_pred):\n",
        "    return precision_recall_fscore_support(y_true, y_pred, average='macro', zero_division=0)[1]\n",
        "\n",
        "def f1_macro(y_true, y_pred):\n",
        "    return precision_recall_fscore_support(y_true, y_pred, average='macro', zero_division=0)[2]\n",
        "\n",
        "# Define custom scorers\n",
        "scoring = {\n",
        "    'precision_macro': make_scorer(precision_macro),\n",
        "    'recall_macro': make_scorer(recall_macro),\n",
        "    'f1_macro': make_scorer(f1_macro),\n",
        "    'accuracy': 'accuracy'\n",
        "}\n",
        "\n",
        "# Load Classifer\n",
        "classifier_svm = svm.SVC()\n",
        "\n",
        "# Train SVM\n",
        "classifier_svm.fit(X_train_tfidf, Y_train_reviews)\n",
        "\n",
        "# Predict at test data\n",
        "Y_pred_svm = classifier_svm.predict(X_test_tfidf)\n",
        "\n",
        "# Evaluate Classifier using Cross-Validation\n",
        "scores = cross_validate(classifier_svm, X_train_tfidf, Y_train_reviews, cv=10, scoring=scoring)\n",
        "\n",
        "# Print Cross-Validation Results\n",
        "print(f\"Cross-Validation Results:\")\n",
        "print(f\"Precision: {np.mean(scores['test_precision_macro']):.4f}\")\n",
        "print(f\"Recall: {np.mean(scores['test_recall_macro']):.4f}\")\n",
        "print(f\"F1 Score: {np.mean(scores['test_f1_macro']):.4f}\")\n",
        "print(f\"Accuracy: {np.mean(scores['test_accuracy']):.4f}\")\n",
        "print(\"\\n\")\n",
        "\n",
        "# Evaluate Test Data\n",
        "test_accuracy = accuracy_score(Y_test_reviews, Y_pred_svm)\n",
        "test_precision, test_recall, test_f1, _ = precision_recall_fscore_support(Y_test_reviews, Y_pred_svm, average='macro', zero_division=0)\n",
        "\n",
        "# Print Results\n",
        "print(\"Test Data Results:\")\n",
        "print(f\"Test Accuracy: {test_accuracy:.4f}\")\n",
        "print(f\"Test Precision: {test_precision:.4f}\")\n",
        "print(f\"Test Recall: {test_recall:.4f}\")\n",
        "print(f\"Test F1 Score: {test_f1:.4f}\")\n"
      ],
      "metadata": {
        "id": "sBcF9sPmM1T0",
        "colab": {
          "base_uri": "https://localhost:8080/"
        },
        "outputId": "077f6b4e-bc3a-4e2b-8828-0c77c4fff39b"
      },
      "execution_count": null,
      "outputs": [
        {
          "output_type": "stream",
          "name": "stdout",
          "text": [
            "Cross-Validation Results:\n",
            "Precision: 0.4996\n",
            "Recall: 0.3815\n",
            "F1 Score: 0.3876\n",
            "Accuracy: 0.9000\n",
            "\n",
            "\n",
            "Test Data Results:\n",
            "Test Accuracy: 0.8850\n",
            "Test Precision: 0.6281\n",
            "Test Recall: 0.3500\n",
            "Test F1 Score: 0.3446\n"
          ]
        }
      ]
    },
    {
      "cell_type": "markdown",
      "source": [
        "For TF-IDF Characteristics we use Random Forests sorting"
      ],
      "metadata": {
        "id": "htIJpeI8T7My"
      }
    },
    {
      "cell_type": "code",
      "source": [
        "from sklearn.ensemble import RandomForestClassifier\n",
        "from sklearn.metrics import precision_recall_fscore_support, accuracy_score, make_scorer\n",
        "from sklearn.model_selection import cross_val_score, cross_validate, StratifiedKFold\n",
        "\n",
        "# Custom scorer functions to handle zero_division\n",
        "def precision_macro(y_true, y_pred):\n",
        "    return precision_recall_fscore_support(y_true, y_pred, average='macro', zero_division=0)[0]\n",
        "\n",
        "def recall_macro(y_true, y_pred):\n",
        "    return precision_recall_fscore_support(y_true, y_pred, average='macro', zero_division=0)[1]\n",
        "\n",
        "def f1_macro(y_true, y_pred):\n",
        "    return precision_recall_fscore_support(y_true, y_pred, average='macro', zero_division=0)[2]\n",
        "\n",
        "# Define custom scorers\n",
        "scoring = {\n",
        "    'precision_macro': make_scorer(precision_macro),\n",
        "    'recall_macro': make_scorer(recall_macro),\n",
        "    'f1_macro': make_scorer(f1_macro),\n",
        "    'accuracy': 'accuracy'\n",
        "}\n",
        "\n",
        "# Load Classifier\n",
        "classifier_rf = RandomForestClassifier()\n",
        "\n",
        "# Train Random Forest\n",
        "classifier_rf.fit(X_train_tfidf, Y_train_reviews)\n",
        "\n",
        "# Predict at test data\n",
        "Y_pred_rf = classifier_rf.predict(X_test_tfidf)\n",
        "\n",
        "# Evaluate Classifier using Cross-Validation\n",
        "scores = cross_validate(classifier_rf, X_train_tfidf, Y_train_reviews, cv=10, scoring=scoring)\n",
        "\n",
        "# Print Cross-Validation Results\n",
        "print(f\"Cross-Validation Results:\")\n",
        "print(f\"Precision: {np.mean(scores['test_precision_macro']):.4f}\")\n",
        "print(f\"Recall: {np.mean(scores['test_recall_macro']):.4f}\")\n",
        "print(f\"F1 Score: {np.mean(scores['test_f1_macro']):.4f}\")\n",
        "print(f\"Accuracy: {np.mean(scores['test_accuracy']):.4f}\")\n",
        "print(\"\\n\")\n",
        "\n",
        "# Evaluate Test Data\n",
        "test_accuracy = accuracy_score(Y_test_reviews, Y_pred_rf)\n",
        "test_precision, test_recall, test_f1, _ = precision_recall_fscore_support(Y_test_reviews, Y_pred_rf, average='macro', zero_division=0)\n",
        "\n",
        "# Print Results\n",
        "print(\"Test Data Results:\")\n",
        "print(f\"Test Accuracy: {test_accuracy:.4f}\")\n",
        "print(f\"Test Precision: {test_precision:.4f}\")\n",
        "print(f\"Test Recall: {test_recall:.4f}\")\n",
        "print(f\"Test F1 Score: {test_f1:.4f}\")\n"
      ],
      "metadata": {
        "colab": {
          "base_uri": "https://localhost:8080/"
        },
        "id": "jmyyNF8IUB1o",
        "outputId": "f5ed4aef-bf04-4787-b0c2-17cad169ed04"
      },
      "execution_count": null,
      "outputs": [
        {
          "output_type": "stream",
          "name": "stdout",
          "text": [
            "Cross-Validation Results:\n",
            "Precision: 0.5436\n",
            "Recall: 0.4297\n",
            "F1 Score: 0.4399\n",
            "Accuracy: 0.8975\n",
            "\n",
            "\n",
            "Test Data Results:\n",
            "Test Accuracy: 0.8800\n",
            "Test Precision: 0.6279\n",
            "Test Recall: 0.3481\n",
            "Test F1 Score: 0.3437\n"
          ]
        }
      ]
    },
    {
      "cell_type": "markdown",
      "source": [
        "For TF-IDF Characteristics we use KNN sorting"
      ],
      "metadata": {
        "id": "4-VpVBdnUbYB"
      }
    },
    {
      "cell_type": "code",
      "source": [
        "from sklearn.neighbors import KNeighborsClassifier\n",
        "from sklearn.metrics import precision_recall_fscore_support, accuracy_score, make_scorer\n",
        "from sklearn.model_selection import cross_val_score, cross_validate, StratifiedKFold\n",
        "\n",
        "# Custom scorer functions to handle zero_division\n",
        "def precision_macro(y_true, y_pred):\n",
        "    return precision_recall_fscore_support(y_true, y_pred, average='macro', zero_division=0)[0]\n",
        "\n",
        "def recall_macro(y_true, y_pred):\n",
        "    return precision_recall_fscore_support(y_true, y_pred, average='macro', zero_division=0)[1]\n",
        "\n",
        "def f1_macro(y_true, y_pred):\n",
        "    return precision_recall_fscore_support(y_true, y_pred, average='macro', zero_division=0)[2]\n",
        "\n",
        "# Define custom scorers\n",
        "scoring = {\n",
        "    'precision_macro': make_scorer(precision_macro),\n",
        "    'recall_macro': make_scorer(recall_macro),\n",
        "    'f1_macro': make_scorer(f1_macro),\n",
        "    'accuracy': 'accuracy'\n",
        "}\n",
        "\n",
        "# Load Classifier\n",
        "classifier_knn = KNeighborsClassifier()\n",
        "\n",
        "# Train KNN\n",
        "classifier_knn.fit(X_train_tfidf, Y_train_reviews)\n",
        "\n",
        "# Predict at test data\n",
        "Y_pred_knn = classifier_knn.predict(X_test_tfidf)\n",
        "\n",
        "# Evaluate Classifier using Cross-Validation\n",
        "scores = cross_validate(classifier_knn, X_train_tfidf, Y_train_reviews, cv=10, scoring=scoring)\n",
        "\n",
        "# Print Cross-Validation Results\n",
        "print(f\"Cross-Validation Results:\")\n",
        "print(f\"Precision: {np.mean(scores['test_precision_macro']):.4f}\")\n",
        "print(f\"Recall: {np.mean(scores['test_recall_macro']):.4f}\")\n",
        "print(f\"F1 Score: {np.mean(scores['test_f1_macro']):.4f}\")\n",
        "print(f\"Accuracy: {np.mean(scores['test_accuracy']):.4f}\")\n",
        "print(\"\\n\")\n",
        "\n",
        "# Evaluate Test Data\n",
        "test_accuracy = accuracy_score(Y_test_reviews, Y_pred_knn)\n",
        "test_precision, test_recall, test_f1, _ = precision_recall_fscore_support(Y_test_reviews, Y_pred_knn, average='macro', zero_division=0)\n",
        "\n",
        "# Print Results\n",
        "print(\"Test Data Results:\")\n",
        "print(f\"Test Accuracy: {test_accuracy:.4f}\")\n",
        "print(f\"Test Precision: {test_precision:.4f}\")\n",
        "print(f\"Test Recall: {test_recall:.4f}\")\n",
        "print(f\"Test F1 Score: {test_f1:.4f}\")\n"
      ],
      "metadata": {
        "colab": {
          "base_uri": "https://localhost:8080/"
        },
        "id": "5Kw0bbmIUWHx",
        "outputId": "c1089892-ef88-4080-97ca-bfc16ee7c274"
      },
      "execution_count": null,
      "outputs": [
        {
          "output_type": "stream",
          "name": "stdout",
          "text": [
            "Cross-Validation Results:\n",
            "Precision: 0.4537\n",
            "Recall: 0.3839\n",
            "F1 Score: 0.3914\n",
            "Accuracy: 0.8850\n",
            "\n",
            "\n",
            "Test Data Results:\n",
            "Test Accuracy: 0.8750\n",
            "Test Precision: 0.4055\n",
            "Test Recall: 0.3462\n",
            "Test F1 Score: 0.3400\n"
          ]
        }
      ]
    },
    {
      "cell_type": "markdown",
      "source": [
        "# **Μερος 3**"
      ],
      "metadata": {
        "id": "pvrZD0IgIXCv"
      }
    },
    {
      "cell_type": "markdown",
      "source": [
        "Open File"
      ],
      "metadata": {
        "id": "zgeV4XDaixPV"
      }
    },
    {
      "cell_type": "code",
      "source": [
        "reviews_2023 = pd.read_csv(filePath + 'reviews_2023.csv')"
      ],
      "metadata": {
        "id": "O8GKUB5riwjt"
      },
      "execution_count": 9,
      "outputs": []
    },
    {
      "cell_type": "markdown",
      "source": [
        "Train model from reviews"
      ],
      "metadata": {
        "id": "tep5fDyhmzMs"
      }
    },
    {
      "cell_type": "code",
      "source": [
        "# Word Sample (ex. 500 reviews)\n",
        "review_sample = reviews_2023.head(500)\n",
        "review_sample = reviews_2023.copy()\n",
        "\n",
        "sentences = [review.split() for review in review_sample['review']]\n",
        "\n",
        "# Find the 100 most commonly used words\n",
        "words = [word for tokens in sentences for word in tokens]\n",
        "counter = Counter(words)\n",
        "most_commonly_used_words = [word for word, count in counter.most_common(100)]\n",
        "\n",
        "# Initialize and Train Word2Vec Model\n",
        "model = Word2Vec(sentences, vector_size=200, window=5, min_count=1, workers=4)\n",
        "\n",
        "# Word Embeddings for Most Commonly Used Words\n",
        "word_embeddings = {word: model.wv[word] for word in most_commonly_used_words if word in model.wv}\n",
        "\n",
        "# Display Word Embeddings\n",
        "for word, embedding in word_embeddings.items():\n",
        "  print(f\"{word}: {embedding[:5]}...\")"
      ],
      "metadata": {
        "colab": {
          "base_uri": "https://localhost:8080/"
        },
        "id": "z1tTD4Eoieda",
        "outputId": "9af4df5c-46a1-4ba3-d5ea-d9713b30e84b"
      },
      "execution_count": 18,
      "outputs": [
        {
          "output_type": "stream",
          "name": "stdout",
          "text": [
            "apartment: [ 0.24122874 -0.1240062   0.13240078  0.3109741   0.5570525 ]...\n",
            "great: [ 0.1865397  -0.09419776  0.09606238  0.23616037  0.43865472]...\n",
            "stay: [ 0.18405081 -0.09624783  0.09897113  0.23721848  0.43772566]...\n",
            "athens: [ 0.20862035 -0.10813487  0.11046485  0.25983563  0.47317463]...\n",
            "us: [ 0.25344074 -0.13043979  0.14271542  0.33642152  0.6097756 ]...\n",
            "place: [ 0.19847628 -0.10152964  0.1101004   0.24081342  0.4452764 ]...\n",
            "location: [ 0.17779273 -0.09640691  0.10119987  0.22381365  0.42091253]...\n",
            "clean: [ 0.1879728  -0.08899143  0.09827847  0.22560562  0.43101007]...\n",
            "everything: [ 0.18232054 -0.10020502  0.10005138  0.22873437  0.4279004 ]...\n",
            "host: [ 0.18689322 -0.10050527  0.09612437  0.2317104   0.42651805]...\n",
            "nice: [ 0.18693273 -0.09626833  0.09884401  0.24094436  0.43488196]...\n",
            "would: [ 0.19158664 -0.09707076  0.10809477  0.24709247  0.4387248 ]...\n",
            "recommend: [ 0.16915746 -0.08875124  0.09756812  0.21588737  0.3904577 ]...\n",
            "flat: [ 0.18748905 -0.0999266   0.09893691  0.24601775  0.446828  ]...\n",
            "good: [ 0.19575322 -0.10096509  0.09754546  0.24817465  0.4464949 ]...\n",
            "metro: [ 0.19210812 -0.10272229  0.10249178  0.25302854  0.45097995]...\n",
            "well: [ 0.20402248 -0.10959903  0.10330188  0.2545694   0.4687594 ]...\n",
            "comfortable: [ 0.15139134 -0.08080619  0.07959988  0.18898423  0.34988916]...\n",
            "really: [ 0.18150693 -0.08751442  0.09221867  0.22658415  0.4128143 ]...\n",
            "perfect: [ 0.15433492 -0.08470734  0.08244635  0.20271553  0.36653942]...\n",
            "also: [ 0.22240001 -0.12128643  0.1192191   0.2831359   0.52709794]...\n",
            "close: [ 0.1785091  -0.09508076  0.08858435  0.22236805  0.41849214]...\n",
            "acropolis: [ 0.18441282 -0.10091712  0.10676892  0.25280276  0.45043373]...\n",
            "time: [ 0.18250817 -0.09379818  0.09569164  0.23973009  0.43648335]...\n",
            "helpful: [ 0.20095499 -0.10158549  0.11271958  0.25473598  0.47020623]...\n",
            "walk: [ 0.19069493 -0.1055353   0.09294128  0.24344783  0.4357544 ]...\n",
            "fotis: [ 0.19977449 -0.10131757  0.10309405  0.25366628  0.4520191 ]...\n",
            "easy: [ 0.17646793 -0.10054702  0.09892294  0.23158038  0.41992444]...\n",
            "restaurants: [ 0.18577752 -0.09533335  0.0939754   0.23154233  0.42678222]...\n",
            "even: [ 0.22321929 -0.11390334  0.11792522  0.28783077  0.52665526]...\n",
            "highly: [ 0.14031114 -0.07825378  0.08223538  0.17736727  0.3162351 ]...\n",
            "city: [ 0.18740058 -0.09716173  0.09988624  0.23648433  0.43851224]...\n",
            "amazing: [ 0.12822817 -0.0648111   0.07042669  0.16747025  0.31114638]...\n",
            "area: [ 0.1970905  -0.1080301   0.10174955  0.2563338   0.46309355]...\n",
            "view: [ 0.16337615 -0.08472382  0.0954848   0.20683488  0.38651508]...\n",
            "haris: [ 0.13828972 -0.06958836  0.07566478  0.17912304  0.325735  ]...\n",
            "needed: [ 0.1593354  -0.08058044  0.08611869  0.20697142  0.3828593 ]...\n",
            "one: [ 0.2160777  -0.11756597  0.11704297  0.2703646   0.5038214 ]...\n",
            "quiet: [ 0.15774517 -0.07908642  0.08969867  0.20297994  0.37505907]...\n",
            "spacious: [ 0.16097423 -0.07769202  0.08722021  0.19446857  0.37098566]...\n",
            "walking: [ 0.15105282 -0.076355    0.08151039  0.19190489  0.36070225]...\n",
            "need: [ 0.18170102 -0.09377342  0.09939734  0.23026212  0.42021775]...\n",
            "home: [ 0.16509944 -0.08636709  0.08925445  0.20556131  0.3836151 ]...\n",
            "definitely: [ 0.12031738 -0.06116662  0.06893696  0.13934675  0.26578423]...\n",
            "get: [ 0.18388194 -0.09821573  0.1029408   0.23205686  0.43641758]...\n",
            "located: [ 0.15602808 -0.07887886  0.07917875  0.1926252   0.35327557]...\n",
            "around: [ 0.16435824 -0.09117061  0.08555076  0.20898443  0.39514804]...\n",
            "excellent: [ 0.14326355 -0.07110348  0.07705113  0.17813417  0.3382984 ]...\n",
            "lovely: [ 0.14891426 -0.07870309  0.08365293  0.19403085  0.35495162]...\n",
            "beautiful: [ 0.14166464 -0.07623144  0.07737441  0.1798006   0.32123044]...\n",
            "pygmalion: [ 0.13952327 -0.07391472  0.0731078   0.18591192  0.33070683]...\n",
            "soula: [ 0.16255058 -0.08329557  0.08945092  0.21148962  0.38602954]...\n",
            "wonderful: [ 0.13817619 -0.06671714  0.07394893  0.16912985  0.31813356]...\n",
            "best: [ 0.18543844 -0.09681535  0.10458403  0.23798543  0.43659085]...\n",
            "day: [ 0.2165685  -0.11563963  0.11634698  0.27277425  0.49551153]...\n",
            "minutes: [ 0.17453274 -0.09831312  0.08954594  0.22714317  0.40646452]...\n",
            "back: [ 0.16729492 -0.08025149  0.0828102   0.20027512  0.37029234]...\n",
            "like: [ 0.19274911 -0.10276457  0.10576131  0.23937806  0.4449623 ]...\n",
            "neighborhood: [ 0.18465748 -0.09712981  0.09886105  0.23609662  0.44379228]...\n",
            "soulas: [ 0.11486375 -0.05538252  0.05584959  0.14049746  0.25355348]...\n",
            "stayed: [ 0.15546611 -0.08084826  0.08629565  0.19698553  0.3662787 ]...\n",
            "night: [ 0.19950278 -0.10306471  0.10827949  0.248727    0.4580887 ]...\n",
            "station: [ 0.16010739 -0.08509979  0.08307094  0.21515529  0.37951902]...\n",
            "experience: [ 0.14962842 -0.0847571   0.07936432  0.19771114  0.36120534]...\n",
            "made: [ 0.15582733 -0.0872857   0.08528464  0.19764048  0.3661197 ]...\n",
            "go: [ 0.17237334 -0.08501843  0.08999002  0.21963762  0.3971078 ]...\n",
            "george: [ 0.17735003 -0.09863602  0.09701676  0.22718804  0.4218753 ]...\n",
            "many: [ 0.1743859  -0.09557842  0.10020592  0.22644359  0.4275272 ]...\n",
            "distance: [ 0.11108558 -0.06851166  0.0692743   0.16175647  0.28555778]...\n",
            "away: [ 0.18234985 -0.09697188  0.10118058  0.23387763  0.42393497]...\n",
            "staying: [ 0.12821688 -0.06732409  0.0749319   0.16536467  0.29020873]...\n",
            "enjoyed: [ 0.13829096 -0.07434321  0.07771966  0.17748848  0.32791445]...\n",
            "much: [ 0.15892528 -0.0803274   0.07991956  0.20329581  0.36666957]...\n",
            "thank: [ 0.10962072 -0.06283289  0.06379003  0.14809619  0.25921828]...\n",
            "could: [ 0.17076914 -0.09029488  0.09337562  0.22329316  0.40484956]...\n",
            "street: [ 0.19757414 -0.0987384   0.10867748  0.25585288  0.4636654 ]...\n",
            "gave: [ 0.11859147 -0.07031292  0.06497426  0.16112347  0.28661722]...\n",
            "kitchen: [ 0.16635676 -0.083408    0.08699041  0.2076173   0.38055867]...\n",
            "fantastic: [ 0.10149858 -0.05237525  0.04981192  0.12514792  0.23110443]...\n",
            "friendly: [ 0.11912962 -0.05945735  0.06712959  0.14626887  0.27974206]...\n",
            "coffee: [ 0.2049909  -0.11437158  0.10746823  0.26805022  0.48708478]...\n",
            "visit: [ 0.12596679 -0.06329583  0.06517521  0.16502725  0.2950785 ]...\n",
            "met: [ 0.1251198  -0.06446883  0.07424842  0.1630788   0.30327326]...\n",
            "space: [ 0.14423983 -0.07384904  0.07671595  0.18564843  0.33410677]...\n",
            "two: [ 0.15082392 -0.08292893  0.0804788   0.1945284   0.34724534]...\n",
            "thanks: [ 0.09442291 -0.05173499  0.04824366  0.1230327   0.21569547]...\n",
            "room: [ 0.1571089  -0.0837688   0.08928903  0.20659713  0.36811405]...\n",
            "rooftop: [ 0.12388115 -0.06205645  0.07574606  0.15993993  0.3048815 ]...\n",
            "central: [ 0.10930577 -0.05908396  0.06176057  0.14835715  0.26664028]...\n",
            "safe: [ 0.12268546 -0.06714243  0.06968097  0.16669661  0.30012366]...\n",
            "first: [ 0.14041324 -0.07433217  0.07573452  0.17698637  0.3257487 ]...\n",
            "terrace: [ 0.12610632 -0.06143202  0.07186169  0.16551174  0.29334947]...\n",
            "balcony: [ 0.17128307 -0.09259253  0.09198181  0.22246471  0.39986083]...\n",
            "convenient: [ 0.10746988 -0.0580316   0.05396951  0.14638543  0.25457817]...\n",
            "equipped: [ 0.11898378 -0.06180369  0.06694617  0.15468149  0.2817956 ]...\n",
            "5: [ 0.14940748 -0.07863342  0.07267725  0.18559413  0.34343955]...\n",
            "house: [ 0.14981869 -0.08563007  0.0819958   0.19809963  0.3617229 ]...\n",
            "felt: [ 0.13195974 -0.06611364  0.06628622  0.15866241  0.29850966]...\n",
            "always: [ 0.139981   -0.07329318  0.08056527  0.17830825  0.33412218]...\n",
            "feel: [ 0.12121438 -0.06242732  0.05856677  0.15150213  0.27898934]...\n"
          ]
        }
      ]
    },
    {
      "cell_type": "markdown",
      "source": [
        "Calculate Cosine Similarity"
      ],
      "metadata": {
        "id": "zsxtk5bYmuoD"
      }
    },
    {
      "cell_type": "code",
      "source": [
        "from sklearn.metrics.pairwise import cosine_similarity\n",
        "\n",
        "# Word Embeddings for All Most Common Used Words\n",
        "word_embeddings_matric = np.array([word_embeddings[word] for word in most_commonly_used_words])\n",
        "\n",
        "# Calculate Cosine Similarity for all word pairs\n",
        "cosine_similarities = cosine_similarity(word_embeddings_matric)\n",
        "\n",
        "# Similarities Dictionary\n",
        "similarities_dict = {}\n",
        "\n",
        "# Fill Similarities Dictionary with words as keys and a list of similarities as values\n",
        "for x, x_word in enumerate(most_commonly_used_words):\n",
        "  temp_lst = []\n",
        "  for y, y_word in enumerate(most_commonly_used_words):\n",
        "    similarity = cosine_similarities[x][y]\n",
        "    temp_lst.append((y_word, similarity))\n",
        "  similarities_dict[x_word] = temp_lst\n",
        "\n",
        "# Sort Key Values (word) based on Similarity Scores\n",
        "for key, value in similarities_dict.items():\n",
        "  similarities_dict[key] = sorted(value, key=lambda x: x[1], reverse=True)\n",
        "\n",
        "# Results\n",
        "for x,y in similarities_dict.items():\n",
        "  print(x,y)"
      ],
      "metadata": {
        "colab": {
          "base_uri": "https://localhost:8080/"
        },
        "id": "ZQH36cWcm3Bw",
        "outputId": "67c55e3e-adec-45bd-c376-e76a4b30288b"
      },
      "execution_count": 20,
      "outputs": [
        {
          "output_type": "stream",
          "name": "stdout",
          "text": [
            "apartment [('apartment', 1.0000002), ('flat', 0.99992234), ('one', 0.9999166), ('nice', 0.99991447), ('well', 0.99991417), ('place', 0.99991405), ('day', 0.99991363), ('fotis', 0.99991256), ('area', 0.999908), ('best', 0.99990726), ('also', 0.999907), ('athens', 0.9999061), ('great', 0.99990517), ('good', 0.99990106), ('location', 0.99990046), ('even', 0.999899), ('night', 0.999899), ('coffee', 0.99989736), ('helpful', 0.9998948), ('really', 0.9998945), ('street', 0.99989325), ('clean', 0.99989134), ('city', 0.9998906), ('everything', 0.9998904), ('room', 0.99988854), ('time', 0.99988836), ('kitchen', 0.9998878), ('lovely', 0.9998877), ('comfortable', 0.99988717), ('neighborhood', 0.99988705), ('easy', 0.9998857), ('many', 0.9998851), ('much', 0.9998847), ('us', 0.99988407), ('stayed', 0.99988335), ('quiet', 0.9998828), ('house', 0.9998816), ('george', 0.99988157), ('could', 0.99988157), ('host', 0.9998809), ('balcony', 0.9998809), ('perfect', 0.9998797), ('need', 0.99987656), ('close', 0.9998756), ('needed', 0.99987406), ('get', 0.9998729), ('spacious', 0.99987197), ('soula', 0.9998708), ('away', 0.99987066), ('like', 0.99987024), ('excellent', 0.9998692), ('go', 0.99986833), ('space', 0.9998667), ('enjoyed', 0.99986625), ('two', 0.9998645), ('experience', 0.99986446), ('beautiful', 0.99986404), ('stay', 0.9998621), ('located', 0.9998604), ('around', 0.99986017), ('wonderful', 0.99985886), ('acropolis', 0.9998576), ('pygmalion', 0.99985397), ('made', 0.9998529), ('5', 0.9998523), ('haris', 0.99985164), ('first', 0.9998483), ('always', 0.9998475), ('metro', 0.9998448), ('safe', 0.99984354), ('home', 0.9998381), ('view', 0.99983776), ('visit', 0.99983746), ('amazing', 0.9998368), ('back', 0.99982697), ('restaurants', 0.99982584), ('staying', 0.9998249), ('minutes', 0.99982405), ('thank', 0.99982226), ('felt', 0.99981815), ('walk', 0.9998166), ('rooftop', 0.9998104), ('station', 0.99980974), ('terrace', 0.9998095), ('convenient', 0.9998077), ('met', 0.9997955), ('equipped', 0.99979484), ('would', 0.9997885), ('friendly', 0.99978095), ('central', 0.99977154), ('feel', 0.9997671), ('fantastic', 0.9997646), ('gave', 0.9997388), ('soulas', 0.99973565), ('recommend', 0.9997196), ('thanks', 0.9997131), ('definitely', 0.99963313), ('highly', 0.9996006), ('walking', 0.99957746), ('distance', 0.9993294)]\n",
            "great [('great', 0.9999998), ('apartment', 0.99990517), ('nice', 0.9998995), ('helpful', 0.9998892), ('athens', 0.9998886), ('area', 0.9998867), ('best', 0.9998861), ('fotis', 0.9998855), ('also', 0.99988365), ('really', 0.9998836), ('street', 0.9998828), ('even', 0.99988264), ('one', 0.99988234), ('day', 0.99988234), ('good', 0.999882), ('flat', 0.99988186), ('well', 0.9998807), ('coffee', 0.99987847), ('time', 0.9998777), ('host', 0.9998754), ('us', 0.9998748), ('get', 0.9998716), ('place', 0.99987125), ('perfect', 0.9998697), ('soula', 0.99986804), ('night', 0.99986756), ('much', 0.99986666), ('need', 0.99986637), ('neighborhood', 0.9998646), ('could', 0.99986315), ('wonderful', 0.9998628), ('location', 0.99986273), ('stay', 0.99986076), ('city', 0.99985945), ('like', 0.99985945), ('kitchen', 0.9998584), ('lovely', 0.9998574), ('needed', 0.9998563), ('balcony', 0.99985594), ('george', 0.9998551), ('space', 0.9998544), ('house', 0.9998542), ('easy', 0.999854), ('spacious', 0.9998521), ('comfortable', 0.9998518), ('many', 0.99985063), ('two', 0.99984944), ('excellent', 0.9998493), ('go', 0.9998493), ('everything', 0.9998489), ('stayed', 0.99984705), ('haris', 0.99984694), ('quiet', 0.9998455), ('acropolis', 0.99984443), ('away', 0.99984413), ('around', 0.9998435), ('first', 0.9998428), ('made', 0.9998421), ('view', 0.9998419), ('experience', 0.99984056), ('5', 0.99983615), ('pygmalion', 0.99983424), ('clean', 0.99983394), ('close', 0.99983394), ('always', 0.99983186), ('room', 0.9998306), ('beautiful', 0.9998304), ('enjoyed', 0.99982715), ('back', 0.9998253), ('home', 0.9998217), ('amazing', 0.99981356), ('minutes', 0.99981314), ('metro', 0.99980783), ('located', 0.99980783), ('visit', 0.99980575), ('felt', 0.99980134), ('terrace', 0.9998004), ('friendly', 0.99979496), ('met', 0.99979234), ('safe', 0.9997912), ('station', 0.99978775), ('staying', 0.99978715), ('walk', 0.99978495), ('convenient', 0.99978495), ('rooftop', 0.99978274), ('restaurants', 0.9997784), ('thank', 0.99976623), ('fantastic', 0.9997644), ('feel', 0.99975604), ('equipped', 0.99975365), ('central', 0.99974257), ('would', 0.99974036), ('gave', 0.9997364), ('soulas', 0.99973285), ('recommend', 0.9996956), ('thanks', 0.99968743), ('definitely', 0.9996022), ('walking', 0.9995633), ('highly', 0.99956167), ('distance', 0.9992771)]\n",
            "stay [('stay', 0.9999999), ('flat', 0.99986964), ('apartment', 0.9998621), ('place', 0.99986136), ('great', 0.99986076), ('perfect', 0.999856), ('day', 0.99985385), ('really', 0.9998512), ('athens', 0.9998507), ('time', 0.9998481), ('nice', 0.9998438), ('also', 0.999841), ('need', 0.9998409), ('much', 0.99983835), ('well', 0.99983734), ('best', 0.9998363), ('helpful', 0.99983424), ('needed', 0.99983424), ('location', 0.9998342), ('everything', 0.9998328), ('street', 0.99983275), ('one', 0.9998321), ('area', 0.9998317), ('balcony', 0.9998317), ('spacious', 0.99983084), ('quiet', 0.9998285), ('night', 0.99982846), ('easy', 0.9998264), ('stayed', 0.999826), ('experience', 0.99982506), ('house', 0.99982375), ('could', 0.99982363), ('city', 0.9998223), ('kitchen', 0.99982214), ('fotis', 0.9998217), ('back', 0.9998216), ('george', 0.99982023), ('host', 0.99982005), ('excellent', 0.9998193), ('coffee', 0.999818), ('go', 0.9998174), ('space', 0.9998172), ('lovely', 0.999817), ('many', 0.99981624), ('two', 0.99981517), ('clean', 0.99981326), ('good', 0.9998128), ('soula', 0.9998127), ('neighborhood', 0.9998127), ('always', 0.99981123), ('get', 0.99981064), ('would', 0.9998083), ('beautiful', 0.9998046), ('visit', 0.9998039), ('wonderful', 0.9998037), ('enjoyed', 0.999803), ('even', 0.9998022), ('like', 0.9998005), ('amazing', 0.9997952), ('home', 0.9997947), ('around', 0.99979347), ('staying', 0.9997934), ('comfortable', 0.99979156), ('us', 0.999791), ('haris', 0.9997907), ('located', 0.9997893), ('thank', 0.99978644), ('view', 0.99978405), ('pygmalion', 0.99977994), ('away', 0.99977875), ('5', 0.99977857), ('made', 0.9997768), ('close', 0.999776), ('first', 0.99977475), ('safe', 0.99977314), ('room', 0.99976933), ('recommend', 0.9997641), ('convenient', 0.9997592), ('metro', 0.9997558), ('acropolis', 0.9997514), ('minutes', 0.9997471), ('restaurants', 0.99974364), ('felt', 0.99973834), ('equipped', 0.99973404), ('friendly', 0.99973345), ('station', 0.9997309), ('central', 0.9997276), ('soulas', 0.9997251), ('walk', 0.99972093), ('terrace', 0.999719), ('rooftop', 0.9997169), ('met', 0.99971634), ('definitely', 0.99968386), ('fantastic', 0.999683), ('feel', 0.99967843), ('thanks', 0.99967015), ('highly', 0.9996681), ('gave', 0.99963295), ('walking', 0.9995081), ('distance', 0.99923104)]\n",
            "athens [('athens', 1.0000002), ('place', 0.9999093), ('apartment', 0.9999061), ('flat', 0.9998961), ('day', 0.99989605), ('best', 0.99989265), ('good', 0.999892), ('street', 0.99988896), ('great', 0.9998886), ('one', 0.99988836), ('even', 0.99988586), ('area', 0.999885), ('nice', 0.99988496), ('really', 0.9998832), ('night', 0.9998809), ('also', 0.9998797), ('city', 0.9998778), ('fotis', 0.9998775), ('neighborhood', 0.9998771), ('get', 0.9998758), ('easy', 0.99987525), ('host', 0.99987465), ('house', 0.99987465), ('could', 0.9998727), ('much', 0.99987257), ('time', 0.9998716), ('go', 0.9998714), ('helpful', 0.9998703), ('coffee', 0.9998695), ('comfortable', 0.9998693), ('well', 0.99986875), ('like', 0.9998685), ('location', 0.9998681), ('everything', 0.999868), ('lovely', 0.9998678), ('perfect', 0.9998661), ('many', 0.99986446), ('clean', 0.9998611), ('need', 0.99986017), ('george', 0.9998599), ('space', 0.99985933), ('us', 0.9998573), ('close', 0.9998572), ('balcony', 0.999857), ('experience', 0.99985623), ('away', 0.9998558), ('kitchen', 0.9998555), ('5', 0.999855), ('two', 0.9998545), ('beautiful', 0.9998543), ('needed', 0.9998513), ('stay', 0.9998507), ('back', 0.9998494), ('acropolis', 0.9998469), ('enjoyed', 0.9998463), ('room', 0.999844), ('stayed', 0.9998439), ('excellent', 0.9998411), ('first', 0.9998408), ('spacious', 0.99984056), ('soula', 0.9998401), ('wonderful', 0.9998393), ('made', 0.9998392), ('pygmalion', 0.99983025), ('view', 0.9998302), ('quiet', 0.99983), ('home', 0.99982756), ('around', 0.9998269), ('located', 0.99982256), ('metro', 0.9998187), ('amazing', 0.9998158), ('would', 0.9998148), ('staying', 0.9998136), ('minutes', 0.9998126), ('visit', 0.99981034), ('always', 0.9998077), ('restaurants', 0.9998071), ('thank', 0.9998071), ('convenient', 0.99980533), ('haris', 0.99980354), ('safe', 0.9998002), ('rooftop', 0.9997971), ('felt', 0.9997971), ('terrace', 0.99979335), ('met', 0.9997918), ('walk', 0.9997916), ('station', 0.99978447), ('soulas', 0.9997557), ('equipped', 0.9997551), ('friendly', 0.99974966), ('feel', 0.99974716), ('central', 0.9997406), ('fantastic', 0.9997387), ('recommend', 0.9997333), ('thanks', 0.9997151), ('gave', 0.9997053), ('definitely', 0.9996982), ('highly', 0.9996466), ('walking', 0.99954367), ('distance', 0.99931705)]\n",
            "us [('us', 1.0000002), ('fotis', 0.999916), ('even', 0.9999151), ('coffee', 0.9999012), ('also', 0.99989945), ('helpful', 0.9998976), ('street', 0.9998919), ('day', 0.9998877), ('best', 0.9998874), ('time', 0.9998841), ('apartment', 0.99988407), ('one', 0.99988204), ('night', 0.99988145), ('get', 0.9998811), ('well', 0.99988097), ('nice', 0.99987715), ('george', 0.9998767), ('flat', 0.9998753), ('great', 0.9998748), ('like', 0.99987435), ('room', 0.999873), ('around', 0.999872), ('host', 0.99987096), ('area', 0.9998704), ('city', 0.99987006), ('met', 0.9998697), ('could', 0.99986935), ('go', 0.9998691), ('stayed', 0.99986905), ('pygmalion', 0.99986655), ('good', 0.99986553), ('made', 0.9998621), ('soula', 0.9998611), ('really', 0.99986), ('athens', 0.9998573), ('house', 0.9998558), ('haris', 0.9998555), ('away', 0.99985504), ('kitchen', 0.9998549), ('easy', 0.9998547), ('neighborhood', 0.99985236), ('much', 0.9998495), ('perfect', 0.999849), ('5', 0.9998469), ('first', 0.9998452), ('need', 0.999844), ('many', 0.9998413), ('place', 0.9998412), ('needed', 0.9998397), ('everything', 0.9998393), ('experience', 0.99983925), ('excellent', 0.99983567), ('balcony', 0.9998349), ('close', 0.99983466), ('quiet', 0.99983346), ('always', 0.99982905), ('back', 0.9998284), ('location', 0.9998259), ('lovely', 0.9998254), ('two', 0.9998251), ('home', 0.99982446), ('comfortable', 0.9998215), ('spacious', 0.99981666), ('acropolis', 0.9998154), ('space', 0.9998144), ('safe', 0.99981374), ('visit', 0.99981326), ('wonderful', 0.9998103), ('enjoyed', 0.999808), ('clean', 0.9998074), ('gave', 0.999806), ('located', 0.99980366), ('metro', 0.9998011), ('friendly', 0.9997995), ('beautiful', 0.9997973), ('minutes', 0.9997961), ('station', 0.99979395), ('stay', 0.999791), ('view', 0.99978423), ('feel', 0.99978364), ('staying', 0.9997742), ('rooftop', 0.99977165), ('felt', 0.9997705), ('restaurants', 0.99977), ('thank', 0.9997657), ('walk', 0.99976015), ('convenient', 0.99976), ('amazing', 0.9997553), ('terrace', 0.9997517), ('equipped', 0.9997351), ('central', 0.999731), ('would', 0.9997286), ('fantastic', 0.9997163), ('thanks', 0.9996947), ('soulas', 0.99968797), ('recommend', 0.9996423), ('definitely', 0.99955505), ('highly', 0.99954677), ('walking', 0.9995318), ('distance', 0.9992571)]\n",
            "place [('place', 0.9999999), ('apartment', 0.99991405), ('athens', 0.9999093), ('flat', 0.9998958), ('one', 0.9998931), ('nice', 0.99989057), ('best', 0.9998887), ('really', 0.9998782), ('helpful', 0.9998774), ('night', 0.9998773), ('day', 0.99987584), ('coffee', 0.9998748), ('street', 0.99987143), ('great', 0.99987125), ('well', 0.9998679), ('comfortable', 0.9998674), ('area', 0.99986726), ('also', 0.99986696), ('many', 0.99986446), ('time', 0.9998643), ('house', 0.9998641), ('get', 0.99986345), ('kitchen', 0.9998627), ('stay', 0.99986136), ('like', 0.9998609), ('need', 0.9998606), ('location', 0.9998596), ('host', 0.9998584), ('perfect', 0.99985754), ('fotis', 0.99985695), ('go', 0.9998567), ('good', 0.9998539), ('two', 0.9998535), ('george', 0.9998533), ('excellent', 0.9998527), ('stayed', 0.99985254), ('easy', 0.9998523), ('space', 0.99985224), ('away', 0.9998521), ('everything', 0.99985206), ('city', 0.99985194), ('much', 0.99985147), ('clean', 0.99985063), ('experience', 0.9998505), ('even', 0.99985033), ('lovely', 0.99984914), ('balcony', 0.9998482), ('beautiful', 0.999847), ('could', 0.99984515), ('enjoyed', 0.99984473), ('spacious', 0.999844), ('wonderful', 0.9998429), ('needed', 0.999842), ('us', 0.9998412), ('back', 0.99983925), ('quiet', 0.9998355), ('soula', 0.99983525), ('neighborhood', 0.99983394), ('made', 0.99983186), ('room', 0.99983144), ('5', 0.9998292), ('staying', 0.99982595), ('would', 0.99982536), ('acropolis', 0.9998251), ('visit', 0.99982405), ('close', 0.9998226), ('located', 0.9998214), ('amazing', 0.99981654), ('view', 0.99981654), ('home', 0.99981153), ('thank', 0.9998115), ('first', 0.99981093), ('pygmalion', 0.9998105), ('haris', 0.99980927), ('around', 0.9998077), ('restaurants', 0.99980336), ('rooftop', 0.9998009), ('always', 0.9998007), ('safe', 0.9997951), ('terrace', 0.9997918), ('felt', 0.99979085), ('metro', 0.9997891), ('walk', 0.999785), ('minutes', 0.9997837), ('recommend', 0.99977744), ('convenient', 0.99977154), ('station', 0.9997703), ('met', 0.99976414), ('fantastic', 0.99975973), ('equipped', 0.99975824), ('soulas', 0.99975693), ('friendly', 0.99974835), ('feel', 0.9997327), ('central', 0.9997233), ('thanks', 0.99971545), ('gave', 0.9996889), ('definitely', 0.9996838), ('highly', 0.9996578), ('walking', 0.9995425), ('distance', 0.99925876)]\n",
            "location [('location', 1.0000001), ('apartment', 0.99990046), ('area', 0.9998817), ('well', 0.99987966), ('also', 0.99987626), ('day', 0.9998699), ('athens', 0.9998681), ('nice', 0.9998677), ('great', 0.99986273), ('easy', 0.99986273), ('one', 0.99986154), ('flat', 0.9998615), ('street', 0.9998611), ('place', 0.9998596), ('city', 0.99985904), ('best', 0.999859), ('fotis', 0.9998549), ('many', 0.99985415), ('house', 0.999854), ('good', 0.9998536), ('neighborhood', 0.9998532), ('could', 0.99985296), ('really', 0.9998491), ('around', 0.99984896), ('even', 0.9998479), ('quiet', 0.999847), ('night', 0.99984676), ('host', 0.99984646), ('perfect', 0.9998453), ('excellent', 0.9998453), ('spacious', 0.9998435), ('get', 0.9998409), ('coffee', 0.99984), ('helpful', 0.99983954), ('much', 0.9998386), ('acropolis', 0.9998383), ('experience', 0.9998383), ('george', 0.9998377), ('space', 0.99983764), ('everything', 0.9998374), ('lovely', 0.99983734), ('away', 0.99983686), ('time', 0.9998365), ('5', 0.9998352), ('clean', 0.9998347), ('stay', 0.9998342), ('go', 0.99983317), ('room', 0.999833), ('balcony', 0.9998318), ('need', 0.9998306), ('close', 0.9998304), ('view', 0.9998279), ('beautiful', 0.9998274), ('wonderful', 0.9998274), ('us', 0.9998259), ('comfortable', 0.99982363), ('two', 0.99982184), ('safe', 0.999821), ('like', 0.99981993), ('metro', 0.99981976), ('always', 0.9998194), ('kitchen', 0.999819), ('needed', 0.9998174), ('pygmalion', 0.9998173), ('stayed', 0.99981546), ('soula', 0.99981487), ('located', 0.999812), ('first', 0.99980724), ('restaurants', 0.9998053), ('amazing', 0.99980426), ('made', 0.9997998), ('terrace', 0.999798), ('enjoyed', 0.99979365), ('walk', 0.99979097), ('station', 0.99978954), ('haris', 0.99978846), ('minutes', 0.9997876), ('convenient', 0.9997865), ('home', 0.99978316), ('staying', 0.9997795), ('rooftop', 0.9997729), ('felt', 0.99977136), ('met', 0.9997599), ('thank', 0.99975973), ('back', 0.9997568), ('visit', 0.999755), ('friendly', 0.9997475), ('central', 0.9997446), ('would', 0.9997367), ('feel', 0.9997221), ('equipped', 0.99970496), ('fantastic', 0.9996922), ('gave', 0.999683), ('soulas', 0.99967074), ('recommend', 0.9996587), ('thanks', 0.9996565), ('definitely', 0.99957997), ('walking', 0.99957454), ('highly', 0.99956155), ('distance', 0.99937934)]\n",
            "clean [('clean', 0.9999999), ('apartment', 0.99989134), ('athens', 0.9998611), ('really', 0.9998578), ('fotis', 0.9998575), ('spacious', 0.9998563), ('area', 0.99985504), ('flat', 0.9998547), ('one', 0.99985117), ('day', 0.99985105), ('place', 0.99985063), ('nice', 0.9998503), ('even', 0.9998494), ('well', 0.9998484), ('neighborhood', 0.99984497), ('everything', 0.99984485), ('city', 0.99984384), ('perfect', 0.99984306), ('located', 0.99984276), ('street', 0.9998412), ('also', 0.99983937), ('lovely', 0.99983937), ('night', 0.9998387), ('good', 0.9998366), ('much', 0.9998358), ('location', 0.9998347), ('great', 0.99983394), ('could', 0.99983305), ('close', 0.99983144), ('comfortable', 0.9998312), ('like', 0.99983096), ('stayed', 0.99983), ('kitchen', 0.9998296), ('coffee', 0.9998293), ('room', 0.9998283), ('get', 0.9998279), ('quiet', 0.99982715), ('george', 0.9998268), ('need', 0.9998253), ('excellent', 0.99982524), ('time', 0.99982494), ('best', 0.99982375), ('beautiful', 0.9998224), ('many', 0.9998216), ('balcony', 0.9998212), ('host', 0.9998197), ('space', 0.99981755), ('house', 0.9998175), ('needed', 0.9998157), ('easy', 0.9998155), ('stay', 0.99981326), ('enjoyed', 0.9998098), ('helpful', 0.9998087), ('two', 0.99980843), ('away', 0.99980795), ('us', 0.9998074), ('5', 0.9998058), ('go', 0.9998033), ('back', 0.9998014), ('around', 0.999797), ('wonderful', 0.9997937), ('metro', 0.9997934), ('experience', 0.99979293), ('safe', 0.99978906), ('restaurants', 0.99978894), ('amazing', 0.9997869), ('soula', 0.9997859), ('acropolis', 0.99978447), ('always', 0.9997832), ('home', 0.99978083), ('made', 0.9997787), ('haris', 0.99977535), ('pygmalion', 0.99977493), ('terrace', 0.99977237), ('convenient', 0.9997715), ('felt', 0.999766), ('equipped', 0.9997636), ('first', 0.99976003), ('view', 0.9997591), ('visit', 0.99975526), ('station', 0.99975497), ('rooftop', 0.9997506), ('minutes', 0.9997477), ('would', 0.9997358), ('central', 0.9997356), ('staying', 0.99973154), ('met', 0.999725), ('walk', 0.99972373), ('fantastic', 0.9997208), ('thank', 0.99971807), ('friendly', 0.99970824), ('feel', 0.99970347), ('soulas', 0.99968594), ('recommend', 0.99965197), ('gave', 0.99964076), ('thanks', 0.9996402), ('definitely', 0.9996064), ('highly', 0.9995557), ('walking', 0.9995005), ('distance', 0.99929976)]\n",
            "everything [('everything', 0.9999999), ('apartment', 0.9998904), ('also', 0.9998821), ('one', 0.99987847), ('could', 0.9998699), ('well', 0.99986964), ('coffee', 0.99986845), ('athens', 0.999868), ('easy', 0.99986714), ('even', 0.999863), ('nice', 0.9998628), ('day', 0.9998622), ('perfect', 0.99986106), ('time', 0.9998608), ('house', 0.9998587), ('need', 0.99985826), ('spacious', 0.99985665), ('fotis', 0.99985653), ('area', 0.9998542), ('street', 0.9998535), ('stayed', 0.999853), ('helpful', 0.99985224), ('place', 0.99985206), ('good', 0.9998505), ('flat', 0.9998491), ('great', 0.9998489), ('neighborhood', 0.9998455), ('clean', 0.99984485), ('get', 0.9998447), ('host', 0.9998442), ('soula', 0.99984294), ('really', 0.9998423), ('george', 0.99984145), ('made', 0.9998406), ('us', 0.9998393), ('city', 0.99983907), ('like', 0.99983895), ('location', 0.9998374), ('comfortable', 0.9998371), ('night', 0.99983686), ('much', 0.99983466), ('lovely', 0.9998341), ('best', 0.99983346), ('kitchen', 0.9998329), ('stay', 0.9998328), ('space', 0.9998313), ('quiet', 0.99982905), ('home', 0.9998278), ('excellent', 0.99982655), ('go', 0.99982643), ('room', 0.99982375), ('close', 0.9998237), ('two', 0.9998228), ('many', 0.99981976), ('around', 0.9998195), ('enjoyed', 0.99981576), ('experience', 0.9998131), ('balcony', 0.9998124), ('located', 0.9998123), ('pygmalion', 0.99981135), ('beautiful', 0.9998105), ('always', 0.9998103), ('first', 0.99980783), ('needed', 0.99980736), ('back', 0.99980515), ('away', 0.9998033), ('acropolis', 0.99980134), ('metro', 0.99979943), ('view', 0.99979115), ('haris', 0.999791), ('wonderful', 0.9997887), ('5', 0.99978745), ('visit', 0.9997856), ('safe', 0.99977446), ('convenient', 0.99976885), ('felt', 0.9997685), ('amazing', 0.9997665), ('station', 0.9997658), ('minutes', 0.9997639), ('restaurants', 0.99976337), ('met', 0.9997612), ('thank', 0.9997611), ('feel', 0.9997607), ('walk', 0.9997449), ('friendly', 0.99974453), ('staying', 0.99974376), ('would', 0.9997415), ('terrace', 0.999735), ('equipped', 0.9997312), ('central', 0.9997295), ('rooftop', 0.99972516), ('soulas', 0.99971837), ('fantastic', 0.99971765), ('gave', 0.9997077), ('thanks', 0.99966276), ('recommend', 0.9996451), ('definitely', 0.99960136), ('highly', 0.99957675), ('walking', 0.9995419), ('distance', 0.9992584)]\n",
            "host [('host', 1.0000002), ('helpful', 0.9998837), ('apartment', 0.9998809), ('well', 0.9998757), ('great', 0.9998754), ('athens', 0.99987465), ('nice', 0.99987155), ('us', 0.99987096), ('even', 0.9998684), ('day', 0.99986774), ('flat', 0.99986744), ('best', 0.99986637), ('fotis', 0.9998662), ('also', 0.9998653), ('place', 0.9998584), ('really', 0.9998561), ('one', 0.99985504), ('area', 0.99985474), ('need', 0.9998547), ('excellent', 0.999853), ('time', 0.99985135), ('like', 0.9998497), ('get', 0.9998493), ('perfect', 0.9998492), ('soula', 0.9998489), ('george', 0.99984854), ('coffee', 0.99984854), ('pygmalion', 0.999848), ('made', 0.9998471), ('location', 0.99984646), ('street', 0.99984586), ('everything', 0.9998442), ('night', 0.9998442), ('city', 0.99984205), ('house', 0.99984187), ('comfortable', 0.99984175), ('good', 0.99984163), ('much', 0.9998403), ('experience', 0.9998397), ('stayed', 0.99983823), ('easy', 0.9998377), ('always', 0.9998375), ('go', 0.9998331), ('could', 0.99983096), ('quiet', 0.99983), ('balcony', 0.9998299), ('neighborhood', 0.99982876), ('kitchen', 0.99982846), ('haris', 0.99982643), ('needed', 0.9998236), ('beautiful', 0.9998235), ('space', 0.99982244), ('lovely', 0.9998224), ('stay', 0.99982005), ('room', 0.9998198), ('clean', 0.9998197), ('wonderful', 0.9998194), ('5', 0.99981916), ('spacious', 0.9998177), ('home', 0.9998149), ('many', 0.9998138), ('two', 0.9998097), ('away', 0.99980813), ('first', 0.9998034), ('around', 0.9998023), ('enjoyed', 0.99980205), ('view', 0.99979895), ('close', 0.99979645), ('acropolis', 0.9997945), ('back', 0.9997896), ('visit', 0.9997854), ('thank', 0.99978155), ('located', 0.99978095), ('safe', 0.99978054), ('minutes', 0.9997802), ('met', 0.9997787), ('staying', 0.99977237), ('felt', 0.9997718), ('amazing', 0.99976796), ('metro', 0.9997631), ('feel', 0.99976194), ('friendly', 0.9997603), ('station', 0.99975854), ('would', 0.9997518), ('restaurants', 0.9997511), ('terrace', 0.99974626), ('equipped', 0.99974275), ('convenient', 0.99973893), ('central', 0.99973667), ('gave', 0.9997337), ('walk', 0.9997333), ('fantastic', 0.9997307), ('rooftop', 0.999725), ('recommend', 0.9997029), ('soulas', 0.99969864), ('thanks', 0.9996913), ('definitely', 0.99962753), ('highly', 0.9996045), ('walking', 0.99950844), ('distance', 0.9992068)]\n",
            "nice [('nice', 1.0000001), ('apartment', 0.99991447), ('one', 0.9999116), ('area', 0.99990803), ('also', 0.9999042), ('day', 0.99990124), ('even', 0.9999004), ('great', 0.9998995), ('really', 0.9998961), ('street', 0.99989337), ('well', 0.999893), ('place', 0.99989057), ('night', 0.9998902), ('best', 0.9998886), ('good', 0.999888), ('george', 0.99988693), ('helpful', 0.99988604), ('time', 0.9998855), ('city', 0.9998855), ('athens', 0.99988496), ('much', 0.99988467), ('flat', 0.9998839), ('coffee', 0.9998836), ('perfect', 0.9998822), ('fotis', 0.99987954), ('could', 0.9998792), ('neighborhood', 0.999878), ('us', 0.99987715), ('soula', 0.9998744), ('quiet', 0.9998732), ('away', 0.99987286), ('comfortable', 0.99987274), ('excellent', 0.99987245), ('host', 0.99987155), ('kitchen', 0.9998706), ('stayed', 0.9998698), ('house', 0.99986947), ('get', 0.99986935), ('spacious', 0.99986863), ('easy', 0.9998683), ('location', 0.9998677), ('balcony', 0.9998666), ('two', 0.9998662), ('go', 0.99986565), ('like', 0.9998649), ('space', 0.9998649), ('room', 0.9998643), ('many', 0.9998639), ('acropolis', 0.99986297), ('everything', 0.9998628), ('pygmalion', 0.9998621), ('lovely', 0.9998602), ('need', 0.9998589), ('beautiful', 0.99985754), ('wonderful', 0.9998562), ('metro', 0.99985343), ('experience', 0.9998508), ('5', 0.99985045), ('clean', 0.9998503), ('close', 0.9998501), ('enjoyed', 0.99985003), ('first', 0.9998487), ('view', 0.99984854), ('needed', 0.99984777), ('stay', 0.9998438), ('around', 0.9998388), ('made', 0.99983627), ('back', 0.9998354), ('haris', 0.9998321), ('home', 0.9998293), ('minutes', 0.9998247), ('visit', 0.9998214), ('safe', 0.99982), ('always', 0.9998189), ('restaurants', 0.99981284), ('walk', 0.9998119), ('located', 0.999811), ('amazing', 0.9998098), ('station', 0.9998084), ('friendly', 0.9998049), ('met', 0.99980205), ('convenient', 0.99980104), ('terrace', 0.9997994), ('thank', 0.999794), ('felt', 0.9997934), ('staying', 0.99979097), ('equipped', 0.99978894), ('would', 0.9997844), ('rooftop', 0.99978137), ('central', 0.9997658), ('fantastic', 0.99976206), ('feel', 0.9997573), ('gave', 0.99972665), ('recommend', 0.99972624), ('soulas', 0.99972415), ('thanks', 0.9997063), ('highly', 0.9996046), ('definitely', 0.9996031), ('walking', 0.99954736), ('distance', 0.99928224)]\n",
            "would [('would', 1.0000001), ('place', 0.99982536), ('athens', 0.9998148), ('stay', 0.9998083), ('back', 0.99979794), ('recommend', 0.9997909), ('best', 0.99979), ('apartment', 0.9997885), ('nice', 0.9997844), ('helpful', 0.99978185), ('stayed', 0.99977964), ('george', 0.9997792), ('two', 0.9997783), ('one', 0.9997781), ('day', 0.99977344), ('staying', 0.99977225), ('experience', 0.99977016), ('go', 0.9997693), ('need', 0.999769), ('time', 0.9997643), ('visit', 0.9997625), ('street', 0.9997596), ('flat', 0.9997586), ('night', 0.9997579), ('really', 0.99975765), ('also', 0.9997531), ('area', 0.99975294), ('host', 0.9997518), ('space', 0.9997512), ('comfortable', 0.99975055), ('much', 0.9997502), ('coffee', 0.99974626), ('perfect', 0.99974555), ('could', 0.9997439), ('excellent', 0.9997431), ('needed', 0.99974275), ('definitely', 0.99974155), ('everything', 0.9997415), ('good', 0.9997408), ('great', 0.99974036), ('lovely', 0.99974024), ('house', 0.99973905), ('fotis', 0.99973845), ('quiet', 0.9997382), ('easy', 0.99973714), ('neighborhood', 0.9997371), ('location', 0.9997367), ('many', 0.99973655), ('clean', 0.9997358), ('beautiful', 0.9997333), ('spacious', 0.9997332), ('highly', 0.9997328), ('soula', 0.99973047), ('enjoyed', 0.99973), ('wonderful', 0.99972993), ('kitchen', 0.9997293), ('us', 0.9997286), ('made', 0.99972826), ('well', 0.9997262), ('like', 0.9997253), ('get', 0.9997246), ('pygmalion', 0.9997219), ('home', 0.99972147), ('city', 0.99972045), ('even', 0.9997201), ('first', 0.999716), ('amazing', 0.999713), ('balcony', 0.9997097), ('away', 0.9997077), ('haris', 0.9997029), ('room', 0.99970245), ('thank', 0.99970126), ('safe', 0.9996978), ('always', 0.9996956), ('5', 0.99969256), ('restaurants', 0.9996906), ('view', 0.9996863), ('located', 0.999686), ('acropolis', 0.99968386), ('around', 0.9996798), ('friendly', 0.9996785), ('soulas', 0.9996742), ('close', 0.9996718), ('minutes', 0.99966663), ('metro', 0.999664), ('thanks', 0.9996565), ('station', 0.9996528), ('rooftop', 0.99964267), ('felt', 0.9996423), ('convenient', 0.9996422), ('met', 0.9996406), ('terrace', 0.9996259), ('fantastic', 0.9996158), ('walk', 0.9996057), ('feel', 0.99960124), ('equipped', 0.9995893), ('central', 0.99958736), ('gave', 0.99954236), ('walking', 0.9994099), ('distance', 0.9990844)]\n",
            "recommend [('recommend', 0.99999976), ('would', 0.9997909), ('place', 0.99977744), ('stay', 0.9997641), ('athens', 0.9997333), ('need', 0.9997266), ('nice', 0.99972624), ('staying', 0.9997256), ('really', 0.99972034), ('apartment', 0.9997196), ('experience', 0.99971753), ('needed', 0.9997105), ('one', 0.9997081), ('excellent', 0.9997067), ('george', 0.9997058), ('best', 0.9997045), ('host', 0.9997029), ('much', 0.9997028), ('flat', 0.99970174), ('day', 0.9997005), ('comfortable', 0.99969876), ('great', 0.9996956), ('helpful', 0.9996948), ('lovely', 0.99969476), ('go', 0.9996931), ('time', 0.999692), ('quiet', 0.9996906), ('spacious', 0.9996898), ('visit', 0.99968916), ('definitely', 0.9996876), ('stayed', 0.99968666), ('well', 0.9996862), ('soula', 0.9996862), ('back', 0.9996776), ('street', 0.9996774), ('area', 0.99967647), ('perfect', 0.99967504), ('also', 0.9996745), ('kitchen', 0.9996744), ('easy', 0.99967194), ('coffee', 0.999671), ('pygmalion', 0.9996669), ('wonderful', 0.9996652), ('night', 0.9996601), ('fotis', 0.9996598), ('good', 0.99965906), ('location', 0.9996587), ('two', 0.9996571), ('house', 0.99965674), ('always', 0.9996548), ('get', 0.9996547), ('beautiful', 0.99965435), ('city', 0.9996537), ('friendly', 0.999653), ('clean', 0.99965197), ('even', 0.99965006), ('made', 0.99964833), ('could', 0.9996479), ('like', 0.99964786), ('neighborhood', 0.9996459), ('haris', 0.99964577), ('everything', 0.9996451), ('us', 0.9996423), ('many', 0.99964213), ('balcony', 0.99963933), ('first', 0.9996337), ('amazing', 0.99963295), ('soulas', 0.9996308), ('space', 0.9996305), ('home', 0.99962926), ('5', 0.9996264), ('enjoyed', 0.99962467), ('thank', 0.99961925), ('away', 0.9996156), ('view', 0.9996146), ('close', 0.99961305), ('felt', 0.9996114), ('around', 0.9996108), ('equipped', 0.9996096), ('minutes', 0.99960524), ('safe', 0.99960464), ('central', 0.99960226), ('located', 0.9995995), ('room', 0.9995955), ('highly', 0.99959517), ('acropolis', 0.9995903), ('walk', 0.9995864), ('convenient', 0.99958515), ('met', 0.9995847), ('restaurants', 0.99956924), ('metro', 0.99956846), ('fantastic', 0.99956757), ('rooftop', 0.9995634), ('terrace', 0.99956226), ('station', 0.9995611), ('feel', 0.9995591), ('thanks', 0.999539), ('gave', 0.9994816), ('walking', 0.9992946), ('distance', 0.99901813)]\n",
            "flat [('flat', 0.99999976), ('apartment', 0.99992234), ('day', 0.9998995), ('best', 0.9998966), ('athens', 0.9998961), ('one', 0.999896), ('place', 0.9998958), ('night', 0.9998944), ('also', 0.9998939), ('well', 0.99989134), ('fotis', 0.99989045), ('good', 0.9998884), ('coffee', 0.99988574), ('balcony', 0.99988484), ('street', 0.9998846), ('nice', 0.9998839), ('even', 0.9998837), ('great', 0.99988186), ('many', 0.9998817), ('time', 0.99988157), ('perfect', 0.99988127), ('area', 0.99988), ('us', 0.9998753), ('helpful', 0.99987423), ('kitchen', 0.999874), ('city', 0.9998704), ('much', 0.99987024), ('stay', 0.99986964), ('neighborhood', 0.99986863), ('host', 0.99986744), ('easy', 0.9998673), ('away', 0.99986607), ('get', 0.99986553), ('house', 0.9998636), ('really', 0.9998634), ('room', 0.9998621), ('could', 0.99986184), ('excellent', 0.9998617), ('location', 0.9998615), ('like', 0.99985975), ('go', 0.9998571), ('lovely', 0.99985605), ('clean', 0.9998547), ('comfortable', 0.999854), ('quiet', 0.9998539), ('george', 0.9998538), ('5', 0.9998531), ('space', 0.999853), ('beautiful', 0.99985284), ('around', 0.999852), ('stayed', 0.99985164), ('experience', 0.9998516), ('soula', 0.9998511), ('two', 0.9998501), ('everything', 0.9998491), ('close', 0.9998469), ('wonderful', 0.99984384), ('spacious', 0.99984235), ('pygmalion', 0.9998408), ('home', 0.99983954), ('visit', 0.9998394), ('need', 0.9998384), ('acropolis', 0.9998374), ('enjoyed', 0.99983364), ('needed', 0.9998281), ('always', 0.9998269), ('haris', 0.99982613), ('made', 0.9998261), ('located', 0.99982494), ('first', 0.99982196), ('back', 0.9998166), ('minutes', 0.99981654), ('view', 0.9998153), ('staying', 0.99981177), ('safe', 0.9998107), ('metro', 0.9998063), ('restaurants', 0.9998062), ('station', 0.999801), ('convenient', 0.999799), ('felt', 0.9997984), ('amazing', 0.9997977), ('thank', 0.9997949), ('walk', 0.99979186), ('met', 0.99979174), ('terrace', 0.9997826), ('equipped', 0.9997801), ('rooftop', 0.99977684), ('central', 0.9997652), ('fantastic', 0.9997599), ('would', 0.9997586), ('friendly', 0.999749), ('feel', 0.99974763), ('gave', 0.99973476), ('soulas', 0.9997258), ('recommend', 0.99970174), ('thanks', 0.999697), ('definitely', 0.99963737), ('highly', 0.9996264), ('walking', 0.9995695), ('distance', 0.9993014)]\n",
            "good [('good', 1.0), ('also', 0.9999098), ('day', 0.99990237), ('apartment', 0.99990106), ('area', 0.9998996), ('best', 0.9998993), ('neighborhood', 0.9998958), ('street', 0.9998948), ('one', 0.9998937), ('athens', 0.999892), ('flat', 0.9998884), ('nice', 0.999888), ('coffee', 0.99988675), ('even', 0.9998851), ('get', 0.99988437), ('many', 0.99988353), ('time', 0.9998833), ('great', 0.999882), ('fotis', 0.9998812), ('could', 0.99987906), ('night', 0.99987894), ('away', 0.9998782), ('close', 0.9998776), ('helpful', 0.99987304), ('really', 0.9998723), ('well', 0.9998719), ('perfect', 0.9998718), ('house', 0.9998714), ('city', 0.9998709), ('much', 0.9998691), ('quiet', 0.99986887), ('5', 0.9998672), ('lovely', 0.9998656), ('us', 0.99986553), ('go', 0.99986535), ('enjoyed', 0.9998634), ('metro', 0.9998631), ('george', 0.9998615), ('acropolis', 0.999861), ('easy', 0.99985963), ('around', 0.99985856), ('excellent', 0.9998578), ('balcony', 0.999857), ('room', 0.999856), ('place', 0.9998539), ('location', 0.9998536), ('stayed', 0.999853), ('need', 0.99985117), ('everything', 0.9998505), ('minutes', 0.9998501), ('kitchen', 0.9998498), ('two', 0.9998426), ('host', 0.99984163), ('walk', 0.99983984), ('like', 0.9998397), ('experience', 0.9998392), ('restaurants', 0.99983686), ('clean', 0.9998366), ('comfortable', 0.9998327), ('made', 0.9998308), ('always', 0.9998299), ('station', 0.99982965), ('space', 0.99982876), ('soula', 0.9998282), ('first', 0.99982715), ('located', 0.9998262), ('back', 0.99982464), ('safe', 0.99982464), ('needed', 0.9998224), ('pygmalion', 0.99982184), ('wonderful', 0.9998199), ('beautiful', 0.99981564), ('convenient', 0.9998149), ('stay', 0.9998128), ('spacious', 0.99981236), ('visit', 0.9998106), ('home', 0.9998013), ('felt', 0.9997987), ('view', 0.99979514), ('haris', 0.9997917), ('amazing', 0.9997885), ('met', 0.9997792), ('central', 0.9997742), ('terrace', 0.9997693), ('equipped', 0.99976456), ('staying', 0.99976027), ('fantastic', 0.99975824), ('friendly', 0.9997539), ('rooftop', 0.99975145), ('thank', 0.9997434), ('would', 0.9997408), ('feel', 0.99973005), ('thanks', 0.9996985), ('soulas', 0.99969774), ('gave', 0.9996948), ('recommend', 0.99965906), ('walking', 0.99962467), ('definitely', 0.9996073), ('highly', 0.9995719), ('distance', 0.99933976)]\n",
            "metro [('metro', 1.0000001), ('also', 0.99987537), ('acropolis', 0.99987274), ('away', 0.9998638), ('good', 0.9998631), ('area', 0.99986225), ('minutes', 0.9998602), ('station', 0.9998599), ('neighborhood', 0.9998577), ('nice', 0.99985343), ('walk', 0.9998526), ('close', 0.99985254), ('day', 0.99984574), ('street', 0.99984556), ('easy', 0.99984527), ('apartment', 0.9998448), ('even', 0.99984384), ('5', 0.9998438), ('city', 0.9998432), ('many', 0.99983954), ('coffee', 0.99983543), ('could', 0.9998348), ('one', 0.99983454), ('restaurants', 0.99982816), ('get', 0.9998274), ('really', 0.9998268), ('balcony', 0.99982655), ('well', 0.9998224), ('around', 0.9998212), ('fotis', 0.9998206), ('best', 0.99982035), ('night', 0.9998202), ('much', 0.99982), ('location', 0.99981976), ('athens', 0.9998187), ('enjoyed', 0.9998171), ('house', 0.99981624), ('located', 0.99981505), ('quiet', 0.9998119), ('room', 0.99981), ('convenient', 0.9998093), ('great', 0.99980783), ('go', 0.99980664), ('flat', 0.9998063), ('space', 0.99980277), ('excellent', 0.99980235), ('us', 0.9998011), ('george', 0.999801), ('helpful', 0.9997999), ('soula', 0.99979967), ('everything', 0.99979943), ('perfect', 0.9997976), ('need', 0.99979675), ('time', 0.99979645), ('kitchen', 0.9997951), ('clean', 0.9997934), ('place', 0.9997891), ('pygmalion', 0.9997866), ('safe', 0.99978465), ('view', 0.99978), ('stayed', 0.9997791), ('two', 0.999777), ('experience', 0.9997742), ('lovely', 0.99977374), ('needed', 0.99977106), ('spacious', 0.9997688), ('comfortable', 0.9997666), ('made', 0.9997636), ('host', 0.9997631), ('like', 0.99976295), ('wonderful', 0.99976164), ('beautiful', 0.9997608), ('always', 0.9997603), ('stay', 0.9997558), ('terrace', 0.99974257), ('first', 0.99974), ('met', 0.99973273), ('central', 0.9997327), ('home', 0.9997317), ('amazing', 0.999731), ('haris', 0.99972963), ('back', 0.9997293), ('visit', 0.9997225), ('felt', 0.99972117), ('rooftop', 0.9997118), ('equipped', 0.9996996), ('feel', 0.9996837), ('staying', 0.99968135), ('thank', 0.99968016), ('friendly', 0.99967754), ('fantastic', 0.99966824), ('would', 0.999664), ('walking', 0.9996516), ('thanks', 0.99962294), ('soulas', 0.99961793), ('gave', 0.99961776), ('recommend', 0.99956846), ('definitely', 0.99951637), ('highly', 0.99950695), ('distance', 0.9994843)]\n",
            "well [('well', 1.0), ('apartment', 0.99991417), ('also', 0.9998999), ('one', 0.99989945), ('nice', 0.999893), ('flat', 0.99989134), ('day', 0.99989057), ('even', 0.99988896), ('coffee', 0.99988467), ('area', 0.9998843), ('street', 0.999883), ('fotis', 0.9998824), ('us', 0.99988097), ('great', 0.9998807), ('location', 0.99987966), ('kitchen', 0.9998772), ('host', 0.9998757), ('neighborhood', 0.9998739), ('pygmalion', 0.99987376), ('excellent', 0.99987334), ('night', 0.99987274), ('good', 0.9998719), ('helpful', 0.9998719), ('really', 0.9998716), ('could', 0.9998697), ('everything', 0.99986964), ('comfortable', 0.99986947), ('spacious', 0.99986935), ('george', 0.9998692), ('athens', 0.99986875), ('place', 0.9998679), ('space', 0.9998677), ('lovely', 0.9998672), ('soula', 0.99986535), ('get', 0.9998652), ('go', 0.9998646), ('like', 0.99986273), ('perfect', 0.9998627), ('stayed', 0.9998625), ('city', 0.99986196), ('house', 0.9998594), ('time', 0.99985933), ('need', 0.99985814), ('best', 0.999858), ('room', 0.99985784), ('many', 0.9998576), ('balcony', 0.99985754), ('around', 0.99985486), ('close', 0.9998543), ('away', 0.99985397), ('much', 0.99985266), ('quiet', 0.9998519), ('easy', 0.9998493), ('clean', 0.9998484), ('5', 0.99984425), ('always', 0.9998403), ('two', 0.99983895), ('wonderful', 0.9998386), ('needed', 0.99983805), ('haris', 0.99983793), ('acropolis', 0.9998377), ('stay', 0.99983734), ('experience', 0.9998321), ('made', 0.99983096), ('beautiful', 0.9998297), ('enjoyed', 0.99982715), ('safe', 0.9998257), ('located', 0.9998225), ('metro', 0.9998224), ('amazing', 0.9998188), ('view', 0.9998172), ('convenient', 0.9998164), ('central', 0.9998133), ('first', 0.99981076), ('home', 0.9998066), ('minutes', 0.9998064), ('station', 0.99980223), ('friendly', 0.99980056), ('walk', 0.9997998), ('back', 0.9997942), ('restaurants', 0.99979305), ('terrace', 0.99979305), ('felt', 0.9997896), ('visit', 0.99978954), ('thank', 0.999786), ('met', 0.99977607), ('feel', 0.999771), ('equipped', 0.9997706), ('staying', 0.9997685), ('rooftop', 0.9997538), ('fantastic', 0.9997449), ('gave', 0.99973047), ('would', 0.9997262), ('soulas', 0.99971086), ('thanks', 0.9996901), ('recommend', 0.9996862), ('definitely', 0.9995895), ('highly', 0.9995862), ('walking', 0.9995185), ('distance', 0.99931467)]\n",
            "comfortable [('comfortable', 0.99999994), ('apartment', 0.99988717), ('nice', 0.99987274), ('well', 0.99986947), ('athens', 0.9998693), ('place', 0.9998674), ('day', 0.99986714), ('one', 0.9998633), ('really', 0.9998552), ('flat', 0.999854), ('great', 0.9998518), ('coffee', 0.99984854), ('also', 0.99984777), ('area', 0.9998453), ('need', 0.99984473), ('helpful', 0.9998445), ('kitchen', 0.99984366), ('perfect', 0.9998434), ('host', 0.99984175), ('stayed', 0.99983996), ('everything', 0.9998371), ('spacious', 0.99983674), ('much', 0.9998354), ('best', 0.99983406), ('good', 0.9998327), ('fotis', 0.99983245), ('beautiful', 0.9998316), ('clean', 0.9998312), ('needed', 0.9998306), ('space', 0.9998305), ('time', 0.99983037), ('could', 0.99983037), ('even', 0.99982935), ('excellent', 0.9998277), ('house', 0.99982613), ('lovely', 0.9998255), ('street', 0.9998247), ('easy', 0.9998241), ('location', 0.99982363), ('like', 0.999823), ('us', 0.9998215), ('neighborhood', 0.99982053), ('george', 0.99982053), ('city', 0.9998203), ('night', 0.99981815), ('get', 0.99981666), ('soula', 0.99981385), ('experience', 0.9998131), ('balcony', 0.9998116), ('many', 0.99981064), ('always', 0.99981004), ('room', 0.99980956), ('enjoyed', 0.9998091), ('acropolis', 0.999809), ('located', 0.9998075), ('pygmalion', 0.99980444), ('back', 0.99980444), ('wonderful', 0.99980426), ('away', 0.9998033), ('quiet', 0.99980325), ('two', 0.9998021), ('first', 0.999802), ('5', 0.999799), ('close', 0.99979407), ('made', 0.9997926), ('stay', 0.99979156), ('go', 0.9997897), ('amazing', 0.99978435), ('staying', 0.9997816), ('home', 0.9997808), ('haris', 0.99978036), ('view', 0.99977857), ('felt', 0.9997777), ('around', 0.9997772), ('visit', 0.9997768), ('convenient', 0.99976885), ('metro', 0.9997666), ('met', 0.9997598), ('restaurants', 0.99975306), ('terrace', 0.9997517), ('would', 0.99975055), ('rooftop', 0.99974996), ('fantastic', 0.9997474), ('equipped', 0.999743), ('walk', 0.99974114), ('safe', 0.99973726), ('thank', 0.99973655), ('minutes', 0.99973506), ('feel', 0.999734), ('soulas', 0.9997276), ('friendly', 0.9997231), ('station', 0.9997201), ('central', 0.9997199), ('recommend', 0.99969876), ('thanks', 0.999696), ('gave', 0.99967897), ('highly', 0.9996057), ('definitely', 0.9996011), ('walking', 0.9994886), ('distance', 0.9991785)]\n",
            "really [('really', 0.9999997), ('nice', 0.9998961), ('apartment', 0.9998945), ('day', 0.999888), ('one', 0.99988425), ('great', 0.9998836), ('athens', 0.9998832), ('street', 0.99988097), ('time', 0.9998794), ('place', 0.9998782), ('area', 0.99987817), ('also', 0.9998774), ('get', 0.9998766), ('even', 0.9998763), ('george', 0.9998761), ('good', 0.9998723), ('well', 0.9998716), ('fotis', 0.9998712), ('helpful', 0.99987096), ('best', 0.9998681), ('coffee', 0.9998677), ('much', 0.99986756), ('perfect', 0.99986565), ('flat', 0.9998634), ('kitchen', 0.9998634), ('could', 0.9998622), ('us', 0.99986), ('like', 0.99985963), ('clean', 0.9998578), ('easy', 0.99985725), ('night', 0.999857), ('host', 0.9998561), ('comfortable', 0.9998552), ('quiet', 0.9998552), ('neighborhood', 0.999855), ('stayed', 0.999855), ('soula', 0.99985236), ('city', 0.99985224), ('need', 0.9998519), ('go', 0.9998518), ('stay', 0.9998512), ('wonderful', 0.99985045), ('away', 0.99985033), ('location', 0.9998491), ('balcony', 0.999847), ('room', 0.9998468), ('lovely', 0.99984366), ('spacious', 0.9998435), ('experience', 0.99984294), ('everything', 0.9998423), ('haris', 0.9998422), ('excellent', 0.9998421), ('house', 0.99984175), ('many', 0.9998411), ('needed', 0.99983937), ('two', 0.9998387), ('around', 0.9998351), ('pygmalion', 0.99983305), ('back', 0.9998327), ('beautiful', 0.9998276), ('home', 0.99982727), ('enjoyed', 0.9998272), ('metro', 0.9998268), ('close', 0.999826), ('5', 0.9998255), ('located', 0.99982387), ('always', 0.9998202), ('acropolis', 0.99981993), ('space', 0.9998197), ('made', 0.9998177), ('first', 0.9998139), ('safe', 0.9998115), ('view', 0.9998086), ('minutes', 0.9998064), ('visit', 0.9998047), ('convenient', 0.99980396), ('equipped', 0.99980104), ('restaurants', 0.99979186), ('felt', 0.9997909), ('walk', 0.9997881), ('terrace', 0.9997803), ('staying', 0.9997802), ('met', 0.99977875), ('thank', 0.9997766), ('friendly', 0.99977607), ('station', 0.9997734), ('amazing', 0.999773), ('rooftop', 0.9997654), ('central', 0.99976337), ('would', 0.99975765), ('feel', 0.99975467), ('fantastic', 0.9997309), ('soulas', 0.9997237), ('recommend', 0.99972034), ('gave', 0.99970424), ('thanks', 0.9996964), ('definitely', 0.9996182), ('highly', 0.9995857), ('walking', 0.99953806), ('distance', 0.99926114)]\n",
            "perfect [('perfect', 0.9999998), ('nice', 0.9998822), ('flat', 0.99988127), ('apartment', 0.9998797), ('day', 0.99987626), ('also', 0.9998758), ('good', 0.9998718), ('area', 0.99987155), ('could', 0.99987054), ('great', 0.9998697), ('one', 0.9998676), ('time', 0.9998664), ('house', 0.9998662), ('athens', 0.9998661), ('really', 0.99986565), ('even', 0.9998651), ('best', 0.99986356), ('well', 0.9998627), ('night', 0.9998626), ('city', 0.99986184), ('helpful', 0.99986124), ('everything', 0.99986106), ('coffee', 0.99986005), ('easy', 0.99985915), ('place', 0.99985754), ('stay', 0.999856), ('kitchen', 0.9998559), ('much', 0.9998558), ('get', 0.99985534), ('stayed', 0.99985504), ('fotis', 0.9998543), ('street', 0.99985087), ('like', 0.99984986), ('two', 0.99984926), ('host', 0.9998492), ('us', 0.999849), ('location', 0.9998453), ('neighborhood', 0.99984527), ('comfortable', 0.9998434), ('george', 0.99984324), ('quiet', 0.9998431), ('clean', 0.99984306), ('soula', 0.999843), ('need', 0.99984235), ('room', 0.9998403), ('needed', 0.99983823), ('excellent', 0.9998362), ('balcony', 0.9998357), ('home', 0.9998347), ('away', 0.99983275), ('always', 0.99983215), ('lovely', 0.99983203), ('first', 0.9998317), ('many', 0.99983007), ('close', 0.99982697), ('made', 0.99982685), ('experience', 0.9998261), ('5', 0.99982566), ('spacious', 0.9998244), ('go', 0.9998238), ('space', 0.99982065), ('visit', 0.99981654), ('wonderful', 0.99981374), ('located', 0.99981314), ('back', 0.9998126), ('haris', 0.99981225), ('beautiful', 0.9998121), ('around', 0.9998109), ('pygmalion', 0.99981034), ('acropolis', 0.9998061), ('enjoyed', 0.9998048), ('safe', 0.9997995), ('metro', 0.9997976), ('station', 0.99979526), ('felt', 0.99979013), ('convenient', 0.9997865), ('minutes', 0.9997819), ('thank', 0.9997818), ('walk', 0.9997793), ('met', 0.9997776), ('view', 0.9997692), ('amazing', 0.999765), ('central', 0.99975836), ('restaurants', 0.9997568), ('feel', 0.9997524), ('staying', 0.99975187), ('friendly', 0.99975), ('equipped', 0.9997487), ('would', 0.99974555), ('terrace', 0.9997414), ('rooftop', 0.9997381), ('fantastic', 0.99973005), ('soulas', 0.9997182), ('gave', 0.9997125), ('thanks', 0.999707), ('recommend', 0.99967504), ('definitely', 0.99958926), ('walking', 0.99956846), ('highly', 0.99955654), ('distance', 0.99922067)]\n",
            "also [('also', 0.9999999), ('one', 0.9999276), ('even', 0.99992377), ('day', 0.99992174), ('area', 0.9999178), ('coffee', 0.99991715), ('good', 0.9999098), ('around', 0.9999088), ('street', 0.9999087), ('apartment', 0.999907), ('night', 0.9999067), ('best', 0.9999062), ('could', 0.9999045), ('nice', 0.9999042), ('easy', 0.9999035), ('neighborhood', 0.9999035), ('fotis', 0.99990124), ('away', 0.99990094), ('time', 0.9999009), ('well', 0.9998999), ('us', 0.99989945), ('city', 0.9998992), ('get', 0.99989814), ('helpful', 0.99989766), ('george', 0.99989426), ('flat', 0.9998939), ('close', 0.99989146), ('quiet', 0.9998914), ('balcony', 0.9998901), ('many', 0.999886), ('great', 0.99988365), ('kitchen', 0.9998827), ('go', 0.9998826), ('everything', 0.9998821), ('like', 0.9998805), ('athens', 0.9998797), ('really', 0.9998774), ('acropolis', 0.9998773), ('location', 0.99987626), ('perfect', 0.9998758), ('metro', 0.99987537), ('soula', 0.9998747), ('much', 0.99987406), ('two', 0.999874), ('room', 0.9998724), ('excellent', 0.9998709), ('made', 0.9998706), ('house', 0.9998696), ('stayed', 0.99986935), ('space', 0.9998693), ('place', 0.99986696), ('host', 0.9998653), ('5', 0.9998646), ('pygmalion', 0.9998645), ('lovely', 0.9998608), ('experience', 0.9998603), ('need', 0.99986017), ('enjoyed', 0.9998553), ('always', 0.99985474), ('located', 0.9998545), ('wonderful', 0.9998532), ('station', 0.999853), ('first', 0.99985254), ('restaurants', 0.99985075), ('minutes', 0.9998504), ('needed', 0.99985003), ('comfortable', 0.99984777), ('spacious', 0.9998471), ('home', 0.99984366), ('stay', 0.999841), ('clean', 0.99983937), ('safe', 0.99983627), ('beautiful', 0.9998335), ('convenient', 0.99983263), ('haris', 0.99983156), ('back', 0.9998285), ('visit', 0.99982697), ('feel', 0.99982667), ('view', 0.99982584), ('walk', 0.99982035), ('felt', 0.9998113), ('met', 0.99981016), ('amazing', 0.9997935), ('terrace', 0.99979293), ('rooftop', 0.9997907), ('central', 0.9997896), ('equipped', 0.999784), ('friendly', 0.99977577), ('thank', 0.9997753), ('staying', 0.9997705), ('fantastic', 0.99976236), ('gave', 0.9997615), ('would', 0.9997531), ('thanks', 0.9997029), ('soulas', 0.9996767), ('recommend', 0.9996745), ('walking', 0.9996237), ('definitely', 0.99959636), ('highly', 0.9995922), ('distance', 0.99938244)]\n",
            "close [('close', 1.0000004), ('also', 0.99989146), ('neighborhood', 0.999891), ('area', 0.99987835), ('good', 0.9998776), ('city', 0.9998772), ('apartment', 0.9998756), ('coffee', 0.99987304), ('street', 0.99987173), ('one', 0.9998652), ('away', 0.9998638), ('even', 0.9998623), ('many', 0.99985904), ('athens', 0.9998572), ('5', 0.9998562), ('day', 0.9998556), ('well', 0.9998543), ('get', 0.9998536), ('around', 0.99985313), ('metro', 0.99985254), ('fotis', 0.99985033), ('easy', 0.9998503), ('nice', 0.9998501), ('could', 0.9998473), ('flat', 0.9998469), ('night', 0.99984646), ('best', 0.9998456), ('walk', 0.99984413), ('enjoyed', 0.9998438), ('restaurants', 0.99984145), ('station', 0.99983996), ('quiet', 0.9998393), ('minutes', 0.99983704), ('much', 0.99983555), ('george', 0.9998348), ('us', 0.99983466), ('great', 0.99983394), ('acropolis', 0.99983233), ('clean', 0.99983144), ('location', 0.9998304), ('excellent', 0.999829), ('kitchen', 0.9998278), ('room', 0.99982727), ('perfect', 0.99982697), ('time', 0.99982697), ('located', 0.99982697), ('really', 0.999826), ('balcony', 0.9998255), ('lovely', 0.99982446), ('everything', 0.9998237), ('helpful', 0.9998233), ('place', 0.9998226), ('two', 0.999822), ('convenient', 0.9998219), ('house', 0.9998205), ('go', 0.999817), ('stayed', 0.999813), ('space', 0.99981254), ('need', 0.9998071), ('soula', 0.9998036), ('wonderful', 0.99980175), ('made', 0.9998011), ('like', 0.99979925), ('host', 0.99979645), ('spacious', 0.99979496), ('needed', 0.99979436), ('comfortable', 0.99979407), ('pygmalion', 0.99978626), ('experience', 0.9997854), ('always', 0.9997826), ('safe', 0.99977756), ('haris', 0.9997766), ('stay', 0.999776), ('beautiful', 0.99977547), ('back', 0.9997735), ('view', 0.9997662), ('first', 0.9997654), ('amazing', 0.99976456), ('rooftop', 0.99975103), ('felt', 0.9997483), ('met', 0.99974513), ('terrace', 0.9997447), ('central', 0.99974465), ('home', 0.9997427), ('visit', 0.99973786), ('feel', 0.9997239), ('equipped', 0.99972385), ('friendly', 0.999709), ('staying', 0.9996996), ('thank', 0.99969804), ('fantastic', 0.9996907), ('gave', 0.9996867), ('would', 0.9996718), ('thanks', 0.9996558), ('soulas', 0.9996504), ('recommend', 0.99961305), ('walking', 0.999613), ('definitely', 0.99954444), ('highly', 0.99948555), ('distance', 0.9993692)]\n",
            "acropolis [('acropolis', 0.9999998), ('also', 0.9998773), ('metro', 0.99987274), ('away', 0.99986494), ('city', 0.9998637), ('minutes', 0.99986356), ('nice', 0.99986297), ('street', 0.9998614), ('good', 0.999861), ('area', 0.99986094), ('one', 0.9998591), ('apartment', 0.9998576), ('easy', 0.999857), ('best', 0.99985564), ('even', 0.99985343), ('coffee', 0.9998532), ('day', 0.99985075), ('athens', 0.9998469), ('could', 0.9998468), ('space', 0.9998462), ('neighborhood', 0.9998452), ('station', 0.99984515), ('great', 0.99984443), ('night', 0.9998442), ('balcony', 0.9998398), ('location', 0.9998383), ('well', 0.9998377), ('room', 0.9998377), ('flat', 0.9998374), ('5', 0.9998351), ('close', 0.99983233), ('walk', 0.9998308), ('get', 0.9998301), ('george', 0.9998281), ('place', 0.9998251), ('many', 0.99982464), ('helpful', 0.99982274), ('go', 0.999822), ('fotis', 0.9998216), ('around', 0.99982125), ('really', 0.99981993), ('enjoyed', 0.9998181), ('restaurants', 0.9998174), ('convenient', 0.99981666), ('house', 0.9998164), ('us', 0.9998154), ('time', 0.9998153), ('quiet', 0.9998126), ('comfortable', 0.999809), ('lovely', 0.9998068), ('excellent', 0.99980634), ('perfect', 0.9998061), ('two', 0.99980605), ('amazing', 0.9998048), ('always', 0.9998038), ('pygmalion', 0.9998032), ('spacious', 0.999802), ('everything', 0.99980134), ('kitchen', 0.9998012), ('view', 0.99980044), ('located', 0.9997989), ('much', 0.99979854), ('need', 0.9997972), ('wonderful', 0.9997967), ('rooftop', 0.9997956), ('host', 0.9997945), ('first', 0.9997939), ('needed', 0.99979067), ('stayed', 0.9997889), ('beautiful', 0.99978524), ('clean', 0.99978447), ('terrace', 0.9997833), ('experience', 0.9997817), ('soula', 0.9997805), ('like', 0.9997779), ('safe', 0.99977756), ('back', 0.9997679), ('made', 0.9997586), ('visit', 0.99975306), ('stay', 0.9997514), ('haris', 0.99975115), ('central', 0.9997506), ('home', 0.99974716), ('felt', 0.99972516), ('met', 0.99972063), ('fantastic', 0.9997143), ('equipped', 0.9997134), ('thank', 0.99971217), ('staying', 0.99969935), ('friendly', 0.999684), ('would', 0.99968386), ('feel', 0.999669), ('gave', 0.99964815), ('thanks', 0.99963737), ('walking', 0.9996359), ('soulas', 0.99962634), ('recommend', 0.9995903), ('highly', 0.99953616), ('definitely', 0.9995212), ('distance', 0.9994435)]\n",
            "time [('time', 1.0000005), ('day', 0.99990696), ('also', 0.9999009), ('even', 0.999899), ('coffee', 0.9998954), ('night', 0.999893), ('best', 0.99989146), ('helpful', 0.9998891), ('apartment', 0.99988836), ('one', 0.99988645), ('nice', 0.9998855), ('us', 0.9998841), ('good', 0.9998833), ('flat', 0.99988157), ('fotis', 0.9998806), ('really', 0.9998794), ('great', 0.9998777), ('easy', 0.99987614), ('go', 0.9998759), ('could', 0.9998746), ('street', 0.99987394), ('area', 0.9998734), ('athens', 0.9998716), ('house', 0.9998715), ('soula', 0.99986976), ('get', 0.99986887), ('much', 0.9998671), ('perfect', 0.9998664), ('stayed', 0.9998656), ('neighborhood', 0.99986476), ('place', 0.9998643), ('everything', 0.9998608), ('balcony', 0.99986064), ('well', 0.99985933), ('george', 0.9998583), ('first', 0.99985707), ('kitchen', 0.99985677), ('like', 0.999855), ('lovely', 0.99985456), ('many', 0.9998542), ('need', 0.9998537), ('away', 0.99985266), ('excellent', 0.9998526), ('host', 0.99985135), ('enjoyed', 0.99985087), ('back', 0.99984854), ('stay', 0.9998481), ('city', 0.9998474), ('room', 0.99984694), ('needed', 0.9998465), ('haris', 0.99984473), ('around', 0.999844), ('two', 0.99984384), ('spacious', 0.99984145), ('experience', 0.99984014), ('space', 0.9998377), ('home', 0.9998376), ('made', 0.9998373), ('quiet', 0.99983656), ('location', 0.9998365), ('visit', 0.99983376), ('beautiful', 0.9998317), ('comfortable', 0.99983037), ('close', 0.99982697), ('wonderful', 0.99982625), ('clean', 0.99982494), ('pygmalion', 0.99982315), ('always', 0.999818), ('5', 0.9998156), ('acropolis', 0.9998153), ('amazing', 0.99981225), ('met', 0.99980474), ('located', 0.999804), ('view', 0.9998026), ('station', 0.9997982), ('felt', 0.9997968), ('metro', 0.99979645), ('minutes', 0.9997959), ('thank', 0.9997949), ('staying', 0.9997823), ('rooftop', 0.9997817), ('friendly', 0.9997793), ('restaurants', 0.99977845), ('terrace', 0.9997759), ('fantastic', 0.9997738), ('safe', 0.9997736), ('convenient', 0.99977326), ('feel', 0.9997645), ('would', 0.9997643), ('walk', 0.9997625), ('equipped', 0.9997574), ('central', 0.99974686), ('gave', 0.9997326), ('soulas', 0.9997193), ('thanks', 0.99971235), ('recommend', 0.999692), ('definitely', 0.99961936), ('highly', 0.99959457), ('walking', 0.9995199), ('distance', 0.9992454)]\n",
            "helpful [('helpful', 1.0000001), ('also', 0.99989766), ('us', 0.9998976), ('apartment', 0.9998948), ('best', 0.9998946), ('great', 0.9998892), ('time', 0.9998891), ('nice', 0.99988604), ('day', 0.99988514), ('one', 0.9998847), ('host', 0.9998837), ('even', 0.99988365), ('fotis', 0.9998817), ('place', 0.9998774), ('george', 0.99987733), ('could', 0.9998754), ('coffee', 0.9998743), ('flat', 0.99987423), ('made', 0.9998732), ('good', 0.99987304), ('well', 0.9998719), ('area', 0.9998716), ('really', 0.99987096), ('athens', 0.9998703), ('stayed', 0.9998672), ('much', 0.99986696), ('soula', 0.9998666), ('street', 0.9998647), ('city', 0.999863), ('night', 0.99986184), ('easy', 0.99986154), ('go', 0.99986154), ('perfect', 0.99986124), ('excellent', 0.9998612), ('get', 0.9998595), ('like', 0.9998589), ('house', 0.9998549), ('everything', 0.99985224), ('quiet', 0.9998504), ('room', 0.9998486), ('neighborhood', 0.99984723), ('pygmalion', 0.999847), ('kitchen', 0.9998466), ('space', 0.9998446), ('comfortable', 0.9998445), ('around', 0.9998445), ('wonderful', 0.9998427), ('lovely', 0.99984264), ('beautiful', 0.9998421), ('many', 0.99984074), ('location', 0.99983954), ('need', 0.9998388), ('experience', 0.99983674), ('first', 0.9998355), ('balcony', 0.9998349), ('always', 0.9998343), ('stay', 0.99983424), ('spacious', 0.9998334), ('visit', 0.9998316), ('needed', 0.9998314), ('away', 0.99983054), ('two', 0.9998304), ('haris', 0.99982905), ('5', 0.99982905), ('enjoyed', 0.9998279), ('back', 0.9998259), ('close', 0.9998233), ('acropolis', 0.99982274), ('view', 0.9998193), ('met', 0.9998139), ('home', 0.9998138), ('clean', 0.9998087), ('friendly', 0.9998021), ('located', 0.9998011), ('metro', 0.9997999), ('minutes', 0.9997957), ('thank', 0.9997893), ('station', 0.99978733), ('rooftop', 0.9997821), ('would', 0.99978185), ('felt', 0.99978006), ('safe', 0.9997799), ('gave', 0.999776), ('staying', 0.99977547), ('feel', 0.9997745), ('walk', 0.99977154), ('amazing', 0.9997707), ('restaurants', 0.99976575), ('terrace', 0.99976474), ('equipped', 0.99975073), ('convenient', 0.99974895), ('fantastic', 0.99974775), ('central', 0.99974686), ('thanks', 0.9997301), ('recommend', 0.9996948), ('soulas', 0.9996822), ('highly', 0.99965096), ('definitely', 0.9996426), ('walking', 0.999541), ('distance', 0.99920654)]\n",
            "walk [('walk', 1.0000001), ('city', 0.9998598), ('minutes', 0.99985766), ('5', 0.99985623), ('metro', 0.9998526), ('away', 0.9998458), ('close', 0.99984413), ('good', 0.99983984), ('street', 0.9998373), ('station', 0.99983364), ('acropolis', 0.9998308), ('neighborhood', 0.9998249), ('also', 0.99982035), ('area', 0.99981713), ('apartment', 0.9998166), ('nice', 0.9998119), ('even', 0.9998111), ('one', 0.99980885), ('best', 0.99980867), ('around', 0.99980325), ('could', 0.9998028), ('well', 0.9997998), ('night', 0.9997998), ('many', 0.9997992), ('get', 0.9997983), ('easy', 0.99979764), ('coffee', 0.99979293), ('flat', 0.99979186), ('athens', 0.9997916), ('location', 0.99979097), ('day', 0.9997897), ('really', 0.9997881), ('quiet', 0.99978733), ('fotis', 0.99978584), ('excellent', 0.99978584), ('place', 0.999785), ('great', 0.99978495), ('go', 0.99978346), ('enjoyed', 0.99978197), ('george', 0.99977934), ('perfect', 0.9997793), ('restaurants', 0.99977875), ('located', 0.9997723), ('helpful', 0.99977154), ('much', 0.99977034), ('convenient', 0.99976945), ('balcony', 0.9997669), ('two', 0.99976456), ('time', 0.9997625), ('space', 0.9997605), ('us', 0.99976015), ('house', 0.99975944), ('lovely', 0.9997524), ('experience', 0.9997467), ('soula', 0.9997459), ('view', 0.9997452), ('everything', 0.9997449), ('room', 0.9997434), ('pygmalion', 0.9997427), ('stayed', 0.9997416), ('comfortable', 0.99974114), ('safe', 0.9997382), ('kitchen', 0.9997358), ('need', 0.9997343), ('host', 0.9997333), ('first', 0.9997321), ('made', 0.9997283), ('like', 0.9997279), ('needed', 0.99972737), ('wonderful', 0.9997273), ('clean', 0.99972373), ('stay', 0.99972093), ('spacious', 0.9997144), ('haris', 0.9997109), ('beautiful', 0.9997105), ('central', 0.9997057), ('visit', 0.9997013), ('terrace', 0.9997), ('back', 0.9996993), ('met', 0.99969876), ('amazing', 0.9996981), ('rooftop', 0.99969715), ('always', 0.9996921), ('home', 0.99969184), ('felt', 0.9996856), ('staying', 0.99966633), ('fantastic', 0.999647), ('thank', 0.99964356), ('equipped', 0.9996424), ('friendly', 0.9996369), ('walking', 0.9996238), ('feel', 0.99962133), ('would', 0.9996057), ('gave', 0.9996029), ('recommend', 0.9995864), ('soulas', 0.9995814), ('thanks', 0.99958056), ('definitely', 0.9994803), ('highly', 0.99945754), ('distance', 0.99938416)]\n",
            "fotis [('fotis', 0.9999999), ('us', 0.999916), ('apartment', 0.99991256), ('even', 0.99990404), ('also', 0.99990124), ('area', 0.9998921), ('flat', 0.99989045), ('one', 0.99988824), ('coffee', 0.9998863), ('great', 0.9998855), ('day', 0.99988407), ('street', 0.9998837), ('well', 0.9998824), ('helpful', 0.9998817), ('good', 0.9998812), ('time', 0.9998806), ('around', 0.9998798), ('nice', 0.99987954), ('neighborhood', 0.9998787), ('like', 0.9998781), ('night', 0.9998778), ('best', 0.99987763), ('athens', 0.9998775), ('could', 0.9998772), ('get', 0.99987465), ('easy', 0.99987376), ('room', 0.9998722), ('really', 0.9998712), ('many', 0.99987113), ('george', 0.99986964), ('kitchen', 0.99986863), ('city', 0.99986726), ('much', 0.9998671), ('experience', 0.99986625), ('host', 0.9998662), ('need', 0.9998649), ('5', 0.999863), ('balcony', 0.99986184), ('house', 0.99986136), ('pygmalion', 0.9998602), ('clean', 0.9998575), ('place', 0.99985695), ('everything', 0.99985653), ('stayed', 0.9998561), ('away', 0.99985605), ('go', 0.99985594), ('soula', 0.9998555), ('location', 0.9998549), ('perfect', 0.9998543), ('close', 0.99985033), ('haris', 0.9998472), ('excellent', 0.99984676), ('needed', 0.9998443), ('spacious', 0.9998439), ('quiet', 0.99984354), ('located', 0.9998391), ('wonderful', 0.9998391), ('lovely', 0.9998378), ('made', 0.9998366), ('beautiful', 0.9998362), ('space', 0.99983513), ('two', 0.9998335), ('comfortable', 0.99983245), ('always', 0.9998257), ('home', 0.9998244), ('enjoyed', 0.99982435), ('stay', 0.9998217), ('acropolis', 0.9998216), ('metro', 0.9998206), ('station', 0.9998186), ('safe', 0.9998155), ('back', 0.9998143), ('minutes', 0.9998138), ('first', 0.9998137), ('visit', 0.9998113), ('met', 0.99980825), ('restaurants', 0.99980474), ('felt', 0.9997959), ('view', 0.999794), ('friendly', 0.999789), ('convenient', 0.9997874), ('feel', 0.99978733), ('walk', 0.99978584), ('amazing', 0.99977624), ('terrace', 0.99977565), ('rooftop', 0.9997702), ('staying', 0.9997688), ('thank', 0.9997604), ('equipped', 0.9997591), ('central', 0.99975526), ('gave', 0.99974626), ('would', 0.99973845), ('fantastic', 0.99972135), ('soulas', 0.9996878), ('thanks', 0.9996601), ('recommend', 0.9996598), ('definitely', 0.9995911), ('highly', 0.99957037), ('walking', 0.9995489), ('distance', 0.99932283)]\n",
            "easy [('easy', 1.0000001), ('also', 0.9999035), ('could', 0.999889), ('day', 0.99988765), ('apartment', 0.9998857), ('even', 0.9998855), ('coffee', 0.99988425), ('area', 0.99987805), ('night', 0.999878), ('get', 0.9998776), ('street', 0.9998769), ('time', 0.99987614), ('one', 0.9998756), ('athens', 0.99987525), ('around', 0.999875), ('fotis', 0.99987376), ('city', 0.9998706), ('neighborhood', 0.9998704), ('nice', 0.9998683), ('flat', 0.9998673), ('everything', 0.99986714), ('george', 0.99986494), ('location', 0.99986273), ('go', 0.9998622), ('helpful', 0.99986154), ('away', 0.9998613), ('good', 0.99985963), ('perfect', 0.99985915), ('much', 0.999858), ('really', 0.99985725), ('acropolis', 0.999857), ('best', 0.9998569), ('many', 0.9998566), ('need', 0.99985635), ('us', 0.9998547), ('great', 0.999854), ('soula', 0.9998526), ('house', 0.9998526), ('place', 0.9998523), ('close', 0.9998503), ('excellent', 0.9998494), ('well', 0.9998493), ('quiet', 0.99984634), ('metro', 0.99984527), ('room', 0.99984384), ('balcony', 0.9998436), ('like', 0.99984175), ('host', 0.9998377), ('back', 0.9998363), ('kitchen', 0.9998342), ('needed', 0.99983037), ('space', 0.99983037), ('pygmalion', 0.9998301), ('two', 0.9998282), ('5', 0.9998274), ('stayed', 0.99982697), ('stay', 0.9998264), ('always', 0.9998259), ('comfortable', 0.9998241), ('station', 0.9998216), ('minutes', 0.99982053), ('spacious', 0.9998205), ('experience', 0.9998192), ('restaurants', 0.99981755), ('first', 0.999817), ('lovely', 0.99981606), ('clean', 0.9998155), ('made', 0.99981457), ('enjoyed', 0.99981433), ('haris', 0.99980915), ('home', 0.99980676), ('convenient', 0.9998037), ('wonderful', 0.9998009), ('located', 0.9998004), ('walk', 0.99979764), ('view', 0.9997916), ('visit', 0.9997907), ('safe', 0.99978566), ('beautiful', 0.9997748), ('met', 0.99976784), ('feel', 0.9997644), ('friendly', 0.9997613), ('felt', 0.99976087), ('staying', 0.9997607), ('terrace', 0.9997587), ('amazing', 0.9997579), ('rooftop', 0.99974555), ('central', 0.99974394), ('thank', 0.99973726), ('would', 0.99973714), ('fantastic', 0.99973536), ('gave', 0.9997246), ('equipped', 0.9997139), ('recommend', 0.99967194), ('thanks', 0.9996718), ('soulas', 0.99965084), ('walking', 0.9995991), ('definitely', 0.9995746), ('highly', 0.9995513), ('distance', 0.9994421)]\n",
            "restaurants [('restaurants', 0.99999994), ('many', 0.99987817), ('area', 0.9998612), ('street', 0.99985874), ('also', 0.99985075), ('neighborhood', 0.999849), ('close', 0.99984145), ('good', 0.99983686), ('coffee', 0.99983054), ('one', 0.9998302), ('city', 0.99982995), ('metro', 0.99982816), ('away', 0.99982655), ('quiet', 0.9998261), ('apartment', 0.99982584), ('best', 0.99982345), ('minutes', 0.9998232), ('even', 0.9998216), ('get', 0.9998205), ('night', 0.9998205), ('day', 0.9998203), ('balcony', 0.9998195), ('easy', 0.99981755), ('acropolis', 0.9998174), ('around', 0.9998154), ('could', 0.99981505), ('nice', 0.99981284), ('athens', 0.9998071), ('excellent', 0.9998064), ('flat', 0.9998062), ('location', 0.9998053), ('fotis', 0.99980474), ('place', 0.99980336), ('room', 0.99980253), ('5', 0.9998025), ('located', 0.9998017), ('two', 0.9998015), ('go', 0.99980146), ('george', 0.99979633), ('well', 0.99979305), ('really', 0.99979186), ('station', 0.99979126), ('enjoyed', 0.9997904), ('kitchen', 0.99979013), ('clean', 0.99978894), ('experience', 0.99978536), ('much', 0.99978536), ('safe', 0.9997831), ('walk', 0.99977875), ('time', 0.99977845), ('need', 0.99977845), ('great', 0.9997784), ('space', 0.9997758), ('house', 0.9997751), ('us', 0.99977), ('stayed', 0.999768), ('lovely', 0.9997676), ('helpful', 0.99976575), ('everything', 0.99976337), ('wonderful', 0.99975944), ('perfect', 0.9997568), ('like', 0.9997561), ('convenient', 0.9997547), ('comfortable', 0.99975306), ('view', 0.9997524), ('soula', 0.99975187), ('host', 0.9997511), ('spacious', 0.9997482), ('needed', 0.9997457), ('rooftop', 0.99974567), ('back', 0.9997444), ('pygmalion', 0.9997441), ('stay', 0.99974364), ('terrace', 0.9997414), ('always', 0.99974054), ('visit', 0.99973726), ('beautiful', 0.99972975), ('made', 0.9997249), ('amazing', 0.999715), ('haris', 0.9997065), ('staying', 0.9997047), ('first', 0.99970436), ('home', 0.99970394), ('central', 0.9997038), ('felt', 0.99970114), ('would', 0.9996906), ('feel', 0.9996819), ('walking', 0.9996787), ('fantastic', 0.9996778), ('equipped', 0.9996689), ('thank', 0.9996611), ('met', 0.9996596), ('friendly', 0.9996412), ('thanks', 0.9996357), ('gave', 0.99961454), ('soulas', 0.9995917), ('recommend', 0.99956924), ('definitely', 0.9995289), ('highly', 0.99950415), ('distance', 0.9994297)]\n",
            "even [('even', 0.99999994), ('also', 0.99992377), ('us', 0.9999151), ('coffee', 0.9999097), ('night', 0.9999057), ('street', 0.9999054), ('fotis', 0.99990404), ('day', 0.99990314), ('could', 0.9999022), ('nice', 0.9999004), ('area', 0.99989915), ('apartment', 0.999899), ('time', 0.999899), ('one', 0.9998976), ('city', 0.99989253), ('get', 0.9998925), ('george', 0.99989176), ('best', 0.9998906), ('well', 0.99988896), ('athens', 0.99988586), ('easy', 0.9998855), ('good', 0.9998851), ('away', 0.9998847), ('flat', 0.9998837), ('helpful', 0.99988365), ('neighborhood', 0.9998834), ('great', 0.99988264), ('go', 0.99988055), ('around', 0.9998775), ('really', 0.9998763), ('many', 0.9998746), ('soula', 0.9998735), ('room', 0.99986935), ('kitchen', 0.99986887), ('like', 0.9998687), ('host', 0.9998684), ('excellent', 0.9998678), ('balcony', 0.99986744), ('perfect', 0.9998651), ('quiet', 0.999864), ('house', 0.99986386), ('everything', 0.999863), ('close', 0.9998623), ('much', 0.99986136), ('5', 0.999857), ('two', 0.99985677), ('made', 0.9998561), ('pygmalion', 0.9998553), ('lovely', 0.9998551), ('need', 0.99985355), ('acropolis', 0.99985343), ('needed', 0.99985313), ('stayed', 0.9998504), ('place', 0.99985033), ('clean', 0.9998494), ('location', 0.9998479), ('experience', 0.9998471), ('first', 0.9998456), ('metro', 0.99984384), ('station', 0.99984175), ('met', 0.99984133), ('located', 0.9998412), ('haris', 0.9998399), ('spacious', 0.9998396), ('minutes', 0.9998377), ('wonderful', 0.999835), ('enjoyed', 0.999834), ('home', 0.99983376), ('back', 0.99983263), ('view', 0.99983186), ('space', 0.9998317), ('comfortable', 0.99982935), ('restaurants', 0.9998216), ('always', 0.9998212), ('beautiful', 0.99982), ('visit', 0.9998119), ('safe', 0.9998115), ('walk', 0.9998111), ('felt', 0.99981105), ('feel', 0.99980974), ('central', 0.99980766), ('stay', 0.9998022), ('convenient', 0.99979717), ('gave', 0.9997943), ('rooftop', 0.9997934), ('terrace', 0.9997856), ('amazing', 0.9997776), ('friendly', 0.9997699), ('thank', 0.99976933), ('staying', 0.9997594), ('equipped', 0.9997588), ('fantastic', 0.99974066), ('would', 0.9997201), ('soulas', 0.9997022), ('thanks', 0.9996782), ('recommend', 0.99965006), ('walking', 0.9995921), ('definitely', 0.99955803), ('highly', 0.9995494), ('distance', 0.9993391)]\n",
            "highly [('highly', 1.0), ('would', 0.9997328), ('definitely', 0.9996861), ('stay', 0.9996681), ('place', 0.9996578), ('helpful', 0.99965096), ('athens', 0.9996466), ('staying', 0.99963224), ('flat', 0.9996264), ('one', 0.9996216), ('space', 0.99962115), ('stayed', 0.99960726), ('comfortable', 0.9996057), ('nice', 0.9996046), ('host', 0.9996045), ('day', 0.9996044), ('best', 0.99960417), ('visit', 0.9996039), ('many', 0.99960303), ('excellent', 0.9996018), ('apartment', 0.9996006), ('like', 0.99959624), ('recommend', 0.99959517), ('beautiful', 0.99959487), ('two', 0.99959475), ('time', 0.99959457), ('night', 0.9995929), ('need', 0.99959224), ('also', 0.9995922), ('much', 0.99959195), ('lovely', 0.9995916), ('wonderful', 0.99958855), ('coffee', 0.9995875), ('well', 0.9995862), ('really', 0.9995857), ('area', 0.9995829), ('george', 0.99958193), ('street', 0.9995815), ('enjoyed', 0.9995792), ('everything', 0.99957675), ('go', 0.99957603), ('could', 0.99957407), ('kitchen', 0.9995735), ('good', 0.9995719), ('experience', 0.9995705), ('fotis', 0.99957037), ('back', 0.99956745), ('needed', 0.9995658), ('thank', 0.99956244), ('great', 0.99956167), ('location', 0.99956155), ('quiet', 0.99956053), ('get', 0.99956006), ('away', 0.999559), ('house', 0.9995572), ('perfect', 0.99955654), ('view', 0.9995561), ('balcony', 0.9995558), ('clean', 0.9995557), ('made', 0.999554), ('easy', 0.9995513), ('city', 0.9995506), ('spacious', 0.99955), ('even', 0.9995494), ('us', 0.99954677), ('pygmalion', 0.99954396), ('neighborhood', 0.99954385), ('located', 0.99954075), ('5', 0.99953914), ('acropolis', 0.99953616), ('first', 0.9995357), ('amazing', 0.9995262), ('minutes', 0.9995244), ('haris', 0.9995233), ('home', 0.9995221), ('soula', 0.9995176), ('around', 0.9995139), ('always', 0.9995094), ('room', 0.99950814), ('safe', 0.99950755), ('metro', 0.99950695), ('restaurants', 0.99950415), ('friendly', 0.9994976), ('soulas', 0.9994965), ('station', 0.9994962), ('rooftop', 0.99948823), ('felt', 0.9994859), ('close', 0.99948555), ('central', 0.9994839), ('terrace', 0.9994838), ('convenient', 0.99948156), ('equipped', 0.99947524), ('fantastic', 0.99946433), ('walk', 0.99945754), ('thanks', 0.9994555), ('met', 0.99945396), ('feel', 0.9994116), ('gave', 0.9993728), ('walking', 0.99924475), ('distance', 0.99889815)]\n",
            "city [('city', 0.99999976), ('also', 0.9998992), ('street', 0.9998981), ('even', 0.99989253), ('apartment', 0.9998906), ('one', 0.99988997), ('best', 0.99988973), ('nice', 0.9998855), ('coffee', 0.9998846), ('george', 0.99987906), ('quiet', 0.9998789), ('day', 0.9998784), ('athens', 0.9998778), ('close', 0.9998772), ('area', 0.9998761), ('get', 0.99987537), ('away', 0.9998753), ('around', 0.9998738), ('good', 0.9998709), ('easy', 0.9998706), ('flat', 0.9998704), ('us', 0.99987006), ('could', 0.99987), ('neighborhood', 0.99986744), ('fotis', 0.99986726), ('night', 0.99986655), ('house', 0.999864), ('acropolis', 0.9998637), ('helpful', 0.999863), ('go', 0.999862), ('well', 0.99986196), ('perfect', 0.99986184), ('many', 0.9998613), ('walk', 0.9998598), ('great', 0.99985945), ('location', 0.99985904), ('much', 0.9998581), ('balcony', 0.9998567), ('excellent', 0.9998564), ('minutes', 0.99985504), ('5', 0.9998536), ('room', 0.9998528), ('really', 0.99985224), ('place', 0.99985194), ('station', 0.99985003), ('time', 0.9998474), ('stayed', 0.99984705), ('space', 0.9998466), ('enjoyed', 0.9998462), ('clean', 0.99984384), ('metro', 0.9998432), ('two', 0.9998429), ('host', 0.99984205), ('first', 0.9998407), ('like', 0.9998402), ('soula', 0.99983937), ('everything', 0.99983907), ('back', 0.9998383), ('lovely', 0.99983543), ('experience', 0.99983317), ('pygmalion', 0.9998311), ('located', 0.9998303), ('restaurants', 0.99982995), ('made', 0.99982667), ('kitchen', 0.9998242), ('stay', 0.9998223), ('safe', 0.99982214), ('needed', 0.99982196), ('need', 0.99982125), ('spacious', 0.99982095), ('comfortable', 0.9998203), ('always', 0.999818), ('view', 0.9998171), ('beautiful', 0.9998109), ('wonderful', 0.99980813), ('haris', 0.99980575), ('convenient', 0.999799), ('met', 0.9997982), ('rooftop', 0.9997942), ('home', 0.9997919), ('amazing', 0.99978673), ('visit', 0.9997842), ('terrace', 0.9997809), ('central', 0.9997703), ('thank', 0.999755), ('felt', 0.999754), ('gave', 0.9997526), ('staying', 0.99974847), ('friendly', 0.99974585), ('feel', 0.9997434), ('would', 0.99972045), ('equipped', 0.9997202), ('fantastic', 0.9997188), ('thanks', 0.9996588), ('recommend', 0.9996537), ('soulas', 0.99963576), ('walking', 0.9996167), ('definitely', 0.9996001), ('highly', 0.9995506), ('distance', 0.999366)]\n",
            "amazing [('amazing', 0.9999999), ('apartment', 0.9998368), ('spacious', 0.99981964), ('well', 0.9998188), ('day', 0.9998173), ('place', 0.99981654), ('athens', 0.9998158), ('great', 0.99981356), ('best', 0.99981356), ('time', 0.99981225), ('nice', 0.9998098), ('space', 0.9998081), ('acropolis', 0.9998048), ('location', 0.99980426), ('balcony', 0.9998041), ('coffee', 0.9998034), ('flat', 0.9997977), ('street', 0.9997971), ('beautiful', 0.99979633), ('stay', 0.9997952), ('rooftop', 0.9997947), ('terrace', 0.9997947), ('neighborhood', 0.9997938), ('also', 0.9997935), ('view', 0.99979264), ('area', 0.99979204), ('could', 0.9997918), ('one', 0.99978966), ('night', 0.9997893), ('lovely', 0.9997888), ('get', 0.99978864), ('good', 0.9997885), ('clean', 0.9997869), ('many', 0.9997869), ('city', 0.99978673), ('excellent', 0.9997858), ('need', 0.99978566), ('comfortable', 0.99978435), ('stayed', 0.99978375), ('soula', 0.9997836), ('kitchen', 0.9997792), ('even', 0.9997776), ('fotis', 0.99977624), ('enjoyed', 0.99977595), ('george', 0.9997756), ('house', 0.9997745), ('needed', 0.99977344), ('really', 0.999773), ('helpful', 0.9997707), ('host', 0.99976796), ('always', 0.9997666), ('everything', 0.9997665), ('much', 0.99976504), ('perfect', 0.999765), ('close', 0.99976456), ('away', 0.9997618), ('go', 0.99976), ('easy', 0.9997579), ('us', 0.9997553), ('back', 0.9997537), ('room', 0.9997536), ('two', 0.99975127), ('located', 0.9997512), ('around', 0.99974877), ('quiet', 0.9997481), ('station', 0.99974185), ('pygmalion', 0.9997415), ('convenient', 0.99974084), ('5', 0.99973893), ('wonderful', 0.9997388), ('minutes', 0.99973756), ('haris', 0.99973464), ('first', 0.9997312), ('metro', 0.999731), ('like', 0.9997293), ('home', 0.99972683), ('made', 0.99971956), ('experience', 0.99971884), ('safe', 0.99971855), ('visit', 0.99971616), ('restaurants', 0.999715), ('would', 0.999713), ('staying', 0.999713), ('walk', 0.9996981), ('thank', 0.9996973), ('felt', 0.9996821), ('fantastic', 0.99967617), ('met', 0.9996683), ('central', 0.99966824), ('friendly', 0.99966025), ('soulas', 0.9996515), ('equipped', 0.9996506), ('recommend', 0.99963295), ('feel', 0.99960446), ('thanks', 0.9996007), ('gave', 0.9996006), ('definitely', 0.9995486), ('highly', 0.9995262), ('walking', 0.9994116), ('distance', 0.9992865)]\n",
            "area [('area', 1.0000002), ('also', 0.9999178), ('day', 0.9999109), ('street', 0.99990964), ('nice', 0.99990803), ('apartment', 0.999908), ('neighborhood', 0.9999041), ('good', 0.9998996), ('even', 0.99989915), ('one', 0.9998985), ('fotis', 0.9998921), ('coffee', 0.99989206), ('great', 0.9998867), ('get', 0.99988526), ('athens', 0.999885), ('well', 0.9998843), ('night', 0.99988425), ('kitchen', 0.9998837), ('could', 0.99988353), ('best', 0.9998825), ('balcony', 0.999882), ('location', 0.9998817), ('flat', 0.99988), ('much', 0.9998793), ('close', 0.99987835), ('really', 0.99987817), ('easy', 0.99987805), ('many', 0.9998779), ('city', 0.9998761), ('away', 0.99987453), ('go', 0.9998742), ('time', 0.9998734), ('quiet', 0.999873), ('helpful', 0.9998716), ('perfect', 0.99987155), ('us', 0.9998704), ('room', 0.99986815), ('around', 0.99986744), ('place', 0.99986726), ('space', 0.9998671), ('george', 0.9998666), ('house', 0.99986243), ('metro', 0.99986225), ('restaurants', 0.9998612), ('acropolis', 0.99986094), ('excellent', 0.99986017), ('stayed', 0.9998587), ('5', 0.99985564), ('need', 0.99985516), ('clean', 0.99985504), ('host', 0.99985474), ('two', 0.99985456), ('everything', 0.9998542), ('experience', 0.9998542), ('soula', 0.9998524), ('like', 0.99984825), ('comfortable', 0.9998453), ('lovely', 0.99984473), ('station', 0.9998441), ('located', 0.99984324), ('pygmalion', 0.9998414), ('spacious', 0.99983925), ('beautiful', 0.99983746), ('enjoyed', 0.9998343), ('needed', 0.99983406), ('view', 0.9998336), ('stay', 0.9998317), ('wonderful', 0.9998304), ('made', 0.9998302), ('minutes', 0.9998282), ('always', 0.9998281), ('convenient', 0.99982667), ('safe', 0.9998194), ('haris', 0.9998183), ('first', 0.9998178), ('walk', 0.99981713), ('terrace', 0.99981713), ('back', 0.9998147), ('visit', 0.9998127), ('home', 0.9998092), ('felt', 0.99979967), ('amazing', 0.99979204), ('friendly', 0.9997908), ('rooftop', 0.99978656), ('thank', 0.99978423), ('feel', 0.99978113), ('met', 0.9997766), ('central', 0.9997765), ('equipped', 0.99977124), ('staying', 0.99975747), ('fantastic', 0.9997539), ('would', 0.99975294), ('gave', 0.99973416), ('thanks', 0.99971575), ('soulas', 0.9996905), ('recommend', 0.99967647), ('walking', 0.99960405), ('highly', 0.9995829), ('definitely', 0.9995802), ('distance', 0.9993578)]\n",
            "view [('view', 1.0000001), ('nice', 0.99984854), ('great', 0.9998419), ('apartment', 0.99983776), ('street', 0.9998346), ('area', 0.9998336), ('even', 0.99983186), ('athens', 0.9998302), ('location', 0.9998279), ('also', 0.99982584), ('best', 0.9998219), ('balcony', 0.99982035), ('space', 0.9998199), ('day', 0.99981964), ('helpful', 0.9998193), ('well', 0.9998172), ('city', 0.9998171), ('place', 0.99981654), ('flat', 0.9998153), ('one', 0.99981457), ('rooftop', 0.99981457), ('could', 0.9998111), ('get', 0.99980974), ('night', 0.99980974), ('george', 0.99980927), ('really', 0.9998086), ('spacious', 0.99980384), ('go', 0.999803), ('time', 0.9998026), ('acropolis', 0.99980044), ('coffee', 0.99980026), ('house', 0.99979967), ('host', 0.99979895), ('kitchen', 0.9997985), ('terrace', 0.9997967), ('excellent', 0.9997964), ('beautiful', 0.9997963), ('good', 0.99979514), ('fotis', 0.999794), ('amazing', 0.99979264), ('easy', 0.9997916), ('everything', 0.99979115), ('many', 0.99978745), ('much', 0.99978656), ('stayed', 0.9997851), ('away', 0.99978507), ('us', 0.99978423), ('stay', 0.99978405), ('two', 0.9997835), ('pygmalion', 0.99978334), ('metro', 0.99978), ('soula', 0.99977994), ('neighborhood', 0.99977875), ('comfortable', 0.99977857), ('enjoyed', 0.99977773), ('5', 0.99977726), ('room', 0.99977696), ('minutes', 0.9997768), ('experience', 0.9997758), ('need', 0.9997754), ('wonderful', 0.9997716), ('quiet', 0.9997698), ('lovely', 0.9997698), ('perfect', 0.9997692), ('made', 0.9997691), ('first', 0.99976766), ('close', 0.9997662), ('around', 0.9997628), ('clean', 0.9997591), ('located', 0.9997542), ('restaurants', 0.9997524), ('needed', 0.9997512), ('like', 0.999749), ('home', 0.99974567), ('walk', 0.9997452), ('staying', 0.9997437), ('haris', 0.9997428), ('always', 0.9997302), ('station', 0.9997296), ('thank', 0.9997276), ('back', 0.9997234), ('visit', 0.9997203), ('convenient', 0.99971676), ('safe', 0.99970925), ('felt', 0.99969727), ('friendly', 0.9996965), ('met', 0.9996946), ('would', 0.9996863), ('central', 0.9996822), ('feel', 0.99967706), ('gave', 0.99967474), ('equipped', 0.99967027), ('fantastic', 0.9996605), ('soulas', 0.9996462), ('recommend', 0.9996146), ('thanks', 0.999607), ('highly', 0.9995561), ('definitely', 0.9995342), ('walking', 0.9995042), ('distance', 0.9992533)]\n",
            "haris [('haris', 0.9999997), ('us', 0.9998555), ('apartment', 0.99985164), ('get', 0.9998475), ('fotis', 0.9998472), ('great', 0.99984694), ('time', 0.99984473), ('coffee', 0.9998426), ('really', 0.9998422), ('even', 0.9998399), ('well', 0.99983793), ('day', 0.9998375), ('night', 0.9998357), ('one', 0.9998346), ('nice', 0.9998321), ('also', 0.99983156), ('soula', 0.99983007), ('helpful', 0.99982905), ('street', 0.99982905), ('go', 0.999828), ('host', 0.99982643), ('flat', 0.99982613), ('george', 0.9998256), ('kitchen', 0.99982446), ('stayed', 0.99982035), ('needed', 0.99981844), ('area', 0.9998183), ('excellent', 0.9998171), ('perfect', 0.99981225), ('best', 0.9998093), ('place', 0.99980927), ('easy', 0.99980915), ('much', 0.9998084), ('like', 0.99980724), ('could', 0.99980605), ('city', 0.99980575), ('first', 0.9998045), ('athens', 0.99980354), ('made', 0.9998027), ('neighborhood', 0.9998019), ('balcony', 0.9997993), ('room', 0.9997971), ('always', 0.99979395), ('good', 0.9997917), ('away', 0.99979126), ('everything', 0.999791), ('stay', 0.9997907), ('quiet', 0.9997905), ('around', 0.999789), ('location', 0.99978846), ('pygmalion', 0.9997879), ('need', 0.9997872), ('two', 0.9997868), ('home', 0.9997858), ('space', 0.99978477), ('back', 0.9997844), ('house', 0.9997838), ('enjoyed', 0.9997835), ('experience', 0.9997833), ('spacious', 0.99978256), ('lovely', 0.99978113), ('comfortable', 0.99978036), ('close', 0.9997766), ('many', 0.99977636), ('clean', 0.99977535), ('friendly', 0.9997736), ('visit', 0.99976593), ('5', 0.99976325), ('met', 0.9997617), ('wonderful', 0.9997615), ('gave', 0.99976104), ('beautiful', 0.9997573), ('thank', 0.99975294), ('located', 0.99975145), ('acropolis', 0.99975115), ('view', 0.9997428), ('felt', 0.9997422), ('staying', 0.99973637), ('feel', 0.9997356), ('amazing', 0.99973464), ('metro', 0.99972963), ('minutes', 0.9997272), ('terrace', 0.9997263), ('station', 0.9997247), ('convenient', 0.99972236), ('safe', 0.99972063), ('walk', 0.9997109), ('restaurants', 0.9997065), ('equipped', 0.99970436), ('rooftop', 0.99970365), ('would', 0.9997029), ('central', 0.9996811), ('soulas', 0.9996725), ('fantastic', 0.9996689), ('recommend', 0.99964577), ('thanks', 0.99963015), ('definitely', 0.9995581), ('highly', 0.9995233), ('walking', 0.99946123), ('distance', 0.99915767)]\n",
            "needed [('needed', 1.0), ('apartment', 0.99987406), ('need', 0.9998705), ('kitchen', 0.99986064), ('day', 0.99986005), ('coffee', 0.9998597), ('great', 0.9998563), ('even', 0.99985313), ('athens', 0.9998513), ('also', 0.99985003), ('nice', 0.99984777), ('george', 0.9998477), ('time', 0.9998465), ('house', 0.99984455), ('fotis', 0.9998443), ('one', 0.999844), ('could', 0.999843), ('place', 0.999842), ('best', 0.99984014), ('us', 0.9998397), ('really', 0.99983937), ('get', 0.99983853), ('night', 0.9998385), ('perfect', 0.99983823), ('well', 0.99983805), ('street', 0.99983525), ('stay', 0.99983424), ('area', 0.99983406), ('helpful', 0.9998314), ('much', 0.9998311), ('comfortable', 0.9998306), ('easy', 0.99983037), ('flat', 0.9998281), ('excellent', 0.9998273), ('like', 0.999827), ('many', 0.999827), ('made', 0.9998259), ('away', 0.99982554), ('lovely', 0.99982363), ('host', 0.9998236), ('always', 0.99982345), ('good', 0.9998224), ('home', 0.9998224), ('city', 0.99982196), ('go', 0.9998218), ('haris', 0.99981844), ('stayed', 0.9998175), ('location', 0.9998174), ('neighborhood', 0.9998158), ('clean', 0.9998157), ('spacious', 0.9998146), ('back', 0.99981165), ('balcony', 0.9998102), ('soula', 0.9998098), ('experience', 0.9998098), ('around', 0.9998083), ('everything', 0.99980736), ('5', 0.9998008), ('room', 0.9997976), ('first', 0.9997959), ('quiet', 0.99979526), ('close', 0.99979436), ('felt', 0.99979097), ('acropolis', 0.99979067), ('space', 0.99978876), ('located', 0.9997833), ('pygmalion', 0.9997818), ('visit', 0.99977934), ('wonderful', 0.99977875), ('two', 0.9997761), ('amazing', 0.99977344), ('enjoyed', 0.99977267), ('metro', 0.99977106), ('met', 0.9997683), ('thank', 0.9997668), ('minutes', 0.99975973), ('beautiful', 0.9997592), ('station', 0.99975544), ('safe', 0.9997523), ('view', 0.9997512), ('staying', 0.99974954), ('restaurants', 0.9997457), ('would', 0.99974275), ('convenient', 0.99974185), ('friendly', 0.9997382), ('terrace', 0.99973476), ('rooftop', 0.99973226), ('feel', 0.9997302), ('walk', 0.99972737), ('central', 0.99972343), ('equipped', 0.99972093), ('recommend', 0.9997105), ('gave', 0.9996972), ('fantastic', 0.99968565), ('soulas', 0.9996847), ('thanks', 0.99967563), ('definitely', 0.9996029), ('highly', 0.9995658), ('walking', 0.9995055), ('distance', 0.9992382)]\n",
            "one [('one', 0.99999964), ('also', 0.9999276), ('apartment', 0.9999166), ('coffee', 0.9999141), ('night', 0.99991345), ('day', 0.99991316), ('nice', 0.9999116), ('best', 0.9999067), ('street', 0.999901), ('well', 0.99989945), ('area', 0.9998985), ('even', 0.9998976), ('flat', 0.999896), ('like', 0.9998954), ('good', 0.9998937), ('place', 0.9998931), ('city', 0.99988997), ('balcony', 0.9998884), ('athens', 0.99988836), ('fotis', 0.99988824), ('stayed', 0.999888), ('george', 0.9998868), ('time', 0.99988645), ('could', 0.9998849), ('helpful', 0.9998847), ('really', 0.99988425), ('get', 0.9998825), ('great', 0.99988234), ('us', 0.99988204), ('quiet', 0.99988043), ('two', 0.9998802), ('lovely', 0.9998797), ('away', 0.9998795), ('everything', 0.99987847), ('experience', 0.99987847), ('room', 0.9998784), ('many', 0.9998764), ('easy', 0.9998756), ('space', 0.99987364), ('excellent', 0.9998728), ('much', 0.9998723), ('go', 0.9998719), ('kitchen', 0.9998709), ('need', 0.99986917), ('neighborhood', 0.99986863), ('wonderful', 0.9998681), ('perfect', 0.9998676), ('close', 0.9998652), ('around', 0.9998649), ('house', 0.9998636), ('comfortable', 0.9998633), ('location', 0.99986154), ('acropolis', 0.9998591), ('first', 0.9998586), ('host', 0.99985504), ('soula', 0.999855), ('spacious', 0.9998539), ('5', 0.99985373), ('enjoyed', 0.9998535), ('pygmalion', 0.99985325), ('clean', 0.99985117), ('beautiful', 0.99984545), ('needed', 0.999844), ('made', 0.9998415), ('visit', 0.9998368), ('haris', 0.9998346), ('metro', 0.99983454), ('stay', 0.9998321), ('back', 0.99983096), ('home', 0.9998308), ('restaurants', 0.9998302), ('always', 0.9998274), ('located', 0.9998245), ('safe', 0.9998193), ('minutes', 0.9998192), ('station', 0.9998192), ('view', 0.99981457), ('thank', 0.99980986), ('walk', 0.99980885), ('met', 0.99980307), ('staying', 0.9998026), ('felt', 0.9998023), ('rooftop', 0.9998002), ('convenient', 0.99979186), ('amazing', 0.99978966), ('friendly', 0.9997891), ('terrace', 0.999789), ('would', 0.9997781), ('feel', 0.9997706), ('equipped', 0.9997697), ('central', 0.99976707), ('fantastic', 0.9997623), ('gave', 0.999735), ('thanks', 0.99972796), ('soulas', 0.99971294), ('recommend', 0.9997081), ('definitely', 0.9996328), ('highly', 0.9996216), ('walking', 0.99957705), ('distance', 0.99929637)]\n",
            "quiet [('quiet', 1.0000002), ('also', 0.9998914), ('apartment', 0.9998828), ('one', 0.99988043), ('city', 0.9998789), ('nice', 0.9998732), ('area', 0.999873), ('good', 0.99986887), ('street', 0.999867), ('day', 0.9998655), ('even', 0.999864), ('neighborhood', 0.99985784), ('stayed', 0.9998576), ('night', 0.9998576), ('coffee', 0.99985754), ('really', 0.9998552), ('excellent', 0.9998548), ('flat', 0.9998539), ('could', 0.99985236), ('well', 0.9998519), ('helpful', 0.9998504), ('best', 0.9998488), ('location', 0.999847), ('many', 0.99984694), ('easy', 0.99984634), ('great', 0.9998455), ('balcony', 0.9998441), ('fotis', 0.99984354), ('much', 0.99984354), ('perfect', 0.9998431), ('lovely', 0.9998405), ('go', 0.9998394), ('close', 0.9998393), ('time', 0.99983656), ('george', 0.99983644), ('away', 0.9998357), ('place', 0.9998355), ('room', 0.99983466), ('get', 0.9998346), ('need', 0.9998338), ('us', 0.99983346), ('around', 0.9998323), ('athens', 0.99983), ('host', 0.99983), ('everything', 0.99982905), ('house', 0.9998287), ('stay', 0.9998285), ('clean', 0.99982715), ('restaurants', 0.9998261), ('always', 0.99982494), ('safe', 0.9998232), ('like', 0.99982285), ('pygmalion', 0.9998226), ('kitchen', 0.9998212), ('two', 0.9998209), ('wonderful', 0.9998183), ('enjoyed', 0.99981636), ('experience', 0.99981624), ('5', 0.99981326), ('acropolis', 0.9998126), ('metro', 0.9998119), ('soula', 0.99981123), ('made', 0.99980754), ('beautiful', 0.9998065), ('space', 0.999806), ('located', 0.9998057), ('comfortable', 0.99980325), ('minutes', 0.99980086), ('first', 0.99979997), ('visit', 0.99979675), ('station', 0.9997962), ('needed', 0.99979526), ('spacious', 0.9997952), ('haris', 0.9997905), ('walk', 0.99978733), ('back', 0.9997837), ('central', 0.99977934), ('met', 0.99977505), ('convenient', 0.9997744), ('home', 0.99977404), ('view', 0.9997698), ('equipped', 0.99976385), ('friendly', 0.9997581), ('felt', 0.99975747), ('amazing', 0.9997481), ('staying', 0.99974376), ('feel', 0.9997414), ('would', 0.9997382), ('thank', 0.9997375), ('rooftop', 0.9997333), ('terrace', 0.99972796), ('recommend', 0.9996906), ('gave', 0.99968356), ('fantastic', 0.99968135), ('thanks', 0.99967724), ('soulas', 0.9996352), ('walking', 0.99962413), ('definitely', 0.99959934), ('highly', 0.99956053), ('distance', 0.99929595)]\n",
            "spacious [('spacious', 0.9999998), ('apartment', 0.99987197), ('well', 0.99986935), ('nice', 0.99986863), ('everything', 0.99985665), ('clean', 0.9998563), ('one', 0.9998539), ('great', 0.9998521), ('also', 0.9998471), ('place', 0.999844), ('fotis', 0.9998439), ('space', 0.9998437), ('location', 0.9998435), ('really', 0.9998435), ('flat', 0.99984235), ('house', 0.99984187), ('time', 0.99984145), ('day', 0.99984086), ('athens', 0.99984056), ('need', 0.9998398), ('even', 0.9998396), ('area', 0.99983925), ('best', 0.99983746), ('kitchen', 0.9998374), ('comfortable', 0.99983674), ('street', 0.99983567), ('helpful', 0.9998334), ('soula', 0.9998331), ('lovely', 0.999833), ('excellent', 0.99983186), ('stay', 0.99983084), ('night', 0.9998304), ('could', 0.9998294), ('neighborhood', 0.9998273), ('get', 0.9998248), ('balcony', 0.99982464), ('perfect', 0.9998244), ('coffee', 0.9998238), ('always', 0.99982256), ('city', 0.99982095), ('easy', 0.9998205), ('amazing', 0.99981964), ('host', 0.9998177), ('george', 0.99981725), ('us', 0.99981666), ('room', 0.9998163), ('located', 0.9998157), ('two', 0.9998152), ('needed', 0.9998146), ('like', 0.99981457), ('beautiful', 0.99981445), ('much', 0.99981385), ('good', 0.99981236), ('go', 0.9998091), ('stayed', 0.999808), ('pygmalion', 0.99980694), ('wonderful', 0.9998051), ('view', 0.99980384), ('acropolis', 0.999802), ('many', 0.99980026), ('quiet', 0.9997952), ('close', 0.99979496), ('back', 0.9997949), ('5', 0.9997946), ('enjoyed', 0.999792), ('experience', 0.99978924), ('home', 0.9997852), ('around', 0.99978393), ('haris', 0.99978256), ('metro', 0.9997688), ('safe', 0.9997678), ('away', 0.9997675), ('first', 0.99976736), ('terrace', 0.9997578), ('station', 0.99975574), ('staying', 0.99975324), ('rooftop', 0.9997529), ('made', 0.9997525), ('central', 0.9997515), ('felt', 0.9997505), ('visit', 0.99974954), ('convenient', 0.9997485), ('equipped', 0.9997484), ('restaurants', 0.9997482), ('friendly', 0.99974644), ('minutes', 0.9997401), ('would', 0.9997332), ('fantastic', 0.9997331), ('met', 0.9997241), ('thank', 0.9997171), ('walk', 0.9997144), ('feel', 0.999705), ('recommend', 0.9996898), ('gave', 0.99968696), ('soulas', 0.9996844), ('thanks', 0.99961495), ('definitely', 0.99957645), ('highly', 0.99955), ('walking', 0.9994507), ('distance', 0.9992734)]\n",
            "walking [('walking', 1.0000002), ('restaurants', 0.9996787), ('metro', 0.9996516), ('away', 0.99964654), ('minutes', 0.9996457), ('acropolis', 0.9996359), ('neighborhood', 0.99963194), ('many', 0.99963164), ('good', 0.99962467), ('quiet', 0.99962413), ('walk', 0.9996238), ('also', 0.9996237), ('around', 0.9996235), ('city', 0.9996167), ('5', 0.99961525), ('close', 0.999613), ('street', 0.9996124), ('area', 0.99960405), ('station', 0.9996034), ('coffee', 0.9996007), ('easy', 0.9995991), ('get', 0.9995922), ('even', 0.9995921), ('convenient', 0.9995888), ('apartment', 0.99957746), ('one', 0.99957705), ('best', 0.9995751), ('location', 0.99957454), ('located', 0.99957436), ('flat', 0.9995695), ('perfect', 0.99956846), ('day', 0.9995663), ('great', 0.9995633), ('go', 0.9995626), ('balcony', 0.9995611), ('room', 0.9995564), ('night', 0.99955463), ('george', 0.9995521), ('could', 0.99955165), ('enjoyed', 0.99955136), ('house', 0.9995504), ('much', 0.99954903), ('fotis', 0.9995489), ('nice', 0.99954736), ('athens', 0.99954367), ('place', 0.9995425), ('everything', 0.9995419), ('helpful', 0.999541), ('really', 0.99953806), ('excellent', 0.99953485), ('kitchen', 0.9995334), ('us', 0.9995318), ('need', 0.999528), ('safe', 0.99952763), ('central', 0.99952644), ('made', 0.9995218), ('time', 0.9995199), ('two', 0.99951977), ('well', 0.9995185), ('stayed', 0.9995092), ('lovely', 0.9995091), ('host', 0.99950844), ('stay', 0.9995081), ('needed', 0.9995055), ('experience', 0.99950546), ('like', 0.9995044), ('view', 0.9995042), ('wonderful', 0.9995038), ('clean', 0.9995005), ('always', 0.99949837), ('met', 0.999497), ('soula', 0.9994943), ('pygmalion', 0.99949306), ('comfortable', 0.9994886), ('visit', 0.99948615), ('back', 0.99948144), ('first', 0.9994735), ('space', 0.99947315), ('home', 0.99946725), ('haris', 0.99946123), ('rooftop', 0.9994561), ('spacious', 0.9994507), ('beautiful', 0.99944645), ('terrace', 0.99944633), ('felt', 0.9994434), ('equipped', 0.9994341), ('feel', 0.99943167), ('staying', 0.999424), ('amazing', 0.9994116), ('friendly', 0.9994105), ('would', 0.9994099), ('fantastic', 0.9994037), ('thank', 0.99938744), ('gave', 0.9993598), ('thanks', 0.9993473), ('soulas', 0.99931014), ('recommend', 0.9992946), ('definitely', 0.99925977), ('highly', 0.99924475), ('distance', 0.9991744)]\n",
            "need [('need', 1.0000001), ('apartment', 0.99987656), ('excellent', 0.9998728), ('needed', 0.9998705), ('one', 0.99986917), ('great', 0.99986637), ('street', 0.99986565), ('fotis', 0.9998649), ('george', 0.99986136), ('place', 0.9998606), ('athens', 0.99986017), ('also', 0.99986017), ('nice', 0.9998589), ('day', 0.9998587), ('everything', 0.99985826), ('well', 0.99985814), ('coffee', 0.9998577), ('easy', 0.99985635), ('area', 0.99985516), ('host', 0.9998547), ('time', 0.9998537), ('even', 0.99985355), ('could', 0.999853), ('really', 0.9998519), ('good', 0.99985117), ('stayed', 0.9998492), ('house', 0.99984795), ('much', 0.99984777), ('soula', 0.9998465), ('best', 0.9998459), ('lovely', 0.99984586), ('comfortable', 0.99984473), ('us', 0.999844), ('perfect', 0.99984235), ('many', 0.9998415), ('stay', 0.9998409), ('spacious', 0.9998398), ('night', 0.9998395), ('balcony', 0.99983907), ('always', 0.99983895), ('helpful', 0.9998388), ('flat', 0.9998384), ('kitchen', 0.99983764), ('get', 0.9998348), ('quiet', 0.9998338), ('neighborhood', 0.9998315), ('location', 0.9998306), ('like', 0.9998297), ('around', 0.99982953), ('experience', 0.9998281), ('pygmalion', 0.9998267), ('clean', 0.9998253), ('go', 0.99982375), ('city', 0.99982125), ('room', 0.99981993), ('enjoyed', 0.9998167), ('away', 0.99981636), ('5', 0.9998159), ('space', 0.99981385), ('wonderful', 0.9998123), ('two', 0.9998096), ('close', 0.9998071), ('made', 0.99980605), ('back', 0.99980426), ('acropolis', 0.9997972), ('metro', 0.99979675), ('home', 0.9997943), ('beautiful', 0.9997912), ('safe', 0.9997911), ('located', 0.99978757), ('haris', 0.9997872), ('amazing', 0.99978566), ('visit', 0.9997837), ('restaurants', 0.99977845), ('view', 0.9997754), ('first', 0.99977356), ('minutes', 0.9997713), ('felt', 0.99976945), ('would', 0.999769), ('convenient', 0.9997684), ('station', 0.9997663), ('feel', 0.9997641), ('met', 0.9997633), ('equipped', 0.99976254), ('friendly', 0.9997592), ('staying', 0.9997576), ('rooftop', 0.9997504), ('thank', 0.9997449), ('walk', 0.9997343), ('central', 0.99972934), ('recommend', 0.9997266), ('fantastic', 0.9997177), ('terrace', 0.99970925), ('soulas', 0.999677), ('thanks', 0.99967575), ('gave', 0.99967563), ('definitely', 0.9995972), ('highly', 0.99959224), ('walking', 0.999528), ('distance', 0.9992997)]\n",
            "home [('home', 1.0000002), ('like', 0.9998729), ('night', 0.999848), ('day', 0.99984777), ('also', 0.99984366), ('flat', 0.99983954), ('made', 0.99983954), ('apartment', 0.9998381), ('time', 0.9998376), ('perfect', 0.9998347), ('even', 0.99983376), ('one', 0.9998308), ('nice', 0.9998293), ('everything', 0.9998278), ('athens', 0.99982756), ('really', 0.99982727), ('get', 0.9998247), ('us', 0.99982446), ('fotis', 0.9998244), ('best', 0.999824), ('could', 0.99982375), ('away', 0.99982345), ('needed', 0.9998224), ('great', 0.9998217), ('coffee', 0.99982125), ('street', 0.99982035), ('soula', 0.9998198), ('house', 0.9998192), ('kitchen', 0.99981886), ('go', 0.9998179), ('host', 0.9998149), ('helpful', 0.9998138), ('neighborhood', 0.9998137), ('place', 0.99981153), ('area', 0.9998092), ('easy', 0.99980676), ('well', 0.9998066), ('george', 0.99980235), ('good', 0.9998013), ('stayed', 0.99979895), ('balcony', 0.9997978), ('back', 0.99979633), ('stay', 0.9997947), ('first', 0.99979466), ('need', 0.9997943), ('city', 0.9997919), ('excellent', 0.999791), ('lovely', 0.99978817), ('haris', 0.9997858), ('many', 0.99978566), ('spacious', 0.9997852), ('location', 0.99978316), ('much', 0.99978244), ('visit', 0.9997823), ('room', 0.9997822), ('clean', 0.99978083), ('comfortable', 0.9997808), ('always', 0.9997806), ('5', 0.9997801), ('quiet', 0.99977404), ('experience', 0.9997732), ('pygmalion', 0.999772), ('felt', 0.9997682), ('around', 0.99976796), ('two', 0.99976796), ('wonderful', 0.9997654), ('enjoyed', 0.9997612), ('space', 0.99976), ('beautiful', 0.9997591), ('minutes', 0.99975383), ('staying', 0.9997504), ('met', 0.99974823), ('acropolis', 0.99974716), ('view', 0.99974567), ('close', 0.9997427), ('located', 0.9997365), ('metro', 0.9997317), ('friendly', 0.9997287), ('amazing', 0.99972683), ('feel', 0.9997242), ('would', 0.99972147), ('safe', 0.9997192), ('thank', 0.99971664), ('terrace', 0.9997163), ('station', 0.9997138), ('rooftop', 0.99970466), ('restaurants', 0.99970394), ('convenient', 0.9996942), ('gave', 0.9996941), ('walk', 0.99969184), ('equipped', 0.99969053), ('fantastic', 0.9996895), ('soulas', 0.999684), ('central', 0.9996669), ('recommend', 0.99962926), ('thanks', 0.9996291), ('definitely', 0.99955344), ('highly', 0.9995221), ('walking', 0.99946725), ('distance', 0.9992448)]\n",
            "definitely [('definitely', 0.9999998), ('would', 0.99974155), ('athens', 0.9996982), ('recommend', 0.9996876), ('highly', 0.9996861), ('stay', 0.99968386), ('place', 0.9996838), ('best', 0.99965054), ('helpful', 0.9996426), ('flat', 0.99963737), ('staying', 0.99963564), ('apartment', 0.99963313), ('one', 0.9996328), ('back', 0.99963063), ('host', 0.99962753), ('day', 0.9996258), ('excellent', 0.9996256), ('stayed', 0.9996229), ('much', 0.99961954), ('time', 0.99961936), ('really', 0.9996182), ('lovely', 0.9996115), ('george', 0.9996103), ('good', 0.9996073), ('enjoyed', 0.99960655), ('clean', 0.9996064), ('experience', 0.99960625), ('nice', 0.9996031), ('needed', 0.9996029), ('great', 0.9996022), ('get', 0.99960184), ('everything', 0.99960136), ('comfortable', 0.9996011), ('city', 0.9996001), ('quiet', 0.99959934), ('thank', 0.99959874), ('need', 0.9995972), ('made', 0.9995972), ('also', 0.99959636), ('street', 0.9995949), ('many', 0.9995937), ('house', 0.9995933), ('beautiful', 0.99959123), ('fotis', 0.9995911), ('well', 0.9995895), ('go', 0.9995895), ('perfect', 0.99958926), ('wonderful', 0.9995892), ('night', 0.99958634), ('coffee', 0.9995851), ('area', 0.9995802), ('location', 0.99957997), ('two', 0.9995793), ('spacious', 0.99957645), ('easy', 0.9995746), ('first', 0.99957395), ('visit', 0.9995726), ('could', 0.9995719), ('space', 0.9995678), ('like', 0.99956256), ('pygmalion', 0.9995598), ('kitchen', 0.9995582), ('haris', 0.9995581), ('even', 0.99955803), ('us', 0.99955505), ('always', 0.9995543), ('home', 0.99955344), ('neighborhood', 0.9995503), ('room', 0.99954957), ('amazing', 0.9995486), ('close', 0.99954444), ('5', 0.999543), ('around', 0.9995395), ('balcony', 0.9995395), ('thanks', 0.99953824), ('safe', 0.9995367), ('soula', 0.9995355), ('friendly', 0.99953544), ('view', 0.9995342), ('located', 0.9995319), ('restaurants', 0.9995289), ('minutes', 0.99952674), ('acropolis', 0.9995212), ('away', 0.9995197), ('equipped', 0.9995177), ('metro', 0.99951637), ('rooftop', 0.9995109), ('convenient', 0.9995102), ('soulas', 0.9995084), ('felt', 0.99950814), ('met', 0.99950343), ('walk', 0.9994803), ('terrace', 0.9994758), ('station', 0.9994627), ('fantastic', 0.99945736), ('feel', 0.9994523), ('central', 0.99942493), ('gave', 0.99939567), ('walking', 0.99925977), ('distance', 0.9989209)]\n",
            "get [('get', 1.0), ('also', 0.99989814), ('day', 0.9998962), ('coffee', 0.99989563), ('even', 0.9998925), ('street', 0.9998925), ('area', 0.99988526), ('good', 0.99988437), ('one', 0.9998825), ('us', 0.9998811), ('go', 0.9998807), ('night', 0.9998804), ('easy', 0.9998776), ('really', 0.9998766), ('athens', 0.9998758), ('city', 0.99987537), ('fotis', 0.99987465), ('best', 0.9998741), ('could', 0.99987364), ('apartment', 0.9998729), ('great', 0.9998716), ('george', 0.99987066), ('nice', 0.99986935), ('time', 0.99986887), ('away', 0.9998658), ('flat', 0.99986553), ('well', 0.9998652), ('place', 0.99986345), ('neighborhood', 0.9998617), ('helpful', 0.9998595), ('stayed', 0.9998572), ('many', 0.99985623), ('perfect', 0.99985534), ('kitchen', 0.9998553), ('room', 0.9998538), ('around', 0.9998537), ('close', 0.9998536), ('soula', 0.99985266), ('excellent', 0.9998514), ('like', 0.9998509), ('made', 0.9998499), ('host', 0.9998493), ('haris', 0.9998475), ('much', 0.9998458), ('house', 0.99984473), ('everything', 0.9998447), ('location', 0.9998409), ('experience', 0.9998396), ('enjoyed', 0.99983877), ('needed', 0.99983853), ('first', 0.9998376), ('5', 0.99983615), ('balcony', 0.99983585), ('need', 0.9998348), ('quiet', 0.9998346), ('always', 0.99983394), ('acropolis', 0.9998301), ('clean', 0.9998279), ('metro', 0.9998274), ('back', 0.9998251), ('spacious', 0.9998248), ('home', 0.9998247), ('pygmalion', 0.9998216), ('restaurants', 0.9998205), ('station', 0.9998204), ('space', 0.9998198), ('comfortable', 0.99981666), ('two', 0.99981457), ('minutes', 0.9998143), ('lovely', 0.99981195), ('stay', 0.99981064), ('view', 0.99980974), ('located', 0.9998088), ('wonderful', 0.9998039), ('beautiful', 0.9998024), ('convenient', 0.9998011), ('met', 0.99979883), ('walk', 0.9997983), ('visit', 0.9997928), ('safe', 0.9997887), ('amazing', 0.99978864), ('terrace', 0.9997864), ('friendly', 0.9997847), ('rooftop', 0.9997772), ('felt', 0.9997701), ('gave', 0.99976677), ('staying', 0.99975884), ('feel', 0.9997432), ('thank', 0.9997372), ('central', 0.99973506), ('would', 0.9997246), ('equipped', 0.9997238), ('fantastic', 0.9997116), ('thanks', 0.99971104), ('soulas', 0.99966824), ('recommend', 0.9996547), ('definitely', 0.99960184), ('walking', 0.9995922), ('highly', 0.99956006), ('distance', 0.99930334)]\n",
            "located [('located', 0.99999994), ('apartment', 0.9998604), ('also', 0.9998545), ('street', 0.99984586), ('area', 0.99984324), ('clean', 0.99984276), ('best', 0.99984187), ('even', 0.9998412), ('fotis', 0.9998391), ('day', 0.9998341), ('many', 0.9998318), ('city', 0.9998303), ('neighborhood', 0.99982744), ('close', 0.99982697), ('good', 0.9998262), ('flat', 0.99982494), ('one', 0.9998245), ('really', 0.99982387), ('coffee', 0.9998236), ('athens', 0.99982256), ('well', 0.9998225), ('place', 0.9998214), ('away', 0.99981815), ('spacious', 0.9998157), ('night', 0.9998155), ('metro', 0.99981505), ('station', 0.9998145), ('perfect', 0.99981314), ('everything', 0.9998123), ('location', 0.999812), ('much', 0.9998113), ('nice', 0.999811), ('get', 0.9998088), ('great', 0.99980783), ('5', 0.9998076), ('comfortable', 0.9998075), ('balcony', 0.99980694), ('excellent', 0.99980646), ('around', 0.9998059), ('quiet', 0.9998057), ('house', 0.9998047), ('george', 0.9998045), ('time', 0.999804), ('us', 0.99980366), ('kitchen', 0.9998036), ('minutes', 0.99980235), ('stayed', 0.99980235), ('restaurants', 0.9998017), ('helpful', 0.9998011), ('easy', 0.9998004), ('beautiful', 0.99979967), ('acropolis', 0.9997989), ('could', 0.99979734), ('soula', 0.99979585), ('enjoyed', 0.9997929), ('two', 0.99979156), ('safe', 0.9997915), ('lovely', 0.9997906), ('stay', 0.9997893), ('need', 0.99978757), ('space', 0.9997842), ('needed', 0.9997833), ('host', 0.99978095), ('like', 0.9997788), ('go', 0.9997772), ('room', 0.999776), ('always', 0.99977374), ('convenient', 0.9997733), ('back', 0.999773), ('walk', 0.9997723), ('wonderful', 0.99976903), ('pygmalion', 0.9997657), ('view', 0.9997542), ('terrace', 0.99975306), ('haris', 0.99975145), ('experience', 0.9997513), ('amazing', 0.9997512), ('first', 0.99974847), ('visit', 0.9997458), ('equipped', 0.9997389), ('made', 0.99973744), ('home', 0.9997365), ('central', 0.9997299), ('felt', 0.9997299), ('met', 0.9997204), ('rooftop', 0.99970484), ('thank', 0.9996985), ('feel', 0.9996963), ('fantastic', 0.9996933), ('soulas', 0.99969107), ('staying', 0.9996888), ('would', 0.999686), ('friendly', 0.9996791), ('gave', 0.99962807), ('thanks', 0.9996225), ('recommend', 0.9995995), ('walking', 0.99957436), ('highly', 0.99954075), ('definitely', 0.9995319), ('distance', 0.99935293)]\n",
            "around [('around', 1.0000001), ('also', 0.9999088), ('street', 0.99988073), ('fotis', 0.9998798), ('even', 0.9998775), ('easy', 0.999875), ('city', 0.9998738), ('us', 0.999872), ('george', 0.9998699), ('coffee', 0.9998692), ('area', 0.99986744), ('one', 0.9998649), ('best', 0.9998643), ('day', 0.9998643), ('many', 0.99986213), ('apartment', 0.99986017), ('go', 0.99985915), ('good', 0.99985856), ('neighborhood', 0.99985796), ('well', 0.99985486), ('get', 0.9998537), ('close', 0.99985313), ('night', 0.9998531), ('could', 0.9998524), ('flat', 0.999852), ('location', 0.99984896), ('away', 0.9998483), ('helpful', 0.9998445), ('time', 0.999844), ('great', 0.9998435), ('5', 0.99984276), ('much', 0.9998417), ('nice', 0.9998388), ('balcony', 0.99983823), ('really', 0.9998351), ('excellent', 0.9998343), ('quiet', 0.9998323), ('need', 0.99982953), ('athens', 0.9998269), ('soula', 0.9998269), ('room', 0.9998254), ('kitchen', 0.99982524), ('acropolis', 0.99982125), ('metro', 0.9998212), ('like', 0.99981964), ('everything', 0.9998195), ('minutes', 0.9998185), ('stayed', 0.999818), ('house', 0.99981713), ('lovely', 0.9998159), ('restaurants', 0.9998154), ('made', 0.9998145), ('perfect', 0.9998109), ('space', 0.9998091), ('needed', 0.9998083), ('place', 0.9998077), ('two', 0.9998071), ('experience', 0.9998068), ('safe', 0.99980676), ('wonderful', 0.9998063), ('located', 0.9998059), ('station', 0.9998045), ('walk', 0.99980325), ('host', 0.9998023), ('pygmalion', 0.99979746), ('clean', 0.999797), ('convenient', 0.99979454), ('stay', 0.99979347), ('back', 0.99979305), ('haris', 0.999789), ('first', 0.9997882), ('always', 0.99978733), ('spacious', 0.99978393), ('met', 0.99978137), ('enjoyed', 0.9997777), ('comfortable', 0.9997772), ('visit', 0.9997695), ('home', 0.99976796), ('view', 0.9997628), ('rooftop', 0.99976194), ('beautiful', 0.9997603), ('terrace', 0.9997494), ('amazing', 0.99974877), ('friendly', 0.9997485), ('central', 0.9997474), ('feel', 0.9997443), ('felt', 0.99973965), ('equipped', 0.99972737), ('gave', 0.9997173), ('staying', 0.9997027), ('fantastic', 0.9996997), ('thank', 0.99969655), ('would', 0.9996798), ('thanks', 0.9996507), ('walking', 0.9996235), ('soulas', 0.99961275), ('recommend', 0.9996108), ('definitely', 0.9995395), ('highly', 0.9995139), ('distance', 0.9993846)]\n",
            "excellent [('excellent', 0.9999994), ('well', 0.99987334), ('one', 0.9998728), ('need', 0.9998728), ('nice', 0.99987245), ('also', 0.9998709), ('apartment', 0.9998692), ('even', 0.9998678), ('day', 0.9998623), ('flat', 0.9998617), ('helpful', 0.9998612), ('area', 0.99986017), ('coffee', 0.99986005), ('street', 0.9998599), ('best', 0.9998583), ('good', 0.9998578), ('many', 0.9998572), ('city', 0.9998564), ('stayed', 0.99985516), ('quiet', 0.9998548), ('host', 0.999853), ('place', 0.9998527), ('time', 0.9998526), ('get', 0.9998514), ('could', 0.9998501), ('night', 0.99984944), ('easy', 0.9998494), ('great', 0.9998493), ('fotis', 0.99984676), ('george', 0.99984676), ('location', 0.9998453), ('really', 0.9998421), ('athens', 0.9998411), ('soula', 0.9998409), ('away', 0.9998368), ('lovely', 0.99983674), ('perfect', 0.9998362), ('us', 0.99983567), ('much', 0.9998348), ('around', 0.9998343), ('5', 0.99983364), ('house', 0.99983335), ('spacious', 0.99983186), ('neighborhood', 0.99983186), ('kitchen', 0.999831), ('balcony', 0.9998307), ('close', 0.999829), ('comfortable', 0.9998277), ('needed', 0.9998273), ('everything', 0.99982655), ('go', 0.9998265), ('clean', 0.99982524), ('always', 0.99982166), ('stay', 0.9998193), ('like', 0.9998188), ('enjoyed', 0.99981844), ('haris', 0.9998171), ('pygmalion', 0.99981624), ('room', 0.9998146), ('two', 0.99981076), ('located', 0.99980646), ('restaurants', 0.9998064), ('acropolis', 0.99980634), ('back', 0.99980617), ('experience', 0.99980587), ('wonderful', 0.9998036), ('metro', 0.99980235), ('space', 0.9998023), ('minutes', 0.99980205), ('beautiful', 0.9998002), ('view', 0.9997964), ('made', 0.99979603), ('first', 0.99979246), ('home', 0.999791), ('station', 0.99978995), ('felt', 0.9997898), ('safe', 0.99978876), ('walk', 0.99978584), ('amazing', 0.9997858), ('friendly', 0.9997716), ('met', 0.99976504), ('convenient', 0.9997649), ('visit', 0.99976283), ('equipped', 0.9997574), ('feel', 0.99974793), ('would', 0.9997431), ('rooftop', 0.9997389), ('fantastic', 0.9997378), ('central', 0.99973714), ('thank', 0.99973667), ('terrace', 0.99973655), ('staying', 0.9997277), ('recommend', 0.9997067), ('gave', 0.9996893), ('soulas', 0.99966717), ('thanks', 0.9996532), ('definitely', 0.9996256), ('highly', 0.9996018), ('walking', 0.99953485), ('distance', 0.9992947)]\n",
            "lovely [('lovely', 0.9999999), ('apartment', 0.9998877), ('one', 0.9998797), ('athens', 0.9998678), ('well', 0.9998672), ('good', 0.9998656), ('also', 0.9998608), ('nice', 0.9998602), ('day', 0.9998598), ('best', 0.99985844), ('great', 0.9998574), ('flat', 0.99985605), ('even', 0.9998551), ('time', 0.99985456), ('could', 0.999854), ('like', 0.9998533), ('george', 0.99985135), ('place', 0.99984914), ('neighborhood', 0.9998466), ('coffee', 0.99984646), ('need', 0.99984586), ('many', 0.9998452), ('area', 0.99984473), ('really', 0.99984366), ('helpful', 0.99984264), ('street', 0.99984175), ('night', 0.9998415), ('quiet', 0.9998405), ('kitchen', 0.9998405), ('clean', 0.99983937), ('fotis', 0.9998378), ('location', 0.99983734), ('excellent', 0.99983674), ('city', 0.99983543), ('everything', 0.9998341), ('spacious', 0.999833), ('perfect', 0.99983203), ('balcony', 0.99983144), ('wonderful', 0.99983025), ('house', 0.9998288), ('comfortable', 0.9998255), ('us', 0.9998254), ('close', 0.99982446), ('stayed', 0.99982405), ('needed', 0.99982363), ('away', 0.9998226), ('host', 0.9998224), ('go', 0.9998224), ('experience', 0.99982184), ('space', 0.99982166), ('beautiful', 0.9998185), ('soula', 0.9998184), ('stay', 0.999817), ('easy', 0.99981606), ('around', 0.9998159), ('much', 0.9998139), ('room', 0.999813), ('two', 0.9998123), ('get', 0.99981195), ('5', 0.99980927), ('always', 0.9998078), ('enjoyed', 0.99980706), ('acropolis', 0.9998068), ('made', 0.99980164), ('staying', 0.99979347), ('pygmalion', 0.9997928), ('located', 0.9997906), ('safe', 0.99979043), ('amazing', 0.9997888), ('home', 0.99978817), ('visit', 0.9997868), ('back', 0.9997829), ('haris', 0.99978113), ('minutes', 0.99978054), ('metro', 0.99977374), ('felt', 0.99977237), ('first', 0.99977136), ('view', 0.9997698), ('thank', 0.9997695), ('restaurants', 0.9997676), ('rooftop', 0.9997654), ('convenient', 0.99976444), ('station', 0.9997634), ('central', 0.9997622), ('walk', 0.9997524), ('met', 0.9997457), ('would', 0.99974024), ('terrace', 0.9997349), ('friendly', 0.9997304), ('equipped', 0.9997286), ('feel', 0.99972856), ('fantastic', 0.9997213), ('soulas', 0.9997157), ('recommend', 0.99969476), ('gave', 0.9996494), ('thanks', 0.99964815), ('definitely', 0.9996115), ('highly', 0.9995916), ('walking', 0.9995091), ('distance', 0.9992786)]\n",
            "beautiful [('beautiful', 1.0), ('apartment', 0.99986404), ('nice', 0.99985754), ('best', 0.9998544), ('athens', 0.9998543), ('flat', 0.99985284), ('place', 0.999847), ('one', 0.99984545), ('helpful', 0.9998421), ('day', 0.9998377), ('area', 0.99983746), ('fotis', 0.9998362), ('coffee', 0.9998354), ('also', 0.9998335), ('time', 0.9998317), ('comfortable', 0.9998316), ('great', 0.9998304), ('well', 0.9998297), ('night', 0.9998291), ('really', 0.9998276), ('location', 0.9998274), ('space', 0.99982727), ('stayed', 0.9998268), ('host', 0.9998235), ('house', 0.9998234), ('two', 0.9998232), ('clean', 0.9998224), ('could', 0.9998205), ('even', 0.99982), ('lovely', 0.9998185), ('balcony', 0.99981725), ('good', 0.99981564), ('street', 0.99981564), ('spacious', 0.99981445), ('much', 0.9998133), ('room', 0.99981254), ('perfect', 0.9998121), ('city', 0.9998109), ('everything', 0.9998105), ('wonderful', 0.9998066), ('quiet', 0.9998065), ('neighborhood', 0.9998065), ('many', 0.99980605), ('stay', 0.9998046), ('experience', 0.99980354), ('george', 0.99980325), ('enjoyed', 0.9998026), ('kitchen', 0.99980253), ('get', 0.9998024), ('excellent', 0.9998002), ('located', 0.99979967), ('pygmalion', 0.99979734), ('us', 0.9997973), ('amazing', 0.99979633), ('view', 0.9997963), ('like', 0.99979573), ('go', 0.99979395), ('soula', 0.99979365), ('need', 0.9997912), ('acropolis', 0.99978524), ('away', 0.9997826), ('first', 0.99978054), ('always', 0.99977934), ('made', 0.9997758), ('close', 0.99977547), ('easy', 0.9997748), ('5', 0.9997616), ('metro', 0.9997608), ('around', 0.9997603), ('back', 0.9997602), ('needed', 0.9997592), ('home', 0.9997591), ('haris', 0.9997573), ('visit', 0.99975663), ('thank', 0.9997546), ('terrace', 0.9997543), ('rooftop', 0.9997537), ('equipped', 0.9997523), ('staying', 0.99975085), ('felt', 0.99974626), ('minutes', 0.99973863), ('safe', 0.9997356), ('would', 0.9997333), ('convenient', 0.9997319), ('fantastic', 0.9997306), ('restaurants', 0.99972975), ('central', 0.99972737), ('station', 0.999727), ('met', 0.9997205), ('walk', 0.9997105), ('soulas', 0.9997014), ('thanks', 0.99968165), ('friendly', 0.99968004), ('feel', 0.9996748), ('gave', 0.99967), ('recommend', 0.99965435), ('highly', 0.99959487), ('definitely', 0.99959123), ('walking', 0.99944645), ('distance', 0.9991903)]\n",
            "pygmalion [('pygmalion', 1.0000002), ('well', 0.99987376), ('us', 0.99986655), ('also', 0.9998645), ('nice', 0.9998621), ('coffee', 0.999862), ('fotis', 0.9998602), ('even', 0.9998553), ('apartment', 0.99985397), ('one', 0.99985325), ('could', 0.9998511), ('host', 0.999848), ('helpful', 0.999847), ('day', 0.9998422), ('area', 0.9998414), ('flat', 0.9998408), ('experience', 0.9998396), ('george', 0.99983674), ('best', 0.9998352), ('great', 0.99983424), ('night', 0.99983394), ('really', 0.99983305), ('city', 0.9998311), ('athens', 0.99983025), ('easy', 0.9998301), ('need', 0.9998267), ('soula', 0.99982405), ('time', 0.99982315), ('quiet', 0.9998226), ('street', 0.9998224), ('good', 0.99982184), ('get', 0.9998216), ('room', 0.99982077), ('away', 0.9998182), ('location', 0.9998173), ('stayed', 0.9998172), ('go', 0.9998166), ('balcony', 0.9998166), ('two', 0.9998165), ('house', 0.9998163), ('excellent', 0.99981624), ('5', 0.99981624), ('much', 0.9998142), ('kitchen', 0.999813), ('neighborhood', 0.99981153), ('everything', 0.99981135), ('place', 0.9998105), ('perfect', 0.99981034), ('space', 0.9998093), ('spacious', 0.99980694), ('friendly', 0.9998053), ('first', 0.99980474), ('comfortable', 0.99980444), ('like', 0.99980444), ('acropolis', 0.9998032), ('many', 0.9997979), ('around', 0.99979746), ('beautiful', 0.99979734), ('lovely', 0.9997928), ('haris', 0.9997879), ('metro', 0.9997866), ('made', 0.99978644), ('close', 0.99978626), ('station', 0.9997855), ('met', 0.9997853), ('wonderful', 0.99978423), ('view', 0.99978334), ('needed', 0.9997818), ('stay', 0.99977994), ('enjoyed', 0.9997782), ('always', 0.9997759), ('clean', 0.99977493), ('minutes', 0.9997728), ('home', 0.999772), ('located', 0.9997657), ('safe', 0.9997626), ('back', 0.99975544), ('convenient', 0.9997537), ('visit', 0.9997531), ('feel', 0.9997523), ('terrace', 0.99974644), ('restaurants', 0.9997441), ('thank', 0.9997437), ('walk', 0.9997427), ('amazing', 0.9997415), ('felt', 0.9997357), ('would', 0.9997219), ('equipped', 0.99972165), ('staying', 0.9997178), ('rooftop', 0.99971616), ('gave', 0.99971575), ('central', 0.99971247), ('fantastic', 0.99970394), ('thanks', 0.9996769), ('recommend', 0.9996669), ('soulas', 0.9996349), ('definitely', 0.9995598), ('highly', 0.99954396), ('walking', 0.99949306), ('distance', 0.99927485)]\n",
            "soula [('soula', 1.0000004), ('street', 0.99987715), ('also', 0.9998747), ('nice', 0.9998744), ('even', 0.9998735), ('apartment', 0.9998708), ('time', 0.99986976), ('great', 0.99986804), ('day', 0.9998674), ('helpful', 0.9998666), ('well', 0.99986535), ('coffee', 0.9998653), ('us', 0.9998611), ('neighborhood', 0.99985784), ('fotis', 0.9998555), ('one', 0.999855), ('get', 0.99985266), ('easy', 0.9998526), ('area', 0.9998524), ('really', 0.99985236), ('flat', 0.9998511), ('stayed', 0.9998504), ('host', 0.9998489), ('always', 0.99984694), ('need', 0.9998465), ('night', 0.9998463), ('best', 0.9998454), ('go', 0.9998437), ('perfect', 0.999843), ('everything', 0.99984294), ('kitchen', 0.99984163), ('could', 0.9998414), ('excellent', 0.9998409), ('george', 0.99984086), ('athens', 0.9998401), ('city', 0.99983937), ('like', 0.9998373), ('place', 0.99983525), ('many', 0.9998341), ('spacious', 0.9998331), ('haris', 0.99983007), ('good', 0.9998282), ('around', 0.9998269), ('pygmalion', 0.99982405), ('house', 0.9998231), ('balcony', 0.9998221), ('home', 0.9998198), ('lovely', 0.9998184), ('room', 0.99981785), ('much', 0.9998178), ('made', 0.99981767), ('location', 0.99981487), ('comfortable', 0.99981385), ('stay', 0.9998127), ('quiet', 0.99981123), ('away', 0.9998111), ('needed', 0.9998098), ('back', 0.9998092), ('experience', 0.999804), ('first', 0.99980384), ('close', 0.9998036), ('space', 0.9998029), ('two', 0.99980205), ('metro', 0.99979967), ('wonderful', 0.9997975), ('located', 0.99979585), ('enjoyed', 0.99979424), ('beautiful', 0.99979365), ('5', 0.99979204), ('clean', 0.9997859), ('minutes', 0.999785), ('amazing', 0.9997836), ('acropolis', 0.9997805), ('view', 0.99977994), ('station', 0.99977154), ('met', 0.9997712), ('safe', 0.9997642), ('visit', 0.9997616), ('terrace', 0.9997596), ('felt', 0.999758), ('friendly', 0.99975747), ('staying', 0.99975336), ('feel', 0.9997526), ('restaurants', 0.99975187), ('convenient', 0.9997505), ('walk', 0.9997459), ('rooftop', 0.99974483), ('gave', 0.99973726), ('would', 0.99973047), ('thank', 0.99972576), ('fantastic', 0.9997193), ('equipped', 0.9997183), ('central', 0.99970865), ('recommend', 0.9996862), ('soulas', 0.9996679), ('thanks', 0.9996508), ('definitely', 0.9995355), ('highly', 0.9995176), ('walking', 0.9994943), ('distance', 0.999285)]\n",
            "wonderful [('wonderful', 1.0000002), ('one', 0.9998681), ('great', 0.9998628), ('apartment', 0.99985886), ('best', 0.99985707), ('nice', 0.9998562), ('also', 0.9998532), ('really', 0.99985045), ('flat', 0.99984384), ('place', 0.9998429), ('helpful', 0.9998427), ('athens', 0.9998393), ('fotis', 0.9998391), ('well', 0.9998386), ('even', 0.999835), ('day', 0.9998314), ('street', 0.9998312), ('area', 0.9998304), ('lovely', 0.99983025), ('night', 0.99982935), ('location', 0.9998274), ('time', 0.99982625), ('go', 0.9998245), ('good', 0.9998199), ('neighborhood', 0.9998199), ('host', 0.9998194), ('coffee', 0.9998186), ('quiet', 0.9998183), ('could', 0.9998183), ('two', 0.99981827), ('space', 0.9998157), ('like', 0.99981564), ('many', 0.9998151), ('experience', 0.9998148), ('kitchen', 0.99981475), ('george', 0.9998146), ('perfect', 0.99981374), ('need', 0.9998123), ('balcony', 0.9998105), ('much', 0.99981046), ('us', 0.9998103), ('city', 0.99980813), ('beautiful', 0.9998066), ('stayed', 0.99980634), ('around', 0.9998063), ('away', 0.9998057), ('spacious', 0.9998051), ('comfortable', 0.99980426), ('get', 0.9998039), ('stay', 0.9998037), ('excellent', 0.9998036), ('close', 0.99980175), ('5', 0.9998017), ('easy', 0.9998009), ('room', 0.99979967), ('soula', 0.9997975), ('acropolis', 0.9997967), ('clean', 0.9997937), ('visit', 0.9997901), ('everything', 0.9997887), ('pygmalion', 0.99978423), ('enjoyed', 0.99978256), ('back', 0.99978024), ('safe', 0.99977916), ('needed', 0.99977875), ('always', 0.99977833), ('made', 0.99977505), ('house', 0.99977475), ('minutes', 0.999772), ('view', 0.9997716), ('located', 0.99976903), ('home', 0.9997654), ('metro', 0.99976164), ('haris', 0.9997615), ('first', 0.99976027), ('restaurants', 0.99975944), ('rooftop', 0.9997584), ('thank', 0.99975693), ('convenient', 0.99975216), ('fantastic', 0.9997394), ('amazing', 0.9997388), ('felt', 0.9997381), ('feel', 0.999736), ('station', 0.9997331), ('would', 0.99972993), ('staying', 0.9997288), ('walk', 0.9997273), ('met', 0.99972713), ('terrace', 0.99972284), ('equipped', 0.9997034), ('friendly', 0.9997019), ('central', 0.9996989), ('soulas', 0.99969), ('recommend', 0.9996652), ('gave', 0.9996531), ('thanks', 0.99962157), ('definitely', 0.9995892), ('highly', 0.99958855), ('walking', 0.9995038), ('distance', 0.999225)]\n",
            "best [('best', 0.9999996), ('apartment', 0.99990726), ('one', 0.9999067), ('also', 0.9999062), ('day', 0.99990493), ('night', 0.99990416), ('good', 0.9998993), ('flat', 0.9998966), ('helpful', 0.9998946), ('athens', 0.99989265), ('time', 0.99989146), ('coffee', 0.99989146), ('even', 0.9998906), ('city', 0.99988973), ('place', 0.9998887), ('nice', 0.9998886), ('street', 0.9998886), ('us', 0.9998874), ('great', 0.9998861), ('area', 0.9998825), ('fotis', 0.99987763), ('go', 0.9998756), ('away', 0.9998748), ('get', 0.9998741), ('many', 0.99987364), ('balcony', 0.9998725), ('george', 0.9998685), ('really', 0.9998681), ('much', 0.99986756), ('could', 0.9998665), ('host', 0.99986637), ('neighborhood', 0.9998661), ('house', 0.999866), ('around', 0.9998643), ('perfect', 0.99986356), ('like', 0.99986315), ('two', 0.99986297), ('experience', 0.99986184), ('stayed', 0.9998613), ('5', 0.9998592), ('location', 0.999859), ('lovely', 0.99985844), ('excellent', 0.9998583), ('kitchen', 0.99985814), ('well', 0.999858), ('wonderful', 0.99985707), ('easy', 0.9998569), ('first', 0.9998567), ('acropolis', 0.99985564), ('beautiful', 0.9998544), ('enjoyed', 0.9998524), ('room', 0.9998498), ('quiet', 0.9998488), ('space', 0.9998469), ('need', 0.9998459), ('close', 0.9998456), ('soula', 0.9998454), ('made', 0.999845), ('minutes', 0.9998435), ('back', 0.999842), ('located', 0.99984187), ('needed', 0.99984014), ('spacious', 0.99983746), ('stay', 0.9998363), ('visit', 0.9998353), ('pygmalion', 0.9998352), ('comfortable', 0.99983406), ('everything', 0.99983346), ('station', 0.9998319), ('always', 0.9998296), ('safe', 0.9998283), ('home', 0.999824), ('clean', 0.99982375), ('restaurants', 0.99982345), ('view', 0.9998219), ('metro', 0.99982035), ('rooftop', 0.99981517), ('amazing', 0.99981356), ('haris', 0.9998093), ('walk', 0.99980867), ('met', 0.9998067), ('thank', 0.99979734), ('felt', 0.9997939), ('would', 0.99979), ('terrace', 0.9997886), ('staying', 0.99978614), ('convenient', 0.9997808), ('fantastic', 0.9997786), ('equipped', 0.9997592), ('friendly', 0.999753), ('central', 0.99974626), ('feel', 0.9997402), ('gave', 0.9997287), ('thanks', 0.9997169), ('soulas', 0.9997089), ('recommend', 0.9997045), ('definitely', 0.99965054), ('highly', 0.99960417), ('walking', 0.9995751), ('distance', 0.9992896)]\n",
            "day [('day', 0.99999994), ('also', 0.99992174), ('apartment', 0.99991363), ('one', 0.99991316), ('area', 0.9999109), ('coffee', 0.9999086), ('night', 0.99990726), ('time', 0.99990696), ('best', 0.99990493), ('even', 0.99990314), ('good', 0.99990237), ('nice', 0.99990124), ('street', 0.99989986), ('flat', 0.9998995), ('balcony', 0.99989766), ('get', 0.9998962), ('athens', 0.99989605), ('kitchen', 0.9998911), ('well', 0.99989057), ('really', 0.999888), ('away', 0.9998879), ('us', 0.9998877), ('easy', 0.99988765), ('helpful', 0.99988514), ('fotis', 0.99988407), ('great', 0.99988234), ('george', 0.99987966), ('stayed', 0.99987876), ('city', 0.9998784), ('much', 0.9998764), ('could', 0.9998764), ('perfect', 0.99987626), ('neighborhood', 0.9998762), ('go', 0.99987614), ('place', 0.99987584), ('like', 0.9998747), ('house', 0.9998731), ('location', 0.9998699), ('host', 0.99986774), ('soula', 0.9998674), ('comfortable', 0.99986714), ('many', 0.9998666), ('quiet', 0.9998655), ('around', 0.9998643), ('experience', 0.9998625), ('excellent', 0.9998623), ('everything', 0.9998622), ('room', 0.99986064), ('needed', 0.99986005), ('lovely', 0.9998598), ('need', 0.9998587), ('always', 0.9998583), ('space', 0.99985707), ('made', 0.9998567), ('two', 0.9998565), ('close', 0.9998556), ('stay', 0.99985385), ('clean', 0.99985105), ('acropolis', 0.99985075), ('back', 0.9998486), ('first', 0.99984837), ('home', 0.99984777), ('metro', 0.99984574), ('enjoyed', 0.99984413), ('5', 0.9998427), ('pygmalion', 0.9998422), ('spacious', 0.99984086), ('beautiful', 0.9998377), ('haris', 0.9998375), ('located', 0.9998341), ('wonderful', 0.9998314), ('minutes', 0.99982923), ('visit', 0.9998255), ('restaurants', 0.9998203), ('view', 0.99981964), ('amazing', 0.9998173), ('station', 0.9998159), ('safe', 0.9998141), ('staying', 0.99981207), ('met', 0.99981076), ('felt', 0.9997978), ('convenient', 0.9997965), ('terrace', 0.9997947), ('feel', 0.9997915), ('walk', 0.9997897), ('friendly', 0.999789), ('rooftop', 0.9997883), ('thank', 0.99978304), ('would', 0.99977344), ('central', 0.9997733), ('equipped', 0.9997668), ('fantastic', 0.9997459), ('thanks', 0.99973893), ('gave', 0.9997339), ('soulas', 0.999719), ('recommend', 0.9997005), ('definitely', 0.9996258), ('highly', 0.9996044), ('walking', 0.9995663), ('distance', 0.9993401)]\n",
            "minutes [('minutes', 0.99999994), ('away', 0.9998825), ('acropolis', 0.99986356), ('metro', 0.9998602), ('5', 0.9998581), ('walk', 0.99985766), ('city', 0.99985504), ('also', 0.9998504), ('good', 0.9998501), ('station', 0.9998493), ('street', 0.9998473), ('best', 0.9998435), ('neighborhood', 0.99984074), ('even', 0.9998377), ('close', 0.99983704), ('day', 0.99982923), ('coffee', 0.99982846), ('area', 0.9998282), ('night', 0.99982715), ('nice', 0.9998247), ('apartment', 0.99982405), ('restaurants', 0.9998232), ('many', 0.99982077), ('easy', 0.99982053), ('one', 0.9998192), ('balcony', 0.9998189), ('around', 0.9998185), ('could', 0.99981725), ('flat', 0.99981654), ('get', 0.9998143), ('fotis', 0.9998138), ('house', 0.9998136), ('great', 0.99981314), ('athens', 0.9998126), ('go', 0.9998093), ('well', 0.9998064), ('really', 0.9998064), ('george', 0.999805), ('located', 0.99980235), ('excellent', 0.99980205), ('quiet', 0.99980086), ('enjoyed', 0.99979955), ('us', 0.9997961), ('time', 0.9997959), ('helpful', 0.9997957), ('two', 0.9997935), ('convenient', 0.9997932), ('kitchen', 0.99978983), ('location', 0.9997876), ('much', 0.9997854), ('soula', 0.999785), ('place', 0.9997837), ('stayed', 0.9997821), ('perfect', 0.9997819), ('lovely', 0.99978054), ('host', 0.9997802), ('space', 0.9997785), ('view', 0.9997768), ('pygmalion', 0.9997728), ('wonderful', 0.999772), ('need', 0.9997713), ('room', 0.9997641), ('everything', 0.9997639), ('needed', 0.99975973), ('always', 0.9997586), ('experience', 0.99975824), ('like', 0.9997581), ('safe', 0.9997577), ('home', 0.99975383), ('back', 0.99975175), ('made', 0.99974805), ('clean', 0.9997477), ('stay', 0.9997471), ('first', 0.9997471), ('visit', 0.9997467), ('spacious', 0.9997401), ('beautiful', 0.99973863), ('amazing', 0.99973756), ('comfortable', 0.99973506), ('terrace', 0.99973273), ('met', 0.99972904), ('haris', 0.9997272), ('rooftop', 0.9997267), ('central', 0.99972284), ('felt', 0.9997201), ('fantastic', 0.99970675), ('staying', 0.9996803), ('thank', 0.999678), ('equipped', 0.9996753), ('would', 0.99966663), ('friendly', 0.9996647), ('feel', 0.99964726), ('walking', 0.9996457), ('gave', 0.9996374), ('soulas', 0.99960816), ('recommend', 0.99960524), ('thanks', 0.99957013), ('definitely', 0.99952674), ('highly', 0.9995244), ('distance', 0.999433)]\n",
            "back [('back', 1.0), ('coffee', 0.99985206), ('athens', 0.9998494), ('day', 0.9998486), ('time', 0.99984854), ('best', 0.999842), ('street', 0.9998412), ('night', 0.9998405), ('place', 0.99983925), ('city', 0.9998383), ('go', 0.99983686), ('easy', 0.9998363), ('nice', 0.9998354), ('really', 0.9998327), ('even', 0.99983263), ('one', 0.99983096), ('also', 0.9998285), ('us', 0.9998284), ('george', 0.99982715), ('apartment', 0.99982697), ('helpful', 0.9998259), ('great', 0.9998253), ('get', 0.9998251), ('good', 0.99982464), ('stay', 0.9998216), ('stayed', 0.99981874), ('flat', 0.9998166), ('could', 0.9998165), ('area', 0.9998147), ('fotis', 0.9998143), ('perfect', 0.9998126), ('needed', 0.99981165), ('house', 0.9998103), ('like', 0.99981016), ('neighborhood', 0.9998101), ('soula', 0.9998092), ('much', 0.99980795), ('kitchen', 0.99980724), ('first', 0.99980724), ('excellent', 0.99980617), ('everything', 0.99980515), ('comfortable', 0.99980444), ('need', 0.99980426), ('clean', 0.9998014), ('would', 0.99979794), ('home', 0.99979633), ('made', 0.9997961), ('spacious', 0.9997949), ('well', 0.9997942), ('visit', 0.99979407), ('away', 0.999794), ('around', 0.99979305), ('two', 0.99979055), ('host', 0.9997896), ('balcony', 0.99978703), ('experience', 0.9997857), ('haris', 0.9997844), ('many', 0.9997843), ('quiet', 0.9997837), ('lovely', 0.9997829), ('wonderful', 0.99978024), ('enjoyed', 0.99977934), ('always', 0.99977905), ('close', 0.9997735), ('located', 0.999773), ('5', 0.9997711), ('space', 0.9997687), ('acropolis', 0.9997679), ('room', 0.99976736), ('beautiful', 0.9997602), ('location', 0.9997568), ('pygmalion', 0.99975544), ('amazing', 0.9997537), ('minutes', 0.99975175), ('staying', 0.999749), ('station', 0.9997477), ('thank', 0.9997461), ('restaurants', 0.9997444), ('friendly', 0.99973214), ('met', 0.99973047), ('metro', 0.9997293), ('convenient', 0.9997282), ('view', 0.9997234), ('safe', 0.999716), ('fantastic', 0.9997135), ('felt', 0.9997068), ('rooftop', 0.9997007), ('terrace', 0.99969983), ('walk', 0.9996993), ('feel', 0.9996982), ('thanks', 0.9996852), ('gave', 0.999678), ('recommend', 0.9996776), ('equipped', 0.999675), ('soulas', 0.99967396), ('central', 0.99967206), ('definitely', 0.99963063), ('highly', 0.99956745), ('walking', 0.99948144), ('distance', 0.9992178)]\n",
            "like [('like', 1.0000001), ('one', 0.9998954), ('also', 0.9998805), ('fotis', 0.9998781), ('day', 0.9998747), ('us', 0.99987435), ('home', 0.9998729), ('night', 0.9998723), ('apartment', 0.99987024), ('even', 0.9998687), ('athens', 0.9998685), ('nice', 0.9998649), ('best', 0.99986315), ('well', 0.99986273), ('place', 0.9998609), ('flat', 0.99985975), ('really', 0.99985963), ('great', 0.99985945), ('helpful', 0.9998589), ('away', 0.9998569), ('street', 0.99985576), ('time', 0.999855), ('coffee', 0.999855), ('made', 0.9998547), ('lovely', 0.9998533), ('get', 0.9998509), ('perfect', 0.99984986), ('host', 0.9998497), ('kitchen', 0.9998489), ('area', 0.99984825), ('house', 0.99984777), ('balcony', 0.99984604), ('could', 0.99984574), ('george', 0.99984515), ('easy', 0.99984175), ('go', 0.99984175), ('city', 0.9998402), ('good', 0.9998397), ('everything', 0.99983895), ('soula', 0.9998373), ('neighborhood', 0.99983454), ('clean', 0.99983096), ('stayed', 0.9998305), ('need', 0.9998297), ('much', 0.999828), ('needed', 0.999827), ('many', 0.999826), ('first', 0.9998231), ('comfortable', 0.999823), ('quiet', 0.99982285), ('experience', 0.999821), ('two', 0.999821), ('always', 0.99982023), ('location', 0.99981993), ('around', 0.99981964), ('room', 0.9998189), ('excellent', 0.9998188), ('wonderful', 0.99981564), ('spacious', 0.99981457), ('space', 0.99981433), ('felt', 0.9998108), ('back', 0.99981016), ('haris', 0.99980724), ('pygmalion', 0.99980444), ('5', 0.9998013), ('stay', 0.9998005), ('visit', 0.9997996), ('close', 0.99979925), ('beautiful', 0.99979573), ('safe', 0.99979484), ('enjoyed', 0.99979365), ('met', 0.99979365), ('staying', 0.99979055), ('located', 0.9997788), ('friendly', 0.99977815), ('acropolis', 0.9997779), ('feel', 0.99977386), ('thank', 0.9997658), ('metro', 0.99976295), ('station', 0.99976295), ('minutes', 0.9997581), ('restaurants', 0.9997561), ('view', 0.999749), ('equipped', 0.99973947), ('fantastic', 0.9997386), ('rooftop', 0.99973303), ('amazing', 0.9997293), ('walk', 0.9997279), ('central', 0.999727), ('would', 0.9997253), ('convenient', 0.9997235), ('terrace', 0.9997223), ('soulas', 0.99971515), ('gave', 0.9997091), ('thanks', 0.9996767), ('recommend', 0.99964786), ('highly', 0.99959624), ('definitely', 0.99956256), ('walking', 0.9995044), ('distance', 0.99928594)]\n",
            "neighborhood [('neighborhood', 0.99999976), ('area', 0.9999041), ('also', 0.9999035), ('street', 0.9999031), ('good', 0.9998958), ('coffee', 0.99989194), ('close', 0.999891), ('many', 0.99989057), ('apartment', 0.99988705), ('even', 0.9998834), ('fotis', 0.9998787), ('nice', 0.999878), ('athens', 0.9998771), ('day', 0.9998762), ('well', 0.9998739), ('night', 0.99987143), ('go', 0.9998709), ('easy', 0.9998704), ('flat', 0.99986863), ('one', 0.99986863), ('city', 0.99986744), ('away', 0.999867), ('best', 0.9998661), ('could', 0.9998661), ('time', 0.99986476), ('great', 0.9998646), ('get', 0.9998617), ('balcony', 0.9998591), ('much', 0.99985874), ('around', 0.99985796), ('quiet', 0.99985784), ('soula', 0.99985784), ('metro', 0.9998577), ('stayed', 0.99985653), ('really', 0.999855), ('location', 0.9998532), ('us', 0.99985236), ('house', 0.99985224), ('restaurants', 0.999849), ('helpful', 0.99984723), ('kitchen', 0.99984676), ('lovely', 0.9998466), ('everything', 0.9998455), ('space', 0.9998453), ('perfect', 0.99984527), ('acropolis', 0.9998452), ('clean', 0.99984497), ('george', 0.9998413), ('minutes', 0.99984074), ('5', 0.99983954), ('station', 0.99983823), ('enjoyed', 0.9998356), ('room', 0.99983555), ('like', 0.99983454), ('place', 0.99983394), ('excellent', 0.99983186), ('two', 0.99983156), ('need', 0.9998315), ('host', 0.99982876), ('located', 0.99982744), ('spacious', 0.9998273), ('walk', 0.9998249), ('made', 0.999824), ('comfortable', 0.99982053), ('wonderful', 0.9998199), ('experience', 0.99981964), ('needed', 0.9998158), ('home', 0.9998137), ('safe', 0.99981344), ('convenient', 0.99981284), ('stay', 0.9998127), ('pygmalion', 0.99981153), ('back', 0.9998101), ('always', 0.9998076), ('beautiful', 0.9998065), ('haris', 0.9998019), ('amazing', 0.9997938), ('visit', 0.9997892), ('terrace', 0.99978745), ('first', 0.9997802), ('felt', 0.9997801), ('view', 0.99977875), ('central', 0.9997778), ('equipped', 0.9997678), ('rooftop', 0.9997662), ('met', 0.99975854), ('friendly', 0.99974895), ('feel', 0.99973994), ('would', 0.9997371), ('staying', 0.9997344), ('fantastic', 0.9997286), ('thank', 0.9997226), ('thanks', 0.9996836), ('gave', 0.99968135), ('soulas', 0.99967355), ('recommend', 0.9996459), ('walking', 0.99963194), ('definitely', 0.9995503), ('highly', 0.99954385), ('distance', 0.9993986)]\n",
            "soulas [('soulas', 1.0000002), ('place', 0.99975693), ('athens', 0.9997557), ('staying', 0.99973696), ('apartment', 0.99973565), ('great', 0.99973285), ('comfortable', 0.9997276), ('flat', 0.9997258), ('stay', 0.9997251), ('nice', 0.99972415), ('really', 0.9997237), ('night', 0.99972063), ('time', 0.9997193), ('day', 0.999719), ('everything', 0.99971837), ('perfect', 0.9997182), ('lovely', 0.9997157), ('like', 0.99971515), ('one', 0.99971294), ('well', 0.99971086), ('best', 0.9997089), ('coffee', 0.9997053), ('much', 0.99970484), ('even', 0.9997022), ('beautiful', 0.9997014), ('host', 0.99969864), ('good', 0.99969774), ('two', 0.9996927), ('street', 0.9996923), ('located', 0.99969107), ('area', 0.9996905), ('wonderful', 0.99969), ('us', 0.99968797), ('fotis', 0.9996878), ('george', 0.9996868), ('clean', 0.99968594), ('needed', 0.9996847), ('spacious', 0.9996844), ('home', 0.999684), ('experience', 0.9996826), ('helpful', 0.9996822), ('stayed', 0.99968153), ('kitchen', 0.99968123), ('space', 0.99967915), ('go', 0.9996789), ('need', 0.999677), ('also', 0.9996767), ('could', 0.9996764), ('first', 0.99967575), ('would', 0.9996742), ('back', 0.99967396), ('neighborhood', 0.99967355), ('haris', 0.9996725), ('visit', 0.999671), ('location', 0.99967074), ('get', 0.99966824), ('soula', 0.9996679), ('balcony', 0.9996677), ('excellent', 0.99966717), ('house', 0.9996671), ('enjoyed', 0.9996644), ('made', 0.99965775), ('away', 0.99965286), ('felt', 0.999652), ('amazing', 0.9996515), ('easy', 0.99965084), ('close', 0.9996504), ('many', 0.99964637), ('view', 0.9996462), ('city', 0.99963576), ('thank', 0.99963564), ('quiet', 0.9996352), ('pygmalion', 0.9996349), ('safe', 0.9996341), ('5', 0.99963295), ('recommend', 0.9996308), ('always', 0.9996286), ('acropolis', 0.99962634), ('room', 0.9996217), ('metro', 0.99961793), ('around', 0.99961275), ('terrace', 0.9996127), ('met', 0.9996095), ('minutes', 0.99960816), ('restaurants', 0.9995917), ('convenient', 0.99959123), ('equipped', 0.9995866), ('fantastic', 0.99958354), ('walk', 0.9995814), ('friendly', 0.9995682), ('station', 0.99955547), ('rooftop', 0.99955535), ('feel', 0.9995551), ('thanks', 0.9995418), ('central', 0.999527), ('definitely', 0.9995084), ('gave', 0.99949896), ('highly', 0.9994965), ('walking', 0.99931014), ('distance', 0.99896556)]\n",
            "stayed [('stayed', 1.0000001), ('one', 0.999888), ('apartment', 0.99988335), ('day', 0.99987876), ('coffee', 0.9998735), ('street', 0.9998732), ('nice', 0.9998698), ('also', 0.99986935), ('us', 0.99986905), ('helpful', 0.9998672), ('time', 0.9998656), ('well', 0.9998625), ('best', 0.9998613), ('much', 0.9998606), ('area', 0.9998587), ('george', 0.99985796), ('could', 0.99985766), ('quiet', 0.9998576), ('get', 0.9998572), ('neighborhood', 0.99985653), ('fotis', 0.9998561), ('excellent', 0.99985516), ('perfect', 0.99985504), ('really', 0.999855), ('night', 0.9998548), ('everything', 0.999853), ('good', 0.999853), ('place', 0.99985254), ('flat', 0.99985164), ('even', 0.9998504), ('soula', 0.9998504), ('need', 0.9998492), ('great', 0.99984705), ('city', 0.99984705), ('athens', 0.9998439), ('room', 0.9998433), ('balcony', 0.9998419), ('go', 0.9998418), ('kitchen', 0.99984074), ('comfortable', 0.99983996), ('host', 0.99983823), ('always', 0.99983287), ('experience', 0.99983174), ('enjoyed', 0.9998313), ('like', 0.9998305), ('clean', 0.99983), ('many', 0.99983), ('made', 0.99982864), ('house', 0.999828), ('easy', 0.99982697), ('beautiful', 0.9998268), ('stay', 0.999826), ('two', 0.9998249), ('lovely', 0.99982405), ('first', 0.99982226), ('space', 0.9998218), ('haris', 0.99982035), ('away', 0.9998203), ('back', 0.99981874), ('around', 0.999818), ('needed', 0.9998175), ('pygmalion', 0.9998172), ('location', 0.99981546), ('close', 0.999813), ('spacious', 0.999808), ('wonderful', 0.99980634), ('5', 0.9998028), ('located', 0.99980235), ('visit', 0.99980074), ('home', 0.99979895), ('thank', 0.9997891), ('acropolis', 0.9997889), ('met', 0.99978584), ('view', 0.9997851), ('amazing', 0.99978375), ('safe', 0.99978375), ('friendly', 0.99978256), ('minutes', 0.9997821), ('would', 0.99977964), ('metro', 0.9997791), ('station', 0.9997736), ('felt', 0.99977195), ('restaurants', 0.999768), ('rooftop', 0.99975884), ('equipped', 0.99975795), ('terrace', 0.9997571), ('convenient', 0.99975204), ('walk', 0.9997416), ('thanks', 0.9997303), ('staying', 0.9997277), ('feel', 0.9997274), ('central', 0.9997141), ('fantastic', 0.9997018), ('gave', 0.9997016), ('recommend', 0.99968666), ('soulas', 0.99968153), ('definitely', 0.9996229), ('highly', 0.99960726), ('walking', 0.9995092), ('distance', 0.9992098)]\n",
            "night [('night', 1.0000004), ('one', 0.99991345), ('day', 0.99990726), ('also', 0.9999067), ('even', 0.9999057), ('best', 0.99990416), ('coffee', 0.9999008), ('street', 0.9998992), ('apartment', 0.999899), ('flat', 0.9998944), ('go', 0.9998932), ('time', 0.999893), ('nice', 0.9998902), ('away', 0.9998887), ('area', 0.99988425), ('balcony', 0.999882), ('us', 0.99988145), ('athens', 0.9998809), ('get', 0.9998804), ('kitchen', 0.999879), ('good', 0.99987894), ('could', 0.9998782), ('easy', 0.999878), ('fotis', 0.9998778), ('place', 0.9998773), ('well', 0.99987274), ('like', 0.9998723), ('neighborhood', 0.99987143), ('many', 0.999871), ('first', 0.9998685), ('great', 0.99986756), ('city', 0.99986655), ('george', 0.9998641), ('perfect', 0.9998626), ('helpful', 0.99986184), ('5', 0.9998608), ('quiet', 0.9998576), ('two', 0.99985737), ('really', 0.999857), ('space', 0.99985594), ('stayed', 0.9998548), ('around', 0.9998531), ('experience', 0.9998531), ('house', 0.99985224), ('much', 0.9998515), ('room', 0.99985), ('excellent', 0.99984944), ('home', 0.999848), ('location', 0.99984676), ('close', 0.99984646), ('soula', 0.9998463), ('host', 0.9998442), ('acropolis', 0.9998442), ('visit', 0.99984264), ('lovely', 0.9998415), ('back', 0.9998405), ('need', 0.9998395), ('clean', 0.9998387), ('needed', 0.9998385), ('everything', 0.99983686), ('haris', 0.9998357), ('pygmalion', 0.99983394), ('spacious', 0.9998304), ('wonderful', 0.99982935), ('beautiful', 0.9998291), ('stay', 0.99982846), ('made', 0.9998275), ('minutes', 0.99982715), ('enjoyed', 0.99982405), ('restaurants', 0.9998205), ('metro', 0.9998202), ('station', 0.9998201), ('comfortable', 0.99981815), ('always', 0.9998179), ('located', 0.9998155), ('view', 0.99980974), ('safe', 0.9998038), ('walk', 0.9997998), ('met', 0.9997986), ('rooftop', 0.9997953), ('amazing', 0.9997893), ('terrace', 0.9997886), ('staying', 0.99978495), ('felt', 0.9997734), ('convenient', 0.99977326), ('friendly', 0.99976397), ('equipped', 0.9997627), ('thank', 0.99976206), ('would', 0.9997579), ('feel', 0.9997482), ('fantastic', 0.9997348), ('gave', 0.99972963), ('central', 0.99972606), ('soulas', 0.99972063), ('thanks', 0.99970955), ('recommend', 0.9996601), ('highly', 0.9995929), ('definitely', 0.99958634), ('walking', 0.99955463), ('distance', 0.9993008)]\n",
            "station [('station', 1.0000001), ('metro', 0.9998599), ('away', 0.9998547), ('also', 0.999853), ('5', 0.99985063), ('city', 0.99985003), ('minutes', 0.9998493), ('acropolis', 0.99984515), ('area', 0.9998441), ('even', 0.99984175), ('close', 0.99983996), ('neighborhood', 0.99983823), ('walk', 0.99983364), ('best', 0.9998319), ('street', 0.9998317), ('good', 0.99982965), ('easy', 0.9998216), ('get', 0.9998204), ('night', 0.9998201), ('coffee', 0.9998199), ('one', 0.9998192), ('many', 0.9998188), ('fotis', 0.9998186), ('could', 0.9998175), ('day', 0.9998159), ('located', 0.9998145), ('apartment', 0.99980974), ('nice', 0.9998084), ('balcony', 0.999805), ('around', 0.9998045), ('house', 0.9998041), ('well', 0.99980223), ('flat', 0.999801), ('time', 0.9997982), ('quiet', 0.9997962), ('perfect', 0.99979526), ('us', 0.99979395), ('restaurants', 0.99979126), ('excellent', 0.99978995), ('location', 0.99978954), ('go', 0.999788), ('great', 0.99978775), ('helpful', 0.99978733), ('pygmalion', 0.9997855), ('athens', 0.99978447), ('space', 0.9997836), ('george', 0.99978244), ('convenient', 0.99978244), ('two', 0.99977726), ('kitchen', 0.999776), ('room', 0.99977535), ('stayed', 0.9997736), ('really', 0.9997734), ('much', 0.9997733), ('soula', 0.99977154), ('place', 0.9997703), ('enjoyed', 0.9997685), ('need', 0.9997663), ('everything', 0.9997658), ('lovely', 0.9997634), ('like', 0.99976295), ('always', 0.99976236), ('host', 0.99975854), ('spacious', 0.99975574), ('needed', 0.99975544), ('clean', 0.99975497), ('made', 0.9997535), ('back', 0.9997477), ('amazing', 0.99974185), ('safe', 0.9997371), ('central', 0.9997362), ('experience', 0.99973553), ('wonderful', 0.9997331), ('stay', 0.9997309), ('view', 0.9997296), ('terrace', 0.9997282), ('beautiful', 0.999727), ('haris', 0.9997247), ('first', 0.99972457), ('visit', 0.9997232), ('comfortable', 0.9997201), ('home', 0.9997138), ('met', 0.99970305), ('friendly', 0.999702), ('rooftop', 0.9997), ('felt', 0.9996854), ('feel', 0.9996724), ('thank', 0.999655), ('would', 0.9996528), ('equipped', 0.9996513), ('fantastic', 0.99964607), ('gave', 0.99963254), ('staying', 0.999632), ('walking', 0.9996034), ('thanks', 0.9996024), ('recommend', 0.9995611), ('soulas', 0.99955547), ('highly', 0.9994962), ('definitely', 0.9994627), ('distance', 0.99942285)]\n",
            "experience [('experience', 1.0), ('one', 0.99987847), ('fotis', 0.99986625), ('apartment', 0.99986446), ('day', 0.9998625), ('best', 0.99986184), ('also', 0.9998603), ('athens', 0.99985623), ('coffee', 0.99985445), ('area', 0.9998542), ('night', 0.9998531), ('flat', 0.9998516), ('could', 0.9998516), ('nice', 0.9998508), ('place', 0.9998505), ('balcony', 0.9998473), ('even', 0.9998471), ('really', 0.99984294), ('george', 0.999842), ('great', 0.99984056), ('time', 0.99984014), ('host', 0.9998397), ('get', 0.9998396), ('pygmalion', 0.9998396), ('us', 0.99983925), ('good', 0.9998392), ('go', 0.9998388), ('location', 0.9998383), ('much', 0.9998371), ('helpful', 0.99983674), ('street', 0.9998363), ('city', 0.99983317), ('well', 0.9998321), ('stayed', 0.99983174), ('need', 0.9998281), ('perfect', 0.9998261), ('house', 0.99982536), ('stay', 0.99982506), ('lovely', 0.99982184), ('like', 0.999821), ('two', 0.9998208), ('space', 0.9998197), ('neighborhood', 0.99981964), ('easy', 0.9998192), ('many', 0.99981815), ('quiet', 0.99981624), ('kitchen', 0.99981624), ('wonderful', 0.9998148), ('everything', 0.9998131), ('comfortable', 0.9998131), ('first', 0.999812), ('needed', 0.9998098), ('made', 0.9998088), ('away', 0.9998078), ('around', 0.9998068), ('excellent', 0.99980587), ('soula', 0.999804), ('beautiful', 0.99980354), ('room', 0.99980134), ('enjoyed', 0.9997998), ('5', 0.99979377), ('visit', 0.9997932), ('clean', 0.99979293), ('safe', 0.99979264), ('spacious', 0.99978924), ('back', 0.9997857), ('close', 0.9997854), ('restaurants', 0.99978536), ('haris', 0.9997833), ('acropolis', 0.9997817), ('staying', 0.9997775), ('view', 0.9997758), ('felt', 0.99977446), ('metro', 0.9997742), ('home', 0.9997732), ('would', 0.99977016), ('thank', 0.99976784), ('always', 0.999766), ('met', 0.9997623), ('minutes', 0.99975824), ('feel', 0.99975485), ('located', 0.9997513), ('friendly', 0.99974835), ('walk', 0.9997467), ('convenient', 0.99974126), ('rooftop', 0.999741), ('station', 0.99973553), ('central', 0.9997263), ('terrace', 0.99972445), ('amazing', 0.99971884), ('recommend', 0.99971753), ('gave', 0.9997011), ('soulas', 0.9996826), ('fantastic', 0.99968207), ('thanks', 0.9996771), ('equipped', 0.99967515), ('definitely', 0.99960625), ('highly', 0.9995705), ('walking', 0.99950546), ('distance', 0.9992443)]\n",
            "made [('made', 1.0000001), ('helpful', 0.9998732), ('also', 0.9998706), ('us', 0.9998621), ('day', 0.9998567), ('even', 0.9998561), ('like', 0.9998547), ('apartment', 0.9998529), ('get', 0.9998499), ('coffee', 0.99984807), ('host', 0.9998471), ('best', 0.999845), ('house', 0.999845), ('great', 0.9998421), ('one', 0.9998415), ('everything', 0.9998406), ('home', 0.99983954), ('athens', 0.9998392), ('time', 0.9998373), ('fotis', 0.9998366), ('nice', 0.99983627), ('place', 0.99983186), ('street', 0.99983186), ('well', 0.99983096), ('good', 0.9998308), ('area', 0.9998302), ('stayed', 0.99982864), ('go', 0.9998283), ('night', 0.9998275), ('perfect', 0.99982685), ('city', 0.99982667), ('flat', 0.9998261), ('needed', 0.9998259), ('kitchen', 0.9998246), ('neighborhood', 0.999824), ('george', 0.999824), ('could', 0.9998185), ('really', 0.9998177), ('first', 0.9998177), ('soula', 0.99981767), ('much', 0.9998162), ('easy', 0.99981457), ('around', 0.9998145), ('away', 0.999813), ('many', 0.9998098), ('experience', 0.9998088), ('quiet', 0.99980754), ('need', 0.99980605), ('room', 0.9998058), ('haris', 0.9998027), ('lovely', 0.99980164), ('close', 0.9998011), ('location', 0.9997998), ('back', 0.9997961), ('excellent', 0.99979603), ('always', 0.999793), ('balcony', 0.9997929), ('5', 0.9997929), ('comfortable', 0.9997926), ('two', 0.999792), ('enjoyed', 0.99978876), ('pygmalion', 0.99978644), ('clean', 0.9997787), ('stay', 0.9997768), ('beautiful', 0.9997758), ('met', 0.9997751), ('wonderful', 0.99977505), ('felt', 0.999772), ('space', 0.999771), ('feel', 0.9997705), ('view', 0.9997691), ('metro', 0.9997636), ('visit', 0.9997592), ('acropolis', 0.9997586), ('rooftop', 0.9997575), ('station', 0.9997535), ('spacious', 0.9997525), ('friendly', 0.9997521), ('gave', 0.9997515), ('staying', 0.9997492), ('minutes', 0.99974805), ('safe', 0.9997435), ('thank', 0.9997383), ('located', 0.99973744), ('thanks', 0.9997304), ('walk', 0.9997283), ('would', 0.99972826), ('restaurants', 0.9997249), ('amazing', 0.99971956), ('terrace', 0.99970186), ('convenient', 0.99969935), ('fantastic', 0.99968916), ('equipped', 0.9996858), ('central', 0.9996686), ('soulas', 0.99965775), ('recommend', 0.99964833), ('definitely', 0.9995972), ('highly', 0.999554), ('walking', 0.9995218), ('distance', 0.9991853)]\n",
            "go [('go', 0.99999994), ('night', 0.9998932), ('street', 0.9998875), ('also', 0.9998826), ('get', 0.9998807), ('even', 0.99988055), ('coffee', 0.9998772), ('day', 0.99987614), ('time', 0.9998759), ('best', 0.9998756), ('area', 0.9998742), ('one', 0.9998719), ('athens', 0.9998714), ('neighborhood', 0.9998709), ('us', 0.9998691), ('apartment', 0.99986833), ('nice', 0.99986565), ('good', 0.99986535), ('well', 0.9998646), ('easy', 0.9998622), ('city', 0.999862), ('helpful', 0.99986154), ('around', 0.99985915), ('george', 0.99985844), ('flat', 0.9998571), ('place', 0.9998567), ('fotis', 0.99985594), ('really', 0.9998518), ('could', 0.99985117), ('great', 0.9998493), ('soula', 0.9998437), ('away', 0.9998433), ('stayed', 0.9998418), ('like', 0.99984175), ('kitchen', 0.9998408), ('quiet', 0.9998394), ('experience', 0.9998388), ('many', 0.99983823), ('house', 0.99983793), ('back', 0.99983686), ('first', 0.999834), ('location', 0.99983317), ('host', 0.9998331), ('much', 0.9998314), ('room', 0.9998308), ('balcony', 0.9998304), ('made', 0.9998283), ('haris', 0.999828), ('space', 0.9998277), ('excellent', 0.9998265), ('everything', 0.99982643), ('wonderful', 0.9998245), ('perfect', 0.9998238), ('need', 0.99982375), ('lovely', 0.9998224), ('acropolis', 0.999822), ('needed', 0.9998218), ('home', 0.9998179), ('stay', 0.9998174), ('close', 0.999817), ('pygmalion', 0.9998166), ('always', 0.9998097), ('minutes', 0.9998093), ('spacious', 0.9998091), ('metro', 0.99980664), ('two', 0.9998062), ('5', 0.99980557), ('visit', 0.99980396), ('clean', 0.9998033), ('view', 0.999803), ('restaurants', 0.99980146), ('enjoyed', 0.9998008), ('beautiful', 0.99979395), ('comfortable', 0.9997897), ('station', 0.999788), ('walk', 0.99978346), ('safe', 0.9997784), ('located', 0.9997772), ('friendly', 0.9997742), ('would', 0.9997693), ('met', 0.99976474), ('thank', 0.9997643), ('convenient', 0.9997626), ('amazing', 0.99976), ('staying', 0.9997561), ('terrace', 0.99975073), ('felt', 0.99974966), ('feel', 0.99974537), ('central', 0.9997437), ('rooftop', 0.99974257), ('gave', 0.9997263), ('equipped', 0.99971694), ('fantastic', 0.99971664), ('recommend', 0.9996931), ('soulas', 0.9996789), ('thanks', 0.9996639), ('definitely', 0.9995895), ('highly', 0.99957603), ('walking', 0.9995626), ('distance', 0.99926794)]\n",
            "george [('george', 0.99999964), ('also', 0.99989426), ('even', 0.99989176), ('street', 0.9998879), ('nice', 0.99988693), ('one', 0.9998868), ('apartment', 0.99988157), ('day', 0.99987966), ('city', 0.99987906), ('helpful', 0.99987733), ('us', 0.9998767), ('coffee', 0.99987656), ('really', 0.9998761), ('get', 0.99987066), ('around', 0.9998699), ('fotis', 0.99986964), ('well', 0.9998692), ('best', 0.9998685), ('area', 0.9998666), ('easy', 0.99986494), ('night', 0.9998641), ('good', 0.9998615), ('need', 0.99986136), ('could', 0.99986005), ('athens', 0.9998599), ('go', 0.99985844), ('time', 0.9998583), ('stayed', 0.99985796), ('great', 0.9998551), ('flat', 0.9998538), ('place', 0.9998533), ('many', 0.99985236), ('lovely', 0.99985135), ('much', 0.9998505), ('host', 0.99984854), ('needed', 0.9998477), ('excellent', 0.99984676), ('two', 0.9998457), ('like', 0.99984515), ('perfect', 0.99984324), ('experience', 0.999842), ('balcony', 0.9998415), ('everything', 0.99984145), ('neighborhood', 0.9998413), ('kitchen', 0.9998413), ('soula', 0.99984086), ('house', 0.9998396), ('away', 0.99983776), ('location', 0.9998377), ('pygmalion', 0.99983674), ('quiet', 0.99983644), ('first', 0.99983513), ('close', 0.9998348), ('5', 0.9998307), ('room', 0.9998286), ('acropolis', 0.9998281), ('back', 0.99982715), ('clean', 0.9998268), ('haris', 0.9998256), ('made', 0.999824), ('space', 0.9998223), ('comfortable', 0.99982053), ('stay', 0.99982023), ('spacious', 0.99981725), ('safe', 0.9998156), ('wonderful', 0.9998146), ('enjoyed', 0.9998136), ('always', 0.99981326), ('visit', 0.9998119), ('view', 0.99980927), ('minutes', 0.999805), ('located', 0.9998045), ('beautiful', 0.99980325), ('home', 0.99980235), ('metro', 0.999801), ('restaurants', 0.99979633), ('convenient', 0.9997884), ('met', 0.9997833), ('friendly', 0.99978316), ('station', 0.99978244), ('felt', 0.9997814), ('walk', 0.99977934), ('would', 0.9997792), ('thank', 0.9997764), ('amazing', 0.9997756), ('rooftop', 0.9997702), ('staying', 0.99976593), ('terrace', 0.99976385), ('gave', 0.99975634), ('feel', 0.9997484), ('central', 0.99974763), ('equipped', 0.9997319), ('fantastic', 0.99971455), ('recommend', 0.9997058), ('soulas', 0.9996868), ('thanks', 0.99968225), ('definitely', 0.9996103), ('highly', 0.99958193), ('walking', 0.9995521), ('distance', 0.99930185)]\n",
            "many [('many', 1.0), ('street', 0.9998917), ('neighborhood', 0.99989057), ('coffee', 0.9998865), ('also', 0.999886), ('apartment', 0.9998851), ('good', 0.99988353), ('flat', 0.9998817), ('restaurants', 0.99987817), ('area', 0.9998779), ('one', 0.9998764), ('even', 0.9998746), ('best', 0.99987364), ('fotis', 0.99987113), ('night', 0.999871), ('could', 0.999869), ('day', 0.9998666), ('athens', 0.99986446), ('place', 0.99986446), ('nice', 0.9998639), ('around', 0.99986213), ('away', 0.9998615), ('city', 0.9998613), ('kitchen', 0.99985933), ('close', 0.99985904), ('well', 0.9998576), ('excellent', 0.9998572), ('easy', 0.9998566), ('get', 0.99985623), ('time', 0.9998542), ('location', 0.99985415), ('george', 0.99985236), ('great', 0.99985063), ('much', 0.99984854), ('quiet', 0.99984694), ('lovely', 0.9998452), ('house', 0.9998444), ('need', 0.9998415), ('us', 0.9998413), ('really', 0.9998411), ('5', 0.9998409), ('helpful', 0.99984074), ('metro', 0.99983954), ('go', 0.99983823), ('balcony', 0.9998375), ('soula', 0.9998341), ('two', 0.9998339), ('enjoyed', 0.9998325), ('located', 0.9998318), ('room', 0.99983054), ('perfect', 0.99983007), ('stayed', 0.99983), ('needed', 0.999827), ('like', 0.999826), ('space', 0.99982476), ('acropolis', 0.99982464), ('clean', 0.9998216), ('safe', 0.99982095), ('minutes', 0.99982077), ('everything', 0.99981976), ('station', 0.9998188), ('experience', 0.99981815), ('stay', 0.99981624), ('wonderful', 0.9998151), ('host', 0.9998138), ('comfortable', 0.99981064), ('made', 0.9998098), ('beautiful', 0.99980605), ('always', 0.9998004), ('spacious', 0.99980026), ('walk', 0.9997992), ('pygmalion', 0.9997979), ('rooftop', 0.99978834), ('view', 0.99978745), ('convenient', 0.99978703), ('amazing', 0.9997869), ('terrace', 0.99978673), ('home', 0.99978566), ('visit', 0.999785), ('back', 0.9997843), ('first', 0.9997811), ('felt', 0.9997776), ('haris', 0.99977636), ('met', 0.9997566), ('staying', 0.9997487), ('central', 0.9997478), ('equipped', 0.99973947), ('would', 0.99973655), ('thank', 0.999733), ('friendly', 0.99972695), ('feel', 0.99972683), ('fantastic', 0.9997148), ('gave', 0.9996831), ('thanks', 0.9996715), ('soulas', 0.99964637), ('recommend', 0.99964213), ('walking', 0.99963164), ('highly', 0.99960303), ('definitely', 0.9995937), ('distance', 0.9993942)]\n",
            "distance [('distance', 0.9999998), ('metro', 0.9994843), ('acropolis', 0.9994435), ('easy', 0.9994421), ('minutes', 0.999433), ('restaurants', 0.9994297), ('station', 0.99942285), ('neighborhood', 0.9993986), ('many', 0.9993942), ('around', 0.9993846), ('walk', 0.99938416), ('also', 0.99938244), ('away', 0.99938005), ('location', 0.99937934), ('safe', 0.9993769), ('street', 0.99937105), ('close', 0.9993692), ('city', 0.999366), ('convenient', 0.99936306), ('area', 0.9993578), ('5', 0.99935657), ('located', 0.99935293), ('enjoyed', 0.99934715), ('could', 0.9993426), ('day', 0.9993401), ('good', 0.99933976), ('even', 0.9993391), ('balcony', 0.9993386), ('house', 0.999335), ('apartment', 0.9993294), ('fotis', 0.99932283), ('athens', 0.99931705), ('well', 0.99931467), ('coffee', 0.9993119), ('get', 0.99930334), ('central', 0.9993029), ('space', 0.99930227), ('much', 0.99930197), ('george', 0.99930185), ('flat', 0.9993014), ('night', 0.9993008), ('clean', 0.99929976), ('need', 0.9992997), ('room', 0.999299), ('one', 0.99929637), ('quiet', 0.99929595), ('excellent', 0.9992947), ('best', 0.9992896), ('terrace', 0.9992887), ('always', 0.9992876), ('amazing', 0.9992865), ('like', 0.99928594), ('soula', 0.999285), ('nice', 0.99928224), ('lovely', 0.9992786), ('great', 0.9992771), ('pygmalion', 0.99927485), ('spacious', 0.9992734), ('go', 0.99926794), ('two', 0.9992629), ('really', 0.99926114), ('place', 0.99925876), ('everything', 0.9992584), ('us', 0.9992571), ('view', 0.9992533), ('time', 0.9992454), ('home', 0.9992448), ('experience', 0.9992443), ('needed', 0.9992382), ('stay', 0.99923104), ('rooftop', 0.9992303), ('kitchen', 0.9992294), ('wonderful', 0.999225), ('perfect', 0.99922067), ('back', 0.9992178), ('stayed', 0.9992098), ('host', 0.9992068), ('helpful', 0.99920654), ('beautiful', 0.9991903), ('felt', 0.9991895), ('made', 0.9991853), ('comfortable', 0.9991785), ('visit', 0.99917674), ('walking', 0.9991744), ('friendly', 0.99915934), ('haris', 0.99915767), ('feel', 0.9991566), ('staying', 0.9991495), ('fantastic', 0.99913406), ('equipped', 0.9991283), ('first', 0.9991161), ('met', 0.9991074), ('thank', 0.99908864), ('would', 0.9990844), ('thanks', 0.999057), ('recommend', 0.99901813), ('gave', 0.9989794), ('soulas', 0.99896556), ('definitely', 0.9989209), ('highly', 0.99889815)]\n",
            "away [('away', 0.9999999), ('also', 0.99990094), ('night', 0.9998887), ('day', 0.9998879), ('even', 0.9998847), ('coffee', 0.9998826), ('minutes', 0.9998825), ('street', 0.9998803), ('one', 0.9998795), ('good', 0.9998782), ('city', 0.9998753), ('best', 0.9998748), ('area', 0.99987453), ('nice', 0.99987286), ('apartment', 0.99987066), ('balcony', 0.9998671), ('neighborhood', 0.999867), ('flat', 0.99986607), ('get', 0.9998658), ('acropolis', 0.99986494), ('metro', 0.9998638), ('close', 0.9998638), ('5', 0.99986315), ('many', 0.9998615), ('easy', 0.9998613), ('could', 0.99985874), ('kitchen', 0.99985725), ('like', 0.9998569), ('fotis', 0.99985605), ('athens', 0.9998558), ('us', 0.99985504), ('station', 0.9998547), ('well', 0.99985397), ('time', 0.99985266), ('place', 0.9998521), ('really', 0.99985033), ('around', 0.9998483), ('walk', 0.9998458), ('much', 0.9998445), ('great', 0.99984413), ('enjoyed', 0.9998441), ('go', 0.9998433), ('house', 0.99983895), ('george', 0.99983776), ('location', 0.99983686), ('excellent', 0.9998368), ('quiet', 0.9998357), ('room', 0.999835), ('perfect', 0.99983275), ('helpful', 0.99983054), ('two', 0.9998302), ('restaurants', 0.99982655), ('needed', 0.99982554), ('home', 0.99982345), ('lovely', 0.9998226), ('space', 0.9998211), ('stayed', 0.9998203), ('pygmalion', 0.9998182), ('located', 0.99981815), ('need', 0.99981636), ('convenient', 0.999815), ('first', 0.9998132), ('made', 0.999813), ('soula', 0.9998111), ('host', 0.99980813), ('clean', 0.99980795), ('experience', 0.9998078), ('wonderful', 0.9998057), ('everything', 0.9998033), ('comfortable', 0.9998033), ('back', 0.999794), ('haris', 0.99979126), ('felt', 0.99978966), ('always', 0.99978757), ('terrace', 0.9997862), ('view', 0.99978507), ('safe', 0.99978447), ('met', 0.999783), ('beautiful', 0.9997826), ('visit', 0.9997821), ('stay', 0.99977875), ('rooftop', 0.99976766), ('spacious', 0.9997675), ('amazing', 0.9997618), ('central', 0.9997524), ('staying', 0.9997439), ('fantastic', 0.9997439), ('equipped', 0.99974203), ('thank', 0.9997251), ('friendly', 0.99972343), ('feel', 0.99971706), ('would', 0.9997077), ('gave', 0.99968046), ('thanks', 0.9996571), ('soulas', 0.99965286), ('walking', 0.99964654), ('recommend', 0.9996156), ('highly', 0.999559), ('definitely', 0.9995197), ('distance', 0.99938005)]\n",
            "staying [('staying', 0.99999964), ('place', 0.99982595), ('apartment', 0.9998249), ('athens', 0.9998136), ('day', 0.99981207), ('flat', 0.99981177), ('one', 0.9998026), ('lovely', 0.99979347), ('stay', 0.9997934), ('nice', 0.99979097), ('like', 0.99979055), ('great', 0.99978715), ('best', 0.99978614), ('night', 0.99978495), ('time', 0.9997823), ('two', 0.9997817), ('comfortable', 0.9997816), ('really', 0.9997802), ('location', 0.9997795), ('coffee', 0.9997787), ('street', 0.99977785), ('experience', 0.9997775), ('helpful', 0.99977547), ('us', 0.9997742), ('much', 0.99977326), ('host', 0.99977237), ('would', 0.99977225), ('also', 0.9997705), ('kitchen', 0.99976903), ('fotis', 0.9997688), ('well', 0.9997685), ('george', 0.99976593), ('space', 0.9997651), ('easy', 0.9997607), ('good', 0.99976027), ('even', 0.9997594), ('house', 0.999759), ('get', 0.99975884), ('need', 0.9997576), ('area', 0.99975747), ('go', 0.9997561), ('balcony', 0.99975485), ('soula', 0.99975336), ('spacious', 0.99975324), ('perfect', 0.99975187), ('beautiful', 0.99975085), ('home', 0.9997504), ('needed', 0.99974954), ('made', 0.9997492), ('back', 0.999749), ('many', 0.9997487), ('city', 0.99974847), ('could', 0.99974847), ('away', 0.9997439), ('everything', 0.99974376), ('quiet', 0.99974376), ('view', 0.9997437), ('soulas', 0.99973696), ('haris', 0.99973637), ('room', 0.99973506), ('first', 0.99973506), ('neighborhood', 0.9997344), ('clean', 0.99973154), ('enjoyed', 0.9997308), ('always', 0.9997304), ('visit', 0.9997296), ('wonderful', 0.9997288), ('excellent', 0.9997277), ('stayed', 0.9997277), ('recommend', 0.9997256), ('5', 0.99972177), ('pygmalion', 0.9997178), ('amazing', 0.999713), ('restaurants', 0.9997047), ('thank', 0.9997033), ('around', 0.9997027), ('safe', 0.9997006), ('close', 0.9996996), ('acropolis', 0.99969935), ('met', 0.9996969), ('located', 0.9996888), ('metro', 0.99968135), ('minutes', 0.9996803), ('terrace', 0.99967664), ('friendly', 0.99967074), ('walk', 0.99966633), ('rooftop', 0.999666), ('felt', 0.99966395), ('fantastic', 0.99966145), ('convenient', 0.9996373), ('definitely', 0.99963564), ('highly', 0.99963224), ('station', 0.999632), ('central', 0.9996316), ('feel', 0.9996163), ('thanks', 0.99961), ('equipped', 0.9996044), ('gave', 0.9996011), ('walking', 0.999424), ('distance', 0.9991495)]\n",
            "enjoyed [('enjoyed', 0.99999994), ('apartment', 0.99986625), ('good', 0.9998634), ('also', 0.9998553), ('one', 0.9998535), ('street', 0.99985313), ('best', 0.9998524), ('time', 0.99985087), ('nice', 0.99985003), ('athens', 0.9998463), ('city', 0.9998462), ('coffee', 0.9998457), ('place', 0.99984473), ('day', 0.99984413), ('away', 0.9998441), ('close', 0.9998438), ('balcony', 0.9998395), ('get', 0.99983877), ('neighborhood', 0.9998356), ('house', 0.9998351), ('area', 0.9998343), ('even', 0.999834), ('flat', 0.99983364), ('many', 0.9998325), ('stayed', 0.9998313), ('helpful', 0.9998279), ('really', 0.9998272), ('great', 0.99982715), ('well', 0.99982715), ('fotis', 0.99982435), ('night', 0.99982405), ('could', 0.9998236), ('excellent', 0.99981844), ('acropolis', 0.9998181), ('space', 0.9998174), ('much', 0.9998172), ('metro', 0.9998171), ('need', 0.9998167), ('quiet', 0.99981636), ('everything', 0.99981576), ('easy', 0.99981433), ('george', 0.9998136), ('clean', 0.9998098), ('comfortable', 0.9998091), ('us', 0.999808), ('lovely', 0.99980706), ('perfect', 0.9998048), ('stay', 0.999803), ('beautiful', 0.9998026), ('host', 0.99980205), ('go', 0.9998008), ('experience', 0.9997998), ('minutes', 0.99979955), ('room', 0.9997992), ('kitchen', 0.999796), ('soula', 0.99979424), ('location', 0.99979365), ('like', 0.99979365), ('located', 0.9997929), ('spacious', 0.999792), ('restaurants', 0.9997904), ('5', 0.99979025), ('made', 0.99978876), ('two', 0.99978673), ('first', 0.9997853), ('haris', 0.9997835), ('wonderful', 0.99978256), ('walk', 0.99978197), ('back', 0.99977934), ('pygmalion', 0.9997782), ('view', 0.99977773), ('around', 0.9997777), ('always', 0.99977636), ('amazing', 0.99977595), ('needed', 0.99977267), ('convenient', 0.99977046), ('rooftop', 0.99976933), ('station', 0.9997685), ('safe', 0.99976426), ('home', 0.9997612), ('felt', 0.99975866), ('visit', 0.99975485), ('thank', 0.99974465), ('met', 0.999742), ('terrace', 0.99973965), ('equipped', 0.99973947), ('staying', 0.9997308), ('would', 0.99973), ('fantastic', 0.9997129), ('feel', 0.9997091), ('central', 0.9996958), ('thanks', 0.99967885), ('friendly', 0.99967086), ('soulas', 0.9996644), ('gave', 0.99965096), ('recommend', 0.99962467), ('definitely', 0.99960655), ('highly', 0.9995792), ('walking', 0.99955136), ('distance', 0.99934715)]\n",
            "much [('much', 0.99999964), ('apartment', 0.9998847), ('nice', 0.99988467), ('area', 0.9998793), ('day', 0.9998764), ('also', 0.99987406), ('athens', 0.99987257), ('one', 0.9998723), ('flat', 0.99987024), ('street', 0.99986947), ('good', 0.9998691), ('coffee', 0.9998681), ('really', 0.99986756), ('best', 0.99986756), ('time', 0.9998671), ('fotis', 0.9998671), ('helpful', 0.99986696), ('great', 0.99986666), ('house', 0.99986595), ('even', 0.99986136), ('stayed', 0.9998606), ('neighborhood', 0.99985874), ('city', 0.9998581), ('easy', 0.999858), ('could', 0.99985737), ('perfect', 0.9998558), ('balcony', 0.9998533), ('well', 0.99985266), ('kitchen', 0.99985254), ('night', 0.9998515), ('place', 0.99985147), ('george', 0.9998505), ('us', 0.9998495), ('many', 0.99984854), ('need', 0.99984777), ('get', 0.9998458), ('away', 0.9998445), ('quiet', 0.99984354), ('around', 0.9998417), ('room', 0.9998416), ('host', 0.9998403), ('5', 0.9998395), ('location', 0.9998386), ('stay', 0.99983835), ('visit', 0.9998374), ('experience', 0.9998371), ('two', 0.9998367), ('clean', 0.9998358), ('close', 0.99983555), ('comfortable', 0.9998354), ('excellent', 0.9998348), ('everything', 0.99983466), ('go', 0.9998314), ('needed', 0.9998311), ('space', 0.9998305), ('like', 0.999828), ('metro', 0.99982), ('soula', 0.9998178), ('enjoyed', 0.9998172), ('made', 0.9998162), ('pygmalion', 0.9998142), ('lovely', 0.9998139), ('spacious', 0.99981385), ('beautiful', 0.9998133), ('located', 0.9998113), ('wonderful', 0.99981046), ('haris', 0.9998084), ('back', 0.99980795), ('first', 0.99980354), ('acropolis', 0.99979854), ('felt', 0.99978876), ('view', 0.99978656), ('safe', 0.9997864), ('minutes', 0.9997854), ('restaurants', 0.99978536), ('always', 0.99978393), ('home', 0.99978244), ('friendly', 0.9997796), ('station', 0.9997733), ('staying', 0.99977326), ('met', 0.9997704), ('walk', 0.99977034), ('thank', 0.99976987), ('equipped', 0.9997686), ('convenient', 0.9997684), ('amazing', 0.99976504), ('terrace', 0.9997599), ('would', 0.9997502), ('central', 0.9997479), ('rooftop', 0.9997454), ('fantastic', 0.9997392), ('feel', 0.9997303), ('gave', 0.9997287), ('soulas', 0.99970484), ('thanks', 0.9997041), ('recommend', 0.9997028), ('definitely', 0.99961954), ('highly', 0.99959195), ('walking', 0.99954903), ('distance', 0.99930197)]\n",
            "thank [('thank', 0.99999976), ('apartment', 0.99982226), ('place', 0.9998115), ('one', 0.99980986), ('athens', 0.9998071), ('best', 0.99979734), ('flat', 0.9997949), ('time', 0.9997949), ('nice', 0.999794), ('helpful', 0.9997893), ('stayed', 0.9997891), ('stay', 0.99978644), ('well', 0.999786), ('area', 0.99978423), ('day', 0.99978304), ('coffee', 0.9997821), ('perfect', 0.9997818), ('host', 0.99978155), ('street', 0.9997808), ('really', 0.9997766), ('george', 0.9997764), ('also', 0.9997753), ('house', 0.99977267), ('kitchen', 0.9997722), ('much', 0.99976987), ('lovely', 0.9997695), ('even', 0.99976933), ('experience', 0.99976784), ('could', 0.99976766), ('needed', 0.9997668), ('great', 0.99976623), ('like', 0.9997658), ('us', 0.9997657), ('balcony', 0.99976546), ('go', 0.9997643), ('night', 0.99976206), ('everything', 0.9997611), ('fotis', 0.9997604), ('location', 0.99975973), ('two', 0.9997581), ('wonderful', 0.99975693), ('city', 0.999755), ('beautiful', 0.9997546), ('haris', 0.99975294), ('back', 0.9997461), ('need', 0.9997449), ('enjoyed', 0.99974465), ('space', 0.9997446), ('pygmalion', 0.9997437), ('good', 0.9997434), ('visit', 0.999743), ('met', 0.99973965), ('made', 0.9997383), ('quiet', 0.9997375), ('easy', 0.99973726), ('get', 0.9997372), ('room', 0.9997371), ('excellent', 0.99973667), ('comfortable', 0.99973655), ('first', 0.99973327), ('many', 0.999733), ('view', 0.9997276), ('soula', 0.99972576), ('away', 0.9997251), ('neighborhood', 0.9997226), ('5', 0.99972254), ('always', 0.9997225), ('clean', 0.99971807), ('spacious', 0.9997171), ('home', 0.99971664), ('acropolis', 0.99971217), ('safe', 0.9997043), ('staying', 0.9997033), ('would', 0.99970126), ('located', 0.9996985), ('close', 0.99969804), ('amazing', 0.9996973), ('around', 0.99969655), ('felt', 0.99968976), ('rooftop', 0.99968493), ('metro', 0.99968016), ('terrace', 0.99967957), ('thanks', 0.9996782), ('minutes', 0.999678), ('gave', 0.9996762), ('equipped', 0.99967295), ('convenient', 0.9996712), ('restaurants', 0.9996611), ('friendly', 0.9996604), ('station', 0.999655), ('walk', 0.99964356), ('fantastic', 0.99963874), ('soulas', 0.99963564), ('central', 0.9996303), ('feel', 0.9996297), ('recommend', 0.99961925), ('definitely', 0.99959874), ('highly', 0.99956244), ('walking', 0.99938744), ('distance', 0.99908864)]\n",
            "could [('could', 1.0000001), ('also', 0.9999045), ('even', 0.9999022), ('easy', 0.999889), ('one', 0.9998849), ('area', 0.99988353), ('street', 0.999883), ('apartment', 0.99988157), ('coffee', 0.9998804), ('nice', 0.9998792), ('good', 0.99987906), ('night', 0.9998782), ('fotis', 0.9998772), ('day', 0.9998764), ('helpful', 0.9998754), ('time', 0.9998746), ('get', 0.99987364), ('athens', 0.9998727), ('perfect', 0.99987054), ('city', 0.99987), ('everything', 0.9998699), ('well', 0.9998697), ('us', 0.99986935), ('many', 0.999869), ('best', 0.9998665), ('neighborhood', 0.9998661), ('great', 0.99986315), ('really', 0.9998622), ('flat', 0.99986184), ('house', 0.99986124), ('george', 0.99986005), ('away', 0.99985874), ('stayed', 0.99985766), ('much', 0.99985737), ('space', 0.9998541), ('lovely', 0.999854), ('need', 0.999853), ('location', 0.99985296), ('around', 0.9998524), ('quiet', 0.99985236), ('experience', 0.9998516), ('go', 0.99985117), ('pygmalion', 0.9998511), ('kitchen', 0.9998505), ('excellent', 0.9998501), ('balcony', 0.99984854), ('close', 0.9998473), ('acropolis', 0.9998468), ('like', 0.99984574), ('5', 0.99984556), ('room', 0.9998454), ('place', 0.99984515), ('two', 0.9998447), ('needed', 0.999843), ('soula', 0.9998414), ('metro', 0.9998348), ('clean', 0.99983305), ('host', 0.99983096), ('comfortable', 0.99983037), ('spacious', 0.9998294), ('home', 0.99982375), ('stay', 0.99982363), ('enjoyed', 0.9998236), ('first', 0.9998235), ('beautiful', 0.9998205), ('made', 0.9998185), ('wonderful', 0.9998183), ('station', 0.9998175), ('minutes', 0.99981725), ('back', 0.9998165), ('restaurants', 0.99981505), ('visit', 0.99981403), ('convenient', 0.9998128), ('view', 0.9998111), ('always', 0.99981105), ('haris', 0.99980605), ('walk', 0.9998028), ('located', 0.99979734), ('safe', 0.9997964), ('amazing', 0.9997918), ('rooftop', 0.99979174), ('met', 0.9997842), ('felt', 0.9997769), ('terrace', 0.9997743), ('thank', 0.99976766), ('feel', 0.99975777), ('friendly', 0.99975574), ('staying', 0.99974847), ('gave', 0.9997449), ('central', 0.9997441), ('would', 0.9997439), ('fantastic', 0.99973), ('equipped', 0.9997034), ('thanks', 0.99969596), ('soulas', 0.9996764), ('recommend', 0.9996479), ('highly', 0.99957407), ('definitely', 0.9995719), ('walking', 0.99955165), ('distance', 0.9993426)]\n",
            "street [('street', 1.0000001), ('area', 0.99990964), ('also', 0.9999087), ('even', 0.9999054), ('neighborhood', 0.9999031), ('coffee', 0.9999017), ('one', 0.999901), ('day', 0.99989986), ('night', 0.9998992), ('city', 0.9998981), ('good', 0.9998948), ('nice', 0.99989337), ('apartment', 0.99989325), ('get', 0.9998925), ('us', 0.9998919), ('many', 0.9998917), ('athens', 0.99988896), ('best', 0.9998886), ('george', 0.9998879), ('go', 0.9998875), ('flat', 0.9998846), ('fotis', 0.9998837), ('well', 0.999883), ('could', 0.999883), ('great', 0.9998828), ('really', 0.99988097), ('around', 0.99988073), ('away', 0.9998803), ('soula', 0.99987715), ('easy', 0.9998769), ('kitchen', 0.9998769), ('balcony', 0.9998744), ('time', 0.99987394), ('stayed', 0.9998732), ('close', 0.99987173), ('place', 0.99987143), ('much', 0.99986947), ('5', 0.9998674), ('quiet', 0.999867), ('house', 0.9998663), ('need', 0.99986565), ('helpful', 0.9998647), ('acropolis', 0.9998614), ('location', 0.9998611), ('room', 0.9998602), ('excellent', 0.9998599), ('restaurants', 0.99985874), ('like', 0.99985576), ('everything', 0.9998535), ('enjoyed', 0.99985313), ('space', 0.9998509), ('perfect', 0.99985087), ('minutes', 0.9998473), ('host', 0.99984586), ('located', 0.99984586), ('metro', 0.99984556), ('two', 0.9998449), ('lovely', 0.99984175), ('clean', 0.9998412), ('back', 0.9998412), ('safe', 0.9998412), ('walk', 0.9998373), ('experience', 0.9998363), ('spacious', 0.99983567), ('needed', 0.99983525), ('view', 0.9998346), ('stay', 0.99983275), ('always', 0.9998327), ('made', 0.99983186), ('station', 0.9998317), ('wonderful', 0.9998312), ('haris', 0.99982905), ('visit', 0.99982756), ('first', 0.99982643), ('comfortable', 0.9998247), ('pygmalion', 0.9998224), ('home', 0.99982035), ('beautiful', 0.99981564), ('convenient', 0.9998138), ('terrace', 0.9998078), ('rooftop', 0.99980605), ('amazing', 0.9997971), ('met', 0.9997884), ('felt', 0.9997815), ('thank', 0.9997808), ('staying', 0.99977785), ('feel', 0.99976337), ('central', 0.99976265), ('equipped', 0.9997602), ('would', 0.9997596), ('fantastic', 0.99975854), ('friendly', 0.99975777), ('gave', 0.99974215), ('thanks', 0.99970263), ('soulas', 0.9996923), ('recommend', 0.9996774), ('walking', 0.9996124), ('definitely', 0.9995949), ('highly', 0.9995815), ('distance', 0.99937105)]\n",
            "gave [('gave', 0.99999994), ('us', 0.999806), ('even', 0.9997943), ('helpful', 0.999776), ('get', 0.99976677), ('also', 0.9997615), ('haris', 0.99976104), ('george', 0.99975634), ('city', 0.9997526), ('coffee', 0.9997521), ('made', 0.9997515), ('fotis', 0.99974626), ('could', 0.9997449), ('met', 0.9997429), ('street', 0.99974215), ('apartment', 0.9997388), ('soula', 0.99973726), ('great', 0.9997364), ('first', 0.9997356), ('one', 0.999735), ('flat', 0.99973476), ('area', 0.99973416), ('day', 0.9997339), ('host', 0.9997337), ('time', 0.9997326), ('well', 0.99973047), ('night', 0.99972963), ('best', 0.9997287), ('much', 0.9997287), ('nice', 0.99972665), ('go', 0.9997263), ('easy', 0.9997246), ('around', 0.9997173), ('house', 0.9997166), ('pygmalion', 0.99971575), ('perfect', 0.9997125), ('like', 0.9997091), ('everything', 0.9997077), ('athens', 0.9997053), ('really', 0.99970424), ('room', 0.9997035), ('stayed', 0.9997016), ('kitchen', 0.99970126), ('experience', 0.9997011), ('needed', 0.9996972), ('balcony', 0.99969506), ('good', 0.9996948), ('two', 0.99969447), ('home', 0.9996941), ('excellent', 0.9996893), ('place', 0.9996889), ('spacious', 0.99968696), ('close', 0.9996867), ('quiet', 0.99968356), ('many', 0.9996831), ('location', 0.999683), ('neighborhood', 0.99968135), ('away', 0.99968046), ('always', 0.99968), ('5', 0.9996793), ('comfortable', 0.99967897), ('back', 0.999678), ('thank', 0.9996762), ('need', 0.99967563), ('view', 0.99967474), ('feel', 0.99967444), ('space', 0.99967265), ('visit', 0.99967253), ('beautiful', 0.99967), ('felt', 0.99966145), ('wonderful', 0.9996531), ('enjoyed', 0.99965096), ('lovely', 0.9996494), ('acropolis', 0.99964815), ('friendly', 0.999648), ('terrace', 0.99964345), ('clean', 0.99964076), ('rooftop', 0.9996402), ('minutes', 0.9996374), ('stay', 0.99963295), ('station', 0.99963254), ('located', 0.99962807), ('metro', 0.99961776), ('restaurants', 0.99961454), ('fantastic', 0.99960905), ('safe', 0.9996049), ('walk', 0.9996029), ('staying', 0.9996011), ('amazing', 0.9996006), ('convenient', 0.9995982), ('central', 0.9995884), ('equipped', 0.99957204), ('thanks', 0.9995458), ('would', 0.99954236), ('soulas', 0.99949896), ('recommend', 0.9994816), ('definitely', 0.99939567), ('highly', 0.9993728), ('walking', 0.9993598), ('distance', 0.9989794)]\n",
            "kitchen [('kitchen', 0.99999976), ('coffee', 0.9998981), ('day', 0.9998911), ('apartment', 0.9998878), ('area', 0.9998837), ('also', 0.9998827), ('night', 0.999879), ('well', 0.9998772), ('street', 0.9998769), ('flat', 0.999874), ('one', 0.9998709), ('nice', 0.9998706), ('even', 0.99986887), ('fotis', 0.99986863), ('really', 0.9998634), ('place', 0.9998627), ('needed', 0.99986064), ('many', 0.99985933), ('great', 0.9998584), ('balcony', 0.9998583), ('best', 0.99985814), ('away', 0.99985725), ('time', 0.99985677), ('perfect', 0.9998559), ('athens', 0.9998555), ('get', 0.9998553), ('us', 0.9998549), ('much', 0.99985254), ('house', 0.9998525), ('could', 0.9998505), ('good', 0.9998498), ('like', 0.9998489), ('neighborhood', 0.99984676), ('helpful', 0.9998466), ('comfortable', 0.99984366), ('soula', 0.99984163), ('george', 0.9998413), ('go', 0.9998408), ('stayed', 0.99984074), ('lovely', 0.9998405), ('need', 0.99983764), ('spacious', 0.9998374), ('easy', 0.9998342), ('room', 0.99983305), ('everything', 0.9998329), ('excellent', 0.999831), ('space', 0.9998297), ('clean', 0.9998296), ('host', 0.99982846), ('close', 0.9998278), ('around', 0.99982524), ('made', 0.9998246), ('haris', 0.99982446), ('city', 0.9998242), ('stay', 0.99982214), ('two', 0.99982125), ('quiet', 0.9998212), ('location', 0.999819), ('home', 0.99981886), ('experience', 0.99981624), ('wonderful', 0.99981475), ('always', 0.99981475), ('pygmalion', 0.999813), ('visit', 0.9998106), ('back', 0.99980724), ('located', 0.9998036), ('beautiful', 0.99980253), ('acropolis', 0.9998012), ('first', 0.9998011), ('5', 0.9998003), ('view', 0.9997985), ('enjoyed', 0.999796), ('metro', 0.9997951), ('restaurants', 0.99979013), ('equipped', 0.9997901), ('minutes', 0.99978983), ('terrace', 0.99978083), ('amazing', 0.9997792), ('station', 0.999776), ('thank', 0.9997722), ('staying', 0.99976903), ('rooftop', 0.9997674), ('met', 0.9997598), ('convenient', 0.9997521), ('safe', 0.9997506), ('felt', 0.999749), ('feel', 0.999748), ('central', 0.99974227), ('friendly', 0.9997387), ('walk', 0.9997358), ('fantastic', 0.99973154), ('would', 0.9997293), ('gave', 0.99970126), ('thanks', 0.9996892), ('soulas', 0.99968123), ('recommend', 0.9996744), ('highly', 0.9995735), ('definitely', 0.9995582), ('walking', 0.9995334), ('distance', 0.9992294)]\n",
            "fantastic [('fantastic', 1.0000001), ('best', 0.9997786), ('time', 0.9997738), ('apartment', 0.9997646), ('great', 0.9997644), ('also', 0.99976236), ('one', 0.9997623), ('nice', 0.99976206), ('flat', 0.9997599), ('place', 0.99975973), ('street', 0.99975854), ('good', 0.99975824), ('area', 0.9997539), ('helpful', 0.99974775), ('comfortable', 0.9997474), ('coffee', 0.99974656), ('day', 0.9997459), ('well', 0.9997449), ('away', 0.9997439), ('even', 0.99974066), ('house', 0.9997396), ('wonderful', 0.9997394), ('much', 0.9997392), ('athens', 0.9997387), ('like', 0.9997386), ('excellent', 0.9997378), ('easy', 0.99973536), ('night', 0.9997348), ('two', 0.99973375), ('spacious', 0.9997331), ('kitchen', 0.99973154), ('really', 0.9997309), ('balcony', 0.9997308), ('host', 0.9997307), ('beautiful', 0.9997306), ('perfect', 0.99973005), ('could', 0.99973), ('neighborhood', 0.9997286), ('fotis', 0.99972135), ('lovely', 0.9997213), ('clean', 0.9997208), ('soula', 0.9997193), ('city', 0.9997188), ('need', 0.9997177), ('everything', 0.99971765), ('go', 0.99971664), ('us', 0.9997163), ('many', 0.9997148), ('george', 0.99971455), ('acropolis', 0.9997143), ('back', 0.9997135), ('enjoyed', 0.9997129), ('5', 0.99971235), ('get', 0.9997116), ('space', 0.9997098), ('minutes', 0.99970675), ('pygmalion', 0.99970394), ('stayed', 0.9997018), ('around', 0.9996997), ('felt', 0.99969435), ('located', 0.9996933), ('location', 0.9996922), ('room', 0.9996916), ('close', 0.9996907), ('home', 0.9996895), ('made', 0.99968916), ('visit', 0.99968636), ('needed', 0.99968565), ('stay', 0.999683), ('experience', 0.99968207), ('quiet', 0.99968135), ('first', 0.99968076), ('always', 0.99967974), ('restaurants', 0.9996778), ('amazing', 0.99967617), ('equipped', 0.9996751), ('haris', 0.9996689), ('metro', 0.99966824), ('staying', 0.99966145), ('view', 0.9996605), ('rooftop', 0.99965805), ('terrace', 0.9996553), ('convenient', 0.9996529), ('walk', 0.999647), ('station', 0.99964607), ('thank', 0.99963874), ('safe', 0.9996286), ('would', 0.9996158), ('friendly', 0.99961454), ('central', 0.999613), ('gave', 0.99960905), ('met', 0.9996074), ('feel', 0.999589), ('soulas', 0.99958354), ('recommend', 0.99956757), ('thanks', 0.99955744), ('highly', 0.99946433), ('definitely', 0.99945736), ('walking', 0.9994037), ('distance', 0.99913406)]\n",
            "friendly [('friendly', 1.0000001), ('pygmalion', 0.9998053), ('nice', 0.9998049), ('helpful', 0.9998021), ('well', 0.99980056), ('us', 0.9997995), ('great', 0.99979496), ('area', 0.9997908), ('one', 0.9997891), ('fotis', 0.999789), ('day', 0.999789), ('coffee', 0.99978787), ('get', 0.9997847), ('george', 0.99978316), ('stayed', 0.99978256), ('apartment', 0.99978095), ('much', 0.9997796), ('time', 0.9997793), ('like', 0.99977815), ('really', 0.99977607), ('also', 0.99977577), ('go', 0.9997742), ('haris', 0.9997736), ('excellent', 0.9997716), ('house', 0.9997708), ('even', 0.9997699), ('first', 0.99976665), ('night', 0.99976397), ('easy', 0.9997613), ('host', 0.9997603), ('need', 0.9997592), ('quiet', 0.9997581), ('street', 0.99975777), ('soula', 0.99975747), ('could', 0.99975574), ('good', 0.9997539), ('best', 0.999753), ('made', 0.9997521), ('perfect', 0.99975), ('athens', 0.99974966), ('flat', 0.999749), ('neighborhood', 0.99974895), ('around', 0.9997485), ('place', 0.99974835), ('experience', 0.99974835), ('location', 0.9997475), ('spacious', 0.99974644), ('always', 0.9997459), ('city', 0.99974585), ('room', 0.9997458), ('everything', 0.99974453), ('kitchen', 0.9997387), ('needed', 0.9997382), ('stay', 0.99973345), ('balcony', 0.9997324), ('back', 0.99973214), ('lovely', 0.9997304), ('home', 0.9997287), ('many', 0.99972695), ('away', 0.99972343), ('comfortable', 0.9997231), ('two', 0.9997202), ('space', 0.9997192), ('met', 0.9997182), ('5', 0.99971735), ('close', 0.999709), ('clean', 0.99970824), ('station', 0.999702), ('wonderful', 0.9997019), ('view', 0.9996965), ('visit', 0.9996961), ('safe', 0.9996958), ('feel', 0.9996908), ('acropolis', 0.999684), ('beautiful', 0.99968004), ('located', 0.9996791), ('would', 0.9996785), ('metro', 0.99967754), ('felt', 0.9996736), ('enjoyed', 0.99967086), ('staying', 0.99967074), ('minutes', 0.9996647), ('thank', 0.9996604), ('amazing', 0.99966025), ('recommend', 0.999653), ('equipped', 0.99964947), ('convenient', 0.99964887), ('gave', 0.999648), ('central', 0.9996421), ('restaurants', 0.9996412), ('walk', 0.9996369), ('terrace', 0.99962157), ('fantastic', 0.99961454), ('rooftop', 0.99961334), ('thanks', 0.99959284), ('soulas', 0.9995682), ('definitely', 0.99953544), ('highly', 0.9994976), ('walking', 0.9994105), ('distance', 0.99915934)]\n",
            "coffee [('coffee', 0.9999998), ('also', 0.99991715), ('one', 0.9999141), ('even', 0.9999097), ('day', 0.9999086), ('street', 0.9999017), ('us', 0.9999012), ('night', 0.9999008), ('kitchen', 0.9998981), ('apartment', 0.99989736), ('get', 0.99989563), ('time', 0.9998954), ('area', 0.99989206), ('neighborhood', 0.99989194), ('best', 0.99989146), ('good', 0.99988675), ('many', 0.9998865), ('fotis', 0.9998863), ('flat', 0.99988574), ('well', 0.99988467), ('city', 0.9998846), ('easy', 0.99988425), ('nice', 0.9998836), ('away', 0.9998826), ('could', 0.9998804), ('great', 0.99987847), ('go', 0.9998772), ('george', 0.99987656), ('place', 0.9998748), ('helpful', 0.9998743), ('stayed', 0.9998735), ('close', 0.99987304), ('athens', 0.9998695), ('around', 0.9998692), ('room', 0.9998691), ('everything', 0.99986845), ('much', 0.9998681), ('really', 0.9998677), ('balcony', 0.9998676), ('soula', 0.9998653), ('pygmalion', 0.999862), ('house', 0.99986136), ('perfect', 0.99986005), ('excellent', 0.99986005), ('needed', 0.9998597), ('need', 0.9998577), ('quiet', 0.99985754), ('like', 0.999855), ('experience', 0.99985445), ('acropolis', 0.9998532), ('back', 0.99985206), ('host', 0.99984854), ('comfortable', 0.99984854), ('made', 0.99984807), ('two', 0.999847), ('lovely', 0.99984646), ('enjoyed', 0.9998457), ('space', 0.9998452), ('haris', 0.9998426), ('first', 0.99984163), ('location', 0.99984), ('metro', 0.99983543), ('beautiful', 0.9998354), ('restaurants', 0.99983054), ('always', 0.99983), ('clean', 0.9998293), ('minutes', 0.99982846), ('spacious', 0.9998238), ('located', 0.9998236), ('visit', 0.9998222), ('5', 0.9998221), ('home', 0.99982125), ('station', 0.9998199), ('wonderful', 0.9998186), ('stay', 0.999818), ('amazing', 0.9998034), ('terrace', 0.9998018), ('view', 0.99980026), ('safe', 0.999798), ('met', 0.99979734), ('felt', 0.9997935), ('walk', 0.99979293), ('convenient', 0.9997891), ('friendly', 0.99978787), ('thank', 0.9997821), ('equipped', 0.9997805), ('staying', 0.9997787), ('rooftop', 0.99977726), ('feel', 0.9997738), ('central', 0.9997645), ('gave', 0.9997521), ('fantastic', 0.99974656), ('would', 0.99974626), ('thanks', 0.9997275), ('soulas', 0.9997053), ('recommend', 0.999671), ('walking', 0.9996007), ('highly', 0.9995875), ('definitely', 0.9995851), ('distance', 0.9993119)]\n",
            "visit [('visit', 1.0000002), ('night', 0.99984264), ('flat', 0.9998394), ('apartment', 0.99983746), ('much', 0.9998374), ('one', 0.9998368), ('best', 0.9998353), ('time', 0.99983376), ('helpful', 0.9998316), ('street', 0.99982756), ('also', 0.99982697), ('day', 0.9998255), ('place', 0.99982405), ('coffee', 0.9998222), ('nice', 0.9998214), ('perfect', 0.99981654), ('could', 0.99981403), ('us', 0.99981326), ('area', 0.9998127), ('even', 0.9998119), ('george', 0.9998119), ('fotis', 0.9998113), ('good', 0.9998106), ('kitchen', 0.9998106), ('athens', 0.99981034), ('great', 0.99980575), ('really', 0.9998047), ('go', 0.99980396), ('stay', 0.9998039), ('stayed', 0.99980074), ('house', 0.9998), ('like', 0.9997996), ('quiet', 0.99979675), ('back', 0.99979407), ('experience', 0.9997932), ('get', 0.9997928), ('easy', 0.9997907), ('wonderful', 0.9997901), ('well', 0.99978954), ('neighborhood', 0.9997892), ('first', 0.9997883), ('two', 0.9997876), ('lovely', 0.9997868), ('space', 0.99978614), ('everything', 0.9997856), ('host', 0.9997854), ('balcony', 0.9997853), ('many', 0.999785), ('city', 0.9997842), ('need', 0.9997837), ('home', 0.9997823), ('away', 0.9997821), ('needed', 0.99977934), ('comfortable', 0.9997768), ('around', 0.9997695), ('room', 0.9997687), ('haris', 0.99976593), ('safe', 0.9997657), ('excellent', 0.99976283), ('would', 0.9997625), ('soula', 0.9997616), ('made', 0.9997592), ('5', 0.9997585), ('beautiful', 0.99975663), ('clean', 0.99975526), ('location', 0.999755), ('enjoyed', 0.99975485), ('pygmalion', 0.9997531), ('always', 0.9997531), ('acropolis', 0.99975306), ('spacious', 0.99974954), ('minutes', 0.9997467), ('located', 0.9997458), ('thank', 0.999743), ('felt', 0.99973965), ('close', 0.99973786), ('restaurants', 0.99973726), ('terrace', 0.999733), ('staying', 0.9997296), ('station', 0.9997232), ('metro', 0.9997225), ('view', 0.9997203), ('amazing', 0.99971616), ('central', 0.99971527), ('equipped', 0.999708), ('convenient', 0.9997056), ('met', 0.99970174), ('walk', 0.9997013), ('friendly', 0.9996961), ('recommend', 0.99968916), ('rooftop', 0.999687), ('fantastic', 0.99968636), ('feel', 0.9996796), ('gave', 0.99967253), ('soulas', 0.999671), ('thanks', 0.9996654), ('highly', 0.9996039), ('definitely', 0.9995726), ('walking', 0.99948615), ('distance', 0.99917674)]\n",
            "met [('met', 0.9999998), ('us', 0.9998697), ('even', 0.99984133), ('helpful', 0.9998139), ('day', 0.99981076), ('also', 0.99981016), ('fotis', 0.99980825), ('best', 0.9998067), ('time', 0.99980474), ('one', 0.99980307), ('nice', 0.99980205), ('get', 0.99979883), ('night', 0.9997986), ('city', 0.9997982), ('coffee', 0.99979734), ('apartment', 0.9997955), ('like', 0.99979365), ('great', 0.99979234), ('athens', 0.9997918), ('flat', 0.99979174), ('street', 0.9997884), ('stayed', 0.99978584), ('pygmalion', 0.9997853), ('could', 0.9997842), ('george', 0.9997833), ('away', 0.999783), ('around', 0.99978137), ('good', 0.9997792), ('really', 0.99977875), ('host', 0.9997787), ('perfect', 0.9997776), ('area', 0.9997766), ('well', 0.99977607), ('5', 0.9997752), ('made', 0.9997751), ('quiet', 0.99977505), ('first', 0.9997741), ('house', 0.9997715), ('soula', 0.9997712), ('much', 0.9997704), ('needed', 0.9997683), ('easy', 0.99976784), ('excellent', 0.99976504), ('go', 0.99976474), ('place', 0.99976414), ('balcony', 0.99976355), ('need', 0.9997633), ('experience', 0.9997623), ('haris', 0.9997617), ('everything', 0.9997612), ('location', 0.9997599), ('comfortable', 0.9997598), ('kitchen', 0.9997598), ('neighborhood', 0.99975854), ('room', 0.9997572), ('many', 0.9997566), ('home', 0.99974823), ('lovely', 0.9997457), ('close', 0.99974513), ('gave', 0.9997429), ('enjoyed', 0.999742), ('two', 0.9997412), ('thank', 0.99973965), ('always', 0.99973905), ('metro', 0.99973273), ('back', 0.99973047), ('space', 0.9997299), ('minutes', 0.99972904), ('wonderful', 0.99972713), ('clean', 0.999725), ('spacious', 0.9997241), ('acropolis', 0.99972063), ('beautiful', 0.9997205), ('located', 0.9997204), ('convenient', 0.99972), ('friendly', 0.9997182), ('stay', 0.99971634), ('felt', 0.9997149), ('feel', 0.9997098), ('safe', 0.99970955), ('station', 0.99970305), ('visit', 0.99970174), ('walk', 0.99969876), ('staying', 0.9996969), ('view', 0.9996946), ('rooftop', 0.9996785), ('amazing', 0.9996683), ('restaurants', 0.9996596), ('terrace', 0.99965215), ('equipped', 0.9996472), ('would', 0.9996406), ('thanks', 0.9996373), ('central', 0.99963486), ('soulas', 0.9996095), ('fantastic', 0.9996074), ('recommend', 0.9995847), ('definitely', 0.99950343), ('walking', 0.999497), ('highly', 0.99945396), ('distance', 0.9991074)]\n",
            "space [('space', 0.9999999), ('one', 0.99987364), ('also', 0.9998693), ('well', 0.9998677), ('area', 0.9998671), ('apartment', 0.9998667), ('nice', 0.9998649), ('athens', 0.99985933), ('day', 0.99985707), ('night', 0.99985594), ('great', 0.9998544), ('could', 0.9998541), ('flat', 0.999853), ('place', 0.99985224), ('street', 0.9998509), ('best', 0.9998469), ('city', 0.9998466), ('acropolis', 0.9998462), ('neighborhood', 0.9998453), ('coffee', 0.9998452), ('helpful', 0.9998446), ('spacious', 0.9998437), ('balcony', 0.9998398), ('time', 0.9998377), ('location', 0.99983764), ('fotis', 0.99983513), ('even', 0.9998317), ('two', 0.99983144), ('everything', 0.9998313), ('comfortable', 0.9998305), ('much', 0.9998305), ('easy', 0.99983037), ('kitchen', 0.9998297), ('good', 0.99982876), ('house', 0.99982864), ('go', 0.9998277), ('beautiful', 0.99982727), ('many', 0.99982476), ('host', 0.99982244), ('george', 0.9998223), ('stayed', 0.9998218), ('lovely', 0.99982166), ('away', 0.9998211), ('perfect', 0.99982065), ('view', 0.9998199), ('get', 0.9998198), ('really', 0.9998197), ('experience', 0.9998197), ('clean', 0.99981755), ('enjoyed', 0.9998174), ('stay', 0.9998172), ('wonderful', 0.9998157), ('room', 0.9998145), ('us', 0.9998144), ('like', 0.99981433), ('need', 0.99981385), ('close', 0.99981254), ('pygmalion', 0.9998093), ('around', 0.9998091), ('amazing', 0.9998081), ('quiet', 0.999806), ('soula', 0.9998029), ('metro', 0.99980277), ('excellent', 0.9998023), ('5', 0.9997999), ('convenient', 0.99979883), ('terrace', 0.9997931), ('always', 0.9997899), ('needed', 0.99978876), ('visit', 0.99978614), ('haris', 0.99978477), ('located', 0.9997842), ('station', 0.9997836), ('minutes', 0.9997785), ('rooftop', 0.99977714), ('restaurants', 0.9997758), ('first', 0.9997711), ('made', 0.999771), ('safe', 0.9997708), ('back', 0.9997687), ('staying', 0.9997651), ('walk', 0.9997605), ('home', 0.99976), ('would', 0.9997512), ('thank', 0.9997446), ('central', 0.9997441), ('felt', 0.9997407), ('met', 0.9997299), ('friendly', 0.9997192), ('equipped', 0.99971473), ('fantastic', 0.9997098), ('feel', 0.99969894), ('soulas', 0.99967915), ('gave', 0.99967265), ('thanks', 0.99966395), ('recommend', 0.9996305), ('highly', 0.99962115), ('definitely', 0.9995678), ('walking', 0.99947315), ('distance', 0.99930227)]\n",
            "two [('two', 0.9999997), ('one', 0.9998802), ('also', 0.999874), ('nice', 0.9998662), ('apartment', 0.9998645), ('best', 0.99986297), ('night', 0.99985737), ('even', 0.99985677), ('day', 0.9998565), ('area', 0.99985456), ('athens', 0.9998545), ('place', 0.9998535), ('flat', 0.9998501), ('great', 0.99984944), ('perfect', 0.99984926), ('balcony', 0.99984914), ('coffee', 0.999847), ('george', 0.9998457), ('street', 0.9998449), ('could', 0.9998447), ('time', 0.99984384), ('city', 0.9998429), ('good', 0.9998426), ('well', 0.99983895), ('really', 0.9998387), ('much', 0.9998367), ('many', 0.9998339), ('fotis', 0.9998335), ('neighborhood', 0.99983156), ('space', 0.99983144), ('helpful', 0.9998304), ('away', 0.9998302), ('easy', 0.9998282), ('us', 0.9998251), ('stayed', 0.9998249), ('house', 0.9998243), ('5', 0.9998239), ('beautiful', 0.9998232), ('everything', 0.9998228), ('close', 0.999822), ('location', 0.99982184), ('kitchen', 0.99982125), ('like', 0.999821), ('quiet', 0.9998209), ('experience', 0.9998208), ('wonderful', 0.99981827), ('room', 0.99981755), ('pygmalion', 0.9998165), ('spacious', 0.9998152), ('stay', 0.99981517), ('get', 0.99981457), ('lovely', 0.9998123), ('excellent', 0.99981076), ('host', 0.9998097), ('need', 0.9998096), ('clean', 0.99980843), ('around', 0.9998071), ('go', 0.9998062), ('acropolis', 0.99980605), ('first', 0.99980515), ('comfortable', 0.9998021), ('soula', 0.99980205), ('restaurants', 0.9998015), ('safe', 0.99979407), ('minutes', 0.9997935), ('made', 0.999792), ('located', 0.99979156), ('back', 0.99979055), ('visit', 0.9997876), ('haris', 0.9997868), ('enjoyed', 0.99978673), ('view', 0.9997835), ('staying', 0.9997817), ('always', 0.99977833), ('would', 0.9997783), ('station', 0.99977726), ('metro', 0.999777), ('needed', 0.9997761), ('home', 0.99976796), ('convenient', 0.9997673), ('walk', 0.99976456), ('rooftop', 0.99975866), ('thank', 0.9997581), ('terrace', 0.99975467), ('amazing', 0.99975127), ('met', 0.9997412), ('felt', 0.9997405), ('central', 0.9997383), ('fantastic', 0.99973375), ('friendly', 0.9997202), ('equipped', 0.99971515), ('feel', 0.99970436), ('thanks', 0.9996957), ('gave', 0.99969447), ('soulas', 0.9996927), ('recommend', 0.9996571), ('highly', 0.99959475), ('definitely', 0.9995793), ('walking', 0.99951977), ('distance', 0.9992629)]\n",
            "thanks [('thanks', 1.0000001), ('day', 0.99973893), ('made', 0.9997304), ('stayed', 0.9997303), ('helpful', 0.9997301), ('one', 0.99972796), ('coffee', 0.9997275), ('best', 0.9997169), ('area', 0.99971575), ('place', 0.99971545), ('athens', 0.9997151), ('apartment', 0.9997131), ('time', 0.99971235), ('get', 0.99971104), ('night', 0.99970955), ('perfect', 0.999707), ('nice', 0.9997063), ('much', 0.9997041), ('also', 0.9997029), ('street', 0.99970263), ('good', 0.9996985), ('flat', 0.999697), ('really', 0.9996964), ('comfortable', 0.999696), ('could', 0.99969596), ('two', 0.9996957), ('us', 0.9996947), ('host', 0.9996913), ('well', 0.9996901), ('kitchen', 0.9996892), ('great', 0.99968743), ('first', 0.99968576), ('back', 0.9996852), ('neighborhood', 0.9996836), ('room', 0.99968237), ('george', 0.99968225), ('beautiful', 0.99968165), ('enjoyed', 0.99967885), ('even', 0.9996782), ('thank', 0.9996782), ('quiet', 0.99967724), ('experience', 0.9996771), ('pygmalion', 0.9996769), ('like', 0.9996767), ('need', 0.99967575), ('needed', 0.99967563), ('easy', 0.9996718), ('many', 0.9996715), ('stay', 0.99967015), ('visit', 0.9996654), ('space', 0.99966395), ('go', 0.9996639), ('everything', 0.99966276), ('balcony', 0.99966264), ('fotis', 0.9996601), ('city', 0.9996588), ('away', 0.9996571), ('location', 0.9996565), ('would', 0.9996565), ('close', 0.9996558), ('excellent', 0.9996532), ('house', 0.99965197), ('soula', 0.9996508), ('around', 0.9996507), ('felt', 0.9996494), ('lovely', 0.99964815), ('5', 0.9996462), ('clean', 0.9996402), ('always', 0.9996377), ('acropolis', 0.99963737), ('met', 0.9996373), ('restaurants', 0.9996357), ('haris', 0.99963015), ('home', 0.9996291), ('metro', 0.99962294), ('located', 0.9996225), ('wonderful', 0.99962157), ('rooftop', 0.99961567), ('spacious', 0.99961495), ('staying', 0.99961), ('view', 0.999607), ('terrace', 0.99960655), ('station', 0.9996024), ('amazing', 0.9996007), ('feel', 0.99959403), ('friendly', 0.99959284), ('equipped', 0.9995827), ('walk', 0.99958056), ('safe', 0.9995793), ('convenient', 0.99957323), ('minutes', 0.99957013), ('fantastic', 0.99955744), ('gave', 0.9995458), ('soulas', 0.9995418), ('recommend', 0.999539), ('definitely', 0.99953824), ('central', 0.99952316), ('highly', 0.9994555), ('walking', 0.9993473), ('distance', 0.999057)]\n",
            "room [('room', 0.99999976), ('apartment', 0.99988854), ('one', 0.9998784), ('us', 0.999873), ('also', 0.9998724), ('fotis', 0.9998722), ('even', 0.99986935), ('coffee', 0.9998691), ('area', 0.99986815), ('nice', 0.9998643), ('flat', 0.9998621), ('day', 0.99986064), ('street', 0.9998602), ('well', 0.99985784), ('good', 0.999856), ('get', 0.9998538), ('house', 0.99985325), ('city', 0.9998528), ('night', 0.99985), ('best', 0.9998498), ('helpful', 0.9998486), ('time', 0.99984694), ('really', 0.9998468), ('could', 0.9998454), ('athens', 0.999844), ('easy', 0.99984384), ('stayed', 0.9998433), ('much', 0.9998416), ('perfect', 0.9998403), ('acropolis', 0.9998377), ('neighborhood', 0.99983555), ('balcony', 0.99983543), ('away', 0.999835), ('quiet', 0.99983466), ('kitchen', 0.99983305), ('location', 0.999833), ('place', 0.99983144), ('go', 0.9998308), ('great', 0.9998306), ('many', 0.99983054), ('george', 0.9998286), ('clean', 0.9998283), ('close', 0.99982727), ('around', 0.9998254), ('everything', 0.99982375), ('pygmalion', 0.99982077), ('need', 0.99981993), ('host', 0.9998198), ('like', 0.9998189), ('5', 0.9998183), ('soula', 0.99981785), ('two', 0.99981755), ('spacious', 0.9998163), ('excellent', 0.9998146), ('space', 0.9998145), ('lovely', 0.999813), ('beautiful', 0.99981254), ('always', 0.99981225), ('metro', 0.99981), ('comfortable', 0.99980956), ('made', 0.9998058), ('restaurants', 0.99980253), ('experience', 0.99980134), ('wonderful', 0.99979967), ('enjoyed', 0.9997992), ('needed', 0.9997976), ('haris', 0.9997971), ('safe', 0.9997885), ('first', 0.9997871), ('home', 0.9997822), ('view', 0.99977696), ('located', 0.999776), ('station', 0.99977535), ('rooftop', 0.99976957), ('stay', 0.99976933), ('visit', 0.9997687), ('back', 0.99976736), ('minutes', 0.9997641), ('met', 0.9997572), ('amazing', 0.9997536), ('terrace', 0.9997494), ('convenient', 0.99974895), ('friendly', 0.9997458), ('walk', 0.9997434), ('central', 0.99974036), ('thank', 0.9997371), ('felt', 0.9997353), ('staying', 0.99973506), ('feel', 0.99973226), ('equipped', 0.99971926), ('gave', 0.9997035), ('would', 0.99970245), ('fantastic', 0.9996916), ('thanks', 0.99968237), ('soulas', 0.9996217), ('recommend', 0.9995955), ('walking', 0.9995564), ('definitely', 0.99954957), ('highly', 0.99950814), ('distance', 0.999299)]\n",
            "rooftop [('rooftop', 1.0000001), ('best', 0.99981517), ('view', 0.99981457), ('apartment', 0.9998104), ('street', 0.99980605), ('place', 0.9998009), ('one', 0.9998002), ('athens', 0.9997971), ('acropolis', 0.9997956), ('night', 0.9997953), ('amazing', 0.9997947), ('city', 0.9997942), ('even', 0.9997934), ('could', 0.99979174), ('also', 0.9997907), ('many', 0.99978834), ('day', 0.9997883), ('area', 0.99978656), ('balcony', 0.9997835), ('great', 0.99978274), ('helpful', 0.9997821), ('time', 0.9997817), ('nice', 0.99978137), ('coffee', 0.99977726), ('get', 0.9997772), ('space', 0.99977714), ('flat', 0.99977684), ('location', 0.9997729), ('us', 0.99977165), ('fotis', 0.9997702), ('george', 0.9997702), ('room', 0.99976957), ('enjoyed', 0.99976933), ('away', 0.99976766), ('kitchen', 0.9997674), ('neighborhood', 0.9997662), ('really', 0.9997654), ('lovely', 0.9997654), ('around', 0.99976194), ('house', 0.9997616), ('5', 0.99975985), ('stayed', 0.99975884), ('two', 0.99975866), ('wonderful', 0.9997584), ('made', 0.9997575), ('well', 0.9997538), ('beautiful', 0.9997537), ('spacious', 0.9997529), ('good', 0.99975145), ('close', 0.99975103), ('clean', 0.9997506), ('need', 0.9997504), ('comfortable', 0.99974996), ('restaurants', 0.99974567), ('easy', 0.99974555), ('much', 0.9997454), ('soula', 0.99974483), ('go', 0.99974257), ('experience', 0.999741), ('excellent', 0.9997389), ('perfect', 0.9997381), ('terrace', 0.9997354), ('quiet', 0.9997333), ('like', 0.99973303), ('needed', 0.99973226), ('first', 0.99973077), ('minutes', 0.9997267), ('everything', 0.99972516), ('host', 0.999725), ('always', 0.9997202), ('stay', 0.9997169), ('pygmalion', 0.99971616), ('metro', 0.9997118), ('safe', 0.9997051), ('located', 0.99970484), ('home', 0.99970466), ('haris', 0.99970365), ('back', 0.9997007), ('station', 0.9997), ('walk', 0.99969715), ('convenient', 0.999694), ('visit', 0.999687), ('thank', 0.99968493), ('met', 0.9996785), ('felt', 0.9996768), ('staying', 0.999666), ('fantastic', 0.99965805), ('equipped', 0.999648), ('feel', 0.9996456), ('would', 0.99964267), ('gave', 0.9996402), ('thanks', 0.99961567), ('friendly', 0.99961334), ('central', 0.9995904), ('recommend', 0.9995634), ('soulas', 0.99955535), ('definitely', 0.9995109), ('highly', 0.99948823), ('walking', 0.9994561), ('distance', 0.9992303)]\n",
            "central [('central', 0.9999998), ('well', 0.9998133), ('even', 0.99980766), ('also', 0.9997896), ('quiet', 0.99977934), ('neighborhood', 0.9997778), ('area', 0.9997765), ('good', 0.9997742), ('day', 0.9997733), ('apartment', 0.99977154), ('city', 0.9997703), ('one', 0.99976707), ('nice', 0.9997658), ('flat', 0.9997652), ('coffee', 0.9997645), ('really', 0.99976337), ('street', 0.99976265), ('lovely', 0.9997622), ('perfect', 0.99975836), ('fotis', 0.99975526), ('balcony', 0.99975395), ('away', 0.9997524), ('spacious', 0.9997515), ('house', 0.9997508), ('acropolis', 0.9997506), ('much', 0.9997479), ('many', 0.9997478), ('george', 0.99974763), ('around', 0.9997474), ('time', 0.99974686), ('helpful', 0.99974686), ('best', 0.99974626), ('always', 0.99974597), ('close', 0.99974465), ('location', 0.9997446), ('could', 0.9997441), ('space', 0.9997441), ('easy', 0.99974394), ('go', 0.9997437), ('great', 0.99974257), ('kitchen', 0.99974227), ('athens', 0.9997406), ('room', 0.99974036), ('two', 0.9997383), ('excellent', 0.99973714), ('host', 0.99973667), ('station', 0.9997362), ('clean', 0.9997356), ('get', 0.99973506), ('metro', 0.9997327), ('us', 0.999731), ('located', 0.9997299), ('everything', 0.9997295), ('need', 0.99972934), ('stay', 0.9997276), ('beautiful', 0.99972737), ('like', 0.999727), ('experience', 0.9997263), ('night', 0.99972606), ('5', 0.9997251), ('needed', 0.99972343), ('place', 0.9997233), ('minutes', 0.99972284), ('comfortable', 0.9997199), ('visit', 0.99971527), ('stayed', 0.9997141), ('pygmalion', 0.99971247), ('soula', 0.99970865), ('walk', 0.9997057), ('restaurants', 0.9997038), ('safe', 0.999703), ('wonderful', 0.9996989), ('enjoyed', 0.9996958), ('convenient', 0.9996943), ('equipped', 0.99969023), ('view', 0.9996822), ('haris', 0.9996811), ('back', 0.99967206), ('made', 0.9996686), ('amazing', 0.99966824), ('home', 0.9996669), ('first', 0.99966043), ('terrace', 0.9996568), ('felt', 0.99965286), ('feel', 0.999647), ('friendly', 0.9996421), ('met', 0.99963486), ('staying', 0.9996316), ('thank', 0.9996303), ('fantastic', 0.999613), ('recommend', 0.99960226), ('rooftop', 0.9995904), ('gave', 0.9995884), ('would', 0.99958736), ('soulas', 0.999527), ('walking', 0.99952644), ('thanks', 0.99952316), ('highly', 0.9994839), ('definitely', 0.99942493), ('distance', 0.9993029)]\n",
            "safe [('safe', 0.99999994), ('apartment', 0.99984354), ('street', 0.9998412), ('also', 0.99983627), ('best', 0.9998283), ('well', 0.9998257), ('good', 0.99982464), ('quiet', 0.9998232), ('city', 0.99982214), ('location', 0.999821), ('many', 0.99982095), ('nice', 0.99982), ('area', 0.9998194), ('one', 0.9998193), ('george', 0.9998156), ('fotis', 0.9998155), ('day', 0.9998141), ('us', 0.99981374), ('neighborhood', 0.99981344), ('really', 0.9998115), ('even', 0.9998115), ('flat', 0.9998107), ('around', 0.99980676), ('night', 0.9998038), ('athens', 0.9998002), ('perfect', 0.9997995), ('coffee', 0.999798), ('could', 0.9997964), ('place', 0.9997951), ('like', 0.99979484), ('two', 0.99979407), ('experience', 0.99979264), ('located', 0.9997915), ('great', 0.9997912), ('need', 0.9997911), ('house', 0.999791), ('lovely', 0.99979043), ('clean', 0.99978906), ('excellent', 0.99978876), ('get', 0.9997887), ('room', 0.9997885), ('balcony', 0.9997866), ('much', 0.9997864), ('easy', 0.99978566), ('metro', 0.99978465), ('away', 0.99978447), ('stayed', 0.99978375), ('restaurants', 0.9997831), ('5', 0.9997808), ('host', 0.99978054), ('helpful', 0.9997799), ('wonderful', 0.99977916), ('go', 0.9997784), ('close', 0.99977756), ('acropolis', 0.99977756), ('everything', 0.99977446), ('time', 0.9997736), ('convenient', 0.9997736), ('stay', 0.99977314), ('space', 0.9997708), ('spacious', 0.9997678), ('visit', 0.9997657), ('enjoyed', 0.99976426), ('soula', 0.9997642), ('pygmalion', 0.9997626), ('minutes', 0.9997577), ('needed', 0.9997523), ('kitchen', 0.9997506), ('made', 0.9997435), ('always', 0.9997384), ('walk', 0.9997382), ('comfortable', 0.99973726), ('station', 0.9997371), ('beautiful', 0.9997356), ('first', 0.9997288), ('haris', 0.99972063), ('home', 0.9997192), ('amazing', 0.99971855), ('felt', 0.9997167), ('back', 0.999716), ('met', 0.99970955), ('view', 0.99970925), ('rooftop', 0.9997051), ('thank', 0.9997043), ('central', 0.999703), ('staying', 0.9997006), ('would', 0.9996978), ('friendly', 0.9996958), ('equipped', 0.9996887), ('terrace', 0.99968624), ('feel', 0.999666), ('soulas', 0.9996341), ('fantastic', 0.9996286), ('gave', 0.9996049), ('recommend', 0.99960464), ('thanks', 0.9995793), ('definitely', 0.9995367), ('walking', 0.99952763), ('highly', 0.99950755), ('distance', 0.9993769)]\n",
            "first [('first', 1.0000001), ('night', 0.9998685), ('one', 0.9998586), ('time', 0.99985707), ('best', 0.9998567), ('also', 0.99985254), ('nice', 0.9998487), ('day', 0.99984837), ('apartment', 0.9998483), ('even', 0.9998456), ('us', 0.9998452), ('great', 0.9998428), ('coffee', 0.99984163), ('athens', 0.9998408), ('city', 0.9998407), ('get', 0.9998376), ('helpful', 0.9998355), ('george', 0.99983513), ('go', 0.999834), ('perfect', 0.9998317), ('good', 0.99982715), ('street', 0.99982643), ('could', 0.9998235), ('like', 0.9998231), ('stayed', 0.99982226), ('flat', 0.99982196), ('area', 0.9998178), ('made', 0.9998177), ('easy', 0.999817), ('really', 0.9998139), ('fotis', 0.9998137), ('away', 0.9998132), ('experience', 0.999812), ('place', 0.99981093), ('well', 0.99981076), ('house', 0.9998081), ('everything', 0.99980783), ('location', 0.99980724), ('back', 0.99980724), ('two', 0.99980515), ('pygmalion', 0.99980474), ('haris', 0.9998045), ('soula', 0.99980384), ('much', 0.99980354), ('host', 0.9998034), ('comfortable', 0.999802), ('kitchen', 0.9998011), ('quiet', 0.99979997), ('needed', 0.9997959), ('home', 0.99979466), ('acropolis', 0.9997939), ('balcony', 0.99979293), ('excellent', 0.99979246), ('visit', 0.9997883), ('around', 0.9997882), ('room', 0.9997871), ('enjoyed', 0.9997853), ('many', 0.9997811), ('beautiful', 0.99978054), ('neighborhood', 0.9997802), ('stay', 0.99977475), ('met', 0.9997741), ('5', 0.9997736), ('need', 0.99977356), ('lovely', 0.99977136), ('space', 0.9997711), ('always', 0.9997677), ('view', 0.99976766), ('spacious', 0.99976736), ('friendly', 0.99976665), ('close', 0.9997654), ('wonderful', 0.99976027), ('clean', 0.99976003), ('felt', 0.9997532), ('located', 0.99974847), ('minutes', 0.9997471), ('metro', 0.99974), ('gave', 0.9997356), ('staying', 0.99973506), ('thank', 0.99973327), ('walk', 0.9997321), ('amazing', 0.9997312), ('rooftop', 0.99973077), ('safe', 0.9997288), ('station', 0.99972457), ('would', 0.999716), ('terrace', 0.99971324), ('feel', 0.9997045), ('restaurants', 0.99970436), ('convenient', 0.99970436), ('thanks', 0.99968576), ('fantastic', 0.99968076), ('soulas', 0.99967575), ('equipped', 0.99967086), ('central', 0.99966043), ('recommend', 0.9996337), ('definitely', 0.99957395), ('highly', 0.9995357), ('walking', 0.9994735), ('distance', 0.9991161)]\n",
            "terrace [('terrace', 1.0000002), ('area', 0.99981713), ('apartment', 0.9998095), ('street', 0.9998078), ('coffee', 0.9998018), ('great', 0.9998004), ('nice', 0.9997994), ('balcony', 0.9997991), ('location', 0.999798), ('view', 0.9997967), ('amazing', 0.9997947), ('day', 0.9997947), ('athens', 0.99979335), ('space', 0.9997931), ('well', 0.99979305), ('also', 0.99979293), ('place', 0.9997918), ('one', 0.999789), ('best', 0.9997886), ('night', 0.9997886), ('neighborhood', 0.99978745), ('many', 0.99978673), ('get', 0.9997864), ('away', 0.9997862), ('even', 0.9997856), ('acropolis', 0.9997833), ('flat', 0.9997826), ('city', 0.9997809), ('kitchen', 0.99978083), ('really', 0.9997803), ('time', 0.9997759), ('fotis', 0.99977565), ('could', 0.9997743), ('clean', 0.99977237), ('good', 0.9997693), ('helpful', 0.99976474), ('george', 0.99976385), ('much', 0.9997599), ('soula', 0.9997596), ('easy', 0.9997587), ('spacious', 0.9997578), ('stayed', 0.9997571), ('two', 0.99975467), ('beautiful', 0.9997543), ('located', 0.99975306), ('us', 0.9997517), ('comfortable', 0.9997517), ('go', 0.99975073), ('around', 0.9997494), ('room', 0.9997494), ('pygmalion', 0.99974644), ('host', 0.99974626), ('close', 0.9997447), ('metro', 0.99974257), ('perfect', 0.9997414), ('restaurants', 0.9997414), ('enjoyed', 0.99973965), ('excellent', 0.99973655), ('rooftop', 0.9997354), ('everything', 0.999735), ('lovely', 0.9997349), ('needed', 0.99973476), ('visit', 0.999733), ('minutes', 0.99973273), ('house', 0.99973196), ('station', 0.9997282), ('quiet', 0.99972796), ('haris', 0.9997263), ('experience', 0.99972445), ('convenient', 0.9997242), ('wonderful', 0.99972284), ('like', 0.9997223), ('stay', 0.999719), ('5', 0.9997174), ('home', 0.9997163), ('first', 0.99971324), ('need', 0.99970925), ('always', 0.99970216), ('made', 0.99970186), ('walk', 0.9997), ('back', 0.99969983), ('safe', 0.99968624), ('thank', 0.99967957), ('staying', 0.99967664), ('equipped', 0.9996763), ('felt', 0.9996616), ('central', 0.9996568), ('fantastic', 0.9996553), ('met', 0.99965215), ('gave', 0.99964345), ('would', 0.9996259), ('friendly', 0.99962157), ('feel', 0.9996207), ('soulas', 0.9996127), ('thanks', 0.99960655), ('recommend', 0.99956226), ('highly', 0.9994838), ('definitely', 0.9994758), ('walking', 0.99944633), ('distance', 0.9992887)]\n",
            "balcony [('balcony', 0.9999998), ('day', 0.99989766), ('also', 0.9998901), ('one', 0.9998884), ('flat', 0.99988484), ('area', 0.999882), ('night', 0.999882), ('apartment', 0.9998809), ('street', 0.9998744), ('best', 0.9998725), ('coffee', 0.9998676), ('even', 0.99986744), ('away', 0.9998671), ('nice', 0.9998666), ('fotis', 0.99986184), ('time', 0.99986064), ('house', 0.99986005), ('neighborhood', 0.9998591), ('kitchen', 0.9998583), ('well', 0.99985754), ('athens', 0.999857), ('good', 0.999857), ('city', 0.9998567), ('great', 0.99985594), ('much', 0.9998533), ('two', 0.99984914), ('could', 0.99984854), ('place', 0.9998482), ('experience', 0.9998473), ('really', 0.999847), ('like', 0.99984604), ('quiet', 0.9998441), ('easy', 0.9998436), ('stayed', 0.9998419), ('george', 0.9998415), ('acropolis', 0.9998398), ('space', 0.9998398), ('enjoyed', 0.9998395), ('need', 0.99983907), ('around', 0.99983823), ('many', 0.9998375), ('get', 0.99983585), ('perfect', 0.9998357), ('room', 0.99983543), ('us', 0.9998349), ('helpful', 0.9998349), ('location', 0.9998318), ('stay', 0.9998317), ('lovely', 0.99983144), ('excellent', 0.9998307), ('go', 0.9998304), ('host', 0.9998299), ('metro', 0.99982655), ('5', 0.99982643), ('close', 0.9998255), ('spacious', 0.99982464), ('soula', 0.9998221), ('clean', 0.9998212), ('always', 0.999821), ('view', 0.99982035), ('restaurants', 0.9998195), ('minutes', 0.9998189), ('beautiful', 0.99981725), ('pygmalion', 0.9998166), ('everything', 0.9998124), ('comfortable', 0.9998116), ('wonderful', 0.9998105), ('needed', 0.9998102), ('located', 0.99980694), ('station', 0.999805), ('amazing', 0.9998041), ('haris', 0.9997993), ('terrace', 0.9997991), ('home', 0.9997978), ('first', 0.99979293), ('made', 0.9997929), ('back', 0.99978703), ('safe', 0.9997866), ('visit', 0.9997853), ('rooftop', 0.9997835), ('convenient', 0.9997798), ('walk', 0.9997669), ('thank', 0.99976546), ('equipped', 0.999764), ('met', 0.99976355), ('felt', 0.9997576), ('staying', 0.99975485), ('central', 0.99975395), ('feel', 0.99975085), ('friendly', 0.9997324), ('fantastic', 0.9997308), ('would', 0.9997097), ('gave', 0.99969506), ('soulas', 0.9996677), ('thanks', 0.99966264), ('recommend', 0.99963933), ('walking', 0.9995611), ('highly', 0.9995558), ('definitely', 0.9995395), ('distance', 0.9993386)]\n",
            "convenient [('convenient', 0.9999999), ('also', 0.99983263), ('area', 0.99982667), ('close', 0.9998219), ('acropolis', 0.99981666), ('well', 0.9998164), ('away', 0.999815), ('good', 0.9998149), ('street', 0.9998138), ('neighborhood', 0.99981284), ('could', 0.9998128), ('metro', 0.9998093), ('apartment', 0.9998077), ('5', 0.99980557), ('athens', 0.99980533), ('really', 0.99980396), ('easy', 0.9998037), ('get', 0.9998011), ('nice', 0.99980104), ('flat', 0.999799), ('city', 0.999799), ('space', 0.99979883), ('even', 0.99979717), ('day', 0.9997965), ('around', 0.99979454), ('minutes', 0.9997932), ('one', 0.99979186), ('coffee', 0.9997891), ('george', 0.9997884), ('fotis', 0.9997874), ('many', 0.99978703), ('location', 0.9997865), ('perfect', 0.9997865), ('great', 0.99978495), ('station', 0.99978244), ('best', 0.9997808), ('balcony', 0.9997798), ('quiet', 0.9997744), ('safe', 0.9997736), ('located', 0.9997733), ('time', 0.99977326), ('night', 0.99977326), ('place', 0.99977154), ('clean', 0.9997715), ('enjoyed', 0.99977046), ('walk', 0.99976945), ('everything', 0.99976885), ('comfortable', 0.99976885), ('need', 0.9997684), ('much', 0.9997684), ('two', 0.9997673), ('excellent', 0.9997649), ('house', 0.9997647), ('lovely', 0.99976444), ('go', 0.9997626), ('us', 0.99976), ('stay', 0.9997592), ('restaurants', 0.9997547), ('pygmalion', 0.9997537), ('wonderful', 0.99975216), ('kitchen', 0.9997521), ('stayed', 0.99975204), ('soula', 0.9997505), ('helpful', 0.99974895), ('room', 0.99974895), ('spacious', 0.9997485), ('needed', 0.99974185), ('experience', 0.99974126), ('amazing', 0.99974084), ('host', 0.99973893), ('beautiful', 0.9997319), ('always', 0.9997309), ('back', 0.9997282), ('terrace', 0.9997242), ('like', 0.9997235), ('haris', 0.99972236), ('met', 0.99972), ('view', 0.99971676), ('felt', 0.9997076), ('visit', 0.9997056), ('first', 0.99970436), ('made', 0.99969935), ('central', 0.9996943), ('home', 0.9996942), ('rooftop', 0.999694), ('equipped', 0.9996831), ('thank', 0.9996712), ('feel', 0.9996533), ('fantastic', 0.9996529), ('friendly', 0.99964887), ('would', 0.9996422), ('staying', 0.9996373), ('gave', 0.9995982), ('soulas', 0.99959123), ('walking', 0.9995888), ('recommend', 0.99958515), ('thanks', 0.99957323), ('definitely', 0.9995102), ('highly', 0.99948156), ('distance', 0.99936306)]\n",
            "equipped [('equipped', 0.99999994), ('really', 0.99980104), ('apartment', 0.99979484), ('kitchen', 0.9997901), ('nice', 0.99978894), ('also', 0.999784), ('coffee', 0.9997805), ('flat', 0.9997801), ('area', 0.99977124), ('well', 0.9997706), ('one', 0.9997697), ('much', 0.9997686), ('neighborhood', 0.9997678), ('day', 0.9997668), ('good', 0.99976456), ('balcony', 0.999764), ('quiet', 0.99976385), ('clean', 0.9997636), ('night', 0.9997627), ('need', 0.99976254), ('street', 0.9997602), ('best', 0.9997592), ('fotis', 0.9997591), ('even', 0.9997588), ('place', 0.99975824), ('stayed', 0.99975795), ('time', 0.9997574), ('excellent', 0.9997574), ('athens', 0.9997551), ('great', 0.99975365), ('beautiful', 0.9997523), ('house', 0.99975115), ('helpful', 0.99975073), ('perfect', 0.9997487), ('spacious', 0.9997484), ('comfortable', 0.999743), ('always', 0.999743), ('host', 0.99974275), ('away', 0.99974203), ('like', 0.99973947), ('many', 0.99973947), ('enjoyed', 0.99973947), ('located', 0.9997389), ('us', 0.9997351), ('stay', 0.99973404), ('george', 0.9997319), ('everything', 0.9997312), ('lovely', 0.9997286), ('around', 0.99972737), ('close', 0.99972385), ('get', 0.9997238), ('pygmalion', 0.99972165), ('needed', 0.99972093), ('city', 0.9997202), ('room', 0.99971926), ('soula', 0.9997183), ('go', 0.99971694), ('two', 0.99971515), ('space', 0.99971473), ('easy', 0.9997139), ('acropolis', 0.9997134), ('visit', 0.999708), ('location', 0.99970496), ('haris', 0.99970436), ('wonderful', 0.9997034), ('could', 0.9997034), ('metro', 0.9996996), ('felt', 0.99969804), ('5', 0.9996927), ('home', 0.99969053), ('central', 0.99969023), ('safe', 0.9996887), ('made', 0.9996858), ('convenient', 0.9996831), ('terrace', 0.9996763), ('minutes', 0.9996753), ('experience', 0.99967515), ('fantastic', 0.9996751), ('back', 0.999675), ('thank', 0.99967295), ('first', 0.99967086), ('view', 0.99967027), ('restaurants', 0.9996689), ('station', 0.9996513), ('amazing', 0.9996506), ('friendly', 0.99964947), ('rooftop', 0.999648), ('met', 0.9996472), ('walk', 0.9996424), ('recommend', 0.9996096), ('feel', 0.9996079), ('staying', 0.9996044), ('would', 0.9995893), ('soulas', 0.9995866), ('thanks', 0.9995827), ('gave', 0.99957204), ('definitely', 0.9995177), ('highly', 0.99947524), ('walking', 0.9994341), ('distance', 0.9991283)]\n",
            "5 [('5', 0.9999999), ('street', 0.9998674), ('good', 0.9998672), ('also', 0.9998646), ('away', 0.99986315), ('fotis', 0.999863), ('night', 0.9998608), ('best', 0.9998592), ('minutes', 0.9998581), ('even', 0.999857), ('walk', 0.99985623), ('close', 0.9998562), ('area', 0.99985564), ('athens', 0.999855), ('one', 0.99985373), ('city', 0.9998536), ('flat', 0.9998531), ('apartment', 0.9998523), ('station', 0.99985063), ('nice', 0.99985045), ('us', 0.9998469), ('could', 0.99984556), ('well', 0.99984425), ('metro', 0.9998438), ('around', 0.99984276), ('day', 0.9998427), ('many', 0.9998409), ('neighborhood', 0.99983954), ('much', 0.9998395), ('great', 0.99983615), ('get', 0.99983615), ('location', 0.9998352), ('acropolis', 0.9998351), ('excellent', 0.99983364), ('george', 0.9998307), ('place', 0.9998292), ('helpful', 0.99982905), ('easy', 0.9998274), ('balcony', 0.99982643), ('perfect', 0.99982566), ('really', 0.9998255), ('two', 0.9998239), ('house', 0.9998238), ('coffee', 0.9998221), ('host', 0.99981916), ('room', 0.9998183), ('pygmalion', 0.99981624), ('need', 0.9998159), ('time', 0.9998156), ('quiet', 0.99981326), ('lovely', 0.99980927), ('located', 0.9998076), ('clean', 0.9998058), ('go', 0.99980557), ('convenient', 0.99980557), ('stayed', 0.9998028), ('restaurants', 0.9998025), ('wonderful', 0.9998017), ('like', 0.9998013), ('needed', 0.9998008), ('kitchen', 0.9998003), ('space', 0.9997999), ('comfortable', 0.999799), ('spacious', 0.9997946), ('experience', 0.99979377), ('made', 0.9997929), ('soula', 0.99979204), ('enjoyed', 0.99979025), ('everything', 0.99978745), ('safe', 0.9997808), ('home', 0.9997801), ('stay', 0.99977857), ('view', 0.99977726), ('met', 0.9997752), ('first', 0.9997736), ('always', 0.9997736), ('back', 0.9997711), ('haris', 0.99976325), ('beautiful', 0.9997616), ('rooftop', 0.99975985), ('visit', 0.9997585), ('felt', 0.99975455), ('amazing', 0.99973893), ('central', 0.9997251), ('thank', 0.99972254), ('staying', 0.99972177), ('terrace', 0.9997174), ('friendly', 0.99971735), ('fantastic', 0.99971235), ('equipped', 0.9996927), ('would', 0.99969256), ('gave', 0.9996793), ('feel', 0.99967366), ('thanks', 0.9996462), ('soulas', 0.99963295), ('recommend', 0.9996264), ('walking', 0.99961525), ('definitely', 0.999543), ('highly', 0.99953914), ('distance', 0.99935657)]\n",
            "house [('house', 0.9999998), ('apartment', 0.9998816), ('athens', 0.99987465), ('day', 0.9998731), ('time', 0.9998715), ('good', 0.9998714), ('also', 0.9998696), ('nice', 0.99986947), ('street', 0.9998663), ('perfect', 0.9998662), ('best', 0.999866), ('much', 0.99986595), ('place', 0.9998641), ('city', 0.999864), ('even', 0.99986386), ('flat', 0.9998636), ('one', 0.9998636), ('area', 0.99986243), ('fotis', 0.99986136), ('coffee', 0.99986136), ('could', 0.99986124), ('balcony', 0.99986005), ('well', 0.9998594), ('everything', 0.9998587), ('us', 0.9998558), ('helpful', 0.9998549), ('great', 0.9998542), ('location', 0.999854), ('room', 0.99985325), ('easy', 0.9998526), ('kitchen', 0.9998525), ('neighborhood', 0.99985224), ('night', 0.99985224), ('need', 0.99984795), ('like', 0.99984777), ('made', 0.999845), ('get', 0.99984473), ('needed', 0.99984455), ('many', 0.9998444), ('host', 0.99984187), ('spacious', 0.99984187), ('really', 0.99984175), ('george', 0.9998396), ('away', 0.99983895), ('go', 0.99983793), ('enjoyed', 0.9998351), ('excellent', 0.99983335), ('lovely', 0.9998288), ('quiet', 0.9998287), ('space', 0.99982864), ('stayed', 0.999828), ('comfortable', 0.99982613), ('experience', 0.99982536), ('always', 0.9998246), ('two', 0.9998243), ('5', 0.9998238), ('stay', 0.99982375), ('beautiful', 0.9998234), ('soula', 0.9998231), ('close', 0.9998205), ('home', 0.9998192), ('clean', 0.9998175), ('around', 0.99981713), ('acropolis', 0.9998164), ('pygmalion', 0.9998163), ('metro', 0.99981624), ('minutes', 0.9998136), ('back', 0.9998103), ('first', 0.9998081), ('located', 0.9998047), ('station', 0.9998041), ('visit', 0.9998), ('view', 0.99979967), ('safe', 0.999791), ('haris', 0.9997838), ('restaurants', 0.9997751), ('wonderful', 0.99977475), ('amazing', 0.9997745), ('felt', 0.9997738), ('thank', 0.99977267), ('met', 0.9997715), ('friendly', 0.9997708), ('convenient', 0.9997647), ('rooftop', 0.9997616), ('walk', 0.99975944), ('staying', 0.999759), ('equipped', 0.99975115), ('central', 0.9997508), ('fantastic', 0.9997396), ('would', 0.99973905), ('terrace', 0.99973196), ('feel', 0.9997279), ('gave', 0.9997166), ('soulas', 0.9996671), ('recommend', 0.99965674), ('thanks', 0.99965197), ('definitely', 0.9995933), ('highly', 0.9995572), ('walking', 0.9995504), ('distance', 0.999335)]\n",
            "felt [('felt', 1.0), ('apartment', 0.99981815), ('also', 0.9998113), ('even', 0.99981105), ('like', 0.9998108), ('one', 0.9998023), ('great', 0.99980134), ('area', 0.99979967), ('good', 0.9997987), ('flat', 0.9997984), ('day', 0.9997978), ('athens', 0.9997971), ('time', 0.9997968), ('fotis', 0.9997959), ('best', 0.9997939), ('coffee', 0.9997935), ('nice', 0.9997934), ('needed', 0.99979097), ('really', 0.9997909), ('place', 0.99979085), ('perfect', 0.99979013), ('excellent', 0.9997898), ('away', 0.99978966), ('well', 0.9997896), ('much', 0.99978876), ('street', 0.9997815), ('george', 0.9997814), ('neighborhood', 0.9997801), ('helpful', 0.99978006), ('comfortable', 0.9997777), ('many', 0.9997776), ('could', 0.9997769), ('experience', 0.99977446), ('house', 0.9997738), ('night', 0.9997734), ('lovely', 0.99977237), ('made', 0.999772), ('stayed', 0.99977195), ('host', 0.9997718), ('location', 0.99977136), ('us', 0.9997705), ('get', 0.9997701), ('need', 0.99976945), ('everything', 0.9997685), ('home', 0.9997682), ('clean', 0.999766), ('easy', 0.99976087), ('enjoyed', 0.99975866), ('soula', 0.999758), ('balcony', 0.9997576), ('quiet', 0.99975747), ('5', 0.99975455), ('city', 0.999754), ('first', 0.9997532), ('spacious', 0.9997505), ('go', 0.99974966), ('kitchen', 0.999749), ('close', 0.9997483), ('beautiful', 0.99974626), ('always', 0.99974626), ('haris', 0.9997422), ('space', 0.9997407), ('two', 0.9997405), ('around', 0.99973965), ('visit', 0.99973965), ('stay', 0.99973834), ('wonderful', 0.9997381), ('pygmalion', 0.9997357), ('room', 0.9997353), ('located', 0.9997299), ('acropolis', 0.99972516), ('feel', 0.9997217), ('metro', 0.99972117), ('minutes', 0.9997201), ('safe', 0.9997167), ('met', 0.9997149), ('convenient', 0.9997076), ('back', 0.9997068), ('restaurants', 0.99970114), ('equipped', 0.99969804), ('view', 0.99969727), ('fantastic', 0.99969435), ('thank', 0.99968976), ('walk', 0.9996856), ('station', 0.9996854), ('amazing', 0.9996821), ('rooftop', 0.9996768), ('friendly', 0.9996736), ('staying', 0.99966395), ('terrace', 0.9996616), ('gave', 0.99966145), ('central', 0.99965286), ('soulas', 0.999652), ('thanks', 0.9996494), ('would', 0.9996423), ('recommend', 0.9996114), ('definitely', 0.99950814), ('highly', 0.9994859), ('walking', 0.9994434), ('distance', 0.9991895)]\n",
            "always [('always', 0.9999999), ('day', 0.9998583), ('also', 0.99985474), ('apartment', 0.9998475), ('soula', 0.99984694), ('well', 0.9998403), ('need', 0.99983895), ('host', 0.9998375), ('helpful', 0.9998343), ('get', 0.99983394), ('stayed', 0.99983287), ('street', 0.9998327), ('perfect', 0.99983215), ('great', 0.99983186), ('coffee', 0.99983), ('good', 0.9998299), ('best', 0.9998296), ('us', 0.99982905), ('area', 0.9998281), ('one', 0.9998274), ('flat', 0.9998269), ('easy', 0.9998259), ('fotis', 0.9998257), ('quiet', 0.99982494), ('house', 0.9998246), ('needed', 0.99982345), ('spacious', 0.99982256), ('excellent', 0.99982166), ('even', 0.9998212), ('balcony', 0.999821), ('like', 0.99982023), ('really', 0.9998202), ('location', 0.9998194), ('nice', 0.9998189), ('time', 0.999818), ('city', 0.999818), ('night', 0.9998179), ('kitchen', 0.99981475), ('george', 0.99981326), ('room', 0.99981225), ('stay', 0.99981123), ('could', 0.99981105), ('everything', 0.9998103), ('comfortable', 0.99981004), ('go', 0.9998097), ('lovely', 0.9998078), ('athens', 0.9998077), ('neighborhood', 0.9998076), ('acropolis', 0.9998038), ('place', 0.9998007), ('many', 0.9998004), ('haris', 0.99979395), ('made', 0.999793), ('space', 0.9997899), ('away', 0.99978757), ('around', 0.99978733), ('much', 0.99978393), ('clean', 0.9997832), ('close', 0.9997826), ('home', 0.9997806), ('beautiful', 0.99977934), ('back', 0.99977905), ('wonderful', 0.99977833), ('two', 0.99977833), ('enjoyed', 0.99977636), ('pygmalion', 0.9997759), ('located', 0.99977374), ('5', 0.9997736), ('first', 0.9997677), ('amazing', 0.9997666), ('experience', 0.999766), ('station', 0.99976236), ('metro', 0.9997603), ('minutes', 0.9997586), ('visit', 0.9997531), ('felt', 0.99974626), ('central', 0.99974597), ('friendly', 0.9997459), ('equipped', 0.999743), ('restaurants', 0.99974054), ('met', 0.99973905), ('safe', 0.9997384), ('convenient', 0.9997309), ('staying', 0.9997304), ('view', 0.9997302), ('feel', 0.99972844), ('thank', 0.9997225), ('rooftop', 0.9997202), ('terrace', 0.99970216), ('would', 0.9996956), ('walk', 0.9996921), ('gave', 0.99968), ('fantastic', 0.99967974), ('recommend', 0.9996548), ('thanks', 0.9996377), ('soulas', 0.9996286), ('definitely', 0.9995543), ('highly', 0.9995094), ('walking', 0.99949837), ('distance', 0.9992876)]\n",
            "feel [('feel', 0.9999998), ('also', 0.99982667), ('even', 0.99980974), ('day', 0.9997915), ('fotis', 0.99978733), ('us', 0.99978364), ('area', 0.99978113), ('helpful', 0.9997745), ('like', 0.99977386), ('coffee', 0.9997738), ('well', 0.999771), ('one', 0.9997706), ('made', 0.9997705), ('apartment', 0.9997671), ('time', 0.9997645), ('easy', 0.9997644), ('need', 0.9997641), ('street', 0.99976337), ('host', 0.99976194), ('everything', 0.9997607), ('could', 0.99975777), ('nice', 0.9997573), ('great', 0.99975604), ('experience', 0.99975485), ('really', 0.99975467), ('soula', 0.9997526), ('perfect', 0.9997524), ('pygmalion', 0.9997523), ('balcony', 0.99975085), ('george', 0.9997484), ('night', 0.9997482), ('kitchen', 0.999748), ('excellent', 0.99974793), ('flat', 0.99974763), ('athens', 0.99974716), ('go', 0.99974537), ('around', 0.9997443), ('city', 0.9997434), ('get', 0.9997432), ('quiet', 0.9997414), ('best', 0.9997402), ('neighborhood', 0.99973994), ('wonderful', 0.999736), ('haris', 0.9997356), ('comfortable', 0.999734), ('place', 0.9997327), ('room', 0.99973226), ('much', 0.9997303), ('needed', 0.9997302), ('good', 0.99973005), ('lovely', 0.99972856), ('always', 0.99972844), ('house', 0.9997279), ('stayed', 0.9997274), ('many', 0.99972683), ('home', 0.9997242), ('close', 0.9997239), ('location', 0.9997221), ('felt', 0.9997217), ('away', 0.99971706), ('met', 0.9997098), ('enjoyed', 0.9997091), ('spacious', 0.999705), ('first', 0.9997045), ('two', 0.99970436), ('clean', 0.99970347), ('space', 0.99969894), ('back', 0.9996982), ('located', 0.9996963), ('friendly', 0.9996908), ('metro', 0.9996837), ('restaurants', 0.9996819), ('visit', 0.9996796), ('stay', 0.99967843), ('view', 0.99967706), ('beautiful', 0.9996748), ('gave', 0.99967444), ('5', 0.99967366), ('station', 0.9996724), ('acropolis', 0.999669), ('safe', 0.999666), ('convenient', 0.9996533), ('minutes', 0.99964726), ('central', 0.999647), ('rooftop', 0.9996456), ('thank', 0.9996297), ('walk', 0.99962133), ('terrace', 0.9996207), ('staying', 0.9996163), ('equipped', 0.9996079), ('amazing', 0.99960446), ('would', 0.99960124), ('thanks', 0.99959403), ('fantastic', 0.999589), ('recommend', 0.9995591), ('soulas', 0.9995551), ('definitely', 0.9994523), ('walking', 0.99943167), ('highly', 0.9994116), ('distance', 0.9991566)]\n"
          ]
        }
      ]
    },
    {
      "cell_type": "markdown",
      "source": [
        "Function to calculate the semantic neighborhood of two words and the 3 divider similarities"
      ],
      "metadata": {
        "id": "fIvDC4mrpXNo"
      }
    },
    {
      "cell_type": "code",
      "source": [
        "from scipy.stats import pearsonr\n",
        "import math\n",
        "\n",
        "def similarity_neighbourhood(x_word, y_word, N):\n",
        "  neighbourhood_x_word = []\n",
        "  neighbourhood_y_word = []\n",
        "  S_w1_N1 = []\n",
        "  S_w2_N2 = []\n",
        "\n",
        "  # Loop through Dictionary\n",
        "  for x,y in similarities_dict.items():\n",
        "    if x_word == x:\n",
        "      print(f\"Similarity Neighbourhood for Word '{x_word}' of {N} items: {y[1:N+1]}\")\n",
        "      neighbourhood_x_word = y[1:N+1]\n",
        "      for items in neighbourhood_x_word:\n",
        "        S_w1_N1.append(items[1])\n",
        "      print(\"\\n\")\n",
        "\n",
        "    if y_word == x:\n",
        "      print(f\"Similarity Neighbourhood for Word '{y_word}' of {N} items: {y[1:N+1]}\")\n",
        "      neighbourhood_y_word = y[1:N+1]\n",
        "      for items in neighbourhood_y_word:\n",
        "        S_w2_N2.append(items[1])\n",
        "      print(\"\\n\")\n",
        "\n",
        "  print(\"Calculating Similarity (a):\")\n",
        "  print(f\"For word '{x_word}': \")\n",
        "  x_max = -100\n",
        "  y_max = -100\n",
        "  max_x_word = ''\n",
        "  max_y_word = ''\n",
        "\n",
        "  # Variables to keep all similarities between neighbourhoods\n",
        "  cor_x = []\n",
        "  cor_y = []\n",
        "  for i, word_i in enumerate(most_commonly_used_words):\n",
        "    if x_word == word_i:\n",
        "      for j, word_j in enumerate(most_commonly_used_words):\n",
        "        if any(word_j == tup[0] for tup in neighbourhood_y_word):\n",
        "          print(f\"Similarity ({word_i}, {word_j}) : {cosine_similarities[i][j]}\")\n",
        "          similarity = cosine_similarities[i][j]\n",
        "          cor_x.append((word_j, similarity))\n",
        "          if cosine_similarities[i][j] > x_max:\n",
        "            x_max = cosine_similarities[i][j]\n",
        "            max_x_word = word_j\n",
        "\n",
        "  print(\"\\n\")\n",
        "  print(f\"For word '{y_word}': \")\n",
        "  for i, word_i in enumerate(most_commonly_used_words):\n",
        "    if y_word == word_i:\n",
        "      for j, word_j in enumerate(most_commonly_used_words):\n",
        "        if any(word_j == tup[0] for tup in neighbourhood_x_word):\n",
        "          print(f\"Similarity ({word_i}, {word_j}) : {cosine_similarities[i][j]}\")\n",
        "          similarity = cosine_similarities[i][j]\n",
        "          cor_y.append((word_j, similarity))\n",
        "          if cosine_similarities[i][j] > y_max:\n",
        "            y_max = cosine_similarities[i][j]\n",
        "            max_y_word = word_j\n",
        "\n",
        "  print(\"\\n\")\n",
        "\n",
        "  if (x_max > y_max):\n",
        "    print(f\"Similarity Max ({x_word}, {max_x_word}) : {x_max}\")\n",
        "  else:\n",
        "    print(f\"Similarity Max ({y_word}, {max_y_word}) : {y_max}\")\n",
        "\n",
        "  print(\"\\n\")\n",
        "  print(\"Calculating similarity (b):\")\n",
        "\n",
        "  S_w1_N2 = []\n",
        "  for x in cor_x:\n",
        "    S_w1_N2.append(x[1])\n",
        "\n",
        "  S_w2_N1 = []\n",
        "  for y in cor_y:\n",
        "    S_w2_N1.append(y[1])\n",
        "\n",
        "  # Calculate Pearson Correlation Coefficient\n",
        "  beta_ij = pearsonr(S_w1_N1, S_w2_N1)\n",
        "  beta_ji = pearsonr(S_w1_N2, S_w2_N2)\n",
        "\n",
        "  # Determine Rn(wi, wj)\n",
        "  Rn_wi_wj = max(beta_ij, beta_ji)\n",
        "\n",
        "  print(f\"Similarity Rn(wi, wj): {Rn_wi_wj}\")\n",
        "  print(\"\\n\")\n",
        "\n",
        "  print(\"Calculating similarity (c):\")\n",
        "\n",
        "  sum_w1 = 0\n",
        "  sum_w2 = 0\n",
        "\n",
        "  for i in S_w1_N2:\n",
        "    sum_w2 += i ** 2\n",
        "\n",
        "  for i in S_w2_N1:\n",
        "    sum_w2 += i ** 2\n",
        "\n",
        "  sum = math.sqrt(sum_w1 + sum_w2)\n",
        "  print(f\"Sum of squared neighbourhood similarities: {sum}\")\n",
        "\n",
        "# Test Function\n",
        "similarity_neighbourhood(\"metro\", \"clean\", 3)\n"
      ],
      "metadata": {
        "colab": {
          "base_uri": "https://localhost:8080/"
        },
        "id": "uE3ZIgfBpvND",
        "outputId": "b6f30474-69d2-460c-f5ae-bc2dc8acbe2d"
      },
      "execution_count": 27,
      "outputs": [
        {
          "output_type": "stream",
          "name": "stdout",
          "text": [
            "Similarity Neighbourhood for Word 'clean' of 3 items: [('apartment', 0.99989134), ('athens', 0.9998611), ('really', 0.9998578)]\n",
            "\n",
            "\n",
            "Similarity Neighbourhood for Word 'metro' of 3 items: [('also', 0.99987537), ('acropolis', 0.99987274), ('away', 0.9998638)]\n",
            "\n",
            "\n",
            "Calculating Similarity (a):\n",
            "For word 'metro': \n",
            "Similarity (metro, apartment) : 0.9998447895050049\n",
            "Similarity (metro, athens) : 0.9998186826705933\n",
            "Similarity (metro, really) : 0.9998267889022827\n",
            "\n",
            "\n",
            "For word 'clean': \n",
            "Similarity (clean, also) : 0.9998393654823303\n",
            "Similarity (clean, acropolis) : 0.9997844696044922\n",
            "Similarity (clean, away) : 0.9998079538345337\n",
            "\n",
            "\n",
            "Similarity Max (metro, apartment) : 0.9998447895050049\n",
            "\n",
            "\n",
            "Calculating similarity (b):\n",
            "Similarity Rn(wi, wj): PearsonRResult(statistic=0.9216118165911042, pvalue=0.2537459143985169)\n",
            "\n",
            "\n",
            "Calculating similarity (c):\n",
            "Sum of squared neighbourhood similarities: 2.4490496720371677\n"
          ]
        }
      ]
    }
  ]
}