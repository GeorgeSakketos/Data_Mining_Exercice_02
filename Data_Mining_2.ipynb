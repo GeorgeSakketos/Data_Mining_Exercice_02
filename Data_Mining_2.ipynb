{
  "nbformat": 4,
  "nbformat_minor": 0,
  "metadata": {
    "colab": {
      "provenance": [],
      "authorship_tag": "ABX9TyNNIwFSg36B4ZdlIFC6lBQ+",
      "include_colab_link": true
    },
    "kernelspec": {
      "name": "python3",
      "display_name": "Python 3"
    },
    "language_info": {
      "name": "python"
    }
  },
  "cells": [
    {
      "cell_type": "markdown",
      "metadata": {
        "id": "view-in-github",
        "colab_type": "text"
      },
      "source": [
        "<a href=\"https://colab.research.google.com/github/GeorgeSakketos/Data_Mining_Exercice_02/blob/main/Data_Mining_2.ipynb\" target=\"_parent\"><img src=\"https://colab.research.google.com/assets/colab-badge.svg\" alt=\"Open In Colab\"/></a>"
      ]
    },
    {
      "cell_type": "markdown",
      "source": [
        "# **Τεχνικές Εξόρυξης Δεδομένων**\n",
        "## **Εργασία 2**\n",
        "**Σακκέτος Γεώργιος - 1115202000177**\n",
        "\n",
        "**Γαλανός Αλέξανδρος - 1115201900032**"
      ],
      "metadata": {
        "id": "4KrUM0GsaTsh"
      }
    },
    {
      "cell_type": "markdown",
      "source": [
        "# Connect Google Drive"
      ],
      "metadata": {
        "id": "MZdDfwfDvOM7"
      }
    },
    {
      "cell_type": "code",
      "execution_count": 68,
      "metadata": {
        "colab": {
          "base_uri": "https://localhost:8080/"
        },
        "id": "4dQ4s_a3um25",
        "outputId": "52b6911d-4366-4cfb-b717-d34a20737355"
      },
      "outputs": [
        {
          "output_type": "stream",
          "name": "stdout",
          "text": [
            "Drive already mounted at /content/gdrive; to attempt to forcibly remount, call drive.mount(\"/content/gdrive\", force_remount=True).\n"
          ]
        }
      ],
      "source": [
        "from google.colab import drive\n",
        "drive.mount('/content/gdrive')"
      ]
    },
    {
      "cell_type": "markdown",
      "source": [
        "# **Μέρος 1**"
      ],
      "metadata": {
        "id": "nXBBv32iv6ju"
      }
    },
    {
      "cell_type": "code",
      "source": [
        "# Dependences\n",
        "!pip install transformers langdetect langid"
      ],
      "metadata": {
        "colab": {
          "base_uri": "https://localhost:8080/"
        },
        "id": "n-07vLa03J--",
        "outputId": "94d791d9-b094-4df9-90af-f56f65d81c14"
      },
      "execution_count": 69,
      "outputs": [
        {
          "output_type": "stream",
          "name": "stdout",
          "text": [
            "Requirement already satisfied: transformers in /usr/local/lib/python3.10/dist-packages (4.41.1)\n",
            "Requirement already satisfied: langdetect in /usr/local/lib/python3.10/dist-packages (1.0.9)\n",
            "Requirement already satisfied: langid in /usr/local/lib/python3.10/dist-packages (1.1.6)\n",
            "Requirement already satisfied: filelock in /usr/local/lib/python3.10/dist-packages (from transformers) (3.14.0)\n",
            "Requirement already satisfied: huggingface-hub<1.0,>=0.23.0 in /usr/local/lib/python3.10/dist-packages (from transformers) (0.23.1)\n",
            "Requirement already satisfied: numpy>=1.17 in /usr/local/lib/python3.10/dist-packages (from transformers) (1.25.2)\n",
            "Requirement already satisfied: packaging>=20.0 in /usr/local/lib/python3.10/dist-packages (from transformers) (24.0)\n",
            "Requirement already satisfied: pyyaml>=5.1 in /usr/local/lib/python3.10/dist-packages (from transformers) (6.0.1)\n",
            "Requirement already satisfied: regex!=2019.12.17 in /usr/local/lib/python3.10/dist-packages (from transformers) (2024.5.15)\n",
            "Requirement already satisfied: requests in /usr/local/lib/python3.10/dist-packages (from transformers) (2.31.0)\n",
            "Requirement already satisfied: tokenizers<0.20,>=0.19 in /usr/local/lib/python3.10/dist-packages (from transformers) (0.19.1)\n",
            "Requirement already satisfied: safetensors>=0.4.1 in /usr/local/lib/python3.10/dist-packages (from transformers) (0.4.3)\n",
            "Requirement already satisfied: tqdm>=4.27 in /usr/local/lib/python3.10/dist-packages (from transformers) (4.66.4)\n",
            "Requirement already satisfied: six in /usr/local/lib/python3.10/dist-packages (from langdetect) (1.16.0)\n",
            "Requirement already satisfied: fsspec>=2023.5.0 in /usr/local/lib/python3.10/dist-packages (from huggingface-hub<1.0,>=0.23.0->transformers) (2023.6.0)\n",
            "Requirement already satisfied: typing-extensions>=3.7.4.3 in /usr/local/lib/python3.10/dist-packages (from huggingface-hub<1.0,>=0.23.0->transformers) (4.11.0)\n",
            "Requirement already satisfied: charset-normalizer<4,>=2 in /usr/local/lib/python3.10/dist-packages (from requests->transformers) (3.3.2)\n",
            "Requirement already satisfied: idna<4,>=2.5 in /usr/local/lib/python3.10/dist-packages (from requests->transformers) (3.7)\n",
            "Requirement already satisfied: urllib3<3,>=1.21.1 in /usr/local/lib/python3.10/dist-packages (from requests->transformers) (2.0.7)\n",
            "Requirement already satisfied: certifi>=2017.4.17 in /usr/local/lib/python3.10/dist-packages (from requests->transformers) (2024.2.2)\n"
          ]
        }
      ]
    },
    {
      "cell_type": "code",
      "source": [
        "import pandas as pd\n",
        "import numpy as np\n",
        "from transformers import pipeline\n",
        "from nltk.corpus import stopwords\n",
        "from nltk.tokenize import word_tokenize\n",
        "from collections import Counter\n",
        "from gensim.models import Word2Vec\n",
        "from langdetect import detect\n",
        "import string\n",
        "import re\n",
        "import nltk\n",
        "import sys\n",
        "\n",
        "nltk.download('stopwords')\n",
        "nltk.download('punkt')\n",
        "\n",
        "print('Python version ' + sys.version)\n",
        "\n",
        "filePath = '/content/gdrive/My Drive/Data_Mining_CSV/2023/'"
      ],
      "metadata": {
        "colab": {
          "base_uri": "https://localhost:8080/"
        },
        "id": "bdZa0I-Av91k",
        "outputId": "7447e76a-5fea-4f1f-e858-81db3f1fdc9c"
      },
      "execution_count": 70,
      "outputs": [
        {
          "output_type": "stream",
          "name": "stdout",
          "text": [
            "Python version 3.10.12 (main, Nov 20 2023, 15:14:05) [GCC 11.4.0]\n"
          ]
        },
        {
          "output_type": "stream",
          "name": "stderr",
          "text": [
            "[nltk_data] Downloading package stopwords to /root/nltk_data...\n",
            "[nltk_data]   Package stopwords is already up-to-date!\n",
            "[nltk_data] Downloading package punkt to /root/nltk_data...\n",
            "[nltk_data]   Package punkt is already up-to-date!\n"
          ]
        }
      ]
    },
    {
      "cell_type": "markdown",
      "source": [
        "June"
      ],
      "metadata": {
        "id": "RH241NuNwR-_"
      }
    },
    {
      "cell_type": "code",
      "source": [
        "#Read June CSV\n",
        "filePath_june = filePath + 'june/'\n",
        "june_listings_2023 = pd.read_csv(filePath_june + 'reviews.csv', thousands = ',')\n",
        "\n",
        "# Keep the Columns we want\n",
        "june_listings_2023 = june_listings_2023[['id', 'comments']]"
      ],
      "metadata": {
        "id": "u3tj4rwCwcRq"
      },
      "execution_count": 71,
      "outputs": []
    },
    {
      "cell_type": "markdown",
      "source": [
        "March"
      ],
      "metadata": {
        "id": "5TzNcxdqxNMv"
      }
    },
    {
      "cell_type": "code",
      "source": [
        "#Read March CSV\n",
        "filePath_march = filePath + 'march/'\n",
        "march_listings_2023 = pd.read_csv(filePath_march + 'reviews.csv', thousands = ',')\n",
        "\n",
        "# Keep the Columns we want\n",
        "march_listings_2023 = march_listings_2023[['id', 'comments']]"
      ],
      "metadata": {
        "id": "fIvfoEyexO0c"
      },
      "execution_count": 72,
      "outputs": []
    },
    {
      "cell_type": "markdown",
      "source": [
        "September"
      ],
      "metadata": {
        "id": "ym515YjTxXlH"
      }
    },
    {
      "cell_type": "code",
      "source": [
        "#Read September CSV\n",
        "filePath_september = filePath + 'september/'\n",
        "september_listings_2023 = pd.read_csv(filePath_september + 'reviews.csv', thousands = ',')\n",
        "\n",
        "# Keep the Columns we want\n",
        "september_listings_2023 = september_listings_2023[['id', 'comments']]"
      ],
      "metadata": {
        "id": "hvbF98d0xZAZ"
      },
      "execution_count": 73,
      "outputs": []
    },
    {
      "cell_type": "markdown",
      "source": [
        "Combine Dataframes"
      ],
      "metadata": {
        "id": "m0jmWxt6xora"
      }
    },
    {
      "cell_type": "code",
      "source": [
        "dfs = [june_listings_2023, march_listings_2023, september_listings_2023]\n",
        "\n",
        "# Combine June, March and September into one Dataframe\n",
        "final_reviews_2023 = pd.concat(dfs, ignore_index = True)\n",
        "\n",
        "# Reset Index\n",
        "final_reviews_2023 = final_reviews_2023.reset_index(drop=True)"
      ],
      "metadata": {
        "id": "i6CxZwwSxqc6"
      },
      "execution_count": 74,
      "outputs": []
    },
    {
      "cell_type": "markdown",
      "source": [
        "Clean the Data"
      ],
      "metadata": {
        "id": "kqN5zbxWywqC"
      }
    },
    {
      "cell_type": "code",
      "source": [
        "# Rename 'comments' column to 'review'\n",
        "final_reviews_2023 = final_reviews_2023.rename(columns={\"comments\": \"review\"})\n",
        "\n",
        "# Remove NaN lines\n",
        "final_reviews_2023 = final_reviews_2023.dropna()\n",
        "\n",
        "# Remove Duplicate IDs\n",
        "final_reviews_2023 = final_reviews_2023.drop_duplicates(subset='id', keep='first')\n",
        "\n",
        "# Convert 'review' to lowercase\n",
        "final_reviews_2023['review'] = final_reviews_2023['review'].str.lower()\n",
        "\n",
        "# Remove emojis\n",
        "final_reviews_2023['review'] = final_reviews_2023['review'].str.replace(r'[\\U0001F600-\\U0001F64F]', '', regex=True)  # emoticons\n",
        "final_reviews_2023['review'] = final_reviews_2023['review'].str.replace(r'[\\U0001F300-\\U0001F5FF]', '', regex=True)  # symbols & pictographs\n",
        "final_reviews_2023['review'] = final_reviews_2023['review'].str.replace(r'[\\U0001F680-\\U0001F6FF]', '', regex=True)  # transport & map symbols\n",
        "final_reviews_2023['review'] = final_reviews_2023['review'].str.replace(r'[\\U0001F1E0-\\U0001F1FF]', '', regex=True)  # flags (iOS)\n",
        "\n",
        "# Remove URLs\n",
        "final_reviews_2023['review'] = final_reviews_2023['review'].str.replace(r'http\\S+|www.\\S+', '', regex=True)\n",
        "\n",
        "# Remove hashtags\n",
        "final_reviews_2023['review'] = final_reviews_2023['review'].str.replace(r'#\\w+', '', regex=True)\n",
        "\n",
        "# Remove special characters (keeping only alphanumeric and spaces)\n",
        "final_reviews_2023['review'] = final_reviews_2023['review'].str.replace(r'[^A-Za-z0-9 ]+', '', regex=True)\n",
        "\n",
        "# Remove stopwords\n",
        "stop_words = set(stopwords.words('english'))\n",
        "final_reviews_2023['review'] = final_reviews_2023['review'].apply(lambda x: ' '.join(word for word in x.split() if word not in stop_words))\n",
        "\n",
        "final_reviews_2023 = final_reviews_2023.reset_index(drop = True)\n",
        "pd.set_option('display.max_colwidth', None)\n",
        "print(final_reviews_2023['review'])"
      ],
      "metadata": {
        "collapsed": true,
        "id": "e4OC_0BcyyZC",
        "colab": {
          "base_uri": "https://localhost:8080/"
        },
        "outputId": "159bf2d9-09a6-41a2-97dd-4cf74cf1ee26"
      },
      "execution_count": 75,
      "outputs": [
        {
          "output_type": "stream",
          "name": "stdout",
          "text": [
            "0                                                                                                                                                                                                                                                                              apartment wonderful fully equiped beautiful decor comfortable verry clean would stay possibly another host properties close metro markets grocery store conveniences\n",
            "1         emmanouil excellent host provided us everything need make feel right home gave us tips directions destinations even prior trip kept close contact gave us specific easy instructions get place place spacious comfortable everything neat organized always great place come back adventurous day athens transportation easily accessible place located quiet neighborhood stay amazing experience wouldnt hesitate stay recommend friends\n",
            "2                                                                                                                                                                                        wife daughter spent five days beauty light colors athens also thanks home soula apartment enjoyed space indoor outdoor furniture paintings mosaics know soula person known loved taste generous hospitality therefore highly recommend apartment hope back\n",
            "3                                                                                                           great stay soulas apartment loved decoration furniture paintings mosaics amd relaxing terrace apartment good energy makes relax clean also close metro station taxi stop soula accessible ever needed anything responded immediately although dont know soula person like generous hospitalityi highly recommend staying hope visit day\n",
            "4                                                                                                                                                                          beautiful clean apartment plenty space stayed partner lovely time even though booked last minute like 8pm day arrived midnight soula incredibly kind arranged driver waiting pick us fully stocked cookware incredibly comfy sofa nice quiet evening perfect thank soula\n",
            "                                                                                                                                                                                                                            ...                                                                                                                                                                                                                    \n",
            "598926                                                                                                                                                                                                                                                                                                                                                                                                                                             \n",
            "598927                                                                                                                                                                                                                                                                                                                                                                                                                                           br\n",
            "598928                                                                                                                                                                                                                                                                                                                                                                                                                                             \n",
            "598929                                                                                                                                                                                                                                                                                                                                                                                                                                 br cozy brbr\n",
            "598930                                                                                                                                                                                                                                                                                                                                                                                                                                             \n",
            "Name: review, Length: 598931, dtype: object\n"
          ]
        }
      ]
    },
    {
      "cell_type": "markdown",
      "source": [
        "Export Dataframe to CSV"
      ],
      "metadata": {
        "id": "lMtScmkV0Qy9"
      }
    },
    {
      "cell_type": "code",
      "source": [
        "final_reviews_2023.to_csv('/content/gdrive/My Drive/Data_Mining_CSV/2023/comments_2023.csv', index = False)"
      ],
      "metadata": {
        "id": "JT1woIRP0S_N"
      },
      "execution_count": null,
      "outputs": []
    },
    {
      "cell_type": "markdown",
      "source": [
        "Open comments_2023 CSV"
      ],
      "metadata": {
        "id": "g3TcmoRt0asw"
      }
    },
    {
      "cell_type": "code",
      "source": [
        "final_reviews_2023 = pd.read_csv(filePath + 'comments_2023.csv')"
      ],
      "metadata": {
        "id": "4itHxfYSr8Iy"
      },
      "execution_count": null,
      "outputs": []
    },
    {
      "cell_type": "markdown",
      "source": [
        "Keep Only English Reviews"
      ],
      "metadata": {
        "id": "3KKAojV1In0s"
      }
    },
    {
      "cell_type": "code",
      "source": [
        "import langid\n",
        "\n",
        "def is_english(text):\n",
        "    lang, _ = langid.classify(text)\n",
        "    return lang == 'en'\n",
        "\n",
        "# Copy the first 50000 reviews and drop rows with NaN values in the 'review' column\n",
        "english_reviews_2023 = final_reviews_2023.head(10000).copy().dropna(subset=['review'])\n",
        "\n",
        "# Apply the is_english function\n",
        "english_reviews_2023.loc[:, 'is_english'] = english_reviews_2023['review'].apply(is_english)\n",
        "\n",
        "# Filter reviews that are in English\n",
        "english_reviews_2023 = english_reviews_2023[english_reviews_2023['is_english']]\n",
        "\n",
        "print(len(english_reviews_2023))"
      ],
      "metadata": {
        "colab": {
          "base_uri": "https://localhost:8080/"
        },
        "id": "uEk4rIchIpoc",
        "outputId": "6719075c-e293-48c9-a324-94121c0444b4"
      },
      "execution_count": 76,
      "outputs": [
        {
          "output_type": "stream",
          "name": "stdout",
          "text": [
            "8409\n"
          ]
        }
      ]
    },
    {
      "cell_type": "markdown",
      "source": [
        "Use HuggingFace Model"
      ],
      "metadata": {
        "id": "ryfKMyyAL4IN"
      }
    },
    {
      "cell_type": "code",
      "source": [
        "from transformers import AutoModelForSequenceClassification, AutoTokenizer\n",
        "import torch\n",
        "\n",
        "# Keep first 1000 reviews\n",
        "english_reviews_2023 = english_reviews_2023.head(1000)\n",
        "\n",
        "# Create a copy\n",
        "english_reviews_2023 = english_reviews_2023.copy()\n",
        "\n",
        "# Model\n",
        "model = AutoModelForSequenceClassification.from_pretrained(\"j-hartmann/sentiment-roberta-large-english-3-classes\")\n",
        "tokenizer = AutoTokenizer.from_pretrained(\"j-hartmann/sentiment-roberta-large-english-3-classes\")\n",
        "nlp = pipeline(\"text-classification\",model = model,tokenizer = tokenizer)\n",
        "\n",
        "# Batch Size (ex. 100)\n",
        "batch_size = 100\n",
        "\n",
        "# Function to split reviews into chunks and process them\n",
        "def batch_process_reviews(reviews, batch_size):\n",
        "  sentiments = []\n",
        "  for i in range(0, len(reviews), batch_size):\n",
        "    print(i)\n",
        "    batch = reviews[i:i + batch_size]\n",
        "    results = nlp(batch.tolist())\n",
        "    sentiments.extend([result['label'] for result in results])\n",
        "  return sentiments\n",
        "\n",
        "# Process reviews and get sentiments\n",
        "reviews = english_reviews_2023['review']\n",
        "english_reviews_2023['sentiment'] = batch_process_reviews(reviews, batch_size)\n",
        "\n",
        "print(english_reviews_2023.tail(30))"
      ],
      "metadata": {
        "colab": {
          "base_uri": "https://localhost:8080/"
        },
        "id": "bDCJez0TL6QN",
        "outputId": "b2c3d7fc-9c99-4c02-8ae0-97aebfd2860a"
      },
      "execution_count": 77,
      "outputs": [
        {
          "output_type": "stream",
          "name": "stderr",
          "text": [
            "Some weights of the model checkpoint at j-hartmann/sentiment-roberta-large-english-3-classes were not used when initializing RobertaForSequenceClassification: ['roberta.pooler.dense.bias', 'roberta.pooler.dense.weight']\n",
            "- This IS expected if you are initializing RobertaForSequenceClassification from the checkpoint of a model trained on another task or with another architecture (e.g. initializing a BertForSequenceClassification model from a BertForPreTraining model).\n",
            "- This IS NOT expected if you are initializing RobertaForSequenceClassification from the checkpoint of a model that you expect to be exactly identical (initializing a BertForSequenceClassification model from a BertForSequenceClassification model).\n"
          ]
        },
        {
          "output_type": "stream",
          "name": "stdout",
          "text": [
            "0\n",
            "100\n",
            "200\n",
            "300\n",
            "400\n",
            "500\n",
            "600\n",
            "700\n",
            "800\n",
            "900\n",
            "             id  \\\n",
            "1110  325940693   \n",
            "1111  326848221   \n",
            "1112  328803893   \n",
            "1113  330217569   \n",
            "1114  331654579   \n",
            "1115  333282759   \n",
            "1116  335111919   \n",
            "1117  337442666   \n",
            "1118  337943430   \n",
            "1121  349058830   \n",
            "1122  350360320   \n",
            "1123  351009537   \n",
            "1124   12142323   \n",
            "1125   12472095   \n",
            "1126   12602225   \n",
            "1127   12679419   \n",
            "1128   12754429   \n",
            "1129   12911514   \n",
            "1130   13027876   \n",
            "1131   13065404   \n",
            "1132   13252750   \n",
            "1133   13303995   \n",
            "1134   13359046   \n",
            "1135  356814855   \n",
            "1136  357432491   \n",
            "1137  366679751   \n",
            "1138  401591497   \n",
            "1139  405512113   \n",
            "1141  413801028   \n",
            "1142  418924706   \n",
            "\n",
            "                                                                                                                                                                                                                                                                                                                                                                                                                                                                                                                                                                                                                                                                                                                                                                                                                                                                                                                                                                                                      review  \\\n",
            "1110                                                                                                                                                                                                                                                                                                                                                                                                                              haris home great stylish home wonderful rooftop view athens acropolis rooftop jacuzzi fantastic end day full exhausting walking sight seeing bri highly recommend haris placebrthe thing note bit far terms walking itll take around 35 minutes walk touristy nightlife area athens walk home take edgy looking neighborhoods areas however area haris home safe nice brnevertheless touristy areas acropolis 3 4 stops 10 minutes haris place metro station 510 minutes walking brwe good experience haris good communication helping us highly recommend stay haris home   \n",
            "1111                                                                                                                                                                                                                                                                                                                                                                                                                                                                                                                                                                                                                                                                                                                                                                                                                                                                                                                                                                                nice flat definitly come   \n",
            "1112                                                                                                                                                                                                                                                                                                                                                                                                                                                                                                                                                                                                                                                                                                                                                                               apartment awesome great facilities easy checkin clean tidy hot tub awesome views amazing problem found actually getting taxi drivers knowing area would definitely go back long weekend stay great spot go explore athens   \n",
            "1113                                                                                                                                                                                                                                                                                                                                                                                                                                                                                                                                                                                                                                                                                                                                                                                                                                                                                                                                                                                      good accommodation   \n",
            "1114                                                                                                                                                                                                                                                                                                                                                                                                                                                                                                                                                                                                                                                                                                                                                                                                                                                                                                                                             excellent communication great location view jacuzzi amazing   \n",
            "1115                                                                                                                                                                                                                                                                                                                                                                                                                                                                                                                                                                                                                                                                                                                                                                                                                                                                                                                                                                perfect spot athens rooftop view amazing   \n",
            "1116                                                                                                                                                                                                                                                                                                                                                                                                                                                                                                                                                                                                                                                                                                                                                                                                                                                                                                                                             awesome luxurious spot lives upto expectations amazing view   \n",
            "1117                                                                                                                                                                                                                                                                                                                                                                                                                                                                                                                                                                                                                                                                                                                                                                                                                                                                                                                                                                                        great love place   \n",
            "1118                                                                                                                                                                                                                                                                                                                                                                                                                                                                                                                                                                                                                                                                                                 everything expected except unable use hot tub stairs top floor broken due issue neighbors unfortunate booked place use hot tub views acropolis able use rooftop deck although haris refund us 100 euros volunteered without us asking appreciated want let future guests know hot tub may available use   \n",
            "1121                                                                                                                                                                                                                                                                                                                                                                                                                                                                                                                                                                                                                                                                                                                                                                                                                                                                                                                                haris true gentleman friends helped us check fantastic views hot thub 55   \n",
            "1122                                                                                                                                                                                                                                                                                                                                                                                                                                                                                                                                                                                                                                                                                                                                                                                                                                                                                       haris great host nice gave us great advices stay flat really well located wonderful view thank amazing stay place   \n",
            "1123                                                                                                                                                                                                                                                                                                                                                                                                                                                                                                                                                                                  hariss place absolutely amazing literally 46 euro uber main attractions athens 2 doors super market good budget traveller check smooth understanding arrived late due traffic penthouse clean spacious definitely worth travelling extra people 3rd level rooftop jacuzzi looking acropolis night lifetime experience alone made worth would highly would recommend place anyone awesome place great guy thanks nathan   \n",
            "1124  find staying another apartment athens regret found gem airbnb stayed unfortunately one nightbri strongly believe better place stay athens location simply perfect walking distance almost everywhere tourist needs go read previous review potential noise totally disagree stayed perfectly quiet noise cars like previous apartment pedestrian roads around apartment entrance building small square small church hidden cafe one enjoy outdoor moments near place wellbrthe apartment luxurious real leather sofa good quality electonic equipment something always appreciate guestbrit huge hotel room size even 4 persons stay problem opinionbrfotis hand professional host probably likes much noticed lot small details made stay comfortable stay place sure visit athens next timebrlast least favor visit spa noticed tripadvisor announced best spa athens reason enjoyed best massage ever fish pedi thing something missedbrthank fotis team unbelievable staybrthank airbnb oportunity   \n",
            "1125                                                                                                                                                                                                                                                                                                                                                                                                                                                                                                                                                                                                                                                                                                                                                                      hello fotis want say thank wonderful opportunitiy staying loft perfect place visiting athens great apartement loft clean quiet good windows definitely place go back thanks help support also enjoyed visit fish spa claudiapascal   \n",
            "1126                                                                                                                                                                                                                                                                                                                                                                                                                                                                                                                                                                                                                                                                                                                                                                                                                  apartment modern accurately described clean supplied tea coffee plenty room couple middle city excellent location explore athens brpersonal meeting arrival appreciatedbrwe would stay   \n",
            "1127                                                                                                                                                                                                                                                                                                                                                                                                                                                                                                                                                                                                                                                                                                                                                                                                                                                                                                          quick stay fotis apartment great location reasonable price 100 satisfied everything visit soon   \n",
            "1128                                                                                                                                                                                                                                                                                                                                                                                                                                                                                                                                                                                                                                                                                                                                                 fotis accommodating place easy find brthe loft updated great part old town within walking distance acropolis many bars squares bralthough trip quick would happily recommend staying anyone visiting athens br35 airport loft flat rate taxis easy find   \n",
            "1129                                                                                                                                                                                                                                                                                                                                                                                                                                                                                                                                                                                                                                                                                                                                                                                                                                  really amazing apartment right monastiraki location couldnt perfect apartment nicely decorated high ceilings really big windows fotis great host would recommend place   \n",
            "1130                                                                                                                                                                                                                                                                                                                                                                                                                                                                                                super great location really new clean apartment well stocked fotis even breakfast fixings kitchen usbread oj jams butters coffee creamer great map us highlights including nearby grocery restaurants etc us try andhe delivered toilet paper us early one morning nearly used everything cd player iron ironing board washing machine brbrhis apartment 3 blocks starbucks 15 steps awesome bar also great cafe cannot get better location one brbrwe didnt get use fish spa really bummed next time br   \n",
            "1131                                                                                                                                                                                                                                                                                                                                                                                                                                                                                                                                                                                                                                                                                                                                                                             wonderful flat well located busy central area preferred area plaka easy walk acropolis asked wait 20 minutes could shown apartment took offer quick free fish pedicure fun way start trip flat everything need clean lovely   \n",
            "1132                                                                                                                                                                                                                                                                                                                                                                                                                                                                                                                                                                                                                                             apartment amazing everything modern nice great location right main pedestrian walkways easy walk akropolis despite right popular pedestrian street apartment double windows cant hear anything nice close everything inconvenience street noise late night also wifi fast worked great fotis great host helpful would highly recommend place stay athens br   \n",
            "1133                                                                                                                                                                                                                                                                                                                                                                                                                                                                                                                                                                            fotis john excellent host met us right time apartment check us provided clear instructions everything apartment worked information city athens even ready breakfast items us apartment could better clean modern spacious location ideal within walking distance many athen attractions coolest neighborhoods also visited fotis fish spa offered us complimentary fish pedicure highly recommend apartment others hope back   \n",
            "1134                                                                                                                                                                                                                                                                                                                                                                                                                                                                                                                                                            met fotiss colleagues fish spa nearby really helpful one showed us apartment gave us great place go eat apartment opposite excellent cocktail bar called dot dont neglect apartment great pristinely clean spacious bigger looks fotis left breakfast fridge great well tea coffee windows double double glazed really quiet despite brilliant central location close acropolis definitely great option city stay athens id highly recommend   \n",
            "1135                                                                                                                                                                                                                                                                                                                                                                                                                                                                                                                                                                                                                                                                                                                                                                                                     amazing place communicative host apartment exactly described even better great amenities hot tub easy work takes heat pretty good location close metro stations access acropolis highly recommended   \n",
            "1136                                                                                                                                                                                                                                                                                                                                                                                                                                                                                                                                                                                                                                                                                                                                                                                                                                                                                                close main attractions view parthenon night jacuzzi equal definitely come back next summer thanks harris   \n",
            "1137                                                                                                                                                                                                                                                                                                                                                                                                                                                                                                                                                                                                                                                                                                                                                                                                                                                 great view rooftop perfect groups six cleanliness could better jacuzzi bathroom kitchen also equipment haris nice host makes comfortable check possible   \n",
            "1138                                                                                                                                                                                                                                                                                                                                                                                                                                                                                                                                                                                                                                                                                             stayed 3 nights hariss apartment clean amenities needed jacuzzi roof added bonus short taxi ride central athens 10minute walk lovely area loads bars restaurants would highly recommend place especially travelling group friends haris communicated everything really well check really easybrthanks haris   \n",
            "1139                                                                                                                                                                                                                                                                                                                                                                                                                                                                                                                                                 location space 15 minute walk start athens city center restaurants sites youre walking metro station nearby beat quick get mean brthe space super cozy quiet space three stories third rooftop hot tub amazing views room including common areas coolingheating unit comfort theres also smart tv netflix youre raging night brthe host haris responsive questions helpful throughout trip ensured someone check us texted back within 15 mins question   \n",
            "1141                                                                                                                                                                                                                                                                                                                                                                                                                                                                                                                                                                                                                                                                                                                                                                                                                                                                                                                                everything brilliant could asked thanks everything harris hope back soon   \n",
            "1142                                                                                                                                                                                                                                                                                                                                                                                                                                                                                                                                                                                                                                                                                                                                                  haris great host made every effort could ensure stay comfortable safe flight get greece midnight haris still arranged easy check issue property distance city center car dont mind walking taxing lot issue home nice jacuzzi rooftop view exceptional   \n",
            "\n",
            "      is_english sentiment  \n",
            "1110        True  positive  \n",
            "1111        True  positive  \n",
            "1112        True  positive  \n",
            "1113        True  positive  \n",
            "1114        True  positive  \n",
            "1115        True  positive  \n",
            "1116        True  positive  \n",
            "1117        True  positive  \n",
            "1118        True  negative  \n",
            "1121        True  positive  \n",
            "1122        True  positive  \n",
            "1123        True  positive  \n",
            "1124        True  positive  \n",
            "1125        True  positive  \n",
            "1126        True  positive  \n",
            "1127        True  positive  \n",
            "1128        True   neutral  \n",
            "1129        True  positive  \n",
            "1130        True  positive  \n",
            "1131        True  positive  \n",
            "1132        True  positive  \n",
            "1133        True  positive  \n",
            "1134        True  positive  \n",
            "1135        True  positive  \n",
            "1136        True   neutral  \n",
            "1137        True  positive  \n",
            "1138        True  positive  \n",
            "1139        True   neutral  \n",
            "1141        True  positive  \n",
            "1142        True  positive  \n"
          ]
        }
      ]
    },
    {
      "cell_type": "markdown",
      "source": [
        "Chart Results"
      ],
      "metadata": {
        "id": "rjyqMocHWAbN"
      }
    },
    {
      "cell_type": "code",
      "source": [
        "import matplotlib.pyplot as plt\n",
        "\n",
        "reviews_2023 = english_reviews_2023.copy()\n",
        "\n",
        "# Drop 'is_english' column\n",
        "reviews_2023 = reviews_2023.drop(['is_english'], axis = 1)\n",
        "reviews_2023 = reviews_2023.reset_index(drop = True)\n",
        "\n",
        "# Plot the Histogram\n",
        "sentiment_count = reviews_2023['sentiment'].value_counts()\n",
        "print(sentiment_count)\n",
        "sentiment_count.plot(kind='bar')\n",
        "\n",
        "# Title and Label\n",
        "plt.title('Sentiment Distribution')\n",
        "plt.xlabel('Sentiment')\n",
        "plt.ylabel('Number of Reviews')\n",
        "\n",
        "# Show Plot\n",
        "plt.show()"
      ],
      "metadata": {
        "colab": {
          "base_uri": "https://localhost:8080/",
          "height": 606
        },
        "id": "yHoqE_vKWCKC",
        "outputId": "6f69e74c-ee7f-41f3-d2c2-f587f5c5ddef"
      },
      "execution_count": 78,
      "outputs": [
        {
          "output_type": "stream",
          "name": "stdout",
          "text": [
            "sentiment\n",
            "positive    810\n",
            "neutral     172\n",
            "negative     18\n",
            "Name: count, dtype: int64\n"
          ]
        },
        {
          "output_type": "display_data",
          "data": {
            "text/plain": [
              "<Figure size 640x480 with 1 Axes>"
            ],
            "image/png": "[encoded data removed]"
          },
          "metadata": {}
        }
      ]
    },
    {
      "cell_type": "markdown",
      "source": [
        "Συγκρίνοντας τα αποτελέσματα του 2019 με το 2023, παρατηρούμε ότι στο 2019 μεγάλη μείωση των θετικών τιμών που είναι 864 με τις θετικές τιμές του 2023 πυ είναι 810. Επίσης υπάρχει αύξηση των ουδέτερων τιμών του 2019 από 103 σε 172 το 2023. Παράλληλα, οι αρνητικές τιμές του 2019 μειώθηκαν από 33 σε 18 το 2023. Συνολικά, το 2023 δείχνει μια μείωση των θετικών και αρνητικών αντιδράσεων σε σχέση με το 2019, ενώ οι ουδέτερες αντιδράσεις έχουν αυξηθεί σημαντικά."
      ],
      "metadata": {
        "id": "Osx8vr5NrulR"
      }
    },
    {
      "cell_type": "markdown",
      "source": [
        "Export Resulting Dataframe"
      ],
      "metadata": {
        "id": "yOV4-D0cWyqb"
      }
    },
    {
      "cell_type": "code",
      "source": [
        "english_reviews_2023 = english_reviews_2023.reset_index(drop = True)\n",
        "english_reviews_2023.to_csv('/content/gdrive/My Drive/Data_Mining_CSV/2023/reviews_2023.csv', index = False)"
      ],
      "metadata": {
        "id": "Gx5H9TxmW1xM"
      },
      "execution_count": null,
      "outputs": []
    },
    {
      "cell_type": "markdown",
      "source": [
        "# **Μέρος 2**"
      ],
      "metadata": {
        "id": "_6YyPxFFE9lX"
      }
    },
    {
      "cell_type": "markdown",
      "source": [
        "Open File"
      ],
      "metadata": {
        "id": "c_NeT6WrFMoz"
      }
    },
    {
      "cell_type": "code",
      "source": [
        "english_reviews_2023 = pd.read_csv(filePath + 'reviews_2023.csv')"
      ],
      "metadata": {
        "id": "dNeqeYtNFTwS"
      },
      "execution_count": null,
      "outputs": []
    },
    {
      "cell_type": "markdown",
      "source": [
        "Match Sentiments with numbers (positive = 1, neutral = 0, negative = 2)"
      ],
      "metadata": {
        "id": "NNeuYPorFCh-"
      }
    },
    {
      "cell_type": "code",
      "source": [
        "sentiment_mapping = {'positive': 1, 'neutral': 0, 'negative': 2}\n",
        "english_reviews_2023['sentiment'] = english_reviews_2023['sentiment'].map(sentiment_mapping)\n",
        "\n",
        "print(english_reviews_2023.head())"
      ],
      "metadata": {
        "colab": {
          "base_uri": "https://localhost:8080/"
        },
        "id": "cBpAoqRwFKQb",
        "outputId": "12310aab-8bb3-4378-9d8f-b84329ae5e8a"
      },
      "execution_count": 79,
      "outputs": [
        {
          "output_type": "stream",
          "name": "stdout",
          "text": [
            "         id  \\\n",
            "0    271535   \n",
            "1   1994237   \n",
            "2  12184199   \n",
            "3  13197921   \n",
            "4  13393565   \n",
            "\n",
            "                                                                                                                                                                                                                                                                                                                                                                                                                                      review  \\\n",
            "0                                                                                                                                                                                                                                                                       apartment wonderful fully equiped beautiful decor comfortable verry clean would stay possibly another host properties close metro markets grocery store conveniences   \n",
            "1  emmanouil excellent host provided us everything need make feel right home gave us tips directions destinations even prior trip kept close contact gave us specific easy instructions get place place spacious comfortable everything neat organized always great place come back adventurous day athens transportation easily accessible place located quiet neighborhood stay amazing experience wouldnt hesitate stay recommend friends   \n",
            "2                                                                                                                                                                                 wife daughter spent five days beauty light colors athens also thanks home soula apartment enjoyed space indoor outdoor furniture paintings mosaics know soula person known loved taste generous hospitality therefore highly recommend apartment hope back   \n",
            "3                                                                                                    great stay soulas apartment loved decoration furniture paintings mosaics amd relaxing terrace apartment good energy makes relax clean also close metro station taxi stop soula accessible ever needed anything responded immediately although dont know soula person like generous hospitalityi highly recommend staying hope visit day   \n",
            "4                                                                                                                                                                   beautiful clean apartment plenty space stayed partner lovely time even though booked last minute like 8pm day arrived midnight soula incredibly kind arranged driver waiting pick us fully stocked cookware incredibly comfy sofa nice quiet evening perfect thank soula   \n",
            "\n",
            "   is_english  sentiment  \n",
            "0        True          1  \n",
            "1        True          1  \n",
            "2        True          1  \n",
            "3        True          1  \n",
            "4        True          1  \n"
          ]
        }
      ]
    },
    {
      "cell_type": "markdown",
      "source": [
        "Prepare Data Points"
      ],
      "metadata": {
        "id": "PIgqnapSF5uW"
      }
    },
    {
      "cell_type": "code",
      "source": [
        "from sklearn.model_selection import train_test_split\n",
        "\n",
        "train_reviews, test_reviews = train_test_split(english_reviews_2023, test_size = 0.2, random_state = 42)\n",
        "\n",
        "# Save to .tsv format\n",
        "train_reviews.to_csv(filePath + 'train.tsv', sep='\\t', index = False)\n",
        "test_reviews.to_csv(filePath + 'test.tsv', sep='\\t', index = False)"
      ],
      "metadata": {
        "id": "yZDvwaTbF-f-"
      },
      "execution_count": 80,
      "outputs": []
    },
    {
      "cell_type": "markdown",
      "source": [
        "Characteristics Preparation with TF-IDF"
      ],
      "metadata": {
        "id": "31nHB0tXGd7z"
      }
    },
    {
      "cell_type": "code",
      "source": [
        "from sklearn.feature_extraction.text import TfidfVectorizer\n",
        "\n",
        "train_reviews['review'] = train_reviews['review'].fillna('')\n",
        "test_reviews['review'] = test_reviews['review'].fillna('')\n",
        "\n",
        "# Vectorizer Creation\n",
        "tfidf_Vectorizer = TfidfVectorizer(max_df=0.1, min_df=1, max_features=200)\n",
        "\n",
        "# Convert to TF-IDF train data reviews\n",
        "X_train_tfidf = tfidf_Vectorizer.fit_transform(train_reviews['review'])\n",
        "\n",
        "# Convert to TF-IDF test data reviews\n",
        "X_test_tfidf = tfidf_Vectorizer.fit_transform(test_reviews['review'])\n",
        "\n",
        "# Shape Check\n",
        "print(X_train_tfidf.shape)\n",
        "print(X_test_tfidf.shape)"
      ],
      "metadata": {
        "colab": {
          "base_uri": "https://localhost:8080/"
        },
        "id": "wky5ridIGqn8",
        "outputId": "ba6ba368-be0a-49eb-c9b5-7ebb5fc32f9f"
      },
      "execution_count": 81,
      "outputs": [
        {
          "output_type": "stream",
          "name": "stdout",
          "text": [
            "(800, 200)\n",
            "(200, 200)\n"
          ]
        }
      ]
    },
    {
      "cell_type": "markdown",
      "source": [
        "Characteristics Preparation with Word Embeddings using Word2Vec model"
      ],
      "metadata": {
        "id": "uZ8g8hHjHz7W"
      }
    },
    {
      "cell_type": "code",
      "source": [
        "# Seperate reviews to words\n",
        "train_sentence = [review.split() for review in train_reviews['review']]\n",
        "test_sentence = [review.split() for review in test_reviews['review']]\n",
        "\n",
        "# Train Word2Vec model\n",
        "word2vecModel = Word2Vec(sentences=train_sentence, vector_size=200, window=5, min_count=1, workers=4, seed=42)\n",
        "\n",
        "# Function for calculating the mean of words to get the embedding for the review\n",
        "def embedding_review(review, model):\n",
        "  words = review.split()\n",
        "  word_vectors = [model.wv[word] for word in words if word in model.wv]\n",
        "  if len(word_vectors) == 0:\n",
        "    return np.zeros(model.vector_size)\n",
        "  else:\n",
        "    return np.mean(word_vectors, axis=0)\n",
        "\n",
        "# Train dataset using Word Embeddings\n",
        "X_train_embeddings = np.vstack([embedding_review(review, word2vecModel) for review in train_reviews['review']])\n",
        "\n",
        "# Test dataset using Word Embeddings\n",
        "X_test_embeddings = np.vstack([embedding_review(review, word2vecModel) for review in test_reviews['review']])\n",
        "\n",
        "# Shape Check\n",
        "print(X_train_embeddings.shape)\n",
        "print(X_test_embeddings.shape)"
      ],
      "metadata": {
        "colab": {
          "base_uri": "https://localhost:8080/"
        },
        "id": "rk_X4WwEH5QN",
        "outputId": "fe0b9e43-0951-46e9-f33a-7946febd5e48"
      },
      "execution_count": 82,
      "outputs": [
        {
          "output_type": "stream",
          "name": "stdout",
          "text": [
            "(800, 200)\n",
            "(200, 200)\n"
          ]
        }
      ]
    },
    {
      "cell_type": "markdown",
      "source": [
        "Save to pickle file"
      ],
      "metadata": {
        "id": "lmX-KSByKL1P"
      }
    },
    {
      "cell_type": "code",
      "source": [
        "import pickle\n",
        "\n",
        "# Save TF-IDF Files\n",
        "with open(filePath + 'X_train_tfidf.pkl', 'wb') as file:\n",
        "  pickle.dump(X_train_tfidf, file)\n",
        "\n",
        "with open(filePath + 'X_test_tfidf.pkl', 'wb') as file:\n",
        "  pickle.dump(X_test_tfidf, file)\n",
        "\n",
        "# Save Word2Vec Files\n",
        "with open(filePath + 'X_train_embeddings.pkl', 'wb') as file:\n",
        "  pickle.dump(X_train_embeddings, file)\n",
        "\n",
        "with open(filePath + 'X_test_embeddings.pkl', 'wb') as file:\n",
        "  pickle.dump(X_test_embeddings, file)\n",
        "\n",
        "# Save TF-IDF Vectorizer\n",
        "with open(filePath + 'tfidf_vectorizer.pkl', 'wb') as file:\n",
        "  pickle.dump(tfidf_Vectorizer, file)\n",
        "\n",
        "# Save Sentiments\n",
        "with open(filePath + 'Y_train_reviews.pkl', 'wb') as file:\n",
        "  pickle.dump(train_reviews['sentiment'].values, file)\n",
        "\n",
        "with open(filePath + 'Y_test_reviews.pkl', 'wb') as file:\n",
        "  pickle.dump(test_reviews['sentiment'].values, file)"
      ],
      "metadata": {
        "id": "-ucpfCHPKPlF"
      },
      "execution_count": 83,
      "outputs": []
    },
    {
      "cell_type": "markdown",
      "source": [
        "Load from pickle file"
      ],
      "metadata": {
        "id": "uKfoszpYLkuu"
      }
    },
    {
      "cell_type": "code",
      "source": [
        "import pickle\n",
        "\n",
        "# Load TF-IDF Files\n",
        "with open(filePath + 'X_train_tfidf.pkl', 'rb') as file:\n",
        "  X_train_tfidf = pickle.load(file)\n",
        "\n",
        "with open(filePath + 'X_test_tfidf.pkl', 'rb') as file:\n",
        "  X_test_tfidf = pickle.load(file)\n",
        "\n",
        "# Load Word2Vec Files\n",
        "with open(filePath + 'X_train_embeddings.pkl', 'rb') as file:\n",
        "  X_train_embeddings = pickle.load(file)\n",
        "\n",
        "with open(filePath + 'X_test_embeddings.pkl', 'rb') as file:\n",
        "  X_test_embeddings = pickle.load(file)\n",
        "\n",
        "# Load TF-IDF Vectorizer\n",
        "with open(filePath + 'tfidf_vectorizer.pkl', 'rb') as file:\n",
        "  tfidf_Vectorizer = pickle.load(file)\n",
        "\n",
        "# Load Sentiments\n",
        "with open(filePath + 'Y_train_reviews.pkl', 'rb') as file:\n",
        "  Y_train_reviews = pickle.load(file)\n",
        "\n",
        "with open(filePath + 'Y_test_reviews.pkl', 'rb') as file:\n",
        "  Y_test_reviews = pickle.load(file)"
      ],
      "metadata": {
        "id": "bHJKKDqcLm3h"
      },
      "execution_count": 84,
      "outputs": []
    },
    {
      "cell_type": "markdown",
      "source": [
        "For TF-IDF Characteristics we use SVM sorting"
      ],
      "metadata": {
        "id": "cDsYHlNaMtUD"
      }
    },
    {
      "cell_type": "code",
      "source": [
        "from sklearn import svm\n",
        "from sklearn.metrics import precision_recall_fscore_support, accuracy_score, make_scorer\n",
        "from sklearn.model_selection import cross_val_score, cross_validate, StratifiedKFold\n",
        "\n",
        "# Custom scorer functions to handle zero_division\n",
        "def precision_macro(y_true, y_pred):\n",
        "    return precision_recall_fscore_support(y_true, y_pred, average='macro', zero_division=0)[0]\n",
        "\n",
        "def recall_macro(y_true, y_pred):\n",
        "    return precision_recall_fscore_support(y_true, y_pred, average='macro', zero_division=0)[1]\n",
        "\n",
        "def f1_macro(y_true, y_pred):\n",
        "    return precision_recall_fscore_support(y_true, y_pred, average='macro', zero_division=0)[2]\n",
        "\n",
        "# Define custom scorers\n",
        "scoring = {\n",
        "    'precision_macro': make_scorer(precision_macro),\n",
        "    'recall_macro': make_scorer(recall_macro),\n",
        "    'f1_macro': make_scorer(f1_macro),\n",
        "    'accuracy': 'accuracy'\n",
        "}\n",
        "\n",
        "# Load Classifer\n",
        "classifier_svm = svm.SVC()\n",
        "\n",
        "# Train SVM\n",
        "classifier_svm.fit(X_train_tfidf, Y_train_reviews)\n",
        "\n",
        "# Predict at test data\n",
        "Y_pred_svm = classifier_svm.predict(X_test_tfidf)\n",
        "\n",
        "# Evaluate Classifier using Cross-Validation\n",
        "scores = cross_validate(classifier_svm, X_train_tfidf, Y_train_reviews, cv=10, scoring=scoring)\n",
        "\n",
        "# Print Cross-Validation Results\n",
        "print(f\"Cross-Validation Results:\")\n",
        "print(f\"Precision: {np.mean(scores['test_precision_macro']):.4f}\")\n",
        "print(f\"Recall: {np.mean(scores['test_recall_macro']):.4f}\")\n",
        "print(f\"F1 Score: {np.mean(scores['test_f1_macro']):.4f}\")\n",
        "print(f\"Accuracy: {np.mean(scores['test_accuracy']):.4f}\")\n",
        "print(\"\\n\")\n",
        "\n",
        "# Evaluate Test Data\n",
        "test_accuracy = accuracy_score(Y_test_reviews, Y_pred_svm)\n",
        "test_precision, test_recall, test_f1, _ = precision_recall_fscore_support(Y_test_reviews, Y_pred_svm, average='macro', zero_division=0)\n",
        "\n",
        "# Print Results\n",
        "print(\"Test Data Results:\")\n",
        "print(f\"Test Accuracy: {test_accuracy:.4f}\")\n",
        "print(f\"Test Precision: {test_precision:.4f}\")\n",
        "print(f\"Test Recall: {test_recall:.4f}\")\n",
        "print(f\"Test F1 Score: {test_f1:.4f}\")\n"
      ],
      "metadata": {
        "id": "sBcF9sPmM1T0",
        "colab": {
          "base_uri": "https://localhost:8080/"
        },
        "outputId": "57815924-86fb-467c-edcb-46be57ea679f"
      },
      "execution_count": 85,
      "outputs": [
        {
          "output_type": "stream",
          "name": "stdout",
          "text": [
            "Cross-Validation Results:\n",
            "Precision: 0.6533\n",
            "Recall: 0.5936\n",
            "F1 Score: 0.6152\n",
            "Accuracy: 0.9037\n",
            "\n",
            "\n",
            "Test Data Results:\n",
            "Test Accuracy: 0.8800\n",
            "Test Precision: 0.5492\n",
            "Test Recall: 0.5086\n",
            "Test F1 Score: 0.5241\n"
          ]
        }
      ]
    },
    {
      "cell_type": "markdown",
      "source": [
        "For TF-IDF Characteristics we use Random Forests sorting"
      ],
      "metadata": {
        "id": "htIJpeI8T7My"
      }
    },
    {
      "cell_type": "code",
      "source": [
        "from sklearn.ensemble import RandomForestClassifier\n",
        "from sklearn.metrics import precision_recall_fscore_support, accuracy_score, make_scorer\n",
        "from sklearn.model_selection import cross_val_score, cross_validate, StratifiedKFold\n",
        "\n",
        "# Custom scorer functions to handle zero_division\n",
        "def precision_macro(y_true, y_pred):\n",
        "    return precision_recall_fscore_support(y_true, y_pred, average='macro', zero_division=0)[0]\n",
        "\n",
        "def recall_macro(y_true, y_pred):\n",
        "    return precision_recall_fscore_support(y_true, y_pred, average='macro', zero_division=0)[1]\n",
        "\n",
        "def f1_macro(y_true, y_pred):\n",
        "    return precision_recall_fscore_support(y_true, y_pred, average='macro', zero_division=0)[2]\n",
        "\n",
        "# Define custom scorers\n",
        "scoring = {\n",
        "    'precision_macro': make_scorer(precision_macro),\n",
        "    'recall_macro': make_scorer(recall_macro),\n",
        "    'f1_macro': make_scorer(f1_macro),\n",
        "    'accuracy': 'accuracy'\n",
        "}\n",
        "\n",
        "# Load Classifier\n",
        "classifier_rf = RandomForestClassifier()\n",
        "\n",
        "# Train Random Forest\n",
        "classifier_rf.fit(X_train_tfidf, Y_train_reviews)\n",
        "\n",
        "# Predict at test data\n",
        "Y_pred_rf = classifier_rf.predict(X_test_tfidf)\n",
        "\n",
        "# Evaluate Classifier using Cross-Validation\n",
        "scores = cross_validate(classifier_rf, X_train_tfidf, Y_train_reviews, cv=10, scoring=scoring)\n",
        "\n",
        "# Print Cross-Validation Results\n",
        "print(f\"Cross-Validation Results:\")\n",
        "print(f\"Precision: {np.mean(scores['test_precision_macro']):.4f}\")\n",
        "print(f\"Recall: {np.mean(scores['test_recall_macro']):.4f}\")\n",
        "print(f\"F1 Score: {np.mean(scores['test_f1_macro']):.4f}\")\n",
        "print(f\"Accuracy: {np.mean(scores['test_accuracy']):.4f}\")\n",
        "print(\"\\n\")\n",
        "\n",
        "# Evaluate Test Data\n",
        "test_accuracy = accuracy_score(Y_test_reviews, Y_pred_rf)\n",
        "test_precision, test_recall, test_f1, _ = precision_recall_fscore_support(Y_test_reviews, Y_pred_rf, average='macro', zero_division=0)\n",
        "\n",
        "# Print Results\n",
        "print(\"Test Data Results:\")\n",
        "print(f\"Test Accuracy: {test_accuracy:.4f}\")\n",
        "print(f\"Test Precision: {test_precision:.4f}\")\n",
        "print(f\"Test Recall: {test_recall:.4f}\")\n",
        "print(f\"Test F1 Score: {test_f1:.4f}\")\n"
      ],
      "metadata": {
        "colab": {
          "base_uri": "https://localhost:8080/"
        },
        "id": "jmyyNF8IUB1o",
        "outputId": "2c8ffdfb-254b-44f8-8981-d8d810a04e84"
      },
      "execution_count": 86,
      "outputs": [
        {
          "output_type": "stream",
          "name": "stdout",
          "text": [
            "Cross-Validation Results:\n",
            "Precision: 0.6070\n",
            "Recall: 0.5836\n",
            "F1 Score: 0.5909\n",
            "Accuracy: 0.8750\n",
            "\n",
            "\n",
            "Test Data Results:\n",
            "Test Accuracy: 0.8100\n",
            "Test Precision: 0.4583\n",
            "Test Recall: 0.4970\n",
            "Test F1 Score: 0.4742\n"
          ]
        }
      ]
    },
    {
      "cell_type": "markdown",
      "source": [
        "For TF-IDF Characteristics we use KNN sorting"
      ],
      "metadata": {
        "id": "4-VpVBdnUbYB"
      }
    },
    {
      "cell_type": "code",
      "source": [
        "from sklearn.neighbors import KNeighborsClassifier\n",
        "from sklearn.metrics import precision_recall_fscore_support, accuracy_score, make_scorer\n",
        "from sklearn.model_selection import cross_val_score, cross_validate, StratifiedKFold\n",
        "\n",
        "# Custom scorer functions to handle zero_division\n",
        "def precision_macro(y_true, y_pred):\n",
        "    return precision_recall_fscore_support(y_true, y_pred, average='macro', zero_division=0)[0]\n",
        "\n",
        "def recall_macro(y_true, y_pred):\n",
        "    return precision_recall_fscore_support(y_true, y_pred, average='macro', zero_division=0)[1]\n",
        "\n",
        "def f1_macro(y_true, y_pred):\n",
        "    return precision_recall_fscore_support(y_true, y_pred, average='macro', zero_division=0)[2]\n",
        "\n",
        "# Define custom scorers\n",
        "scoring = {\n",
        "    'precision_macro': make_scorer(precision_macro),\n",
        "    'recall_macro': make_scorer(recall_macro),\n",
        "    'f1_macro': make_scorer(f1_macro),\n",
        "    'accuracy': 'accuracy'\n",
        "}\n",
        "\n",
        "# Load Classifier\n",
        "classifier_knn = KNeighborsClassifier()\n",
        "\n",
        "# Train KNN\n",
        "classifier_knn.fit(X_train_tfidf, Y_train_reviews)\n",
        "\n",
        "# Predict at test data\n",
        "Y_pred_knn = classifier_knn.predict(X_test_tfidf)\n",
        "\n",
        "# Evaluate Classifier using Cross-Validation\n",
        "scores = cross_validate(classifier_knn, X_train_tfidf, Y_train_reviews, cv=10, scoring=scoring)\n",
        "\n",
        "# Print Cross-Validation Results\n",
        "print(f\"Cross-Validation Results:\")\n",
        "print(f\"Precision: {np.mean(scores['test_precision_macro']):.4f}\")\n",
        "print(f\"Recall: {np.mean(scores['test_recall_macro']):.4f}\")\n",
        "print(f\"F1 Score: {np.mean(scores['test_f1_macro']):.4f}\")\n",
        "print(f\"Accuracy: {np.mean(scores['test_accuracy']):.4f}\")\n",
        "print(\"\\n\")\n",
        "\n",
        "# Evaluate Test Data\n",
        "test_accuracy = accuracy_score(Y_test_reviews, Y_pred_knn)\n",
        "test_precision, test_recall, test_f1, _ = precision_recall_fscore_support(Y_test_reviews, Y_pred_knn, average='macro', zero_division=0)\n",
        "\n",
        "# Print Results\n",
        "print(\"Test Data Results:\")\n",
        "print(f\"Test Accuracy: {test_accuracy:.4f}\")\n",
        "print(f\"Test Precision: {test_precision:.4f}\")\n",
        "print(f\"Test Recall: {test_recall:.4f}\")\n",
        "print(f\"Test F1 Score: {test_f1:.4f}\")\n"
      ],
      "metadata": {
        "colab": {
          "base_uri": "https://localhost:8080/"
        },
        "id": "5Kw0bbmIUWHx",
        "outputId": "ff9996a0-528a-4d8b-df90-73bae57e0c9b"
      },
      "execution_count": 87,
      "outputs": [
        {
          "output_type": "stream",
          "name": "stdout",
          "text": [
            "Cross-Validation Results:\n",
            "Precision: 0.3843\n",
            "Recall: 0.4044\n",
            "F1 Score: 0.2664\n",
            "Accuracy: 0.4012\n",
            "\n",
            "\n",
            "Test Data Results:\n",
            "Test Accuracy: 0.2600\n",
            "Test Precision: 0.3395\n",
            "Test Recall: 0.3572\n",
            "Test F1 Score: 0.1743\n"
          ]
        }
      ]
    },
    {
      "cell_type": "markdown",
      "source": [
        "**Συμπέρασμα**"
      ],
      "metadata": {
        "id": "mj42OwWxJnVk"
      }
    },
    {
      "cell_type": "markdown",
      "source": [
        "\n",
        "Ως προς το accuracy, δηλαδή το συνολικό ποσοστό σωστών προβλέψεων, παρατηρούμε ότι το μοντέλο SVM παρουσιάζει την υψηλότερη απόδοση με 88% ακρίβεια στα Test Data. Τα αποτελέσματα των Random Forests είναι επίσης αξιόλογα με ακρίβεια 81%, ενώ το μοντέλο ΚΝΝ αποδίδει πολύ χαμηλά με μόλις 26% ακρίβεια. Όσον αφορά τη μετρική F1, η οποία αποτελεί το αρμονικό μέσο των μετρικών Precision και Recall, παρατηρούμε ότι το SVM υπερέχει και πάλι με F1 score 0.5241, δείχνοντας την καλύτερη συνολική απόδοση. Αντίθετα, το Random Forests έχει F1 score 0.4742, που υποδηλώνει μια μέτρια απόδοση, ενώ το ΚΝΝ εμφανίζει πολύ χαμηλή απόδοση με F1 score μόλις 0.1743. Συνολικά, τα αποτελέσματα δείχνουν ότι τα μοντέλα SVM και Random Forests με τη χρήση των κατάλληλων χαρακτηριστικών μπορούν να προσφέρουν καλύτερες προβλέψεις σε σύγκριση με το ΚΝΝ."
      ],
      "metadata": {
        "id": "Nl1J9ML2JqO5"
      }
    },
    {
      "cell_type": "markdown",
      "source": [
        "# **Μερος 3**"
      ],
      "metadata": {
        "id": "pvrZD0IgIXCv"
      }
    },
    {
      "cell_type": "markdown",
      "source": [
        "Open File"
      ],
      "metadata": {
        "id": "zgeV4XDaixPV"
      }
    },
    {
      "cell_type": "code",
      "source": [
        "english_reviews_2023 = pd.read_csv(filePath + 'reviews_2023.csv')"
      ],
      "metadata": {
        "id": "O8GKUB5riwjt"
      },
      "execution_count": 5,
      "outputs": []
    },
    {
      "cell_type": "markdown",
      "source": [
        "Train model from reviews"
      ],
      "metadata": {
        "id": "tep5fDyhmzMs"
      }
    },
    {
      "cell_type": "code",
      "source": [
        "# Word Sample (ex. 500 reviews)\n",
        "review_sample = english_reviews_2023.head(500)\n",
        "review_sample = english_reviews_2023.copy()\n",
        "\n",
        "sentences = [review.split() for review in review_sample['review']]\n",
        "\n",
        "# Find the 100 most commonly used words\n",
        "words = [word for tokens in sentences for word in tokens]\n",
        "counter = Counter(words)\n",
        "most_commonly_used_words = [word for word, count in counter.most_common(100)]\n",
        "\n",
        "# Initialize and Train Word2Vec Model\n",
        "model = Word2Vec(sentences, vector_size=200, window=5, min_count=1, workers=4)\n",
        "\n",
        "# Word Embeddings for Most Commonly Used Words\n",
        "word_embeddings = {word: model.wv[word] for word in most_commonly_used_words if word in model.wv}\n",
        "\n",
        "# Display Word Embeddings\n",
        "for word, embedding in word_embeddings.items():\n",
        "  print(f\"{word}: {embedding[:5]}...\")"
      ],
      "metadata": {
        "colab": {
          "base_uri": "https://localhost:8080/"
        },
        "id": "z1tTD4Eoieda",
        "outputId": "e88f0e9b-d015-40f0-de70-f613caa31bb0"
      },
      "execution_count": 62,
      "outputs": [
        {
          "output_type": "stream",
          "name": "stdout",
          "text": [
            "apartment: [ 0.41075388 -0.25669166 -0.05741613 -0.00166777  0.31903934]...\n",
            "great: [ 0.15796134 -0.03334573 -0.41195387  0.38275883  0.41793326]...\n",
            "us: [-0.8484856   0.41919798 -0.11584564  0.4592939   0.84766287]...\n",
            "stay: [ 0.21732667 -0.26091832  0.3982201   0.56001663  0.17633805]...\n",
            "athens: [-0.15204936 -0.44921663  0.19097972  0.5709127   0.5071844 ]...\n",
            "place: [ 0.39232674 -0.27253166  0.1698402   0.19109286  0.22162144]...\n",
            "location: [ 0.74247205 -0.81031144  0.22592819 -0.52503496  0.41141853]...\n",
            "host: [0.07054888 0.13442798 0.06107657 0.49072063 0.34848988]...\n",
            "everything: [ 0.4874172   0.21561922  0.595288   -0.13517928  0.7893461 ]...\n",
            "clean: [ 0.98410946 -0.23252347 -0.4559646  -0.3550191   0.45615512]...\n",
            "nice: [ 0.23615375 -0.15008982 -0.48447317  0.07947539  0.24367087]...\n",
            "would: [-0.15113822 -0.42732736  0.03331214  0.90297043  0.12589677]...\n",
            "recommend: [-0.13782822 -0.78807324  0.21447955  0.64309466 -0.44329295]...\n",
            "really: [ 0.15524988  0.00261006 -0.21739145  0.17732008  0.3021236 ]...\n",
            "perfect: [ 0.44974118 -0.12475714 -0.08365067  0.20434105  0.4745693 ]...\n",
            "well: [ 0.51491207 -0.19377655 -0.34858766 -0.07766483  0.28118724]...\n",
            "also: [-0.14543909 -0.37000027 -0.20380951  0.08361176  0.24773963]...\n",
            "acropolis: [ 0.47125927 -1.3708624  -0.03653508 -0.4379467   0.11238556]...\n",
            "good: [ 0.06427506 -0.15499282 -0.55266875  0.2908357   0.32075006]...\n",
            "helpful: [-0.3205188   0.0525046  -0.29392827  0.842837    0.35528252]...\n",
            "walk: [ 1.6008253e-03 -1.6236331e+00 -1.9883922e-01 -5.8685809e-01\n",
            "  3.8383621e-01]...\n",
            "close: [ 0.5362867  -1.1459872  -0.51341987 -0.31414735  0.49445483]...\n",
            "amazing: [ 0.40383628 -0.02348077 -0.10133631  0.16776383  0.21880487]...\n",
            "time: [-0.37506056 -0.08546426  0.4377368   0.6625      0.2870701 ]...\n",
            "comfortable: [ 0.7159046   0.20908546 -0.18161671 -0.3327133   0.2929293 ]...\n",
            "restaurants: [ 0.16483612 -1.2776657  -0.48386243 -0.00789551  0.32995927]...\n",
            "view: [ 0.9561554  -0.4390717   0.05466964 -0.36105502 -0.2504004 ]...\n",
            "metro: [-0.14640512 -1.6930614  -0.28017727 -0.33377093  0.5276038 ]...\n",
            "area: [ 0.36113    -0.5232549  -0.1249911  -0.26939225  0.29024637]...\n",
            "flat: [ 0.40494588 -0.21104711 -0.07607438  0.05269039  0.25480214]...\n",
            "even: [-0.23944536  0.33401993  0.41208008 -0.0214294   0.5625419 ]...\n",
            "city: [ 0.13999906 -0.7581526   0.01558646 -0.08544706  0.40431854]...\n",
            "highly: [ 0.04919698 -0.9938063  -0.6838718   0.92512566  0.4253716 ]...\n",
            "beautiful: [ 0.61743915  0.01374566 -0.21567518 -0.06641926  0.20762652]...\n",
            "easy: [ 0.09903452 -0.6331402  -0.05768513 -0.01906976  0.4999244 ]...\n",
            "wonderful: [ 0.05572081  0.23002687 -0.2217121   0.5367038   0.35576972]...\n",
            "definitely: [-0.17049886 -0.6206897  -0.23970737  0.9419204   0.28109702]...\n",
            "one: [-0.00965906 -0.05154563  0.36736926  0.3220933   0.18272889]...\n",
            "lovely: [ 0.25094324  0.05866538 -0.34765735  0.15143652  0.27419826]...\n",
            "home: [ 0.24717925  0.92660856  0.67081106 -0.59136343  0.54963434]...\n",
            "walking: [ 0.6912049  -0.65719897  0.4567853   0.0849788   1.3925586 ]...\n",
            "located: [ 0.82494086 -1.2395438  -0.47304916 -0.34236774  0.597431  ]...\n",
            "around: [-0.29521334 -0.46339408  0.23432344  0.04154469  0.5569008 ]...\n",
            "like: [ 0.3068536   0.665384    0.37440664 -0.6112505   0.33921847]...\n",
            "made: [-0.36183548  0.89766216  0.39541334 -0.01874079  0.763039  ]...\n",
            "need: [ 0.69545615  0.33667377  0.27539164 -0.36526063  0.524425  ]...\n",
            "get: [-0.44754407 -0.57359594  0.14707193  0.09973596  0.65128875]...\n",
            "best: [-0.05013588  0.12840472  0.23521934  0.6276183   0.430924  ]...\n",
            "back: [-0.7490421  -0.24646701  0.6780846   1.1139331   0.24011661]...\n",
            "airport: [-1.1019312  -0.76185924 -0.07424847  0.7652958   0.6296413 ]...\n",
            "neighborhood: [ 0.3285396  -0.532802    0.04126735 -0.21281278  0.24375229]...\n",
            "house: [ 0.23144446  0.05652284  0.04149454 -0.09352254  0.2556872 ]...\n",
            "could: [0.16738114 0.19781248 0.5673814  0.08182874 0.510572  ]...\n",
            "needed: [ 0.25691244  0.6321825   0.19988866 -0.06563295  0.6626336 ]...\n",
            "quiet: [ 0.6590436  -0.52573586 -0.3181673  -0.24643217  0.28976864]...\n",
            "romanos: [-0.39481643  0.56573933 -0.01588334  0.8056968   0.3514504 ]...\n",
            "staying: [ 0.12556197 -0.43497944  0.17824855  0.6499078   0.02803267]...\n",
            "excellent: [ 0.18900406 -0.10946632 -0.45699027  0.29326954  0.334712  ]...\n",
            "experience: [ 0.07939003 -0.02531279  0.31219512  0.47878894  0.13356642]...\n",
            "night: [-0.40608355 -0.10813945  0.46029046  0.2884289   0.15268877]...\n",
            "distance: [ 0.64678305 -1.2538869   0.96357995 -0.09075653  0.93443334]...\n",
            "spacious: [ 0.9185578  -0.2454184  -0.36768287 -0.39847216  0.23581958]...\n",
            "friendly: [-0.15064546  0.14623411 -0.31226426  0.6524645   0.33076525]...\n",
            "enjoyed: [ 0.00249212 -0.08384918 -0.16293627  0.46444777  0.2661792 ]...\n",
            "minutes: [ 0.10211086 -1.6740259  -0.09379449 -0.46215594  0.40009668]...\n",
            "stayed: [-0.05357241 -0.0783377   0.29168907  0.5991114   0.2282411 ]...\n",
            "fantastic: [ 0.22717892 -0.08018897 -0.20985587  0.28357008  0.26576024]...\n",
            "thank: [-0.23296204  0.26041391  0.30088818  0.7960728   0.4033424 ]...\n",
            "day: [-0.65277445 -0.1741079   0.63335156  0.5635081   0.14775258]...\n",
            "much: [-0.05917101  0.19253087  0.29192087  0.43183237  0.28914976]...\n",
            "loved: [ 0.30298254 -0.078885   -0.1263525   0.21846074  0.2117486 ]...\n",
            "gave: [-0.59005666  0.28267202  0.06856949  0.6266692   0.9902593 ]...\n",
            "away: [-0.06349195 -0.97209173 -0.03363706 -0.5384363   0.21836874]...\n",
            "many: [-0.05298541 -0.47709706 -0.05279732  0.24675259  0.47134665]...\n",
            "street: [ 0.05353743 -0.7428829   0.0880914  -0.23179981 -0.09517396]...\n",
            "super: [ 0.3260015  -0.10946833 -0.349869    0.08464106  0.2764805 ]...\n",
            "go: [-0.54944843 -0.42554313  0.3418771   0.68055135  0.353231  ]...\n",
            "space: [ 0.6177676  -0.06977735 -0.16153868 -0.24184993 -0.01707165]...\n",
            "places: [-0.33798593 -0.52484316  0.00198583  0.5063822   0.604001  ]...\n",
            "station: [-0.14440924 -1.6772085  -0.42302746 -0.3182429   0.46525374]...\n",
            "little: [ 0.13791654 -0.06923047  0.0056123  -0.17523603  0.15397432]...\n",
            "right: [ 0.12117907 -0.38156456  0.08158243 -0.37786567  0.25579494]...\n",
            "local: [-0.40324745 -0.12760286 -0.077418    0.31222302  0.4483045 ]...\n",
            "room: [ 0.3490395   0.19041003 -0.12056542 -0.20458494 -0.07006289]...\n",
            "recommended: [-0.25229123 -0.52383655  0.28862873  0.5112899  -0.35974088]...\n",
            "felt: [ 0.08986965  0.6533756   0.51058483 -0.2804299   0.48420012]...\n",
            "thanks: [-0.19973071  0.07996973  0.17330067  0.7759767   0.32658556]...\n",
            "visit: [-0.24686216 -0.40479589  0.34386134  0.75454265  0.32962778]...\n",
            "kind: [-0.30640897  0.30832288 -0.06562138  0.6891418   0.31902134]...\n",
            "two: [ 0.11694127 -0.46289444 -0.13877912  0.03994715  0.04942798]...\n",
            "within: [ 0.27830765 -1.0096893   0.3422646  -0.00193826  0.77417624]...\n",
            "feel: [ 0.08314703  1.183423    0.65397626 -0.32011932  0.5050325 ]...\n",
            "airbnb: [-0.11446613  0.09581409  0.36515245  0.6931855   0.28088447]...\n",
            "family: [0.15441595 0.00727247 0.00873773 0.36417338 0.23519152]...\n",
            "bars: [-0.07959432 -0.95606583 -0.33291638  0.19547085  0.20374961]...\n",
            "arrived: [-0.8081344  0.3891714  0.2679541  0.6461914  0.5165256]...\n",
            "kitchen: [ 0.54641557  0.10120218 -0.16692029 -0.39601806  0.08109379]...\n",
            "see: [ 0.02728558 -0.21303156  0.39661953  0.10568793  0.3886207 ]...\n",
            "balcony: [ 0.5695027  -0.3434956  -0.20841601 -0.18334427 -0.18069074]...\n",
            "provided: [-0.2407069   0.35315663  0.07613281  0.29469562  0.59416455]...\n"
          ]
        }
      ]
    },
    {
      "cell_type": "markdown",
      "source": [
        "Calculate Cosine Similarity"
      ],
      "metadata": {
        "id": "zsxtk5bYmuoD"
      }
    },
    {
      "cell_type": "code",
      "source": [
        "from sklearn.metrics.pairwise import cosine_similarity\n",
        "from sklearn.preprocessing import normalize\n",
        "\n",
        "# Word Embeddings for All Most Common Used Words\n",
        "word_embeddings_matrix = np.array([word_embeddings[word] for word in most_commonly_used_words])\n",
        "\n",
        "# Normalize embeddings\n",
        "normalized_embeddings_matrix = normalize(word_embeddings_matrix, axis=1, norm='l2')\n",
        "\n",
        "# Calculate Cosine Similarity for all word pairs\n",
        "cosine_similarities = cosine_similarity(word_embeddings_matrix)\n",
        "\n",
        "# Similarities Dictionary\n",
        "similarities_dict = {}\n",
        "\n",
        "# Fill Similarities Dictionary with words as keys and a list of similarities as values\n",
        "for x, x_word in enumerate(most_commonly_used_words):\n",
        "    temp_lst = []\n",
        "    for y, y_word in enumerate(most_commonly_used_words):\n",
        "        if x != y:  # Exclude self-similarity\n",
        "            similarity = cosine_similarities[x][y]\n",
        "            temp_lst.append((y_word, similarity))\n",
        "    similarities_dict[x_word] = temp_lst\n",
        "\n",
        "# Sort Key Values (word) based on Similarity Scores\n",
        "for key, value in similarities_dict.items():\n",
        "    similarities_dict[key] = sorted(value, key=lambda x: x[1], reverse=True)\n",
        "\n",
        "# Results\n",
        "for x, y in similarities_dict.items():\n",
        "    print(x, y)"
      ],
      "metadata": {
        "colab": {
          "base_uri": "https://localhost:8080/"
        },
        "id": "ZQH36cWcm3Bw",
        "outputId": "3978980c-a2ea-45f1-99c3-26b9dbde4089"
      },
      "execution_count": 63,
      "outputs": [
        {
          "output_type": "stream",
          "name": "stdout",
          "text": [
            "apartment [('flat', 0.9589679), ('house', 0.8805188), ('clean', 0.87680316), ('spacious', 0.8684752), ('place', 0.8595328), ('location', 0.83698565), ('super', 0.8356085), ('really', 0.8218239), ('space', 0.81940496), ('comfortable', 0.8163752), ('well', 0.80953133), ('lovely', 0.79709643), ('beautiful', 0.77629447), ('family', 0.7601439), ('view', 0.74476266), ('balcony', 0.74085456), ('located', 0.74079674), ('everything', 0.73879594), ('perfect', 0.7335897), ('loved', 0.72106653), ('fantastic', 0.71743137), ('nice', 0.71432686), ('amazing', 0.6906067), ('host', 0.6856121), ('quiet', 0.68546283), ('close', 0.6725171), ('excellent', 0.6667797), ('city', 0.6636709), ('wonderful', 0.66089773), ('area', 0.660726), ('much', 0.6497061), ('neighborhood', 0.6482196), ('kitchen', 0.64268446), ('little', 0.6371335), ('need', 0.6324584), ('stay', 0.6270072), ('enjoyed', 0.62246394), ('needed', 0.6206222), ('great', 0.6166515), ('room', 0.60409147), ('acropolis', 0.60402215), ('experience', 0.60381454), ('easy', 0.60174626), ('could', 0.59840804), ('good', 0.5981132), ('two', 0.59366), ('thanks', 0.5889094), ('friendly', 0.5835755), ('also', 0.5828423), ('metro', 0.58063143), ('thank', 0.5696704), ('within', 0.56731623), ('see', 0.5668887), ('kind', 0.5618512), ('athens', 0.5617722), ('like', 0.5595009), ('right', 0.55652595), ('minutes', 0.5564478), ('staying', 0.54913807), ('made', 0.5478222), ('station', 0.54477274), ('provided', 0.5405899), ('walk', 0.5390241), ('walking', 0.5368133), ('helpful', 0.53025824), ('romanos', 0.5299831), ('home', 0.5278205), ('time', 0.5276187), ('felt', 0.5263496), ('feel', 0.51895994), ('many', 0.5092829), ('even', 0.5091678), ('restaurants', 0.506941), ('away', 0.5036639), ('airbnb', 0.48862264), ('distance', 0.48155773), ('bars', 0.45228556), ('would', 0.45086437), ('highly', 0.450334), ('street', 0.44788042), ('gave', 0.44564953), ('get', 0.4424577), ('one', 0.43668893), ('stayed', 0.43022552), ('definitely', 0.4268137), ('visit', 0.42119116), ('around', 0.41886377), ('us', 0.41408038), ('arrived', 0.36908048), ('recommend', 0.36187834), ('local', 0.34751123), ('best', 0.33460706), ('recommended', 0.32619134), ('places', 0.32513553), ('night', 0.31131664), ('airport', 0.30830818), ('go', 0.27067763), ('back', 0.25151327), ('day', 0.21133225)]\n",
            "great [('excellent', 0.9634003), ('fantastic', 0.9388527), ('good', 0.9380713), ('amazing', 0.8798658), ('wonderful', 0.87439805), ('nice', 0.8625662), ('perfect', 0.8472482), ('lovely', 0.8395052), ('super', 0.80276716), ('really', 0.7630757), ('beautiful', 0.7605797), ('many', 0.74759114), ('enjoyed', 0.7415139), ('loved', 0.73706675), ('friendly', 0.7110353), ('best', 0.7012483), ('close', 0.69163656), ('clean', 0.67038965), ('well', 0.6687558), ('flat', 0.66222197), ('also', 0.6551976), ('helpful', 0.65350497), ('city', 0.65222126), ('spacious', 0.6502835), ('bars', 0.6399165), ('provided', 0.6367269), ('house', 0.63646054), ('gave', 0.6360557), ('quiet', 0.63438), ('area', 0.63006437), ('local', 0.6246888), ('thanks', 0.62378615), ('restaurants', 0.62236917), ('see', 0.6195681), ('comfortable', 0.6190212), ('apartment', 0.6166515), ('kind', 0.61421543), ('athens', 0.6124139), ('neighborhood', 0.6080941), ('easy', 0.60353607), ('located', 0.5991272), ('places', 0.59838426), ('within', 0.59229517), ('romanos', 0.5879858), ('family', 0.58653283), ('much', 0.58317053), ('place', 0.57672787), ('around', 0.57557034), ('thank', 0.56967455), ('little', 0.5693219), ('host', 0.5690731), ('space', 0.5657519), ('location', 0.5643052), ('acropolis', 0.55924815), ('recommended', 0.5561128), ('visit', 0.5542451), ('right', 0.54264694), ('balcony', 0.5382082), ('needed', 0.52280825), ('distance', 0.52128726), ('walking', 0.51962686), ('experience', 0.5121363), ('view', 0.51030904), ('made', 0.50814843), ('airbnb', 0.50618964), ('need', 0.50485814), ('could', 0.50001794), ('us', 0.49507535), ('everything', 0.4944488), ('staying', 0.4879028), ('metro', 0.48135123), ('recommend', 0.48014563), ('would', 0.47262236), ('get', 0.4646284), ('stay', 0.46385023), ('definitely', 0.46319038), ('minutes', 0.46280485), ('station', 0.45205337), ('go', 0.44551027), ('highly', 0.4423086), ('walk', 0.439347), ('like', 0.42463005), ('street', 0.41945034), ('even', 0.41902062), ('away', 0.41504398), ('kitchen', 0.3971878), ('time', 0.39042667), ('arrived', 0.38771433), ('two', 0.38415778), ('felt', 0.3839553), ('one', 0.3826581), ('feel', 0.37602422), ('room', 0.3507665), ('stayed', 0.34205598), ('home', 0.30892745), ('airport', 0.30658647), ('back', 0.27134758), ('night', 0.26346907), ('day', 0.16472954)]\n",
            "us [('arrived', 0.91571486), ('provided', 0.8891004), ('gave', 0.8851893), ('even', 0.8514213), ('airport', 0.81509846), ('made', 0.79986995), ('helpful', 0.7944536), ('kind', 0.793894), ('friendly', 0.7575433), ('romanos', 0.72692424), ('also', 0.7251167), ('get', 0.68983996), ('local', 0.67339295), ('host', 0.67082286), ('around', 0.66001296), ('needed', 0.656254), ('easy', 0.6340569), ('super', 0.5861982), ('excellent', 0.57531554), ('thanks', 0.5660497), ('feel', 0.54769814), ('really', 0.5462781), ('thank', 0.52772224), ('wonderful', 0.5272686), ('places', 0.5163988), ('much', 0.5141577), ('good', 0.51395994), ('time', 0.5134822), ('great', 0.49507535), ('house', 0.48641783), ('go', 0.47833443), ('many', 0.45873618), ('lovely', 0.45086277), ('nice', 0.44593298), ('could', 0.43241283), ('everything', 0.4280138), ('little', 0.42284274), ('see', 0.41942686), ('family', 0.41472816), ('apartment', 0.41408038), ('day', 0.40749916), ('well', 0.40321365), ('station', 0.4009026), ('fantastic', 0.40029654), ('flat', 0.39644676), ('metro', 0.38290206), ('airbnb', 0.38174793), ('home', 0.3691279), ('felt', 0.36783338), ('back', 0.35485202), ('restaurants', 0.34836352), ('visit', 0.34424517), ('need', 0.3437778), ('city', 0.3402319), ('experience', 0.33713302), ('right', 0.33343664), ('recommended', 0.3333367), ('night', 0.33181328), ('bars', 0.32221392), ('area', 0.32179818), ('stay', 0.31686056), ('kitchen', 0.31367582), ('like', 0.31073228), ('best', 0.31061512), ('clean', 0.28844225), ('room', 0.28620917), ('away', 0.28573865), ('amazing', 0.28542906), ('minutes', 0.28008965), ('within', 0.2791435), ('perfect', 0.26581502), ('comfortable', 0.26267117), ('neighborhood', 0.2617182), ('close', 0.25621918), ('would', 0.25505182), ('athens', 0.25191048), ('street', 0.25105524), ('definitely', 0.24910274), ('place', 0.24734092), ('highly', 0.23822759), ('walk', 0.23601922), ('enjoyed', 0.2147954), ('space', 0.2086061), ('spacious', 0.20811017), ('walking', 0.20738842), ('beautiful', 0.2038914), ('one', 0.20176984), ('recommend', 0.19713667), ('staying', 0.18999577), ('distance', 0.17496668), ('loved', 0.16730317), ('location', 0.16510592), ('stayed', 0.13572605), ('quiet', 0.11693608), ('balcony', 0.11601814), ('located', 0.111812435), ('two', 0.11127538), ('acropolis', 0.05947008), ('view', 0.0008626914)]\n",
            "stay [('staying', 0.9186815), ('thanks', 0.8870852), ('thank', 0.8822163), ('place', 0.87272745), ('time', 0.8711099), ('experience', 0.8686207), ('much', 0.86682457), ('would', 0.85622144), ('definitely', 0.8304209), ('visit', 0.82891715), ('recommend', 0.811721), ('family', 0.8023774), ('athens', 0.7782316), ('back', 0.7765657), ('airbnb', 0.7277437), ('really', 0.71314716), ('loved', 0.7076339), ('recommended', 0.6979152), ('host', 0.6932623), ('enjoyed', 0.69029206), ('highly', 0.6852821), ('wonderful', 0.67648095), ('fantastic', 0.65112174), ('perfect', 0.63842875), ('romanos', 0.63469326), ('go', 0.632128), ('apartment', 0.6270072), ('flat', 0.61945814), ('kind', 0.6115078), ('stayed', 0.5948299), ('everything', 0.5907312), ('beautiful', 0.58627653), ('could', 0.5852736), ('see', 0.56765836), ('house', 0.56667066), ('location', 0.56662005), ('amazing', 0.55616903), ('helpful', 0.55519855), ('lovely', 0.54558724), ('view', 0.54173654), ('home', 0.5334677), ('made', 0.5331849), ('friendly', 0.5281808), ('best', 0.5113198), ('felt', 0.50445306), ('feel', 0.49930942), ('comfortable', 0.49119753), ('super', 0.48427492), ('clean', 0.47674665), ('like', 0.47323993), ('one', 0.4699283), ('spacious', 0.46740234), ('great', 0.46385023), ('city', 0.46364307), ('space', 0.46289986), ('day', 0.45780134), ('needed', 0.45202774), ('excellent', 0.45002767), ('located', 0.4336566), ('need', 0.4135234), ('balcony', 0.40105194), ('easy', 0.3838075), ('walking', 0.38287026), ('within', 0.36844036), ('neighborhood', 0.36829743), ('nice', 0.36806613), ('distance', 0.36605513), ('close', 0.36578786), ('quiet', 0.3615059), ('get', 0.35466614), ('arrived', 0.35464317), ('well', 0.3527225), ('good', 0.34924594), ('night', 0.34741372), ('many', 0.33106995), ('provided', 0.33036643), ('two', 0.32184252), ('acropolis', 0.31978694), ('area', 0.31847814), ('us', 0.31686056), ('places', 0.3058265), ('gave', 0.29960403), ('airport', 0.29911628), ('walk', 0.2927426), ('metro', 0.27552006), ('little', 0.26749867), ('right', 0.26695845), ('local', 0.2457146), ('station', 0.2436871), ('restaurants', 0.24169508), ('minutes', 0.2410149), ('bars', 0.2406981), ('even', 0.23965564), ('room', 0.23376808), ('away', 0.22932231), ('also', 0.22387356), ('kitchen', 0.21376601), ('around', 0.20859638), ('street', 0.13374427)]\n",
            "athens [('visit', 0.9326086), ('definitely', 0.83966976), ('go', 0.82547045), ('staying', 0.81923103), ('would', 0.8167178), ('place', 0.8045328), ('city', 0.7951894), ('see', 0.79461443), ('enjoyed', 0.7799912), ('stay', 0.7782316), ('time', 0.7660279), ('perfect', 0.75986844), ('back', 0.7556314), ('fantastic', 0.7470699), ('loved', 0.74394304), ('thanks', 0.732479), ('recommend', 0.72725576), ('experience', 0.7256141), ('much', 0.72044134), ('thank', 0.70726115), ('best', 0.701204), ('highly', 0.699847), ('within', 0.6731814), ('amazing', 0.6692524), ('acropolis', 0.6675154), ('airbnb', 0.66518223), ('close', 0.6631866), ('recommended', 0.65928733), ('location', 0.65156025), ('walking', 0.6349084), ('wonderful', 0.63481045), ('walk', 0.6330471), ('located', 0.63167566), ('really', 0.6204095), ('family', 0.6138552), ('great', 0.6124139), ('right', 0.6052343), ('many', 0.6006649), ('beautiful', 0.58774126), ('places', 0.5851687), ('could', 0.5840206), ('get', 0.581886), ('minutes', 0.58184755), ('one', 0.58167446), ('distance', 0.58108234), ('away', 0.5796381), ('neighborhood', 0.5775735), ('metro', 0.5767023), ('day', 0.57044035), ('quiet', 0.5668792), ('station', 0.5665559), ('view', 0.56309485), ('apartment', 0.5617722), ('stayed', 0.55693144), ('bars', 0.5496147), ('flat', 0.5426281), ('house', 0.53772634), ('area', 0.532752), ('lovely', 0.52698016), ('excellent', 0.52683467), ('restaurants', 0.5231137), ('good', 0.5218215), ('night', 0.5190518), ('easy', 0.48776376), ('around', 0.48203588), ('felt', 0.47732684), ('nice', 0.4584291), ('like', 0.44684032), ('home', 0.44443902), ('everything', 0.43450853), ('local', 0.42878902), ('host', 0.42501196), ('spacious', 0.4231848), ('street', 0.41443723), ('balcony', 0.41350222), ('two', 0.40857816), ('super', 0.3950755), ('little', 0.3948561), ('romanos', 0.39283767), ('clean', 0.38039908), ('kind', 0.37436488), ('made', 0.37298086), ('helpful', 0.3697331), ('also', 0.3683055), ('space', 0.36772227), ('need', 0.35774732), ('feel', 0.35728186), ('comfortable', 0.35688278), ('friendly', 0.3515231), ('airport', 0.34346902), ('well', 0.3136527), ('gave', 0.29437357), ('needed', 0.26641962), ('us', 0.25191048), ('provided', 0.22529182), ('arrived', 0.22458608), ('even', 0.18955897), ('room', 0.126773), ('kitchen', 0.107324496)]\n",
            "place [('stay', 0.87272745), ('apartment', 0.8595328), ('staying', 0.8545305), ('experience', 0.8506987), ('family', 0.84858876), ('loved', 0.8447516), ('flat', 0.84147555), ('really', 0.82784307), ('location', 0.8183259), ('much', 0.8103313), ('athens', 0.8045328), ('enjoyed', 0.7975371), ('thanks', 0.7892069), ('view', 0.78492236), ('house', 0.78405154), ('thank', 0.7831446), ('beautiful', 0.774041), ('fantastic', 0.7685417), ('perfect', 0.7649184), ('would', 0.7501633), ('time', 0.74962217), ('definitely', 0.7400486), ('visit', 0.722421), ('amazing', 0.72045386), ('spacious', 0.7199233), ('space', 0.71345353), ('wonderful', 0.71297807), ('lovely', 0.7089213), ('airbnb', 0.6993841), ('clean', 0.69702005), ('comfortable', 0.6871581), ('highly', 0.685654), ('host', 0.68504363), ('balcony', 0.6698788), ('located', 0.66930026), ('city', 0.6631597), ('super', 0.6592717), ('recommend', 0.64358073), ('see', 0.64279807), ('everything', 0.6257107), ('quiet', 0.6242432), ('neighborhood', 0.61515236), ('like', 0.5992682), ('home', 0.59859025), ('stayed', 0.5928272), ('close', 0.5924175), ('could', 0.5921796), ('felt', 0.5890575), ('acropolis', 0.5880821), ('great', 0.57672787), ('excellent', 0.57263094), ('back', 0.57097346), ('area', 0.5708048), ('nice', 0.57048655), ('romanos', 0.5665701), ('well', 0.5560616), ('recommended', 0.55449635), ('one', 0.5533431), ('kind', 0.54288006), ('within', 0.5428285), ('two', 0.5358192), ('walking', 0.5334246), ('friendly', 0.5268512), ('feel', 0.51939195), ('best', 0.5161002), ('distance', 0.50650334), ('need', 0.50461614), ('go', 0.5004753), ('made', 0.4998296), ('good', 0.49726686), ('helpful', 0.4954876), ('little', 0.49237126), ('right', 0.48605612), ('many', 0.48359865), ('walk', 0.4813872), ('minutes', 0.46069768), ('needed', 0.45305535), ('restaurants', 0.45162475), ('easy', 0.45126045), ('metro', 0.44785547), ('away', 0.4383598), ('room', 0.43744946), ('bars', 0.4288966), ('kitchen', 0.41878948), ('station', 0.41790432), ('night', 0.39858449), ('day', 0.3835899), ('also', 0.3682005), ('places', 0.36581403), ('street', 0.36444163), ('get', 0.35430503), ('provided', 0.34554803), ('local', 0.30823648), ('gave', 0.29710585), ('around', 0.29659876), ('even', 0.2698499), ('arrived', 0.26163363), ('us', 0.24734092), ('airport', 0.19661896)]\n",
            "location [('apartment', 0.83698565), ('city', 0.82054275), ('close', 0.81980187), ('located', 0.81838137), ('place', 0.8183259), ('view', 0.81428254), ('acropolis', 0.8121063), ('flat', 0.80462784), ('neighborhood', 0.7700883), ('within', 0.7478795), ('area', 0.7425038), ('spacious', 0.73882896), ('walk', 0.72143954), ('clean', 0.71820366), ('house', 0.71655875), ('minutes', 0.7105988), ('perfect', 0.70908326), ('distance', 0.70630836), ('quiet', 0.7027671), ('metro', 0.69689214), ('space', 0.6826478), ('restaurants', 0.6812094), ('beautiful', 0.6804483), ('fantastic', 0.67926896), ('right', 0.6779566), ('balcony', 0.6710516), ('walking', 0.67093325), ('really', 0.66946393), ('super', 0.66919214), ('amazing', 0.6645544), ('see', 0.6633653), ('station', 0.65337545), ('athens', 0.65156025), ('loved', 0.64631534), ('away', 0.6422897), ('many', 0.64016706), ('bars', 0.61892545), ('lovely', 0.61054575), ('easy', 0.60493153), ('well', 0.6021889), ('comfortable', 0.6005197), ('nice', 0.58776116), ('excellent', 0.5834102), ('experience', 0.5824304), ('enjoyed', 0.57422626), ('everything', 0.5683115), ('stay', 0.56662005), ('great', 0.5643052), ('family', 0.5636398), ('little', 0.5569127), ('street', 0.54816484), ('host', 0.5308094), ('staying', 0.52326673), ('also', 0.51360923), ('two', 0.5123924), ('good', 0.51038665), ('visit', 0.5059256), ('around', 0.5038894), ('wonderful', 0.4771545), ('need', 0.47317475), ('get', 0.46456832), ('much', 0.46184763), ('places', 0.45444912), ('time', 0.4502491), ('could', 0.4492905), ('thanks', 0.44884652), ('highly', 0.4295213), ('like', 0.42540994), ('airbnb', 0.41364592), ('kitchen', 0.41276148), ('recommended', 0.41167203), ('thank', 0.40850896), ('felt', 0.40371495), ('one', 0.40121442), ('definitely', 0.39361593), ('recommend', 0.39239138), ('home', 0.39229602), ('would', 0.39007863), ('best', 0.38750553), ('local', 0.38471946), ('friendly', 0.37541574), ('room', 0.37192845), ('go', 0.34676918), ('stayed', 0.3443979), ('provided', 0.3253814), ('needed', 0.31824604), ('helpful', 0.31736588), ('gave', 0.31114614), ('feel', 0.30495274), ('night', 0.28022906), ('kind', 0.27497393), ('made', 0.27289164), ('romanos', 0.2630393), ('even', 0.255194), ('back', 0.19360472), ('airport', 0.19301733), ('day', 0.17793807), ('us', 0.16510592), ('arrived', 0.08625858)]\n",
            "host [('friendly', 0.90818816), ('helpful', 0.9044054), ('kind', 0.89729905), ('romanos', 0.88675123), ('thanks', 0.8275371), ('thank', 0.80674016), ('super', 0.77578586), ('really', 0.77179635), ('experience', 0.77095824), ('family', 0.7524648), ('wonderful', 0.73227787), ('provided', 0.7277018), ('made', 0.70780766), ('time', 0.70001346), ('stay', 0.6932623), ('gave', 0.69259006), ('much', 0.6918362), ('apartment', 0.6856121), ('place', 0.68504363), ('arrived', 0.68058014), ('excellent', 0.67748433), ('us', 0.67082286), ('airbnb', 0.6612853), ('flat', 0.65558124), ('fantastic', 0.62790656), ('house', 0.61141497), ('lovely', 0.60209775), ('staying', 0.5760874), ('great', 0.5690731), ('easy', 0.5675245), ('needed', 0.5448972), ('amazing', 0.5396034), ('location', 0.5308094), ('even', 0.5305652), ('recommended', 0.53033817), ('everything', 0.5172299), ('airport', 0.5136211), ('clean', 0.51174885), ('would', 0.5053415), ('also', 0.49607635), ('highly', 0.4956623), ('visit', 0.4902131), ('beautiful', 0.4820447), ('space', 0.48168498), ('feel', 0.47940937), ('definitely', 0.47552207), ('nice', 0.47221974), ('good', 0.46811604), ('comfortable', 0.46739516), ('perfect', 0.4664043), ('loved', 0.4651865), ('recommend', 0.4634476), ('enjoyed', 0.46197012), ('spacious', 0.4520159), ('view', 0.44210023), ('local', 0.43730453), ('well', 0.43331724), ('athens', 0.42501196), ('best', 0.40301746), ('back', 0.3992052), ('home', 0.39806506), ('could', 0.38374698), ('get', 0.38361296), ('many', 0.3807434), ('stayed', 0.37129095), ('see', 0.37096), ('city', 0.36346924), ('balcony', 0.36096984), ('places', 0.35546386), ('go', 0.34655005), ('felt', 0.34590176), ('around', 0.32696536), ('room', 0.32060346), ('like', 0.3189377), ('restaurants', 0.3098029), ('neighborhood', 0.30790016), ('kitchen', 0.3019951), ('need', 0.301494), ('area', 0.29850382), ('little', 0.28874743), ('close', 0.26925337), ('one', 0.2593157), ('within', 0.24432924), ('metro', 0.2435636), ('walking', 0.2414192), ('day', 0.24110547), ('located', 0.23922977), ('distance', 0.23437095), ('bars', 0.23086692), ('station', 0.21133895), ('two', 0.18994899), ('quiet', 0.18350777), ('minutes', 0.17049083), ('night', 0.16785534), ('right', 0.16122353), ('acropolis', 0.15839721), ('walk', 0.1484095), ('away', 0.10025242), ('street', 0.075426325)]\n",
            "everything [('apartment', 0.73879594), ('flat', 0.73143935), ('needed', 0.73089474), ('well', 0.73082286), ('clean', 0.72695386), ('need', 0.72432446), ('comfortable', 0.71279025), ('could', 0.712613), ('spacious', 0.6544762), ('house', 0.6481775), ('super', 0.6414404), ('place', 0.6257107), ('really', 0.6177705), ('much', 0.60742575), ('stay', 0.5907312), ('lovely', 0.58738726), ('space', 0.58516777), ('kitchen', 0.58321047), ('provided', 0.57873404), ('perfect', 0.57701945), ('even', 0.5749255), ('location', 0.5683115), ('made', 0.5663664), ('walking', 0.5638988), ('beautiful', 0.5515996), ('see', 0.55152375), ('nice', 0.5424031), ('easy', 0.5398625), ('located', 0.523831), ('feel', 0.5228289), ('excellent', 0.5188627), ('family', 0.5182672), ('host', 0.5172299), ('fantastic', 0.51455766), ('also', 0.5130176), ('loved', 0.51254386), ('wonderful', 0.5010864), ('little', 0.49839342), ('great', 0.4944488), ('area', 0.49237317), ('within', 0.49194586), ('thanks', 0.49162832), ('thank', 0.4787047), ('close', 0.47772336), ('amazing', 0.47752818), ('good', 0.47587413), ('balcony', 0.47543004), ('quiet', 0.4727076), ('get', 0.46507668), ('kind', 0.46428668), ('like', 0.46068293), ('home', 0.45756882), ('felt', 0.446113), ('room', 0.44468355), ('helpful', 0.4418651), ('gave', 0.43895516), ('neighborhood', 0.4351808), ('athens', 0.43450853), ('friendly', 0.43138695), ('view', 0.43030342), ('us', 0.4280138), ('metro', 0.4265086), ('city', 0.42181343), ('many', 0.4213686), ('enjoyed', 0.41812357), ('time', 0.40466812), ('distance', 0.39959282), ('right', 0.39554062), ('would', 0.39311782), ('romanos', 0.38786387), ('visit', 0.3683522), ('experience', 0.36696163), ('staying', 0.36568072), ('around', 0.3646917), ('acropolis', 0.3641714), ('definitely', 0.35559106), ('station', 0.3540685), ('walk', 0.35181722), ('arrived', 0.34968567), ('restaurants', 0.34878325), ('two', 0.33135748), ('local', 0.33114666), ('minutes', 0.3289189), ('go', 0.32647595), ('recommend', 0.32354972), ('bars', 0.31499603), ('airbnb', 0.30478346), ('away', 0.29919603), ('one', 0.29701126), ('highly', 0.29451758), ('street', 0.2923994), ('airport', 0.29085526), ('places', 0.2867823), ('recommended', 0.27512613), ('back', 0.24858312), ('best', 0.23034771), ('stayed', 0.22069883), ('night', 0.1800301), ('day', 0.12802497)]\n",
            "clean [('spacious', 0.9748393), ('comfortable', 0.95627517), ('well', 0.93519115), ('flat', 0.9270255), ('space', 0.90392524), ('lovely', 0.87955344), ('apartment', 0.87680316), ('beautiful', 0.8654364), ('super', 0.86411846), ('nice', 0.85482115), ('house', 0.8421721), ('balcony', 0.81522954), ('quiet', 0.7943278), ('kitchen', 0.79047525), ('located', 0.7861349), ('really', 0.7856918), ('loved', 0.76240283), ('perfect', 0.7418098), ('everything', 0.72695386), ('fantastic', 0.72138095), ('location', 0.71820366), ('little', 0.7134144), ('amazing', 0.7131002), ('need', 0.71145153), ('room', 0.70774066), ('excellent', 0.70398235), ('good', 0.703829), ('view', 0.70125437), ('place', 0.69702005), ('area', 0.69056445), ('family', 0.67729336), ('great', 0.67038965), ('neighborhood', 0.6600716), ('close', 0.6553151), ('wonderful', 0.653813), ('needed', 0.6414792), ('enjoyed', 0.631998), ('two', 0.62997854), ('like', 0.6160935), ('acropolis', 0.5697041), ('also', 0.5642501), ('much', 0.5489065), ('could', 0.53104866), ('felt', 0.52911514), ('within', 0.52760047), ('right', 0.52142537), ('friendly', 0.5194643), ('city', 0.51856935), ('host', 0.51174885), ('provided', 0.5051042), ('walking', 0.5019367), ('many', 0.4986932), ('feel', 0.49175453), ('restaurants', 0.48721203), ('street', 0.48477077), ('stay', 0.47674665), ('home', 0.4754472), ('bars', 0.47100633), ('minutes', 0.46927255), ('metro', 0.4676684), ('easy', 0.4667075), ('kind', 0.4643309), ('distance', 0.4525413), ('made', 0.44940954), ('walk', 0.4452317), ('see', 0.44149327), ('away', 0.4357315), ('staying', 0.43416822), ('helpful', 0.43208018), ('even', 0.42990762), ('station', 0.41977715), ('thanks', 0.41644657), ('romanos', 0.41466832), ('experience', 0.41225973), ('thank', 0.39324456), ('athens', 0.38039908), ('one', 0.3535176), ('gave', 0.3416008), ('would', 0.3379127), ('stayed', 0.3361754), ('highly', 0.3300958), ('around', 0.32122925), ('recommend', 0.31895235), ('local', 0.31154904), ('airbnb', 0.3085007), ('definitely', 0.29353917), ('us', 0.28844225), ('recommended', 0.2636751), ('get', 0.25883657), ('best', 0.25372165), ('time', 0.24915466), ('visit', 0.23015049), ('arrived', 0.2239304), ('places', 0.21374236), ('night', 0.20406823), ('airport', 0.0832926), ('go', 0.07089307), ('back', 0.05473688), ('day', 0.009839822)]\n",
            "nice [('lovely', 0.92697686), ('good', 0.92356145), ('super', 0.87936485), ('well', 0.8718068), ('great', 0.8625662), ('clean', 0.85482115), ('excellent', 0.8547185), ('spacious', 0.8478536), ('quiet', 0.8399005), ('beautiful', 0.8336271), ('fantastic', 0.826348), ('comfortable', 0.82426065), ('really', 0.81579804), ('flat', 0.8118846), ('house', 0.8060018), ('area', 0.80321187), ('little', 0.7949267), ('space', 0.78757614), ('neighborhood', 0.77212125), ('loved', 0.7690113), ('amazing', 0.7652966), ('located', 0.75792253), ('wonderful', 0.75030786), ('balcony', 0.7483615), ('also', 0.745423), ('enjoyed', 0.73768693), ('perfect', 0.7365107), ('close', 0.7344975), ('many', 0.72181165), ('apartment', 0.71432686), ('bars', 0.705016), ('kitchen', 0.69276327), ('restaurants', 0.67764413), ('right', 0.64813316), ('friendly', 0.6373305), ('street', 0.6340631), ('city', 0.6318571), ('provided', 0.6291719), ('room', 0.6236826), ('local', 0.6101638), ('acropolis', 0.60479826), ('like', 0.5980612), ('location', 0.58776116), ('family', 0.5872742), ('within', 0.5774727), ('two', 0.57340205), ('place', 0.57048655), ('around', 0.5652739), ('need', 0.5634424), ('view', 0.55522674), ('gave', 0.55062836), ('needed', 0.54951876), ('helpful', 0.54893553), ('everything', 0.5424031), ('metro', 0.5422651), ('felt', 0.53998643), ('kind', 0.53821677), ('easy', 0.53715503), ('minutes', 0.5366994), ('away', 0.5360304), ('much', 0.5326154), ('see', 0.5264355), ('station', 0.5232687), ('romanos', 0.49152917), ('walk', 0.48652), ('places', 0.48603627), ('made', 0.48454386), ('walking', 0.4789965), ('feel', 0.47580308), ('host', 0.47221974), ('distance', 0.46583548), ('athens', 0.4584291), ('thanks', 0.45602196), ('even', 0.44824785), ('us', 0.44593298), ('recommended', 0.43668324), ('could', 0.43155706), ('best', 0.42584258), ('home', 0.41971192), ('staying', 0.4103768), ('thank', 0.40304318), ('recommend', 0.3935575), ('get', 0.39005616), ('would', 0.38054323), ('experience', 0.3749946), ('stay', 0.36806613), ('highly', 0.35842556), ('one', 0.35434476), ('definitely', 0.35225624), ('visit', 0.34593436), ('arrived', 0.3431966), ('night', 0.3133469), ('airbnb', 0.30827007), ('go', 0.2757115), ('stayed', 0.25830716), ('time', 0.2565101), ('airport', 0.2169483), ('back', 0.14579034), ('day', 0.119332865)]\n",
            "would [('definitely', 0.94217527), ('staying', 0.9002725), ('recommend', 0.86458826), ('stay', 0.85622144), ('visit', 0.84456664), ('highly', 0.8396783), ('back', 0.8381026), ('athens', 0.8167178), ('thanks', 0.81586725), ('thank', 0.7917091), ('much', 0.7544223), ('place', 0.7501633), ('time', 0.7460044), ('recommended', 0.73517203), ('experience', 0.732583), ('enjoyed', 0.72139156), ('go', 0.70550025), ('family', 0.68612945), ('loved', 0.68359655), ('airbnb', 0.67333263), ('wonderful', 0.6333615), ('fantastic', 0.6160782), ('really', 0.5779286), ('perfect', 0.57591707), ('stayed', 0.5517505), ('kind', 0.54306734), ('helpful', 0.52543676), ('best', 0.5232404), ('see', 0.52035356), ('romanos', 0.51655155), ('host', 0.5053415), ('amazing', 0.5009642), ('could', 0.49967858), ('day', 0.49887738), ('beautiful', 0.48150727), ('great', 0.47262236), ('friendly', 0.46797204), ('one', 0.46565762), ('flat', 0.46549165), ('lovely', 0.4648567), ('excellent', 0.46058893), ('apartment', 0.45086437), ('good', 0.44467923), ('city', 0.44204947), ('house', 0.41171843), ('located', 0.4101057), ('within', 0.40172225), ('view', 0.3943642), ('everything', 0.39311782), ('location', 0.39007863), ('super', 0.38873917), ('walking', 0.3848059), ('nice', 0.38054323), ('felt', 0.37599397), ('made', 0.3757884), ('night', 0.37439626), ('get', 0.37164947), ('comfortable', 0.3686129), ('close', 0.367686), ('easy', 0.3649692), ('places', 0.36451814), ('many', 0.35927972), ('like', 0.3587052), ('acropolis', 0.35851628), ('quiet', 0.35272935), ('home', 0.34858388), ('spacious', 0.34796345), ('walk', 0.34622514), ('airport', 0.34022745), ('two', 0.33923823), ('clean', 0.3379127), ('space', 0.33517802), ('distance', 0.3243215), ('bars', 0.32188833), ('balcony', 0.32145584), ('neighborhood', 0.31584144), ('needed', 0.31380597), ('metro', 0.31261998), ('feel', 0.30982336), ('station', 0.30468765), ('minutes', 0.30417895), ('local', 0.29983622), ('arrived', 0.2989807), ('need', 0.29652703), ('restaurants', 0.29057142), ('away', 0.28943172), ('area', 0.28273508), ('well', 0.2672692), ('also', 0.2656589), ('us', 0.25505182), ('right', 0.24646915), ('provided', 0.23427644), ('little', 0.22720575), ('gave', 0.21617964), ('around', 0.19442151), ('street', 0.18242475), ('room', 0.16771771), ('kitchen', 0.13716671), ('even', 0.1288436)]\n",
            "recommend [('recommended', 0.9293706), ('would', 0.86458826), ('staying', 0.8541423), ('stay', 0.811721), ('visit', 0.7829665), ('definitely', 0.7656765), ('back', 0.7374431), ('athens', 0.72725576), ('thanks', 0.71705854), ('thank', 0.6874177), ('experience', 0.6818023), ('enjoyed', 0.6740048), ('time', 0.66987246), ('place', 0.64358073), ('much', 0.64137524), ('go', 0.6411875), ('loved', 0.6341978), ('fantastic', 0.615742), ('family', 0.60016435), ('wonderful', 0.5902735), ('highly', 0.583051), ('perfect', 0.55879265), ('airbnb', 0.55810976), ('really', 0.5114691), ('best', 0.4875096), ('amazing', 0.4849429), ('beautiful', 0.481248), ('stayed', 0.48111147), ('great', 0.48014563), ('kind', 0.47460607), ('romanos', 0.47314474), ('helpful', 0.47130823), ('host', 0.4634476), ('lovely', 0.46015128), ('excellent', 0.45722172), ('see', 0.44984466), ('friendly', 0.44011718), ('city', 0.43716568), ('located', 0.41895807), ('good', 0.41487208), ('flat', 0.39875194), ('nice', 0.3935575), ('location', 0.39239138), ('close', 0.38897508), ('day', 0.38185543), ('super', 0.37371525), ('within', 0.37181884), ('view', 0.36888197), ('could', 0.36453047), ('quiet', 0.36310264), ('apartment', 0.36187834), ('many', 0.36097562), ('easy', 0.35891083), ('house', 0.35835955), ('acropolis', 0.35733557), ('neighborhood', 0.35174674), ('felt', 0.3494035), ('spacious', 0.3404553), ('comfortable', 0.33754945), ('walk', 0.33732942), ('one', 0.33728608), ('bars', 0.33662057), ('distance', 0.33401018), ('like', 0.33382207), ('get', 0.3315226), ('walking', 0.32635194), ('everything', 0.32354972), ('clean', 0.31895235), ('metro', 0.31843364), ('made', 0.3141952), ('home', 0.31257483), ('places', 0.3108839), ('space', 0.30233532), ('station', 0.29759234), ('minutes', 0.29575673), ('area', 0.29257372), ('airport', 0.28935343), ('away', 0.28659603), ('restaurants', 0.28545922), ('night', 0.27684325), ('feel', 0.27512923), ('balcony', 0.27491722), ('local', 0.2714829), ('right', 0.2707916), ('two', 0.26769814), ('well', 0.24609621), ('around', 0.22680147), ('also', 0.22271465), ('arrived', 0.2210538), ('need', 0.20938517), ('needed', 0.2082486), ('gave', 0.20199308), ('us', 0.19713667), ('provided', 0.1957429), ('little', 0.19551684), ('street', 0.18051423), ('room', 0.08402496), ('kitchen', 0.060062595), ('even', 0.038982317)]\n",
            "really [('lovely', 0.89466095), ('house', 0.8892432), ('super', 0.8620753), ('flat', 0.8588212), ('wonderful', 0.85374683), ('fantastic', 0.83933884), ('family', 0.8318756), ('much', 0.8279118), ('place', 0.82784307), ('beautiful', 0.8263154), ('apartment', 0.8218239), ('loved', 0.8198408), ('nice', 0.81579804), ('enjoyed', 0.79813385), ('clean', 0.7856918), ('comfortable', 0.7843731), ('friendly', 0.7758657), ('thanks', 0.77255315), ('host', 0.77179635), ('spacious', 0.76619), ('great', 0.7630757), ('excellent', 0.76186806), ('romanos', 0.7618124), ('space', 0.75949955), ('thank', 0.7575632), ('amazing', 0.7499761), ('kind', 0.74403167), ('experience', 0.7347858), ('made', 0.7300981), ('perfect', 0.7261632), ('good', 0.7215634), ('felt', 0.71612215), ('like', 0.71482694), ('stay', 0.71314716), ('feel', 0.7110011), ('helpful', 0.7070751), ('well', 0.6973859), ('neighborhood', 0.6959781), ('staying', 0.69534016), ('home', 0.689225), ('area', 0.6789691), ('balcony', 0.67847663), ('quiet', 0.6777757), ('location', 0.66946393), ('little', 0.64928406), ('provided', 0.6468605), ('time', 0.64187473), ('view', 0.62702453), ('located', 0.620687), ('athens', 0.6204095), ('everything', 0.6177705), ('city', 0.6128886), ('needed', 0.6060333), ('gave', 0.5975312), ('many', 0.59354115), ('also', 0.5914902), ('definitely', 0.58490944), ('close', 0.58323634), ('airbnb', 0.58011836), ('would', 0.5779286), ('visit', 0.5688168), ('see', 0.56498295), ('highly', 0.5646165), ('local', 0.55313987), ('kitchen', 0.54790574), ('us', 0.5462781), ('room', 0.54078496), ('right', 0.5357054), ('restaurants', 0.5273211), ('easy', 0.522792), ('bars', 0.5191433), ('recommend', 0.5114691), ('recommended', 0.51105917), ('need', 0.50828123), ('arrived', 0.48874867), ('could', 0.48820865), ('best', 0.47576472), ('even', 0.47290066), ('two', 0.46419075), ('around', 0.4601042), ('places', 0.4527641), ('acropolis', 0.45253932), ('within', 0.44915742), ('street', 0.42614102), ('walking', 0.4245511), ('go', 0.420175), ('metro', 0.41974834), ('stayed', 0.41833833), ('back', 0.4145677), ('away', 0.41133612), ('one', 0.4071054), ('station', 0.39572674), ('get', 0.39000082), ('minutes', 0.38906017), ('distance', 0.3864339), ('walk', 0.36905342), ('night', 0.35434216), ('airport', 0.2897475), ('day', 0.28079495)]\n",
            "perfect [('fantastic', 0.92986673), ('amazing', 0.9284504), ('loved', 0.88321394), ('beautiful', 0.87459135), ('great', 0.8472482), ('wonderful', 0.83337814), ('enjoyed', 0.83089244), ('lovely', 0.8253395), ('excellent', 0.7867076), ('spacious', 0.76977736), ('place', 0.7649184), ('athens', 0.75986844), ('good', 0.74633604), ('flat', 0.7438987), ('clean', 0.7418098), ('family', 0.7376168), ('nice', 0.7365107), ('apartment', 0.7335897), ('located', 0.73035854), ('really', 0.7261632), ('best', 0.7258177), ('comfortable', 0.7230069), ('quiet', 0.7190479), ('view', 0.71860135), ('could', 0.71408045), ('close', 0.7140359), ('location', 0.70908326), ('house', 0.70678294), ('much', 0.70098275), ('city', 0.69297266), ('acropolis', 0.68338937), ('see', 0.6769895), ('super', 0.676329), ('staying', 0.6748746), ('space', 0.6643385), ('within', 0.65636796), ('well', 0.6545057), ('need', 0.64846367), ('balcony', 0.6404883), ('stay', 0.63842875), ('thanks', 0.63700193), ('visit', 0.63535106), ('airbnb', 0.633974), ('stayed', 0.6338873), ('experience', 0.63348866), ('thank', 0.62554), ('distance', 0.6139499), ('walking', 0.59637815), ('one', 0.59304136), ('right', 0.59227985), ('two', 0.59137475), ('like', 0.58040035), ('neighborhood', 0.57866055), ('everything', 0.57701945), ('would', 0.57591707), ('many', 0.5753155), ('walk', 0.56609756), ('area', 0.56478643), ('little', 0.56416243), ('recommend', 0.55879265), ('minutes', 0.55707854), ('definitely', 0.5468484), ('needed', 0.53075826), ('away', 0.51693016), ('time', 0.5150145), ('felt', 0.51317656), ('metro', 0.5120275), ('recommended', 0.49552917), ('easy', 0.49468732), ('bars', 0.4846071), ('station', 0.48253015), ('friendly', 0.4786723), ('home', 0.4780096), ('romanos', 0.46994507), ('kind', 0.46957192), ('host', 0.4664043), ('made', 0.46020252), ('highly', 0.45543477), ('restaurants', 0.45364234), ('feel', 0.44484925), ('go', 0.44189984), ('kitchen', 0.42905453), ('also', 0.42721677), ('room', 0.42471096), ('get', 0.42434177), ('helpful', 0.41608903), ('back', 0.4125955), ('night', 0.40788433), ('around', 0.40262657), ('street', 0.40142864), ('places', 0.3779817), ('provided', 0.36576757), ('even', 0.3479111), ('gave', 0.315111), ('day', 0.31434867), ('local', 0.31300852), ('us', 0.26581502), ('arrived', 0.24112993), ('airport', 0.18533345)]\n",
            "well [('clean', 0.93519115), ('spacious', 0.897258), ('comfortable', 0.88945353), ('flat', 0.87521255), ('nice', 0.8718068), ('kitchen', 0.8432138), ('super', 0.833875), ('space', 0.8336725), ('lovely', 0.8207326), ('apartment', 0.80953133), ('house', 0.78977877), ('little', 0.77687544), ('quiet', 0.7700512), ('good', 0.76777184), ('balcony', 0.7585711), ('need', 0.7576114), ('beautiful', 0.753477), ('area', 0.7360524), ('located', 0.73261696), ('everything', 0.73082286), ('room', 0.7179195), ('also', 0.70704573), ('excellent', 0.70436686), ('needed', 0.70041996), ('really', 0.6973859), ('close', 0.67076415), ('great', 0.6687558), ('neighborhood', 0.665459), ('perfect', 0.6545057), ('loved', 0.64708406), ('fantastic', 0.64183104), ('provided', 0.6228355), ('amazing', 0.617106), ('two', 0.60368335), ('location', 0.6021889), ('many', 0.5935856), ('street', 0.57319635), ('within', 0.5724331), ('wonderful', 0.5718519), ('restaurants', 0.57004887), ('bars', 0.56750697), ('could', 0.55837315), ('place', 0.5560616), ('right', 0.55370826), ('view', 0.54956377), ('even', 0.5427689), ('acropolis', 0.5419726), ('enjoyed', 0.5387327), ('like', 0.5327371), ('family', 0.5320206), ('walking', 0.51735777), ('metro', 0.51593345), ('city', 0.5137329), ('easy', 0.51178104), ('friendly', 0.49762878), ('see', 0.49536487), ('minutes', 0.4946274), ('station', 0.47985935), ('gave', 0.46473125), ('around', 0.4639419), ('distance', 0.4635071), ('away', 0.46348298), ('much', 0.46278659), ('walk', 0.46059528), ('local', 0.45281973), ('felt', 0.44709292), ('kind', 0.44429788), ('helpful', 0.43667018), ('made', 0.43394485), ('host', 0.43331724), ('feel', 0.42856959), ('us', 0.40321365), ('get', 0.36283955), ('home', 0.36019295), ('romanos', 0.3595618), ('stay', 0.3527225), ('places', 0.34570014), ('one', 0.3453355), ('thanks', 0.3444824), ('athens', 0.3136527), ('arrived', 0.3048523), ('thank', 0.29250717), ('staying', 0.27426243), ('would', 0.2672692), ('experience', 0.25496536), ('highly', 0.24968496), ('recommend', 0.24609621), ('recommended', 0.24284357), ('best', 0.23536272), ('night', 0.23420852), ('definitely', 0.22358806), ('stayed', 0.21419196), ('airbnb', 0.20876579), ('visit', 0.19570437), ('airport', 0.19213219), ('time', 0.1734426), ('go', 0.13510218), ('day', 0.04449487), ('back', 0.03036693)]\n",
            "also [('local', 0.85408974), ('around', 0.8427396), ('many', 0.8299111), ('provided', 0.8246236), ('restaurants', 0.82421345), ('bars', 0.79730994), ('good', 0.79428244), ('gave', 0.78491074), ('area', 0.769258), ('easy', 0.7666781), ('get', 0.7518672), ('station', 0.7512132), ('super', 0.75006557), ('little', 0.7478665), ('nice', 0.745423), ('metro', 0.74539846), ('places', 0.7442026), ('excellent', 0.7353178), ('us', 0.7251167), ('street', 0.71722543), ('even', 0.71634835), ('within', 0.71193224), ('well', 0.70704573), ('close', 0.70654833), ('minutes', 0.7005831), ('neighborhood', 0.68860924), ('right', 0.6807138), ('away', 0.66927356), ('city', 0.6680794), ('great', 0.6551976), ('airport', 0.6512316), ('walk', 0.6497301), ('see', 0.63440794), ('house', 0.6314688), ('flat', 0.63102984), ('helpful', 0.62392515), ('friendly', 0.62099296), ('arrived', 0.5961384), ('kitchen', 0.5931806), ('really', 0.5914902), ('acropolis', 0.5848612), ('apartment', 0.5828423), ('lovely', 0.5792476), ('walking', 0.5703278), ('located', 0.56848574), ('clean', 0.5642501), ('quiet', 0.55822134), ('fantastic', 0.53970987), ('kind', 0.5355878), ('needed', 0.53479636), ('distance', 0.52135384), ('spacious', 0.5212096), ('location', 0.51360923), ('everything', 0.5130176), ('space', 0.5093175), ('host', 0.49607635), ('balcony', 0.4944808), ('room', 0.4937134), ('made', 0.47793975), ('go', 0.47546825), ('need', 0.47349206), ('comfortable', 0.4686641), ('wonderful', 0.4523784), ('amazing', 0.44930795), ('could', 0.43590453), ('perfect', 0.42721677), ('two', 0.42399794), ('beautiful', 0.40442753), ('romanos', 0.4000897), ('night', 0.38755608), ('recommended', 0.38273442), ('thanks', 0.36849052), ('athens', 0.3683055), ('place', 0.3682005), ('much', 0.362387), ('enjoyed', 0.35504636), ('loved', 0.348802), ('visit', 0.34366474), ('feel', 0.3339985), ('highly', 0.33162588), ('family', 0.3286915), ('like', 0.3246363), ('best', 0.32384154), ('felt', 0.31717852), ('one', 0.31001118), ('view', 0.30487213), ('day', 0.3031019), ('thank', 0.27518383), ('time', 0.27352405), ('would', 0.2656589), ('definitely', 0.26150775), ('airbnb', 0.23439465), ('stay', 0.22387356), ('recommend', 0.22271465), ('experience', 0.22218783), ('home', 0.21118781), ('back', 0.16972104), ('staying', 0.15762658), ('stayed', 0.054755013)]\n",
            "acropolis [('minutes', 0.90516496), ('walk', 0.90364945), ('city', 0.8793182), ('close', 0.8789791), ('within', 0.87409973), ('located', 0.87108314), ('away', 0.8698443), ('right', 0.83742166), ('metro', 0.81835675), ('location', 0.8121063), ('station', 0.8118193), ('quiet', 0.80191743), ('neighborhood', 0.78142035), ('street', 0.7806963), ('area', 0.7786381), ('bars', 0.77295715), ('restaurants', 0.76670265), ('walking', 0.74525577), ('view', 0.7370586), ('see', 0.72394615), ('many', 0.71975124), ('distance', 0.71585864), ('balcony', 0.6934948), ('perfect', 0.68338937), ('little', 0.6779303), ('two', 0.66841), ('athens', 0.6675154), ('amazing', 0.6569585), ('spacious', 0.64924055), ('fantastic', 0.6357113), ('flat', 0.63107574), ('beautiful', 0.61790746), ('loved', 0.61092454), ('nice', 0.60479826), ('apartment', 0.60402215), ('good', 0.59679997), ('house', 0.5951323), ('space', 0.5919696), ('place', 0.5880821), ('around', 0.5870992), ('also', 0.5848612), ('clean', 0.5697041), ('great', 0.55924815), ('enjoyed', 0.5564052), ('get', 0.54212445), ('well', 0.5419726), ('one', 0.54043776), ('places', 0.53992563), ('excellent', 0.53180116), ('lovely', 0.5264353), ('easy', 0.5167377), ('night', 0.5085604), ('visit', 0.48859638), ('super', 0.47821653), ('best', 0.47431096), ('comfortable', 0.46994975), ('really', 0.45253932), ('could', 0.44947103), ('go', 0.44826168), ('local', 0.42918384), ('kitchen', 0.42880473), ('staying', 0.40833944), ('room', 0.4081765), ('need', 0.39090103), ('like', 0.39079037), ('recommended', 0.369113), ('highly', 0.36796406), ('family', 0.3662443), ('definitely', 0.36524338), ('everything', 0.3641714), ('stayed', 0.3631537), ('wonderful', 0.3596822), ('would', 0.35851628), ('recommend', 0.35733557), ('experience', 0.35028663), ('day', 0.34958294), ('felt', 0.32695863), ('stay', 0.31978694), ('airbnb', 0.31965888), ('much', 0.3090922), ('time', 0.2687798), ('home', 0.22953899), ('even', 0.22416139), ('thanks', 0.22316286), ('back', 0.21943487), ('airport', 0.20351805), ('thank', 0.17389172), ('provided', 0.17342176), ('gave', 0.1684096), ('host', 0.15839721), ('feel', 0.13780989), ('friendly', 0.1366753), ('needed', 0.12133315), ('helpful', 0.0923183), ('us', 0.05947008), ('kind', 0.052859582), ('made', 0.050153237), ('arrived', 0.014948889), ('romanos', -0.00037928607)]\n",
            "good [('great', 0.9380713), ('excellent', 0.9309144), ('nice', 0.92356145), ('fantastic', 0.84207976), ('lovely', 0.8164154), ('many', 0.8136445), ('super', 0.81229675), ('also', 0.79428244), ('well', 0.76777184), ('amazing', 0.7668093), ('wonderful', 0.7606899), ('bars', 0.7553848), ('perfect', 0.74633604), ('close', 0.73261404), ('area', 0.72805405), ('restaurants', 0.7279977), ('really', 0.7215634), ('local', 0.71390957), ('beautiful', 0.7094917), ('quiet', 0.7040715), ('clean', 0.703829), ('little', 0.69846785), ('loved', 0.6871431), ('enjoyed', 0.68692106), ('flat', 0.6817732), ('spacious', 0.6816053), ('provided', 0.67492795), ('neighborhood', 0.672735), ('friendly', 0.6598276), ('comfortable', 0.6540015), ('places', 0.65224725), ('house', 0.65042835), ('located', 0.6495008), ('within', 0.647953), ('city', 0.636085), ('gave', 0.6309804), ('around', 0.62781584), ('space', 0.62419635), ('helpful', 0.61472875), ('easy', 0.60855067), ('see', 0.6082027), ('balcony', 0.6048331), ('apartment', 0.5981132), ('acropolis', 0.59679997), ('best', 0.5888594), ('right', 0.588655), ('street', 0.5750252), ('kitchen', 0.56122136), ('kind', 0.5600195), ('metro', 0.55376625), ('minutes', 0.5475077), ('need', 0.54678977), ('station', 0.5435126), ('walking', 0.54222196), ('needed', 0.5386038), ('athens', 0.5218215), ('distance', 0.5155382), ('us', 0.51395994), ('location', 0.51038665), ('away', 0.5101554), ('family', 0.50749946), ('thanks', 0.50726795), ('walk', 0.50713336), ('much', 0.49737507), ('place', 0.49726686), ('recommended', 0.4971378), ('two', 0.49390572), ('get', 0.48950648), ('room', 0.48765558), ('romanos', 0.48622444), ('could', 0.48221257), ('everything', 0.47587413), ('host', 0.46811604), ('even', 0.46207103), ('visit', 0.45961246), ('highly', 0.45193192), ('view', 0.4461838), ('would', 0.44467923), ('made', 0.43336457), ('thank', 0.43034932), ('definitely', 0.42660534), ('like', 0.41934136), ('go', 0.41837245), ('recommend', 0.41487208), ('one', 0.3980474), ('airbnb', 0.3912068), ('arrived', 0.39091003), ('staying', 0.38499936), ('experience', 0.369899), ('felt', 0.36157504), ('stay', 0.34924594), ('airport', 0.33238238), ('feel', 0.3243215), ('night', 0.30607048), ('time', 0.26356024), ('stayed', 0.26243615), ('home', 0.23722255), ('back', 0.21122395), ('day', 0.17369701)]\n",
            "helpful [('friendly', 0.97857845), ('kind', 0.9499649), ('host', 0.9044054), ('romanos', 0.87492615), ('provided', 0.8247974), ('gave', 0.795931), ('us', 0.7944536), ('thanks', 0.78401464), ('super', 0.7822397), ('excellent', 0.7704526), ('arrived', 0.76576495), ('wonderful', 0.7482188), ('thank', 0.7391636), ('made', 0.71426004), ('really', 0.7070751), ('airport', 0.6569782), ('easy', 0.6566767), ('great', 0.65350497), ('family', 0.63137436), ('also', 0.62392515), ('much', 0.61991775), ('good', 0.61472875), ('fantastic', 0.60806084), ('experience', 0.587306), ('even', 0.5841364), ('needed', 0.5823796), ('lovely', 0.5812483), ('time', 0.5741858), ('local', 0.5693641), ('airbnb', 0.55520487), ('stay', 0.55519855), ('recommended', 0.5541321), ('nice', 0.54893553), ('apartment', 0.53025824), ('highly', 0.52943575), ('would', 0.52543676), ('flat', 0.52011395), ('definitely', 0.4962016), ('place', 0.4954876), ('house', 0.49112886), ('amazing', 0.48276165), ('get', 0.48091114), ('recommend', 0.47130823), ('staying', 0.4709308), ('visit', 0.4583275), ('everything', 0.4418651), ('well', 0.43667018), ('enjoyed', 0.43474406), ('places', 0.43375307), ('many', 0.43374372), ('clean', 0.43208018), ('around', 0.4174359), ('perfect', 0.41608903), ('feel', 0.41110486), ('go', 0.40639037), ('back', 0.40241385), ('comfortable', 0.3955476), ('best', 0.38762355), ('loved', 0.38560256), ('beautiful', 0.37521523), ('athens', 0.3697331), ('spacious', 0.34582767), ('space', 0.34238845), ('restaurants', 0.3422313), ('could', 0.34038752), ('see', 0.32779664), ('location', 0.31736588), ('city', 0.3074275), ('bars', 0.28261277), ('need', 0.27970695), ('metro', 0.2766439), ('home', 0.27161247), ('area', 0.27089956), ('little', 0.26956075), ('kitchen', 0.26199937), ('close', 0.26159555), ('felt', 0.26079065), ('station', 0.25516683), ('within', 0.25377634), ('room', 0.2511791), ('neighborhood', 0.2475295), ('stayed', 0.2424113), ('like', 0.23231931), ('balcony', 0.22247775), ('day', 0.22070895), ('walking', 0.21057984), ('distance', 0.20684889), ('view', 0.19795525), ('minutes', 0.17943281), ('located', 0.16944219), ('one', 0.15541479), ('walk', 0.1402766), ('quiet', 0.13512391), ('right', 0.13082355), ('night', 0.1241445), ('two', 0.10298973), ('away', 0.10233016), ('acropolis', 0.0923183), ('street', 0.07367521)]\n",
            "walk [('minutes', 0.9721421), ('away', 0.9473838), ('station', 0.94698095), ('metro', 0.94492), ('acropolis', 0.90364945), ('within', 0.8819233), ('close', 0.8679735), ('city', 0.86454237), ('right', 0.84684175), ('located', 0.78915906), ('get', 0.7664209), ('walking', 0.7338845), ('restaurants', 0.72778267), ('street', 0.7234697), ('location', 0.72143954), ('bars', 0.7144963), ('area', 0.7038888), ('see', 0.7024375), ('neighborhood', 0.6937015), ('around', 0.6917098), ('distance', 0.6838523), ('many', 0.6673201), ('easy', 0.66651136), ('quiet', 0.66202104), ('also', 0.6497301), ('athens', 0.6330471), ('little', 0.589004), ('perfect', 0.56609756), ('places', 0.55328673), ('two', 0.54749286), ('go', 0.5393829), ('apartment', 0.5390241), ('view', 0.51907843), ('flat', 0.50999105), ('good', 0.50713336), ('house', 0.50389665), ('spacious', 0.49150684), ('nice', 0.48652), ('visit', 0.4852828), ('fantastic', 0.48408577), ('place', 0.4813872), ('night', 0.4806007), ('airport', 0.47526887), ('local', 0.47127885), ('balcony', 0.46198317), ('well', 0.46059528), ('could', 0.45647335), ('amazing', 0.45330045), ('excellent', 0.4510977), ('clean', 0.4452317), ('great', 0.439347), ('one', 0.42806908), ('loved', 0.41855866), ('super', 0.41331017), ('beautiful', 0.40519774), ('day', 0.40492132), ('space', 0.39718065), ('enjoyed', 0.39188975), ('lovely', 0.38555634), ('need', 0.38547662), ('really', 0.36905342), ('highly', 0.3638097), ('everything', 0.35181722), ('best', 0.35101447), ('recommended', 0.3502832), ('definitely', 0.34963784), ('would', 0.34622514), ('even', 0.34612134), ('recommend', 0.33732942), ('staying', 0.33022118), ('comfortable', 0.32789534), ('like', 0.32138658), ('kitchen', 0.31042984), ('time', 0.30500662), ('felt', 0.30086863), ('stay', 0.2927426), ('back', 0.2791395), ('family', 0.27532244), ('stayed', 0.27333772), ('room', 0.27123415), ('much', 0.2631977), ('gave', 0.25422946), ('experience', 0.24773048), ('wonderful', 0.24395557), ('airbnb', 0.23771009), ('provided', 0.23617196), ('us', 0.23601922), ('home', 0.22857085), ('thanks', 0.19782479), ('needed', 0.19513915), ('feel', 0.16504008), ('arrived', 0.15259188), ('host', 0.1484095), ('made', 0.14461446), ('thank', 0.1412572), ('helpful', 0.1402766), ('friendly', 0.13984443), ('kind', 0.083492465), ('romanos', -0.016901845)]\n",
            "close [('city', 0.9188889), ('located', 0.8909259), ('acropolis', 0.8789791), ('area', 0.87772113), ('within', 0.8739456), ('metro', 0.8707643), ('walk', 0.8679735), ('neighborhood', 0.85918456), ('restaurants', 0.85610956), ('station', 0.8531921), ('minutes', 0.85025996), ('right', 0.8490306), ('bars', 0.84230256), ('many', 0.8250464), ('location', 0.81980187), ('quiet', 0.8180262), ('away', 0.8160741), ('see', 0.74996626), ('distance', 0.7439979), ('walking', 0.74384713), ('around', 0.7415063), ('nice', 0.7344975), ('good', 0.73261404), ('street', 0.71545327), ('perfect', 0.7140359), ('easy', 0.7126071), ('also', 0.70654833), ('great', 0.69163656), ('fantastic', 0.6785671), ('apartment', 0.6725171), ('well', 0.67076415), ('flat', 0.66803557), ('athens', 0.6631866), ('excellent', 0.6630427), ('spacious', 0.66042674), ('get', 0.658963), ('places', 0.657242), ('clean', 0.6553151), ('little', 0.653948), ('super', 0.62008464), ('house', 0.6173102), ('amazing', 0.6165039), ('local', 0.6071115), ('beautiful', 0.6061533), ('lovely', 0.60491645), ('place', 0.5924175), ('loved', 0.59036833), ('really', 0.58323634), ('view', 0.5799133), ('balcony', 0.5681484), ('enjoyed', 0.56235605), ('space', 0.5374119), ('need', 0.5315935), ('comfortable', 0.5199984), ('visit', 0.51494867), ('go', 0.4977233), ('everything', 0.47772336), ('two', 0.4681741), ('could', 0.43794784), ('recommended', 0.43696594), ('wonderful', 0.42939374), ('best', 0.40870053), ('highly', 0.4052446), ('gave', 0.4044734), ('kitchen', 0.3907627), ('recommend', 0.38897508), ('definitely', 0.386962), ('provided', 0.37543902), ('like', 0.37507084), ('would', 0.367686), ('stay', 0.36578786), ('staying', 0.3617234), ('felt', 0.3557599), ('needed', 0.34986514), ('one', 0.33127382), ('much', 0.3266225), ('family', 0.32659844), ('airport', 0.3104085), ('thanks', 0.3020199), ('friendly', 0.2984244), ('night', 0.2947736), ('experience', 0.29312032), ('room', 0.28339723), ('even', 0.2823442), ('host', 0.26925337), ('time', 0.26738212), ('home', 0.26219222), ('helpful', 0.26159555), ('us', 0.25621918), ('feel', 0.22102416), ('thank', 0.21884649), ('made', 0.20447151), ('airbnb', 0.19836888), ('back', 0.18051666), ('day', 0.16934492), ('kind', 0.1651965), ('stayed', 0.14862907), ('romanos', 0.09398107), ('arrived', 0.06657124)]\n",
            "amazing [('fantastic', 0.9618246), ('perfect', 0.9284504), ('beautiful', 0.9070235), ('wonderful', 0.88307637), ('great', 0.8798658), ('loved', 0.87316054), ('lovely', 0.86110634), ('excellent', 0.8290789), ('enjoyed', 0.81790155), ('view', 0.7933098), ('best', 0.77518785), ('good', 0.7668093), ('nice', 0.7652966), ('spacious', 0.7592809), ('family', 0.7523544), ('really', 0.7499761), ('flat', 0.740451), ('house', 0.7308121), ('balcony', 0.7287192), ('place', 0.72045386), ('super', 0.7181994), ('space', 0.7149787), ('clean', 0.7131002), ('comfortable', 0.69973433), ('airbnb', 0.691939), ('apartment', 0.6906067), ('much', 0.6850212), ('quiet', 0.6844814), ('experience', 0.6809066), ('athens', 0.6692524), ('location', 0.6645544), ('acropolis', 0.6569585), ('city', 0.6497793), ('located', 0.64478934), ('staying', 0.63822347), ('thanks', 0.6369096), ('thank', 0.63218284), ('stayed', 0.630869), ('one', 0.6230305), ('see', 0.62063205), ('well', 0.617106), ('close', 0.6165039), ('could', 0.6149359), ('little', 0.60693336), ('two', 0.6001058), ('like', 0.5782944), ('many', 0.57599455), ('friendly', 0.568192), ('neighborhood', 0.56366545), ('romanos', 0.56235343), ('visit', 0.5621147), ('stay', 0.55616903), ('right', 0.55252796), ('area', 0.54866356), ('within', 0.5481713), ('kind', 0.5435064), ('host', 0.5396034), ('need', 0.51472616), ('distance', 0.51253825), ('room', 0.5108048), ('would', 0.5009642), ('bars', 0.4925796), ('time', 0.48945636), ('felt', 0.48720893), ('recommend', 0.4849429), ('definitely', 0.48398575), ('helpful', 0.48276165), ('walking', 0.4826349), ('everything', 0.47752818), ('recommended', 0.47635174), ('kitchen', 0.47504675), ('minutes', 0.4743967), ('restaurants', 0.46095374), ('night', 0.4599146), ('made', 0.45806193), ('walk', 0.45330045), ('also', 0.44930795), ('home', 0.44527912), ('away', 0.44354433), ('feel', 0.4348027), ('needed', 0.4337672), ('street', 0.43161637), ('provided', 0.41935316), ('highly', 0.41667277), ('easy', 0.40267852), ('metro', 0.39706373), ('places', 0.38741082), ('station', 0.38169873), ('around', 0.3735753), ('even', 0.3723662), ('go', 0.3687944), ('gave', 0.36872843), ('back', 0.3529625), ('local', 0.35209808), ('day', 0.32506916), ('get', 0.31824154), ('arrived', 0.31442022), ('us', 0.28542906), ('airport', 0.13871905)]\n",
            "time [('thank', 0.8958059), ('thanks', 0.8867756), ('experience', 0.8819476), ('stay', 0.8711099), ('back', 0.8689514), ('much', 0.85659724), ('visit', 0.84264463), ('staying', 0.8288375), ('airbnb', 0.8066114), ('athens', 0.7660279), ('family', 0.7604253), ('place', 0.74962217), ('would', 0.7460044), ('definitely', 0.740695), ('go', 0.73881745), ('romanos', 0.728649), ('day', 0.725299), ('host', 0.70001346), ('recommend', 0.66987246), ('kind', 0.66704816), ('stayed', 0.65183526), ('really', 0.64187473), ('made', 0.6389037), ('wonderful', 0.637099), ('recommended', 0.6309673), ('enjoyed', 0.6106845), ('arrived', 0.6021404), ('see', 0.5946658), ('best', 0.5925636), ('night', 0.5842084), ('fantastic', 0.5773047), ('helpful', 0.5741858), ('loved', 0.5711746), ('home', 0.57038), ('one', 0.5650924), ('highly', 0.56358844), ('house', 0.5576245), ('could', 0.55657625), ('feel', 0.5544865), ('friendly', 0.54026175), ('felt', 0.53604907), ('apartment', 0.5276187), ('perfect', 0.5150145), ('us', 0.5134822), ('airport', 0.5069481), ('flat', 0.5055362), ('city', 0.5018849), ('get', 0.49022073), ('amazing', 0.48945636), ('like', 0.46502757), ('lovely', 0.46178776), ('location', 0.4502491), ('beautiful', 0.44948053), ('view', 0.44937494), ('gave', 0.43473142), ('even', 0.4069983), ('everything', 0.40466812), ('provided', 0.39537403), ('places', 0.39496726), ('great', 0.39042667), ('super', 0.37299), ('excellent', 0.36893538), ('easy', 0.35761857), ('around', 0.35727245), ('needed', 0.35669306), ('right', 0.34240112), ('local', 0.32984114), ('many', 0.32770187), ('space', 0.3224985), ('neighborhood', 0.3197941), ('two', 0.3181811), ('station', 0.30830705), ('within', 0.3077046), ('away', 0.3067692), ('balcony', 0.305858), ('walk', 0.30500662), ('little', 0.29879543), ('metro', 0.2948247), ('located', 0.28772715), ('minutes', 0.28139654), ('distance', 0.27933446), ('walking', 0.27778178), ('spacious', 0.27613252), ('comfortable', 0.2755683), ('also', 0.27352405), ('acropolis', 0.2687798), ('close', 0.26738212), ('good', 0.26356024), ('area', 0.25961557), ('nice', 0.2565101), ('clean', 0.24915466), ('quiet', 0.24268341), ('bars', 0.23098859), ('need', 0.22903457), ('restaurants', 0.21838243), ('room', 0.21279149), ('street', 0.20098841), ('well', 0.1734426), ('kitchen', 0.11925225)]\n",
            "comfortable [('spacious', 0.9564035), ('clean', 0.95627517), ('space', 0.9227575), ('flat', 0.891791), ('well', 0.88945353), ('lovely', 0.8873174), ('beautiful', 0.88557464), ('house', 0.8604877), ('nice', 0.82426065), ('kitchen', 0.8237044), ('balcony', 0.8196291), ('apartment', 0.8163752), ('loved', 0.8106151), ('super', 0.80182844), ('really', 0.7843731), ('room', 0.7810305), ('quiet', 0.7675679), ('like', 0.74434596), ('family', 0.7354083), ('perfect', 0.7230069), ('little', 0.72244763), ('everything', 0.71279025), ('need', 0.70567954), ('amazing', 0.69973433), ('fantastic', 0.69870514), ('enjoyed', 0.6940345), ('place', 0.6871581), ('located', 0.6857292), ('wonderful', 0.68317556), ('two', 0.66950214), ('view', 0.66539294), ('good', 0.6540015), ('needed', 0.65257674), ('felt', 0.6464851), ('excellent', 0.6348844), ('much', 0.63100547), ('great', 0.6190212), ('area', 0.61429), ('feel', 0.61262816), ('home', 0.6022886), ('location', 0.6005197), ('neighborhood', 0.5965289), ('could', 0.56761634), ('made', 0.52238196), ('close', 0.5199984), ('friendly', 0.49286827), ('stay', 0.49119753), ('kind', 0.49000996), ('staying', 0.4822757), ('acropolis', 0.46994975), ('also', 0.4686641), ('host', 0.46739516), ('romanos', 0.46614882), ('provided', 0.46566615), ('right', 0.4641106), ('thank', 0.4504928), ('street', 0.44820577), ('thanks', 0.44599515), ('experience', 0.44465485), ('even', 0.43323794), ('stayed', 0.4247918), ('one', 0.4237444), ('within', 0.4207049), ('city', 0.40551668), ('walking', 0.40305486), ('many', 0.40168506), ('helpful', 0.3955476), ('see', 0.38526186), ('bars', 0.37327573), ('distance', 0.37174082), ('away', 0.3701802), ('would', 0.3686129), ('airbnb', 0.36400053), ('minutes', 0.36328682), ('athens', 0.35688278), ('restaurants', 0.35608855), ('recommend', 0.33754945), ('metro', 0.3299258), ('walk', 0.32789534), ('easy', 0.32532766), ('definitely', 0.3083674), ('highly', 0.2938962), ('station', 0.2933895), ('night', 0.28403845), ('time', 0.2755683), ('best', 0.26990992), ('gave', 0.26988143), ('us', 0.26267117), ('arrived', 0.2549975), ('recommended', 0.25272167), ('local', 0.24096921), ('around', 0.2170988), ('visit', 0.21432853), ('get', 0.15538502), ('back', 0.12280511), ('places', 0.11458185), ('day', 0.0908751), ('go', 0.05133578), ('airport', 0.005120905)]\n",
            "restaurants [('bars', 0.97365946), ('many', 0.95213884), ('area', 0.90711665), ('neighborhood', 0.87131697), ('places', 0.8602418), ('close', 0.85610956), ('local', 0.8511738), ('within', 0.8250789), ('also', 0.82421345), ('around', 0.81420726), ('city', 0.8111209), ('street', 0.8012481), ('right', 0.76851195), ('acropolis', 0.76670265), ('metro', 0.74570614), ('station', 0.74123317), ('minutes', 0.7403975), ('see', 0.7314142), ('good', 0.7279977), ('walk', 0.72778267), ('away', 0.7166232), ('located', 0.7092003), ('walking', 0.69234884), ('quiet', 0.68770665), ('little', 0.68635505), ('location', 0.6812094), ('distance', 0.68079937), ('nice', 0.67764413), ('great', 0.62236917), ('excellent', 0.61992913), ('easy', 0.6094876), ('get', 0.5950053), ('gave', 0.57557005), ('super', 0.5755577), ('flat', 0.571244), ('well', 0.57004887), ('fantastic', 0.55158734), ('house', 0.5337665), ('really', 0.5273211), ('balcony', 0.52704537), ('go', 0.5252644), ('provided', 0.5246026), ('athens', 0.5231137), ('apartment', 0.506941), ('clean', 0.48721203), ('spacious', 0.4812379), ('lovely', 0.4796126), ('visit', 0.4733763), ('space', 0.4715373), ('amazing', 0.46095374), ('perfect', 0.45364234), ('place', 0.45162475), ('recommended', 0.4463835), ('enjoyed', 0.44154644), ('view', 0.4383371), ('beautiful', 0.42637044), ('loved', 0.42459673), ('highly', 0.41683385), ('kitchen', 0.4108946), ('two', 0.38238204), ('best', 0.37874755), ('friendly', 0.36143583), ('need', 0.35827896), ('comfortable', 0.35608855), ('everything', 0.34878325), ('us', 0.34836352), ('helpful', 0.3422313), ('definitely', 0.340775), ('night', 0.3224831), ('wonderful', 0.3203346), ('airport', 0.31749162), ('host', 0.3098029), ('even', 0.30587003), ('room', 0.30103603), ('one', 0.29698038), ('would', 0.29057142), ('recommend', 0.28545922), ('thanks', 0.27782476), ('felt', 0.26293823), ('like', 0.2614486), ('could', 0.25772956), ('experience', 0.2530689), ('stay', 0.24169508), ('needed', 0.23881009), ('much', 0.23335554), ('staying', 0.2304624), ('time', 0.21838243), ('day', 0.20261616), ('kind', 0.19894864), ('family', 0.19810636), ('arrived', 0.17025755), ('thank', 0.16418923), ('made', 0.1633918), ('airbnb', 0.15935226), ('feel', 0.14013909), ('romanos', 0.13597476), ('back', 0.1326483), ('home', 0.12903616), ('stayed', -0.013116095)]\n",
            "view [('balcony', 0.8669149), ('beautiful', 0.82995075), ('space', 0.81763566), ('location', 0.81428254), ('amazing', 0.7933098), ('spacious', 0.7911602), ('flat', 0.7896831), ('place', 0.78492236), ('loved', 0.7741374), ('apartment', 0.74476266), ('house', 0.7378514), ('acropolis', 0.7370586), ('two', 0.7236061), ('perfect', 0.71860135), ('fantastic', 0.71172845), ('located', 0.7114301), ('clean', 0.70125437), ('quiet', 0.69687545), ('family', 0.6925056), ('lovely', 0.6781272), ('experience', 0.66892624), ('comfortable', 0.66539294), ('enjoyed', 0.6520775), ('one', 0.6416551), ('city', 0.63240314), ('really', 0.62702453), ('stayed', 0.61383), ('little', 0.61268395), ('room', 0.61258507), ('staying', 0.60803455), ('neighborhood', 0.59999967), ('airbnb', 0.5813192), ('close', 0.5799133), ('area', 0.56700474), ('athens', 0.56309485), ('super', 0.56126857), ('wonderful', 0.55634016), ('nice', 0.55522674), ('kitchen', 0.5531835), ('see', 0.55146813), ('well', 0.54956377), ('right', 0.548625), ('much', 0.5480126), ('stay', 0.54173654), ('like', 0.5390056), ('minutes', 0.5255062), ('walk', 0.51907843), ('street', 0.5147133), ('great', 0.51030904), ('within', 0.5061188), ('best', 0.50539297), ('away', 0.5000855), ('could', 0.4932007), ('excellent', 0.49205336), ('night', 0.48197606), ('distance', 0.4617614), ('walking', 0.4574259), ('time', 0.44937494), ('thank', 0.4468553), ('good', 0.4461838), ('host', 0.44210023), ('thanks', 0.4400495), ('restaurants', 0.4383371), ('bars', 0.43740577), ('felt', 0.4332087), ('visit', 0.4304873), ('everything', 0.43030342), ('many', 0.42489025), ('home', 0.40976813), ('need', 0.40595934), ('metro', 0.39790854), ('would', 0.3943642), ('station', 0.39229083), ('definitely', 0.37924615), ('recommend', 0.36888197), ('highly', 0.35934088), ('recommended', 0.32054594), ('feel', 0.31727907), ('day', 0.31396422), ('romanos', 0.3137166), ('also', 0.30487213), ('friendly', 0.2823953), ('kind', 0.273987), ('back', 0.25322407), ('easy', 0.23177792), ('places', 0.22508022), ('around', 0.21048985), ('needed', 0.20960574), ('go', 0.20616496), ('even', 0.2050495), ('made', 0.20027292), ('helpful', 0.19795525), ('get', 0.16051224), ('provided', 0.1581473), ('local', 0.13791797), ('arrived', 0.08314034), ('gave', 0.07736388), ('us', 0.0008626914), ('airport', -0.046572343)]\n",
            "metro [('station', 0.9768286), ('walk', 0.94492), ('minutes', 0.9348521), ('away', 0.90017533), ('close', 0.8707643), ('city', 0.85366154), ('get', 0.8356264), ('within', 0.82623005), ('right', 0.82080925), ('acropolis', 0.81835675), ('easy', 0.8090423), ('located', 0.7688609), ('around', 0.76260245), ('restaurants', 0.74570614), ('also', 0.74539846), ('area', 0.7137913), ('bars', 0.70911586), ('location', 0.69689214), ('walking', 0.693024), ('neighborhood', 0.6888), ('many', 0.6770779), ('street', 0.67647004), ('see', 0.6354922), ('quiet', 0.624708), ('distance', 0.603968), ('airport', 0.6022731), ('apartment', 0.58063143), ('athens', 0.5767023), ('places', 0.5727488), ('little', 0.5563046), ('good', 0.55376625), ('local', 0.542937), ('nice', 0.5422651), ('flat', 0.5246024), ('go', 0.5218352), ('excellent', 0.5180568), ('well', 0.51593345), ('super', 0.513374), ('house', 0.5130257), ('perfect', 0.5120275), ('great', 0.48135123), ('spacious', 0.47955173), ('fantastic', 0.47218797), ('clean', 0.4676684), ('place', 0.44785547), ('visit', 0.43333352), ('two', 0.43204343), ('everything', 0.4265086), ('really', 0.41974834), ('lovely', 0.41473886), ('even', 0.4083745), ('view', 0.39790854), ('amazing', 0.39706373), ('gave', 0.3964646), ('could', 0.39225292), ('balcony', 0.38451347), ('us', 0.38290206), ('provided', 0.363095), ('recommended', 0.36174253), ('night', 0.36067426), ('beautiful', 0.35630584), ('space', 0.3539042), ('need', 0.3507249), ('highly', 0.3479395), ('loved', 0.34459627), ('comfortable', 0.3299258), ('enjoyed', 0.32576132), ('recommend', 0.31843364), ('definitely', 0.31329596), ('would', 0.31261998), ('day', 0.30108172), ('time', 0.2948247), ('kitchen', 0.28803226), ('one', 0.27702382), ('helpful', 0.2766439), ('stay', 0.27552006), ('wonderful', 0.26810938), ('friendly', 0.26671708), ('felt', 0.2653199), ('best', 0.26374933), ('staying', 0.26187077), ('needed', 0.25327852), ('like', 0.2532126), ('family', 0.24412581), ('host', 0.2435636), ('arrived', 0.2425648), ('much', 0.23553938), ('back', 0.2270365), ('made', 0.22439948), ('room', 0.21382327), ('thanks', 0.20559573), ('home', 0.20417033), ('experience', 0.1932124), ('feel', 0.18216905), ('kind', 0.181484), ('airbnb', 0.15426059), ('thank', 0.13829903), ('stayed', 0.13702092), ('romanos', 0.06028057)]\n",
            "area [('neighborhood', 0.98217434), ('bars', 0.91817963), ('restaurants', 0.90711665), ('quiet', 0.8809102), ('many', 0.88031244), ('close', 0.87772113), ('right', 0.8640194), ('street', 0.86186534), ('little', 0.8423917), ('located', 0.8279277), ('city', 0.8257714), ('nice', 0.80321187), ('within', 0.779658), ('acropolis', 0.7786381), ('also', 0.769258), ('around', 0.76065236), ('away', 0.7569094), ('house', 0.7559052), ('local', 0.74976707), ('location', 0.7425038), ('flat', 0.74070275), ('well', 0.7360524), ('see', 0.73325115), ('good', 0.72805405), ('minutes', 0.72063494), ('metro', 0.7137913), ('places', 0.70949167), ('station', 0.7070662), ('balcony', 0.70635146), ('walk', 0.7038888), ('spacious', 0.7006), ('clean', 0.69056445), ('space', 0.6826985), ('really', 0.6789691), ('walking', 0.6690358), ('lovely', 0.6655063), ('apartment', 0.660726), ('distance', 0.65467983), ('super', 0.6515), ('beautiful', 0.64284897), ('great', 0.63006437), ('fantastic', 0.61923194), ('comfortable', 0.61429), ('loved', 0.6070054), ('kitchen', 0.5999309), ('excellent', 0.59269965), ('enjoyed', 0.58572817), ('place', 0.5708048), ('view', 0.56700474), ('perfect', 0.56478643), ('like', 0.56046355), ('felt', 0.5559994), ('amazing', 0.54866356), ('athens', 0.532752), ('easy', 0.5307426), ('two', 0.5221007), ('get', 0.5167248), ('need', 0.50756395), ('provided', 0.5045272), ('gave', 0.50262845), ('room', 0.50007564), ('everything', 0.49237317), ('go', 0.44234228), ('visit', 0.42712963), ('home', 0.4224565), ('feel', 0.41199464), ('wonderful', 0.40762278), ('night', 0.40444332), ('recommended', 0.39373702), ('much', 0.38246423), ('needed', 0.3723794), ('one', 0.36379376), ('could', 0.36230198), ('even', 0.36214098), ('family', 0.3487902), ('friendly', 0.33624628), ('best', 0.33070406), ('highly', 0.32473758), ('us', 0.32179818), ('stay', 0.31847814), ('staying', 0.31464922), ('made', 0.31014097), ('definitely', 0.30906305), ('experience', 0.30105904), ('host', 0.29850382), ('thanks', 0.29361883), ('recommend', 0.29257372), ('would', 0.28273508), ('helpful', 0.27089956), ('time', 0.25961557), ('day', 0.21731107), ('thank', 0.21684566), ('kind', 0.21221875), ('romanos', 0.18637322), ('airport', 0.18385515), ('airbnb', 0.15807846), ('arrived', 0.15743192), ('back', 0.13659073), ('stayed', 0.07903048)]\n",
            "flat [('apartment', 0.9589679), ('house', 0.93424314), ('spacious', 0.93279904), ('space', 0.9278779), ('clean', 0.9270255), ('comfortable', 0.891791), ('well', 0.87521255), ('lovely', 0.87510574), ('balcony', 0.8689092), ('super', 0.8612478), ('beautiful', 0.86112165), ('really', 0.8588212), ('place', 0.84147555), ('nice', 0.8118846), ('location', 0.80462784), ('loved', 0.80355877), ('view', 0.7896831), ('family', 0.7887553), ('kitchen', 0.7824654), ('quiet', 0.7811362), ('located', 0.7784857), ('little', 0.77552617), ('fantastic', 0.76323545), ('room', 0.7465446), ('perfect', 0.7438987), ('area', 0.74070275), ('amazing', 0.740451), ('everything', 0.73143935), ('neighborhood', 0.7266157), ('enjoyed', 0.7069894), ('two', 0.7040417), ('wonderful', 0.6970457), ('excellent', 0.6955425), ('much', 0.69004506), ('good', 0.6817732), ('close', 0.66803557), ('great', 0.66222197), ('host', 0.65558124), ('need', 0.65298986), ('city', 0.6435826), ('like', 0.64254427), ('acropolis', 0.63107574), ('also', 0.63102984), ('stay', 0.61945814), ('experience', 0.6165638), ('needed', 0.6120512), ('could', 0.607545), ('see', 0.5954759), ('right', 0.59425306), ('thanks', 0.5914055), ('felt', 0.59028345), ('friendly', 0.58860123), ('many', 0.58859706), ('within', 0.58425367), ('street', 0.5776845), ('provided', 0.576372), ('restaurants', 0.571244), ('staying', 0.5711704), ('kind', 0.56996286), ('thank', 0.56563187), ('bars', 0.5519679), ('romanos', 0.55009997), ('feel', 0.5480773), ('minutes', 0.54276186), ('home', 0.5426537), ('athens', 0.5426281), ('walking', 0.53497404), ('made', 0.53163135), ('one', 0.5280904), ('metro', 0.5246024), ('helpful', 0.52011395), ('even', 0.5141629), ('away', 0.5132721), ('walk', 0.50999105), ('airbnb', 0.50626916), ('time', 0.5055362), ('easy', 0.50012237), ('distance', 0.4993252), ('station', 0.49916184), ('stayed', 0.4715111), ('would', 0.46549165), ('gave', 0.44913265), ('definitely', 0.43118265), ('around', 0.43109834), ('highly', 0.4305769), ('visit', 0.42543498), ('local', 0.4197907), ('night', 0.4128872), ('recommend', 0.39875194), ('us', 0.39644676), ('best', 0.38624674), ('arrived', 0.38025084), ('recommended', 0.3786002), ('get', 0.3701497), ('places', 0.3701104), ('go', 0.27517557), ('back', 0.26579455), ('day', 0.26559818), ('airport', 0.2195036)]\n",
            "even [('arrived', 0.8676333), ('us', 0.8514213), ('provided', 0.8283696), ('made', 0.7616362), ('needed', 0.743069), ('gave', 0.7186911), ('also', 0.71634835), ('airport', 0.6975851), ('could', 0.6701318), ('get', 0.6644749), ('kind', 0.6627146), ('little', 0.6086943), ('feel', 0.6065109), ('around', 0.60166746), ('house', 0.60118085), ('helpful', 0.5841364), ('kitchen', 0.584031), ('everything', 0.5749255), ('friendly', 0.5735056), ('need', 0.5676153), ('super', 0.56703174), ('romanos', 0.56637925), ('room', 0.5597317), ('easy', 0.54300743), ('well', 0.5427689), ('host', 0.5305652), ('local', 0.5227676), ('much', 0.5204526), ('night', 0.51667327), ('flat', 0.5141629), ('apartment', 0.5091678), ('excellent', 0.5047653), ('day', 0.4974881), ('see', 0.49410588), ('lovely', 0.47414923), ('really', 0.47290066), ('like', 0.4649609), ('good', 0.46207103), ('wonderful', 0.4514437), ('felt', 0.44920248), ('nice', 0.44824785), ('home', 0.44650555), ('right', 0.4384228), ('family', 0.43768123), ('station', 0.43718657), ('comfortable', 0.43323794), ('clean', 0.42990762), ('thanks', 0.42855775), ('great', 0.41902062), ('thank', 0.418135), ('one', 0.4154636), ('many', 0.41256773), ('metro', 0.4083745), ('away', 0.40723687), ('time', 0.4069983), ('space', 0.40541476), ('street', 0.40318435), ('minutes', 0.4005672), ('airbnb', 0.3963504), ('within', 0.3952893), ('spacious', 0.3845086), ('places', 0.38376567), ('fantastic', 0.37250403), ('amazing', 0.3723662), ('two', 0.36317456), ('area', 0.36214098), ('go', 0.35350317), ('perfect', 0.3479111), ('city', 0.3466521), ('walk', 0.34612134), ('balcony', 0.33736446), ('beautiful', 0.3150721), ('walking', 0.3117447), ('best', 0.3070585), ('restaurants', 0.30587003), ('distance', 0.29659998), ('bars', 0.29179165), ('neighborhood', 0.2853548), ('close', 0.2823442), ('place', 0.2698499), ('stayed', 0.2695416), ('experience', 0.26855856), ('back', 0.26336074), ('location', 0.255194), ('stay', 0.23965564), ('quiet', 0.23580359), ('loved', 0.22463036), ('acropolis', 0.22416139), ('visit', 0.20727344), ('view', 0.2050495), ('located', 0.20230237), ('enjoyed', 0.19736582), ('athens', 0.18955897), ('recommended', 0.13019131), ('would', 0.1288436), ('staying', 0.10681389), ('definitely', 0.10455606), ('highly', 0.0724607), ('recommend', 0.038982317)]\n",
            "city [('close', 0.9188889), ('right', 0.8826769), ('acropolis', 0.8793182), ('walk', 0.86454237), ('station', 0.8577521), ('minutes', 0.85395813), ('metro', 0.85366154), ('away', 0.8441886), ('see', 0.8364776), ('neighborhood', 0.83480597), ('within', 0.8299586), ('area', 0.8257714), ('location', 0.82054275), ('located', 0.8153641), ('restaurants', 0.8111209), ('many', 0.8033461), ('bars', 0.8020996), ('athens', 0.7951894), ('around', 0.7854721), ('quiet', 0.74344), ('get', 0.7303663), ('places', 0.7215141), ('street', 0.7170203), ('distance', 0.70543486), ('fantastic', 0.7014253), ('walking', 0.6936817), ('perfect', 0.69297266), ('easy', 0.67699575), ('visit', 0.66892666), ('also', 0.6680794), ('go', 0.66623706), ('apartment', 0.6636709), ('place', 0.6631597), ('house', 0.6580232), ('great', 0.65222126), ('amazing', 0.6497793), ('flat', 0.6435826), ('little', 0.64305764), ('good', 0.636085), ('view', 0.63240314), ('nice', 0.6318571), ('local', 0.6228379), ('really', 0.6128886), ('excellent', 0.60444146), ('loved', 0.5999565), ('enjoyed', 0.5982271), ('beautiful', 0.5895766), ('lovely', 0.57295007), ('spacious', 0.55826163), ('balcony', 0.5541955), ('super', 0.54803514), ('best', 0.54691523), ('clean', 0.51856935), ('well', 0.5137329), ('time', 0.5018849), ('recommended', 0.5008763), ('night', 0.4952008), ('staying', 0.48500723), ('space', 0.4841242), ('definitely', 0.48020953), ('wonderful', 0.4784093), ('experience', 0.47799784), ('two', 0.47500303), ('could', 0.47386777), ('one', 0.47104737), ('stay', 0.46364307), ('gave', 0.45824128), ('much', 0.45359233), ('highly', 0.44254553), ('would', 0.44204947), ('felt', 0.44168904), ('recommend', 0.43716568), ('thanks', 0.4369263), ('like', 0.43023136), ('everything', 0.42181343), ('day', 0.42016664), ('family', 0.41678375), ('airport', 0.41582623), ('comfortable', 0.40551668), ('airbnb', 0.3923316), ('need', 0.39150825), ('back', 0.38360208), ('provided', 0.37655917), ('thank', 0.37613782), ('home', 0.3759313), ('host', 0.36346924), ('even', 0.3466521), ('us', 0.3402319), ('friendly', 0.33310145), ('feel', 0.31848305), ('helpful', 0.3074275), ('made', 0.30445167), ('kitchen', 0.29463914), ('stayed', 0.2930967), ('needed', 0.2615779), ('room', 0.25943124), ('kind', 0.25162727), ('romanos', 0.22586039), ('arrived', 0.21743673)]\n",
            "highly [('definitely', 0.90844715), ('would', 0.8396783), ('staying', 0.72947806), ('athens', 0.699847), ('visit', 0.69953614), ('place', 0.685654), ('stay', 0.6852821), ('thanks', 0.67810625), ('thank', 0.6313366), ('experience', 0.60605574), ('back', 0.6007493), ('recommend', 0.583051), ('much', 0.5732038), ('go', 0.5674986), ('really', 0.5646165), ('enjoyed', 0.5641934), ('time', 0.56358844), ('family', 0.55885637), ('loved', 0.5472452), ('airbnb', 0.53401417), ('helpful', 0.52943575), ('wonderful', 0.52506775), ('fantastic', 0.5247817), ('host', 0.4956623), ('friendly', 0.47648823), ('excellent', 0.4685782), ('kind', 0.4678865), ('recommended', 0.46250796), ('perfect', 0.45543477), ('good', 0.45193192), ('apartment', 0.450334), ('see', 0.44666666), ('city', 0.44254553), ('great', 0.4423086), ('places', 0.43501693), ('flat', 0.4305769), ('location', 0.4295213), ('within', 0.42273074), ('easy', 0.42264134), ('super', 0.42129418), ('restaurants', 0.41683385), ('amazing', 0.41667277), ('romanos', 0.40958822), ('close', 0.4052446), ('located', 0.40417537), ('many', 0.4008703), ('walking', 0.4001978), ('best', 0.38203406), ('lovely', 0.38047895), ('local', 0.38023707), ('beautiful', 0.37291574), ('bars', 0.3711259), ('acropolis', 0.36796406), ('walk', 0.3638097), ('view', 0.35934088), ('nice', 0.35842556), ('metro', 0.3479395), ('get', 0.345604), ('distance', 0.34304893), ('house', 0.33877376), ('station', 0.33733782), ('stayed', 0.33654526), ('neighborhood', 0.33356008), ('also', 0.33162588), ('minutes', 0.33105922), ('clean', 0.3300958), ('area', 0.32473758), ('airport', 0.3199643), ('day', 0.30898356), ('quiet', 0.30765986), ('one', 0.30419722), ('could', 0.30418628), ('spacious', 0.30343613), ('everything', 0.29451758), ('comfortable', 0.2938962), ('space', 0.285075), ('balcony', 0.28257984), ('away', 0.27893844), ('made', 0.26105803), ('gave', 0.25843698), ('well', 0.24968496), ('provided', 0.24466562), ('needed', 0.24061278), ('two', 0.23927878), ('us', 0.23822759), ('felt', 0.22529306), ('around', 0.2181028), ('like', 0.21645288), ('need', 0.21491079), ('right', 0.21340321), ('home', 0.21125503), ('arrived', 0.20950645), ('night', 0.20840682), ('little', 0.17530432), ('street', 0.17010403), ('feel', 0.16928756), ('kitchen', 0.096741416), ('room', 0.09662525), ('even', 0.0724607)]\n",
            "beautiful [('loved', 0.948778), ('lovely', 0.9420677), ('spacious', 0.9169338), ('amazing', 0.9070235), ('fantastic', 0.88977444), ('space', 0.8878829), ('comfortable', 0.88557464), ('perfect', 0.87459135), ('balcony', 0.86732614), ('clean', 0.8654364), ('house', 0.86182773), ('flat', 0.86112165), ('enjoyed', 0.85393673), ('nice', 0.8336271), ('quiet', 0.83276), ('view', 0.82995075), ('really', 0.8263154), ('wonderful', 0.81906277), ('family', 0.8058748), ('apartment', 0.77629447), ('place', 0.774041), ('great', 0.7605797), ('located', 0.75389415), ('well', 0.753477), ('like', 0.7472265), ('super', 0.74156886), ('little', 0.7229059), ('two', 0.7147232), ('much', 0.70993423), ('good', 0.7094917), ('excellent', 0.70431197), ('room', 0.68135893), ('location', 0.6804483), ('neighborhood', 0.664339), ('staying', 0.663774), ('kitchen', 0.6609273), ('felt', 0.6565196), ('experience', 0.6467021), ('area', 0.64284897), ('acropolis', 0.61790746), ('stayed', 0.6088418), ('close', 0.6061533), ('home', 0.595362), ('one', 0.5948703), ('city', 0.5895766), ('athens', 0.58774126), ('stay', 0.58627653), ('best', 0.57717496), ('right', 0.5750935), ('thank', 0.5704993), ('need', 0.5703699), ('airbnb', 0.5696865), ('could', 0.5693408), ('feel', 0.5643589), ('thanks', 0.5636773), ('everything', 0.5515996), ('see', 0.53261983), ('romanos', 0.52089316), ('street', 0.5043743), ('many', 0.5026744), ('friendly', 0.48474777), ('host', 0.4820447), ('would', 0.48150727), ('recommend', 0.481248), ('kind', 0.47738448), ('bars', 0.4749576), ('within', 0.46982718), ('needed', 0.46750417), ('made', 0.4606092), ('visit', 0.455139), ('away', 0.4495721), ('time', 0.44948053), ('night', 0.4475832), ('definitely', 0.44482118), ('minutes', 0.42886686), ('walking', 0.4268626), ('restaurants', 0.42637044), ('distance', 0.4259302), ('recommended', 0.41812307), ('walk', 0.40519774), ('also', 0.40442753), ('helpful', 0.37521523), ('highly', 0.37291574), ('provided', 0.3587823), ('metro', 0.35630584), ('station', 0.3385924), ('even', 0.3150721), ('back', 0.29750416), ('around', 0.28314465), ('easy', 0.2790399), ('local', 0.2748419), ('day', 0.25774568), ('gave', 0.25538233), ('places', 0.2525758), ('go', 0.2376616), ('arrived', 0.22290176), ('us', 0.2038914), ('get', 0.17705116), ('airport', -0.02188182)]\n",
            "easy [('get', 0.8369048), ('metro', 0.8090423), ('station', 0.77195346), ('also', 0.7666781), ('airport', 0.7632695), ('around', 0.7191136), ('close', 0.7126071), ('excellent', 0.7032668), ('super', 0.6888815), ('city', 0.67699575), ('minutes', 0.67593783), ('within', 0.6721455), ('walk', 0.66651136), ('helpful', 0.6566767), ('gave', 0.65658), ('provided', 0.6364967), ('us', 0.6340569), ('friendly', 0.62266755), ('restaurants', 0.6094876), ('good', 0.60855067), ('many', 0.60608023), ('location', 0.60493153), ('great', 0.60353607), ('apartment', 0.60174626), ('local', 0.59518707), ('walking', 0.5704906), ('away', 0.56924355), ('host', 0.5675245), ('distance', 0.5520442), ('places', 0.5476935), ('even', 0.54300743), ('everything', 0.5398625), ('nice', 0.53715503), ('see', 0.5311348), ('area', 0.5307426), ('right', 0.5273696), ('really', 0.522792), ('bars', 0.5223259), ('acropolis', 0.5167377), ('kind', 0.5164309), ('fantastic', 0.515621), ('located', 0.5151727), ('well', 0.51178104), ('flat', 0.50012237), ('needed', 0.49944332), ('perfect', 0.49468732), ('neighborhood', 0.4901023), ('athens', 0.48776376), ('go', 0.4870251), ('clean', 0.4667075), ('made', 0.45860225), ('arrived', 0.4571103), ('place', 0.45126045), ('wonderful', 0.44380698), ('house', 0.44138134), ('recommended', 0.43837652), ('thanks', 0.43544608), ('lovely', 0.43023595), ('visit', 0.42755675), ('highly', 0.42264134), ('amazing', 0.40267852), ('need', 0.40023568), ('could', 0.3954192), ('spacious', 0.3894094), ('stay', 0.3838075), ('would', 0.3649692), ('thank', 0.36165723), ('recommend', 0.35891083), ('definitely', 0.35846338), ('romanos', 0.35820428), ('quiet', 0.3578925), ('time', 0.35761857), ('much', 0.33852726), ('little', 0.33696705), ('street', 0.33688515), ('comfortable', 0.32532766), ('family', 0.31692785), ('enjoyed', 0.28199747), ('beautiful', 0.2790399), ('experience', 0.27240658), ('staying', 0.26310614), ('loved', 0.26191935), ('space', 0.24619421), ('feel', 0.24428886), ('best', 0.24288091), ('view', 0.23177792), ('back', 0.22842777), ('airbnb', 0.2258251), ('kitchen', 0.17881791), ('felt', 0.17649162), ('balcony', 0.17595774), ('home', 0.17495465), ('day', 0.13444522), ('like', 0.13189092), ('two', 0.11819034), ('night', 0.08369373), ('room', 0.073813766), ('one', 0.056346744), ('stayed', 0.015957212)]\n",
            "wonderful [('fantastic', 0.9332961), ('lovely', 0.8832385), ('amazing', 0.88307637), ('great', 0.87439805), ('family', 0.85877454), ('excellent', 0.85654664), ('really', 0.85374683), ('romanos', 0.8375096), ('perfect', 0.83337814), ('loved', 0.831193), ('thank', 0.8309487), ('thanks', 0.8294148), ('enjoyed', 0.82670826), ('much', 0.8263452), ('beautiful', 0.81906277), ('kind', 0.8163284), ('friendly', 0.8057032), ('super', 0.7810511), ('good', 0.7606899), ('experience', 0.7586692), ('nice', 0.75030786), ('helpful', 0.7482188), ('airbnb', 0.7459465), ('host', 0.73227787), ('staying', 0.72391593), ('house', 0.714603), ('place', 0.71297807), ('best', 0.70969105), ('made', 0.69858915), ('flat', 0.6970457), ('comfortable', 0.68317556), ('stay', 0.67648095), ('apartment', 0.66089773), ('clean', 0.653813), ('spacious', 0.65347636), ('time', 0.637099), ('athens', 0.63481045), ('would', 0.6333615), ('space', 0.6177142), ('stayed', 0.6092693), ('visit', 0.60339147), ('definitely', 0.6004599), ('recommend', 0.5902735), ('like', 0.58627427), ('provided', 0.58576906), ('feel', 0.5835468), ('recommended', 0.5721971), ('well', 0.5718519), ('could', 0.5629821), ('needed', 0.5623906), ('view', 0.55634016), ('felt', 0.5516794), ('arrived', 0.54980296), ('balcony', 0.548921), ('gave', 0.5381708), ('home', 0.53422374), ('us', 0.5272686), ('highly', 0.52506775), ('quiet', 0.5125715), ('everything', 0.5010864), ('one', 0.4940295), ('back', 0.49402633), ('see', 0.48508468), ('little', 0.48501134), ('city', 0.4784093), ('location', 0.4771545), ('many', 0.4755805), ('located', 0.45854625), ('also', 0.4523784), ('even', 0.4514437), ('need', 0.4488377), ('room', 0.4438131), ('easy', 0.44380698), ('two', 0.44248512), ('close', 0.42939374), ('neighborhood', 0.42509243), ('go', 0.41617295), ('area', 0.40762278), ('local', 0.4043906), ('kitchen', 0.39987978), ('night', 0.36889157), ('right', 0.3647307), ('acropolis', 0.3596822), ('within', 0.3548911), ('places', 0.3502323), ('bars', 0.34714815), ('day', 0.3333445), ('get', 0.32726407), ('around', 0.32718533), ('walking', 0.3249254), ('distance', 0.32055846), ('restaurants', 0.3203346), ('airport', 0.30954322), ('minutes', 0.2715801), ('metro', 0.26810938), ('away', 0.25601593), ('station', 0.24913669), ('walk', 0.24395557), ('street', 0.2287674)]\n",
            "definitely [('would', 0.94217527), ('highly', 0.90844715), ('visit', 0.8653288), ('staying', 0.86041856), ('athens', 0.83966976), ('back', 0.8310922), ('stay', 0.8304209), ('thanks', 0.80145764), ('thank', 0.77171093), ('recommend', 0.7656765), ('go', 0.7475359), ('time', 0.740695), ('place', 0.7400486), ('much', 0.738067), ('experience', 0.7094024), ('enjoyed', 0.6997788), ('loved', 0.6568209), ('airbnb', 0.650356), ('family', 0.63148344), ('recommended', 0.61950064), ('wonderful', 0.6004599), ('fantastic', 0.5910296), ('really', 0.58490944), ('see', 0.5628774), ('perfect', 0.5468484), ('best', 0.52469873), ('day', 0.5029013), ('helpful', 0.4962016), ('kind', 0.49569184), ('stayed', 0.48676518), ('amazing', 0.48398575), ('city', 0.48020953), ('host', 0.47552207), ('romanos', 0.47358686), ('great', 0.46319038), ('could', 0.46052846), ('one', 0.44963017), ('beautiful', 0.44482118), ('friendly', 0.43952304), ('places', 0.43494278), ('excellent', 0.43122306), ('flat', 0.43118265), ('apartment', 0.4268137), ('good', 0.42660534), ('lovely', 0.42372838), ('within', 0.4170219), ('located', 0.4039784), ('location', 0.39361593), ('walking', 0.39275113), ('many', 0.39267007), ('get', 0.39169666), ('close', 0.386962), ('house', 0.3853954), ('view', 0.37924615), ('night', 0.37436515), ('acropolis', 0.36524338), ('felt', 0.36323062), ('distance', 0.36195412), ('easy', 0.35846338), ('made', 0.35707474), ('everything', 0.35559106), ('nice', 0.35225624), ('walk', 0.34963784), ('bars', 0.34945235), ('super', 0.34917748), ('home', 0.34827), ('local', 0.34756437), ('like', 0.34518668), ('quiet', 0.3427711), ('restaurants', 0.340775), ('neighborhood', 0.3385593), ('airport', 0.3256863), ('metro', 0.31329596), ('station', 0.31270602), ('area', 0.30906305), ('comfortable', 0.3083674), ('minutes', 0.30365148), ('balcony', 0.2968102), ('clean', 0.29353917), ('spacious', 0.292358), ('feel', 0.29199392), ('away', 0.29173404), ('needed', 0.28596154), ('space', 0.2817481), ('need', 0.2781821), ('two', 0.2762573), ('right', 0.2706239), ('arrived', 0.26477766), ('also', 0.26150775), ('us', 0.24910274), ('around', 0.23851264), ('gave', 0.23732302), ('well', 0.22358806), ('provided', 0.22028518), ('little', 0.21423902), ('street', 0.19380619), ('room', 0.10555167), ('even', 0.10455606), ('kitchen', 0.08605397)]\n",
            "one [('night', 0.8657713), ('stayed', 0.85051996), ('two', 0.81543344), ('airbnb', 0.7988188), ('day', 0.78922987), ('best', 0.7738388), ('could', 0.75491923), ('balcony', 0.6627413), ('room', 0.6507707), ('little', 0.64504313), ('view', 0.6416551), ('loved', 0.6374075), ('see', 0.6340191), ('experience', 0.63081646), ('family', 0.62944186), ('much', 0.6236332), ('amazing', 0.6230305), ('beautiful', 0.5948703), ('perfect', 0.59304136), ('house', 0.58872604), ('enjoyed', 0.5824309), ('athens', 0.58167446), ('space', 0.57898873), ('back', 0.5700153), ('time', 0.5650924), ('visit', 0.55586475), ('place', 0.5533431), ('fantastic', 0.5533157), ('staying', 0.55292916), ('street', 0.55107874), ('like', 0.5431931), ('acropolis', 0.54043776), ('kitchen', 0.53960633), ('flat', 0.5280904), ('thank', 0.5067004), ('away', 0.49482703), ('wonderful', 0.4940295), ('thanks', 0.49341035), ('go', 0.48375452), ('right', 0.48190835), ('lovely', 0.48084363), ('quiet', 0.48014066), ('city', 0.47104737), ('stay', 0.4699283), ('spacious', 0.46610287), ('would', 0.46565762), ('felt', 0.45580098), ('minutes', 0.45332655), ('within', 0.45119175), ('definitely', 0.44963017), ('apartment', 0.43668893), ('walk', 0.42806908), ('need', 0.42695874), ('comfortable', 0.4237444), ('located', 0.42357522), ('even', 0.4154636), ('many', 0.41172218), ('really', 0.4071054), ('location', 0.40121442), ('home', 0.39819476), ('good', 0.3980474), ('arrived', 0.38576075), ('bars', 0.38274592), ('great', 0.3826581), ('distance', 0.38043195), ('neighborhood', 0.36883253), ('area', 0.36379376), ('places', 0.3625288), ('romanos', 0.36189094), ('feel', 0.36156285), ('nice', 0.35434476), ('clean', 0.3535176), ('well', 0.3453355), ('station', 0.34359196), ('walking', 0.3375611), ('recommend', 0.33728608), ('excellent', 0.33611694), ('close', 0.33127382), ('kind', 0.3258583), ('also', 0.31001118), ('highly', 0.30419722), ('recommended', 0.29823157), ('everything', 0.29701126), ('restaurants', 0.29698038), ('made', 0.28726605), ('get', 0.28629068), ('metro', 0.27702382), ('around', 0.2749746), ('super', 0.26667738), ('needed', 0.26396465), ('host', 0.2593157), ('local', 0.22183213), ('provided', 0.21097586), ('us', 0.20176984), ('friendly', 0.17127214), ('airport', 0.15660386), ('helpful', 0.15541479), ('gave', 0.11356897), ('easy', 0.056346744)]\n",
            "lovely [('beautiful', 0.9420677), ('nice', 0.92697686), ('fantastic', 0.8977594), ('really', 0.89466095), ('spacious', 0.8941176), ('house', 0.88814825), ('comfortable', 0.8873174), ('wonderful', 0.8832385), ('clean', 0.87955344), ('loved', 0.87943524), ('flat', 0.87510574), ('super', 0.87149036), ('amazing', 0.86110634), ('space', 0.85110295), ('great', 0.8395052), ('perfect', 0.8253395), ('well', 0.8207326), ('excellent', 0.820398), ('enjoyed', 0.8188582), ('good', 0.8164154), ('family', 0.80520946), ('apartment', 0.79709643), ('balcony', 0.7911833), ('quiet', 0.78963226), ('little', 0.74779487), ('much', 0.71903855), ('like', 0.71372265), ('located', 0.70896626), ('place', 0.7089213), ('kitchen', 0.68117917), ('friendly', 0.68004274), ('room', 0.6789336), ('view', 0.6781272), ('romanos', 0.6663925), ('neighborhood', 0.66570294), ('area', 0.6655063), ('felt', 0.65470636), ('kind', 0.6535245), ('two', 0.6408637), ('feel', 0.6219841), ('made', 0.6142635), ('thanks', 0.61249983), ('location', 0.61054575), ('close', 0.60491645), ('thank', 0.6021141), ('host', 0.60209775), ('experience', 0.5948916), ('staying', 0.59249187), ('everything', 0.58738726), ('home', 0.5860309), ('helpful', 0.5812483), ('also', 0.5792476), ('needed', 0.57924163), ('provided', 0.5787992), ('right', 0.5736522), ('city', 0.57295007), ('many', 0.5616419), ('need', 0.55641156), ('stay', 0.54558724), ('could', 0.52935535), ('athens', 0.52698016), ('acropolis', 0.5264353), ('airbnb', 0.52092326), ('best', 0.5191033), ('bars', 0.5131403), ('stayed', 0.50432163), ('street', 0.50388974), ('see', 0.49201235), ('gave', 0.4847602), ('one', 0.48084363), ('restaurants', 0.4796126), ('even', 0.47414923), ('would', 0.4648567), ('time', 0.46178776), ('recommend', 0.46015128), ('within', 0.45165125), ('us', 0.45086277), ('recommended', 0.4454444), ('away', 0.44319874), ('local', 0.43343365), ('easy', 0.43023595), ('minutes', 0.43019658), ('arrived', 0.4301925), ('definitely', 0.42372838), ('visit', 0.41809237), ('metro', 0.41473886), ('around', 0.41391584), ('night', 0.40302855), ('station', 0.39553538), ('walking', 0.39378068), ('walk', 0.38555634), ('highly', 0.38047895), ('distance', 0.37477228), ('places', 0.32695112), ('get', 0.3033662), ('back', 0.28237703), ('go', 0.25955), ('day', 0.23488185), ('airport', 0.18843167)]\n",
            "home [('felt', 0.95898753), ('feel', 0.95184964), ('like', 0.9320164), ('made', 0.77459854), ('house', 0.7493904), ('much', 0.7371946), ('really', 0.689225), ('family', 0.6579411), ('loved', 0.6093819), ('comfortable', 0.6022886), ('place', 0.59859025), ('enjoyed', 0.59558845), ('beautiful', 0.595362), ('thank', 0.5876606), ('lovely', 0.5860309), ('time', 0.57038), ('experience', 0.5592058), ('staying', 0.55468196), ('flat', 0.5426537), ('wonderful', 0.53422374), ('stay', 0.5334677), ('romanos', 0.5284992), ('apartment', 0.5278205), ('little', 0.5260023), ('space', 0.5224991), ('thanks', 0.5195349), ('right', 0.51214623), ('spacious', 0.50265944), ('night', 0.49286863), ('quiet', 0.49269354), ('needed', 0.49110314), ('neighborhood', 0.48919126), ('perfect', 0.4780096), ('clean', 0.4754472), ('fantastic', 0.4734319), ('could', 0.466333), ('everything', 0.45756882), ('room', 0.45189208), ('kind', 0.44659317), ('even', 0.44650555), ('amazing', 0.44527912), ('athens', 0.44443902), ('day', 0.44290924), ('airbnb', 0.4412359), ('balcony', 0.43648383), ('back', 0.43273544), ('area', 0.4224565), ('stayed', 0.42231238), ('need', 0.42050534), ('nice', 0.41971192), ('view', 0.40976813), ('super', 0.4075123), ('arrived', 0.403385), ('one', 0.39819476), ('host', 0.39806506), ('see', 0.392963), ('location', 0.39229602), ('kitchen', 0.39000493), ('away', 0.3883173), ('city', 0.3759313), ('visit', 0.37491205), ('us', 0.3691279), ('two', 0.3622241), ('well', 0.36019295), ('friendly', 0.35480985), ('would', 0.34858388), ('definitely', 0.34827), ('located', 0.34627885), ('street', 0.33157605), ('provided', 0.32905126), ('go', 0.31786707), ('recommend', 0.31257483), ('great', 0.30892745), ('best', 0.27725726), ('around', 0.27600524), ('helpful', 0.27161247), ('gave', 0.26849037), ('close', 0.26219222), ('excellent', 0.2582786), ('get', 0.25652993), ('recommended', 0.24760343), ('distance', 0.24426897), ('local', 0.24333856), ('minutes', 0.24018641), ('good', 0.23722255), ('acropolis', 0.22953899), ('walk', 0.22857085), ('within', 0.2247557), ('walking', 0.21834141), ('many', 0.21617016), ('station', 0.21310154), ('highly', 0.21125503), ('also', 0.21118781), ('metro', 0.20417033), ('easy', 0.17495465), ('bars', 0.17401001), ('airport', 0.13526), ('restaurants', 0.12903616), ('places', 0.107372575)]\n",
            "walking [('within', 0.886554), ('acropolis', 0.74525577), ('close', 0.74384713), ('see', 0.74331486), ('walk', 0.7338845), ('many', 0.7106618), ('city', 0.6936817), ('metro', 0.693024), ('restaurants', 0.69234884), ('located', 0.6784518), ('location', 0.67093325), ('minutes', 0.6707816), ('area', 0.6690358), ('bars', 0.6664734), ('right', 0.65739095), ('neighborhood', 0.64032465), ('distance', 0.63935614), ('away', 0.6354661), ('athens', 0.6349084), ('station', 0.62188447), ('quiet', 0.6160139), ('get', 0.60960585), ('perfect', 0.59637815), ('places', 0.5936344), ('easy', 0.5704906), ('also', 0.5703278), ('everything', 0.5638988), ('good', 0.54222196), ('apartment', 0.5368133), ('flat', 0.53497404), ('street', 0.53409016), ('place', 0.5334246), ('around', 0.5293607), ('need', 0.52920586), ('visit', 0.52597296), ('fantastic', 0.5254492), ('great', 0.51962686), ('well', 0.51735777), ('go', 0.51360786), ('local', 0.5122209), ('excellent', 0.5027191), ('clean', 0.5019367), ('little', 0.49083632), ('spacious', 0.48969722), ('could', 0.48341542), ('amazing', 0.4826349), ('nice', 0.4789965), ('house', 0.46376073), ('loved', 0.46369573), ('view', 0.4574259), ('super', 0.44337618), ('enjoyed', 0.42864862), ('beautiful', 0.4268626), ('really', 0.4245511), ('balcony', 0.41102123), ('comfortable', 0.40305486), ('space', 0.40237063), ('highly', 0.4001978), ('lovely', 0.39378068), ('definitely', 0.39275113), ('would', 0.3848059), ('stay', 0.38287026), ('best', 0.37472364), ('two', 0.35385895), ('needed', 0.35121998), ('much', 0.3506774), ('one', 0.3375611), ('recommended', 0.32835516), ('provided', 0.32831395), ('recommend', 0.32635194), ('wonderful', 0.3249254), ('staying', 0.324924), ('gave', 0.3210139), ('kitchen', 0.3149318), ('even', 0.3117447), ('like', 0.3103922), ('thanks', 0.3022971), ('felt', 0.30227494), ('time', 0.27778178), ('night', 0.27031782), ('family', 0.26427552), ('experience', 0.26152775), ('airport', 0.26066285), ('thank', 0.25372955), ('host', 0.2414192), ('back', 0.22535524), ('airbnb', 0.22482248), ('home', 0.21834141), ('made', 0.21528292), ('helpful', 0.21057984), ('us', 0.20738842), ('room', 0.20317371), ('friendly', 0.19775079), ('day', 0.1970508), ('feel', 0.1852398), ('stayed', 0.15335704), ('kind', 0.11757562), ('arrived', 0.079978414), ('romanos', 0.046340954)]\n",
            "located [('quiet', 0.9160853), ('close', 0.8909259), ('acropolis', 0.87108314), ('neighborhood', 0.82864153), ('area', 0.8279277), ('spacious', 0.82533205), ('location', 0.81838137), ('city', 0.8153641), ('right', 0.7924731), ('walk', 0.78915906), ('clean', 0.7861349), ('minutes', 0.78535354), ('flat', 0.7784857), ('metro', 0.7688609), ('away', 0.76663625), ('within', 0.76488334), ('nice', 0.75792253), ('beautiful', 0.75389415), ('balcony', 0.7454804), ('apartment', 0.74079674), ('station', 0.74045837), ('well', 0.73261696), ('perfect', 0.73035854), ('loved', 0.722709), ('street', 0.71870816), ('space', 0.71654034), ('bars', 0.71465373), ('house', 0.7133297), ('little', 0.7123915), ('view', 0.7114301), ('restaurants', 0.7092003), ('lovely', 0.70896626), ('comfortable', 0.6857292), ('fantastic', 0.6798771), ('walking', 0.6784518), ('place', 0.66930026), ('two', 0.6670682), ('many', 0.6610886), ('good', 0.6495008), ('amazing', 0.64478934), ('enjoyed', 0.6326723), ('athens', 0.63167566), ('super', 0.6257149), ('see', 0.62444776), ('really', 0.620687), ('distance', 0.615278), ('great', 0.5991272), ('also', 0.56848574), ('excellent', 0.56776774), ('kitchen', 0.5460183), ('around', 0.5240228), ('everything', 0.523831), ('easy', 0.5151727), ('need', 0.49692807), ('like', 0.4940992), ('family', 0.48132), ('staying', 0.47561562), ('room', 0.4723432), ('get', 0.46056083), ('wonderful', 0.45854625), ('felt', 0.4458791), ('visit', 0.44484854), ('could', 0.43498152), ('stay', 0.4336566), ('places', 0.4282233), ('one', 0.42357522), ('recommend', 0.41895807), ('would', 0.4101057), ('highly', 0.40417537), ('definitely', 0.4039784), ('much', 0.3987569), ('local', 0.38557535), ('recommended', 0.3688649), ('night', 0.36833578), ('experience', 0.355582), ('go', 0.34659246), ('home', 0.34627885), ('best', 0.3422865), ('stayed', 0.32915565), ('time', 0.28772715), ('needed', 0.28240427), ('thanks', 0.27676287), ('feel', 0.2672189), ('host', 0.23922977), ('airbnb', 0.23850986), ('provided', 0.23102109), ('friendly', 0.22957624), ('thank', 0.22753632), ('even', 0.20230237), ('back', 0.19876291), ('gave', 0.19264156), ('day', 0.18879694), ('helpful', 0.16944219), ('made', 0.1594263), ('kind', 0.14284459), ('airport', 0.13703422), ('us', 0.111812435), ('romanos', 0.10566058), ('arrived', 0.00866015)]\n",
            "around [('local', 0.86875206), ('many', 0.8494117), ('also', 0.8427396), ('places', 0.839628), ('get', 0.83161825), ('restaurants', 0.81420726), ('bars', 0.810676), ('right', 0.78963405), ('station', 0.7861537), ('city', 0.7854721), ('gave', 0.7635947), ('metro', 0.76260245), ('area', 0.76065236), ('see', 0.7535191), ('close', 0.7415063), ('within', 0.73482555), ('away', 0.7254456), ('neighborhood', 0.7246987), ('minutes', 0.72155726), ('easy', 0.7191136), ('street', 0.71120584), ('walk', 0.6917098), ('provided', 0.67279357), ('us', 0.66001296), ('go', 0.6559211), ('distance', 0.6520052), ('little', 0.63709736), ('airport', 0.6344271), ('good', 0.62781584), ('even', 0.60166746), ('acropolis', 0.5870992), ('great', 0.57557034), ('nice', 0.5652739), ('excellent', 0.5649204), ('walking', 0.5293607), ('located', 0.5240228), ('location', 0.5038894), ('quiet', 0.5022142), ('house', 0.4984233), ('super', 0.49227262), ('arrived', 0.48608062), ('visit', 0.48589402), ('athens', 0.48203588), ('fantastic', 0.4709202), ('well', 0.4639419), ('really', 0.4601042), ('night', 0.44463572), ('made', 0.4311234), ('flat', 0.43109834), ('recommended', 0.42167664), ('apartment', 0.41886377), ('helpful', 0.4174359), ('friendly', 0.4139724), ('lovely', 0.41391584), ('day', 0.41216785), ('perfect', 0.40262657), ('best', 0.40250397), ('could', 0.3891662), ('needed', 0.38915813), ('amazing', 0.3735753), ('need', 0.3650771), ('everything', 0.3646917), ('felt', 0.36316916), ('time', 0.35727245), ('feel', 0.3465981), ('kind', 0.3302118), ('wonderful', 0.32718533), ('host', 0.32696536), ('thanks', 0.32147333), ('clean', 0.32122925), ('enjoyed', 0.32107604), ('like', 0.30521384), ('spacious', 0.29832745), ('much', 0.29736027), ('place', 0.29659876), ('kitchen', 0.28623062), ('balcony', 0.28362292), ('beautiful', 0.28314465), ('home', 0.27600524), ('one', 0.2749746), ('back', 0.26636872), ('romanos', 0.2647961), ('loved', 0.2606764), ('space', 0.25511864), ('two', 0.23875713), ('definitely', 0.23851264), ('thank', 0.22925971), ('recommend', 0.22680147), ('highly', 0.2181028), ('comfortable', 0.2170988), ('view', 0.21048985), ('stay', 0.20859638), ('experience', 0.20360632), ('room', 0.19738948), ('would', 0.19442151), ('airbnb', 0.18213704), ('family', 0.16591571), ('staying', 0.14135577), ('stayed', -0.0007845296)]\n",
            "like [('felt', 0.9544973), ('home', 0.9320164), ('feel', 0.8877967), ('house', 0.8288414), ('beautiful', 0.7472265), ('comfortable', 0.74434596), ('loved', 0.74016416), ('much', 0.7269835), ('little', 0.72262466), ('really', 0.71482694), ('lovely', 0.71372265), ('space', 0.7005581), ('enjoyed', 0.6965797), ('made', 0.6827687), ('family', 0.68129694), ('quiet', 0.6792643), ('spacious', 0.6676181), ('room', 0.65598595), ('balcony', 0.64907587), ('flat', 0.64254427), ('clean', 0.6160935), ('right', 0.60891867), ('kitchen', 0.6041725), ('neighborhood', 0.6025322), ('place', 0.5992682), ('nice', 0.5980612), ('night', 0.59513265), ('wonderful', 0.58627427), ('perfect', 0.58040035), ('two', 0.5802328), ('amazing', 0.5782944), ('fantastic', 0.57669675), ('area', 0.56046355), ('apartment', 0.5595009), ('staying', 0.54956955), ('one', 0.5431931), ('view', 0.5390056), ('could', 0.5373287), ('well', 0.5327371), ('need', 0.52981097), ('experience', 0.5217712), ('street', 0.51802236), ('thank', 0.5172707), ('needed', 0.507121), ('located', 0.4940992), ('stayed', 0.49298123), ('away', 0.49246186), ('super', 0.48645043), ('stay', 0.47323993), ('romanos', 0.47295427), ('see', 0.46895874), ('thanks', 0.466192), ('time', 0.46502757), ('even', 0.4649609), ('everything', 0.46068293), ('day', 0.4583866), ('airbnb', 0.45253596), ('athens', 0.44684032), ('city', 0.43023136), ('location', 0.42540994), ('great', 0.42463005), ('good', 0.41934136), ('kind', 0.4121658), ('acropolis', 0.39079037), ('back', 0.38515684), ('close', 0.37507084), ('best', 0.36784264), ('excellent', 0.3651729), ('arrived', 0.3605227), ('would', 0.3587052), ('visit', 0.35549754), ('many', 0.34727594), ('provided', 0.3464619), ('definitely', 0.34518668), ('minutes', 0.3449637), ('within', 0.3431652), ('bars', 0.3372378), ('recommend', 0.33382207), ('friendly', 0.33299604), ('also', 0.3246363), ('walk', 0.32138658), ('host', 0.3189377), ('distance', 0.31352773), ('us', 0.31073228), ('walking', 0.3103922), ('around', 0.30521384), ('local', 0.30278486), ('go', 0.29215235), ('station', 0.2715385), ('recommended', 0.26651096), ('restaurants', 0.2614486), ('metro', 0.2532126), ('gave', 0.237652), ('helpful', 0.23231931), ('get', 0.22559457), ('highly', 0.21645288), ('places', 0.17228466), ('easy', 0.13189092), ('airport', 0.04665021)]\n",
            "made [('feel', 0.8737269), ('romanos', 0.8229543), ('kind', 0.82046175), ('us', 0.79986995), ('arrived', 0.7989917), ('home', 0.77459854), ('much', 0.7720475), ('even', 0.7616362), ('needed', 0.75801396), ('provided', 0.7559669), ('thank', 0.7419539), ('friendly', 0.7401767), ('really', 0.7300981), ('felt', 0.723982), ('thanks', 0.71460855), ('helpful', 0.71426004), ('host', 0.70780766), ('gave', 0.7023507), ('wonderful', 0.69858915), ('like', 0.6827687), ('house', 0.67668986), ('family', 0.6638542), ('time', 0.6389037), ('super', 0.6168656), ('lovely', 0.6142635), ('everything', 0.5663664), ('experience', 0.54934347), ('could', 0.5485436), ('apartment', 0.5478222), ('airport', 0.53733885), ('excellent', 0.53722876), ('fantastic', 0.53561366), ('stay', 0.5331849), ('flat', 0.53163135), ('comfortable', 0.52238196), ('airbnb', 0.5196009), ('great', 0.50814843), ('place', 0.4998296), ('get', 0.49772292), ('need', 0.48754904), ('enjoyed', 0.4851113), ('nice', 0.48454386), ('also', 0.47793975), ('local', 0.46520436), ('beautiful', 0.4606092), ('perfect', 0.46020252), ('easy', 0.45860225), ('amazing', 0.45806193), ('loved', 0.45537785), ('back', 0.45082295), ('clean', 0.44940954), ('staying', 0.44072923), ('little', 0.4377719), ('well', 0.43394485), ('good', 0.43336457), ('around', 0.4311234), ('go', 0.4117232), ('see', 0.40927678), ('day', 0.40728638), ('visit', 0.40185565), ('space', 0.3942881), ('spacious', 0.3934963), ('room', 0.38073796), ('would', 0.3757884), ('athens', 0.37298086), ('kitchen', 0.36902407), ('night', 0.36623943), ('definitely', 0.35707474), ('best', 0.3538865), ('right', 0.34660786), ('recommended', 0.3417673), ('stayed', 0.32894263), ('recommend', 0.3141952), ('neighborhood', 0.31047785), ('area', 0.31014097), ('many', 0.3098778), ('city', 0.30445167), ('one', 0.28726605), ('places', 0.28311133), ('location', 0.27289164), ('highly', 0.26105803), ('balcony', 0.25340343), ('quiet', 0.24733377), ('away', 0.23058468), ('metro', 0.22439948), ('station', 0.2188747), ('walking', 0.21528292), ('within', 0.21149397), ('close', 0.20447151), ('view', 0.20027292), ('distance', 0.1835401), ('two', 0.17837182), ('street', 0.16532448), ('restaurants', 0.1633918), ('minutes', 0.16266735), ('bars', 0.16038102), ('located', 0.1594263), ('walk', 0.14461446), ('acropolis', 0.050153237)]\n",
            "need [('needed', 0.8853957), ('could', 0.8101562), ('well', 0.7576114), ('everything', 0.72432446), ('clean', 0.71145153), ('comfortable', 0.70567954), ('kitchen', 0.66022426), ('flat', 0.65298986), ('perfect', 0.64846367), ('spacious', 0.64645886), ('apartment', 0.6324584), ('see', 0.61352324), ('house', 0.5926857), ('space', 0.5825738), ('little', 0.57612574), ('beautiful', 0.5703699), ('even', 0.5676153), ('nice', 0.5634424), ('within', 0.5591581), ('lovely', 0.55641156), ('good', 0.54678977), ('distance', 0.5435733), ('super', 0.5403087), ('loved', 0.53821087), ('close', 0.5315935), ('like', 0.52981097), ('walking', 0.52920586), ('quiet', 0.52363586), ('provided', 0.52107036), ('room', 0.5210274), ('amazing', 0.51472616), ('much', 0.5141099), ('really', 0.50828123), ('area', 0.50756395), ('great', 0.50485814), ('place', 0.50461614), ('excellent', 0.5035826), ('balcony', 0.5021671), ('located', 0.49692807), ('fantastic', 0.49401116), ('made', 0.48754904), ('also', 0.47349206), ('location', 0.47317475), ('feel', 0.46456784), ('many', 0.45763725), ('enjoyed', 0.45155048), ('wonderful', 0.4488377), ('felt', 0.44291332), ('family', 0.43554178), ('neighborhood', 0.43140963), ('right', 0.42805988), ('one', 0.42695874), ('two', 0.4213859), ('home', 0.42050534), ('stay', 0.4135234), ('view', 0.40595934), ('thanks', 0.40409064), ('easy', 0.40023568), ('get', 0.39946374), ('city', 0.39150825), ('acropolis', 0.39090103), ('walk', 0.38547662), ('thank', 0.37057567), ('around', 0.3650771), ('bars', 0.36160222), ('street', 0.36101598), ('restaurants', 0.35827896), ('athens', 0.35774732), ('minutes', 0.35398278), ('gave', 0.35385367), ('metro', 0.3507249), ('away', 0.34381902), ('us', 0.3437778), ('kind', 0.33737972), ('local', 0.32885066), ('best', 0.32537743), ('station', 0.32459322), ('places', 0.30822292), ('visit', 0.30350766), ('host', 0.301494), ('friendly', 0.2968405), ('would', 0.29652703), ('airbnb', 0.29376623), ('helpful', 0.27970695), ('go', 0.2783274), ('definitely', 0.2781821), ('stayed', 0.26683828), ('arrived', 0.26090816), ('staying', 0.25487152), ('romanos', 0.24981031), ('night', 0.24649368), ('experience', 0.23979548), ('time', 0.22903457), ('highly', 0.21491079), ('recommend', 0.20938517), ('back', 0.18207082), ('day', 0.16617614), ('airport', 0.1543902), ('recommended', 0.1531021)]\n",
            "get [('airport', 0.85466725), ('station', 0.8370787), ('easy', 0.8369048), ('metro', 0.8356264), ('around', 0.83161825), ('walk', 0.7664209), ('also', 0.7518672), ('go', 0.7404512), ('minutes', 0.73876464), ('city', 0.7303663), ('within', 0.71838903), ('away', 0.7171957), ('see', 0.71099323), ('us', 0.68983996), ('right', 0.6718496), ('even', 0.6644749), ('places', 0.6642073), ('close', 0.658963), ('local', 0.64845985), ('gave', 0.64268345), ('many', 0.62826085), ('walking', 0.60960585), ('restaurants', 0.5950053), ('provided', 0.58741933), ('athens', 0.581886), ('arrived', 0.5723915), ('visit', 0.56125647), ('bars', 0.5608326), ('acropolis', 0.54212445), ('could', 0.5393715), ('distance', 0.539201), ('area', 0.5167248), ('excellent', 0.5025636), ('made', 0.49772292), ('day', 0.49514258), ('time', 0.49022073), ('good', 0.48950648), ('street', 0.48733112), ('helpful', 0.48091114), ('neighborhood', 0.47200537), ('everything', 0.46507668), ('great', 0.4646284), ('location', 0.46456832), ('located', 0.46056083), ('needed', 0.4593132), ('back', 0.45019647), ('apartment', 0.4424577), ('super', 0.43515417), ('little', 0.4322354), ('night', 0.4256707), ('perfect', 0.42434177), ('friendly', 0.41600186), ('thanks', 0.4149644), ('fantastic', 0.41217878), ('kind', 0.41133958), ('house', 0.41018108), ('recommended', 0.40588662), ('need', 0.39946374), ('definitely', 0.39169666), ('nice', 0.39005616), ('really', 0.39000082), ('much', 0.38939333), ('host', 0.38361296), ('would', 0.37164947), ('flat', 0.3701497), ('best', 0.3664171), ('well', 0.36283955), ('stay', 0.35466614), ('place', 0.35430503), ('thank', 0.35281253), ('highly', 0.345604), ('quiet', 0.33533448), ('recommend', 0.3315226), ('wonderful', 0.32726407), ('amazing', 0.31824154), ('feel', 0.3165625), ('lovely', 0.3033662), ('airbnb', 0.2921225), ('one', 0.28629068), ('felt', 0.2815625), ('romanos', 0.27987152), ('clean', 0.25883657), ('home', 0.25652993), ('staying', 0.25049824), ('experience', 0.25031602), ('enjoyed', 0.24622694), ('family', 0.23926602), ('like', 0.22559457), ('spacious', 0.22122669), ('loved', 0.20469028), ('two', 0.1994205), ('beautiful', 0.17705116), ('view', 0.16051224), ('kitchen', 0.15944457), ('comfortable', 0.15538502), ('stayed', 0.13393241), ('balcony', 0.12708877), ('space', 0.12244344), ('room', 0.08655738)]\n",
            "best [('airbnb', 0.82749605), ('amazing', 0.77518785), ('one', 0.7738388), ('fantastic', 0.7663186), ('visit', 0.73147786), ('perfect', 0.7258177), ('wonderful', 0.70969105), ('stayed', 0.70154595), ('great', 0.7012483), ('athens', 0.701204), ('experience', 0.68998015), ('see', 0.6805913), ('enjoyed', 0.64669627), ('thanks', 0.64646333), ('thank', 0.6322907), ('loved', 0.6322562), ('could', 0.6321702), ('go', 0.61965156), ('excellent', 0.61317366), ('much', 0.6062607), ('night', 0.6000706), ('time', 0.5925636), ('good', 0.5888594), ('day', 0.58633167), ('staying', 0.58508843), ('beautiful', 0.57717496), ('places', 0.5714599), ('back', 0.5700347), ('many', 0.5660149), ('family', 0.56256163), ('city', 0.54691523), ('recommended', 0.5385273), ('definitely', 0.52469873), ('would', 0.5232404), ('lovely', 0.5191033), ('place', 0.5161002), ('stay', 0.5113198), ('romanos', 0.50933444), ('view', 0.50539297), ('recommend', 0.4875096), ('really', 0.47576472), ('acropolis', 0.47431096), ('within', 0.46208638), ('two', 0.45832884), ('kind', 0.45387286), ('bars', 0.44797432), ('house', 0.43388313), ('distance', 0.43172058), ('nice', 0.42584258), ('right', 0.4212801), ('little', 0.41969228), ('close', 0.40870053), ('balcony', 0.40631965), ('local', 0.40610307), ('host', 0.40301746), ('around', 0.40250397), ('friendly', 0.40238732), ('helpful', 0.38762355), ('location', 0.38750553), ('flat', 0.38624674), ('highly', 0.38203406), ('arrived', 0.3789125), ('restaurants', 0.37874755), ('walking', 0.37472364), ('quiet', 0.37342486), ('like', 0.36784264), ('get', 0.3664171), ('gave', 0.36453447), ('made', 0.3538865), ('away', 0.35368434), ('minutes', 0.35307086), ('super', 0.35129347), ('walk', 0.35101447), ('neighborhood', 0.34885952), ('space', 0.34353977), ('located', 0.3422865), ('street', 0.33830038), ('apartment', 0.33460706), ('area', 0.33070406), ('provided', 0.3301978), ('need', 0.32537743), ('also', 0.32384154), ('felt', 0.31954327), ('spacious', 0.31685346), ('us', 0.31061512), ('even', 0.3070585), ('station', 0.29264838), ('home', 0.27725726), ('feel', 0.2762105), ('comfortable', 0.26990992), ('metro', 0.26374933), ('room', 0.2604923), ('clean', 0.25372165), ('needed', 0.2505271), ('easy', 0.24288091), ('well', 0.23536272), ('everything', 0.23034771), ('airport', 0.2256188), ('kitchen', 0.18417576)]\n",
            "back [('time', 0.8689514), ('visit', 0.85316706), ('would', 0.8381026), ('definitely', 0.8310922), ('go', 0.81519717), ('staying', 0.7974609), ('day', 0.79273397), ('stay', 0.7765657), ('thank', 0.77244586), ('thanks', 0.76935256), ('much', 0.758069), ('athens', 0.7556314), ('recommend', 0.7374431), ('airbnb', 0.7142822), ('experience', 0.6996486), ('recommended', 0.6326746), ('night', 0.6153799), ('stayed', 0.6141317), ('highly', 0.6007493), ('family', 0.58446205), ('place', 0.57097346), ('best', 0.5700347), ('one', 0.5700153), ('enjoyed', 0.56834763), ('see', 0.54372334), ('could', 0.54057604), ('romanos', 0.5104474), ('loved', 0.49928623), ('wonderful', 0.49402633), ('kind', 0.49366194), ('arrived', 0.4717307), ('airport', 0.45545068), ('made', 0.45082295), ('get', 0.45019647), ('fantastic', 0.43801743), ('felt', 0.4348611), ('home', 0.43273544), ('really', 0.4145677), ('perfect', 0.4125955), ('helpful', 0.40241385), ('host', 0.3992052), ('feel', 0.39838833), ('like', 0.38515684), ('city', 0.38360208), ('us', 0.35485202), ('amazing', 0.3529625), ('places', 0.3497526), ('friendly', 0.33081418), ('house', 0.3278583), ('beautiful', 0.29750416), ('away', 0.29049483), ('lovely', 0.28237703), ('within', 0.28100532), ('walk', 0.2791395), ('two', 0.27690253), ('great', 0.27134758), ('station', 0.2664373), ('around', 0.26636872), ('right', 0.26632318), ('flat', 0.26579455), ('even', 0.26336074), ('local', 0.26146075), ('view', 0.25322407), ('apartment', 0.25151327), ('everything', 0.24858312), ('many', 0.24678315), ('minutes', 0.24528378), ('needed', 0.24293761), ('distance', 0.24024794), ('easy', 0.22842777), ('metro', 0.2270365), ('gave', 0.22648783), ('walking', 0.22535524), ('excellent', 0.22250664), ('acropolis', 0.21943487), ('good', 0.21122395), ('little', 0.20405303), ('provided', 0.19883063), ('located', 0.19876291), ('bars', 0.19752216), ('location', 0.19360472), ('street', 0.18801177), ('neighborhood', 0.18779752), ('need', 0.18207082), ('close', 0.18051666), ('quiet', 0.17445178), ('also', 0.16972104), ('balcony', 0.16389464), ('nice', 0.14579034), ('area', 0.13659073), ('restaurants', 0.1326483), ('super', 0.13194951), ('space', 0.13170864), ('comfortable', 0.12280511), ('room', 0.10644677), ('spacious', 0.09348498), ('clean', 0.05473688), ('well', 0.03036693), ('kitchen', 0.018409993)]\n",
            "airport [('get', 0.85466725), ('us', 0.81509846), ('arrived', 0.78310925), ('easy', 0.7632695), ('even', 0.6975851), ('gave', 0.6632065), ('helpful', 0.6569782), ('also', 0.6512316), ('around', 0.6344271), ('provided', 0.627433), ('station', 0.62612224), ('kind', 0.60783595), ('metro', 0.6022731), ('go', 0.57706606), ('friendly', 0.5665821), ('made', 0.53733885), ('host', 0.5136211), ('time', 0.5069481), ('local', 0.5060292), ('minutes', 0.4951353), ('day', 0.48886675), ('walk', 0.47526887), ('romanos', 0.468239), ('back', 0.45545068), ('thanks', 0.44697702), ('places', 0.4430969), ('away', 0.44307506), ('excellent', 0.42500505), ('city', 0.41582623), ('thank', 0.40020484), ('visit', 0.3998007), ('needed', 0.3960713), ('super', 0.39378846), ('within', 0.38574535), ('see', 0.38227892), ('could', 0.37096286), ('recommended', 0.36999598), ('many', 0.34937796), ('much', 0.34687436), ('athens', 0.34346902), ('would', 0.34022745), ('right', 0.33363673), ('good', 0.33238238), ('airbnb', 0.33176014), ('night', 0.33113626), ('definitely', 0.3256863), ('highly', 0.3199643), ('restaurants', 0.31749162), ('close', 0.3104085), ('wonderful', 0.30954322), ('apartment', 0.30830818), ('great', 0.30658647), ('stay', 0.29911628), ('everything', 0.29085526), ('really', 0.2897475), ('recommend', 0.28935343), ('family', 0.27149886), ('bars', 0.26579693), ('walking', 0.26066285), ('house', 0.257039), ('feel', 0.25661275), ('experience', 0.25445747), ('fantastic', 0.24858971), ('distance', 0.2435713), ('best', 0.2256188), ('flat', 0.2195036), ('nice', 0.2169483), ('street', 0.2159046), ('little', 0.21289535), ('staying', 0.2035361), ('acropolis', 0.20351805), ('place', 0.19661896), ('location', 0.19301733), ('well', 0.19213219), ('lovely', 0.18843167), ('perfect', 0.18533345), ('area', 0.18385515), ('one', 0.15660386), ('need', 0.1543902), ('stayed', 0.14714637), ('neighborhood', 0.14078844), ('amazing', 0.13871905), ('located', 0.13703422), ('home', 0.13526), ('felt', 0.118528634), ('clean', 0.0832926), ('two', 0.07944033), ('enjoyed', 0.065753594), ('kitchen', 0.058131974), ('room', 0.051455736), ('like', 0.04665021), ('spacious', 0.03111431), ('comfortable', 0.005120905), ('loved', 0.0024515553), ('quiet', -0.002846711), ('space', -0.021602489), ('beautiful', -0.02188182), ('view', -0.046572343), ('balcony', -0.058774862)]\n",
            "neighborhood [('area', 0.98217434), ('bars', 0.8903534), ('quiet', 0.8883043), ('restaurants', 0.87131697), ('right', 0.8685057), ('close', 0.85918456), ('many', 0.8456186), ('street', 0.8455275), ('city', 0.83480597), ('located', 0.82864153), ('little', 0.80707383), ('acropolis', 0.78142035), ('nice', 0.77212125), ('location', 0.7700883), ('house', 0.7616469), ('within', 0.7584424), ('away', 0.75703394), ('flat', 0.7266157), ('around', 0.7246987), ('minutes', 0.71120214), ('see', 0.70889723), ('local', 0.7022298), ('balcony', 0.69885904), ('really', 0.6959781), ('walk', 0.6937015), ('metro', 0.6888), ('also', 0.68860924), ('spacious', 0.688351), ('station', 0.68279356), ('space', 0.6743159), ('good', 0.672735), ('distance', 0.66748375), ('lovely', 0.66570294), ('well', 0.665459), ('places', 0.66466826), ('beautiful', 0.664339), ('clean', 0.6600716), ('apartment', 0.6482196), ('loved', 0.6461536), ('walking', 0.64032465), ('enjoyed', 0.63871264), ('fantastic', 0.6369206), ('super', 0.62311995), ('felt', 0.61562127), ('place', 0.61515236), ('great', 0.6080941), ('like', 0.6025322), ('view', 0.59999967), ('comfortable', 0.5965289), ('perfect', 0.57866055), ('athens', 0.5775735), ('amazing', 0.56366545), ('excellent', 0.5589903), ('kitchen', 0.5279113), ('two', 0.51718926), ('easy', 0.4901023), ('home', 0.48919126), ('get', 0.47200537), ('visit', 0.4686941), ('room', 0.4591141), ('go', 0.44720098), ('feel', 0.4452694), ('gave', 0.44406784), ('recommended', 0.4437257), ('everything', 0.4351808), ('need', 0.43140963), ('provided', 0.42838025), ('night', 0.42738777), ('wonderful', 0.42509243), ('much', 0.41486207), ('staying', 0.3965751), ('family', 0.39374304), ('experience', 0.3763415), ('one', 0.36883253), ('stay', 0.36829743), ('recommend', 0.35174674), ('best', 0.34885952), ('definitely', 0.3385593), ('highly', 0.33356008), ('friendly', 0.32774642), ('thanks', 0.3242297), ('time', 0.3197941), ('would', 0.31584144), ('could', 0.31437144), ('made', 0.31047785), ('host', 0.30790016), ('needed', 0.2933161), ('even', 0.2853548), ('us', 0.2617182), ('thank', 0.26036265), ('day', 0.24944185), ('helpful', 0.2475295), ('romanos', 0.20776345), ('kind', 0.20304689), ('airbnb', 0.20029223), ('back', 0.18779752), ('airport', 0.14078844), ('stayed', 0.13417068), ('arrived', 0.122869015)]\n",
            "house [('flat', 0.93424314), ('space', 0.89694774), ('really', 0.8892432), ('lovely', 0.88814825), ('apartment', 0.8805188), ('spacious', 0.87425315), ('beautiful', 0.86182773), ('comfortable', 0.8604877), ('little', 0.8560992), ('balcony', 0.8470175), ('clean', 0.8421721), ('like', 0.8288414), ('nice', 0.8060018), ('super', 0.8039447), ('loved', 0.80073524), ('family', 0.79871833), ('quiet', 0.7969235), ('felt', 0.7952118), ('well', 0.78977877), ('place', 0.78405154), ('room', 0.7798017), ('kitchen', 0.76743215), ('neighborhood', 0.7616469), ('area', 0.7559052), ('feel', 0.7548437), ('fantastic', 0.7531075), ('home', 0.7493904), ('much', 0.7484602), ('view', 0.7378514), ('amazing', 0.7308121), ('enjoyed', 0.7284267), ('location', 0.71655875), ('two', 0.7152935), ('wonderful', 0.714603), ('located', 0.7133297), ('perfect', 0.70678294), ('right', 0.7028721), ('made', 0.67668986), ('city', 0.6580232), ('good', 0.65042835), ('street', 0.6503223), ('everything', 0.6481775), ('excellent', 0.64077735), ('great', 0.63646054), ('experience', 0.6333414), ('also', 0.6314688), ('close', 0.6173102), ('host', 0.61141497), ('romanos', 0.60992444), ('could', 0.60401624), ('see', 0.60206676), ('even', 0.60118085), ('away', 0.6001707), ('acropolis', 0.5951323), ('kind', 0.5950172), ('needed', 0.59324), ('need', 0.5926857), ('provided', 0.5901595), ('one', 0.58872604), ('thank', 0.58672786), ('thanks', 0.5840607), ('friendly', 0.57996154), ('many', 0.57560223), ('night', 0.5725868), ('staying', 0.5688889), ('stay', 0.56667066), ('time', 0.5576245), ('bars', 0.5490241), ('minutes', 0.547787), ('airbnb', 0.5383305), ('athens', 0.53772634), ('restaurants', 0.5337665), ('within', 0.5243565), ('station', 0.5137407), ('metro', 0.5130257), ('stayed', 0.50807023), ('walk', 0.50389665), ('around', 0.4984233), ('arrived', 0.49194407), ('helpful', 0.49112886), ('us', 0.48641783), ('gave', 0.4836011), ('local', 0.47392732), ('walking', 0.46376073), ('easy', 0.44138134), ('best', 0.43388313), ('distance', 0.42436066), ('visit', 0.4226986), ('day', 0.4123983), ('would', 0.41171843), ('get', 0.41018108), ('definitely', 0.3853954), ('places', 0.37948063), ('recommended', 0.36076033), ('recommend', 0.35835955), ('highly', 0.33877376), ('go', 0.3304595), ('back', 0.3278583), ('airport', 0.257039)]\n",
            "could [('need', 0.8101562), ('one', 0.75491923), ('needed', 0.7290076), ('see', 0.7246701), ('perfect', 0.71408045), ('everything', 0.712613), ('much', 0.7124648), ('even', 0.6701318), ('airbnb', 0.6587282), ('stayed', 0.64077157), ('best', 0.6321702), ('amazing', 0.6149359), ('family', 0.6090996), ('flat', 0.607545), ('house', 0.60401624), ('night', 0.60131925), ('apartment', 0.59840804), ('place', 0.5921796), ('loved', 0.5907556), ('thanks', 0.5906246), ('day', 0.5901645), ('thank', 0.59007996), ('stay', 0.5852736), ('athens', 0.5840206), ('fantastic', 0.57676184), ('two', 0.5762801), ('beautiful', 0.5693408), ('comfortable', 0.56761634), ('little', 0.5646754), ('wonderful', 0.5629821), ('well', 0.55837315), ('visit', 0.5572625), ('kitchen', 0.5569907), ('time', 0.55657625), ('within', 0.54862154), ('made', 0.5485436), ('back', 0.54057604), ('get', 0.5393715), ('like', 0.5373287), ('go', 0.535352), ('spacious', 0.5334243), ('room', 0.53236496), ('clean', 0.53104866), ('lovely', 0.52935535), ('enjoyed', 0.52486867), ('space', 0.51821405), ('experience', 0.50470686), ('feel', 0.5003812), ('great', 0.50001794), ('would', 0.49967858), ('distance', 0.49643967), ('balcony', 0.49484947), ('view', 0.4932007), ('arrived', 0.48881912), ('really', 0.48820865), ('excellent', 0.4836801), ('walking', 0.48341542), ('good', 0.48221257), ('staying', 0.47756076), ('city', 0.47386777), ('provided', 0.4708767), ('kind', 0.46937907), ('felt', 0.46721596), ('home', 0.466333), ('definitely', 0.46052846), ('walk', 0.45647335), ('right', 0.45377132), ('acropolis', 0.44947103), ('location', 0.4492905), ('minutes', 0.44249246), ('close', 0.43794784), ('also', 0.43590453), ('super', 0.43564337), ('away', 0.43542027), ('located', 0.43498152), ('us', 0.43241283), ('nice', 0.43155706), ('quiet', 0.42173794), ('many', 0.41428396), ('romanos', 0.4099872), ('station', 0.40507773), ('easy', 0.3954192), ('metro', 0.39225292), ('around', 0.3891662), ('host', 0.38374698), ('airport', 0.37096286), ('street', 0.3700473), ('recommend', 0.36453047), ('area', 0.36230198), ('places', 0.35321382), ('helpful', 0.34038752), ('gave', 0.33342576), ('friendly', 0.31829894), ('neighborhood', 0.31437144), ('highly', 0.30418628), ('bars', 0.2952181), ('recommended', 0.2949174), ('local', 0.2728857), ('restaurants', 0.25772956)]\n",
            "needed [('need', 0.8853957), ('made', 0.75801396), ('provided', 0.7561263), ('even', 0.743069), ('everything', 0.73089474), ('could', 0.7290076), ('well', 0.70041996), ('us', 0.656254), ('comfortable', 0.65257674), ('super', 0.6424588), ('clean', 0.6414792), ('kind', 0.6386504), ('apartment', 0.6206222), ('feel', 0.6150813), ('flat', 0.6120512), ('much', 0.61047137), ('gave', 0.6096936), ('really', 0.6060333), ('house', 0.59324), ('helpful', 0.5823796), ('friendly', 0.58204234), ('kitchen', 0.5801782), ('lovely', 0.57924163), ('arrived', 0.5707715), ('excellent', 0.5685722), ('wonderful', 0.5623906), ('thanks', 0.5611814), ('nice', 0.54951876), ('romanos', 0.54760814), ('host', 0.5448972), ('good', 0.5386038), ('thank', 0.5358695), ('also', 0.53479636), ('spacious', 0.53134495), ('perfect', 0.53075826), ('great', 0.52280825), ('family', 0.5111869), ('like', 0.507121), ('easy', 0.49944332), ('home', 0.49110314), ('see', 0.48150712), ('space', 0.47802424), ('felt', 0.4757995), ('little', 0.47105414), ('fantastic', 0.47086254), ('beautiful', 0.46750417), ('room', 0.46108735), ('get', 0.4593132), ('place', 0.45305535), ('stay', 0.45202774), ('amazing', 0.4337672), ('loved', 0.43094787), ('local', 0.41154963), ('airport', 0.3960713), ('enjoyed', 0.38998917), ('around', 0.38915813), ('area', 0.3723794), ('many', 0.36865366), ('within', 0.3629497), ('time', 0.35669306), ('distance', 0.3550759), ('walking', 0.35121998), ('close', 0.34986514), ('balcony', 0.3314783), ('airbnb', 0.33143806), ('quiet', 0.3184971), ('location', 0.31824604), ('would', 0.31380597), ('experience', 0.29625046), ('neighborhood', 0.2933161), ('go', 0.28755313), ('definitely', 0.28596154), ('places', 0.28575113), ('located', 0.28240427), ('visit', 0.27930844), ('right', 0.2751092), ('athens', 0.26641962), ('one', 0.26396465), ('city', 0.2615779), ('metro', 0.25327852), ('staying', 0.2526471), ('best', 0.2505271), ('back', 0.24293761), ('highly', 0.24061278), ('restaurants', 0.23881009), ('two', 0.23192804), ('station', 0.22815141), ('bars', 0.2181144), ('view', 0.20960574), ('recommend', 0.2082486), ('stayed', 0.19617012), ('walk', 0.19513915), ('recommended', 0.19175056), ('minutes', 0.18686973), ('away', 0.17776552), ('street', 0.1759519), ('day', 0.17055881), ('night', 0.16951038), ('acropolis', 0.12133315)]\n",
            "quiet [('located', 0.9160853), ('neighborhood', 0.8883043), ('area', 0.8809102), ('spacious', 0.85190505), ('nice', 0.8399005), ('little', 0.83732224), ('beautiful', 0.83276), ('balcony', 0.82785857), ('right', 0.8259702), ('close', 0.8180262), ('acropolis', 0.80191743), ('loved', 0.7969292), ('house', 0.7969235), ('street', 0.79654634), ('space', 0.7962887), ('clean', 0.7943278), ('lovely', 0.78963226), ('flat', 0.7811362), ('well', 0.7700512), ('comfortable', 0.7675679), ('city', 0.74344), ('bars', 0.7409937), ('away', 0.7279227), ('enjoyed', 0.72359544), ('perfect', 0.7190479), ('two', 0.7072288), ('fantastic', 0.70637727), ('good', 0.7040715), ('location', 0.7027671), ('view', 0.69687545), ('restaurants', 0.68770665), ('apartment', 0.68546283), ('amazing', 0.6844814), ('within', 0.6828876), ('like', 0.6792643), ('really', 0.6777757), ('minutes', 0.6749451), ('many', 0.6744759), ('walk', 0.66202104), ('kitchen', 0.65256095), ('great', 0.63438), ('felt', 0.6289175), ('metro', 0.624708), ('place', 0.6242432), ('super', 0.6209126), ('walking', 0.6160139), ('station', 0.61173964), ('room', 0.60520273), ('see', 0.6039657), ('athens', 0.5668792), ('excellent', 0.5630871), ('also', 0.55822134), ('distance', 0.5403831), ('need', 0.52363586), ('wonderful', 0.5125715), ('around', 0.5022142), ('family', 0.49437), ('home', 0.49269354), ('one', 0.48014066), ('everything', 0.4727076), ('night', 0.46425116), ('much', 0.45426035), ('staying', 0.45111135), ('local', 0.4417782), ('feel', 0.4325939), ('could', 0.42173794), ('places', 0.41667637), ('visit', 0.38225934), ('best', 0.37342486), ('recommend', 0.36310264), ('stay', 0.3615059), ('easy', 0.3578925), ('would', 0.35272935), ('definitely', 0.3427711), ('experience', 0.34039158), ('get', 0.33533448), ('recommended', 0.3350288), ('stayed', 0.32395864), ('needed', 0.3184971), ('highly', 0.30765986), ('go', 0.29982024), ('provided', 0.26628682), ('thanks', 0.26595455), ('made', 0.24733377), ('time', 0.24268341), ('even', 0.23580359), ('thank', 0.23517421), ('friendly', 0.2323745), ('airbnb', 0.23119922), ('day', 0.22291645), ('gave', 0.2058351), ('host', 0.18350777), ('back', 0.17445178), ('romanos', 0.16076754), ('kind', 0.15941532), ('helpful', 0.13512391), ('us', 0.11693608), ('arrived', 0.03790861), ('airport', -0.002846711)]\n",
            "romanos [('kind', 0.9600204), ('friendly', 0.8977996), ('host', 0.88675123), ('helpful', 0.87492615), ('thank', 0.86704445), ('thanks', 0.8563941), ('wonderful', 0.8375096), ('made', 0.8229543), ('family', 0.8081432), ('arrived', 0.7980391), ('much', 0.7887213), ('experience', 0.765854), ('really', 0.7618124), ('airbnb', 0.7323178), ('time', 0.728649), ('us', 0.72692424), ('provided', 0.7072209), ('super', 0.67700195), ('gave', 0.66801167), ('lovely', 0.6663925), ('fantastic', 0.64858097), ('excellent', 0.6409976), ('stay', 0.63469326), ('feel', 0.6326915), ('house', 0.60992444), ('staying', 0.60657173), ('great', 0.5879858), ('enjoyed', 0.5667463), ('place', 0.5665701), ('even', 0.56637925), ('amazing', 0.56235343), ('flat', 0.55009997), ('needed', 0.54760814), ('loved', 0.53114545), ('apartment', 0.5299831), ('home', 0.5284992), ('beautiful', 0.52089316), ('recommended', 0.519883), ('would', 0.51655155), ('back', 0.5104474), ('stayed', 0.5094831), ('best', 0.50933444), ('felt', 0.49826878), ('nice', 0.49152917), ('good', 0.48622444), ('visit', 0.4803131), ('definitely', 0.47358686), ('recommend', 0.47314474), ('like', 0.47295427), ('perfect', 0.46994507), ('airport', 0.468239), ('comfortable', 0.46614882), ('space', 0.44389433), ('clean', 0.41466832), ('could', 0.4099872), ('highly', 0.40958822), ('also', 0.4000897), ('local', 0.39867038), ('day', 0.3959691), ('athens', 0.39283767), ('room', 0.38953406), ('everything', 0.38786387), ('spacious', 0.38671488), ('one', 0.36189094), ('well', 0.3595618), ('easy', 0.35820428), ('go', 0.3573287), ('night', 0.3298314), ('little', 0.3283761), ('balcony', 0.328129), ('view', 0.3137166), ('kitchen', 0.30917218), ('see', 0.29092616), ('many', 0.2836289), ('get', 0.27987152), ('places', 0.2739567), ('around', 0.2647961), ('location', 0.2630393), ('need', 0.24981031), ('two', 0.24560834), ('city', 0.22586039), ('neighborhood', 0.20776345), ('area', 0.18637322), ('quiet', 0.16076754), ('restaurants', 0.13597476), ('bars', 0.13131891), ('right', 0.1192016), ('located', 0.10566058), ('close', 0.09398107), ('distance', 0.078207605), ('within', 0.0709526), ('station', 0.06405241), ('metro', 0.06028057), ('street', 0.04914252), ('walking', 0.046340954), ('minutes', 0.031585753), ('away', 0.030792486), ('acropolis', -0.00037928607), ('walk', -0.016901845)]\n",
            "staying [('stay', 0.9186815), ('would', 0.9002725), ('experience', 0.8960921), ('definitely', 0.86041856), ('place', 0.8545305), ('recommend', 0.8541423), ('thank', 0.84845287), ('family', 0.8454594), ('much', 0.84315336), ('thanks', 0.8361567), ('time', 0.8288375), ('visit', 0.82202274), ('athens', 0.81923103), ('loved', 0.80940753), ('enjoyed', 0.8085593), ('back', 0.7974609), ('airbnb', 0.7781939), ('highly', 0.72947806), ('wonderful', 0.72391593), ('recommended', 0.7206135), ('stayed', 0.7170913), ('fantastic', 0.7144671), ('really', 0.69534016), ('perfect', 0.6748746), ('beautiful', 0.663774), ('amazing', 0.63822347), ('view', 0.60803455), ('romanos', 0.60657173), ('go', 0.59348965), ('lovely', 0.59249187), ('best', 0.58508843), ('host', 0.5760874), ('flat', 0.5711704), ('house', 0.5688889), ('felt', 0.55600286), ('kind', 0.55473244), ('home', 0.55468196), ('one', 0.55292916), ('like', 0.54956955), ('apartment', 0.54913807), ('day', 0.5295485), ('location', 0.52326673), ('see', 0.49665052), ('space', 0.49352062), ('great', 0.4879028), ('spacious', 0.48531705), ('city', 0.48500723), ('comfortable', 0.4822757), ('could', 0.47756076), ('friendly', 0.47612393), ('located', 0.47561562), ('balcony', 0.475077), ('feel', 0.47235763), ('helpful', 0.4709308), ('night', 0.46026155), ('two', 0.45489457), ('excellent', 0.45170912), ('quiet', 0.45111135), ('made', 0.44072923), ('super', 0.43531772), ('clean', 0.43416822), ('nice', 0.4103768), ('acropolis', 0.40833944), ('neighborhood', 0.3965751), ('good', 0.38499936), ('everything', 0.36568072), ('close', 0.3617234), ('within', 0.34908578), ('distance', 0.33171952), ('walk', 0.33022118), ('walking', 0.324924), ('right', 0.31866607), ('away', 0.31560957), ('area', 0.31464922), ('many', 0.3061178), ('minutes', 0.30428314), ('little', 0.30399108), ('arrived', 0.28264698), ('room', 0.27730042), ('well', 0.27426243), ('bars', 0.26747757), ('easy', 0.26310614), ('metro', 0.26187077), ('station', 0.25621584), ('need', 0.25487152), ('needed', 0.2526471), ('get', 0.25049824), ('places', 0.24861813), ('restaurants', 0.2304624), ('street', 0.20704524), ('airport', 0.2035361), ('us', 0.18999577), ('local', 0.18930146), ('kitchen', 0.18261674), ('provided', 0.16770817), ('also', 0.15762658), ('gave', 0.15043773), ('around', 0.14135577), ('even', 0.10681389)]\n",
            "excellent [('great', 0.9634003), ('good', 0.9309144), ('fantastic', 0.8930561), ('super', 0.89250743), ('wonderful', 0.85654664), ('nice', 0.8547185), ('amazing', 0.8290789), ('lovely', 0.820398), ('friendly', 0.8169996), ('perfect', 0.7867076), ('helpful', 0.7704526), ('really', 0.76186806), ('also', 0.7353178), ('provided', 0.7248272), ('many', 0.71712154), ('kind', 0.7122193), ('well', 0.70436686), ('beautiful', 0.70431197), ('clean', 0.70398235), ('easy', 0.7032668), ('flat', 0.6955425), ('gave', 0.6862128), ('host', 0.67748433), ('apartment', 0.6667797), ('spacious', 0.6653081), ('close', 0.6630427), ('loved', 0.6625552), ('enjoyed', 0.6570747), ('romanos', 0.6409976), ('house', 0.64077735), ('comfortable', 0.6348844), ('thanks', 0.628036), ('local', 0.62687385), ('restaurants', 0.61992913), ('family', 0.61451256), ('best', 0.61317366), ('city', 0.60444146), ('bars', 0.60304767), ('area', 0.59269965), ('within', 0.59191644), ('space', 0.58797586), ('location', 0.5834102), ('us', 0.57531554), ('place', 0.57263094), ('needed', 0.5685722), ('located', 0.56776774), ('thank', 0.5673617), ('around', 0.5649204), ('quiet', 0.5630871), ('places', 0.5591704), ('neighborhood', 0.5589903), ('much', 0.55422837), ('little', 0.5510029), ('see', 0.5460255), ('recommended', 0.5442303), ('made', 0.53722876), ('acropolis', 0.53180116), ('balcony', 0.52811456), ('athens', 0.52683467), ('everything', 0.5188627), ('metro', 0.5180568), ('distance', 0.5132582), ('airbnb', 0.5109886), ('experience', 0.50755996), ('even', 0.5047653), ('need', 0.5035826), ('walking', 0.5027191), ('get', 0.5025636), ('view', 0.49205336), ('minutes', 0.49076867), ('station', 0.4867153), ('arrived', 0.4843822), ('could', 0.4836801), ('right', 0.48124167), ('visit', 0.47471285), ('highly', 0.4685782), ('would', 0.46058893), ('recommend', 0.45722172), ('staying', 0.45170912), ('walk', 0.4510977), ('stay', 0.45002767), ('kitchen', 0.4477308), ('definitely', 0.43122306), ('airport', 0.42500505), ('away', 0.40637788), ('room', 0.39864305), ('street', 0.39045614), ('two', 0.38986716), ('go', 0.37411478), ('time', 0.36893538), ('like', 0.3651729), ('feel', 0.34770817), ('one', 0.33611694), ('stayed', 0.3213965), ('felt', 0.31708446), ('home', 0.2582786), ('back', 0.22250664), ('night', 0.21026933), ('day', 0.13199303)]\n",
            "experience [('airbnb', 0.9078349), ('thank', 0.90348494), ('staying', 0.8960921), ('thanks', 0.88801354), ('time', 0.8819476), ('family', 0.8810765), ('stay', 0.8686207), ('place', 0.8506987), ('much', 0.8453266), ('host', 0.77095824), ('romanos', 0.765854), ('visit', 0.7635782), ('wonderful', 0.7586692), ('stayed', 0.74892443), ('really', 0.7347858), ('would', 0.732583), ('loved', 0.72833663), ('fantastic', 0.72619206), ('athens', 0.7256141), ('enjoyed', 0.7239887), ('definitely', 0.7094024), ('back', 0.6996486), ('best', 0.68998015), ('recommend', 0.6818023), ('kind', 0.6817455), ('amazing', 0.6809066), ('view', 0.66892624), ('recommended', 0.6513612), ('beautiful', 0.6467021), ('perfect', 0.63348866), ('house', 0.6333414), ('one', 0.63081646), ('flat', 0.6165638), ('friendly', 0.60794485), ('highly', 0.60605574), ('apartment', 0.60381454), ('lovely', 0.5948916), ('helpful', 0.587306), ('location', 0.5824304), ('day', 0.55954456), ('home', 0.5592058), ('made', 0.54934347), ('go', 0.53366566), ('space', 0.5315932), ('felt', 0.5275502), ('like', 0.5217712), ('see', 0.51985705), ('feel', 0.5155932), ('great', 0.5121363), ('super', 0.51155865), ('excellent', 0.50755996), ('could', 0.50470686), ('balcony', 0.50307435), ('night', 0.4995476), ('city', 0.47799784), ('spacious', 0.45844766), ('arrived', 0.4553442), ('comfortable', 0.44465485), ('two', 0.44258016), ('clean', 0.41225973), ('neighborhood', 0.3763415), ('nice', 0.3749946), ('good', 0.369899), ('everything', 0.36696163), ('located', 0.355582), ('many', 0.35303023), ('acropolis', 0.35028663), ('room', 0.34885022), ('provided', 0.34353006), ('little', 0.34062612), ('quiet', 0.34039158), ('us', 0.33713302), ('gave', 0.33360878), ('places', 0.33028147), ('distance', 0.31964806), ('area', 0.30105904), ('within', 0.29724276), ('needed', 0.29625046), ('close', 0.29312032), ('right', 0.2887842), ('easy', 0.27240658), ('even', 0.26855856), ('local', 0.26612785), ('walking', 0.26152775), ('bars', 0.25790864), ('well', 0.25496536), ('airport', 0.25445747), ('restaurants', 0.2530689), ('get', 0.25031602), ('walk', 0.24773048), ('minutes', 0.24746701), ('away', 0.24529885), ('need', 0.23979548), ('kitchen', 0.22940175), ('also', 0.22218783), ('around', 0.20360632), ('station', 0.1996509), ('street', 0.19574293), ('metro', 0.1932124)]\n",
            "night [('day', 0.9272216), ('one', 0.8657713), ('two', 0.72792476), ('stayed', 0.6953016), ('little', 0.6944621), ('street', 0.68123007), ('airbnb', 0.6281413), ('away', 0.62331766), ('back', 0.6153799), ('right', 0.6124888), ('could', 0.60131925), ('best', 0.6000706), ('see', 0.5979112), ('room', 0.59760356), ('like', 0.59513265), ('time', 0.5842084), ('felt', 0.57543224), ('much', 0.5743566), ('house', 0.5725868), ('go', 0.5613506), ('balcony', 0.5597521), ('minutes', 0.52668744), ('arrived', 0.5202245), ('athens', 0.5190518), ('even', 0.51667327), ('acropolis', 0.5085604), ('family', 0.50760674), ('visit', 0.5036642), ('experience', 0.4995476), ('city', 0.4952008), ('loved', 0.49390295), ('home', 0.49286863), ('enjoyed', 0.4924552), ('view', 0.48197606), ('walk', 0.4806007), ('feel', 0.4755234), ('kitchen', 0.46590412), ('quiet', 0.46425116), ('staying', 0.46026155), ('amazing', 0.4599146), ('station', 0.44981724), ('beautiful', 0.4475832), ('space', 0.44728553), ('around', 0.44463572), ('neighborhood', 0.42738777), ('within', 0.42671078), ('get', 0.4256707), ('bars', 0.42187923), ('fantastic', 0.41721615), ('thank', 0.414603), ('flat', 0.4128872), ('perfect', 0.40788433), ('area', 0.40444332), ('lovely', 0.40302855), ('many', 0.4013618), ('place', 0.39858449), ('thanks', 0.39657307), ('also', 0.38755608), ('places', 0.38080457), ('would', 0.37439626), ('definitely', 0.37436515), ('wonderful', 0.36889157), ('located', 0.36833578), ('made', 0.36623943), ('metro', 0.36067426), ('really', 0.35434216), ('stay', 0.34741372), ('local', 0.3333416), ('us', 0.33181328), ('distance', 0.33151108), ('airport', 0.33113626), ('romanos', 0.3298314), ('spacious', 0.32737687), ('restaurants', 0.3224831), ('nice', 0.3133469), ('apartment', 0.31131664), ('good', 0.30607048), ('kind', 0.29754168), ('close', 0.2947736), ('comfortable', 0.28403845), ('location', 0.28022906), ('recommend', 0.27684325), ('recommended', 0.2752167), ('walking', 0.27031782), ('great', 0.26346907), ('need', 0.24649368), ('provided', 0.24498644), ('well', 0.23420852), ('excellent', 0.21026933), ('highly', 0.20840682), ('clean', 0.20406823), ('gave', 0.19887167), ('everything', 0.1800301), ('super', 0.17764746), ('needed', 0.16951038), ('host', 0.16785534), ('friendly', 0.13951042), ('helpful', 0.1241445), ('easy', 0.08369373)]\n",
            "distance [('within', 0.8730637), ('close', 0.7439979), ('see', 0.7384136), ('many', 0.7262581), ('acropolis', 0.71585864), ('location', 0.70630836), ('city', 0.70543486), ('minutes', 0.6970402), ('walk', 0.6838523), ('restaurants', 0.68079937), ('neighborhood', 0.66748375), ('bars', 0.66672057), ('area', 0.65467983), ('around', 0.6520052), ('walking', 0.63935614), ('located', 0.615278), ('perfect', 0.6139499), ('right', 0.6123133), ('metro', 0.603968), ('station', 0.59993124), ('away', 0.59665835), ('places', 0.58751106), ('athens', 0.58108234), ('street', 0.5605903), ('easy', 0.5520442), ('need', 0.5435733), ('quiet', 0.5403831), ('get', 0.539201), ('visit', 0.5220454), ('also', 0.52135384), ('great', 0.52128726), ('fantastic', 0.5194086), ('local', 0.5188458), ('good', 0.5155382), ('excellent', 0.5132582), ('amazing', 0.51253825), ('place', 0.50650334), ('flat', 0.4993252), ('enjoyed', 0.49744463), ('could', 0.49643967), ('go', 0.49078956), ('little', 0.4893185), ('apartment', 0.48155773), ('loved', 0.46917757), ('nice', 0.46583548), ('well', 0.4635071), ('view', 0.4617614), ('clean', 0.4525413), ('spacious', 0.44975004), ('super', 0.4327414), ('best', 0.43172058), ('beautiful', 0.4259302), ('house', 0.42436066), ('balcony', 0.40472177), ('everything', 0.39959282), ('space', 0.39265198), ('recommended', 0.39254153), ('really', 0.3864339), ('one', 0.38043195), ('lovely', 0.37477228), ('comfortable', 0.37174082), ('stay', 0.36605513), ('definitely', 0.36195412), ('two', 0.35875684), ('needed', 0.3550759), ('provided', 0.34954095), ('thanks', 0.3472753), ('gave', 0.34326228), ('highly', 0.34304893), ('recommend', 0.33401018), ('staying', 0.33171952), ('much', 0.3315802), ('night', 0.33151108), ('would', 0.3243215), ('wonderful', 0.32055846), ('experience', 0.31964806), ('like', 0.31352773), ('day', 0.3066853), ('felt', 0.3013794), ('airbnb', 0.29697204), ('even', 0.29659998), ('family', 0.2928131), ('kitchen', 0.29116195), ('time', 0.27933446), ('thank', 0.26978028), ('home', 0.24426897), ('airport', 0.2435713), ('back', 0.24024794), ('friendly', 0.23574576), ('host', 0.23437095), ('stayed', 0.21688238), ('room', 0.21251392), ('helpful', 0.20684889), ('made', 0.1835401), ('feel', 0.18323418), ('us', 0.17496668), ('kind', 0.14296472), ('arrived', 0.09021869), ('romanos', 0.078207605)]\n",
            "spacious [('clean', 0.9748393), ('comfortable', 0.9564035), ('space', 0.9501959), ('flat', 0.93279904), ('beautiful', 0.9169338), ('well', 0.897258), ('lovely', 0.8941176), ('balcony', 0.89332587), ('house', 0.87425315), ('apartment', 0.8684752), ('quiet', 0.85190505), ('nice', 0.8478536), ('located', 0.82533205), ('loved', 0.8199379), ('super', 0.8150397), ('kitchen', 0.8037618), ('view', 0.7911602), ('perfect', 0.76977736), ('room', 0.7672202), ('really', 0.76619), ('little', 0.7646749), ('amazing', 0.7592809), ('two', 0.74868053), ('fantastic', 0.74514204), ('location', 0.73882896), ('place', 0.7199233), ('family', 0.7128452), ('area', 0.7006), ('neighborhood', 0.688351), ('enjoyed', 0.68647236), ('good', 0.6816053), ('like', 0.6676181), ('excellent', 0.6653081), ('close', 0.66042674), ('everything', 0.6544762), ('wonderful', 0.65347636), ('great', 0.6502835), ('acropolis', 0.64924055), ('need', 0.64645886), ('right', 0.5795925), ('felt', 0.5664143), ('city', 0.55826163), ('much', 0.55812514), ('street', 0.55801606), ('within', 0.534572), ('could', 0.5334243), ('needed', 0.53134495), ('minutes', 0.52581507), ('also', 0.5212096), ('away', 0.5080171), ('home', 0.50265944), ('walk', 0.49150684), ('walking', 0.48969722), ('many', 0.48753217), ('bars', 0.48747492), ('feel', 0.48712045), ('staying', 0.48531705), ('restaurants', 0.4812379), ('metro', 0.47955173), ('stay', 0.46740234), ('one', 0.46610287), ('experience', 0.45844766), ('see', 0.45336464), ('host', 0.4520159), ('stayed', 0.45117897), ('distance', 0.44975004), ('friendly', 0.44760185), ('station', 0.44594872), ('athens', 0.4231848), ('kind', 0.41031575), ('provided', 0.4068983), ('made', 0.3934963), ('thanks', 0.39266592), ('easy', 0.3894094), ('romanos', 0.38671488), ('even', 0.3845086), ('thank', 0.38235512), ('airbnb', 0.36676496), ('would', 0.34796345), ('helpful', 0.34582767), ('recommend', 0.3404553), ('night', 0.32737687), ('best', 0.31685346), ('highly', 0.30343613), ('around', 0.29832745), ('definitely', 0.292358), ('recommended', 0.2774185), ('time', 0.27613252), ('local', 0.25770107), ('visit', 0.25058132), ('gave', 0.24646771), ('get', 0.22122669), ('us', 0.20811017), ('arrived', 0.1913573), ('places', 0.1876271), ('day', 0.10750804), ('back', 0.09348498), ('go', 0.07585869), ('airport', 0.03111431)]\n",
            "friendly [('helpful', 0.97857845), ('kind', 0.94987774), ('host', 0.90818816), ('romanos', 0.8977996), ('super', 0.84881836), ('provided', 0.82192564), ('excellent', 0.8169996), ('wonderful', 0.8057032), ('gave', 0.78342634), ('really', 0.7758657), ('thanks', 0.7655439), ('us', 0.7575433), ('made', 0.7401767), ('arrived', 0.7361477), ('thank', 0.73006827), ('great', 0.7110353), ('family', 0.68193537), ('lovely', 0.68004274), ('fantastic', 0.6762168), ('good', 0.6598276), ('nice', 0.6373305), ('much', 0.63369304), ('easy', 0.62266755), ('also', 0.62099296), ('experience', 0.60794485), ('flat', 0.58860123), ('apartment', 0.5835755), ('needed', 0.58204234), ('house', 0.57996154), ('even', 0.5735056), ('amazing', 0.568192), ('airport', 0.5665821), ('local', 0.56099725), ('airbnb', 0.5553599), ('time', 0.54026175), ('recommended', 0.5307962), ('stay', 0.5281808), ('place', 0.5268512), ('clean', 0.5194643), ('enjoyed', 0.5064416), ('well', 0.49762878), ('comfortable', 0.49286827), ('beautiful', 0.48474777), ('feel', 0.47970292), ('perfect', 0.4786723), ('highly', 0.47648823), ('staying', 0.47612393), ('would', 0.46797204), ('loved', 0.4668466), ('many', 0.4531455), ('spacious', 0.44760185), ('space', 0.44523716), ('recommend', 0.44011718), ('definitely', 0.43952304), ('everything', 0.43138695), ('get', 0.41600186), ('around', 0.4139724), ('visit', 0.4072703), ('best', 0.40238732), ('places', 0.39849553), ('location', 0.37541574), ('restaurants', 0.36143583), ('home', 0.35480985), ('athens', 0.3515231), ('felt', 0.34979045), ('little', 0.3456018), ('area', 0.33624628), ('city', 0.33310145), ('like', 0.33299604), ('back', 0.33081418), ('room', 0.33032766), ('kitchen', 0.3285691), ('neighborhood', 0.32774642), ('go', 0.32339266), ('balcony', 0.32077593), ('could', 0.31829894), ('see', 0.3098819), ('bars', 0.30981052), ('close', 0.2984244), ('need', 0.2968405), ('view', 0.2823953), ('stayed', 0.2688106), ('metro', 0.26671708), ('within', 0.2559645), ('station', 0.24474096), ('distance', 0.23574576), ('quiet', 0.2323745), ('located', 0.22957624), ('walking', 0.19775079), ('minutes', 0.19331321), ('right', 0.18775563), ('day', 0.18347777), ('one', 0.17127214), ('two', 0.16641754), ('walk', 0.13984443), ('night', 0.13951042), ('acropolis', 0.1366753), ('away', 0.12795572), ('street', 0.12667881)]\n",
            "enjoyed [('loved', 0.9584476), ('fantastic', 0.8683589), ('beautiful', 0.85393673), ('perfect', 0.83089244), ('wonderful', 0.82670826), ('lovely', 0.8188582), ('amazing', 0.81790155), ('staying', 0.8085593), ('really', 0.79813385), ('place', 0.7975371), ('much', 0.797447), ('family', 0.7882701), ('athens', 0.7799912), ('great', 0.7415139), ('nice', 0.73768693), ('thanks', 0.7339686), ('thank', 0.72945476), ('house', 0.7284267), ('experience', 0.7239887), ('quiet', 0.72359544), ('would', 0.72139156), ('flat', 0.7069894), ('definitely', 0.6997788), ('visit', 0.6975219), ('like', 0.6965797), ('comfortable', 0.6940345), ('stay', 0.69029206), ('good', 0.68692106), ('spacious', 0.68647236), ('space', 0.68117476), ('recommend', 0.6740048), ('balcony', 0.67236596), ('felt', 0.66848516), ('excellent', 0.6570747), ('view', 0.6520775), ('best', 0.64669627), ('airbnb', 0.6426039), ('neighborhood', 0.63871264), ('located', 0.6326723), ('clean', 0.631998), ('apartment', 0.62246394), ('stayed', 0.614142), ('time', 0.6106845), ('recommended', 0.6064396), ('super', 0.6045696), ('see', 0.6000586), ('city', 0.5982271), ('home', 0.59558845), ('area', 0.58572817), ('little', 0.58286035), ('one', 0.5824309), ('two', 0.57973826), ('location', 0.57422626), ('back', 0.56834763), ('romanos', 0.5667463), ('highly', 0.5641934), ('close', 0.56235605), ('acropolis', 0.5564052), ('many', 0.5496693), ('well', 0.5387327), ('feel', 0.5350345), ('could', 0.52486867), ('right', 0.51870817), ('bars', 0.51248515), ('kind', 0.5113696), ('friendly', 0.5064416), ('go', 0.50615263), ('within', 0.50317174), ('distance', 0.49744463), ('night', 0.4924552), ('made', 0.4851113), ('room', 0.46686056), ('host', 0.46197012), ('need', 0.45155048), ('street', 0.44488096), ('restaurants', 0.44154644), ('helpful', 0.43474406), ('walking', 0.42864862), ('away', 0.4262288), ('kitchen', 0.4220641), ('day', 0.42137048), ('everything', 0.41812357), ('minutes', 0.40509427), ('walk', 0.39188975), ('needed', 0.38998917), ('places', 0.38590655), ('local', 0.3793201), ('also', 0.35504636), ('metro', 0.32576132), ('station', 0.32348377), ('around', 0.32107604), ('provided', 0.31741628), ('easy', 0.28199747), ('gave', 0.28045937), ('get', 0.24622694), ('arrived', 0.23887384), ('us', 0.2147954), ('even', 0.19736582), ('airport', 0.065753594)]\n",
            "minutes [('walk', 0.9721421), ('station', 0.9560606), ('away', 0.95489323), ('metro', 0.9348521), ('acropolis', 0.90516496), ('within', 0.8677686), ('city', 0.85395813), ('right', 0.85136276), ('close', 0.85025996), ('located', 0.78535354), ('street', 0.77084035), ('restaurants', 0.7403975), ('get', 0.73876464), ('bars', 0.7291075), ('around', 0.72155726), ('area', 0.72063494), ('neighborhood', 0.71120214), ('location', 0.7105988), ('also', 0.7005831), ('distance', 0.6970402), ('many', 0.6810265), ('easy', 0.67593783), ('quiet', 0.6749451), ('walking', 0.6707816), ('see', 0.66551167), ('little', 0.6514623), ('two', 0.6083312), ('athens', 0.58184755), ('perfect', 0.55707854), ('apartment', 0.5564478), ('house', 0.547787), ('good', 0.5475077), ('places', 0.5460655), ('flat', 0.54276186), ('nice', 0.5366994), ('night', 0.52668744), ('spacious', 0.52581507), ('view', 0.5255062), ('balcony', 0.5154215), ('fantastic', 0.49763268), ('local', 0.49519527), ('airport', 0.4951353), ('well', 0.4946274), ('excellent', 0.49076867), ('go', 0.48693508), ('amazing', 0.4743967), ('clean', 0.46927255), ('super', 0.46440825), ('great', 0.46280485), ('place', 0.46069768), ('one', 0.45332655), ('space', 0.45119375), ('could', 0.44249246), ('day', 0.4341824), ('lovely', 0.43019658), ('beautiful', 0.42886686), ('visit', 0.42769822), ('loved', 0.42591685), ('enjoyed', 0.40509427), ('even', 0.4005672), ('really', 0.38906017), ('kitchen', 0.37960094), ('comfortable', 0.36328682), ('room', 0.35866913), ('need', 0.35398278), ('best', 0.35307086), ('like', 0.3449637), ('recommended', 0.3318379), ('highly', 0.33105922), ('everything', 0.3289189), ('felt', 0.3183482), ('family', 0.30897504), ('staying', 0.30428314), ('would', 0.30417895), ('definitely', 0.30365148), ('stayed', 0.2985069), ('recommend', 0.29575673), ('gave', 0.2887035), ('provided', 0.28638926), ('time', 0.28139654), ('us', 0.28008965), ('wonderful', 0.2715801), ('much', 0.2621636), ('airbnb', 0.25448847), ('experience', 0.24746701), ('back', 0.24528378), ('stay', 0.2410149), ('home', 0.24018641), ('arrived', 0.21762002), ('friendly', 0.19331321), ('needed', 0.18686973), ('thanks', 0.18660112), ('feel', 0.18605003), ('helpful', 0.17943281), ('host', 0.17049083), ('made', 0.16266735), ('kind', 0.13249291), ('thank', 0.13071387), ('romanos', 0.031585753)]\n",
            "stayed [('airbnb', 0.870883), ('one', 0.85051996), ('family', 0.7963534), ('experience', 0.74892443), ('two', 0.73506695), ('staying', 0.7170913), ('best', 0.70154595), ('night', 0.6953016), ('day', 0.6861971), ('much', 0.68419325), ('loved', 0.66802454), ('time', 0.65183526), ('could', 0.64077157), ('thank', 0.638966), ('perfect', 0.6338873), ('amazing', 0.630869), ('enjoyed', 0.614142), ('back', 0.6141317), ('view', 0.61383), ('wonderful', 0.6092693), ('beautiful', 0.6088418), ('stay', 0.5948299), ('place', 0.5928272), ('thanks', 0.5865876), ('fantastic', 0.57691467), ('athens', 0.55693144), ('would', 0.5517505), ('balcony', 0.52965397), ('visit', 0.52695256), ('room', 0.5183272), ('space', 0.5121822), ('romanos', 0.5094831), ('house', 0.50807023), ('lovely', 0.50432163), ('like', 0.49298123), ('definitely', 0.48676518), ('recommend', 0.48111147), ('flat', 0.4715111), ('spacious', 0.45117897), ('kind', 0.44452184), ('apartment', 0.43022552), ('comfortable', 0.4247918), ('home', 0.42231238), ('really', 0.41833833), ('felt', 0.41809395), ('arrived', 0.3786411), ('little', 0.37509695), ('host', 0.37129095), ('see', 0.36510697), ('acropolis', 0.3631537), ('feel', 0.3595628), ('recommended', 0.35732108), ('location', 0.3443979), ('kitchen', 0.34264216), ('great', 0.34205598), ('highly', 0.33654526), ('clean', 0.3361754), ('located', 0.32915565), ('made', 0.32894263), ('go', 0.32720664), ('quiet', 0.32395864), ('excellent', 0.3213965), ('away', 0.29870746), ('minutes', 0.2985069), ('city', 0.2930967), ('walk', 0.27333772), ('super', 0.2722023), ('even', 0.2695416), ('friendly', 0.2688106), ('need', 0.26683828), ('good', 0.26243615), ('nice', 0.25830716), ('helpful', 0.2424113), ('right', 0.23938924), ('within', 0.23413415), ('everything', 0.22069883), ('distance', 0.21688238), ('street', 0.21434478), ('well', 0.21419196), ('needed', 0.19617012), ('station', 0.17748712), ('walking', 0.15335704), ('close', 0.14862907), ('airport', 0.14714637), ('metro', 0.13702092), ('us', 0.13572605), ('neighborhood', 0.13417068), ('get', 0.13393241), ('many', 0.11250014), ('area', 0.07903048), ('provided', 0.06718112), ('bars', 0.058209825), ('also', 0.054755013), ('places', 0.03376103), ('easy', 0.015957212), ('around', -0.0007845296), ('restaurants', -0.013116095), ('gave', -0.031896178), ('local', -0.083267376)]\n",
            "fantastic [('amazing', 0.9618246), ('great', 0.9388527), ('wonderful', 0.9332961), ('perfect', 0.92986673), ('lovely', 0.8977594), ('excellent', 0.8930561), ('loved', 0.8907523), ('beautiful', 0.88977444), ('enjoyed', 0.8683589), ('good', 0.84207976), ('really', 0.83933884), ('nice', 0.826348), ('super', 0.78445756), ('family', 0.780069), ('place', 0.7685417), ('best', 0.7663186), ('flat', 0.76323545), ('house', 0.7531075), ('athens', 0.7470699), ('spacious', 0.74514204), ('much', 0.74001753), ('thanks', 0.73334193), ('experience', 0.72619206), ('clean', 0.72138095), ('apartment', 0.71743137), ('staying', 0.7144671), ('view', 0.71172845), ('thank', 0.70961607), ('quiet', 0.70637727), ('city', 0.7014253), ('comfortable', 0.69870514), ('space', 0.6877484), ('airbnb', 0.68429774), ('located', 0.6798771), ('location', 0.67926896), ('close', 0.6785671), ('friendly', 0.6762168), ('balcony', 0.67151666), ('visit', 0.6686619), ('many', 0.6673995), ('see', 0.6535922), ('stay', 0.65112174), ('romanos', 0.64858097), ('well', 0.64183104), ('neighborhood', 0.6369206), ('acropolis', 0.6357113), ('kind', 0.63290226), ('host', 0.62790656), ('recommended', 0.6247293), ('area', 0.61923194), ('would', 0.6160782), ('recommend', 0.615742), ('helpful', 0.60806084), ('little', 0.6049905), ('definitely', 0.5910296), ('within', 0.58539504), ('right', 0.58326536), ('bars', 0.58025694), ('time', 0.5773047), ('stayed', 0.57691467), ('could', 0.57676184), ('like', 0.57669675), ('one', 0.5533157), ('restaurants', 0.55158734), ('two', 0.5419829), ('also', 0.53970987), ('made', 0.53561366), ('felt', 0.5281632), ('walking', 0.5254492), ('highly', 0.5247817), ('distance', 0.5194086), ('easy', 0.515621), ('everything', 0.51455766), ('provided', 0.5123182), ('places', 0.49917844), ('minutes', 0.49763268), ('need', 0.49401116), ('gave', 0.49243206), ('local', 0.4898046), ('go', 0.48561713), ('walk', 0.48408577), ('feel', 0.47961107), ('home', 0.4734319), ('away', 0.47289893), ('metro', 0.47218797), ('around', 0.4709202), ('needed', 0.47086254), ('station', 0.44887283), ('room', 0.4455837), ('street', 0.44381383), ('back', 0.43801743), ('kitchen', 0.43133467), ('night', 0.41721615), ('get', 0.41217878), ('us', 0.40029654), ('arrived', 0.37536812), ('even', 0.37250403), ('day', 0.3216704), ('airport', 0.24858971)]\n",
            "thank [('thanks', 0.9864249), ('much', 0.92842895), ('experience', 0.90348494), ('time', 0.8958059), ('stay', 0.8822163), ('romanos', 0.86704445), ('family', 0.85944295), ('airbnb', 0.8531406), ('staying', 0.84845287), ('wonderful', 0.8309487), ('kind', 0.8280959), ('host', 0.80674016), ('would', 0.7917091), ('place', 0.7831446), ('visit', 0.77531064), ('back', 0.77244586), ('definitely', 0.77171093), ('really', 0.7575632), ('made', 0.7419539), ('helpful', 0.7391636), ('friendly', 0.73006827), ('enjoyed', 0.72945476), ('fantastic', 0.70961607), ('athens', 0.70726115), ('recommend', 0.6874177), ('loved', 0.6865819), ('stayed', 0.638966), ('recommended', 0.63547736), ('best', 0.6322907), ('amazing', 0.63218284), ('highly', 0.6313366), ('perfect', 0.62554), ('go', 0.6109721), ('arrived', 0.608403), ('feel', 0.6065096), ('lovely', 0.6021141), ('could', 0.59007996), ('home', 0.5876606), ('house', 0.58672786), ('beautiful', 0.5704993), ('great', 0.56967455), ('apartment', 0.5696704), ('excellent', 0.5673617), ('flat', 0.56563187), ('felt', 0.5471337), ('super', 0.5451086), ('day', 0.53672326), ('needed', 0.5358695), ('us', 0.52772224), ('like', 0.5172707), ('see', 0.5159719), ('provided', 0.5105382), ('one', 0.5067004), ('gave', 0.48727486), ('everything', 0.4787047), ('comfortable', 0.4504928), ('view', 0.4468553), ('good', 0.43034932), ('even', 0.418135), ('space', 0.41772914), ('night', 0.414603), ('location', 0.40850896), ('nice', 0.40304318), ('airport', 0.40020484), ('clean', 0.39324456), ('spacious', 0.38235512), ('city', 0.37613782), ('need', 0.37057567), ('easy', 0.36165723), ('get', 0.35281253), ('balcony', 0.34354678), ('places', 0.3317301), ('local', 0.33000684), ('many', 0.31775516), ('well', 0.29250717), ('room', 0.277122), ('also', 0.27518383), ('two', 0.2748085), ('little', 0.27059084), ('distance', 0.26978028), ('neighborhood', 0.26036265), ('walking', 0.25372955), ('within', 0.25183505), ('quiet', 0.23517421), ('around', 0.22925971), ('located', 0.22753632), ('close', 0.21884649), ('area', 0.21684566), ('kitchen', 0.20487763), ('right', 0.1924433), ('acropolis', 0.17389172), ('bars', 0.17068578), ('restaurants', 0.16418923), ('walk', 0.1412572), ('metro', 0.13829903), ('station', 0.13295756), ('minutes', 0.13071387), ('away', 0.12700035), ('street', 0.058990553)]\n",
            "day [('night', 0.9272216), ('back', 0.79273397), ('one', 0.78922987), ('time', 0.725299), ('go', 0.698943), ('airbnb', 0.692129), ('stayed', 0.6861971), ('visit', 0.6283981), ('much', 0.6154177), ('arrived', 0.59870994), ('could', 0.5901645), ('best', 0.58633167), ('see', 0.5772567), ('athens', 0.57044035), ('experience', 0.55954456), ('thank', 0.53672326), ('two', 0.5348357), ('staying', 0.5295485), ('thanks', 0.52243704), ('away', 0.50334626), ('definitely', 0.5029013), ('would', 0.49887738), ('even', 0.4974881), ('get', 0.49514258), ('family', 0.4916202), ('airport', 0.48886675), ('felt', 0.47950003), ('street', 0.47541574), ('little', 0.46865335), ('like', 0.4583866), ('stay', 0.45780134), ('right', 0.4486498), ('home', 0.44290924), ('minutes', 0.4341824), ('feel', 0.42877993), ('enjoyed', 0.42137048), ('city', 0.42016664), ('house', 0.4123983), ('around', 0.41216785), ('us', 0.40749916), ('made', 0.40728638), ('walk', 0.40492132), ('romanos', 0.3959691), ('station', 0.39407617), ('room', 0.38366184), ('place', 0.3835899), ('places', 0.3830781), ('recommend', 0.38185543), ('kind', 0.37509596), ('loved', 0.37325302), ('recommended', 0.3661318), ('within', 0.35691056), ('acropolis', 0.34958294), ('wonderful', 0.3333445), ('amazing', 0.32506916), ('fantastic', 0.3216704), ('balcony', 0.3181727), ('perfect', 0.31434867), ('view', 0.31396422), ('highly', 0.30898356), ('distance', 0.3066853), ('local', 0.30657282), ('many', 0.30437294), ('also', 0.3031019), ('metro', 0.30108172), ('bars', 0.28480157), ('really', 0.28079495), ('flat', 0.26559818), ('beautiful', 0.25774568), ('neighborhood', 0.24944185), ('kitchen', 0.24192144), ('provided', 0.24112155), ('host', 0.24110547), ('lovely', 0.23488185), ('gave', 0.23254569), ('space', 0.22620456), ('quiet', 0.22291645), ('helpful', 0.22070895), ('area', 0.21731107), ('apartment', 0.21133225), ('restaurants', 0.20261616), ('walking', 0.1970508), ('located', 0.18879694), ('friendly', 0.18347777), ('location', 0.17793807), ('good', 0.17369701), ('needed', 0.17055881), ('close', 0.16934492), ('need', 0.16617614), ('great', 0.16472954), ('easy', 0.13444522), ('excellent', 0.13199303), ('everything', 0.12802497), ('nice', 0.119332865), ('spacious', 0.10750804), ('comfortable', 0.0908751), ('super', 0.06623104), ('well', 0.04449487), ('clean', 0.009839822)]\n",
            "much [('thank', 0.92842895), ('thanks', 0.90517145), ('family', 0.8946897), ('stay', 0.86682457), ('time', 0.85659724), ('experience', 0.8453266), ('staying', 0.84315336), ('really', 0.8279118), ('wonderful', 0.8263452), ('place', 0.8103313), ('airbnb', 0.79933834), ('enjoyed', 0.797447), ('loved', 0.79677904), ('romanos', 0.7887213), ('made', 0.7720475), ('back', 0.758069), ('kind', 0.7558888), ('would', 0.7544223), ('feel', 0.75048816), ('house', 0.7484602), ('fantastic', 0.74001753), ('definitely', 0.738067), ('visit', 0.73779494), ('home', 0.7371946), ('felt', 0.73259103), ('like', 0.7269835), ('athens', 0.72044134), ('lovely', 0.71903855), ('could', 0.7124648), ('beautiful', 0.70993423), ('perfect', 0.70098275), ('host', 0.6918362), ('flat', 0.69004506), ('amazing', 0.6850212), ('stayed', 0.68419325), ('apartment', 0.6497061), ('recommend', 0.64137524), ('friendly', 0.63369304), ('comfortable', 0.63100547), ('one', 0.6236332), ('helpful', 0.61991775), ('day', 0.6154177), ('needed', 0.61047137), ('everything', 0.60742575), ('best', 0.6062607), ('see', 0.60361797), ('go', 0.6035381), ('arrived', 0.5960766), ('space', 0.5947514), ('great', 0.58317053), ('super', 0.58121854), ('night', 0.5743566), ('highly', 0.5732038), ('spacious', 0.55812514), ('recommended', 0.55547076), ('excellent', 0.55422837), ('clean', 0.5489065), ('view', 0.5480126), ('balcony', 0.53553015), ('nice', 0.5326154), ('even', 0.5204526), ('us', 0.5141577), ('need', 0.5141099), ('provided', 0.51297224), ('little', 0.5087102), ('good', 0.49737507), ('room', 0.49207878), ('two', 0.47518012), ('well', 0.46278659), ('location', 0.46184763), ('quiet', 0.45426035), ('city', 0.45359233), ('gave', 0.43574488), ('kitchen', 0.43445832), ('neighborhood', 0.41486207), ('located', 0.3987569), ('get', 0.38939333), ('area', 0.38246423), ('right', 0.38201186), ('many', 0.38189894), ('also', 0.362387), ('within', 0.3569287), ('local', 0.35356182), ('walking', 0.3506774), ('airport', 0.34687436), ('easy', 0.33852726), ('distance', 0.3315802), ('close', 0.3266225), ('places', 0.3266223), ('acropolis', 0.3090922), ('away', 0.3019666), ('around', 0.29736027), ('street', 0.2725075), ('bars', 0.27220243), ('walk', 0.2631977), ('minutes', 0.2621636), ('station', 0.2399358), ('metro', 0.23553938), ('restaurants', 0.23335554)]\n",
            "loved [('enjoyed', 0.9584476), ('beautiful', 0.948778), ('fantastic', 0.8907523), ('perfect', 0.88321394), ('lovely', 0.87943524), ('amazing', 0.87316054), ('place', 0.8447516), ('family', 0.8372344), ('wonderful', 0.831193), ('spacious', 0.8199379), ('really', 0.8198408), ('comfortable', 0.8106151), ('staying', 0.80940753), ('flat', 0.80355877), ('space', 0.8025935), ('house', 0.80073524), ('quiet', 0.7969292), ('much', 0.79677904), ('balcony', 0.7913697), ('view', 0.7741374), ('nice', 0.7690113), ('clean', 0.76240283), ('athens', 0.74394304), ('like', 0.74016416), ('great', 0.73706675), ('experience', 0.72833663), ('located', 0.722709), ('apartment', 0.72106653), ('stay', 0.7076339), ('good', 0.6871431), ('thank', 0.6865819), ('two', 0.68597955), ('would', 0.68359655), ('thanks', 0.683177), ('felt', 0.67240137), ('stayed', 0.66802454), ('excellent', 0.6625552), ('definitely', 0.6568209), ('super', 0.65360224), ('airbnb', 0.64974546), ('well', 0.64708406), ('little', 0.64651006), ('location', 0.64631534), ('neighborhood', 0.6461536), ('one', 0.6374075), ('recommend', 0.6341978), ('visit', 0.63254106), ('best', 0.6322562), ('acropolis', 0.61092454), ('home', 0.6093819), ('area', 0.6070054), ('city', 0.5999565), ('see', 0.59076905), ('could', 0.5907556), ('close', 0.59036833), ('room', 0.582749), ('time', 0.5711746), ('kitchen', 0.54750323), ('highly', 0.5472452), ('feel', 0.544706), ('right', 0.54314625), ('need', 0.53821087), ('recommended', 0.53164256), ('romanos', 0.53114545), ('many', 0.5136359), ('everything', 0.51254386), ('within', 0.5067622), ('back', 0.49928623), ('night', 0.49390295), ('bars', 0.48622257), ('kind', 0.48326445), ('street', 0.47095802), ('distance', 0.46917757), ('friendly', 0.4668466), ('host', 0.4651865), ('walking', 0.46369573), ('made', 0.45537785), ('away', 0.4472564), ('needed', 0.43094787), ('minutes', 0.42591685), ('restaurants', 0.42459673), ('walk', 0.41855866), ('go', 0.40852988), ('helpful', 0.38560256), ('day', 0.37325302), ('also', 0.348802), ('metro', 0.34459627), ('station', 0.33229297), ('places', 0.30866513), ('local', 0.2948123), ('provided', 0.29199496), ('easy', 0.26191935), ('around', 0.2606764), ('even', 0.22463036), ('gave', 0.21192618), ('get', 0.20469028), ('arrived', 0.2009496), ('us', 0.16730317), ('airport', 0.0024515553)]\n",
            "gave [('provided', 0.94489634), ('us', 0.8851893), ('local', 0.84164745), ('helpful', 0.795931), ('also', 0.78491074), ('friendly', 0.78342634), ('around', 0.7635947), ('arrived', 0.74551845), ('places', 0.7196816), ('kind', 0.71946484), ('even', 0.7186911), ('made', 0.7023507), ('host', 0.69259006), ('excellent', 0.6862128), ('many', 0.67377466), ('romanos', 0.66801167), ('airport', 0.6632065), ('super', 0.6609315), ('easy', 0.65658), ('get', 0.64268345), ('great', 0.6360557), ('good', 0.6309804), ('needed', 0.6096936), ('really', 0.5975312), ('restaurants', 0.57557005), ('thanks', 0.5637297), ('nice', 0.55062836), ('wonderful', 0.5381708), ('see', 0.5353528), ('bars', 0.52917224), ('area', 0.50262845), ('go', 0.49602294), ('fantastic', 0.49243206), ('thank', 0.48727486), ('lovely', 0.4847602), ('house', 0.4836011), ('well', 0.46473125), ('city', 0.45824128), ('flat', 0.44913265), ('apartment', 0.44564953), ('feel', 0.44497818), ('neighborhood', 0.44406784), ('little', 0.44361278), ('everything', 0.43895516), ('much', 0.43574488), ('time', 0.43473142), ('recommended', 0.41729495), ('close', 0.4044734), ('within', 0.40034708), ('metro', 0.3964646), ('visit', 0.3945497), ('station', 0.391857), ('right', 0.38497683), ('amazing', 0.36872843), ('best', 0.36453447), ('need', 0.35385367), ('distance', 0.34326228), ('clean', 0.3416008), ('experience', 0.33360878), ('could', 0.33342576), ('family', 0.32606572), ('walking', 0.3210139), ('street', 0.3200752), ('perfect', 0.315111), ('location', 0.31114614), ('airbnb', 0.30440578), ('felt', 0.30027774), ('stay', 0.29960403), ('place', 0.29710585), ('athens', 0.29437357), ('kitchen', 0.28956053), ('minutes', 0.2887035), ('enjoyed', 0.28045937), ('comfortable', 0.26988143), ('home', 0.26849037), ('away', 0.26592317), ('highly', 0.25843698), ('beautiful', 0.25538233), ('walk', 0.25422946), ('space', 0.24811293), ('spacious', 0.24646771), ('like', 0.237652), ('definitely', 0.23732302), ('day', 0.23254569), ('back', 0.22648783), ('would', 0.21617964), ('loved', 0.21192618), ('room', 0.20767443), ('quiet', 0.2058351), ('recommend', 0.20199308), ('night', 0.19887167), ('located', 0.19264156), ('balcony', 0.17153136), ('acropolis', 0.1684096), ('staying', 0.15043773), ('one', 0.11356897), ('view', 0.07736388), ('two', 0.019633988), ('stayed', -0.031896178)]\n",
            "away [('minutes', 0.95489323), ('walk', 0.9473838), ('station', 0.9306228), ('right', 0.9297361), ('metro', 0.90017533), ('acropolis', 0.8698443), ('city', 0.8441886), ('street', 0.8411574), ('close', 0.8160741), ('within', 0.8043101), ('located', 0.76663625), ('neighborhood', 0.75703394), ('area', 0.7569094), ('bars', 0.73926914), ('quiet', 0.7279227), ('around', 0.7254456), ('little', 0.72347856), ('get', 0.7171957), ('restaurants', 0.7166232), ('see', 0.66955125), ('also', 0.66927356), ('many', 0.6634635), ('location', 0.6422897), ('walking', 0.6354661), ('two', 0.6253067), ('night', 0.62331766), ('house', 0.6001707), ('distance', 0.59665835), ('athens', 0.5796381), ('easy', 0.56924355), ('places', 0.5398324), ('nice', 0.5360304), ('balcony', 0.5304446), ('go', 0.5199705), ('local', 0.5177083), ('perfect', 0.51693016), ('flat', 0.5132721), ('good', 0.5101554), ('spacious', 0.5080171), ('apartment', 0.5036639), ('day', 0.50334626), ('view', 0.5000855), ('one', 0.49482703), ('like', 0.49246186), ('felt', 0.48052752), ('fantastic', 0.47289893), ('well', 0.46348298), ('space', 0.45656988), ('beautiful', 0.4495721), ('loved', 0.4472564), ('amazing', 0.44354433), ('lovely', 0.44319874), ('airport', 0.44307506), ('place', 0.4383598), ('clean', 0.4357315), ('could', 0.43542027), ('visit', 0.42794603), ('enjoyed', 0.4262288), ('great', 0.41504398), ('really', 0.41133612), ('even', 0.40723687), ('excellent', 0.40637788), ('kitchen', 0.40250564), ('room', 0.3974552), ('super', 0.39745137), ('home', 0.3883173), ('comfortable', 0.3701802), ('best', 0.35368434), ('need', 0.34381902), ('feel', 0.33480376), ('recommended', 0.3180892), ('staying', 0.31560957), ('time', 0.3067692), ('much', 0.3019666), ('family', 0.3001315), ('everything', 0.29919603), ('stayed', 0.29870746), ('definitely', 0.29173404), ('back', 0.29049483), ('would', 0.28943172), ('recommend', 0.28659603), ('us', 0.28573865), ('highly', 0.27893844), ('gave', 0.26592317), ('provided', 0.2568718), ('wonderful', 0.25601593), ('experience', 0.24529885), ('airbnb', 0.23755626), ('made', 0.23058468), ('stay', 0.22932231), ('arrived', 0.22892961), ('needed', 0.17776552), ('thanks', 0.16424261), ('friendly', 0.12795572), ('thank', 0.12700035), ('helpful', 0.10233016), ('host', 0.10025242), ('kind', 0.09816615), ('romanos', 0.030792486)]\n",
            "many [('bars', 0.9611776), ('restaurants', 0.95213884), ('places', 0.9174488), ('local', 0.89896363), ('area', 0.88031244), ('around', 0.8494117), ('neighborhood', 0.8456186), ('within', 0.8391203), ('also', 0.8299111), ('see', 0.82574266), ('close', 0.8250464), ('good', 0.8136445), ('city', 0.8033461), ('street', 0.7586714), ('right', 0.7529339), ('great', 0.74759114), ('distance', 0.7262581), ('nice', 0.72181165), ('acropolis', 0.71975124), ('excellent', 0.71712154), ('little', 0.71339846), ('walking', 0.7106618), ('minutes', 0.6810265), ('metro', 0.6770779), ('quiet', 0.6744759), ('station', 0.67384124), ('gave', 0.67377466), ('fantastic', 0.6673995), ('walk', 0.6673201), ('away', 0.6634635), ('located', 0.6610886), ('location', 0.64016706), ('provided', 0.6287778), ('get', 0.62826085), ('go', 0.6256049), ('super', 0.60838115), ('easy', 0.60608023), ('athens', 0.6006649), ('well', 0.5935856), ('really', 0.59354115), ('flat', 0.58859706), ('visit', 0.58799946), ('amazing', 0.57599455), ('house', 0.57560223), ('perfect', 0.5753155), ('best', 0.5660149), ('lovely', 0.5616419), ('enjoyed', 0.5496693), ('recommended', 0.5340025), ('balcony', 0.518202), ('loved', 0.5136359), ('apartment', 0.5092829), ('beautiful', 0.5026744), ('clean', 0.4986932), ('spacious', 0.48753217), ('place', 0.48359865), ('space', 0.48225626), ('wonderful', 0.4755805), ('us', 0.45873618), ('need', 0.45763725), ('friendly', 0.4531455), ('helpful', 0.43374372), ('kitchen', 0.42670912), ('view', 0.42489025), ('thanks', 0.42297336), ('everything', 0.4213686), ('could', 0.41428396), ('even', 0.41256773), ('one', 0.41172218), ('comfortable', 0.40168506), ('night', 0.4013618), ('highly', 0.4008703), ('two', 0.39463323), ('definitely', 0.39267007), ('much', 0.38189894), ('host', 0.3807434), ('needed', 0.36865366), ('recommend', 0.36097562), ('would', 0.35927972), ('experience', 0.35303023), ('felt', 0.35033825), ('airport', 0.34937796), ('like', 0.34727594), ('stay', 0.33106995), ('time', 0.32770187), ('room', 0.3266427), ('kind', 0.32617372), ('thank', 0.31775516), ('made', 0.3098778), ('airbnb', 0.30970865), ('staying', 0.3061178), ('day', 0.30437294), ('family', 0.2959447), ('arrived', 0.29460397), ('romanos', 0.2836289), ('feel', 0.25321627), ('back', 0.24678315), ('home', 0.21617016), ('stayed', 0.11250014)]\n",
            "street [('little', 0.8988055), ('right', 0.88201076), ('area', 0.86186534), ('bars', 0.85736567), ('neighborhood', 0.8455275), ('away', 0.8411574), ('restaurants', 0.8012481), ('quiet', 0.79654634), ('acropolis', 0.7806963), ('minutes', 0.77084035), ('many', 0.7586714), ('walk', 0.7234697), ('station', 0.7207028), ('located', 0.71870816), ('also', 0.71722543), ('city', 0.7170203), ('close', 0.71545327), ('within', 0.7149918), ('around', 0.71120584), ('balcony', 0.70860505), ('two', 0.6886876), ('night', 0.68123007), ('metro', 0.67647004), ('house', 0.6503223), ('see', 0.6489599), ('kitchen', 0.63911444), ('local', 0.63724583), ('nice', 0.6340631), ('room', 0.6100998), ('space', 0.6073465), ('places', 0.6059855), ('flat', 0.5776845), ('good', 0.5750252), ('well', 0.57319635), ('distance', 0.5605903), ('spacious', 0.55801606), ('one', 0.55107874), ('location', 0.54816484), ('walking', 0.53409016), ('like', 0.51802236), ('view', 0.5147133), ('beautiful', 0.5043743), ('lovely', 0.50388974), ('felt', 0.48926312), ('get', 0.48733112), ('clean', 0.48477077), ('day', 0.47541574), ('loved', 0.47095802), ('comfortable', 0.44820577), ('apartment', 0.44788042), ('enjoyed', 0.44488096), ('fantastic', 0.44381383), ('amazing', 0.43161637), ('really', 0.42614102), ('super', 0.4218893), ('great', 0.41945034), ('go', 0.41761953), ('athens', 0.41443723), ('even', 0.40318435), ('perfect', 0.40142864), ('excellent', 0.39045614), ('could', 0.3700473), ('place', 0.36444163), ('need', 0.36101598), ('provided', 0.35804528), ('best', 0.33830038), ('easy', 0.33688515), ('home', 0.33157605), ('gave', 0.3200752), ('feel', 0.31981605), ('visit', 0.31829208), ('everything', 0.2923994), ('recommended', 0.27754426), ('much', 0.2725075), ('family', 0.2518481), ('us', 0.25105524), ('wonderful', 0.2287674), ('arrived', 0.22165772), ('airport', 0.2159046), ('stayed', 0.21434478), ('staying', 0.20704524), ('time', 0.20098841), ('experience', 0.19574293), ('definitely', 0.19380619), ('back', 0.18801177), ('would', 0.18242475), ('recommend', 0.18051423), ('airbnb', 0.17786929), ('needed', 0.1759519), ('highly', 0.17010403), ('made', 0.16532448), ('stay', 0.13374427), ('friendly', 0.12667881), ('thanks', 0.11706406), ('kind', 0.08251848), ('host', 0.075426325), ('helpful', 0.07367521), ('thank', 0.058990553), ('romanos', 0.04914252)]\n",
            "super [('excellent', 0.89250743), ('nice', 0.87936485), ('lovely', 0.87149036), ('clean', 0.86411846), ('really', 0.8620753), ('flat', 0.8612478), ('friendly', 0.84881836), ('apartment', 0.8356085), ('well', 0.833875), ('spacious', 0.8150397), ('good', 0.81229675), ('house', 0.8039447), ('great', 0.80276716), ('comfortable', 0.80182844), ('fantastic', 0.78445756), ('helpful', 0.7822397), ('wonderful', 0.7810511), ('host', 0.77578586), ('space', 0.7638836), ('provided', 0.7631946), ('kind', 0.75184286), ('also', 0.75006557), ('beautiful', 0.74156886), ('amazing', 0.7181994), ('family', 0.698781), ('easy', 0.6888815), ('romanos', 0.67700195), ('perfect', 0.676329), ('location', 0.66919214), ('gave', 0.6609315), ('place', 0.6592717), ('balcony', 0.65475315), ('loved', 0.65360224), ('area', 0.6515), ('needed', 0.6424588), ('everything', 0.6414404), ('kitchen', 0.63811123), ('little', 0.6339907), ('located', 0.6257149), ('neighborhood', 0.62311995), ('quiet', 0.6209126), ('close', 0.62008464), ('made', 0.6168656), ('many', 0.60838115), ('enjoyed', 0.6045696), ('thanks', 0.5902976), ('us', 0.5861982), ('much', 0.58121854), ('room', 0.57955706), ('restaurants', 0.5755577), ('even', 0.56703174), ('view', 0.56126857), ('local', 0.5490302), ('city', 0.54803514), ('thank', 0.5451086), ('need', 0.5403087), ('bars', 0.526387), ('arrived', 0.51360446), ('metro', 0.513374), ('experience', 0.51155865), ('within', 0.50970274), ('around', 0.49227262), ('feel', 0.48896924), ('like', 0.48645043), ('stay', 0.48427492), ('acropolis', 0.47821653), ('station', 0.47214743), ('right', 0.47011483), ('minutes', 0.46440825), ('two', 0.45792463), ('felt', 0.44857886), ('walking', 0.44337618), ('see', 0.43679786), ('could', 0.43564337), ('staying', 0.43531772), ('get', 0.43515417), ('distance', 0.4327414), ('recommended', 0.4293258), ('airbnb', 0.42350215), ('street', 0.4218893), ('highly', 0.42129418), ('walk', 0.41331017), ('home', 0.4075123), ('places', 0.40313116), ('away', 0.39745137), ('athens', 0.3950755), ('airport', 0.39378846), ('would', 0.38873917), ('recommend', 0.37371525), ('time', 0.37299), ('best', 0.35129347), ('definitely', 0.34917748), ('visit', 0.31595883), ('stayed', 0.2722023), ('one', 0.26667738), ('go', 0.20429744), ('night', 0.17764746), ('back', 0.13194951), ('day', 0.06623104)]\n",
            "go [('visit', 0.911485), ('athens', 0.82547045), ('see', 0.81734216), ('back', 0.81519717), ('places', 0.75407493), ('definitely', 0.7475359), ('get', 0.7404512), ('time', 0.73881745), ('would', 0.70550025), ('day', 0.698943), ('recommended', 0.6687818), ('thanks', 0.6663522), ('city', 0.66623706), ('around', 0.6559211), ('recommend', 0.6411875), ('local', 0.6333296), ('stay', 0.632128), ('many', 0.6256049), ('best', 0.61965156), ('thank', 0.6109721), ('much', 0.6035381), ('staying', 0.59348965), ('within', 0.59232175), ('airport', 0.57706606), ('highly', 0.5674986), ('bars', 0.56323004), ('night', 0.5613506), ('station', 0.5433019), ('walk', 0.5393829), ('could', 0.535352), ('airbnb', 0.5350425), ('experience', 0.53366566), ('right', 0.5336262), ('restaurants', 0.5252644), ('metro', 0.5218352), ('away', 0.5199705), ('walking', 0.51360786), ('enjoyed', 0.50615263), ('place', 0.5004753), ('close', 0.4977233), ('gave', 0.49602294), ('distance', 0.49078956), ('easy', 0.4870251), ('minutes', 0.48693508), ('fantastic', 0.48561713), ('one', 0.48375452), ('us', 0.47833443), ('also', 0.47546825), ('acropolis', 0.44826168), ('neighborhood', 0.44720098), ('great', 0.44551027), ('area', 0.44234228), ('perfect', 0.44189984), ('arrived', 0.42959872), ('really', 0.420175), ('good', 0.41837245), ('street', 0.41761953), ('wonderful', 0.41617295), ('made', 0.4117232), ('loved', 0.40852988), ('helpful', 0.40639037), ('provided', 0.3894507), ('kind', 0.38191602), ('excellent', 0.37411478), ('amazing', 0.3687944), ('felt', 0.3662603), ('romanos', 0.3573287), ('even', 0.35350317), ('family', 0.3474379), ('location', 0.34676918), ('located', 0.34659246), ('host', 0.34655005), ('little', 0.33767033), ('house', 0.3304595), ('stayed', 0.32720664), ('everything', 0.32647595), ('friendly', 0.32339266), ('feel', 0.3187959), ('home', 0.31786707), ('quiet', 0.29982024), ('like', 0.29215235), ('needed', 0.28755313), ('need', 0.2783274), ('nice', 0.2757115), ('flat', 0.27517557), ('apartment', 0.27067763), ('lovely', 0.25955), ('beautiful', 0.2376616), ('view', 0.20616496), ('super', 0.20429744), ('two', 0.17722808), ('balcony', 0.14003839), ('well', 0.13510218), ('spacious', 0.07585869), ('space', 0.074324004), ('clean', 0.07089307), ('comfortable', 0.05133578), ('kitchen', 0.00963336), ('room', -0.0030398665)]\n",
            "space [('balcony', 0.96061784), ('spacious', 0.9501959), ('flat', 0.9278779), ('comfortable', 0.9227575), ('clean', 0.90392524), ('house', 0.89694774), ('beautiful', 0.8878829), ('room', 0.88719743), ('kitchen', 0.8807879), ('lovely', 0.85110295), ('well', 0.8336725), ('little', 0.8208086), ('apartment', 0.81940496), ('view', 0.81763566), ('two', 0.81671923), ('loved', 0.8025935), ('quiet', 0.7962887), ('nice', 0.78757614), ('super', 0.7638836), ('really', 0.75949955), ('family', 0.7440322), ('located', 0.71654034), ('amazing', 0.7149787), ('place', 0.71345353), ('like', 0.7005581), ('fantastic', 0.6877484), ('area', 0.6826985), ('location', 0.6826478), ('enjoyed', 0.68117476), ('neighborhood', 0.6743159), ('perfect', 0.6643385), ('good', 0.62419635), ('wonderful', 0.6177142), ('street', 0.6073465), ('felt', 0.5967698), ('much', 0.5947514), ('acropolis', 0.5919696), ('excellent', 0.58797586), ('everything', 0.58516777), ('need', 0.5825738), ('one', 0.57898873), ('great', 0.5657519), ('close', 0.5374119), ('experience', 0.5315932), ('right', 0.5271227), ('home', 0.5224991), ('could', 0.51821405), ('feel', 0.51638496), ('stayed', 0.5121822), ('also', 0.5093175), ('staying', 0.49352062), ('bars', 0.49164683), ('city', 0.4841242), ('many', 0.48225626), ('host', 0.48168498), ('needed', 0.47802424), ('restaurants', 0.4715373), ('stay', 0.46289986), ('within', 0.46071178), ('away', 0.45656988), ('airbnb', 0.45137924), ('minutes', 0.45119375), ('see', 0.44738457), ('night', 0.44728553), ('friendly', 0.44523716), ('romanos', 0.44389433), ('kind', 0.44061327), ('provided', 0.4284943), ('thanks', 0.42243615), ('thank', 0.41772914), ('even', 0.40541476), ('walking', 0.40237063), ('walk', 0.39718065), ('made', 0.3942881), ('distance', 0.39265198), ('athens', 0.36772227), ('metro', 0.3539042), ('station', 0.34756953), ('best', 0.34353977), ('helpful', 0.34238845), ('would', 0.33517802), ('time', 0.3224985), ('recommend', 0.30233532), ('local', 0.28775823), ('highly', 0.285075), ('definitely', 0.2817481), ('recommended', 0.27187344), ('arrived', 0.2564758), ('around', 0.25511864), ('gave', 0.24811293), ('easy', 0.24619421), ('visit', 0.2426308), ('day', 0.22620456), ('places', 0.21356043), ('us', 0.2086061), ('back', 0.13170864), ('get', 0.12244344), ('go', 0.074324004), ('airport', -0.021602489)]\n",
            "places [('many', 0.9174488), ('local', 0.91500354), ('restaurants', 0.8602418), ('bars', 0.85659724), ('around', 0.839628), ('see', 0.8183176), ('go', 0.75407493), ('also', 0.7442026), ('city', 0.7215141), ('gave', 0.7196816), ('area', 0.70949167), ('within', 0.70366085), ('neighborhood', 0.66466826), ('get', 0.6642073), ('close', 0.657242), ('visit', 0.6523262), ('good', 0.65224725), ('right', 0.60884774), ('street', 0.6059855), ('provided', 0.60328776), ('great', 0.59838426), ('walking', 0.5936344), ('station', 0.5892732), ('distance', 0.58751106), ('athens', 0.5851687), ('metro', 0.5727488), ('best', 0.5714599), ('excellent', 0.5591704), ('walk', 0.55328673), ('easy', 0.5476935), ('minutes', 0.5460655), ('acropolis', 0.53992563), ('away', 0.5398324), ('little', 0.52111024), ('us', 0.5163988), ('recommended', 0.5049521), ('fantastic', 0.49917844), ('nice', 0.48603627), ('location', 0.45444912), ('really', 0.4527641), ('airport', 0.4430969), ('thanks', 0.44129142), ('highly', 0.43501693), ('definitely', 0.43494278), ('helpful', 0.43375307), ('located', 0.4282233), ('quiet', 0.41667637), ('super', 0.40313116), ('friendly', 0.39849553), ('time', 0.39496726), ('amazing', 0.38741082), ('enjoyed', 0.38590655), ('even', 0.38376567), ('day', 0.3830781), ('night', 0.38080457), ('house', 0.37948063), ('perfect', 0.3779817), ('flat', 0.3701104), ('place', 0.36581403), ('would', 0.36451814), ('one', 0.3625288), ('host', 0.35546386), ('could', 0.35321382), ('wonderful', 0.3502323), ('back', 0.3497526), ('arrived', 0.34925973), ('well', 0.34570014), ('thank', 0.3317301), ('experience', 0.33028147), ('lovely', 0.32695112), ('much', 0.3266223), ('apartment', 0.32513553), ('airbnb', 0.32093683), ('recommend', 0.3108839), ('kind', 0.30867738), ('loved', 0.30866513), ('need', 0.30822292), ('stay', 0.3058265), ('everything', 0.2867823), ('needed', 0.28575113), ('made', 0.28311133), ('balcony', 0.2741738), ('romanos', 0.2739567), ('beautiful', 0.2525758), ('staying', 0.24861813), ('view', 0.22508022), ('felt', 0.21511616), ('clean', 0.21374236), ('space', 0.21356043), ('kitchen', 0.20331147), ('spacious', 0.1876271), ('two', 0.18527171), ('like', 0.17228466), ('feel', 0.16419587), ('family', 0.1596239), ('room', 0.11496616), ('comfortable', 0.11458185), ('home', 0.107372575), ('stayed', 0.03376103)]\n",
            "station [('metro', 0.9768286), ('minutes', 0.9560606), ('walk', 0.94698095), ('away', 0.9306228), ('city', 0.8577521), ('close', 0.8531921), ('get', 0.8370787), ('right', 0.8361552), ('acropolis', 0.8118193), ('within', 0.80345577), ('around', 0.7861537), ('easy', 0.77195346), ('also', 0.7512132), ('restaurants', 0.74123317), ('located', 0.74045837), ('street', 0.7207028), ('bars', 0.71763533), ('area', 0.7070662), ('neighborhood', 0.68279356), ('many', 0.67384124), ('location', 0.65337545), ('see', 0.6403028), ('airport', 0.62612224), ('walking', 0.62188447), ('quiet', 0.61173964), ('distance', 0.59993124), ('little', 0.5937442), ('places', 0.5892732), ('athens', 0.5665559), ('local', 0.5558886), ('apartment', 0.54477274), ('good', 0.5435126), ('go', 0.5433019), ('nice', 0.5232687), ('house', 0.5137407), ('flat', 0.49916184), ('excellent', 0.4867153), ('perfect', 0.48253015), ('well', 0.47985935), ('two', 0.4789845), ('super', 0.47214743), ('great', 0.45205337), ('night', 0.44981724), ('fantastic', 0.44887283), ('spacious', 0.44594872), ('even', 0.43718657), ('visit', 0.43233743), ('clean', 0.41977715), ('place', 0.41790432), ('could', 0.40507773), ('us', 0.4009026), ('balcony', 0.3970722), ('really', 0.39572674), ('lovely', 0.39553538), ('day', 0.39407617), ('view', 0.39229083), ('gave', 0.391857), ('amazing', 0.38169873), ('provided', 0.35712937), ('everything', 0.3540685), ('recommended', 0.35036188), ('space', 0.34756953), ('one', 0.34359196), ('beautiful', 0.3385924), ('highly', 0.33733782), ('loved', 0.33229297), ('need', 0.32459322), ('enjoyed', 0.32348377), ('definitely', 0.31270602), ('time', 0.30830705), ('kitchen', 0.30527687), ('would', 0.30468765), ('recommend', 0.29759234), ('comfortable', 0.2933895), ('best', 0.29264838), ('arrived', 0.28454033), ('felt', 0.28365344), ('like', 0.2715385), ('back', 0.2664373), ('staying', 0.25621584), ('room', 0.2554288), ('helpful', 0.25516683), ('wonderful', 0.24913669), ('friendly', 0.24474096), ('family', 0.24409144), ('stay', 0.2436871), ('much', 0.2399358), ('needed', 0.22815141), ('made', 0.2188747), ('home', 0.21310154), ('host', 0.21133895), ('thanks', 0.19976094), ('experience', 0.1996509), ('feel', 0.19600946), ('airbnb', 0.18858758), ('kind', 0.18174286), ('stayed', 0.17748712), ('thank', 0.13295756), ('romanos', 0.06405241)]\n",
            "little [('street', 0.8988055), ('kitchen', 0.85704124), ('house', 0.8560992), ('balcony', 0.8504134), ('area', 0.8423917), ('quiet', 0.83732224), ('room', 0.8351165), ('space', 0.8208086), ('right', 0.80769765), ('neighborhood', 0.80707383), ('nice', 0.7949267), ('two', 0.79125696), ('well', 0.77687544), ('flat', 0.77552617), ('spacious', 0.7646749), ('also', 0.7478665), ('lovely', 0.74779487), ('bars', 0.7452164), ('away', 0.72347856), ('beautiful', 0.7229059), ('like', 0.72262466), ('comfortable', 0.72244763), ('clean', 0.7134144), ('many', 0.71339846), ('located', 0.7123915), ('good', 0.69846785), ('night', 0.6944621), ('restaurants', 0.68635505), ('acropolis', 0.6779303), ('felt', 0.65855455), ('close', 0.653948), ('minutes', 0.6514623), ('see', 0.6499298), ('really', 0.64928406), ('loved', 0.64651006), ('one', 0.64504313), ('city', 0.64305764), ('apartment', 0.6371335), ('around', 0.63709736), ('super', 0.6339907), ('within', 0.6281982), ('view', 0.61268395), ('even', 0.6086943), ('amazing', 0.60693336), ('local', 0.6066416), ('fantastic', 0.6049905), ('station', 0.5937442), ('walk', 0.589004), ('enjoyed', 0.58286035), ('need', 0.57612574), ('great', 0.5693219), ('could', 0.5646754), ('perfect', 0.56416243), ('feel', 0.5626412), ('location', 0.5569127), ('provided', 0.5566203), ('metro', 0.5563046), ('excellent', 0.5510029), ('home', 0.5260023), ('places', 0.52111024), ('family', 0.5097728), ('much', 0.5087102), ('everything', 0.49839342), ('place', 0.49237126), ('walking', 0.49083632), ('distance', 0.4893185), ('wonderful', 0.48501134), ('needed', 0.47105414), ('day', 0.46865335), ('gave', 0.44361278), ('made', 0.4377719), ('get', 0.4322354), ('us', 0.42284274), ('best', 0.41969228), ('arrived', 0.41568142), ('athens', 0.3948561), ('stayed', 0.37509695), ('kind', 0.34857377), ('friendly', 0.3456018), ('airbnb', 0.3426588), ('experience', 0.34062612), ('go', 0.33767033), ('easy', 0.33696705), ('romanos', 0.3283761), ('staying', 0.30399108), ('thanks', 0.30358645), ('visit', 0.30288523), ('time', 0.29879543), ('host', 0.28874743), ('thank', 0.27059084), ('helpful', 0.26956075), ('stay', 0.26749867), ('recommended', 0.26102647), ('would', 0.22720575), ('definitely', 0.21423902), ('airport', 0.21289535), ('back', 0.20405303), ('recommend', 0.19551684), ('highly', 0.17530432)]\n",
            "right [('away', 0.9297361), ('city', 0.8826769), ('street', 0.88201076), ('neighborhood', 0.8685057), ('area', 0.8640194), ('minutes', 0.85136276), ('close', 0.8490306), ('walk', 0.84684175), ('acropolis', 0.83742166), ('station', 0.8361552), ('quiet', 0.8259702), ('metro', 0.82080925), ('little', 0.80769765), ('bars', 0.80397147), ('located', 0.7924731), ('around', 0.78963405), ('within', 0.7834662), ('restaurants', 0.76851195), ('many', 0.7529339), ('see', 0.7439678), ('house', 0.7028721), ('also', 0.6807138), ('location', 0.6779566), ('get', 0.6718496), ('walking', 0.65739095), ('nice', 0.64813316), ('local', 0.6152167), ('night', 0.6124888), ('distance', 0.6123133), ('like', 0.60891867), ('places', 0.60884774), ('felt', 0.6063888), ('athens', 0.6052343), ('balcony', 0.5958958), ('flat', 0.59425306), ('perfect', 0.59227985), ('good', 0.588655), ('fantastic', 0.58326536), ('spacious', 0.5795925), ('beautiful', 0.5750935), ('lovely', 0.5736522), ('two', 0.56330097), ('apartment', 0.55652595), ('well', 0.55370826), ('amazing', 0.55252796), ('view', 0.548625), ('loved', 0.54314625), ('great', 0.54264694), ('really', 0.5357054), ('go', 0.5336262), ('easy', 0.5273696), ('space', 0.5271227), ('clean', 0.52142537), ('enjoyed', 0.51870817), ('home', 0.51214623), ('place', 0.48605612), ('one', 0.48190835), ('excellent', 0.48124167), ('feel', 0.4712749), ('super', 0.47011483), ('comfortable', 0.4641106), ('visit', 0.45959973), ('could', 0.45377132), ('kitchen', 0.45150548), ('day', 0.4486498), ('even', 0.4384228), ('need', 0.42805988), ('best', 0.4212801), ('room', 0.4173585), ('everything', 0.39554062), ('gave', 0.38497683), ('much', 0.38201186), ('wonderful', 0.3647307), ('provided', 0.3572121), ('made', 0.34660786), ('time', 0.34240112), ('recommended', 0.3369761), ('airport', 0.33363673), ('us', 0.33343664), ('family', 0.32398692), ('staying', 0.31866607), ('experience', 0.2887842), ('needed', 0.2751092), ('recommend', 0.2707916), ('definitely', 0.2706239), ('stay', 0.26695845), ('back', 0.26632318), ('would', 0.24646915), ('stayed', 0.23938924), ('arrived', 0.2362686), ('airbnb', 0.2304102), ('thanks', 0.22865379), ('highly', 0.21340321), ('thank', 0.1924433), ('friendly', 0.18775563), ('host', 0.16122353), ('kind', 0.13552542), ('helpful', 0.13082355), ('romanos', 0.1192016)]\n",
            "local [('places', 0.91500354), ('many', 0.89896363), ('around', 0.86875206), ('also', 0.85408974), ('restaurants', 0.8511738), ('bars', 0.8478203), ('gave', 0.84164745), ('provided', 0.77339655), ('area', 0.74976707), ('good', 0.71390957), ('neighborhood', 0.7022298), ('see', 0.6849783), ('us', 0.67339295), ('get', 0.64845985), ('street', 0.63724583), ('go', 0.6333296), ('within', 0.6297714), ('excellent', 0.62687385), ('great', 0.6246888), ('city', 0.6228379), ('right', 0.6152167), ('nice', 0.6101638), ('close', 0.6071115), ('little', 0.6066416), ('easy', 0.59518707), ('helpful', 0.5693641), ('friendly', 0.56099725), ('station', 0.5558886), ('really', 0.55313987), ('super', 0.5490302), ('metro', 0.542937), ('even', 0.5227676), ('distance', 0.5188458), ('away', 0.5177083), ('walking', 0.5122209), ('airport', 0.5060292), ('visit', 0.49712184), ('arrived', 0.4964672), ('minutes', 0.49519527), ('fantastic', 0.4898046), ('recommended', 0.488794), ('house', 0.47392732), ('walk', 0.47127885), ('made', 0.46520436), ('kind', 0.45378315), ('well', 0.45281973), ('quiet', 0.4417782), ('host', 0.43730453), ('lovely', 0.43343365), ('thanks', 0.43337092), ('acropolis', 0.42918384), ('athens', 0.42878902), ('flat', 0.4197907), ('needed', 0.41154963), ('best', 0.40610307), ('wonderful', 0.4043906), ('romanos', 0.39867038), ('located', 0.38557535), ('location', 0.38471946), ('highly', 0.38023707), ('enjoyed', 0.3793201), ('felt', 0.3567426), ('much', 0.35356182), ('amazing', 0.35209808), ('feel', 0.35014078), ('definitely', 0.34756437), ('apartment', 0.34751123), ('night', 0.3333416), ('everything', 0.33114666), ('thank', 0.33000684), ('time', 0.32984114), ('need', 0.32885066), ('kitchen', 0.32694486), ('perfect', 0.31300852), ('clean', 0.31154904), ('place', 0.30823648), ('day', 0.30657282), ('like', 0.30278486), ('would', 0.29983622), ('loved', 0.2948123), ('balcony', 0.29116654), ('space', 0.28775823), ('beautiful', 0.2748419), ('could', 0.2728857), ('recommend', 0.2714829), ('experience', 0.26612785), ('back', 0.26146075), ('spacious', 0.25770107), ('stay', 0.2457146), ('home', 0.24333856), ('comfortable', 0.24096921), ('room', 0.22840194), ('one', 0.22183213), ('airbnb', 0.21810606), ('family', 0.19828314), ('staying', 0.18930146), ('two', 0.1544588), ('view', 0.13791797), ('stayed', -0.083267376)]\n",
            "room [('kitchen', 0.95423347), ('space', 0.88719743), ('balcony', 0.8699405), ('two', 0.8553472), ('little', 0.8351165), ('comfortable', 0.7810305), ('house', 0.7798017), ('spacious', 0.7672202), ('flat', 0.7465446), ('well', 0.7179195), ('clean', 0.70774066), ('beautiful', 0.68135893), ('lovely', 0.6789336), ('like', 0.65598595), ('one', 0.6507707), ('nice', 0.6236826), ('family', 0.61558515), ('view', 0.61258507), ('street', 0.6100998), ('quiet', 0.60520273), ('apartment', 0.60409147), ('night', 0.59760356), ('loved', 0.582749), ('super', 0.57955706), ('even', 0.5597317), ('really', 0.54078496), ('felt', 0.5358608), ('could', 0.53236496), ('need', 0.5210274), ('stayed', 0.5183272), ('amazing', 0.5108048), ('feel', 0.5002779), ('area', 0.50007564), ('also', 0.4937134), ('much', 0.49207878), ('good', 0.48765558), ('located', 0.4723432), ('enjoyed', 0.46686056), ('needed', 0.46108735), ('neighborhood', 0.4591141), ('home', 0.45189208), ('fantastic', 0.4455837), ('everything', 0.44468355), ('wonderful', 0.4438131), ('place', 0.43744946), ('provided', 0.43674815), ('perfect', 0.42471096), ('arrived', 0.4182318), ('right', 0.4173585), ('kind', 0.41049758), ('acropolis', 0.4081765), ('airbnb', 0.4040447), ('excellent', 0.39864305), ('away', 0.3974552), ('romanos', 0.38953406), ('day', 0.38366184), ('made', 0.38073796), ('location', 0.37192845), ('minutes', 0.35866913), ('bars', 0.35127735), ('great', 0.3507665), ('experience', 0.34885022), ('friendly', 0.33032766), ('many', 0.3266427), ('host', 0.32060346), ('see', 0.31670085), ('restaurants', 0.30103603), ('within', 0.2978238), ('us', 0.28620917), ('close', 0.28339723), ('staying', 0.27730042), ('thank', 0.277122), ('walk', 0.27123415), ('thanks', 0.26693195), ('best', 0.2604923), ('city', 0.25943124), ('station', 0.2554288), ('helpful', 0.2511791), ('stay', 0.23376808), ('local', 0.22840194), ('metro', 0.21382327), ('time', 0.21279149), ('distance', 0.21251392), ('gave', 0.20767443), ('walking', 0.20317371), ('around', 0.19738948), ('would', 0.16771771), ('athens', 0.126773), ('places', 0.11496616), ('back', 0.10644677), ('definitely', 0.10555167), ('highly', 0.09662525), ('get', 0.08655738), ('recommend', 0.08402496), ('easy', 0.073813766), ('recommended', 0.06690031), ('airport', 0.051455736), ('visit', 0.046306897), ('go', -0.0030398665)]\n",
            "recommended [('recommend', 0.9293706), ('visit', 0.7568954), ('would', 0.73517203), ('staying', 0.7206135), ('stay', 0.6979152), ('thanks', 0.6917835), ('go', 0.6687818), ('athens', 0.65928733), ('experience', 0.6513612), ('thank', 0.63547736), ('back', 0.6326746), ('time', 0.6309673), ('fantastic', 0.6247293), ('definitely', 0.61950064), ('enjoyed', 0.6064396), ('wonderful', 0.5721971), ('great', 0.5561128), ('much', 0.55547076), ('place', 0.55449635), ('helpful', 0.5541321), ('excellent', 0.5442303), ('best', 0.5385273), ('many', 0.5340025), ('loved', 0.53164256), ('friendly', 0.5307962), ('host', 0.53033817), ('airbnb', 0.52363497), ('romanos', 0.519883), ('kind', 0.51470107), ('really', 0.51105917), ('see', 0.5087341), ('places', 0.5049521), ('family', 0.5040397), ('city', 0.5008763), ('good', 0.4971378), ('perfect', 0.49552917), ('bars', 0.49376345), ('local', 0.488794), ('amazing', 0.47635174), ('highly', 0.46250796), ('restaurants', 0.4463835), ('lovely', 0.4454444), ('neighborhood', 0.4437257), ('easy', 0.43837652), ('close', 0.43696594), ('nice', 0.43668324), ('super', 0.4293258), ('around', 0.42167664), ('within', 0.4195606), ('beautiful', 0.41812307), ('gave', 0.41729495), ('location', 0.41167203), ('get', 0.40588662), ('area', 0.39373702), ('distance', 0.39254153), ('also', 0.38273442), ('flat', 0.3786002), ('airport', 0.36999598), ('provided', 0.3695392), ('acropolis', 0.369113), ('located', 0.3688649), ('day', 0.3661318), ('metro', 0.36174253), ('house', 0.36076033), ('stayed', 0.35732108), ('station', 0.35036188), ('walk', 0.3502832), ('made', 0.3417673), ('right', 0.3369761), ('quiet', 0.3350288), ('us', 0.3333367), ('minutes', 0.3318379), ('walking', 0.32835516), ('apartment', 0.32619134), ('view', 0.32054594), ('away', 0.3180892), ('arrived', 0.3169895), ('felt', 0.30607834), ('one', 0.29823157), ('could', 0.2949174), ('street', 0.27754426), ('spacious', 0.2774185), ('night', 0.2752167), ('everything', 0.27512613), ('space', 0.27187344), ('like', 0.26651096), ('clean', 0.2636751), ('little', 0.26102647), ('feel', 0.2575717), ('comfortable', 0.25272167), ('balcony', 0.24890578), ('home', 0.24760343), ('well', 0.24284357), ('two', 0.2011867), ('needed', 0.19175056), ('need', 0.1531021), ('even', 0.13019131), ('room', 0.06690031), ('kitchen', 0.055603046)]\n",
            "felt [('home', 0.95898753), ('like', 0.9544973), ('feel', 0.93653387), ('house', 0.7952118), ('much', 0.73259103), ('made', 0.723982), ('really', 0.71612215), ('loved', 0.67240137), ('enjoyed', 0.66848516), ('little', 0.65855455), ('beautiful', 0.6565196), ('lovely', 0.65470636), ('comfortable', 0.6464851), ('family', 0.64451957), ('quiet', 0.6289175), ('neighborhood', 0.61562127), ('right', 0.6063888), ('space', 0.5967698), ('flat', 0.59028345), ('place', 0.5890575), ('night', 0.57543224), ('spacious', 0.5664143), ('staying', 0.55600286), ('area', 0.5559994), ('wonderful', 0.5516794), ('thank', 0.5471337), ('nice', 0.53998643), ('time', 0.53604907), ('room', 0.5358608), ('balcony', 0.5342588), ('clean', 0.52911514), ('fantastic', 0.5281632), ('experience', 0.5275502), ('apartment', 0.5263496), ('perfect', 0.51317656), ('stay', 0.50445306), ('romanos', 0.49826878), ('thanks', 0.49722734), ('street', 0.48926312), ('amazing', 0.48720893), ('kitchen', 0.48660475), ('away', 0.48052752), ('day', 0.47950003), ('athens', 0.47732684), ('needed', 0.4757995), ('could', 0.46721596), ('see', 0.4632519), ('two', 0.46276435), ('one', 0.45580098), ('even', 0.44920248), ('super', 0.44857886), ('well', 0.44709292), ('everything', 0.446113), ('located', 0.4458791), ('need', 0.44291332), ('city', 0.44168904), ('back', 0.4348611), ('view', 0.4332087), ('kind', 0.42422968), ('stayed', 0.41809395), ('airbnb', 0.41404122), ('visit', 0.40458018), ('location', 0.40371495), ('arrived', 0.394305), ('great', 0.3839553), ('would', 0.37599397), ('us', 0.36783338), ('go', 0.3662603), ('provided', 0.36476633), ('definitely', 0.36323062), ('around', 0.36316916), ('good', 0.36157504), ('local', 0.3567426), ('close', 0.3557599), ('many', 0.35033825), ('friendly', 0.34979045), ('recommend', 0.3494035), ('host', 0.34590176), ('bars', 0.33389488), ('acropolis', 0.32695863), ('within', 0.32395002), ('best', 0.31954327), ('minutes', 0.3183482), ('also', 0.31717852), ('excellent', 0.31708446), ('recommended', 0.30607834), ('walking', 0.30227494), ('distance', 0.3013794), ('walk', 0.30086863), ('gave', 0.30027774), ('station', 0.28365344), ('get', 0.2815625), ('metro', 0.2653199), ('restaurants', 0.26293823), ('helpful', 0.26079065), ('highly', 0.22529306), ('places', 0.21511616), ('easy', 0.17649162), ('airport', 0.118528634)]\n",
            "thanks [('thank', 0.9864249), ('much', 0.90517145), ('experience', 0.88801354), ('stay', 0.8870852), ('time', 0.8867756), ('romanos', 0.8563941), ('kind', 0.83687454), ('staying', 0.8361567), ('airbnb', 0.8309475), ('family', 0.8301799), ('wonderful', 0.8294148), ('host', 0.8275371), ('would', 0.81586725), ('visit', 0.815806), ('definitely', 0.80145764), ('place', 0.7892069), ('helpful', 0.78401464), ('really', 0.77255315), ('back', 0.76935256), ('friendly', 0.7655439), ('enjoyed', 0.7339686), ('fantastic', 0.73334193), ('athens', 0.732479), ('recommend', 0.71705854), ('made', 0.71460855), ('recommended', 0.6917835), ('loved', 0.683177), ('highly', 0.67810625), ('go', 0.6663522), ('best', 0.64646333), ('perfect', 0.63700193), ('amazing', 0.6369096), ('excellent', 0.628036), ('great', 0.62378615), ('lovely', 0.61249983), ('arrived', 0.6120253), ('flat', 0.5914055), ('could', 0.5906246), ('super', 0.5902976), ('apartment', 0.5889094), ('stayed', 0.5865876), ('house', 0.5840607), ('see', 0.5786724), ('provided', 0.5756257), ('us', 0.5660497), ('gave', 0.5637297), ('beautiful', 0.5636773), ('needed', 0.5611814), ('feel', 0.5499227), ('day', 0.52243704), ('home', 0.5195349), ('good', 0.50726795), ('felt', 0.49722734), ('one', 0.49341035), ('everything', 0.49162832), ('like', 0.466192), ('nice', 0.45602196), ('location', 0.44884652), ('airport', 0.44697702), ('comfortable', 0.44599515), ('places', 0.44129142), ('view', 0.4400495), ('city', 0.4369263), ('easy', 0.43544608), ('local', 0.43337092), ('even', 0.42855775), ('many', 0.42297336), ('space', 0.42243615), ('clean', 0.41644657), ('get', 0.4149644), ('need', 0.40409064), ('night', 0.39657307), ('spacious', 0.39266592), ('also', 0.36849052), ('balcony', 0.35410836), ('distance', 0.3472753), ('well', 0.3444824), ('within', 0.33027658), ('neighborhood', 0.3242297), ('around', 0.32147333), ('little', 0.30358645), ('walking', 0.3022971), ('close', 0.3020199), ('area', 0.29361883), ('restaurants', 0.27782476), ('bars', 0.27685562), ('located', 0.27676287), ('two', 0.2697869), ('room', 0.26693195), ('quiet', 0.26595455), ('right', 0.22865379), ('acropolis', 0.22316286), ('kitchen', 0.22283775), ('metro', 0.20559573), ('station', 0.19976094), ('walk', 0.19782479), ('minutes', 0.18660112), ('away', 0.16424261), ('street', 0.11706406)]\n",
            "visit [('athens', 0.9326086), ('go', 0.911485), ('definitely', 0.8653288), ('back', 0.85316706), ('would', 0.84456664), ('time', 0.84264463), ('stay', 0.82891715), ('staying', 0.82202274), ('thanks', 0.815806), ('see', 0.79275274), ('recommend', 0.7829665), ('thank', 0.77531064), ('experience', 0.7635782), ('recommended', 0.7568954), ('much', 0.73779494), ('best', 0.73147786), ('place', 0.722421), ('airbnb', 0.70917434), ('highly', 0.69953614), ('enjoyed', 0.6975219), ('city', 0.66892666), ('fantastic', 0.6686619), ('places', 0.6523262), ('perfect', 0.63535106), ('loved', 0.63254106), ('day', 0.6283981), ('wonderful', 0.60339147), ('many', 0.58799946), ('family', 0.5768073), ('within', 0.57401574), ('really', 0.5688168), ('amazing', 0.5621147), ('get', 0.56125647), ('could', 0.5572625), ('one', 0.55586475), ('great', 0.5542451), ('stayed', 0.52695256), ('walking', 0.52597296), ('distance', 0.5220454), ('close', 0.51494867), ('bars', 0.5065352), ('location', 0.5059256), ('night', 0.5036642), ('local', 0.49712184), ('host', 0.4902131), ('acropolis', 0.48859638), ('around', 0.48589402), ('walk', 0.4852828), ('romanos', 0.4803131), ('excellent', 0.47471285), ('restaurants', 0.4733763), ('neighborhood', 0.4686941), ('good', 0.45961246), ('right', 0.45959973), ('helpful', 0.4583275), ('beautiful', 0.455139), ('kind', 0.45480242), ('located', 0.44484854), ('metro', 0.43333352), ('station', 0.43233743), ('view', 0.4304873), ('away', 0.42794603), ('minutes', 0.42769822), ('easy', 0.42755675), ('area', 0.42712963), ('flat', 0.42543498), ('house', 0.4226986), ('apartment', 0.42119116), ('lovely', 0.41809237), ('friendly', 0.4072703), ('felt', 0.40458018), ('made', 0.40185565), ('airport', 0.3998007), ('gave', 0.3945497), ('quiet', 0.38225934), ('home', 0.37491205), ('everything', 0.3683522), ('like', 0.35549754), ('nice', 0.34593436), ('us', 0.34424517), ('also', 0.34366474), ('arrived', 0.32879952), ('feel', 0.3285968), ('street', 0.31829208), ('super', 0.31595883), ('provided', 0.30656692), ('need', 0.30350766), ('little', 0.30288523), ('balcony', 0.28037712), ('needed', 0.27930844), ('two', 0.27597365), ('spacious', 0.25058132), ('space', 0.2426308), ('clean', 0.23015049), ('comfortable', 0.21432853), ('even', 0.20727344), ('well', 0.19570437), ('room', 0.046306897), ('kitchen', 0.026248606)]\n",
            "kind [('romanos', 0.9600204), ('helpful', 0.9499649), ('friendly', 0.94987774), ('host', 0.89729905), ('arrived', 0.84876883), ('thanks', 0.83687454), ('thank', 0.8280959), ('made', 0.82046175), ('wonderful', 0.8163284), ('us', 0.793894), ('provided', 0.7924978), ('family', 0.7719887), ('much', 0.7558888), ('super', 0.75184286), ('really', 0.74403167), ('gave', 0.71946484), ('excellent', 0.7122193), ('airbnb', 0.6855486), ('experience', 0.6817455), ('time', 0.66704816), ('even', 0.6627146), ('lovely', 0.6535245), ('needed', 0.6386504), ('fantastic', 0.63290226), ('great', 0.61421543), ('stay', 0.6115078), ('airport', 0.60783595), ('house', 0.5950172), ('feel', 0.5788342), ('flat', 0.56996286), ('apartment', 0.5618512), ('good', 0.5600195), ('staying', 0.55473244), ('amazing', 0.5435064), ('would', 0.54306734), ('place', 0.54288006), ('nice', 0.53821677), ('also', 0.5355878), ('easy', 0.5164309), ('recommended', 0.51470107), ('enjoyed', 0.5113696), ('definitely', 0.49569184), ('back', 0.49366194), ('comfortable', 0.49000996), ('loved', 0.48326445), ('beautiful', 0.47738448), ('recommend', 0.47460607), ('perfect', 0.46957192), ('could', 0.46937907), ('highly', 0.4678865), ('clean', 0.4643309), ('everything', 0.46428668), ('visit', 0.45480242), ('best', 0.45387286), ('local', 0.45378315), ('home', 0.44659317), ('stayed', 0.44452184), ('well', 0.44429788), ('space', 0.44061327), ('felt', 0.42422968), ('like', 0.4121658), ('get', 0.41133958), ('room', 0.41049758), ('spacious', 0.41031575), ('go', 0.38191602), ('day', 0.37509596), ('athens', 0.37436488), ('kitchen', 0.3684126), ('little', 0.34857377), ('need', 0.33737972), ('around', 0.3302118), ('many', 0.32617372), ('one', 0.3258583), ('balcony', 0.31759045), ('see', 0.3155531), ('places', 0.30867738), ('night', 0.29754168), ('location', 0.27497393), ('view', 0.273987), ('city', 0.25162727), ('two', 0.24955481), ('area', 0.21221875), ('neighborhood', 0.20304689), ('restaurants', 0.19894864), ('station', 0.18174286), ('metro', 0.181484), ('bars', 0.17395543), ('within', 0.16780211), ('close', 0.1651965), ('quiet', 0.15941532), ('distance', 0.14296472), ('located', 0.14284459), ('right', 0.13552542), ('minutes', 0.13249291), ('walking', 0.11757562), ('away', 0.09816615), ('walk', 0.083492465), ('street', 0.08251848), ('acropolis', 0.052859582)]\n",
            "two [('balcony', 0.8637223), ('room', 0.8553472), ('space', 0.81671923), ('one', 0.81543344), ('little', 0.79125696), ('kitchen', 0.7711785), ('spacious', 0.74868053), ('stayed', 0.73506695), ('night', 0.72792476), ('view', 0.7236061), ('house', 0.7152935), ('beautiful', 0.7147232), ('quiet', 0.7072288), ('flat', 0.7040417), ('street', 0.6886876), ('loved', 0.68597955), ('comfortable', 0.66950214), ('acropolis', 0.66841), ('located', 0.6670682), ('lovely', 0.6408637), ('family', 0.6377908), ('clean', 0.62997854), ('away', 0.6253067), ('minutes', 0.6083312), ('well', 0.60368335), ('amazing', 0.6001058), ('apartment', 0.59366), ('perfect', 0.59137475), ('like', 0.5802328), ('enjoyed', 0.57973826), ('could', 0.5762801), ('nice', 0.57340205), ('right', 0.56330097), ('walk', 0.54749286), ('fantastic', 0.5419829), ('place', 0.5358192), ('day', 0.5348357), ('airbnb', 0.5241797), ('area', 0.5221007), ('neighborhood', 0.51718926), ('location', 0.5123924), ('good', 0.49390572), ('within', 0.49082556), ('station', 0.4789845), ('much', 0.47518012), ('city', 0.47500303), ('close', 0.4681741), ('really', 0.46419075), ('felt', 0.46276435), ('best', 0.45832884), ('super', 0.45792463), ('staying', 0.45489457), ('bars', 0.45193887), ('experience', 0.44258016), ('wonderful', 0.44248512), ('see', 0.44133034), ('metro', 0.43204343), ('also', 0.42399794), ('need', 0.4213859), ('athens', 0.40857816), ('many', 0.39463323), ('excellent', 0.38986716), ('great', 0.38415778), ('restaurants', 0.38238204), ('even', 0.36317456), ('home', 0.3622241), ('distance', 0.35875684), ('walking', 0.35385895), ('would', 0.33923823), ('everything', 0.33135748), ('stay', 0.32184252), ('feel', 0.3207908), ('time', 0.3181811), ('back', 0.27690253), ('definitely', 0.2762573), ('visit', 0.27597365), ('thank', 0.2748085), ('thanks', 0.2697869), ('recommend', 0.26769814), ('arrived', 0.2564474), ('kind', 0.24955481), ('romanos', 0.24560834), ('highly', 0.23927878), ('around', 0.23875713), ('needed', 0.23192804), ('recommended', 0.2011867), ('get', 0.1994205), ('host', 0.18994899), ('places', 0.18527171), ('provided', 0.18156044), ('made', 0.17837182), ('go', 0.17722808), ('friendly', 0.16641754), ('local', 0.1544588), ('easy', 0.11819034), ('us', 0.11127538), ('helpful', 0.10298973), ('airport', 0.07944033), ('gave', 0.019633988)]\n",
            "within [('walking', 0.886554), ('walk', 0.8819233), ('acropolis', 0.87409973), ('close', 0.8739456), ('distance', 0.8730637), ('minutes', 0.8677686), ('many', 0.8391203), ('city', 0.8299586), ('see', 0.82992524), ('metro', 0.82623005), ('restaurants', 0.8250789), ('bars', 0.81301546), ('away', 0.8043101), ('station', 0.80345577), ('right', 0.7834662), ('area', 0.779658), ('located', 0.76488334), ('neighborhood', 0.7584424), ('location', 0.7478795), ('around', 0.73482555), ('get', 0.71838903), ('street', 0.7149918), ('also', 0.71193224), ('places', 0.70366085), ('quiet', 0.6828876), ('athens', 0.6731814), ('easy', 0.6721455), ('perfect', 0.65636796), ('good', 0.647953), ('local', 0.6297714), ('little', 0.6281982), ('go', 0.59232175), ('great', 0.59229517), ('excellent', 0.59191644), ('fantastic', 0.58539504), ('flat', 0.58425367), ('nice', 0.5774727), ('visit', 0.57401574), ('well', 0.5724331), ('apartment', 0.56731623), ('need', 0.5591581), ('could', 0.54862154), ('amazing', 0.5481713), ('place', 0.5428285), ('spacious', 0.534572), ('clean', 0.52760047), ('house', 0.5243565), ('super', 0.50970274), ('loved', 0.5067622), ('view', 0.5061188), ('enjoyed', 0.50317174), ('balcony', 0.49434927), ('everything', 0.49194586), ('two', 0.49082556), ('beautiful', 0.46982718), ('best', 0.46208638), ('space', 0.46071178), ('lovely', 0.45165125), ('one', 0.45119175), ('really', 0.44915742), ('night', 0.42671078), ('highly', 0.42273074), ('comfortable', 0.4207049), ('recommended', 0.4195606), ('definitely', 0.4170219), ('provided', 0.40711054), ('would', 0.40172225), ('gave', 0.40034708), ('even', 0.3952893), ('kitchen', 0.39040828), ('airport', 0.38574535), ('recommend', 0.37181884), ('stay', 0.36844036), ('needed', 0.3629497), ('much', 0.3569287), ('day', 0.35691056), ('wonderful', 0.3548911), ('staying', 0.34908578), ('like', 0.3431652), ('thanks', 0.33027658), ('felt', 0.32395002), ('family', 0.30833888), ('time', 0.3077046), ('room', 0.2978238), ('experience', 0.29724276), ('airbnb', 0.29371396), ('back', 0.28100532), ('us', 0.2791435), ('friendly', 0.2559645), ('helpful', 0.25377634), ('thank', 0.25183505), ('host', 0.24432924), ('stayed', 0.23413415), ('home', 0.2247557), ('made', 0.21149397), ('feel', 0.18841654), ('arrived', 0.16885136), ('kind', 0.16780211), ('romanos', 0.0709526)]\n",
            "feel [('home', 0.95184964), ('felt', 0.93653387), ('like', 0.8877967), ('made', 0.8737269), ('house', 0.7548437), ('much', 0.75048816), ('really', 0.7110011), ('family', 0.6460514), ('romanos', 0.6326915), ('lovely', 0.6219841), ('needed', 0.6150813), ('comfortable', 0.61262816), ('even', 0.6065109), ('thank', 0.6065096), ('wonderful', 0.5835468), ('kind', 0.5788342), ('arrived', 0.5704373), ('beautiful', 0.5643589), ('little', 0.5626412), ('time', 0.5544865), ('thanks', 0.5499227), ('flat', 0.5480773), ('us', 0.54769814), ('loved', 0.544706), ('enjoyed', 0.5350345), ('everything', 0.5228289), ('provided', 0.52151614), ('place', 0.51939195), ('apartment', 0.51895994), ('space', 0.51638496), ('experience', 0.5155932), ('could', 0.5003812), ('room', 0.5002779), ('stay', 0.49930942), ('clean', 0.49175453), ('super', 0.48896924), ('spacious', 0.48712045), ('friendly', 0.47970292), ('fantastic', 0.47961107), ('host', 0.47940937), ('nice', 0.47580308), ('night', 0.4755234), ('staying', 0.47235763), ('right', 0.4712749), ('need', 0.46456784), ('kitchen', 0.4606209), ('neighborhood', 0.4452694), ('gave', 0.44497818), ('perfect', 0.44484925), ('amazing', 0.4348027), ('quiet', 0.4325939), ('day', 0.42877993), ('well', 0.42856959), ('airbnb', 0.42758334), ('area', 0.41199464), ('helpful', 0.41110486), ('balcony', 0.4063068), ('back', 0.39838833), ('see', 0.38293612), ('great', 0.37602422), ('one', 0.36156285), ('stayed', 0.3595628), ('athens', 0.35728186), ('local', 0.35014078), ('excellent', 0.34770817), ('around', 0.3465981), ('away', 0.33480376), ('also', 0.3339985), ('visit', 0.3285968), ('good', 0.3243215), ('two', 0.3207908), ('street', 0.31981605), ('go', 0.3187959), ('city', 0.31848305), ('view', 0.31727907), ('get', 0.3165625), ('would', 0.30982336), ('location', 0.30495274), ('definitely', 0.29199392), ('best', 0.2762105), ('recommend', 0.27512923), ('located', 0.2672189), ('recommended', 0.2575717), ('airport', 0.25661275), ('many', 0.25321627), ('easy', 0.24428886), ('close', 0.22102416), ('station', 0.19600946), ('within', 0.18841654), ('minutes', 0.18605003), ('walking', 0.1852398), ('distance', 0.18323418), ('bars', 0.18255581), ('metro', 0.18216905), ('highly', 0.16928756), ('walk', 0.16504008), ('places', 0.16419587), ('restaurants', 0.14013909), ('acropolis', 0.13780989)]\n",
            "airbnb [('experience', 0.9078349), ('stayed', 0.870883), ('thank', 0.8531406), ('thanks', 0.8309475), ('family', 0.82986706), ('best', 0.82749605), ('time', 0.8066114), ('much', 0.79933834), ('one', 0.7988188), ('staying', 0.7781939), ('wonderful', 0.7459465), ('romanos', 0.7323178), ('stay', 0.7277437), ('back', 0.7142822), ('visit', 0.70917434), ('place', 0.6993841), ('day', 0.692129), ('amazing', 0.691939), ('kind', 0.6855486), ('fantastic', 0.68429774), ('would', 0.67333263), ('athens', 0.66518223), ('host', 0.6612853), ('could', 0.6587282), ('definitely', 0.650356), ('loved', 0.64974546), ('enjoyed', 0.6426039), ('perfect', 0.633974), ('night', 0.6281413), ('view', 0.5813192), ('really', 0.58011836), ('beautiful', 0.5696865), ('arrived', 0.5631085), ('recommend', 0.55810976), ('friendly', 0.5553599), ('helpful', 0.55520487), ('house', 0.5383305), ('go', 0.5350425), ('highly', 0.53401417), ('two', 0.5241797), ('recommended', 0.52363497), ('see', 0.5221528), ('lovely', 0.52092326), ('made', 0.5196009), ('excellent', 0.5109886), ('flat', 0.50626916), ('great', 0.50618964), ('apartment', 0.48862264), ('like', 0.45253596), ('space', 0.45137924), ('balcony', 0.45068038), ('home', 0.4412359), ('feel', 0.42758334), ('super', 0.42350215), ('felt', 0.41404122), ('location', 0.41364592), ('room', 0.4040447), ('even', 0.3963504), ('city', 0.3923316), ('good', 0.3912068), ('us', 0.38174793), ('spacious', 0.36676496), ('comfortable', 0.36400053), ('provided', 0.35125265), ('little', 0.3426588), ('airport', 0.33176014), ('needed', 0.33143806), ('places', 0.32093683), ('acropolis', 0.31965888), ('many', 0.30970865), ('clean', 0.3085007), ('nice', 0.30827007), ('everything', 0.30478346), ('gave', 0.30440578), ('distance', 0.29697204), ('need', 0.29376623), ('within', 0.29371396), ('get', 0.2921225), ('kitchen', 0.26258683), ('minutes', 0.25448847), ('located', 0.23850986), ('walk', 0.23771009), ('away', 0.23755626), ('also', 0.23439465), ('quiet', 0.23119922), ('right', 0.2304102), ('easy', 0.2258251), ('walking', 0.22482248), ('local', 0.21810606), ('well', 0.20876579), ('neighborhood', 0.20029223), ('close', 0.19836888), ('station', 0.18858758), ('bars', 0.18652311), ('around', 0.18213704), ('street', 0.17786929), ('restaurants', 0.15935226), ('area', 0.15807846), ('metro', 0.15426059)]\n",
            "family [('much', 0.8946897), ('experience', 0.8810765), ('thank', 0.85944295), ('wonderful', 0.85877454), ('place', 0.84858876), ('staying', 0.8454594), ('loved', 0.8372344), ('really', 0.8318756), ('thanks', 0.8301799), ('airbnb', 0.82986706), ('romanos', 0.8081432), ('beautiful', 0.8058748), ('lovely', 0.80520946), ('stay', 0.8023774), ('house', 0.79871833), ('stayed', 0.7963534), ('flat', 0.7887553), ('enjoyed', 0.7882701), ('fantastic', 0.780069), ('kind', 0.7719887), ('time', 0.7604253), ('apartment', 0.7601439), ('host', 0.7524648), ('amazing', 0.7523544), ('space', 0.7440322), ('perfect', 0.7376168), ('comfortable', 0.7354083), ('spacious', 0.7128452), ('super', 0.698781), ('view', 0.6925056), ('would', 0.68612945), ('friendly', 0.68193537), ('like', 0.68129694), ('clean', 0.67729336), ('balcony', 0.66451025), ('made', 0.6638542), ('home', 0.6579411), ('feel', 0.6460514), ('felt', 0.64451957), ('two', 0.6377908), ('definitely', 0.63148344), ('helpful', 0.63137436), ('one', 0.62944186), ('room', 0.61558515), ('excellent', 0.61451256), ('athens', 0.6138552), ('could', 0.6090996), ('recommend', 0.60016435), ('nice', 0.5872742), ('great', 0.58653283), ('back', 0.58446205), ('visit', 0.5768073), ('location', 0.5636398), ('best', 0.56256163), ('highly', 0.55885637), ('arrived', 0.54026717), ('well', 0.5320206), ('everything', 0.5182672), ('kitchen', 0.5150981), ('needed', 0.5111869), ('little', 0.5097728), ('night', 0.50760674), ('good', 0.50749946), ('recommended', 0.5040397), ('quiet', 0.49437), ('day', 0.4916202), ('located', 0.48132), ('provided', 0.43962762), ('even', 0.43768123), ('need', 0.43554178), ('see', 0.42649183), ('city', 0.41678375), ('us', 0.41472816), ('neighborhood', 0.39374304), ('acropolis', 0.3662443), ('area', 0.3487902), ('go', 0.3474379), ('also', 0.3286915), ('close', 0.32659844), ('gave', 0.32606572), ('right', 0.32398692), ('easy', 0.31692785), ('minutes', 0.30897504), ('within', 0.30833888), ('away', 0.3001315), ('many', 0.2959447), ('distance', 0.2928131), ('walk', 0.27532244), ('airport', 0.27149886), ('walking', 0.26427552), ('street', 0.2518481), ('metro', 0.24412581), ('station', 0.24409144), ('get', 0.23926602), ('bars', 0.21195506), ('local', 0.19828314), ('restaurants', 0.19810636), ('around', 0.16591571), ('places', 0.1596239)]\n",
            "bars [('restaurants', 0.97365946), ('many', 0.9611776), ('area', 0.91817963), ('neighborhood', 0.8903534), ('street', 0.85736567), ('places', 0.85659724), ('local', 0.8478203), ('close', 0.84230256), ('within', 0.81301546), ('around', 0.810676), ('right', 0.80397147), ('city', 0.8020996), ('also', 0.79730994), ('acropolis', 0.77295715), ('good', 0.7553848), ('see', 0.7525474), ('little', 0.7452164), ('quiet', 0.7409937), ('away', 0.73926914), ('minutes', 0.7291075), ('station', 0.71763533), ('located', 0.71465373), ('walk', 0.7144963), ('metro', 0.70911586), ('nice', 0.705016), ('distance', 0.66672057), ('walking', 0.6664734), ('great', 0.6399165), ('location', 0.61892545), ('excellent', 0.60304767), ('fantastic', 0.58025694), ('well', 0.56750697), ('balcony', 0.5636585), ('go', 0.56323004), ('get', 0.5608326), ('flat', 0.5519679), ('athens', 0.5496147), ('house', 0.5490241), ('gave', 0.52917224), ('super', 0.526387), ('easy', 0.5223259), ('really', 0.5191433), ('lovely', 0.5131403), ('enjoyed', 0.51248515), ('visit', 0.5065352), ('recommended', 0.49376345), ('amazing', 0.4925796), ('space', 0.49164683), ('spacious', 0.48747492), ('loved', 0.48622257), ('perfect', 0.4846071), ('provided', 0.48453292), ('beautiful', 0.4749576), ('clean', 0.47100633), ('apartment', 0.45228556), ('two', 0.45193887), ('best', 0.44797432), ('kitchen', 0.44221026), ('view', 0.43740577), ('place', 0.4288966), ('night', 0.42187923), ('one', 0.38274592), ('comfortable', 0.37327573), ('highly', 0.3711259), ('need', 0.36160222), ('room', 0.35127735), ('definitely', 0.34945235), ('wonderful', 0.34714815), ('like', 0.3372378), ('recommend', 0.33662057), ('felt', 0.33389488), ('us', 0.32221392), ('would', 0.32188833), ('everything', 0.31499603), ('friendly', 0.30981052), ('could', 0.2952181), ('even', 0.29179165), ('day', 0.28480157), ('helpful', 0.28261277), ('thanks', 0.27685562), ('much', 0.27220243), ('staying', 0.26747757), ('airport', 0.26579693), ('experience', 0.25790864), ('stay', 0.2406981), ('time', 0.23098859), ('host', 0.23086692), ('needed', 0.2181144), ('family', 0.21195506), ('back', 0.19752216), ('airbnb', 0.18652311), ('feel', 0.18255581), ('home', 0.17401001), ('kind', 0.17395543), ('thank', 0.17068578), ('arrived', 0.16562986), ('made', 0.16038102), ('romanos', 0.13131891), ('stayed', 0.058209825)]\n",
            "arrived [('us', 0.91571486), ('even', 0.8676333), ('kind', 0.84876883), ('provided', 0.79911304), ('made', 0.7989917), ('romanos', 0.7980391), ('airport', 0.78310925), ('helpful', 0.76576495), ('gave', 0.74551845), ('friendly', 0.7361477), ('host', 0.68058014), ('thanks', 0.6120253), ('thank', 0.608403), ('time', 0.6021404), ('day', 0.59870994), ('also', 0.5961384), ('much', 0.5960766), ('get', 0.5723915), ('needed', 0.5707715), ('feel', 0.5704373), ('airbnb', 0.5631085), ('wonderful', 0.54980296), ('family', 0.54026717), ('night', 0.5202245), ('super', 0.51360446), ('local', 0.4964672), ('house', 0.49194407), ('could', 0.48881912), ('really', 0.48874867), ('around', 0.48608062), ('excellent', 0.4843822), ('back', 0.4717307), ('easy', 0.4571103), ('experience', 0.4553442), ('lovely', 0.4301925), ('go', 0.42959872), ('room', 0.4182318), ('little', 0.41568142), ('home', 0.403385), ('felt', 0.394305), ('good', 0.39091003), ('great', 0.38771433), ('one', 0.38576075), ('flat', 0.38025084), ('best', 0.3789125), ('stayed', 0.3786411), ('fantastic', 0.37536812), ('apartment', 0.36908048), ('kitchen', 0.3610322), ('like', 0.3605227), ('stay', 0.35464317), ('everything', 0.34968567), ('places', 0.34925973), ('nice', 0.3431966), ('see', 0.33555254), ('visit', 0.32879952), ('recommended', 0.3169895), ('amazing', 0.31442022), ('well', 0.3048523), ('would', 0.2989807), ('many', 0.29460397), ('station', 0.28454033), ('staying', 0.28264698), ('definitely', 0.26477766), ('place', 0.26163363), ('need', 0.26090816), ('space', 0.2564758), ('two', 0.2564474), ('comfortable', 0.2549975), ('metro', 0.2425648), ('perfect', 0.24112993), ('enjoyed', 0.23887384), ('right', 0.2362686), ('away', 0.22892961), ('athens', 0.22458608), ('clean', 0.2239304), ('beautiful', 0.22290176), ('street', 0.22165772), ('recommend', 0.2210538), ('minutes', 0.21762002), ('city', 0.21743673), ('highly', 0.20950645), ('loved', 0.2009496), ('spacious', 0.1913573), ('balcony', 0.18520877), ('restaurants', 0.17025755), ('within', 0.16885136), ('bars', 0.16562986), ('area', 0.15743192), ('walk', 0.15259188), ('neighborhood', 0.122869015), ('distance', 0.09021869), ('location', 0.08625858), ('view', 0.08314034), ('walking', 0.079978414), ('close', 0.06657124), ('quiet', 0.03790861), ('acropolis', 0.014948889), ('located', 0.00866015)]\n",
            "kitchen [('room', 0.95423347), ('space', 0.8807879), ('little', 0.85704124), ('balcony', 0.84681606), ('well', 0.8432138), ('comfortable', 0.8237044), ('spacious', 0.8037618), ('clean', 0.79047525), ('flat', 0.7824654), ('two', 0.7711785), ('house', 0.76743215), ('nice', 0.69276327), ('lovely', 0.68117917), ('beautiful', 0.6609273), ('need', 0.66022426), ('quiet', 0.65256095), ('apartment', 0.64268446), ('street', 0.63911444), ('super', 0.63811123), ('like', 0.6041725), ('area', 0.5999309), ('also', 0.5931806), ('even', 0.584031), ('everything', 0.58321047), ('needed', 0.5801782), ('good', 0.56122136), ('could', 0.5569907), ('view', 0.5531835), ('really', 0.54790574), ('loved', 0.54750323), ('located', 0.5460183), ('one', 0.53960633), ('neighborhood', 0.5279113), ('provided', 0.52472824), ('family', 0.5150981), ('felt', 0.48660475), ('amazing', 0.47504675), ('night', 0.46590412), ('feel', 0.4606209), ('right', 0.45150548), ('excellent', 0.4477308), ('bars', 0.44221026), ('much', 0.43445832), ('fantastic', 0.43133467), ('perfect', 0.42905453), ('acropolis', 0.42880473), ('many', 0.42670912), ('enjoyed', 0.4220641), ('place', 0.41878948), ('location', 0.41276148), ('restaurants', 0.4108946), ('away', 0.40250564), ('wonderful', 0.39987978), ('great', 0.3971878), ('close', 0.3907627), ('within', 0.39040828), ('home', 0.39000493), ('minutes', 0.37960094), ('see', 0.37883103), ('made', 0.36902407), ('kind', 0.3684126), ('arrived', 0.3610322), ('stayed', 0.34264216), ('friendly', 0.3285691), ('local', 0.32694486), ('walking', 0.3149318), ('us', 0.31367582), ('walk', 0.31042984), ('romanos', 0.30917218), ('station', 0.30527687), ('host', 0.3019951), ('city', 0.29463914), ('distance', 0.29116195), ('gave', 0.28956053), ('metro', 0.28803226), ('around', 0.28623062), ('airbnb', 0.26258683), ('helpful', 0.26199937), ('day', 0.24192144), ('experience', 0.22940175), ('thanks', 0.22283775), ('stay', 0.21376601), ('thank', 0.20487763), ('places', 0.20331147), ('best', 0.18417576), ('staying', 0.18261674), ('easy', 0.17881791), ('get', 0.15944457), ('would', 0.13716671), ('time', 0.11925225), ('athens', 0.107324496), ('highly', 0.096741416), ('definitely', 0.08605397), ('recommend', 0.060062595), ('airport', 0.058131974), ('recommended', 0.055603046), ('visit', 0.026248606), ('back', 0.018409993), ('go', 0.00963336)]\n",
            "see [('city', 0.8364776), ('within', 0.82992524), ('many', 0.82574266), ('places', 0.8183176), ('go', 0.81734216), ('athens', 0.79461443), ('visit', 0.79275274), ('around', 0.7535191), ('bars', 0.7525474), ('close', 0.74996626), ('right', 0.7439678), ('walking', 0.74331486), ('distance', 0.7384136), ('area', 0.73325115), ('restaurants', 0.7314142), ('could', 0.7246701), ('acropolis', 0.72394615), ('get', 0.71099323), ('neighborhood', 0.70889723), ('walk', 0.7024375), ('local', 0.6849783), ('best', 0.6805913), ('perfect', 0.6769895), ('away', 0.66955125), ('minutes', 0.66551167), ('location', 0.6633653), ('fantastic', 0.6535922), ('little', 0.6499298), ('street', 0.6489599), ('place', 0.64279807), ('station', 0.6403028), ('metro', 0.6354922), ('also', 0.63440794), ('one', 0.6340191), ('located', 0.62444776), ('amazing', 0.62063205), ('great', 0.6195681), ('need', 0.61352324), ('good', 0.6082027), ('quiet', 0.6039657), ('much', 0.60361797), ('house', 0.60206676), ('enjoyed', 0.6000586), ('night', 0.5979112), ('flat', 0.5954759), ('time', 0.5946658), ('loved', 0.59076905), ('thanks', 0.5786724), ('day', 0.5772567), ('stay', 0.56765836), ('apartment', 0.5668887), ('really', 0.56498295), ('definitely', 0.5628774), ('everything', 0.55152375), ('view', 0.55146813), ('excellent', 0.5460255), ('back', 0.54372334), ('gave', 0.5353528), ('beautiful', 0.53261983), ('easy', 0.5311348), ('nice', 0.5264355), ('airbnb', 0.5221528), ('would', 0.52035356), ('experience', 0.51985705), ('thank', 0.5159719), ('recommended', 0.5087341), ('balcony', 0.50675696), ('provided', 0.5018895), ('staying', 0.49665052), ('well', 0.49536487), ('even', 0.49410588), ('lovely', 0.49201235), ('wonderful', 0.48508468), ('needed', 0.48150712), ('like', 0.46895874), ('felt', 0.4632519), ('spacious', 0.45336464), ('recommend', 0.44984466), ('space', 0.44738457), ('highly', 0.44666666), ('clean', 0.44149327), ('two', 0.44133034), ('super', 0.43679786), ('family', 0.42649183), ('us', 0.41942686), ('made', 0.40927678), ('home', 0.392963), ('comfortable', 0.38526186), ('feel', 0.38293612), ('airport', 0.38227892), ('kitchen', 0.37883103), ('host', 0.37096), ('stayed', 0.36510697), ('arrived', 0.33555254), ('helpful', 0.32779664), ('room', 0.31670085), ('kind', 0.3155531), ('friendly', 0.3098819), ('romanos', 0.29092616)]\n",
            "balcony [('space', 0.96061784), ('spacious', 0.89332587), ('room', 0.8699405), ('flat', 0.8689092), ('beautiful', 0.86732614), ('view', 0.8669149), ('two', 0.8637223), ('little', 0.8504134), ('house', 0.8470175), ('kitchen', 0.84681606), ('quiet', 0.82785857), ('comfortable', 0.8196291), ('clean', 0.81522954), ('loved', 0.7913697), ('lovely', 0.7911833), ('well', 0.7585711), ('nice', 0.7483615), ('located', 0.7454804), ('apartment', 0.74085456), ('amazing', 0.7287192), ('street', 0.70860505), ('area', 0.70635146), ('neighborhood', 0.69885904), ('acropolis', 0.6934948), ('really', 0.67847663), ('enjoyed', 0.67236596), ('fantastic', 0.67151666), ('location', 0.6710516), ('place', 0.6698788), ('family', 0.66451025), ('one', 0.6627413), ('super', 0.65475315), ('like', 0.64907587), ('perfect', 0.6404883), ('good', 0.6048331), ('right', 0.5958958), ('close', 0.5681484), ('bars', 0.5636585), ('night', 0.5597521), ('city', 0.5541955), ('wonderful', 0.548921), ('great', 0.5382082), ('much', 0.53553015), ('felt', 0.5342588), ('away', 0.5304446), ('stayed', 0.52965397), ('excellent', 0.52811456), ('restaurants', 0.52704537), ('many', 0.518202), ('minutes', 0.5154215), ('see', 0.50675696), ('experience', 0.50307435), ('need', 0.5021671), ('could', 0.49484947), ('also', 0.4944808), ('within', 0.49434927), ('everything', 0.47543004), ('staying', 0.475077), ('walk', 0.46198317), ('airbnb', 0.45068038), ('home', 0.43648383), ('athens', 0.41350222), ('walking', 0.41102123), ('best', 0.40631965), ('feel', 0.4063068), ('distance', 0.40472177), ('stay', 0.40105194), ('station', 0.3970722), ('metro', 0.38451347), ('host', 0.36096984), ('thanks', 0.35410836), ('thank', 0.34354678), ('even', 0.33736446), ('needed', 0.3314783), ('romanos', 0.328129), ('provided', 0.32194865), ('would', 0.32145584), ('friendly', 0.32077593), ('day', 0.3181727), ('kind', 0.31759045), ('time', 0.305858), ('definitely', 0.2968102), ('local', 0.29116654), ('around', 0.28362292), ('highly', 0.28257984), ('visit', 0.28037712), ('recommend', 0.27491722), ('places', 0.2741738), ('made', 0.25340343), ('recommended', 0.24890578), ('helpful', 0.22247775), ('arrived', 0.18520877), ('easy', 0.17595774), ('gave', 0.17153136), ('back', 0.16389464), ('go', 0.14003839), ('get', 0.12708877), ('us', 0.11601814), ('airport', -0.058774862)]\n",
            "provided [('gave', 0.94489634), ('us', 0.8891004), ('even', 0.8283696), ('helpful', 0.8247974), ('also', 0.8246236), ('friendly', 0.82192564), ('arrived', 0.79911304), ('kind', 0.7924978), ('local', 0.77339655), ('super', 0.7631946), ('needed', 0.7561263), ('made', 0.7559669), ('host', 0.7277018), ('excellent', 0.7248272), ('romanos', 0.7072209), ('good', 0.67492795), ('around', 0.67279357), ('really', 0.6468605), ('great', 0.6367269), ('easy', 0.6364967), ('nice', 0.6291719), ('many', 0.6287778), ('airport', 0.627433), ('well', 0.6228355), ('places', 0.60328776), ('house', 0.5901595), ('get', 0.58741933), ('wonderful', 0.58576906), ('lovely', 0.5787992), ('everything', 0.57873404), ('flat', 0.576372), ('thanks', 0.5756257), ('little', 0.5566203), ('apartment', 0.5405899), ('kitchen', 0.52472824), ('restaurants', 0.5246026), ('feel', 0.52151614), ('need', 0.52107036), ('much', 0.51297224), ('fantastic', 0.5123182), ('thank', 0.5105382), ('clean', 0.5051042), ('area', 0.5045272), ('see', 0.5018895), ('bars', 0.48453292), ('could', 0.4708767), ('comfortable', 0.46566615), ('family', 0.43962762), ('room', 0.43674815), ('space', 0.4284943), ('neighborhood', 0.42838025), ('amazing', 0.41935316), ('within', 0.40711054), ('spacious', 0.4068983), ('time', 0.39537403), ('go', 0.3894507), ('city', 0.37655917), ('close', 0.37543902), ('recommended', 0.3695392), ('perfect', 0.36576757), ('felt', 0.36476633), ('metro', 0.363095), ('beautiful', 0.3587823), ('street', 0.35804528), ('right', 0.3572121), ('station', 0.35712937), ('airbnb', 0.35125265), ('distance', 0.34954095), ('like', 0.3464619), ('place', 0.34554803), ('experience', 0.34353006), ('stay', 0.33036643), ('best', 0.3301978), ('home', 0.32905126), ('walking', 0.32831395), ('location', 0.3253814), ('balcony', 0.32194865), ('enjoyed', 0.31741628), ('visit', 0.30656692), ('loved', 0.29199496), ('minutes', 0.28638926), ('quiet', 0.26628682), ('away', 0.2568718), ('night', 0.24498644), ('highly', 0.24466562), ('day', 0.24112155), ('walk', 0.23617196), ('would', 0.23427644), ('located', 0.23102109), ('athens', 0.22529182), ('definitely', 0.22028518), ('one', 0.21097586), ('back', 0.19883063), ('recommend', 0.1957429), ('two', 0.18156044), ('acropolis', 0.17342176), ('staying', 0.16770817), ('view', 0.1581473), ('stayed', 0.06718112)]\n"
          ]
        }
      ]
    },
    {
      "cell_type": "markdown",
      "source": [
        "Function to calculate the semantic neighborhood of two words and the 3 divider similarities"
      ],
      "metadata": {
        "id": "fIvDC4mrpXNo"
      }
    },
    {
      "cell_type": "code",
      "source": [
        "from scipy.stats import pearsonr\n",
        "import math\n",
        "\n",
        "def similarity_neighbourhood(x_word, y_word, N):\n",
        "  neighbourhood_x_word = []\n",
        "  neighbourhood_y_word = []\n",
        "  S_w1_N1 = []\n",
        "  S_w2_N2 = []\n",
        "\n",
        "  # Loop through Dictionary\n",
        "  for x,y in similarities_dict.items():\n",
        "    if x_word == x:\n",
        "      print(f\"Similarity Neighbourhood for Word '{x_word}' of {N} items: {y[1:N+1]}\")\n",
        "      neighbourhood_x_word = y[1:N+1]\n",
        "      for items in neighbourhood_x_word:\n",
        "        S_w1_N1.append(items[1])\n",
        "      print(\"\\n\")\n",
        "\n",
        "    if y_word == x:\n",
        "      print(f\"Similarity Neighbourhood for Word '{y_word}' of {N} items: {y[1:N+1]}\")\n",
        "      neighbourhood_y_word = y[1:N+1]\n",
        "      for items in neighbourhood_y_word:\n",
        "        S_w2_N2.append(items[1])\n",
        "      print(\"\\n\")\n",
        "\n",
        "  print(\"Calculating Similarity (a):\")\n",
        "  print(f\"For word '{x_word}': \")\n",
        "  x_max = -100\n",
        "  y_max = -100\n",
        "  max_x_word = ''\n",
        "  max_y_word = ''\n",
        "\n",
        "  # Variables to keep all similarities between neighbourhoods\n",
        "  cor_x = []\n",
        "  cor_y = []\n",
        "  for i, word_i in enumerate(most_commonly_used_words):\n",
        "    if x_word == word_i:\n",
        "      for j, word_j in enumerate(most_commonly_used_words):\n",
        "        if any(word_j == tup[0] for tup in neighbourhood_y_word):\n",
        "          print(f\"Similarity ({word_i}, {word_j}) : {cosine_similarities[i][j]}\")\n",
        "          similarity = cosine_similarities[i][j]\n",
        "          cor_x.append((word_j, similarity))\n",
        "          if cosine_similarities[i][j] > x_max:\n",
        "            x_max = cosine_similarities[i][j]\n",
        "            max_x_word = word_j\n",
        "\n",
        "  print(\"\\n\")\n",
        "  print(f\"For word '{y_word}': \")\n",
        "  for i, word_i in enumerate(most_commonly_used_words):\n",
        "    if y_word == word_i:\n",
        "      for j, word_j in enumerate(most_commonly_used_words):\n",
        "        if any(word_j == tup[0] for tup in neighbourhood_x_word):\n",
        "          print(f\"Similarity ({word_i}, {word_j}) : {cosine_similarities[i][j]}\")\n",
        "          similarity = cosine_similarities[i][j]\n",
        "          cor_y.append((word_j, similarity))\n",
        "          if cosine_similarities[i][j] > y_max:\n",
        "            y_max = cosine_similarities[i][j]\n",
        "            max_y_word = word_j\n",
        "\n",
        "  print(\"\\n\")\n",
        "\n",
        "  if (x_max > y_max):\n",
        "    print(f\"Similarity Max ({x_word}, {max_x_word}) : {x_max}\")\n",
        "  else:\n",
        "    print(f\"Similarity Max ({y_word}, {max_y_word}) : {y_max}\")\n",
        "\n",
        "  print(\"\\n\")\n",
        "  print(\"Calculating similarity (b):\")\n",
        "\n",
        "  S_w1_N2 = []\n",
        "  for x in cor_x:\n",
        "    S_w1_N2.append(x[1])\n",
        "\n",
        "  S_w2_N1 = []\n",
        "  for y in cor_y:\n",
        "    S_w2_N1.append(y[1])\n",
        "\n",
        "  # Calculate Pearson Correlation Coefficient\n",
        "  beta_ij = pearsonr(S_w1_N1, S_w2_N1)\n",
        "  beta_ji = pearsonr(S_w1_N2, S_w2_N2)\n",
        "\n",
        "  # Determine Rn(wi, wj)\n",
        "  Rn_wi_wj = max(beta_ij, beta_ji)\n",
        "\n",
        "  print(f\"Similarity Rn(wi, wj): {Rn_wi_wj}\")\n",
        "  print(\"\\n\")\n",
        "\n",
        "  print(\"Calculating similarity (c):\")\n",
        "\n",
        "  sum_w1 = 0\n",
        "  sum_w2 = 0\n",
        "\n",
        "  for i in S_w1_N2:\n",
        "    sum_w2 += i ** 2\n",
        "\n",
        "  for i in S_w2_N1:\n",
        "    sum_w2 += i ** 2\n",
        "\n",
        "  sum = math.sqrt(sum_w1 + sum_w2)\n",
        "  print(f\"Sum of squared neighbourhood similarities: {sum}\")"
      ],
      "metadata": {
        "id": "uE3ZIgfBpvND"
      },
      "execution_count": 65,
      "outputs": []
    },
    {
      "cell_type": "code",
      "source": [
        "# Test Function\n",
        "\n",
        "words_to_analyze = [\"home\", \"neighborhood\", \"station\"]\n",
        "neighbourhood_sizes = [3, 5, 10]\n",
        "\n",
        "# Function to calculate the changes in similarity for the neighbourhoods\n",
        "def analyze_neighborhood_changes(words, sizes):\n",
        "    for N in sizes:\n",
        "      print(\"--------------------------------\")\n",
        "      print(f\"==== Neighbourhood Size Ν={N} ====\")\n",
        "      print(\"--------------------------------\")\n",
        "      for word in words:\n",
        "        print(\"-------------------------------------------\")\n",
        "        print(f\"Word Neighbourhood '{word}' for Ν={N}:\")\n",
        "        print(\"-------------------------------------------\")\n",
        "        similarity_neighbourhood(word, word, N)\n",
        "        print(\"\\n\")\n",
        "\n",
        "analyze_neighborhood_changes(words_to_analyze, neighbourhood_sizes)"
      ],
      "metadata": {
        "colab": {
          "base_uri": "https://localhost:8080/"
        },
        "id": "k0o7y8vzDjhc",
        "outputId": "86c3a52a-868d-4db2-fba3-5ee9471a56dc"
      },
      "execution_count": 66,
      "outputs": [
        {
          "output_type": "stream",
          "name": "stdout",
          "text": [
            "--------------------------------\n",
            "==== Neighbourhood Size Ν=3 ====\n",
            "--------------------------------\n",
            "-------------------------------------------\n",
            "Word Neighbourhood 'home' for Ν=3:\n",
            "-------------------------------------------\n",
            "Similarity Neighbourhood for Word 'home' of 3 items: [('feel', 0.95184964), ('like', 0.9320164), ('made', 0.77459854)]\n",
            "\n",
            "\n",
            "Similarity Neighbourhood for Word 'home' of 3 items: [('feel', 0.95184964), ('like', 0.9320164), ('made', 0.77459854)]\n",
            "\n",
            "\n",
            "Calculating Similarity (a):\n",
            "For word 'home': \n",
            "Similarity (home, like) : 0.9320163726806641\n",
            "Similarity (home, made) : 0.7745985388755798\n",
            "Similarity (home, feel) : 0.951849639415741\n",
            "\n",
            "\n",
            "For word 'home': \n",
            "Similarity (home, like) : 0.9320163726806641\n",
            "Similarity (home, made) : 0.7745985388755798\n",
            "Similarity (home, feel) : 0.951849639415741\n",
            "\n",
            "\n",
            "Similarity Max (home, feel) : 0.951849639415741\n",
            "\n",
            "\n",
            "Calculating similarity (b):\n",
            "Similarity Rn(wi, wj): PearsonRResult(statistic=-0.4999999999999999, pvalue=0.6666666666666667)\n",
            "\n",
            "\n",
            "Calculating similarity (c):\n",
            "Sum of squared neighbourhood similarities: 2.17930041592658\n",
            "\n",
            "\n",
            "-------------------------------------------\n",
            "Word Neighbourhood 'neighborhood' for Ν=3:\n",
            "-------------------------------------------\n",
            "Similarity Neighbourhood for Word 'neighborhood' of 3 items: [('bars', 0.8903534), ('quiet', 0.8883043), ('restaurants', 0.87131697)]\n",
            "\n",
            "\n",
            "Similarity Neighbourhood for Word 'neighborhood' of 3 items: [('bars', 0.8903534), ('quiet', 0.8883043), ('restaurants', 0.87131697)]\n",
            "\n",
            "\n",
            "Calculating Similarity (a):\n",
            "For word 'neighborhood': \n",
            "Similarity (neighborhood, restaurants) : 0.8713169693946838\n",
            "Similarity (neighborhood, quiet) : 0.8883042931556702\n",
            "Similarity (neighborhood, bars) : 0.8903533816337585\n",
            "\n",
            "\n",
            "For word 'neighborhood': \n",
            "Similarity (neighborhood, restaurants) : 0.8713169693946838\n",
            "Similarity (neighborhood, quiet) : 0.8883042931556702\n",
            "Similarity (neighborhood, bars) : 0.8903533816337585\n",
            "\n",
            "\n",
            "Similarity Max (neighborhood, bars) : 0.8903533816337585\n",
            "\n",
            "\n",
            "Calculating similarity (b):\n",
            "Similarity Rn(wi, wj): PearsonRResult(statistic=-0.6593911657822515, pvalue=0.5416282649960394)\n",
            "\n",
            "\n",
            "Calculating similarity (c):\n",
            "Sum of squared neighbourhood similarities: 2.1637961653448787\n",
            "\n",
            "\n",
            "-------------------------------------------\n",
            "Word Neighbourhood 'station' for Ν=3:\n",
            "-------------------------------------------\n",
            "Similarity Neighbourhood for Word 'station' of 3 items: [('minutes', 0.9560606), ('walk', 0.94698095), ('away', 0.9306228)]\n",
            "\n",
            "\n",
            "Similarity Neighbourhood for Word 'station' of 3 items: [('minutes', 0.9560606), ('walk', 0.94698095), ('away', 0.9306228)]\n",
            "\n",
            "\n",
            "Calculating Similarity (a):\n",
            "For word 'station': \n",
            "Similarity (station, walk) : 0.9469809532165527\n",
            "Similarity (station, minutes) : 0.9560605883598328\n",
            "Similarity (station, away) : 0.9306228160858154\n",
            "\n",
            "\n",
            "For word 'station': \n",
            "Similarity (station, walk) : 0.9469809532165527\n",
            "Similarity (station, minutes) : 0.9560605883598328\n",
            "Similarity (station, away) : 0.9306228160858154\n",
            "\n",
            "\n",
            "Similarity Max (station, minutes) : 0.9560605883598328\n",
            "\n",
            "\n",
            "Calculating similarity (b):\n",
            "Similarity Rn(wi, wj): PearsonRResult(statistic=0.7519635249146965, pvalue=0.45821386735354014)\n",
            "\n",
            "\n",
            "Calculating similarity (c):\n",
            "Sum of squared neighbourhood similarities: 2.3138209093140176\n",
            "\n",
            "\n",
            "--------------------------------\n",
            "==== Neighbourhood Size Ν=5 ====\n",
            "--------------------------------\n",
            "-------------------------------------------\n",
            "Word Neighbourhood 'home' for Ν=5:\n",
            "-------------------------------------------\n",
            "Similarity Neighbourhood for Word 'home' of 5 items: [('feel', 0.95184964), ('like', 0.9320164), ('made', 0.77459854), ('house', 0.7493904), ('much', 0.7371946)]\n",
            "\n",
            "\n",
            "Similarity Neighbourhood for Word 'home' of 5 items: [('feel', 0.95184964), ('like', 0.9320164), ('made', 0.77459854), ('house', 0.7493904), ('much', 0.7371946)]\n",
            "\n",
            "\n",
            "Calculating Similarity (a):\n",
            "For word 'home': \n",
            "Similarity (home, like) : 0.9320163726806641\n",
            "Similarity (home, made) : 0.7745985388755798\n",
            "Similarity (home, house) : 0.7493904232978821\n",
            "Similarity (home, much) : 0.7371945977210999\n",
            "Similarity (home, feel) : 0.951849639415741\n",
            "\n",
            "\n",
            "For word 'home': \n",
            "Similarity (home, like) : 0.9320163726806641\n",
            "Similarity (home, made) : 0.7745985388755798\n",
            "Similarity (home, house) : 0.7493904232978821\n",
            "Similarity (home, much) : 0.7371945977210999\n",
            "Similarity (home, feel) : 0.951849639415741\n",
            "\n",
            "\n",
            "Similarity Max (home, feel) : 0.951849639415741\n",
            "\n",
            "\n",
            "Calculating similarity (b):\n",
            "Similarity Rn(wi, wj): PearsonRResult(statistic=0.1706773073234668, pvalue=0.783746643886266)\n",
            "\n",
            "\n",
            "Calculating similarity (c):\n",
            "Sum of squared neighbourhood similarities: 2.638073931059793\n",
            "\n",
            "\n",
            "-------------------------------------------\n",
            "Word Neighbourhood 'neighborhood' for Ν=5:\n",
            "-------------------------------------------\n",
            "Similarity Neighbourhood for Word 'neighborhood' of 5 items: [('bars', 0.8903534), ('quiet', 0.8883043), ('restaurants', 0.87131697), ('right', 0.8685057), ('close', 0.85918456)]\n",
            "\n",
            "\n",
            "Similarity Neighbourhood for Word 'neighborhood' of 5 items: [('bars', 0.8903534), ('quiet', 0.8883043), ('restaurants', 0.87131697), ('right', 0.8685057), ('close', 0.85918456)]\n",
            "\n",
            "\n",
            "Calculating Similarity (a):\n",
            "For word 'neighborhood': \n",
            "Similarity (neighborhood, close) : 0.8591845631599426\n",
            "Similarity (neighborhood, restaurants) : 0.8713169693946838\n",
            "Similarity (neighborhood, quiet) : 0.8883042931556702\n",
            "Similarity (neighborhood, right) : 0.8685057163238525\n",
            "Similarity (neighborhood, bars) : 0.8903533816337585\n",
            "\n",
            "\n",
            "For word 'neighborhood': \n",
            "Similarity (neighborhood, close) : 0.8591845631599426\n",
            "Similarity (neighborhood, restaurants) : 0.8713169693946838\n",
            "Similarity (neighborhood, quiet) : 0.8883042931556702\n",
            "Similarity (neighborhood, right) : 0.8685057163238525\n",
            "Similarity (neighborhood, bars) : 0.8903533816337585\n",
            "\n",
            "\n",
            "Similarity Max (neighborhood, bars) : 0.8903533816337585\n",
            "\n",
            "\n",
            "Calculating similarity (b):\n",
            "Similarity Rn(wi, wj): PearsonRResult(statistic=-0.7569742213042843, pvalue=0.1384555033068091)\n",
            "\n",
            "\n",
            "Calculating similarity (c):\n",
            "Sum of squared neighbourhood similarities: 2.7689374190978566\n",
            "\n",
            "\n",
            "-------------------------------------------\n",
            "Word Neighbourhood 'station' for Ν=5:\n",
            "-------------------------------------------\n",
            "Similarity Neighbourhood for Word 'station' of 5 items: [('minutes', 0.9560606), ('walk', 0.94698095), ('away', 0.9306228), ('city', 0.8577521), ('close', 0.8531921)]\n",
            "\n",
            "\n",
            "Similarity Neighbourhood for Word 'station' of 5 items: [('minutes', 0.9560606), ('walk', 0.94698095), ('away', 0.9306228), ('city', 0.8577521), ('close', 0.8531921)]\n",
            "\n",
            "\n",
            "Calculating Similarity (a):\n",
            "For word 'station': \n",
            "Similarity (station, walk) : 0.9469809532165527\n",
            "Similarity (station, close) : 0.8531920909881592\n",
            "Similarity (station, city) : 0.8577520847320557\n",
            "Similarity (station, minutes) : 0.9560605883598328\n",
            "Similarity (station, away) : 0.9306228160858154\n",
            "\n",
            "\n",
            "For word 'station': \n",
            "Similarity (station, walk) : 0.9469809532165527\n",
            "Similarity (station, close) : 0.8531920909881592\n",
            "Similarity (station, city) : 0.8577520847320557\n",
            "Similarity (station, minutes) : 0.9560605883598328\n",
            "Similarity (station, away) : 0.9306228160858154\n",
            "\n",
            "\n",
            "Similarity Max (station, minutes) : 0.9560605883598328\n",
            "\n",
            "\n",
            "Calculating similarity (b):\n",
            "Similarity Rn(wi, wj): PearsonRResult(statistic=-0.5127764915037534, pvalue=0.3769748056931528)\n",
            "\n",
            "\n",
            "Calculating similarity (c):\n",
            "Sum of squared neighbourhood similarities: 2.8776931675132804\n",
            "\n",
            "\n",
            "--------------------------------\n",
            "==== Neighbourhood Size Ν=10 ====\n",
            "--------------------------------\n",
            "-------------------------------------------\n",
            "Word Neighbourhood 'home' for Ν=10:\n",
            "-------------------------------------------\n",
            "Similarity Neighbourhood for Word 'home' of 10 items: [('feel', 0.95184964), ('like', 0.9320164), ('made', 0.77459854), ('house', 0.7493904), ('much', 0.7371946), ('really', 0.689225), ('family', 0.6579411), ('loved', 0.6093819), ('comfortable', 0.6022886), ('place', 0.59859025)]\n",
            "\n",
            "\n",
            "Similarity Neighbourhood for Word 'home' of 10 items: [('feel', 0.95184964), ('like', 0.9320164), ('made', 0.77459854), ('house', 0.7493904), ('much', 0.7371946), ('really', 0.689225), ('family', 0.6579411), ('loved', 0.6093819), ('comfortable', 0.6022886), ('place', 0.59859025)]\n",
            "\n",
            "\n",
            "Calculating Similarity (a):\n",
            "For word 'home': \n",
            "Similarity (home, place) : 0.5985902547836304\n",
            "Similarity (home, really) : 0.6892250180244446\n",
            "Similarity (home, comfortable) : 0.6022886037826538\n",
            "Similarity (home, like) : 0.9320163726806641\n",
            "Similarity (home, made) : 0.7745985388755798\n",
            "Similarity (home, house) : 0.7493904232978821\n",
            "Similarity (home, much) : 0.7371945977210999\n",
            "Similarity (home, loved) : 0.609381914138794\n",
            "Similarity (home, feel) : 0.951849639415741\n",
            "Similarity (home, family) : 0.6579411029815674\n",
            "\n",
            "\n",
            "For word 'home': \n",
            "Similarity (home, place) : 0.5985902547836304\n",
            "Similarity (home, really) : 0.6892250180244446\n",
            "Similarity (home, comfortable) : 0.6022886037826538\n",
            "Similarity (home, like) : 0.9320163726806641\n",
            "Similarity (home, made) : 0.7745985388755798\n",
            "Similarity (home, house) : 0.7493904232978821\n",
            "Similarity (home, much) : 0.7371945977210999\n",
            "Similarity (home, loved) : 0.609381914138794\n",
            "Similarity (home, feel) : 0.951849639415741\n",
            "Similarity (home, family) : 0.6579411029815674\n",
            "\n",
            "\n",
            "Similarity Max (home, feel) : 0.951849639415741\n",
            "\n",
            "\n",
            "Calculating similarity (b):\n",
            "Similarity Rn(wi, wj): PearsonRResult(statistic=-0.30165907913487017, pvalue=0.39696107456312424)\n",
            "\n",
            "\n",
            "Calculating similarity (c):\n",
            "Sum of squared neighbourhood similarities: 3.310602007484404\n",
            "\n",
            "\n",
            "-------------------------------------------\n",
            "Word Neighbourhood 'neighborhood' for Ν=10:\n",
            "-------------------------------------------\n",
            "Similarity Neighbourhood for Word 'neighborhood' of 10 items: [('bars', 0.8903534), ('quiet', 0.8883043), ('restaurants', 0.87131697), ('right', 0.8685057), ('close', 0.85918456), ('many', 0.8456186), ('street', 0.8455275), ('city', 0.83480597), ('located', 0.82864153), ('little', 0.80707383)]\n",
            "\n",
            "\n",
            "Similarity Neighbourhood for Word 'neighborhood' of 10 items: [('bars', 0.8903534), ('quiet', 0.8883043), ('restaurants', 0.87131697), ('right', 0.8685057), ('close', 0.85918456), ('many', 0.8456186), ('street', 0.8455275), ('city', 0.83480597), ('located', 0.82864153), ('little', 0.80707383)]\n",
            "\n",
            "\n",
            "Calculating Similarity (a):\n",
            "For word 'neighborhood': \n",
            "Similarity (neighborhood, close) : 0.8591845631599426\n",
            "Similarity (neighborhood, restaurants) : 0.8713169693946838\n",
            "Similarity (neighborhood, city) : 0.834805965423584\n",
            "Similarity (neighborhood, located) : 0.8286415338516235\n",
            "Similarity (neighborhood, quiet) : 0.8883042931556702\n",
            "Similarity (neighborhood, many) : 0.8456186056137085\n",
            "Similarity (neighborhood, street) : 0.8455275297164917\n",
            "Similarity (neighborhood, little) : 0.8070738315582275\n",
            "Similarity (neighborhood, right) : 0.8685057163238525\n",
            "Similarity (neighborhood, bars) : 0.8903533816337585\n",
            "\n",
            "\n",
            "For word 'neighborhood': \n",
            "Similarity (neighborhood, close) : 0.8591845631599426\n",
            "Similarity (neighborhood, restaurants) : 0.8713169693946838\n",
            "Similarity (neighborhood, city) : 0.834805965423584\n",
            "Similarity (neighborhood, located) : 0.8286415338516235\n",
            "Similarity (neighborhood, quiet) : 0.8883042931556702\n",
            "Similarity (neighborhood, many) : 0.8456186056137085\n",
            "Similarity (neighborhood, street) : 0.8455275297164917\n",
            "Similarity (neighborhood, little) : 0.8070738315582275\n",
            "Similarity (neighborhood, right) : 0.8685057163238525\n",
            "Similarity (neighborhood, bars) : 0.8903533816337585\n",
            "\n",
            "\n",
            "Similarity Max (neighborhood, bars) : 0.8903533816337585\n",
            "\n",
            "\n",
            "Calculating similarity (b):\n",
            "Similarity Rn(wi, wj): PearsonRResult(statistic=-0.12062650948230658, pvalue=0.7399356207247403)\n",
            "\n",
            "\n",
            "Calculating similarity (c):\n",
            "Sum of squared neighbourhood similarities: 3.82057870125078\n",
            "\n",
            "\n",
            "-------------------------------------------\n",
            "Word Neighbourhood 'station' for Ν=10:\n",
            "-------------------------------------------\n",
            "Similarity Neighbourhood for Word 'station' of 10 items: [('minutes', 0.9560606), ('walk', 0.94698095), ('away', 0.9306228), ('city', 0.8577521), ('close', 0.8531921), ('get', 0.8370787), ('right', 0.8361552), ('acropolis', 0.8118193), ('within', 0.80345577), ('around', 0.7861537)]\n",
            "\n",
            "\n",
            "Similarity Neighbourhood for Word 'station' of 10 items: [('minutes', 0.9560606), ('walk', 0.94698095), ('away', 0.9306228), ('city', 0.8577521), ('close', 0.8531921), ('get', 0.8370787), ('right', 0.8361552), ('acropolis', 0.8118193), ('within', 0.80345577), ('around', 0.7861537)]\n",
            "\n",
            "\n",
            "Calculating Similarity (a):\n",
            "For word 'station': \n",
            "Similarity (station, acropolis) : 0.811819314956665\n",
            "Similarity (station, walk) : 0.9469809532165527\n",
            "Similarity (station, close) : 0.8531920909881592\n",
            "Similarity (station, city) : 0.8577520847320557\n",
            "Similarity (station, around) : 0.7861536741256714\n",
            "Similarity (station, get) : 0.8370786905288696\n",
            "Similarity (station, minutes) : 0.9560605883598328\n",
            "Similarity (station, away) : 0.9306228160858154\n",
            "Similarity (station, right) : 0.8361551761627197\n",
            "Similarity (station, within) : 0.8034557700157166\n",
            "\n",
            "\n",
            "For word 'station': \n",
            "Similarity (station, acropolis) : 0.811819314956665\n",
            "Similarity (station, walk) : 0.9469809532165527\n",
            "Similarity (station, close) : 0.8531920909881592\n",
            "Similarity (station, city) : 0.8577520847320557\n",
            "Similarity (station, around) : 0.7861536741256714\n",
            "Similarity (station, get) : 0.8370786905288696\n",
            "Similarity (station, minutes) : 0.9560605883598328\n",
            "Similarity (station, away) : 0.9306228160858154\n",
            "Similarity (station, right) : 0.8361551761627197\n",
            "Similarity (station, within) : 0.8034557700157166\n",
            "\n",
            "\n",
            "Similarity Max (station, minutes) : 0.9560605883598328\n",
            "\n",
            "\n",
            "Calculating similarity (b):\n",
            "Similarity Rn(wi, wj): PearsonRResult(statistic=0.09696500652405657, pvalue=0.7898721350859799)\n",
            "\n",
            "\n",
            "Calculating similarity (c):\n",
            "Sum of squared neighbourhood similarities: 3.8634297120012664\n",
            "\n",
            "\n"
          ]
        }
      ]
    },
    {
      "cell_type": "markdown",
      "source": [
        "**Συμπέρασμα**"
      ],
      "metadata": {
        "id": "MELTKb7bL8_M"
      }
    },
    {
      "cell_type": "markdown",
      "source": [
        "Με την αύξηση της Παραμέτρου Ν παρατηρούμε ότι αυξάνεται το similarity (c) του αθροίσματος των τετραγώνων των similarities των λέξεων στις γειτονιές. Για Ν=3, οι τιμές για τις λέξεις 'home', 'neighborhood' και 'station' είναι 2.179, 2.163 και 2.314 αντίστοιχα. Για Ν=5, οι αντίστοιχες τιμές είναι 2.638, 2.769 και 2.878, ενώ για Ν=10, οι τιμές αυξάνονται περαιτέρω σε 3.311, 3.821 και 3.863. Από την άλλη, το similarity (b) παρουσιάζει μεικτές τάσεις. Για τη λέξη 'home', η τιμή του similarity (b) είναι -0.500 για Ν=3, 0.171 για Ν=5, και -0.302 για Ν=10. Για τη λέξη 'neighborhood', οι τιμές είναι -0.659 για Ν=3, -0.757 για Ν=5, και -0.121 για Ν=10. Για τη λέξη 'station', οι τιμές είναι 0.752 για Ν=3, -0.513 για Ν=5, και 0.097 για Ν=10. Όσον αφορά το similarity (a), οι μέγιστες τιμές για τη λέξη 'home' είναι 0.952, για τη λέξη 'neighborhood' είναι 0.890, και για τη λέξη 'station' είναι 0.956, ανεξαρτήτως του μεγέθους της γειτονιάς. Αυτές οι παρατηρήσεις δείχνουν ότι η αύξηση του μεγέθους της γειτονιάς επηρεάζει το συνολικό similarity, με τις τιμές να αυξάνονται σταθερά για το similarity (c), ενώ το similarity (b) παρουσιάζει μικρές διακυμάνσεις ανάλογα με τη λέξη και το μέγεθος της γειτονιάς."
      ],
      "metadata": {
        "id": "OP0dMgPPFrqd"
      }
    }
  ]
}